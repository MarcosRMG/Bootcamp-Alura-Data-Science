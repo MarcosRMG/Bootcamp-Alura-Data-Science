{
  "nbformat": 4,
  "nbformat_minor": 0,
  "metadata": {
    "colab": {
      "name": "Purchase",
      "provenance": [],
      "collapsed_sections": [],
      "authorship_tag": "ABX9TyNJiiFscp1ayzb5mBjd2UZj",
      "include_colab_link": true
    },
    "kernelspec": {
      "name": "python3",
      "display_name": "Python 3"
    }
  },
  "cells": [
    {
      "cell_type": "markdown",
      "metadata": {
        "id": "view-in-github",
        "colab_type": "text"
      },
      "source": [
        "<a href=\"https://colab.research.google.com/github/MarcosRMG/Bootecamp-Alura-Data-Science/blob/main/Purchase.ipynb\" target=\"_parent\"><img src=\"https://colab.research.google.com/assets/colab-badge.svg\" alt=\"Open In Colab\"/></a>"
      ]
    },
    {
      "cell_type": "markdown",
      "metadata": {
        "id": "-sx1_J5fPIVm"
      },
      "source": [
        "#Purchase List"
      ]
    },
    {
      "cell_type": "markdown",
      "metadata": {
        "id": "vrDOEU9hZ__u"
      },
      "source": [
        "##Functional Version"
      ]
    },
    {
      "cell_type": "code",
      "metadata": {
        "id": "gx2u-7jhRVlu"
      },
      "source": [
        "from time import sleep"
      ],
      "execution_count": null,
      "outputs": []
    },
    {
      "cell_type": "code",
      "metadata": {
        "id": "13TETy5-R99S"
      },
      "source": [
        "def purchase_list():\n",
        "  items = {}\n",
        "  while True:\n",
        "    option = menu()\n",
        "    if option == '1':\n",
        "      add_product(items)\n",
        "    elif option == '2':\n",
        "      visualize_items(items)\n",
        "    elif option == '3':\n",
        "      exit()\n",
        "      break\n",
        "    else:\n",
        "      print('Invalid Option, please try again!')\n",
        "\n",
        "\n",
        "def add_product(itens):\n",
        "  product = input('Product Description: ')\n",
        "  quantity = int(input('Quantity: '))\n",
        "  itens.update({product: quantity})\n",
        "  print(f'Item {product} add to list successfuly.')\n",
        "  sleep(1.5)  \n",
        "\n",
        "\n",
        "def visualize_items(items):\n",
        "  print('**************************')\n",
        "  print('Item: Quantity')\n",
        "  for item, quantity in items.items():\n",
        "    print(item + ':', quantity)\n",
        "  sleep(1.5)\n",
        "\n",
        "\n",
        "def exit():\n",
        "  print('Going out...')\n",
        "  sleep(2)\n",
        "  print('Come back always!')\n",
        "\n",
        "\n",
        "def menu():\n",
        "  while True:\n",
        "    print('**************************')\n",
        "    print('       Purchase List')\n",
        "    print('**************************')\n",
        "    option = input('''Options\n",
        "[1] Add item\n",
        "[2] Visualize List\n",
        "[3] Exit \n",
        "==> ''')\n",
        "    if option.isdigit():\n",
        "      return option\n",
        "    else:\n",
        "      print('Invalid input, please type again')\n",
        "      sleep(1.5)"
      ],
      "execution_count": null,
      "outputs": []
    },
    {
      "cell_type": "code",
      "metadata": {
        "id": "qRiFr3LGTeP1",
        "colab": {
          "base_uri": "https://localhost:8080/"
        },
        "outputId": "85794995-dab9-428f-8bd5-fb554d8ecceb"
      },
      "source": [
        "purchase_list()"
      ],
      "execution_count": null,
      "outputs": [
        {
          "output_type": "stream",
          "text": [
            "**************************\n",
            "       Purchase List\n",
            "**************************\n",
            "Options\n",
            "[1] Add item\n",
            "[2] Visualize List\n",
            "[3] Exit \n",
            "==> 1\n",
            "Product Description: Celular\n",
            "Quantity: 1\n",
            "Item Celular add to list successfuly.\n",
            "**************************\n",
            "       Purchase List\n",
            "**************************\n",
            "Options\n",
            "[1] Add item\n",
            "[2] Visualize List\n",
            "[3] Exit \n",
            "==> 1\n",
            "Product Description: Carregador\n",
            "Quantity: 1\n",
            "Item Carregador add to list successfuly.\n",
            "**************************\n",
            "       Purchase List\n",
            "**************************\n",
            "Options\n",
            "[1] Add item\n",
            "[2] Visualize List\n",
            "[3] Exit \n",
            "==> 2\n",
            "**************************\n",
            "Item: Quantity\n",
            "Celular: 1\n",
            "Carregador: 1\n",
            "**************************\n",
            "       Purchase List\n",
            "**************************\n",
            "Options\n",
            "[1] Add item\n",
            "[2] Visualize List\n",
            "[3] Exit \n",
            "==> 3\n",
            "Going out...\n",
            "Come back always!\n"
          ],
          "name": "stdout"
        }
      ]
    },
    {
      "cell_type": "markdown",
      "metadata": {
        "id": "d7qvw-476ZfG"
      },
      "source": [
        "#Object Oriented Programming Version"
      ]
    },
    {
      "cell_type": "code",
      "metadata": {
        "id": "l5m3hZ-L6fV2"
      },
      "source": [
        ""
      ],
      "execution_count": null,
      "outputs": []
    }
  ]
}