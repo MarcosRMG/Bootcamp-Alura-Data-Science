{
  "nbformat": 4,
  "nbformat_minor": 0,
  "metadata": {
    "colab": {
      "name": "Módulo 3: Analise descritiva e testes estatisticos",
      "provenance": [],
      "collapsed_sections": [],
      "toc_visible": true,
      "mount_file_id": "19iXtlZVYrjCrvbtaGirr8vn81E65e-zV",
      "authorship_tag": "ABX9TyNYSAUQ44+WAeSyhAkLneUF",
      "include_colab_link": true
    },
    "kernelspec": {
      "display_name": "Python 3",
      "name": "python3"
    }
  },
  "cells": [
    {
      "cell_type": "markdown",
      "metadata": {
        "id": "view-in-github",
        "colab_type": "text"
      },
      "source": [
        "<a href=\"https://colab.research.google.com/github/MarcosRMG/Bootecamp-Alura-Data-Science/blob/main/M%C3%B3dulo_3_Analise_descritiva_e_testes_estatisticos.ipynb\" target=\"_parent\"><img src=\"https://colab.research.google.com/assets/colab-badge.svg\" alt=\"Open In Colab\"/></a>"
      ]
    },
    {
      "cell_type": "markdown",
      "metadata": {
        "id": "cj3wy5m7YC_Y"
      },
      "source": [
        "Autor: Marcos Galvão\n",
        "\n",
        "[Linkedin](https://br.linkedin.com/in/marcosrmgalvao)\n",
        "\n",
        "[Github](https://github.com/MarcosRMG)"
      ]
    },
    {
      "cell_type": "markdown",
      "metadata": {
        "id": "_DtHsrhiR5VC"
      },
      "source": [
        "# **Bibliotecas**"
      ]
    },
    {
      "cell_type": "code",
      "metadata": {
        "colab": {
          "base_uri": "https://localhost:8080/"
        },
        "id": "E3SvZW5KwRzF",
        "outputId": "29a26dff-4e2b-4260-c2ca-ac51cddd9a13"
      },
      "source": [
        "import pandas as pd\n",
        "from zipfile import ZipFile\n",
        "import seaborn as sns\n",
        "import numpy as np\n",
        "import plotly.graph_objects as go\n",
        "import matplotlib.pyplot as plt\n",
        "import plotly.express as px\n",
        "import nltk\n",
        "nltk.download('punkt')\n",
        "nltk.download('averaged_perceptron_tagger')\n",
        "nltk.download('tagsets')"
      ],
      "execution_count": null,
      "outputs": [
        {
          "output_type": "stream",
          "text": [
            "[nltk_data] Downloading package punkt to /root/nltk_data...\n",
            "[nltk_data]   Package punkt is already up-to-date!\n",
            "[nltk_data] Downloading package averaged_perceptron_tagger to\n",
            "[nltk_data]     /root/nltk_data...\n",
            "[nltk_data]   Package averaged_perceptron_tagger is already up-to-\n",
            "[nltk_data]       date!\n",
            "[nltk_data] Downloading package tagsets to /root/nltk_data...\n",
            "[nltk_data]   Package tagsets is already up-to-date!\n"
          ],
          "name": "stdout"
        },
        {
          "output_type": "execute_result",
          "data": {
            "text/plain": [
              "True"
            ]
          },
          "metadata": {
            "tags": []
          },
          "execution_count": 1
        }
      ]
    },
    {
      "cell_type": "markdown",
      "metadata": {
        "id": "WqNtkENmUNH2"
      },
      "source": [
        "# **Dados**"
      ]
    },
    {
      "cell_type": "code",
      "metadata": {
        "id": "oT5HwE5Xv68T"
      },
      "source": [
        "caminho_drive = '/content/drive/MyDrive/Data Science/Bootcamp/Modulo 3/PeNSE_2015_AMOSTRA2.zip'\n",
        "\n",
        "zip = ZipFile(caminho_drive)\n",
        "caminho_zip = zip.namelist()[1]\n",
        "\n",
        "dados = pd.read_csv(zip.open(caminho_zip), sep=';', decimal=',')\n",
        "\n",
        "questionario_aluno_df = pd.read_excel('/content/drive/MyDrive/Data Science/Bootcamp/Modulo 3/Dicionario_PENSE_Microdados_AMOSTRA2.xls')"
      ],
      "execution_count": null,
      "outputs": []
    },
    {
      "cell_type": "code",
      "metadata": {
        "colab": {
          "base_uri": "https://localhost:8080/",
          "height": 35
        },
        "id": "SfiPTpOTw_KI",
        "outputId": "5f7c0dd5-9e80-4f32-d3ca-346d4deb3e0c"
      },
      "source": [
        "zip.namelist()[1]"
      ],
      "execution_count": null,
      "outputs": [
        {
          "output_type": "execute_result",
          "data": {
            "application/vnd.google.colaboratory.intrinsic+json": {
              "type": "string"
            },
            "text/plain": [
              "'arquivos csv/PENSE_AMOSTRA2_ALUNO.CSV'"
            ]
          },
          "metadata": {
            "tags": []
          },
          "execution_count": 3
        }
      ]
    },
    {
      "cell_type": "code",
      "metadata": {
        "colab": {
          "base_uri": "https://localhost:8080/",
          "height": 251
        },
        "id": "qKPRrE75x2Gx",
        "outputId": "a648dbce-5880-440b-bd8a-999e3357180f"
      },
      "source": [
        "dados.head()"
      ],
      "execution_count": null,
      "outputs": [
        {
          "output_type": "execute_result",
          "data": {
            "text/html": [
              "<div>\n",
              "<style scoped>\n",
              "    .dataframe tbody tr th:only-of-type {\n",
              "        vertical-align: middle;\n",
              "    }\n",
              "\n",
              "    .dataframe tbody tr th {\n",
              "        vertical-align: top;\n",
              "    }\n",
              "\n",
              "    .dataframe thead th {\n",
              "        text-align: right;\n",
              "    }\n",
              "</style>\n",
              "<table border=\"1\" class=\"dataframe\">\n",
              "  <thead>\n",
              "    <tr style=\"text-align: right;\">\n",
              "      <th></th>\n",
              "      <th>ANOPESQ</th>\n",
              "      <th>PAIS</th>\n",
              "      <th>REGEOGR</th>\n",
              "      <th>VB00004</th>\n",
              "      <th>VB01001</th>\n",
              "      <th>VB01002</th>\n",
              "      <th>VB01003</th>\n",
              "      <th>VB01004</th>\n",
              "      <th>VB01005</th>\n",
              "      <th>VB01006</th>\n",
              "      <th>VB01007</th>\n",
              "      <th>VB01008A</th>\n",
              "      <th>VB01010A</th>\n",
              "      <th>VB01011</th>\n",
              "      <th>VB01012</th>\n",
              "      <th>VB01013</th>\n",
              "      <th>VB01014</th>\n",
              "      <th>VB01015A</th>\n",
              "      <th>VB01016</th>\n",
              "      <th>VB01017</th>\n",
              "      <th>VB01018</th>\n",
              "      <th>VB01019</th>\n",
              "      <th>VB01020A</th>\n",
              "      <th>VB01021</th>\n",
              "      <th>VB01022</th>\n",
              "      <th>VB01023</th>\n",
              "      <th>VB01024</th>\n",
              "      <th>VB01025</th>\n",
              "      <th>VB01026</th>\n",
              "      <th>VB02001</th>\n",
              "      <th>VB02002</th>\n",
              "      <th>VB02004A</th>\n",
              "      <th>VB02010</th>\n",
              "      <th>VB02011</th>\n",
              "      <th>VB02013</th>\n",
              "      <th>VB02017A</th>\n",
              "      <th>VB02018A</th>\n",
              "      <th>VB02019A</th>\n",
              "      <th>VB02020A</th>\n",
              "      <th>VB02021</th>\n",
              "      <th>...</th>\n",
              "      <th>VB11005</th>\n",
              "      <th>VB11006</th>\n",
              "      <th>VB11007</th>\n",
              "      <th>VB12001</th>\n",
              "      <th>VB12002</th>\n",
              "      <th>VB12003</th>\n",
              "      <th>VB13001</th>\n",
              "      <th>VB13002A</th>\n",
              "      <th>VB13004A</th>\n",
              "      <th>VB13005</th>\n",
              "      <th>VB13006</th>\n",
              "      <th>VB13007</th>\n",
              "      <th>VB13008</th>\n",
              "      <th>VB13009</th>\n",
              "      <th>VB14001</th>\n",
              "      <th>VB14002</th>\n",
              "      <th>VB16001A01</th>\n",
              "      <th>VB16001A02</th>\n",
              "      <th>VB16001A03</th>\n",
              "      <th>VB16001A04</th>\n",
              "      <th>VB16001A05</th>\n",
              "      <th>VB16001A06</th>\n",
              "      <th>VB16001A07</th>\n",
              "      <th>VB16001A08</th>\n",
              "      <th>VB17001</th>\n",
              "      <th>VB17002</th>\n",
              "      <th>VB17003</th>\n",
              "      <th>VB17004</th>\n",
              "      <th>VB17005</th>\n",
              "      <th>VB17006</th>\n",
              "      <th>ESTRATO_EXP</th>\n",
              "      <th>ESTRATOGEOREG</th>\n",
              "      <th>PESO</th>\n",
              "      <th>V0006</th>\n",
              "      <th>V0007</th>\n",
              "      <th>V0008</th>\n",
              "      <th>V0041</th>\n",
              "      <th>aluno</th>\n",
              "      <th>escola</th>\n",
              "      <th>turma</th>\n",
              "    </tr>\n",
              "  </thead>\n",
              "  <tbody>\n",
              "    <tr>\n",
              "      <th>0</th>\n",
              "      <td>2015</td>\n",
              "      <td>76</td>\n",
              "      <td>1</td>\n",
              "      <td>1</td>\n",
              "      <td>2</td>\n",
              "      <td>1</td>\n",
              "      <td>13</td>\n",
              "      <td>7</td>\n",
              "      <td>7</td>\n",
              "      <td>1</td>\n",
              "      <td>2</td>\n",
              "      <td>7</td>\n",
              "      <td>3</td>\n",
              "      <td>2</td>\n",
              "      <td>-1</td>\n",
              "      <td>1</td>\n",
              "      <td>1</td>\n",
              "      <td>1</td>\n",
              "      <td>1</td>\n",
              "      <td>1</td>\n",
              "      <td>2</td>\n",
              "      <td>4</td>\n",
              "      <td>2</td>\n",
              "      <td>4</td>\n",
              "      <td>1</td>\n",
              "      <td>2</td>\n",
              "      <td>2</td>\n",
              "      <td>5</td>\n",
              "      <td>1</td>\n",
              "      <td>8</td>\n",
              "      <td>3</td>\n",
              "      <td>4</td>\n",
              "      <td>3</td>\n",
              "      <td>6</td>\n",
              "      <td>6</td>\n",
              "      <td>1</td>\n",
              "      <td>6</td>\n",
              "      <td>1</td>\n",
              "      <td>-1</td>\n",
              "      <td>2</td>\n",
              "      <td>...</td>\n",
              "      <td>2</td>\n",
              "      <td>1</td>\n",
              "      <td>2</td>\n",
              "      <td>1</td>\n",
              "      <td>1</td>\n",
              "      <td>4</td>\n",
              "      <td>2</td>\n",
              "      <td>-1</td>\n",
              "      <td>3</td>\n",
              "      <td>1</td>\n",
              "      <td>1</td>\n",
              "      <td>-1</td>\n",
              "      <td>1</td>\n",
              "      <td>1</td>\n",
              "      <td>2</td>\n",
              "      <td>2</td>\n",
              "      <td>1</td>\n",
              "      <td>2</td>\n",
              "      <td>2</td>\n",
              "      <td>2</td>\n",
              "      <td>2</td>\n",
              "      <td>2</td>\n",
              "      <td>2</td>\n",
              "      <td>2</td>\n",
              "      <td>371.0</td>\n",
              "      <td>1570.0</td>\n",
              "      <td>37.1</td>\n",
              "      <td>157.0</td>\n",
              "      <td>2</td>\n",
              "      <td>1</td>\n",
              "      <td>1223</td>\n",
              "      <td>1</td>\n",
              "      <td>299.735235</td>\n",
              "      <td>1</td>\n",
              "      <td>2</td>\n",
              "      <td>4</td>\n",
              "      <td>1</td>\n",
              "      <td>1</td>\n",
              "      <td>1</td>\n",
              "      <td>296</td>\n",
              "    </tr>\n",
              "    <tr>\n",
              "      <th>1</th>\n",
              "      <td>2015</td>\n",
              "      <td>76</td>\n",
              "      <td>1</td>\n",
              "      <td>1</td>\n",
              "      <td>2</td>\n",
              "      <td>1</td>\n",
              "      <td>14</td>\n",
              "      <td>4</td>\n",
              "      <td>7</td>\n",
              "      <td>1</td>\n",
              "      <td>1</td>\n",
              "      <td>7</td>\n",
              "      <td>3</td>\n",
              "      <td>2</td>\n",
              "      <td>-1</td>\n",
              "      <td>1</td>\n",
              "      <td>1</td>\n",
              "      <td>1</td>\n",
              "      <td>1</td>\n",
              "      <td>1</td>\n",
              "      <td>2</td>\n",
              "      <td>2</td>\n",
              "      <td>2</td>\n",
              "      <td>4</td>\n",
              "      <td>1</td>\n",
              "      <td>2</td>\n",
              "      <td>2</td>\n",
              "      <td>5</td>\n",
              "      <td>3</td>\n",
              "      <td>8</td>\n",
              "      <td>2</td>\n",
              "      <td>1</td>\n",
              "      <td>8</td>\n",
              "      <td>8</td>\n",
              "      <td>6</td>\n",
              "      <td>1</td>\n",
              "      <td>1</td>\n",
              "      <td>5</td>\n",
              "      <td>-1</td>\n",
              "      <td>2</td>\n",
              "      <td>...</td>\n",
              "      <td>2</td>\n",
              "      <td>3</td>\n",
              "      <td>2</td>\n",
              "      <td>4</td>\n",
              "      <td>4</td>\n",
              "      <td>4</td>\n",
              "      <td>1</td>\n",
              "      <td>2</td>\n",
              "      <td>3</td>\n",
              "      <td>3</td>\n",
              "      <td>1</td>\n",
              "      <td>-1</td>\n",
              "      <td>1</td>\n",
              "      <td>1</td>\n",
              "      <td>2</td>\n",
              "      <td>2</td>\n",
              "      <td>2</td>\n",
              "      <td>2</td>\n",
              "      <td>2</td>\n",
              "      <td>1</td>\n",
              "      <td>2</td>\n",
              "      <td>2</td>\n",
              "      <td>2</td>\n",
              "      <td>2</td>\n",
              "      <td>502.0</td>\n",
              "      <td>1520.0</td>\n",
              "      <td>50.2</td>\n",
              "      <td>152.0</td>\n",
              "      <td>2</td>\n",
              "      <td>2</td>\n",
              "      <td>1223</td>\n",
              "      <td>1</td>\n",
              "      <td>355.170081</td>\n",
              "      <td>1</td>\n",
              "      <td>2</td>\n",
              "      <td>4</td>\n",
              "      <td>1</td>\n",
              "      <td>2</td>\n",
              "      <td>1</td>\n",
              "      <td>296</td>\n",
              "    </tr>\n",
              "    <tr>\n",
              "      <th>2</th>\n",
              "      <td>2015</td>\n",
              "      <td>76</td>\n",
              "      <td>1</td>\n",
              "      <td>1</td>\n",
              "      <td>1</td>\n",
              "      <td>4</td>\n",
              "      <td>13</td>\n",
              "      <td>6</td>\n",
              "      <td>7</td>\n",
              "      <td>1</td>\n",
              "      <td>1</td>\n",
              "      <td>5</td>\n",
              "      <td>5</td>\n",
              "      <td>2</td>\n",
              "      <td>-1</td>\n",
              "      <td>2</td>\n",
              "      <td>1</td>\n",
              "      <td>1</td>\n",
              "      <td>1</td>\n",
              "      <td>1</td>\n",
              "      <td>2</td>\n",
              "      <td>3</td>\n",
              "      <td>1</td>\n",
              "      <td>4</td>\n",
              "      <td>1</td>\n",
              "      <td>2</td>\n",
              "      <td>2</td>\n",
              "      <td>5</td>\n",
              "      <td>3</td>\n",
              "      <td>2</td>\n",
              "      <td>3</td>\n",
              "      <td>1</td>\n",
              "      <td>8</td>\n",
              "      <td>2</td>\n",
              "      <td>8</td>\n",
              "      <td>1</td>\n",
              "      <td>1</td>\n",
              "      <td>5</td>\n",
              "      <td>5</td>\n",
              "      <td>1</td>\n",
              "      <td>...</td>\n",
              "      <td>2</td>\n",
              "      <td>1</td>\n",
              "      <td>2</td>\n",
              "      <td>1</td>\n",
              "      <td>2</td>\n",
              "      <td>3</td>\n",
              "      <td>1</td>\n",
              "      <td>2</td>\n",
              "      <td>1</td>\n",
              "      <td>2</td>\n",
              "      <td>5</td>\n",
              "      <td>99</td>\n",
              "      <td>1</td>\n",
              "      <td>-1</td>\n",
              "      <td>2</td>\n",
              "      <td>2</td>\n",
              "      <td>1</td>\n",
              "      <td>1</td>\n",
              "      <td>1</td>\n",
              "      <td>1</td>\n",
              "      <td>1</td>\n",
              "      <td>1</td>\n",
              "      <td>1</td>\n",
              "      <td>1</td>\n",
              "      <td>482.0</td>\n",
              "      <td>1614.0</td>\n",
              "      <td>48.2</td>\n",
              "      <td>161.4</td>\n",
              "      <td>2</td>\n",
              "      <td>2</td>\n",
              "      <td>1223</td>\n",
              "      <td>1</td>\n",
              "      <td>299.735235</td>\n",
              "      <td>1</td>\n",
              "      <td>2</td>\n",
              "      <td>4</td>\n",
              "      <td>1</td>\n",
              "      <td>3</td>\n",
              "      <td>1</td>\n",
              "      <td>296</td>\n",
              "    </tr>\n",
              "    <tr>\n",
              "      <th>3</th>\n",
              "      <td>2015</td>\n",
              "      <td>76</td>\n",
              "      <td>1</td>\n",
              "      <td>1</td>\n",
              "      <td>1</td>\n",
              "      <td>1</td>\n",
              "      <td>14</td>\n",
              "      <td>6</td>\n",
              "      <td>7</td>\n",
              "      <td>1</td>\n",
              "      <td>1</td>\n",
              "      <td>7</td>\n",
              "      <td>4</td>\n",
              "      <td>2</td>\n",
              "      <td>-1</td>\n",
              "      <td>1</td>\n",
              "      <td>1</td>\n",
              "      <td>1</td>\n",
              "      <td>1</td>\n",
              "      <td>1</td>\n",
              "      <td>2</td>\n",
              "      <td>4</td>\n",
              "      <td>2</td>\n",
              "      <td>4</td>\n",
              "      <td>1</td>\n",
              "      <td>2</td>\n",
              "      <td>2</td>\n",
              "      <td>6</td>\n",
              "      <td>3</td>\n",
              "      <td>2</td>\n",
              "      <td>4</td>\n",
              "      <td>1</td>\n",
              "      <td>3</td>\n",
              "      <td>2</td>\n",
              "      <td>7</td>\n",
              "      <td>1</td>\n",
              "      <td>5</td>\n",
              "      <td>1</td>\n",
              "      <td>-1</td>\n",
              "      <td>2</td>\n",
              "      <td>...</td>\n",
              "      <td>2</td>\n",
              "      <td>1</td>\n",
              "      <td>2</td>\n",
              "      <td>2</td>\n",
              "      <td>2</td>\n",
              "      <td>4</td>\n",
              "      <td>1</td>\n",
              "      <td>10</td>\n",
              "      <td>3</td>\n",
              "      <td>1</td>\n",
              "      <td>2</td>\n",
              "      <td>-1</td>\n",
              "      <td>1</td>\n",
              "      <td>-1</td>\n",
              "      <td>2</td>\n",
              "      <td>2</td>\n",
              "      <td>1</td>\n",
              "      <td>2</td>\n",
              "      <td>2</td>\n",
              "      <td>2</td>\n",
              "      <td>1</td>\n",
              "      <td>2</td>\n",
              "      <td>2</td>\n",
              "      <td>2</td>\n",
              "      <td>694.0</td>\n",
              "      <td>1725.0</td>\n",
              "      <td>69.4</td>\n",
              "      <td>172.5</td>\n",
              "      <td>2</td>\n",
              "      <td>3</td>\n",
              "      <td>1223</td>\n",
              "      <td>1</td>\n",
              "      <td>355.170081</td>\n",
              "      <td>1</td>\n",
              "      <td>2</td>\n",
              "      <td>4</td>\n",
              "      <td>1</td>\n",
              "      <td>4</td>\n",
              "      <td>1</td>\n",
              "      <td>296</td>\n",
              "    </tr>\n",
              "    <tr>\n",
              "      <th>4</th>\n",
              "      <td>2015</td>\n",
              "      <td>76</td>\n",
              "      <td>1</td>\n",
              "      <td>1</td>\n",
              "      <td>1</td>\n",
              "      <td>1</td>\n",
              "      <td>13</td>\n",
              "      <td>9</td>\n",
              "      <td>7</td>\n",
              "      <td>1</td>\n",
              "      <td>2</td>\n",
              "      <td>5</td>\n",
              "      <td>4</td>\n",
              "      <td>2</td>\n",
              "      <td>-1</td>\n",
              "      <td>2</td>\n",
              "      <td>1</td>\n",
              "      <td>1</td>\n",
              "      <td>1</td>\n",
              "      <td>1</td>\n",
              "      <td>2</td>\n",
              "      <td>5</td>\n",
              "      <td>1</td>\n",
              "      <td>4</td>\n",
              "      <td>1</td>\n",
              "      <td>2</td>\n",
              "      <td>2</td>\n",
              "      <td>6</td>\n",
              "      <td>5</td>\n",
              "      <td>6</td>\n",
              "      <td>3</td>\n",
              "      <td>5</td>\n",
              "      <td>2</td>\n",
              "      <td>6</td>\n",
              "      <td>2</td>\n",
              "      <td>1</td>\n",
              "      <td>5</td>\n",
              "      <td>1</td>\n",
              "      <td>5</td>\n",
              "      <td>1</td>\n",
              "      <td>...</td>\n",
              "      <td>2</td>\n",
              "      <td>1</td>\n",
              "      <td>4</td>\n",
              "      <td>2</td>\n",
              "      <td>2</td>\n",
              "      <td>4</td>\n",
              "      <td>1</td>\n",
              "      <td>3</td>\n",
              "      <td>2</td>\n",
              "      <td>2</td>\n",
              "      <td>2</td>\n",
              "      <td>13</td>\n",
              "      <td>1</td>\n",
              "      <td>-1</td>\n",
              "      <td>1</td>\n",
              "      <td>2</td>\n",
              "      <td>1</td>\n",
              "      <td>1</td>\n",
              "      <td>1</td>\n",
              "      <td>1</td>\n",
              "      <td>1</td>\n",
              "      <td>1</td>\n",
              "      <td>1</td>\n",
              "      <td>1</td>\n",
              "      <td>789.0</td>\n",
              "      <td>1675.0</td>\n",
              "      <td>78.9</td>\n",
              "      <td>167.5</td>\n",
              "      <td>2</td>\n",
              "      <td>4</td>\n",
              "      <td>1223</td>\n",
              "      <td>1</td>\n",
              "      <td>299.735235</td>\n",
              "      <td>1</td>\n",
              "      <td>2</td>\n",
              "      <td>4</td>\n",
              "      <td>1</td>\n",
              "      <td>5</td>\n",
              "      <td>1</td>\n",
              "      <td>296</td>\n",
              "    </tr>\n",
              "  </tbody>\n",
              "</table>\n",
              "<p>5 rows × 181 columns</p>\n",
              "</div>"
            ],
            "text/plain": [
              "   ANOPESQ  PAIS  REGEOGR  VB00004  VB01001  ...  V0008  V0041  aluno  escola  turma\n",
              "0     2015    76        1        1        2  ...      4      1      1       1    296\n",
              "1     2015    76        1        1        2  ...      4      1      2       1    296\n",
              "2     2015    76        1        1        1  ...      4      1      3       1    296\n",
              "3     2015    76        1        1        1  ...      4      1      4       1    296\n",
              "4     2015    76        1        1        1  ...      4      1      5       1    296\n",
              "\n",
              "[5 rows x 181 columns]"
            ]
          },
          "metadata": {
            "tags": []
          },
          "execution_count": 4
        }
      ]
    },
    {
      "cell_type": "code",
      "metadata": {
        "colab": {
          "base_uri": "https://localhost:8080/"
        },
        "id": "eAmcdaAWx4SH",
        "outputId": "ee13eee5-85f8-41f0-a33d-bb7102e56057"
      },
      "source": [
        "dados.shape"
      ],
      "execution_count": null,
      "outputs": [
        {
          "output_type": "execute_result",
          "data": {
            "text/plain": [
              "(16556, 181)"
            ]
          },
          "metadata": {
            "tags": []
          },
          "execution_count": 5
        }
      ]
    },
    {
      "cell_type": "code",
      "metadata": {
        "colab": {
          "base_uri": "https://localhost:8080/"
        },
        "id": "OesiA6_Zx6B7",
        "outputId": "9a221209-f1d8-4dc9-ab44-570a443885c0"
      },
      "source": [
        "dados.info()"
      ],
      "execution_count": null,
      "outputs": [
        {
          "output_type": "stream",
          "text": [
            "<class 'pandas.core.frame.DataFrame'>\n",
            "RangeIndex: 16556 entries, 0 to 16555\n",
            "Columns: 181 entries, ANOPESQ to turma\n",
            "dtypes: float64(10), int64(171)\n",
            "memory usage: 22.9 MB\n"
          ],
          "name": "stdout"
        }
      ]
    },
    {
      "cell_type": "markdown",
      "metadata": {
        "id": "9cw8V9rZcr6_"
      },
      "source": [
        "# **1 Educação, saúde e tipos de dados**"
      ]
    },
    {
      "cell_type": "markdown",
      "metadata": {
        "id": "BHiVaVH3m2zX"
      },
      "source": [
        "##Desafio 01 - Descompactar a pasta zipada usando outro método (Dica Allan, é utilizar comandos Bash)."
      ]
    },
    {
      "cell_type": "markdown",
      "metadata": {
        "id": "yNLN1FOX1gF1"
      },
      "source": [
        "Utilizando o comando unzip e passando o endereço do arquivo zipado é possível fazer a descompactação. \n",
        "\n",
        "!unzip arquivo - descompacta\n",
        "!unzip -l arquivo - mostra os arquivos dentro da pasta"
      ]
    },
    {
      "cell_type": "code",
      "metadata": {
        "colab": {
          "base_uri": "https://localhost:8080/"
        },
        "id": "7o_WQt060T9t",
        "outputId": "6889725e-7c0c-4e43-9552-edb5407013d4"
      },
      "source": [
        "#Visualizacao\n",
        "! unzip -l drive/MyDrive/Data\\ Science/Bootcamp/'Modulo 3'/PeNSE_2015_AMOSTRA2.zip"
      ],
      "execution_count": null,
      "outputs": [
        {
          "output_type": "stream",
          "text": [
            "Archive:  drive/MyDrive/Data Science/Bootcamp/Modulo 3/PeNSE_2015_AMOSTRA2.zip\n",
            "  Length      Date    Time    Name\n",
            "---------  ---------- -----   ----\n",
            "        0  2018-03-19 11:42   arquivos csv/\n",
            "  7262170  2018-03-19 11:26   arquivos csv/PENSE_AMOSTRA2_ALUNO.CSV\n",
            " 11420533  2018-03-19 11:28   arquivos csv/PENSE_AMOSTRA2_ALUNOESCOLA.CSV\n",
            "  5000642  2018-03-19 11:28   arquivos csv/PENSE_AMOSTRA2_ESCOLA.CSV\n",
            "        0  2018-03-19 11:43   arquivos sas/\n",
            " 24691712  2018-03-19 11:19   arquivos sas/pense_amostra2_aluno.sas7bdat\n",
            " 45253632  2018-03-19 11:19   arquivos sas/pense_amostra2_alunoescola.sas7bdat\n",
            " 18105344  2018-03-19 11:19   arquivos sas/pense_amostra2_escola.sas7bdat\n",
            "        0  2018-03-19 11:46   arquivos xlsx/\n",
            " 11757246  2018-03-19 11:25   arquivos xlsx/PENSE_AMOSTRA2_ALUNO.xlsx\n",
            " 18732739  2018-03-19 11:27   arquivos xlsx/PENSE_AMOSTRA2_ALUNOESCOLA.xlsx\n",
            "  7159579  2018-03-19 11:28   arquivos xlsx/PENSE_AMOSTRA2_ESCOLA.xlsx\n",
            "   144896  2018-04-18 10:40   Dicionario_PENSE_Microdados_AMOSTRA2.xls\n",
            "---------                     -------\n",
            "149528493                     13 files\n"
          ],
          "name": "stdout"
        }
      ]
    },
    {
      "cell_type": "markdown",
      "metadata": {
        "id": "GkLKJgdZm6Yv"
      },
      "source": [
        "##Desafio 02 - Estudar sobre a base de dados que vamos trabalhar. (PeNSE - 2015 Amostra 2)"
      ]
    },
    {
      "cell_type": "markdown",
      "metadata": {
        "id": "RWzB1RegneWT"
      },
      "source": [
        "A Pesquisa Nacional de Saúde do Escolar - PeNSE é uma pesquisa por amostragem tendo como base o cadastro das escolas públicas e privadas do Instituto Nacional de Estudos e Pesquisas Educacionais Anísio Teixeira -  INEP. \n",
        "A coleta de dados é eventual e foi realizada nos anos de 2009, 2012 e 2015 por meio da parceria com o Ministério da Saúde e apoio do Ministério da Educação. \n",
        "A pesquisa tem como objetivo o fornecimento de informação para monitoramento por parte do Sistema de Vigilância de Fatores de Risco de Doênças Crônicas não Transmissíveis do Ministério da Saúde.\n",
        "\n",
        "A segunda amostra referem-se a \"dados passíveis de comparação com indicadores nacionais e internacionais sobre adolescentes e possibilita, entre outros aspectos, melhor identificação e acompanhamento de fatores relacionados ao desenvolvimento físico-biológico e ao tempo de exposição às condições de risco para esse grupo\" (IBGE, 2020).\n",
        "\n",
        "Amostra: \"Escolares na faixa etária de 13 a 17 anos (frequentando as etapas do 6º ao 9º ano do ensino fundamental e da 1ª a 3ª série do ensino médio)\" (IBGE, 2020).\n",
        "\n",
        "\n",
        "Referência: IBGE. Pesquisa Nacional de Saúde do Escolar - PeNSE. Disponível em: https://www.ibge.gov.br/estatisticas/sociais/educacao/9134-pesquisa-nacional-de-saude-do-escolar.html?=&t=o-que-e. Acesso em: 02 Dez. 2020."
      ]
    },
    {
      "cell_type": "markdown",
      "metadata": {
        "id": "cI0qT3wzm97Y"
      },
      "source": [
        "##Desafio 03 - Classificar algumas perguntas como QualitativaXQuantitativa"
      ]
    },
    {
      "cell_type": "code",
      "metadata": {
        "colab": {
          "base_uri": "https://localhost:8080/",
          "height": 251
        },
        "id": "8td7QcFIccqY",
        "outputId": "afc603f9-cc26-4a25-cb0d-a91a8b84af3b"
      },
      "source": [
        "dados.head()"
      ],
      "execution_count": null,
      "outputs": [
        {
          "output_type": "execute_result",
          "data": {
            "text/html": [
              "<div>\n",
              "<style scoped>\n",
              "    .dataframe tbody tr th:only-of-type {\n",
              "        vertical-align: middle;\n",
              "    }\n",
              "\n",
              "    .dataframe tbody tr th {\n",
              "        vertical-align: top;\n",
              "    }\n",
              "\n",
              "    .dataframe thead th {\n",
              "        text-align: right;\n",
              "    }\n",
              "</style>\n",
              "<table border=\"1\" class=\"dataframe\">\n",
              "  <thead>\n",
              "    <tr style=\"text-align: right;\">\n",
              "      <th></th>\n",
              "      <th>ANOPESQ</th>\n",
              "      <th>PAIS</th>\n",
              "      <th>REGEOGR</th>\n",
              "      <th>VB00004</th>\n",
              "      <th>VB01001</th>\n",
              "      <th>VB01002</th>\n",
              "      <th>VB01003</th>\n",
              "      <th>VB01004</th>\n",
              "      <th>VB01005</th>\n",
              "      <th>VB01006</th>\n",
              "      <th>VB01007</th>\n",
              "      <th>VB01008A</th>\n",
              "      <th>VB01010A</th>\n",
              "      <th>VB01011</th>\n",
              "      <th>VB01012</th>\n",
              "      <th>VB01013</th>\n",
              "      <th>VB01014</th>\n",
              "      <th>VB01015A</th>\n",
              "      <th>VB01016</th>\n",
              "      <th>VB01017</th>\n",
              "      <th>VB01018</th>\n",
              "      <th>VB01019</th>\n",
              "      <th>VB01020A</th>\n",
              "      <th>VB01021</th>\n",
              "      <th>VB01022</th>\n",
              "      <th>VB01023</th>\n",
              "      <th>VB01024</th>\n",
              "      <th>VB01025</th>\n",
              "      <th>VB01026</th>\n",
              "      <th>VB02001</th>\n",
              "      <th>VB02002</th>\n",
              "      <th>VB02004A</th>\n",
              "      <th>VB02010</th>\n",
              "      <th>VB02011</th>\n",
              "      <th>VB02013</th>\n",
              "      <th>VB02017A</th>\n",
              "      <th>VB02018A</th>\n",
              "      <th>VB02019A</th>\n",
              "      <th>VB02020A</th>\n",
              "      <th>VB02021</th>\n",
              "      <th>...</th>\n",
              "      <th>VB11005</th>\n",
              "      <th>VB11006</th>\n",
              "      <th>VB11007</th>\n",
              "      <th>VB12001</th>\n",
              "      <th>VB12002</th>\n",
              "      <th>VB12003</th>\n",
              "      <th>VB13001</th>\n",
              "      <th>VB13002A</th>\n",
              "      <th>VB13004A</th>\n",
              "      <th>VB13005</th>\n",
              "      <th>VB13006</th>\n",
              "      <th>VB13007</th>\n",
              "      <th>VB13008</th>\n",
              "      <th>VB13009</th>\n",
              "      <th>VB14001</th>\n",
              "      <th>VB14002</th>\n",
              "      <th>VB16001A01</th>\n",
              "      <th>VB16001A02</th>\n",
              "      <th>VB16001A03</th>\n",
              "      <th>VB16001A04</th>\n",
              "      <th>VB16001A05</th>\n",
              "      <th>VB16001A06</th>\n",
              "      <th>VB16001A07</th>\n",
              "      <th>VB16001A08</th>\n",
              "      <th>VB17001</th>\n",
              "      <th>VB17002</th>\n",
              "      <th>VB17003</th>\n",
              "      <th>VB17004</th>\n",
              "      <th>VB17005</th>\n",
              "      <th>VB17006</th>\n",
              "      <th>ESTRATO_EXP</th>\n",
              "      <th>ESTRATOGEOREG</th>\n",
              "      <th>PESO</th>\n",
              "      <th>V0006</th>\n",
              "      <th>V0007</th>\n",
              "      <th>V0008</th>\n",
              "      <th>V0041</th>\n",
              "      <th>aluno</th>\n",
              "      <th>escola</th>\n",
              "      <th>turma</th>\n",
              "    </tr>\n",
              "  </thead>\n",
              "  <tbody>\n",
              "    <tr>\n",
              "      <th>0</th>\n",
              "      <td>2015</td>\n",
              "      <td>76</td>\n",
              "      <td>1</td>\n",
              "      <td>1</td>\n",
              "      <td>2</td>\n",
              "      <td>1</td>\n",
              "      <td>13</td>\n",
              "      <td>7</td>\n",
              "      <td>7</td>\n",
              "      <td>1</td>\n",
              "      <td>2</td>\n",
              "      <td>7</td>\n",
              "      <td>3</td>\n",
              "      <td>2</td>\n",
              "      <td>-1</td>\n",
              "      <td>1</td>\n",
              "      <td>1</td>\n",
              "      <td>1</td>\n",
              "      <td>1</td>\n",
              "      <td>1</td>\n",
              "      <td>2</td>\n",
              "      <td>4</td>\n",
              "      <td>2</td>\n",
              "      <td>4</td>\n",
              "      <td>1</td>\n",
              "      <td>2</td>\n",
              "      <td>2</td>\n",
              "      <td>5</td>\n",
              "      <td>1</td>\n",
              "      <td>8</td>\n",
              "      <td>3</td>\n",
              "      <td>4</td>\n",
              "      <td>3</td>\n",
              "      <td>6</td>\n",
              "      <td>6</td>\n",
              "      <td>1</td>\n",
              "      <td>6</td>\n",
              "      <td>1</td>\n",
              "      <td>-1</td>\n",
              "      <td>2</td>\n",
              "      <td>...</td>\n",
              "      <td>2</td>\n",
              "      <td>1</td>\n",
              "      <td>2</td>\n",
              "      <td>1</td>\n",
              "      <td>1</td>\n",
              "      <td>4</td>\n",
              "      <td>2</td>\n",
              "      <td>-1</td>\n",
              "      <td>3</td>\n",
              "      <td>1</td>\n",
              "      <td>1</td>\n",
              "      <td>-1</td>\n",
              "      <td>1</td>\n",
              "      <td>1</td>\n",
              "      <td>2</td>\n",
              "      <td>2</td>\n",
              "      <td>1</td>\n",
              "      <td>2</td>\n",
              "      <td>2</td>\n",
              "      <td>2</td>\n",
              "      <td>2</td>\n",
              "      <td>2</td>\n",
              "      <td>2</td>\n",
              "      <td>2</td>\n",
              "      <td>371.0</td>\n",
              "      <td>1570.0</td>\n",
              "      <td>37.1</td>\n",
              "      <td>157.0</td>\n",
              "      <td>2</td>\n",
              "      <td>1</td>\n",
              "      <td>1223</td>\n",
              "      <td>1</td>\n",
              "      <td>299.735235</td>\n",
              "      <td>1</td>\n",
              "      <td>2</td>\n",
              "      <td>4</td>\n",
              "      <td>1</td>\n",
              "      <td>1</td>\n",
              "      <td>1</td>\n",
              "      <td>296</td>\n",
              "    </tr>\n",
              "    <tr>\n",
              "      <th>1</th>\n",
              "      <td>2015</td>\n",
              "      <td>76</td>\n",
              "      <td>1</td>\n",
              "      <td>1</td>\n",
              "      <td>2</td>\n",
              "      <td>1</td>\n",
              "      <td>14</td>\n",
              "      <td>4</td>\n",
              "      <td>7</td>\n",
              "      <td>1</td>\n",
              "      <td>1</td>\n",
              "      <td>7</td>\n",
              "      <td>3</td>\n",
              "      <td>2</td>\n",
              "      <td>-1</td>\n",
              "      <td>1</td>\n",
              "      <td>1</td>\n",
              "      <td>1</td>\n",
              "      <td>1</td>\n",
              "      <td>1</td>\n",
              "      <td>2</td>\n",
              "      <td>2</td>\n",
              "      <td>2</td>\n",
              "      <td>4</td>\n",
              "      <td>1</td>\n",
              "      <td>2</td>\n",
              "      <td>2</td>\n",
              "      <td>5</td>\n",
              "      <td>3</td>\n",
              "      <td>8</td>\n",
              "      <td>2</td>\n",
              "      <td>1</td>\n",
              "      <td>8</td>\n",
              "      <td>8</td>\n",
              "      <td>6</td>\n",
              "      <td>1</td>\n",
              "      <td>1</td>\n",
              "      <td>5</td>\n",
              "      <td>-1</td>\n",
              "      <td>2</td>\n",
              "      <td>...</td>\n",
              "      <td>2</td>\n",
              "      <td>3</td>\n",
              "      <td>2</td>\n",
              "      <td>4</td>\n",
              "      <td>4</td>\n",
              "      <td>4</td>\n",
              "      <td>1</td>\n",
              "      <td>2</td>\n",
              "      <td>3</td>\n",
              "      <td>3</td>\n",
              "      <td>1</td>\n",
              "      <td>-1</td>\n",
              "      <td>1</td>\n",
              "      <td>1</td>\n",
              "      <td>2</td>\n",
              "      <td>2</td>\n",
              "      <td>2</td>\n",
              "      <td>2</td>\n",
              "      <td>2</td>\n",
              "      <td>1</td>\n",
              "      <td>2</td>\n",
              "      <td>2</td>\n",
              "      <td>2</td>\n",
              "      <td>2</td>\n",
              "      <td>502.0</td>\n",
              "      <td>1520.0</td>\n",
              "      <td>50.2</td>\n",
              "      <td>152.0</td>\n",
              "      <td>2</td>\n",
              "      <td>2</td>\n",
              "      <td>1223</td>\n",
              "      <td>1</td>\n",
              "      <td>355.170081</td>\n",
              "      <td>1</td>\n",
              "      <td>2</td>\n",
              "      <td>4</td>\n",
              "      <td>1</td>\n",
              "      <td>2</td>\n",
              "      <td>1</td>\n",
              "      <td>296</td>\n",
              "    </tr>\n",
              "    <tr>\n",
              "      <th>2</th>\n",
              "      <td>2015</td>\n",
              "      <td>76</td>\n",
              "      <td>1</td>\n",
              "      <td>1</td>\n",
              "      <td>1</td>\n",
              "      <td>4</td>\n",
              "      <td>13</td>\n",
              "      <td>6</td>\n",
              "      <td>7</td>\n",
              "      <td>1</td>\n",
              "      <td>1</td>\n",
              "      <td>5</td>\n",
              "      <td>5</td>\n",
              "      <td>2</td>\n",
              "      <td>-1</td>\n",
              "      <td>2</td>\n",
              "      <td>1</td>\n",
              "      <td>1</td>\n",
              "      <td>1</td>\n",
              "      <td>1</td>\n",
              "      <td>2</td>\n",
              "      <td>3</td>\n",
              "      <td>1</td>\n",
              "      <td>4</td>\n",
              "      <td>1</td>\n",
              "      <td>2</td>\n",
              "      <td>2</td>\n",
              "      <td>5</td>\n",
              "      <td>3</td>\n",
              "      <td>2</td>\n",
              "      <td>3</td>\n",
              "      <td>1</td>\n",
              "      <td>8</td>\n",
              "      <td>2</td>\n",
              "      <td>8</td>\n",
              "      <td>1</td>\n",
              "      <td>1</td>\n",
              "      <td>5</td>\n",
              "      <td>5</td>\n",
              "      <td>1</td>\n",
              "      <td>...</td>\n",
              "      <td>2</td>\n",
              "      <td>1</td>\n",
              "      <td>2</td>\n",
              "      <td>1</td>\n",
              "      <td>2</td>\n",
              "      <td>3</td>\n",
              "      <td>1</td>\n",
              "      <td>2</td>\n",
              "      <td>1</td>\n",
              "      <td>2</td>\n",
              "      <td>5</td>\n",
              "      <td>99</td>\n",
              "      <td>1</td>\n",
              "      <td>-1</td>\n",
              "      <td>2</td>\n",
              "      <td>2</td>\n",
              "      <td>1</td>\n",
              "      <td>1</td>\n",
              "      <td>1</td>\n",
              "      <td>1</td>\n",
              "      <td>1</td>\n",
              "      <td>1</td>\n",
              "      <td>1</td>\n",
              "      <td>1</td>\n",
              "      <td>482.0</td>\n",
              "      <td>1614.0</td>\n",
              "      <td>48.2</td>\n",
              "      <td>161.4</td>\n",
              "      <td>2</td>\n",
              "      <td>2</td>\n",
              "      <td>1223</td>\n",
              "      <td>1</td>\n",
              "      <td>299.735235</td>\n",
              "      <td>1</td>\n",
              "      <td>2</td>\n",
              "      <td>4</td>\n",
              "      <td>1</td>\n",
              "      <td>3</td>\n",
              "      <td>1</td>\n",
              "      <td>296</td>\n",
              "    </tr>\n",
              "    <tr>\n",
              "      <th>3</th>\n",
              "      <td>2015</td>\n",
              "      <td>76</td>\n",
              "      <td>1</td>\n",
              "      <td>1</td>\n",
              "      <td>1</td>\n",
              "      <td>1</td>\n",
              "      <td>14</td>\n",
              "      <td>6</td>\n",
              "      <td>7</td>\n",
              "      <td>1</td>\n",
              "      <td>1</td>\n",
              "      <td>7</td>\n",
              "      <td>4</td>\n",
              "      <td>2</td>\n",
              "      <td>-1</td>\n",
              "      <td>1</td>\n",
              "      <td>1</td>\n",
              "      <td>1</td>\n",
              "      <td>1</td>\n",
              "      <td>1</td>\n",
              "      <td>2</td>\n",
              "      <td>4</td>\n",
              "      <td>2</td>\n",
              "      <td>4</td>\n",
              "      <td>1</td>\n",
              "      <td>2</td>\n",
              "      <td>2</td>\n",
              "      <td>6</td>\n",
              "      <td>3</td>\n",
              "      <td>2</td>\n",
              "      <td>4</td>\n",
              "      <td>1</td>\n",
              "      <td>3</td>\n",
              "      <td>2</td>\n",
              "      <td>7</td>\n",
              "      <td>1</td>\n",
              "      <td>5</td>\n",
              "      <td>1</td>\n",
              "      <td>-1</td>\n",
              "      <td>2</td>\n",
              "      <td>...</td>\n",
              "      <td>2</td>\n",
              "      <td>1</td>\n",
              "      <td>2</td>\n",
              "      <td>2</td>\n",
              "      <td>2</td>\n",
              "      <td>4</td>\n",
              "      <td>1</td>\n",
              "      <td>10</td>\n",
              "      <td>3</td>\n",
              "      <td>1</td>\n",
              "      <td>2</td>\n",
              "      <td>-1</td>\n",
              "      <td>1</td>\n",
              "      <td>-1</td>\n",
              "      <td>2</td>\n",
              "      <td>2</td>\n",
              "      <td>1</td>\n",
              "      <td>2</td>\n",
              "      <td>2</td>\n",
              "      <td>2</td>\n",
              "      <td>1</td>\n",
              "      <td>2</td>\n",
              "      <td>2</td>\n",
              "      <td>2</td>\n",
              "      <td>694.0</td>\n",
              "      <td>1725.0</td>\n",
              "      <td>69.4</td>\n",
              "      <td>172.5</td>\n",
              "      <td>2</td>\n",
              "      <td>3</td>\n",
              "      <td>1223</td>\n",
              "      <td>1</td>\n",
              "      <td>355.170081</td>\n",
              "      <td>1</td>\n",
              "      <td>2</td>\n",
              "      <td>4</td>\n",
              "      <td>1</td>\n",
              "      <td>4</td>\n",
              "      <td>1</td>\n",
              "      <td>296</td>\n",
              "    </tr>\n",
              "    <tr>\n",
              "      <th>4</th>\n",
              "      <td>2015</td>\n",
              "      <td>76</td>\n",
              "      <td>1</td>\n",
              "      <td>1</td>\n",
              "      <td>1</td>\n",
              "      <td>1</td>\n",
              "      <td>13</td>\n",
              "      <td>9</td>\n",
              "      <td>7</td>\n",
              "      <td>1</td>\n",
              "      <td>2</td>\n",
              "      <td>5</td>\n",
              "      <td>4</td>\n",
              "      <td>2</td>\n",
              "      <td>-1</td>\n",
              "      <td>2</td>\n",
              "      <td>1</td>\n",
              "      <td>1</td>\n",
              "      <td>1</td>\n",
              "      <td>1</td>\n",
              "      <td>2</td>\n",
              "      <td>5</td>\n",
              "      <td>1</td>\n",
              "      <td>4</td>\n",
              "      <td>1</td>\n",
              "      <td>2</td>\n",
              "      <td>2</td>\n",
              "      <td>6</td>\n",
              "      <td>5</td>\n",
              "      <td>6</td>\n",
              "      <td>3</td>\n",
              "      <td>5</td>\n",
              "      <td>2</td>\n",
              "      <td>6</td>\n",
              "      <td>2</td>\n",
              "      <td>1</td>\n",
              "      <td>5</td>\n",
              "      <td>1</td>\n",
              "      <td>5</td>\n",
              "      <td>1</td>\n",
              "      <td>...</td>\n",
              "      <td>2</td>\n",
              "      <td>1</td>\n",
              "      <td>4</td>\n",
              "      <td>2</td>\n",
              "      <td>2</td>\n",
              "      <td>4</td>\n",
              "      <td>1</td>\n",
              "      <td>3</td>\n",
              "      <td>2</td>\n",
              "      <td>2</td>\n",
              "      <td>2</td>\n",
              "      <td>13</td>\n",
              "      <td>1</td>\n",
              "      <td>-1</td>\n",
              "      <td>1</td>\n",
              "      <td>2</td>\n",
              "      <td>1</td>\n",
              "      <td>1</td>\n",
              "      <td>1</td>\n",
              "      <td>1</td>\n",
              "      <td>1</td>\n",
              "      <td>1</td>\n",
              "      <td>1</td>\n",
              "      <td>1</td>\n",
              "      <td>789.0</td>\n",
              "      <td>1675.0</td>\n",
              "      <td>78.9</td>\n",
              "      <td>167.5</td>\n",
              "      <td>2</td>\n",
              "      <td>4</td>\n",
              "      <td>1223</td>\n",
              "      <td>1</td>\n",
              "      <td>299.735235</td>\n",
              "      <td>1</td>\n",
              "      <td>2</td>\n",
              "      <td>4</td>\n",
              "      <td>1</td>\n",
              "      <td>5</td>\n",
              "      <td>1</td>\n",
              "      <td>296</td>\n",
              "    </tr>\n",
              "  </tbody>\n",
              "</table>\n",
              "<p>5 rows × 181 columns</p>\n",
              "</div>"
            ],
            "text/plain": [
              "   ANOPESQ  PAIS  REGEOGR  VB00004  VB01001  ...  V0008  V0041  aluno  escola  turma\n",
              "0     2015    76        1        1        2  ...      4      1      1       1    296\n",
              "1     2015    76        1        1        2  ...      4      1      2       1    296\n",
              "2     2015    76        1        1        1  ...      4      1      3       1    296\n",
              "3     2015    76        1        1        1  ...      4      1      4       1    296\n",
              "4     2015    76        1        1        1  ...      4      1      5       1    296\n",
              "\n",
              "[5 rows x 181 columns]"
            ]
          },
          "metadata": {
            "tags": []
          },
          "execution_count": 8
        }
      ]
    },
    {
      "cell_type": "markdown",
      "metadata": {
        "id": "j9pGK2JQ-as1"
      },
      "source": [
        "###Qualitativa"
      ]
    },
    {
      "cell_type": "markdown",
      "metadata": {
        "id": "Ry9t326PAFsv"
      },
      "source": [
        "####Ordinal"
      ]
    },
    {
      "cell_type": "code",
      "metadata": {
        "colab": {
          "base_uri": "https://localhost:8080/"
        },
        "id": "MTabU0-kcwQF",
        "outputId": "e8ca1f67-783d-40ca-fa35-2a7bfbfb0b9e"
      },
      "source": [
        "#Qual é o mês do seu aniversário?\n",
        "dados['VB01004'].unique()"
      ],
      "execution_count": null,
      "outputs": [
        {
          "output_type": "execute_result",
          "data": {
            "text/plain": [
              "array([ 7,  4,  6,  9, 12,  3,  8,  5, 10,  1, 11,  2, 99])"
            ]
          },
          "metadata": {
            "tags": []
          },
          "execution_count": 9
        }
      ]
    },
    {
      "cell_type": "markdown",
      "metadata": {
        "id": "FRl4ovkrFkip"
      },
      "source": [
        "Os numeros na questao VB01004 representam os meses do ano que seguem a ordenacao padrao do calendario."
      ]
    },
    {
      "cell_type": "markdown",
      "metadata": {
        "id": "EfGZG_YrApTF"
      },
      "source": [
        "####Nominal"
      ]
    },
    {
      "cell_type": "markdown",
      "metadata": {
        "id": "4V4a-zVbH-Jx"
      },
      "source": [
        "Sexo"
      ]
    },
    {
      "cell_type": "code",
      "metadata": {
        "colab": {
          "base_uri": "https://localhost:8080/"
        },
        "id": "COJbBqBCEKJL",
        "outputId": "11c17a90-8d0c-47ef-9920-7821ee6d2c38"
      },
      "source": [
        "#Qual é o seu sexo?\n",
        "dados['VB01001']"
      ],
      "execution_count": null,
      "outputs": [
        {
          "output_type": "execute_result",
          "data": {
            "text/plain": [
              "0        2\n",
              "1        2\n",
              "2        1\n",
              "3        1\n",
              "4        1\n",
              "        ..\n",
              "16551    2\n",
              "16552    1\n",
              "16553    1\n",
              "16554    1\n",
              "16555    1\n",
              "Name: VB01001, Length: 16556, dtype: int64"
            ]
          },
          "metadata": {
            "tags": []
          },
          "execution_count": 10
        }
      ]
    },
    {
      "cell_type": "markdown",
      "metadata": {
        "id": "BEfBcUv8HvjJ"
      },
      "source": [
        "Regiao Geografica"
      ]
    },
    {
      "cell_type": "code",
      "metadata": {
        "colab": {
          "base_uri": "https://localhost:8080/"
        },
        "id": "igocY_86Hku2",
        "outputId": "8ca8df76-8f33-4769-e3dd-0067b73e5352"
      },
      "source": [
        "dados['REGEOGR'].unique()"
      ],
      "execution_count": null,
      "outputs": [
        {
          "output_type": "execute_result",
          "data": {
            "text/plain": [
              "array([1, 2, 3, 4, 5])"
            ]
          },
          "metadata": {
            "tags": []
          },
          "execution_count": 11
        }
      ]
    },
    {
      "cell_type": "markdown",
      "metadata": {
        "id": "SVUT09PXEp3C"
      },
      "source": [
        "Sao do tipo qualitativa nominal pois os numeros representam uma classificacao (masculino e feminino, norte, sul) e a diferenca numerica nao e relavante, sendo utillizada por conveniencia."
      ]
    },
    {
      "cell_type": "markdown",
      "metadata": {
        "id": "Oy8FGv5y-tNm"
      },
      "source": [
        "###Quantitativa"
      ]
    },
    {
      "cell_type": "markdown",
      "metadata": {
        "id": "-9JM4M3dAtN_"
      },
      "source": [
        "####Continuo"
      ]
    },
    {
      "cell_type": "code",
      "metadata": {
        "colab": {
          "base_uri": "https://localhost:8080/"
        },
        "id": "chEsEvnEAsyQ",
        "outputId": "f28d62d8-adb4-4979-858f-910619f6fec9"
      },
      "source": [
        "#Em que ano você nasceu?\n",
        "dados['VB01005'].unique()"
      ],
      "execution_count": null,
      "outputs": [
        {
          "output_type": "execute_result",
          "data": {
            "text/plain": [
              "array([ 7,  6,  5,  8,  4, 10,  9,  3,  2,  1, 99])"
            ]
          },
          "metadata": {
            "tags": []
          },
          "execution_count": 12
        }
      ]
    },
    {
      "cell_type": "markdown",
      "metadata": {
        "id": "woaPE74nGI2I"
      },
      "source": [
        "A questao VB01005 e quantitativa continua por representar uma marcacao numerica sequencial."
      ]
    },
    {
      "cell_type": "markdown",
      "metadata": {
        "id": "A2K3xJZGAwFT"
      },
      "source": [
        "####Discreto"
      ]
    },
    {
      "cell_type": "code",
      "metadata": {
        "colab": {
          "base_uri": "https://localhost:8080/"
        },
        "id": "nYxVjrwvGB3r",
        "outputId": "727c40ca-bccb-41aa-e070-e49a9089f209"
      },
      "source": [
        "#Qual é a sua idade?\n",
        "dados['VB01003'].unique()"
      ],
      "execution_count": null,
      "outputs": [
        {
          "output_type": "execute_result",
          "data": {
            "text/plain": [
              "array([13, 14, 15, 16, 11, 12, 17, 18, 19])"
            ]
          },
          "metadata": {
            "tags": []
          },
          "execution_count": 13
        }
      ]
    },
    {
      "cell_type": "markdown",
      "metadata": {
        "id": "NKC7cAriHHGi"
      },
      "source": [
        "A questao VB01003 e quantitativa discreta por nao considrar o espaco de um aniversario e outro, como meses, dias, horas etc."
      ]
    },
    {
      "cell_type": "markdown",
      "metadata": {
        "id": "pDGdVIS9OMEM"
      },
      "source": [
        "# **2 Dados qualitativos e tabelas de frequência**"
      ]
    },
    {
      "cell_type": "markdown",
      "metadata": {
        "id": "crto4Ag4sSKg"
      },
      "source": [
        "##Desafio 4 - Criar uma função para gerar as tabelas de frequência e fazer a análise de outras informações. Compartilhar no discord suas análises"
      ]
    },
    {
      "cell_type": "markdown",
      "metadata": {
        "id": "ZNEuJcQuLrNk"
      },
      "source": [
        "###Função"
      ]
    },
    {
      "cell_type": "code",
      "metadata": {
        "id": "2JHzeLo-sWPt"
      },
      "source": [
        "def tabela_frequencia(dados: pd.DataFrame, titulo_eixo: str, \n",
        "                      dicionario_respostas: dict):\n",
        "  frequencia = dados.value_counts()\n",
        "  proporcao = round(dados.value_counts(normalize=True) * 100, 0).astype('int64')\n",
        "  tabela = pd.DataFrame({\n",
        "      'Frequência': frequencia,\n",
        "      'Proporção (%)': proporcao\n",
        "  })\n",
        "  tabela.rename_axis(titulo_eixo, inplace=True)\n",
        "  tabela.rename(index=dicionario_respostas, inplace=True)\n",
        "  return tabela"
      ],
      "execution_count": null,
      "outputs": []
    },
    {
      "cell_type": "code",
      "metadata": {
        "id": "Mb5Q3cXDO8KG"
      },
      "source": [
        "def tabela_frequencia_continuo(dados: pd.DataFrame, titulo_eixo: str):\n",
        "  frequencia = dados.value_counts()\n",
        "  proporcao = round(dados.value_counts(normalize=True) * 100, 0).astype('int64')\n",
        "  tabela = pd.DataFrame({\n",
        "      'Frequência': frequencia,\n",
        "      'Proporção (%)': proporcao\n",
        "  })\n",
        "  tabela.rename_axis(titulo_eixo, inplace=True)\n",
        "  return tabela"
      ],
      "execution_count": null,
      "outputs": []
    },
    {
      "cell_type": "markdown",
      "metadata": {
        "id": "9FPrarqqLw9j"
      },
      "source": [
        "###Regiões"
      ]
    },
    {
      "cell_type": "code",
      "metadata": {
        "id": "1Wn-ksrhuKZF"
      },
      "source": [
        "dic_regioes = {\n",
        "    1: 'Norte',\n",
        "    2: 'Nordeste',\n",
        "    3: 'Sudeste',\n",
        "    4: 'Sul',\n",
        "    5: 'Centro-Oeste'\n",
        "}"
      ],
      "execution_count": null,
      "outputs": []
    },
    {
      "cell_type": "code",
      "metadata": {
        "id": "VwFEIolmKPxO"
      },
      "source": [
        "regioes = tabela_frequencia(dados['REGEOGR'], 'Respondentes por Região', dic_regioes)"
      ],
      "execution_count": null,
      "outputs": []
    },
    {
      "cell_type": "code",
      "metadata": {
        "colab": {
          "base_uri": "https://localhost:8080/",
          "height": 233
        },
        "id": "w2SyCZYqKo9B",
        "outputId": "76be617c-3369-49a4-b854-66ae9c7509f6"
      },
      "source": [
        "regioes"
      ],
      "execution_count": null,
      "outputs": [
        {
          "output_type": "execute_result",
          "data": {
            "text/html": [
              "<div>\n",
              "<style scoped>\n",
              "    .dataframe tbody tr th:only-of-type {\n",
              "        vertical-align: middle;\n",
              "    }\n",
              "\n",
              "    .dataframe tbody tr th {\n",
              "        vertical-align: top;\n",
              "    }\n",
              "\n",
              "    .dataframe thead th {\n",
              "        text-align: right;\n",
              "    }\n",
              "</style>\n",
              "<table border=\"1\" class=\"dataframe\">\n",
              "  <thead>\n",
              "    <tr style=\"text-align: right;\">\n",
              "      <th></th>\n",
              "      <th>Frequência</th>\n",
              "      <th>Proporção (%)</th>\n",
              "    </tr>\n",
              "    <tr>\n",
              "      <th>Respondentes por Região</th>\n",
              "      <th></th>\n",
              "      <th></th>\n",
              "    </tr>\n",
              "  </thead>\n",
              "  <tbody>\n",
              "    <tr>\n",
              "      <th>Nordeste</th>\n",
              "      <td>3465</td>\n",
              "      <td>21</td>\n",
              "    </tr>\n",
              "    <tr>\n",
              "      <th>Centro-Oeste</th>\n",
              "      <td>3420</td>\n",
              "      <td>21</td>\n",
              "    </tr>\n",
              "    <tr>\n",
              "      <th>Sudeste</th>\n",
              "      <td>3276</td>\n",
              "      <td>20</td>\n",
              "    </tr>\n",
              "    <tr>\n",
              "      <th>Sul</th>\n",
              "      <td>3207</td>\n",
              "      <td>19</td>\n",
              "    </tr>\n",
              "    <tr>\n",
              "      <th>Norte</th>\n",
              "      <td>3188</td>\n",
              "      <td>19</td>\n",
              "    </tr>\n",
              "  </tbody>\n",
              "</table>\n",
              "</div>"
            ],
            "text/plain": [
              "                         Frequência  Proporção (%)\n",
              "Respondentes por Região                           \n",
              "Nordeste                       3465             21\n",
              "Centro-Oeste                   3420             21\n",
              "Sudeste                        3276             20\n",
              "Sul                            3207             19\n",
              "Norte                          3188             19"
            ]
          },
          "metadata": {
            "tags": []
          },
          "execution_count": 18
        }
      ]
    },
    {
      "cell_type": "markdown",
      "metadata": {
        "id": "XPvHoWmaMJaQ"
      },
      "source": [
        "### Possui Carro"
      ]
    },
    {
      "cell_type": "code",
      "metadata": {
        "id": "DrfO41MRKq_1"
      },
      "source": [
        "possui_carro = {\n",
        "  1:\t'Sim',\n",
        "  2:\t'Não',\n",
        "  99:\t'Não informado'\n",
        "}"
      ],
      "execution_count": null,
      "outputs": []
    },
    {
      "cell_type": "code",
      "metadata": {
        "id": "SbP_hUpSLYXx"
      },
      "source": [
        "carro = tabela_frequencia(dados['VB01017'], 'Possui Carro', possui_carro)"
      ],
      "execution_count": null,
      "outputs": []
    },
    {
      "cell_type": "code",
      "metadata": {
        "colab": {
          "base_uri": "https://localhost:8080/",
          "height": 171
        },
        "id": "DRZEDnXLLj2r",
        "outputId": "d6de2ba5-e1d5-46e0-e201-1eb285763f1f"
      },
      "source": [
        "carro"
      ],
      "execution_count": null,
      "outputs": [
        {
          "output_type": "execute_result",
          "data": {
            "text/html": [
              "<div>\n",
              "<style scoped>\n",
              "    .dataframe tbody tr th:only-of-type {\n",
              "        vertical-align: middle;\n",
              "    }\n",
              "\n",
              "    .dataframe tbody tr th {\n",
              "        vertical-align: top;\n",
              "    }\n",
              "\n",
              "    .dataframe thead th {\n",
              "        text-align: right;\n",
              "    }\n",
              "</style>\n",
              "<table border=\"1\" class=\"dataframe\">\n",
              "  <thead>\n",
              "    <tr style=\"text-align: right;\">\n",
              "      <th></th>\n",
              "      <th>Frequência</th>\n",
              "      <th>Proporção (%)</th>\n",
              "    </tr>\n",
              "    <tr>\n",
              "      <th>Possui Carro</th>\n",
              "      <th></th>\n",
              "      <th></th>\n",
              "    </tr>\n",
              "  </thead>\n",
              "  <tbody>\n",
              "    <tr>\n",
              "      <th>Sim</th>\n",
              "      <td>10179</td>\n",
              "      <td>61</td>\n",
              "    </tr>\n",
              "    <tr>\n",
              "      <th>Não</th>\n",
              "      <td>6355</td>\n",
              "      <td>38</td>\n",
              "    </tr>\n",
              "    <tr>\n",
              "      <th>Não informado</th>\n",
              "      <td>22</td>\n",
              "      <td>0</td>\n",
              "    </tr>\n",
              "  </tbody>\n",
              "</table>\n",
              "</div>"
            ],
            "text/plain": [
              "               Frequência  Proporção (%)\n",
              "Possui Carro                            \n",
              "Sim                 10179             61\n",
              "Não                  6355             38\n",
              "Não informado          22              0"
            ]
          },
          "metadata": {
            "tags": []
          },
          "execution_count": 21
        }
      ]
    },
    {
      "cell_type": "markdown",
      "metadata": {
        "id": "WQzvZWjrMouw"
      },
      "source": [
        "###Fome"
      ]
    },
    {
      "cell_type": "code",
      "metadata": {
        "id": "9eEkxG_jLkp7"
      },
      "source": [
        "ficou_fome = {\n",
        "    1:\t'Nunca',\n",
        "    2:\t'Raramente',\n",
        "    3:\t'Às vezes',\n",
        "    4:\t'Na maior parte das vezes',\n",
        "    5:\t'Sempre',\n",
        "    99:\t'Não informado'}"
      ],
      "execution_count": null,
      "outputs": []
    },
    {
      "cell_type": "code",
      "metadata": {
        "id": "bygo5SPyM7wi"
      },
      "source": [
        "ficou_fome_frequencia = tabela_frequencia(dados['VB02024'], \n",
        "                                          'Ficou com fome por falta de comida em casa',\n",
        "                                          ficou_fome)"
      ],
      "execution_count": null,
      "outputs": []
    },
    {
      "cell_type": "code",
      "metadata": {
        "colab": {
          "base_uri": "https://localhost:8080/",
          "height": 263
        },
        "id": "mXeN2sxsNMRK",
        "outputId": "9f0e94ab-aeb1-4d40-bdf5-0dd1122f4936"
      },
      "source": [
        "ficou_fome_frequencia"
      ],
      "execution_count": null,
      "outputs": [
        {
          "output_type": "execute_result",
          "data": {
            "text/html": [
              "<div>\n",
              "<style scoped>\n",
              "    .dataframe tbody tr th:only-of-type {\n",
              "        vertical-align: middle;\n",
              "    }\n",
              "\n",
              "    .dataframe tbody tr th {\n",
              "        vertical-align: top;\n",
              "    }\n",
              "\n",
              "    .dataframe thead th {\n",
              "        text-align: right;\n",
              "    }\n",
              "</style>\n",
              "<table border=\"1\" class=\"dataframe\">\n",
              "  <thead>\n",
              "    <tr style=\"text-align: right;\">\n",
              "      <th></th>\n",
              "      <th>Frequência</th>\n",
              "      <th>Proporção (%)</th>\n",
              "    </tr>\n",
              "    <tr>\n",
              "      <th>Ficou com fome por falta de comida em casa</th>\n",
              "      <th></th>\n",
              "      <th></th>\n",
              "    </tr>\n",
              "  </thead>\n",
              "  <tbody>\n",
              "    <tr>\n",
              "      <th>Nunca</th>\n",
              "      <td>12825</td>\n",
              "      <td>77</td>\n",
              "    </tr>\n",
              "    <tr>\n",
              "      <th>Raramente</th>\n",
              "      <td>1786</td>\n",
              "      <td>11</td>\n",
              "    </tr>\n",
              "    <tr>\n",
              "      <th>Às vezes</th>\n",
              "      <td>1443</td>\n",
              "      <td>9</td>\n",
              "    </tr>\n",
              "    <tr>\n",
              "      <th>Na maior parte das vezes</th>\n",
              "      <td>253</td>\n",
              "      <td>2</td>\n",
              "    </tr>\n",
              "    <tr>\n",
              "      <th>Sempre</th>\n",
              "      <td>219</td>\n",
              "      <td>1</td>\n",
              "    </tr>\n",
              "    <tr>\n",
              "      <th>Não informado</th>\n",
              "      <td>30</td>\n",
              "      <td>0</td>\n",
              "    </tr>\n",
              "  </tbody>\n",
              "</table>\n",
              "</div>"
            ],
            "text/plain": [
              "                                            Frequência  Proporção (%)\n",
              "Ficou com fome por falta de comida em casa                           \n",
              "Nunca                                            12825             77\n",
              "Raramente                                         1786             11\n",
              "Às vezes                                          1443              9\n",
              "Na maior parte das vezes                           253              2\n",
              "Sempre                                             219              1\n",
              "Não informado                                       30              0"
            ]
          },
          "metadata": {
            "tags": []
          },
          "execution_count": 24
        }
      ]
    },
    {
      "cell_type": "markdown",
      "metadata": {
        "id": "ZlGYKl_BObzn"
      },
      "source": [
        "###Altura"
      ]
    },
    {
      "cell_type": "code",
      "metadata": {
        "id": "aj4glL9gQYpD"
      },
      "source": [
        "altura_dic = {\n",
        "    0.998:\t'Não informado',\n",
        "    9.999:\t'Recusa ou impossibilidade de medição'\n",
        "}"
      ],
      "execution_count": null,
      "outputs": []
    },
    {
      "cell_type": "code",
      "metadata": {
        "id": "2qDZBSzqNNkK"
      },
      "source": [
        "altura = tabela_frequencia(dados['VB17002'] / 1000, 'Altura (M)', altura_dic)"
      ],
      "execution_count": null,
      "outputs": []
    },
    {
      "cell_type": "code",
      "metadata": {
        "colab": {
          "base_uri": "https://localhost:8080/",
          "height": 446
        },
        "id": "I7Nb8N0EN61Z",
        "outputId": "8b61841b-19e7-44be-bc34-d45fbee1c385"
      },
      "source": [
        "altura"
      ],
      "execution_count": null,
      "outputs": [
        {
          "output_type": "execute_result",
          "data": {
            "text/html": [
              "<div>\n",
              "<style scoped>\n",
              "    .dataframe tbody tr th:only-of-type {\n",
              "        vertical-align: middle;\n",
              "    }\n",
              "\n",
              "    .dataframe tbody tr th {\n",
              "        vertical-align: top;\n",
              "    }\n",
              "\n",
              "    .dataframe thead th {\n",
              "        text-align: right;\n",
              "    }\n",
              "</style>\n",
              "<table border=\"1\" class=\"dataframe\">\n",
              "  <thead>\n",
              "    <tr style=\"text-align: right;\">\n",
              "      <th></th>\n",
              "      <th>Frequência</th>\n",
              "      <th>Proporção (%)</th>\n",
              "    </tr>\n",
              "    <tr>\n",
              "      <th>Altura (M)</th>\n",
              "      <th></th>\n",
              "      <th></th>\n",
              "    </tr>\n",
              "  </thead>\n",
              "  <tbody>\n",
              "    <tr>\n",
              "      <th>Não informado</th>\n",
              "      <td>385</td>\n",
              "      <td>2</td>\n",
              "    </tr>\n",
              "    <tr>\n",
              "      <th>Recusa ou impossibilidade de medição</th>\n",
              "      <td>265</td>\n",
              "      <td>2</td>\n",
              "    </tr>\n",
              "    <tr>\n",
              "      <th>1.6</th>\n",
              "      <td>186</td>\n",
              "      <td>1</td>\n",
              "    </tr>\n",
              "    <tr>\n",
              "      <th>1.62</th>\n",
              "      <td>153</td>\n",
              "      <td>1</td>\n",
              "    </tr>\n",
              "    <tr>\n",
              "      <th>1.57</th>\n",
              "      <td>146</td>\n",
              "      <td>1</td>\n",
              "    </tr>\n",
              "    <tr>\n",
              "      <th>...</th>\n",
              "      <td>...</td>\n",
              "      <td>...</td>\n",
              "    </tr>\n",
              "    <tr>\n",
              "      <th>1.176</th>\n",
              "      <td>1</td>\n",
              "      <td>0</td>\n",
              "    </tr>\n",
              "    <tr>\n",
              "      <th>0.142</th>\n",
              "      <td>1</td>\n",
              "      <td>0</td>\n",
              "    </tr>\n",
              "    <tr>\n",
              "      <th>1.22</th>\n",
              "      <td>1</td>\n",
              "      <td>0</td>\n",
              "    </tr>\n",
              "    <tr>\n",
              "      <th>0.56</th>\n",
              "      <td>1</td>\n",
              "      <td>0</td>\n",
              "    </tr>\n",
              "    <tr>\n",
              "      <th>1.331</th>\n",
              "      <td>1</td>\n",
              "      <td>0</td>\n",
              "    </tr>\n",
              "  </tbody>\n",
              "</table>\n",
              "<p>784 rows × 2 columns</p>\n",
              "</div>"
            ],
            "text/plain": [
              "                                      Frequência  Proporção (%)\n",
              "Altura (M)                                                     \n",
              "Não informado                                385              2\n",
              "Recusa ou impossibilidade de medição         265              2\n",
              "1.6                                          186              1\n",
              "1.62                                         153              1\n",
              "1.57                                         146              1\n",
              "...                                          ...            ...\n",
              "1.176                                          1              0\n",
              "0.142                                          1              0\n",
              "1.22                                           1              0\n",
              "0.56                                           1              0\n",
              "1.331                                          1              0\n",
              "\n",
              "[784 rows x 2 columns]"
            ]
          },
          "metadata": {
            "tags": []
          },
          "execution_count": 27
        }
      ]
    },
    {
      "cell_type": "code",
      "metadata": {
        "colab": {
          "base_uri": "https://localhost:8080/",
          "height": 446
        },
        "id": "v7qbAy2SbD95",
        "outputId": "7b87c78c-225d-4676-cda9-aab36c6f0aee"
      },
      "source": [
        "tabela_frequencia_continuo(dados['VB17004'] / 100, 'Altura (M)')"
      ],
      "execution_count": null,
      "outputs": [
        {
          "output_type": "execute_result",
          "data": {
            "text/html": [
              "<div>\n",
              "<style scoped>\n",
              "    .dataframe tbody tr th:only-of-type {\n",
              "        vertical-align: middle;\n",
              "    }\n",
              "\n",
              "    .dataframe tbody tr th {\n",
              "        vertical-align: top;\n",
              "    }\n",
              "\n",
              "    .dataframe thead th {\n",
              "        text-align: right;\n",
              "    }\n",
              "</style>\n",
              "<table border=\"1\" class=\"dataframe\">\n",
              "  <thead>\n",
              "    <tr style=\"text-align: right;\">\n",
              "      <th></th>\n",
              "      <th>Frequência</th>\n",
              "      <th>Proporção (%)</th>\n",
              "    </tr>\n",
              "    <tr>\n",
              "      <th>Altura (M)</th>\n",
              "      <th></th>\n",
              "      <th></th>\n",
              "    </tr>\n",
              "  </thead>\n",
              "  <tbody>\n",
              "    <tr>\n",
              "      <th>1.600</th>\n",
              "      <td>197</td>\n",
              "      <td>1</td>\n",
              "    </tr>\n",
              "    <tr>\n",
              "      <th>1.620</th>\n",
              "      <td>164</td>\n",
              "      <td>1</td>\n",
              "    </tr>\n",
              "    <tr>\n",
              "      <th>1.570</th>\n",
              "      <td>155</td>\n",
              "      <td>1</td>\n",
              "    </tr>\n",
              "    <tr>\n",
              "      <th>1.550</th>\n",
              "      <td>154</td>\n",
              "      <td>1</td>\n",
              "    </tr>\n",
              "    <tr>\n",
              "      <th>1.610</th>\n",
              "      <td>153</td>\n",
              "      <td>1</td>\n",
              "    </tr>\n",
              "    <tr>\n",
              "      <th>...</th>\n",
              "      <td>...</td>\n",
              "      <td>...</td>\n",
              "    </tr>\n",
              "    <tr>\n",
              "      <th>1.891</th>\n",
              "      <td>1</td>\n",
              "      <td>0</td>\n",
              "    </tr>\n",
              "    <tr>\n",
              "      <th>1.339</th>\n",
              "      <td>1</td>\n",
              "      <td>0</td>\n",
              "    </tr>\n",
              "    <tr>\n",
              "      <th>1.864</th>\n",
              "      <td>1</td>\n",
              "      <td>0</td>\n",
              "    </tr>\n",
              "    <tr>\n",
              "      <th>1.871</th>\n",
              "      <td>1</td>\n",
              "      <td>0</td>\n",
              "    </tr>\n",
              "    <tr>\n",
              "      <th>1.318</th>\n",
              "      <td>1</td>\n",
              "      <td>0</td>\n",
              "    </tr>\n",
              "  </tbody>\n",
              "</table>\n",
              "<p>599 rows × 2 columns</p>\n",
              "</div>"
            ],
            "text/plain": [
              "            Frequência  Proporção (%)\n",
              "Altura (M)                           \n",
              "1.600              197              1\n",
              "1.620              164              1\n",
              "1.570              155              1\n",
              "1.550              154              1\n",
              "1.610              153              1\n",
              "...                ...            ...\n",
              "1.891                1              0\n",
              "1.339                1              0\n",
              "1.864                1              0\n",
              "1.871                1              0\n",
              "1.318                1              0\n",
              "\n",
              "[599 rows x 2 columns]"
            ]
          },
          "metadata": {
            "tags": []
          },
          "execution_count": 28
        }
      ]
    },
    {
      "cell_type": "markdown",
      "metadata": {
        "id": "eARlwCo7cht4"
      },
      "source": [
        "###Peso"
      ]
    },
    {
      "cell_type": "code",
      "metadata": {
        "id": "D7LM6bY9btTH"
      },
      "source": [
        "peso = tabela_frequencia_continuo(dados['VB17003'], 'Peso')"
      ],
      "execution_count": null,
      "outputs": []
    },
    {
      "cell_type": "code",
      "metadata": {
        "colab": {
          "base_uri": "https://localhost:8080/",
          "height": 446
        },
        "id": "2hnaxcuZcuIF",
        "outputId": "fc1d0d73-89be-4d0f-d261-f09262e2381c"
      },
      "source": [
        "peso"
      ],
      "execution_count": null,
      "outputs": [
        {
          "output_type": "execute_result",
          "data": {
            "text/html": [
              "<div>\n",
              "<style scoped>\n",
              "    .dataframe tbody tr th:only-of-type {\n",
              "        vertical-align: middle;\n",
              "    }\n",
              "\n",
              "    .dataframe tbody tr th {\n",
              "        vertical-align: top;\n",
              "    }\n",
              "\n",
              "    .dataframe thead th {\n",
              "        text-align: right;\n",
              "    }\n",
              "</style>\n",
              "<table border=\"1\" class=\"dataframe\">\n",
              "  <thead>\n",
              "    <tr style=\"text-align: right;\">\n",
              "      <th></th>\n",
              "      <th>Frequência</th>\n",
              "      <th>Proporção (%)</th>\n",
              "    </tr>\n",
              "    <tr>\n",
              "      <th>Peso</th>\n",
              "      <th></th>\n",
              "      <th></th>\n",
              "    </tr>\n",
              "  </thead>\n",
              "  <tbody>\n",
              "    <tr>\n",
              "      <th>50.0</th>\n",
              "      <td>73</td>\n",
              "      <td>0</td>\n",
              "    </tr>\n",
              "    <tr>\n",
              "      <th>53.5</th>\n",
              "      <td>67</td>\n",
              "      <td>0</td>\n",
              "    </tr>\n",
              "    <tr>\n",
              "      <th>50.2</th>\n",
              "      <td>66</td>\n",
              "      <td>0</td>\n",
              "    </tr>\n",
              "    <tr>\n",
              "      <th>52.5</th>\n",
              "      <td>65</td>\n",
              "      <td>0</td>\n",
              "    </tr>\n",
              "    <tr>\n",
              "      <th>51.9</th>\n",
              "      <td>65</td>\n",
              "      <td>0</td>\n",
              "    </tr>\n",
              "    <tr>\n",
              "      <th>...</th>\n",
              "      <td>...</td>\n",
              "      <td>...</td>\n",
              "    </tr>\n",
              "    <tr>\n",
              "      <th>133.1</th>\n",
              "      <td>1</td>\n",
              "      <td>0</td>\n",
              "    </tr>\n",
              "    <tr>\n",
              "      <th>108.0</th>\n",
              "      <td>1</td>\n",
              "      <td>0</td>\n",
              "    </tr>\n",
              "    <tr>\n",
              "      <th>93.6</th>\n",
              "      <td>1</td>\n",
              "      <td>0</td>\n",
              "    </tr>\n",
              "    <tr>\n",
              "      <th>100.4</th>\n",
              "      <td>1</td>\n",
              "      <td>0</td>\n",
              "    </tr>\n",
              "    <tr>\n",
              "      <th>94.2</th>\n",
              "      <td>1</td>\n",
              "      <td>0</td>\n",
              "    </tr>\n",
              "  </tbody>\n",
              "</table>\n",
              "<p>872 rows × 2 columns</p>\n",
              "</div>"
            ],
            "text/plain": [
              "       Frequência  Proporção (%)\n",
              "Peso                            \n",
              "50.0           73              0\n",
              "53.5           67              0\n",
              "50.2           66              0\n",
              "52.5           65              0\n",
              "51.9           65              0\n",
              "...           ...            ...\n",
              "133.1           1              0\n",
              "108.0           1              0\n",
              "93.6            1              0\n",
              "100.4           1              0\n",
              "94.2            1              0\n",
              "\n",
              "[872 rows x 2 columns]"
            ]
          },
          "metadata": {
            "tags": []
          },
          "execution_count": 30
        }
      ]
    },
    {
      "cell_type": "markdown",
      "metadata": {
        "id": "pRkTU2Noi5ia"
      },
      "source": [
        "#Método cut"
      ]
    },
    {
      "cell_type": "code",
      "metadata": {
        "id": "_z8qjbtOi9bo"
      },
      "source": [
        "dados['imc'] = round(dados['VB17003'] / (dados['VB17004'] / 100) ** 2, 2)"
      ],
      "execution_count": null,
      "outputs": []
    },
    {
      "cell_type": "code",
      "metadata": {
        "colab": {
          "base_uri": "https://localhost:8080/"
        },
        "id": "r5jOnliwcuyB",
        "outputId": "b1ec9883-297a-4d5e-aa2e-0eaee56517df"
      },
      "source": [
        "dados['imc']"
      ],
      "execution_count": null,
      "outputs": [
        {
          "output_type": "execute_result",
          "data": {
            "text/plain": [
              "0        15.05\n",
              "1        21.73\n",
              "2        18.50\n",
              "3        23.32\n",
              "4        28.12\n",
              "         ...  \n",
              "16551    20.11\n",
              "16552    17.93\n",
              "16553    23.97\n",
              "16554    19.00\n",
              "16555    23.30\n",
              "Name: imc, Length: 16556, dtype: float64"
            ]
          },
          "metadata": {
            "tags": []
          },
          "execution_count": 32
        }
      ]
    },
    {
      "cell_type": "code",
      "metadata": {
        "id": "w2P_MCrzjU03"
      },
      "source": [
        "classes_imc = [0, 16.99, 18.49, 24.99, 29.99, 34.99, 39.99, 60]\n",
        "labels = ['Muito abaixo do peso', 'Abaixo do peso', 'Peso normal', \n",
        "          'Acima do peso', 'Obesidade I', 'Obesidade II (severa)',\n",
        "          'Obesidade III (móribida)']\n",
        "\n",
        "dados['classificacao_imc'] = pd.cut(dados['imc'],\n",
        "                                    labels=labels,\n",
        "                                    bins=classes_imc,\n",
        "                                    include_lowest=True) "
      ],
      "execution_count": null,
      "outputs": []
    },
    {
      "cell_type": "code",
      "metadata": {
        "colab": {
          "base_uri": "https://localhost:8080/",
          "height": 415
        },
        "id": "2FDsfaICk9Kd",
        "outputId": "0c6c78ad-413c-4cff-9b34-ae10e210bad3"
      },
      "source": [
        "dados[['imc', 'classificacao_imc']]"
      ],
      "execution_count": null,
      "outputs": [
        {
          "output_type": "execute_result",
          "data": {
            "text/html": [
              "<div>\n",
              "<style scoped>\n",
              "    .dataframe tbody tr th:only-of-type {\n",
              "        vertical-align: middle;\n",
              "    }\n",
              "\n",
              "    .dataframe tbody tr th {\n",
              "        vertical-align: top;\n",
              "    }\n",
              "\n",
              "    .dataframe thead th {\n",
              "        text-align: right;\n",
              "    }\n",
              "</style>\n",
              "<table border=\"1\" class=\"dataframe\">\n",
              "  <thead>\n",
              "    <tr style=\"text-align: right;\">\n",
              "      <th></th>\n",
              "      <th>imc</th>\n",
              "      <th>classificacao_imc</th>\n",
              "    </tr>\n",
              "  </thead>\n",
              "  <tbody>\n",
              "    <tr>\n",
              "      <th>0</th>\n",
              "      <td>15.05</td>\n",
              "      <td>Muito abaixo do peso</td>\n",
              "    </tr>\n",
              "    <tr>\n",
              "      <th>1</th>\n",
              "      <td>21.73</td>\n",
              "      <td>Peso normal</td>\n",
              "    </tr>\n",
              "    <tr>\n",
              "      <th>2</th>\n",
              "      <td>18.50</td>\n",
              "      <td>Peso normal</td>\n",
              "    </tr>\n",
              "    <tr>\n",
              "      <th>3</th>\n",
              "      <td>23.32</td>\n",
              "      <td>Peso normal</td>\n",
              "    </tr>\n",
              "    <tr>\n",
              "      <th>4</th>\n",
              "      <td>28.12</td>\n",
              "      <td>Acima do peso</td>\n",
              "    </tr>\n",
              "    <tr>\n",
              "      <th>...</th>\n",
              "      <td>...</td>\n",
              "      <td>...</td>\n",
              "    </tr>\n",
              "    <tr>\n",
              "      <th>16551</th>\n",
              "      <td>20.11</td>\n",
              "      <td>Peso normal</td>\n",
              "    </tr>\n",
              "    <tr>\n",
              "      <th>16552</th>\n",
              "      <td>17.93</td>\n",
              "      <td>Abaixo do peso</td>\n",
              "    </tr>\n",
              "    <tr>\n",
              "      <th>16553</th>\n",
              "      <td>23.97</td>\n",
              "      <td>Peso normal</td>\n",
              "    </tr>\n",
              "    <tr>\n",
              "      <th>16554</th>\n",
              "      <td>19.00</td>\n",
              "      <td>Peso normal</td>\n",
              "    </tr>\n",
              "    <tr>\n",
              "      <th>16555</th>\n",
              "      <td>23.30</td>\n",
              "      <td>Peso normal</td>\n",
              "    </tr>\n",
              "  </tbody>\n",
              "</table>\n",
              "<p>16556 rows × 2 columns</p>\n",
              "</div>"
            ],
            "text/plain": [
              "         imc     classificacao_imc\n",
              "0      15.05  Muito abaixo do peso\n",
              "1      21.73           Peso normal\n",
              "2      18.50           Peso normal\n",
              "3      23.32           Peso normal\n",
              "4      28.12         Acima do peso\n",
              "...      ...                   ...\n",
              "16551  20.11           Peso normal\n",
              "16552  17.93        Abaixo do peso\n",
              "16553  23.97           Peso normal\n",
              "16554  19.00           Peso normal\n",
              "16555  23.30           Peso normal\n",
              "\n",
              "[16556 rows x 2 columns]"
            ]
          },
          "metadata": {
            "tags": []
          },
          "execution_count": 34
        }
      ]
    },
    {
      "cell_type": "code",
      "metadata": {
        "id": "IJZnv86irn1D"
      },
      "source": [
        "frequencia_imc_classificacao = tabela_frequencia_continuo(dados['classificacao_imc'],\n",
        "                                                 'Classificacao IMC')"
      ],
      "execution_count": null,
      "outputs": []
    },
    {
      "cell_type": "code",
      "metadata": {
        "colab": {
          "base_uri": "https://localhost:8080/",
          "height": 294
        },
        "id": "kfthenSBsequ",
        "outputId": "f633ad30-7e50-45f3-e2f0-0e57aa277dd9"
      },
      "source": [
        "frequencia_imc_classificacao"
      ],
      "execution_count": null,
      "outputs": [
        {
          "output_type": "execute_result",
          "data": {
            "text/html": [
              "<div>\n",
              "<style scoped>\n",
              "    .dataframe tbody tr th:only-of-type {\n",
              "        vertical-align: middle;\n",
              "    }\n",
              "\n",
              "    .dataframe tbody tr th {\n",
              "        vertical-align: top;\n",
              "    }\n",
              "\n",
              "    .dataframe thead th {\n",
              "        text-align: right;\n",
              "    }\n",
              "</style>\n",
              "<table border=\"1\" class=\"dataframe\">\n",
              "  <thead>\n",
              "    <tr style=\"text-align: right;\">\n",
              "      <th></th>\n",
              "      <th>Frequência</th>\n",
              "      <th>Proporção (%)</th>\n",
              "    </tr>\n",
              "    <tr>\n",
              "      <th>Classificacao IMC</th>\n",
              "      <th></th>\n",
              "      <th></th>\n",
              "    </tr>\n",
              "  </thead>\n",
              "  <tbody>\n",
              "    <tr>\n",
              "      <th>Peso normal</th>\n",
              "      <td>9192</td>\n",
              "      <td>56</td>\n",
              "    </tr>\n",
              "    <tr>\n",
              "      <th>Abaixo do peso</th>\n",
              "      <td>2559</td>\n",
              "      <td>15</td>\n",
              "    </tr>\n",
              "    <tr>\n",
              "      <th>Muito abaixo do peso</th>\n",
              "      <td>2409</td>\n",
              "      <td>15</td>\n",
              "    </tr>\n",
              "    <tr>\n",
              "      <th>Acima do peso</th>\n",
              "      <td>1762</td>\n",
              "      <td>11</td>\n",
              "    </tr>\n",
              "    <tr>\n",
              "      <th>Obesidade I</th>\n",
              "      <td>489</td>\n",
              "      <td>3</td>\n",
              "    </tr>\n",
              "    <tr>\n",
              "      <th>Obesidade II (severa)</th>\n",
              "      <td>103</td>\n",
              "      <td>1</td>\n",
              "    </tr>\n",
              "    <tr>\n",
              "      <th>Obesidade III (móribida)</th>\n",
              "      <td>42</td>\n",
              "      <td>0</td>\n",
              "    </tr>\n",
              "  </tbody>\n",
              "</table>\n",
              "</div>"
            ],
            "text/plain": [
              "                          Frequência  Proporção (%)\n",
              "Classificacao IMC                                  \n",
              "Peso normal                     9192             56\n",
              "Abaixo do peso                  2559             15\n",
              "Muito abaixo do peso            2409             15\n",
              "Acima do peso                   1762             11\n",
              "Obesidade I                      489              3\n",
              "Obesidade II (severa)            103              1\n",
              "Obesidade III (móribida)          42              0"
            ]
          },
          "metadata": {
            "tags": []
          },
          "execution_count": 36
        }
      ]
    },
    {
      "cell_type": "markdown",
      "metadata": {
        "id": "r3T0IlgbN8jw"
      },
      "source": [
        "# **3 Frequência em dados contínuos e pandas crosstab**"
      ]
    },
    {
      "cell_type": "markdown",
      "metadata": {
        "id": "kEaPgJ0pNzB2"
      },
      "source": [
        "##Desafio 5 - Criar uma tabela de frequência para o peso seguindo a regra de Sturges."
      ]
    },
    {
      "cell_type": "code",
      "metadata": {
        "id": "opYYnExnQ1zP"
      },
      "source": [
        "tamanho_amostra = len(dados)\n",
        "\n",
        "k = int(1 + ((10/3) * np.log10(tamanho_amostra)))\n",
        "\n",
        "dados['altura_classes'] = pd.cut(x=dados['VB17004'] / 100, bins=k)\n",
        "\n",
        "frequencia_altura = tabela_frequencia_continuo(dados['altura_classes'], \n",
        "                                               'Altura (M)')"
      ],
      "execution_count": null,
      "outputs": []
    },
    {
      "cell_type": "code",
      "metadata": {
        "colab": {
          "base_uri": "https://localhost:8080/",
          "height": 539
        },
        "id": "s-iWYFlLTijj",
        "outputId": "e3b89616-986f-49fc-b0d8-8bf2396085c4"
      },
      "source": [
        "frequencia_altura"
      ],
      "execution_count": null,
      "outputs": [
        {
          "output_type": "execute_result",
          "data": {
            "text/html": [
              "<div>\n",
              "<style scoped>\n",
              "    .dataframe tbody tr th:only-of-type {\n",
              "        vertical-align: middle;\n",
              "    }\n",
              "\n",
              "    .dataframe tbody tr th {\n",
              "        vertical-align: top;\n",
              "    }\n",
              "\n",
              "    .dataframe thead th {\n",
              "        text-align: right;\n",
              "    }\n",
              "</style>\n",
              "<table border=\"1\" class=\"dataframe\">\n",
              "  <thead>\n",
              "    <tr style=\"text-align: right;\">\n",
              "      <th></th>\n",
              "      <th>Frequência</th>\n",
              "      <th>Proporção (%)</th>\n",
              "    </tr>\n",
              "    <tr>\n",
              "      <th>Altura (M)</th>\n",
              "      <th></th>\n",
              "      <th></th>\n",
              "    </tr>\n",
              "  </thead>\n",
              "  <tbody>\n",
              "    <tr>\n",
              "      <th>(1.573, 1.621]</th>\n",
              "      <td>3110</td>\n",
              "      <td>19</td>\n",
              "    </tr>\n",
              "    <tr>\n",
              "      <th>(1.526, 1.573]</th>\n",
              "      <td>2734</td>\n",
              "      <td>17</td>\n",
              "    </tr>\n",
              "    <tr>\n",
              "      <th>(1.621, 1.668]</th>\n",
              "      <td>2550</td>\n",
              "      <td>15</td>\n",
              "    </tr>\n",
              "    <tr>\n",
              "      <th>(1.668, 1.716]</th>\n",
              "      <td>2063</td>\n",
              "      <td>12</td>\n",
              "    </tr>\n",
              "    <tr>\n",
              "      <th>(1.478, 1.526]</th>\n",
              "      <td>1782</td>\n",
              "      <td>11</td>\n",
              "    </tr>\n",
              "    <tr>\n",
              "      <th>(1.716, 1.763]</th>\n",
              "      <td>1416</td>\n",
              "      <td>9</td>\n",
              "    </tr>\n",
              "    <tr>\n",
              "      <th>(1.431, 1.478]</th>\n",
              "      <td>1012</td>\n",
              "      <td>6</td>\n",
              "    </tr>\n",
              "    <tr>\n",
              "      <th>(1.763, 1.811]</th>\n",
              "      <td>749</td>\n",
              "      <td>5</td>\n",
              "    </tr>\n",
              "    <tr>\n",
              "      <th>(1.383, 1.431]</th>\n",
              "      <td>484</td>\n",
              "      <td>3</td>\n",
              "    </tr>\n",
              "    <tr>\n",
              "      <th>(1.811, 1.858]</th>\n",
              "      <td>300</td>\n",
              "      <td>2</td>\n",
              "    </tr>\n",
              "    <tr>\n",
              "      <th>(1.336, 1.383]</th>\n",
              "      <td>199</td>\n",
              "      <td>1</td>\n",
              "    </tr>\n",
              "    <tr>\n",
              "      <th>(1.858, 1.906]</th>\n",
              "      <td>94</td>\n",
              "      <td>1</td>\n",
              "    </tr>\n",
              "    <tr>\n",
              "      <th>(1.288, 1.336]</th>\n",
              "      <td>47</td>\n",
              "      <td>0</td>\n",
              "    </tr>\n",
              "    <tr>\n",
              "      <th>(1.906, 1.953]</th>\n",
              "      <td>13</td>\n",
              "      <td>0</td>\n",
              "    </tr>\n",
              "    <tr>\n",
              "      <th>(1.24, 1.288]</th>\n",
              "      <td>3</td>\n",
              "      <td>0</td>\n",
              "    </tr>\n",
              "  </tbody>\n",
              "</table>\n",
              "</div>"
            ],
            "text/plain": [
              "                Frequência  Proporção (%)\n",
              "Altura (M)                               \n",
              "(1.573, 1.621]        3110             19\n",
              "(1.526, 1.573]        2734             17\n",
              "(1.621, 1.668]        2550             15\n",
              "(1.668, 1.716]        2063             12\n",
              "(1.478, 1.526]        1782             11\n",
              "(1.716, 1.763]        1416              9\n",
              "(1.431, 1.478]        1012              6\n",
              "(1.763, 1.811]         749              5\n",
              "(1.383, 1.431]         484              3\n",
              "(1.811, 1.858]         300              2\n",
              "(1.336, 1.383]         199              1\n",
              "(1.858, 1.906]          94              1\n",
              "(1.288, 1.336]          47              0\n",
              "(1.906, 1.953]          13              0\n",
              "(1.24, 1.288]            3              0"
            ]
          },
          "metadata": {
            "tags": []
          },
          "execution_count": 38
        }
      ]
    },
    {
      "cell_type": "markdown",
      "metadata": {
        "id": "qlEZrky8N4Og"
      },
      "source": [
        "##Desafio 6 - Criar outros CrossTabs para analisar outras variáveis, além das abordadas em aulas. Pesquisar sobre o parâmetro aggfunc e testar em pelo menos uma tabela criada."
      ]
    },
    {
      "cell_type": "markdown",
      "metadata": {
        "id": "aP4PGoB7a72M"
      },
      "source": [
        "###Constrangimento com o questionário"
      ]
    },
    {
      "cell_type": "code",
      "metadata": {
        "id": "aRDavPWgVxGo"
      },
      "source": [
        "sim_nao = {\n",
        "    1:\t'Sim',\n",
        "    2:\t'Não',\n",
        "    99: 'Não informado'\n",
        "}"
      ],
      "execution_count": null,
      "outputs": []
    },
    {
      "cell_type": "code",
      "metadata": {
        "id": "5PjEK2ehs4bK"
      },
      "source": [
        "constrangimento = tabela_frequencia(dados['VB16001A08'], \n",
        "                                    'Você achou este questionário constrangedor?',\n",
        "                                    sim_nao) "
      ],
      "execution_count": null,
      "outputs": []
    },
    {
      "cell_type": "code",
      "metadata": {
        "colab": {
          "base_uri": "https://localhost:8080/",
          "height": 171
        },
        "id": "vYzZ-mZ9WWgb",
        "outputId": "138b04ef-99a9-4c18-830d-2fdb742c3472"
      },
      "source": [
        "constrangimento"
      ],
      "execution_count": null,
      "outputs": [
        {
          "output_type": "execute_result",
          "data": {
            "text/html": [
              "<div>\n",
              "<style scoped>\n",
              "    .dataframe tbody tr th:only-of-type {\n",
              "        vertical-align: middle;\n",
              "    }\n",
              "\n",
              "    .dataframe tbody tr th {\n",
              "        vertical-align: top;\n",
              "    }\n",
              "\n",
              "    .dataframe thead th {\n",
              "        text-align: right;\n",
              "    }\n",
              "</style>\n",
              "<table border=\"1\" class=\"dataframe\">\n",
              "  <thead>\n",
              "    <tr style=\"text-align: right;\">\n",
              "      <th></th>\n",
              "      <th>Frequência</th>\n",
              "      <th>Proporção (%)</th>\n",
              "    </tr>\n",
              "    <tr>\n",
              "      <th>Você achou este questionário constrangedor?</th>\n",
              "      <th></th>\n",
              "      <th></th>\n",
              "    </tr>\n",
              "  </thead>\n",
              "  <tbody>\n",
              "    <tr>\n",
              "      <th>Não</th>\n",
              "      <td>16285</td>\n",
              "      <td>98</td>\n",
              "    </tr>\n",
              "    <tr>\n",
              "      <th>Sim</th>\n",
              "      <td>189</td>\n",
              "      <td>1</td>\n",
              "    </tr>\n",
              "    <tr>\n",
              "      <th>Não informado</th>\n",
              "      <td>82</td>\n",
              "      <td>0</td>\n",
              "    </tr>\n",
              "  </tbody>\n",
              "</table>\n",
              "</div>"
            ],
            "text/plain": [
              "                                             Frequência  Proporção (%)\n",
              "Você achou este questionário constrangedor?                           \n",
              "Não                                               16285             98\n",
              "Sim                                                 189              1\n",
              "Não informado                                        82              0"
            ]
          },
          "metadata": {
            "tags": []
          },
          "execution_count": 41
        }
      ]
    },
    {
      "cell_type": "code",
      "metadata": {
        "colab": {
          "base_uri": "https://localhost:8080/",
          "height": 171
        },
        "id": "X_VZnFOpVuqr",
        "outputId": "bd3feeba-8eba-418f-f3c1-2ce5c2020249"
      },
      "source": [
        "constrangimento_cruzado = round(pd.crosstab(dados['VB16001A08'], dados['VB01001'],\n",
        "                                      normalize='columns') * 100, 0)\n",
        "constrangimento_cruzado.rename(index=sim_nao, inplace=True)\n",
        "constrangimento_cruzado.rename(columns={1: 'Masculino', 2: 'Feminino'}, inplace=True)\n",
        "constrangimento_cruzado"
      ],
      "execution_count": null,
      "outputs": [
        {
          "output_type": "execute_result",
          "data": {
            "text/html": [
              "<div>\n",
              "<style scoped>\n",
              "    .dataframe tbody tr th:only-of-type {\n",
              "        vertical-align: middle;\n",
              "    }\n",
              "\n",
              "    .dataframe tbody tr th {\n",
              "        vertical-align: top;\n",
              "    }\n",
              "\n",
              "    .dataframe thead th {\n",
              "        text-align: right;\n",
              "    }\n",
              "</style>\n",
              "<table border=\"1\" class=\"dataframe\">\n",
              "  <thead>\n",
              "    <tr style=\"text-align: right;\">\n",
              "      <th>VB01001</th>\n",
              "      <th>Masculino</th>\n",
              "      <th>Feminino</th>\n",
              "    </tr>\n",
              "    <tr>\n",
              "      <th>VB16001A08</th>\n",
              "      <th></th>\n",
              "      <th></th>\n",
              "    </tr>\n",
              "  </thead>\n",
              "  <tbody>\n",
              "    <tr>\n",
              "      <th>Sim</th>\n",
              "      <td>1.0</td>\n",
              "      <td>1.0</td>\n",
              "    </tr>\n",
              "    <tr>\n",
              "      <th>Não</th>\n",
              "      <td>98.0</td>\n",
              "      <td>99.0</td>\n",
              "    </tr>\n",
              "    <tr>\n",
              "      <th>Não informado</th>\n",
              "      <td>1.0</td>\n",
              "      <td>0.0</td>\n",
              "    </tr>\n",
              "  </tbody>\n",
              "</table>\n",
              "</div>"
            ],
            "text/plain": [
              "VB01001        Masculino  Feminino\n",
              "VB16001A08                        \n",
              "Sim                  1.0       1.0\n",
              "Não                 98.0      99.0\n",
              "Não informado        1.0       0.0"
            ]
          },
          "metadata": {
            "tags": []
          },
          "execution_count": 42
        }
      ]
    },
    {
      "cell_type": "code",
      "metadata": {
        "colab": {
          "base_uri": "https://localhost:8080/",
          "height": 171
        },
        "id": "maaQ0k56aTNP",
        "outputId": "42496770-e0ee-41d1-8376-8a0f32bac364"
      },
      "source": [
        "constrangimento_cruzado = round(pd.crosstab(dados['VB16001A08'], dados['VB01001'],\n",
        "                                      normalize='index') * 100, 0)\n",
        "constrangimento_cruzado.rename(index=sim_nao, inplace=True)\n",
        "constrangimento_cruzado.rename(columns={1: 'Masculino', 2: 'Feminino'}, inplace=True)\n",
        "constrangimento_cruzado"
      ],
      "execution_count": null,
      "outputs": [
        {
          "output_type": "execute_result",
          "data": {
            "text/html": [
              "<div>\n",
              "<style scoped>\n",
              "    .dataframe tbody tr th:only-of-type {\n",
              "        vertical-align: middle;\n",
              "    }\n",
              "\n",
              "    .dataframe tbody tr th {\n",
              "        vertical-align: top;\n",
              "    }\n",
              "\n",
              "    .dataframe thead th {\n",
              "        text-align: right;\n",
              "    }\n",
              "</style>\n",
              "<table border=\"1\" class=\"dataframe\">\n",
              "  <thead>\n",
              "    <tr style=\"text-align: right;\">\n",
              "      <th>VB01001</th>\n",
              "      <th>Masculino</th>\n",
              "      <th>Feminino</th>\n",
              "    </tr>\n",
              "    <tr>\n",
              "      <th>VB16001A08</th>\n",
              "      <th></th>\n",
              "      <th></th>\n",
              "    </tr>\n",
              "  </thead>\n",
              "  <tbody>\n",
              "    <tr>\n",
              "      <th>Sim</th>\n",
              "      <td>60.0</td>\n",
              "      <td>40.0</td>\n",
              "    </tr>\n",
              "    <tr>\n",
              "      <th>Não</th>\n",
              "      <td>50.0</td>\n",
              "      <td>50.0</td>\n",
              "    </tr>\n",
              "    <tr>\n",
              "      <th>Não informado</th>\n",
              "      <td>67.0</td>\n",
              "      <td>33.0</td>\n",
              "    </tr>\n",
              "  </tbody>\n",
              "</table>\n",
              "</div>"
            ],
            "text/plain": [
              "VB01001        Masculino  Feminino\n",
              "VB16001A08                        \n",
              "Sim                 60.0      40.0\n",
              "Não                 50.0      50.0\n",
              "Não informado       67.0      33.0"
            ]
          },
          "metadata": {
            "tags": []
          },
          "execution_count": 43
        }
      ]
    },
    {
      "cell_type": "markdown",
      "metadata": {
        "id": "oPFj5vVoZkCK"
      },
      "source": [
        "A normalização pode ser feita pela linha, pela coluna ou pela frequência total."
      ]
    },
    {
      "cell_type": "markdown",
      "metadata": {
        "id": "o8Ano4o0anyR"
      },
      "source": [
        "###Perspectiva"
      ]
    },
    {
      "cell_type": "markdown",
      "metadata": {
        "id": "fEPkAy--c6iZ"
      },
      "source": [
        "####Por sexo"
      ]
    },
    {
      "cell_type": "code",
      "metadata": {
        "id": "KzH9CzQtXGff"
      },
      "source": [
        "dic_perspectiva = {\n",
        "    1:\t'Somente continuar estudando',\n",
        "    2:\t'Somente trabalhar',\n",
        "    3:\t'Continuar estudando e trabalhar',\n",
        "    4:\t'Seguir outro plano',\n",
        "    5:\t'Não sei',\n",
        "    99:\t'Não informado'\n",
        "}"
      ],
      "execution_count": null,
      "outputs": []
    },
    {
      "cell_type": "code",
      "metadata": {
        "colab": {
          "base_uri": "https://localhost:8080/",
          "height": 263
        },
        "id": "lvI7W21va167",
        "outputId": "794cde5d-7b4a-4f43-9a60-a0cb71ad4dd1"
      },
      "source": [
        "perspectiva_sexo = round(pd.crosstab(dados['VB01026'], dados['VB01001'], \n",
        "                               normalize='columns', colnames=['Sexo'],\n",
        "                               rownames=['Quando terminar o ciclo/curso que você está frequentando atualmente, você pretende?']) * 100, 0)\n",
        "perspectiva_sexo.rename(index=dic_perspectiva, inplace=True)\n",
        "perspectiva_sexo.rename(columns={1: 'Masculino', 2: 'Feminino'}, inplace=True)\n",
        "perspectiva_sexo"
      ],
      "execution_count": null,
      "outputs": [
        {
          "output_type": "execute_result",
          "data": {
            "text/html": [
              "<div>\n",
              "<style scoped>\n",
              "    .dataframe tbody tr th:only-of-type {\n",
              "        vertical-align: middle;\n",
              "    }\n",
              "\n",
              "    .dataframe tbody tr th {\n",
              "        vertical-align: top;\n",
              "    }\n",
              "\n",
              "    .dataframe thead th {\n",
              "        text-align: right;\n",
              "    }\n",
              "</style>\n",
              "<table border=\"1\" class=\"dataframe\">\n",
              "  <thead>\n",
              "    <tr style=\"text-align: right;\">\n",
              "      <th>Sexo</th>\n",
              "      <th>Masculino</th>\n",
              "      <th>Feminino</th>\n",
              "    </tr>\n",
              "    <tr>\n",
              "      <th>Quando terminar o ciclo/curso que você está frequentando atualmente, você pretende?</th>\n",
              "      <th></th>\n",
              "      <th></th>\n",
              "    </tr>\n",
              "  </thead>\n",
              "  <tbody>\n",
              "    <tr>\n",
              "      <th>Somente continuar estudando</th>\n",
              "      <td>15.0</td>\n",
              "      <td>15.0</td>\n",
              "    </tr>\n",
              "    <tr>\n",
              "      <th>Somente trabalhar</th>\n",
              "      <td>9.0</td>\n",
              "      <td>5.0</td>\n",
              "    </tr>\n",
              "    <tr>\n",
              "      <th>Continuar estudando e trabalhar</th>\n",
              "      <td>61.0</td>\n",
              "      <td>69.0</td>\n",
              "    </tr>\n",
              "    <tr>\n",
              "      <th>Seguir outro plano</th>\n",
              "      <td>7.0</td>\n",
              "      <td>5.0</td>\n",
              "    </tr>\n",
              "    <tr>\n",
              "      <th>Não sei</th>\n",
              "      <td>8.0</td>\n",
              "      <td>6.0</td>\n",
              "    </tr>\n",
              "    <tr>\n",
              "      <th>Não informado</th>\n",
              "      <td>0.0</td>\n",
              "      <td>0.0</td>\n",
              "    </tr>\n",
              "  </tbody>\n",
              "</table>\n",
              "</div>"
            ],
            "text/plain": [
              "Sexo                                                Masculino  Feminino\n",
              "Quando terminar o ciclo/curso que você está fre...                     \n",
              "Somente continuar estudando                              15.0      15.0\n",
              "Somente trabalhar                                         9.0       5.0\n",
              "Continuar estudando e trabalhar                          61.0      69.0\n",
              "Seguir outro plano                                        7.0       5.0\n",
              "Não sei                                                   8.0       6.0\n",
              "Não informado                                             0.0       0.0"
            ]
          },
          "metadata": {
            "tags": []
          },
          "execution_count": 45
        }
      ]
    },
    {
      "cell_type": "markdown",
      "metadata": {
        "id": "ej52n1wWcL9m"
      },
      "source": [
        "Para maioria de ambos os sexos a perspectiva é continuar estudando e trabalhar ou continuar estudando."
      ]
    },
    {
      "cell_type": "markdown",
      "metadata": {
        "id": "cjFz4m3Dc-ib"
      },
      "source": [
        "####Por Região"
      ]
    },
    {
      "cell_type": "code",
      "metadata": {
        "colab": {
          "base_uri": "https://localhost:8080/",
          "height": 263
        },
        "id": "e9qtuoT2bsot",
        "outputId": "7daaba3e-da6c-4ff3-c393-04da5642876f"
      },
      "source": [
        "perspectiva_regioes = round(pd.crosstab(dados['VB01026'], dados['REGEOGR'], \n",
        "                               normalize='columns', colnames=['Regiões'],\n",
        "                               rownames=['Quando terminar o ciclo/curso que você está frequentando atualmente, você pretende?']) * 100, 0)\n",
        "perspectiva_regioes.rename(index=dic_perspectiva, inplace=True)\n",
        "perspectiva_regioes.rename(columns=dic_regioes, inplace=True)\n",
        "perspectiva_regioes"
      ],
      "execution_count": null,
      "outputs": [
        {
          "output_type": "execute_result",
          "data": {
            "text/html": [
              "<div>\n",
              "<style scoped>\n",
              "    .dataframe tbody tr th:only-of-type {\n",
              "        vertical-align: middle;\n",
              "    }\n",
              "\n",
              "    .dataframe tbody tr th {\n",
              "        vertical-align: top;\n",
              "    }\n",
              "\n",
              "    .dataframe thead th {\n",
              "        text-align: right;\n",
              "    }\n",
              "</style>\n",
              "<table border=\"1\" class=\"dataframe\">\n",
              "  <thead>\n",
              "    <tr style=\"text-align: right;\">\n",
              "      <th>Regiões</th>\n",
              "      <th>Norte</th>\n",
              "      <th>Nordeste</th>\n",
              "      <th>Sudeste</th>\n",
              "      <th>Sul</th>\n",
              "      <th>Centro-Oeste</th>\n",
              "    </tr>\n",
              "    <tr>\n",
              "      <th>Quando terminar o ciclo/curso que você está frequentando atualmente, você pretende?</th>\n",
              "      <th></th>\n",
              "      <th></th>\n",
              "      <th></th>\n",
              "      <th></th>\n",
              "      <th></th>\n",
              "    </tr>\n",
              "  </thead>\n",
              "  <tbody>\n",
              "    <tr>\n",
              "      <th>Somente continuar estudando</th>\n",
              "      <td>17.0</td>\n",
              "      <td>17.0</td>\n",
              "      <td>13.0</td>\n",
              "      <td>11.0</td>\n",
              "      <td>16.0</td>\n",
              "    </tr>\n",
              "    <tr>\n",
              "      <th>Somente trabalhar</th>\n",
              "      <td>6.0</td>\n",
              "      <td>7.0</td>\n",
              "      <td>8.0</td>\n",
              "      <td>8.0</td>\n",
              "      <td>6.0</td>\n",
              "    </tr>\n",
              "    <tr>\n",
              "      <th>Continuar estudando e trabalhar</th>\n",
              "      <td>62.0</td>\n",
              "      <td>64.0</td>\n",
              "      <td>66.0</td>\n",
              "      <td>68.0</td>\n",
              "      <td>66.0</td>\n",
              "    </tr>\n",
              "    <tr>\n",
              "      <th>Seguir outro plano</th>\n",
              "      <td>7.0</td>\n",
              "      <td>6.0</td>\n",
              "      <td>6.0</td>\n",
              "      <td>5.0</td>\n",
              "      <td>6.0</td>\n",
              "    </tr>\n",
              "    <tr>\n",
              "      <th>Não sei</th>\n",
              "      <td>8.0</td>\n",
              "      <td>7.0</td>\n",
              "      <td>6.0</td>\n",
              "      <td>8.0</td>\n",
              "      <td>7.0</td>\n",
              "    </tr>\n",
              "    <tr>\n",
              "      <th>Não informado</th>\n",
              "      <td>0.0</td>\n",
              "      <td>0.0</td>\n",
              "      <td>0.0</td>\n",
              "      <td>0.0</td>\n",
              "      <td>0.0</td>\n",
              "    </tr>\n",
              "  </tbody>\n",
              "</table>\n",
              "</div>"
            ],
            "text/plain": [
              "Regiões                                             Norte  ...  Centro-Oeste\n",
              "Quando terminar o ciclo/curso que você está fre...         ...              \n",
              "Somente continuar estudando                          17.0  ...          16.0\n",
              "Somente trabalhar                                     6.0  ...           6.0\n",
              "Continuar estudando e trabalhar                      62.0  ...          66.0\n",
              "Seguir outro plano                                    7.0  ...           6.0\n",
              "Não sei                                               8.0  ...           7.0\n",
              "Não informado                                         0.0  ...           0.0\n",
              "\n",
              "[6 rows x 5 columns]"
            ]
          },
          "metadata": {
            "tags": []
          },
          "execution_count": 46
        }
      ]
    },
    {
      "cell_type": "code",
      "metadata": {
        "colab": {
          "base_uri": "https://localhost:8080/",
          "height": 454
        },
        "id": "qsZMIk8qebnE",
        "outputId": "0f5535f4-6ccb-4966-b06e-b807ea9d847b"
      },
      "source": [
        "perspectiva_regioes.plot(kind='barh', figsize=(10, 7), fontsize=15)\n",
        "plt.ylabel('')\n",
        "plt.title('Perspectiva por Região - PeNSE (2015)', fontsize=20)\n",
        "plt.show()"
      ],
      "execution_count": null,
      "outputs": [
        {
          "output_type": "display_data",
          "data": {
            "image/png": "[encoded data removed]",
            "text/plain": [
              "<Figure size 720x504 with 1 Axes>"
            ]
          },
          "metadata": {
            "tags": [],
            "needs_background": "light"
          }
        }
      ]
    },
    {
      "cell_type": "markdown",
      "metadata": {
        "id": "ENZLBlQHaDl4"
      },
      "source": [
        "####Pretensão de escolaridade"
      ]
    },
    {
      "cell_type": "code",
      "metadata": {
        "id": "76_6jdLMaMDK"
      },
      "source": [
        "dic_pretensao_escolaridade = {\n",
        "1:\t'Ensino Fundamental', \n",
        "2:\t'Ensino Médio',\n",
        "3:\t'Ensino Médio Técnico',\n",
        "4:\t'Ensino Superior',\n",
        "5:\t'Pós-graduação',\n",
        "6:\t'Não sei',\n",
        "99:\t'Não informado'}"
      ],
      "execution_count": null,
      "outputs": []
    },
    {
      "cell_type": "code",
      "metadata": {
        "colab": {
          "base_uri": "https://localhost:8080/",
          "height": 294
        },
        "id": "iavKZPG8ZlHB",
        "outputId": "6788e3cb-aad7-47d8-ead4-c8123ae502d0"
      },
      "source": [
        "pretensao_escolaridade = round(pd.crosstab(dados['VB01025'], dados['VB01001'], normalize='columns',\n",
        "                  rownames=['Qual o grau de escolaridade mais elevado que você pretendo concluir?'],\n",
        "                  colnames=['Sexo']\n",
        "                  ) * 100, 0)\n",
        "\n",
        "pretensao_escolaridade.rename(index=dic_pretensao_escolaridade, inplace=True)\n",
        "pretensao_escolaridade.rename(columns={1: 'Masculino', 2: 'Feminino'}, inplace=True)\n",
        "pretensao_escolaridade"
      ],
      "execution_count": null,
      "outputs": [
        {
          "output_type": "execute_result",
          "data": {
            "text/html": [
              "<div>\n",
              "<style scoped>\n",
              "    .dataframe tbody tr th:only-of-type {\n",
              "        vertical-align: middle;\n",
              "    }\n",
              "\n",
              "    .dataframe tbody tr th {\n",
              "        vertical-align: top;\n",
              "    }\n",
              "\n",
              "    .dataframe thead th {\n",
              "        text-align: right;\n",
              "    }\n",
              "</style>\n",
              "<table border=\"1\" class=\"dataframe\">\n",
              "  <thead>\n",
              "    <tr style=\"text-align: right;\">\n",
              "      <th>Sexo</th>\n",
              "      <th>Masculino</th>\n",
              "      <th>Feminino</th>\n",
              "    </tr>\n",
              "    <tr>\n",
              "      <th>Qual o grau de escolaridade mais elevado que você pretendo concluir?</th>\n",
              "      <th></th>\n",
              "      <th></th>\n",
              "    </tr>\n",
              "  </thead>\n",
              "  <tbody>\n",
              "    <tr>\n",
              "      <th>Ensino Fundamental</th>\n",
              "      <td>10.0</td>\n",
              "      <td>7.0</td>\n",
              "    </tr>\n",
              "    <tr>\n",
              "      <th>Ensino Médio</th>\n",
              "      <td>11.0</td>\n",
              "      <td>9.0</td>\n",
              "    </tr>\n",
              "    <tr>\n",
              "      <th>Ensino Médio Técnico</th>\n",
              "      <td>5.0</td>\n",
              "      <td>3.0</td>\n",
              "    </tr>\n",
              "    <tr>\n",
              "      <th>Ensino Superior</th>\n",
              "      <td>16.0</td>\n",
              "      <td>15.0</td>\n",
              "    </tr>\n",
              "    <tr>\n",
              "      <th>Pós-graduação</th>\n",
              "      <td>38.0</td>\n",
              "      <td>47.0</td>\n",
              "    </tr>\n",
              "    <tr>\n",
              "      <th>Não sei</th>\n",
              "      <td>21.0</td>\n",
              "      <td>19.0</td>\n",
              "    </tr>\n",
              "    <tr>\n",
              "      <th>Não informado</th>\n",
              "      <td>0.0</td>\n",
              "      <td>0.0</td>\n",
              "    </tr>\n",
              "  </tbody>\n",
              "</table>\n",
              "</div>"
            ],
            "text/plain": [
              "Sexo                                                Masculino  Feminino\n",
              "Qual o grau de escolaridade mais elevado que vo...                     \n",
              "Ensino Fundamental                                       10.0       7.0\n",
              "Ensino Médio                                             11.0       9.0\n",
              "Ensino Médio Técnico                                      5.0       3.0\n",
              "Ensino Superior                                          16.0      15.0\n",
              "Pós-graduação                                            38.0      47.0\n",
              "Não sei                                                  21.0      19.0\n",
              "Não informado                                             0.0       0.0"
            ]
          },
          "metadata": {
            "tags": []
          },
          "execution_count": 49
        }
      ]
    },
    {
      "cell_type": "markdown",
      "metadata": {
        "id": "rIAHmWDsf7zx"
      },
      "source": [
        "####Aggfunc - média da altura"
      ]
    },
    {
      "cell_type": "code",
      "metadata": {
        "id": "iDIMu1Gddhez"
      },
      "source": [
        "dic_idade = {\n",
        "    11:\t'11 anos ou menos',\n",
        "    12:\t'12 anos',\n",
        "    13:\t'13 anos',\n",
        "    14:\t'14 anos',\n",
        "    15:\t'15 anos',\n",
        "    16:\t'16 anos',\n",
        "    17:\t'17 anos',\n",
        "    18:\t'18 anos',\n",
        "    19:\t'19 anos ou mais'\n",
        "}"
      ],
      "execution_count": null,
      "outputs": []
    },
    {
      "cell_type": "code",
      "metadata": {
        "colab": {
          "base_uri": "https://localhost:8080/",
          "height": 355
        },
        "id": "XzU3aH9lZqPd",
        "outputId": "2ae95890-566a-4166-b3c8-6ec66fbc8ff9"
      },
      "source": [
        "media_altura = round(pd.crosstab(dados['VB01003'], dados['VB01001'], \n",
        "                           values=dados['VB17004'], \n",
        "                           rownames=['Qual a sua idade?'], colnames=['Sexo'], \n",
        "                           aggfunc='mean') / 100, 2)\n",
        "\n",
        "media_altura.rename(index=dic_idade, inplace=True)\n",
        "media_altura.rename(columns={1: 'Masculino', 2: 'Feminino'}, inplace=True)\n",
        "media_altura"
      ],
      "execution_count": null,
      "outputs": [
        {
          "output_type": "execute_result",
          "data": {
            "text/html": [
              "<div>\n",
              "<style scoped>\n",
              "    .dataframe tbody tr th:only-of-type {\n",
              "        vertical-align: middle;\n",
              "    }\n",
              "\n",
              "    .dataframe tbody tr th {\n",
              "        vertical-align: top;\n",
              "    }\n",
              "\n",
              "    .dataframe thead th {\n",
              "        text-align: right;\n",
              "    }\n",
              "</style>\n",
              "<table border=\"1\" class=\"dataframe\">\n",
              "  <thead>\n",
              "    <tr style=\"text-align: right;\">\n",
              "      <th>Sexo</th>\n",
              "      <th>Masculino</th>\n",
              "      <th>Feminino</th>\n",
              "    </tr>\n",
              "    <tr>\n",
              "      <th>Qual a sua idade?</th>\n",
              "      <th></th>\n",
              "      <th></th>\n",
              "    </tr>\n",
              "  </thead>\n",
              "  <tbody>\n",
              "    <tr>\n",
              "      <th>11 anos ou menos</th>\n",
              "      <td>1.48</td>\n",
              "      <td>1.50</td>\n",
              "    </tr>\n",
              "    <tr>\n",
              "      <th>12 anos</th>\n",
              "      <td>1.54</td>\n",
              "      <td>1.55</td>\n",
              "    </tr>\n",
              "    <tr>\n",
              "      <th>13 anos</th>\n",
              "      <td>1.61</td>\n",
              "      <td>1.58</td>\n",
              "    </tr>\n",
              "    <tr>\n",
              "      <th>14 anos</th>\n",
              "      <td>1.66</td>\n",
              "      <td>1.59</td>\n",
              "    </tr>\n",
              "    <tr>\n",
              "      <th>15 anos</th>\n",
              "      <td>1.70</td>\n",
              "      <td>1.61</td>\n",
              "    </tr>\n",
              "    <tr>\n",
              "      <th>16 anos</th>\n",
              "      <td>1.72</td>\n",
              "      <td>1.60</td>\n",
              "    </tr>\n",
              "    <tr>\n",
              "      <th>17 anos</th>\n",
              "      <td>1.74</td>\n",
              "      <td>1.61</td>\n",
              "    </tr>\n",
              "    <tr>\n",
              "      <th>18 anos</th>\n",
              "      <td>1.73</td>\n",
              "      <td>1.59</td>\n",
              "    </tr>\n",
              "    <tr>\n",
              "      <th>19 anos ou mais</th>\n",
              "      <td>1.72</td>\n",
              "      <td>1.59</td>\n",
              "    </tr>\n",
              "  </tbody>\n",
              "</table>\n",
              "</div>"
            ],
            "text/plain": [
              "Sexo               Masculino  Feminino\n",
              "Qual a sua idade?                     \n",
              "11 anos ou menos        1.48      1.50\n",
              "12 anos                 1.54      1.55\n",
              "13 anos                 1.61      1.58\n",
              "14 anos                 1.66      1.59\n",
              "15 anos                 1.70      1.61\n",
              "16 anos                 1.72      1.60\n",
              "17 anos                 1.74      1.61\n",
              "18 anos                 1.73      1.59\n",
              "19 anos ou mais         1.72      1.59"
            ]
          },
          "metadata": {
            "tags": []
          },
          "execution_count": 51
        }
      ]
    },
    {
      "cell_type": "markdown",
      "metadata": {
        "id": "1mobYyNlgFdI"
      },
      "source": [
        "####Cuidado com o peso"
      ]
    },
    {
      "cell_type": "code",
      "metadata": {
        "id": "F6AB7-lUi2n0"
      },
      "source": [
        "dic_cuidado_peso = {\n",
        "1:\t'Não estou fazendo nada',\n",
        "2:\t'Estou tentando perder peso',\n",
        "3:\t'Estou tentando ganhar peso',\n",
        "4:\t'Estou tentando manter o mesmo peso',\n",
        "99:\t'Não informado'}"
      ],
      "execution_count": null,
      "outputs": []
    },
    {
      "cell_type": "code",
      "metadata": {
        "colab": {
          "base_uri": "https://localhost:8080/",
          "height": 233
        },
        "id": "_8quoPfpeMl0",
        "outputId": "149b97f8-9ff7-4068-b5c4-3371f9149737"
      },
      "source": [
        "cuidado_peso = pd.crosstab(dados['VB11002'], dados['VB01001'], \n",
        "                           values=dados['VB17003'], \n",
        "                           rownames=['O que você está fazendo em relação a seu peso?'], colnames=[''], \n",
        "                           aggfunc='mean')\n",
        "\n",
        "cuidado_peso.rename(index=dic_cuidado_peso, inplace=True)\n",
        "cuidado_peso.rename(columns={1: 'Masculino', 2: 'Feminino'}, inplace=True)\n",
        "cuidado_peso"
      ],
      "execution_count": null,
      "outputs": [
        {
          "output_type": "execute_result",
          "data": {
            "text/html": [
              "<div>\n",
              "<style scoped>\n",
              "    .dataframe tbody tr th:only-of-type {\n",
              "        vertical-align: middle;\n",
              "    }\n",
              "\n",
              "    .dataframe tbody tr th {\n",
              "        vertical-align: top;\n",
              "    }\n",
              "\n",
              "    .dataframe thead th {\n",
              "        text-align: right;\n",
              "    }\n",
              "</style>\n",
              "<table border=\"1\" class=\"dataframe\">\n",
              "  <thead>\n",
              "    <tr style=\"text-align: right;\">\n",
              "      <th></th>\n",
              "      <th>Masculino</th>\n",
              "      <th>Feminino</th>\n",
              "    </tr>\n",
              "    <tr>\n",
              "      <th>O que você está fazendo em relação a seu peso?</th>\n",
              "      <th></th>\n",
              "      <th></th>\n",
              "    </tr>\n",
              "  </thead>\n",
              "  <tbody>\n",
              "    <tr>\n",
              "      <th>Não estou fazendo nada</th>\n",
              "      <td>54.750124</td>\n",
              "      <td>50.273315</td>\n",
              "    </tr>\n",
              "    <tr>\n",
              "      <th>Estou tentando perder peso</th>\n",
              "      <td>65.585540</td>\n",
              "      <td>60.234523</td>\n",
              "    </tr>\n",
              "    <tr>\n",
              "      <th>Estou tentando ganhar peso</th>\n",
              "      <td>50.734544</td>\n",
              "      <td>44.402672</td>\n",
              "    </tr>\n",
              "    <tr>\n",
              "      <th>Estou tentando manter o mesmo peso</th>\n",
              "      <td>55.515322</td>\n",
              "      <td>50.064812</td>\n",
              "    </tr>\n",
              "    <tr>\n",
              "      <th>Não informado</th>\n",
              "      <td>54.348649</td>\n",
              "      <td>49.438182</td>\n",
              "    </tr>\n",
              "  </tbody>\n",
              "</table>\n",
              "</div>"
            ],
            "text/plain": [
              "                                                Masculino   Feminino\n",
              "O que você está fazendo em relação a seu peso?                      \n",
              "Não estou fazendo nada                          54.750124  50.273315\n",
              "Estou tentando perder peso                      65.585540  60.234523\n",
              "Estou tentando ganhar peso                      50.734544  44.402672\n",
              "Estou tentando manter o mesmo peso              55.515322  50.064812\n",
              "Não informado                                   54.348649  49.438182"
            ]
          },
          "metadata": {
            "tags": []
          },
          "execution_count": 53
        }
      ]
    },
    {
      "cell_type": "code",
      "metadata": {
        "colab": {
          "base_uri": "https://localhost:8080/",
          "height": 510
        },
        "id": "rClWmdTChbe_",
        "outputId": "2719cacf-d2ce-4e87-8b01-4e428fe3f525"
      },
      "source": [
        "cuidado_peso.plot(kind='barh', figsize=(10, 8), fontsize=15, grid=True)\n",
        "plt.title('Cuidado com o peso X Peso médio', fontsize=20)\n",
        "plt.ylabel('')\n",
        "plt.show()"
      ],
      "execution_count": null,
      "outputs": [
        {
          "output_type": "display_data",
          "data": {
            "image/png": "[encoded data removed]",
            "text/plain": [
              "<Figure size 720x576 with 1 Axes>"
            ]
          },
          "metadata": {
            "tags": [],
            "needs_background": "light"
          }
        }
      ]
    },
    {
      "cell_type": "code",
      "metadata": {
        "id": "OLN-afQXrR5a"
      },
      "source": [
        "comeu_fora = {\n",
        "1:\t'Não comi em restaurantes fast food nos últimos 7 dias (0 dia)',\n",
        "2:\t'1 dia nos últimos 7 dias',\n",
        "3:\t'2 dias nos últimos 7 dias',\n",
        "4:\t'3 dias nos últimos 7 dias',\n",
        "5:\t'4 dias nos últimos 7 dias',\n",
        "6:\t'5 dias nos últimos 7 dias',\n",
        "7:\t'6 dias nos últimos 7 dias',\n",
        "8:\t'Todos os dias nos últimos 7 dias',\n",
        "99:\t'Não informado'}"
      ],
      "execution_count": null,
      "outputs": []
    },
    {
      "cell_type": "code",
      "metadata": {
        "colab": {
          "base_uri": "https://localhost:8080/",
          "height": 425
        },
        "id": "PZwdlUHkkhTy",
        "outputId": "16c460bb-4d7c-49a2-b136-5b98f7e2d1d4"
      },
      "source": [
        "comeu_fora_imc = round(pd.crosstab(dados['VB02023'], dados['classificacao_imc'],\n",
        "                             normalize='columns',\n",
        "                             rownames=['NOS ÚLTIMOS 7 DIAS, em quantos dias você comeu em restaurantes fast food, tais como lanchonetes, barracas de cachorro quentes, pizzaria etc?']) * 100, 2)\n",
        "comeu_fora_imc.rename(index=comeu_fora, inplace=True)\n",
        "comeu_fora_imc"
      ],
      "execution_count": null,
      "outputs": [
        {
          "output_type": "execute_result",
          "data": {
            "text/html": [
              "<div>\n",
              "<style scoped>\n",
              "    .dataframe tbody tr th:only-of-type {\n",
              "        vertical-align: middle;\n",
              "    }\n",
              "\n",
              "    .dataframe tbody tr th {\n",
              "        vertical-align: top;\n",
              "    }\n",
              "\n",
              "    .dataframe thead th {\n",
              "        text-align: right;\n",
              "    }\n",
              "</style>\n",
              "<table border=\"1\" class=\"dataframe\">\n",
              "  <thead>\n",
              "    <tr style=\"text-align: right;\">\n",
              "      <th>classificacao_imc</th>\n",
              "      <th>Muito abaixo do peso</th>\n",
              "      <th>Abaixo do peso</th>\n",
              "      <th>Peso normal</th>\n",
              "      <th>Acima do peso</th>\n",
              "      <th>Obesidade I</th>\n",
              "      <th>Obesidade II (severa)</th>\n",
              "      <th>Obesidade III (móribida)</th>\n",
              "    </tr>\n",
              "    <tr>\n",
              "      <th>NOS ÚLTIMOS 7 DIAS, em quantos dias você comeu em restaurantes fast food, tais como lanchonetes, barracas de cachorro quentes, pizzaria etc?</th>\n",
              "      <th></th>\n",
              "      <th></th>\n",
              "      <th></th>\n",
              "      <th></th>\n",
              "      <th></th>\n",
              "      <th></th>\n",
              "      <th></th>\n",
              "    </tr>\n",
              "  </thead>\n",
              "  <tbody>\n",
              "    <tr>\n",
              "      <th>Não comi em restaurantes fast food nos últimos 7 dias (0 dia)</th>\n",
              "      <td>54.55</td>\n",
              "      <td>53.18</td>\n",
              "      <td>50.92</td>\n",
              "      <td>55.33</td>\n",
              "      <td>60.12</td>\n",
              "      <td>63.11</td>\n",
              "      <td>59.52</td>\n",
              "    </tr>\n",
              "    <tr>\n",
              "      <th>1 dia nos últimos 7 dias</th>\n",
              "      <td>20.67</td>\n",
              "      <td>20.01</td>\n",
              "      <td>20.93</td>\n",
              "      <td>20.37</td>\n",
              "      <td>18.81</td>\n",
              "      <td>17.48</td>\n",
              "      <td>11.90</td>\n",
              "    </tr>\n",
              "    <tr>\n",
              "      <th>2 dias nos últimos 7 dias</th>\n",
              "      <td>10.09</td>\n",
              "      <td>10.59</td>\n",
              "      <td>11.71</td>\n",
              "      <td>11.01</td>\n",
              "      <td>10.43</td>\n",
              "      <td>8.74</td>\n",
              "      <td>9.52</td>\n",
              "    </tr>\n",
              "    <tr>\n",
              "      <th>3 dias nos últimos 7 dias</th>\n",
              "      <td>5.06</td>\n",
              "      <td>6.53</td>\n",
              "      <td>6.63</td>\n",
              "      <td>5.56</td>\n",
              "      <td>4.09</td>\n",
              "      <td>5.83</td>\n",
              "      <td>9.52</td>\n",
              "    </tr>\n",
              "    <tr>\n",
              "      <th>4 dias nos últimos 7 dias</th>\n",
              "      <td>3.07</td>\n",
              "      <td>3.44</td>\n",
              "      <td>3.47</td>\n",
              "      <td>2.61</td>\n",
              "      <td>3.07</td>\n",
              "      <td>2.91</td>\n",
              "      <td>4.76</td>\n",
              "    </tr>\n",
              "    <tr>\n",
              "      <th>5 dias nos últimos 7 dias</th>\n",
              "      <td>2.12</td>\n",
              "      <td>2.19</td>\n",
              "      <td>2.20</td>\n",
              "      <td>1.93</td>\n",
              "      <td>1.02</td>\n",
              "      <td>0.00</td>\n",
              "      <td>2.38</td>\n",
              "    </tr>\n",
              "    <tr>\n",
              "      <th>6 dias nos últimos 7 dias</th>\n",
              "      <td>1.45</td>\n",
              "      <td>1.29</td>\n",
              "      <td>1.52</td>\n",
              "      <td>1.19</td>\n",
              "      <td>1.02</td>\n",
              "      <td>0.00</td>\n",
              "      <td>2.38</td>\n",
              "    </tr>\n",
              "    <tr>\n",
              "      <th>Todos os dias nos últimos 7 dias</th>\n",
              "      <td>2.70</td>\n",
              "      <td>2.66</td>\n",
              "      <td>2.39</td>\n",
              "      <td>1.70</td>\n",
              "      <td>1.23</td>\n",
              "      <td>1.94</td>\n",
              "      <td>0.00</td>\n",
              "    </tr>\n",
              "    <tr>\n",
              "      <th>Não informado</th>\n",
              "      <td>0.29</td>\n",
              "      <td>0.12</td>\n",
              "      <td>0.23</td>\n",
              "      <td>0.28</td>\n",
              "      <td>0.20</td>\n",
              "      <td>0.00</td>\n",
              "      <td>0.00</td>\n",
              "    </tr>\n",
              "  </tbody>\n",
              "</table>\n",
              "</div>"
            ],
            "text/plain": [
              "classificacao_imc                                   Muito abaixo do peso  ...  Obesidade III (móribida)\n",
              "NOS ÚLTIMOS 7 DIAS, em quantos dias você comeu ...                        ...                          \n",
              "Não comi em restaurantes fast food nos últimos ...                 54.55  ...                     59.52\n",
              "1 dia nos últimos 7 dias                                           20.67  ...                     11.90\n",
              "2 dias nos últimos 7 dias                                          10.09  ...                      9.52\n",
              "3 dias nos últimos 7 dias                                           5.06  ...                      9.52\n",
              "4 dias nos últimos 7 dias                                           3.07  ...                      4.76\n",
              "5 dias nos últimos 7 dias                                           2.12  ...                      2.38\n",
              "6 dias nos últimos 7 dias                                           1.45  ...                      2.38\n",
              "Todos os dias nos últimos 7 dias                                    2.70  ...                      0.00\n",
              "Não informado                                                       0.29  ...                      0.00\n",
              "\n",
              "[9 rows x 7 columns]"
            ]
          },
          "metadata": {
            "tags": []
          },
          "execution_count": 56
        }
      ]
    },
    {
      "cell_type": "code",
      "metadata": {
        "id": "je-hHctvwhf9"
      },
      "source": [
        "dic_auto_image = {\n",
        "1:\t'Muito satisfeito(a)',\n",
        "2:\t'Satisfeito(a)',\n",
        "3:\t'Indiferente',\n",
        "4:\t'Insatisfeito(a)',\n",
        "5:\t'Muito insatisfeito(a)',\n",
        "99:\t'Não informado'}"
      ],
      "execution_count": null,
      "outputs": []
    },
    {
      "cell_type": "code",
      "metadata": {
        "colab": {
          "base_uri": "https://localhost:8080/",
          "height": 298
        },
        "id": "wtRrlhzppfJh",
        "outputId": "428450d1-0a0a-48fd-93f9-416cc5aa3e06"
      },
      "source": [
        "auto_imagem = round(pd.crosstab(dados['VB11007'], dados['classificacao_imc'], \n",
        "                                normalize='index',\n",
        "                                rownames=['Como você se sente em relação ao seu corpo?'],\n",
        "                                colnames=['IMC']) * 100, 2)\n",
        "auto_imagem.rename(index=dic_auto_image, inplace=True)\n",
        "auto_imagem"
      ],
      "execution_count": null,
      "outputs": [
        {
          "output_type": "execute_result",
          "data": {
            "text/html": [
              "<div>\n",
              "<style scoped>\n",
              "    .dataframe tbody tr th:only-of-type {\n",
              "        vertical-align: middle;\n",
              "    }\n",
              "\n",
              "    .dataframe tbody tr th {\n",
              "        vertical-align: top;\n",
              "    }\n",
              "\n",
              "    .dataframe thead th {\n",
              "        text-align: right;\n",
              "    }\n",
              "</style>\n",
              "<table border=\"1\" class=\"dataframe\">\n",
              "  <thead>\n",
              "    <tr style=\"text-align: right;\">\n",
              "      <th>IMC</th>\n",
              "      <th>Muito abaixo do peso</th>\n",
              "      <th>Abaixo do peso</th>\n",
              "      <th>Peso normal</th>\n",
              "      <th>Acima do peso</th>\n",
              "      <th>Obesidade I</th>\n",
              "      <th>Obesidade II (severa)</th>\n",
              "      <th>Obesidade III (móribida)</th>\n",
              "    </tr>\n",
              "    <tr>\n",
              "      <th>Como você se sente em relação ao seu corpo?</th>\n",
              "      <th></th>\n",
              "      <th></th>\n",
              "      <th></th>\n",
              "      <th></th>\n",
              "      <th></th>\n",
              "      <th></th>\n",
              "      <th></th>\n",
              "    </tr>\n",
              "  </thead>\n",
              "  <tbody>\n",
              "    <tr>\n",
              "      <th>Muito satisfeito(a)</th>\n",
              "      <td>19.94</td>\n",
              "      <td>18.68</td>\n",
              "      <td>53.47</td>\n",
              "      <td>6.45</td>\n",
              "      <td>1.24</td>\n",
              "      <td>0.13</td>\n",
              "      <td>0.09</td>\n",
              "    </tr>\n",
              "    <tr>\n",
              "      <th>Satisfeito(a)</th>\n",
              "      <td>13.60</td>\n",
              "      <td>15.98</td>\n",
              "      <td>60.07</td>\n",
              "      <td>8.21</td>\n",
              "      <td>1.65</td>\n",
              "      <td>0.39</td>\n",
              "      <td>0.10</td>\n",
              "    </tr>\n",
              "    <tr>\n",
              "      <th>Indiferente</th>\n",
              "      <td>12.51</td>\n",
              "      <td>12.95</td>\n",
              "      <td>52.30</td>\n",
              "      <td>15.05</td>\n",
              "      <td>5.42</td>\n",
              "      <td>1.22</td>\n",
              "      <td>0.55</td>\n",
              "    </tr>\n",
              "    <tr>\n",
              "      <th>Insatisfeito(a)</th>\n",
              "      <td>8.94</td>\n",
              "      <td>10.49</td>\n",
              "      <td>52.41</td>\n",
              "      <td>19.65</td>\n",
              "      <td>6.66</td>\n",
              "      <td>1.33</td>\n",
              "      <td>0.52</td>\n",
              "    </tr>\n",
              "    <tr>\n",
              "      <th>Muito insatisfeito(a)</th>\n",
              "      <td>12.04</td>\n",
              "      <td>11.76</td>\n",
              "      <td>42.44</td>\n",
              "      <td>21.57</td>\n",
              "      <td>8.82</td>\n",
              "      <td>2.24</td>\n",
              "      <td>1.12</td>\n",
              "    </tr>\n",
              "    <tr>\n",
              "      <th>Não informado</th>\n",
              "      <td>16.02</td>\n",
              "      <td>16.57</td>\n",
              "      <td>57.46</td>\n",
              "      <td>7.73</td>\n",
              "      <td>1.10</td>\n",
              "      <td>0.55</td>\n",
              "      <td>0.55</td>\n",
              "    </tr>\n",
              "  </tbody>\n",
              "</table>\n",
              "</div>"
            ],
            "text/plain": [
              "IMC                                          Muito abaixo do peso  ...  Obesidade III (móribida)\n",
              "Como você se sente em relação ao seu corpo?                        ...                          \n",
              "Muito satisfeito(a)                                         19.94  ...                      0.09\n",
              "Satisfeito(a)                                               13.60  ...                      0.10\n",
              "Indiferente                                                 12.51  ...                      0.55\n",
              "Insatisfeito(a)                                              8.94  ...                      0.52\n",
              "Muito insatisfeito(a)                                       12.04  ...                      1.12\n",
              "Não informado                                               16.02  ...                      0.55\n",
              "\n",
              "[6 rows x 7 columns]"
            ]
          },
          "metadata": {
            "tags": []
          },
          "execution_count": 58
        }
      ]
    },
    {
      "cell_type": "markdown",
      "metadata": {
        "id": "BH4I8xnEDDV8"
      },
      "source": [
        "# **4 Histograma e Boxplot**"
      ]
    },
    {
      "cell_type": "markdown",
      "metadata": {
        "id": "KH3Eru_TDGFG"
      },
      "source": [
        "##Desafio 7 - Calcular o desvio padrão, média, moda e mediana e plotar no gráfico de histograma."
      ]
    },
    {
      "cell_type": "code",
      "metadata": {
        "colab": {
          "base_uri": "https://localhost:8080/",
          "height": 536
        },
        "id": "xqReG0d1DcDZ",
        "outputId": "b561c9bb-993a-459d-cc6b-9c21e58bc9f9"
      },
      "source": [
        "sns.set(font_scale=1.5)\n",
        "ax = sns.histplot(data=dados, x='VB17004', bins='sturges')\n",
        "ax.figure.set_size_inches(12, 8)\n",
        "ax.set_title('Distribuição da altura (cm)', fontsize=20)\n",
        "ax.set_xlabel('Altura')\n",
        "ax.set_ylabel('Frequência')\n",
        "ax;"
      ],
      "execution_count": null,
      "outputs": [
        {
          "output_type": "display_data",
          "data": {
            "image/png": "[encoded data removed]",
            "text/plain": [
              "<Figure size 864x576 with 1 Axes>"
            ]
          },
          "metadata": {
            "tags": []
          }
        }
      ]
    },
    {
      "cell_type": "code",
      "metadata": {
        "colab": {
          "base_uri": "https://localhost:8080/"
        },
        "id": "B_NTNGlAKPQT",
        "outputId": "94dd5777-c30a-4245-b0a7-643c7dc9a3bc"
      },
      "source": [
        "dados['VB17004'].std() + dados['VB17004'].mean()"
      ],
      "execution_count": null,
      "outputs": [
        {
          "output_type": "execute_result",
          "data": {
            "text/plain": [
              "171.05318330461597"
            ]
          },
          "metadata": {
            "tags": []
          },
          "execution_count": 60
        }
      ]
    },
    {
      "cell_type": "code",
      "metadata": {
        "colab": {
          "base_uri": "https://localhost:8080/",
          "height": 536
        },
        "id": "J_D_0tRgFouQ",
        "outputId": "e87e51b3-9619-4e84-d640-816d1daa1371"
      },
      "source": [
        "sns.set(font_scale=1.5)\n",
        "ax = sns.histplot(data=dados, x='VB17004', kde=True)\n",
        "ax.figure.set_size_inches(12, 8)\n",
        "ax.set_title('Distribuição da altura (cm)', fontsize=20)\n",
        "ax.set_xlabel('Altura')\n",
        "ax.set_ylabel('Frequência')\n",
        "plt.axvline(x=dados['VB17004'].mean(), color='r', label='Média', linestyle='--')\n",
        "plt.axvline(x=dados['VB17004'].mode().values, color='#ff9400', label='Moda', \n",
        "            linestyle=':')\n",
        "plt.axvline(x=dados['VB17004'].median(), color='#552b70', label='Mediana')\n",
        "plt.axvline(x=dados['VB17004'].std() + dados['VB17004'].mean(), color='#000000', \n",
        "            label='Desvio Padrão')\n",
        "plt.axvline(x=dados['VB17004'].mean() - dados['VB17004'].std(), color='#000000')\n",
        "plt.legend()\n",
        "ax;"
      ],
      "execution_count": null,
      "outputs": [
        {
          "output_type": "display_data",
          "data": {
            "image/png": "[encoded data removed]",
            "text/plain": [
              "<Figure size 864x576 with 1 Axes>"
            ]
          },
          "metadata": {
            "tags": []
          }
        }
      ]
    },
    {
      "cell_type": "code",
      "metadata": {
        "colab": {
          "base_uri": "https://localhost:8080/",
          "height": 698
        },
        "id": "RfPKdkk814kL",
        "outputId": "4490871d-644b-4a2b-956a-5819cd556434"
      },
      "source": [
        "fig_altura = go.Figure()\n",
        "\n",
        "fig_altura.add_trace(go.Histogram(x=dados['VB17004']))\n",
        "\n",
        "\n",
        "fig_altura.update_layout(title='Altura dos estudantes - PeNSE(2015)',\n",
        "                         xaxis_title_text='Altura',\n",
        "                         yaxis_title_text='Frequência')\n",
        "\n",
        "fig_altura.add_trace(go.Line(name='Media', \n",
        "                             x=[dados['VB17004'].mean()]))\n",
        "\n",
        "fig_altura.show()"
      ],
      "execution_count": null,
      "outputs": [
        {
          "output_type": "stream",
          "text": [
            "/usr/local/lib/python3.6/dist-packages/plotly/graph_objs/_deprecations.py:385: DeprecationWarning:\n",
            "\n",
            "plotly.graph_objs.Line is deprecated.\n",
            "Please replace it with one of the following more specific types\n",
            "  - plotly.graph_objs.scatter.Line\n",
            "  - plotly.graph_objs.layout.shape.Line\n",
            "  - etc.\n",
            "\n",
            "\n"
          ],
          "name": "stderr"
        },
        {
          "output_type": "display_data",
          "data": {
            "text/html": [
              "<html>\n",
              "<head><meta charset=\"utf-8\" /></head>\n",
              "<body>\n",
              "    <div>\n",
              "            <script src=\"https://cdnjs.cloudflare.com/ajax/libs/mathjax/2.7.5/MathJax.js?config=TeX-AMS-MML_SVG\"></script><script type=\"text/javascript\">if (window.MathJax) {MathJax.Hub.Config({SVG: {font: \"STIX-Web\"}});}</script>\n",
              "                <script type=\"text/javascript\">window.PlotlyConfig = {MathJaxConfig: 'local'};</script>\n",
              "        <script src=\"https://cdn.plot.ly/plotly-latest.min.js\"></script>    \n",
              "            <div id=\"73686db7-38a5-4a40-8ef1-b61c0054d227\" class=\"plotly-graph-div\" style=\"height:525px; width:100%;\"></div>\n",
              "            <script type=\"text/javascript\">\n",
              "                \n",
              "                    window.PLOTLYENV=window.PLOTLYENV || {};\n",
              "                    \n",
              "                if (document.getElementById(\"73686db7-38a5-4a40-8ef1-b61c0054d227\")) {\n",
              "                    Plotly.newPlot(\n",
              "                        '73686db7-38a5-4a40-8ef1-b61c0054d227',\n",
              "                        [{\"type\": \"histogram\", \"x\": [157.0, 152.0, 161.4, 172.5, 167.5, 160.5, 157.5, 159.4, 170.0, 156.2, 146.0, 168.3, 162.8, 155.3, 177.3, 165.4, 157.5, 148.0, 170.0, 161.9, 171.3, 151.6, 190.0, 159.3, 159.5, 157.2, 152.2, 156.3, 158.0, 154.0, 160.5, 164.9, 163.4, 177.0, 155.0, 174.1, 178.3, 152.0, 180.0, 158.1, 157.0, 152.5, 173.9, 157.5, 166.0, 170.0, 168.9, 170.0, 157.5, 184.5, 188.3, 167.3, 160.1, 166.5, 184.4, 154.1, 186.0, 153.4, 160.0, 169.8, 174.5, 156.4, 169.5, 152.9, 167.0, 154.3, 162.0, 167.5, 164.5, 183.1, 168.0, 157.0, 150.0, 151.0, 171.9, 166.6, 159.0, 136.5, 150.6, 146.8, 145.0, 134.6, 157.0, 153.5, 156.3, 129.7, 168.0, 153.8, 155.5, 157.7, 159.0, 158.7, 160.6, 165.9, 159.0, 167.5, 161.3, 170.5, 176.0, 156.0, 157.3, 163.3, 164.9, 171.0, 162.0, 166.0, 161.0, 156.8, 156.6, 155.5, 160.0, 162.9, 146.0, 159.5, 154.6, 172.5, 160.1, 161.5, 172.5, 157.7, 163.2, 161.2, 157.5, 166.2, 157.5, 170.7, 160.2, 165.2, 167.2, 156.2, 150.2, 155.5, 167.5, 167.0, 163.0, 155.9, 157.0, 160.5, 158.5, 173.3, 161.5, 166.9, 182.0, 164.0, 176.0, 167.2, 165.0, 180.8, 184.9, 152.0, 157.3, 171.5, 162.1, 167.0, 166.0, 164.0, 155.8, 157.0, 167.0, 184.7, 156.5, 161.2, 179.8, 160.0, 159.9, 171.1, 179.9, 174.7, 170.2, 153.5, 172.2, 164.5, 174.0, 161.0, 166.9, 154.5, 165.0, 167.9, 168.1, 158.5, 165.8, 158.2, 175.4, 171.2, 159.5, 154.7, 148.7, 163.1, 160.2, 154.4, 166.0, 152.9, 159.3, 155.8, 157.3, 158.2, 159.8, 147.2, 153.0, 159.9, 163.1, 155.9, 157.5, 163.2, 159.5, 166.6, 156.5, 153.2, 150.0, 151.5, 161.2, 151.9, 156.9, 155.0, 148.2, 152.2, 162.0, 156.5, 160.0, 165.1, 166.1, 174.9, 183.9, 161.5, 154.4, 175.3, 154.9, 171.6, 156.5, 155.9, 159.8, 173.9, 155.3, 163.0, 157.3, 165.0, 168.0, 175.0, 155.3, 162.0, 159.9, 163.0, 160.1, 174.9, 178.1, 165.0, 173.2, 162.5, 171.6, 176.8, 170.1, 152.2, 175.0, 161.5, 157.2, 168.0, 163.4, 151.5, 156.0, 162.1, 161.9, 151.5, 160.5, 173.5, 166.4, 171.7, 162.0, 160.0, 175.0, 170.0, 160.3, 155.5, 162.0, 161.2, 153.1, 160.5, 165.6, 153.4, 160.0, 157.5, 147.2, 146.5, 167.4, 152.7, 153.0, 149.5, 145.5, 163.0, 144.4, 162.0, 167.2, 150.4, 167.5, 164.2, 138.5, 164.4, 170.2, 157.4, 167.8, 169.5, 159.8, 176.5, 167.1, 173.9, 167.0, 178.5, 164.8, 160.0, 161.6, 163.4, 174.6, 165.0, 157.5, 151.3, 166.4, 162.6, 176.5, 166.0, 162.5, 176.1, 160.5, 166.0, 165.7, 162.0, 172.5, 188.4, 167.0, 173.1, 157.0, 163.5, 160.5, 157.0, 171.8, 181.7, 164.0, 170.0, 175.1, 169.0, 161.0, 171.7, 174.4, 164.5, 185.3, 182.3, 147.5, 161.2, 173.8, 168.5, 170.3, 177.7, 170.9, 157.5, 168.1, 175.0, 174.5, 164.9, 169.7, 160.0, 156.5, 170.0, 169.1, 164.2, 156.0, 186.5, 170.0, 162.0, 179.8, 156.5, 175.0, 161.0, 152.0, 169.9, 160.1, 164.5, 143.7, 161.1, 145.4, 147.6, 152.3, 163.5, 150.4, 151.5, 156.0, 158.6, 159.3, 151.0, 160.8, 147.1, 147.0, 155.3, 159.1, 149.3, 151.1, 153.0, 150.0, 170.3, 169.2, 174.3, 163.2, 147.5, 169.8, 165.0, 168.3, 186.2, 177.8, 171.6, 169.7, 156.5, 156.0, 160.0, 158.0, 158.5, 156.5, 174.0, 171.8, 157.3, 170.3, 163.3, 161.8, 169.2, 163.0, 177.6, 151.5, 177.1, 163.0, 166.5, 155.8, 155.5, 169.6, 171.0, 158.0, 169.9, 157.5, 184.9, 171.9, 161.7, 165.1, 158.1, 170.6, 173.8, 183.8, 180.1, 164.5, 167.5, 165.2, 169.3, 173.9, 169.5, 172.8, 158.0, 176.1, 169.7, 174.9, 166.0, 164.0, 160.0, 166.2, 162.0, 173.1, 179.5, 160.5, 161.0, 162.0, 163.8, 174.9, 164.0, 168.9, 163.0, 152.0, 149.2, 167.2, 160.5, 152.0, 138.5, 160.1, 166.0, 140.2, 144.0, 160.5, 163.8, 146.5, 164.3, 148.2, 155.8, 165.5, 155.0, 144.5, 155.0, 153.5, 141.3, 172.1, 159.5, 145.9, 154.3, 159.5, 149.0, 158.5, 157.0, 154.0, 155.0, 151.1, 158.9, 164.1, 152.3, 163.2, 145.8, 157.2, 181.1, 167.7, 157.0, 173.2, 167.5, 160.0, 171.1, 157.5, 164.5, 158.4, 154.0, 173.5, 157.6, 177.0, 167.9, 175.5, 177.3, 179.5, 161.5, 148.2, 134.5, 148.2, 146.0, 151.1, 152.9, 157.0, 152.7, 140.5, 155.3, 165.3, 171.9, 154.4, 159.5, 143.2, 161.0, 172.3, 147.0, 147.9, 145.7, 161.3, 156.2, 156.5, 145.8, 166.8, 144.8, 153.0, 134.8, 152.0, 150.4, 159.0, 151.6, 154.5, 154.5, 163.6, 161.6, 158.9, 158.9, 163.3, 151.0, 158.0, 163.2, 151.0, 172.3, 160.5, 157.5, 162.5, 166.3, 181.1, 158.1, 172.3, 172.0, 159.5, 136.0, 154.6, 157.4, 171.0, 150.0, 150.5, 152.0, 155.5, 157.0, 183.5, 168.3, 164.3, 158.5, 171.0, 164.2, 153.5, 178.5, 180.5, 171.0, 152.2, 158.3, 148.2, 148.5, 149.1, 163.3, 151.5, 151.5, 144.9, 148.9, 146.7, 151.5, 146.1, 150.0, 143.9, 155.8, 150.0, 166.4, 157.9, 153.0, 151.5, 153.3, 141.1, 157.9, 142.5, 150.9, 144.5, 153.5, 147.8, 137.7, 149.0, 142.2, 134.5, 147.0, 150.2, 161.0, 151.7, 145.9, 155.5, 172.1, 157.3, 157.0, 147.5, 146.7, 158.0, 149.4, 137.9, 154.3, 150.2, 147.5, 154.2, 158.9, 160.5, 166.4, 155.5, 152.2, 151.7, 156.5, 150.5, 150.5, 150.4, 175.1, 154.7, 168.0, 163.9, 156.5, 169.0, 170.8, 173.5, 160.0, 166.0, 181.8, 188.2, 160.2, 170.6, 161.9, 150.9, 161.3, 166.7, 152.3, 179.1, 160.3, 152.2, 169.9, 157.9, 148.7, 149.3, 158.4, 168.8, 152.4, 149.2, 133.9, 148.9, 158.0, 133.0, 138.3, 153.3, 136.0, 146.5, 147.2, 138.9, 152.0, 161.0, 139.5, 146.8, 150.5, 145.0, 154.9, 153.5, 134.0, 172.2, 157.5, 161.6, 161.3, 161.6, 160.0, 167.9, 158.5, 151.9, 145.4, 157.0, 168.5, 168.2, 153.7, 162.5, 168.1, 174.2, 158.5, 159.5, 173.0, 150.2, 170.5, 166.5, 154.5, 166.4, 153.9, 156.0, 163.5, 171.0, 160.0, 172.0, 153.5, 167.1, 157.8, 169.0, 164.5, 179.4, 159.0, 155.0, 159.3, 162.0, 163.6, 156.0, 162.5, 173.0, 174.0, 163.8, 182.5, 168.5, 173.0, 167.0, 179.2, 156.5, 162.5, 175.4, 153.9, 164.9, 160.0, 172.2, 174.5, 155.5, 172.5, 181.6, 175.1, 160.0, 182.3, 153.0, 169.8, 162.0, 174.0, 194.8, 159.0, 179.2, 178.3, 165.4, 169.9, 174.1, 178.5, 180.3, 177.0, 156.7, 174.5, 157.0, 179.4, 168.5, 153.0, 154.0, 175.0, 149.8, 176.7, 159.2, 177.7, 178.0, 186.0, 177.3, 180.0, 169.9, 178.5, 175.1, 158.5, 158.5, 172.1, 169.1, 157.8, 164.5, 165.0, 173.5, 154.0, 165.6, 168.0, 170.3, 179.6, 176.0, 158.0, 173.0, 174.4, 175.6, 176.4, 160.5, 169.6, 168.0, 165.5, 182.4, 166.0, 171.0, 182.0, 171.5, 166.8, 159.5, 171.4, 166.6, 163.0, 171.9, 160.4, 159.7, 172.1, 156.0, 154.5, 176.6, 174.8, 164.6, 159.5, 162.0, 166.5, 170.0, 167.3, 162.0, 178.0, 157.0, 161.0, 163.0, 158.3, 168.0, 156.0, 166.5, 162.0, 177.5, 166.1, 179.0, 180.0, 159.0, 154.6, 169.0, 153.5, 154.5, 154.5, 173.0, 175.2, 167.0, 168.5, 170.9, 180.1, 167.0, 165.8, 165.5, 159.3, 184.0, 163.7, 174.7, 168.7, 158.9, 159.9, 173.5, 168.0, 177.0, 176.9, 170.5, 162.5, 165.0, 156.7, 156.9, 174.5, 175.5, 177.2, 163.0, 167.0, 176.8, 183.3, 170.0, 178.7, 175.0, 172.6, 160.5, 163.5, 183.9, 144.6, 160.0, 134.4, 149.6, 153.4, 144.3, 153.3, 158.8, 160.1, 158.4, 145.8, 155.7, 161.6, 149.6, 149.3, 165.1, 154.6, 150.9, 154.8, 162.8, 145.7, 150.8, 157.0, 160.0, 145.7, 140.1, 147.7, 145.9, 150.3, 142.9, 137.1, 150.2, 140.1, 154.6, 137.0, 138.3, 154.8, 133.3, 140.2, 144.2, 160.5, 169.6, 167.9, 158.5, 175.0, 170.9, 172.8, 174.0, 177.4, 155.6, 178.8, 177.5, 170.9, 163.7, 153.5, 152.5, 169.9, 169.2, 162.9, 155.0, 159.5, 172.9, 166.0, 167.9, 150.5, 174.9, 148.9, 166.9, 160.7, 168.5, 168.8, 165.0, 156.1, 156.0, 178.1, 161.2, 158.9, 153.5, 149.0, 149.8, 170.0, 165.7, 168.3, 148.7, 161.0, 165.5, 177.7, 172.3, 169.8, 156.6, 170.0, 158.0, 159.8, 164.6, 161.0, 157.1, 173.0, 166.2, 161.2, 163.8, 158.5, 155.0, 162.0, 156.7, 153.0, 175.5, 174.0, 178.6, 181.0, 184.0, 151.8, 152.0, 176.5, 181.0, 173.1, 167.5, 155.7, 150.9, 156.2, 160.0, 157.2, 162.4, 165.6, 158.8, 159.1, 153.7, 158.0, 161.0, 159.7, 164.7, 158.0, 165.0, 171.0, 169.3, 153.5, 173.6, 169.1, 173.5, 162.3, 158.0, 153.4, 162.9, 168.0, 159.0, 170.8, 165.0, 166.4, 153.0, 168.5, 170.8, 155.7, 166.4, 161.0, 166.4, 170.8, 176.1, 158.7, 176.0, 168.6, 157.2, 159.7, 162.2, 161.0, 167.7, 155.8, 160.8, 165.5, 145.7, 167.6, 157.0, 168.7, 169.0, 165.9, 168.4, 148.5, 160.7, 170.2, 163.8, 167.1, 176.3, 157.6, 158.0, 162.4, 170.7, 172.9, 163.1, 164.8, 159.9, 178.0, 149.1, 164.0, 167.5, 168.5, 163.5, 162.4, 153.1, 156.2, 149.0, 149.8, 151.1, 157.8, 167.8, 167.5, 168.9, 169.0, 151.0, 156.4, 170.9, 165.0, 162.6, 161.5, 162.1, 152.0, 160.2, 155.8, 151.3, 157.3, 145.2, 156.8, 153.3, 155.9, 151.2, 159.0, 175.4, 156.3, 141.1, 172.4, 153.4, 155.0, 162.3, 158.7, 132.0, 161.5, 151.0, 162.3, 149.0, 169.5, 156.4, 169.7, 149.0, 138.2, 151.0, 162.7, 161.0, 163.8, 154.3, 158.9, 156.9, 154.5, 151.2, 164.6, 162.8, 154.2, 156.0, 151.3, 159.2, 178.2, 155.5, 172.5, 171.8, 161.5, 157.5, 169.4, 169.1, 164.5, 164.2, 167.3, 151.6, 172.0, 162.0, 171.0, 168.0, 170.4, 164.6, 174.4, 152.2, 162.6, 149.0, 173.1, 157.6, 158.6, 163.7, 155.0, 148.3, 167.7, 165.0, 167.4, 162.4, 166.4, 164.0, 162.7, 171.5, 159.9, 151.3, 154.4, 154.7, 143.6, 171.7, 173.1, 148.8, 173.0, 175.9, 157.1, 157.3, 156.9, 155.6, 179.3, 173.3, 164.7, 168.8, 156.0, 164.0, 163.8, 163.8, 158.5, 177.2, 161.6, 159.5, 180.5, 174.5, 156.2, 159.4, 176.0, 167.8, 165.0, 152.0, 173.2, 186.4, 172.6, 160.2, 167.4, 170.7, 167.5, 164.9, 166.0, 175.2, 158.5, 172.8, 178.0, 155.0, 158.5, 170.3, 161.2, 167.2, 158.2, 167.8, 166.5, 166.5, 171.3, 159.3, 157.7, 172.6, 166.9, 167.3, 166.8, 176.8, 171.9, 172.7, 150.4, 151.1, 156.6, 162.5, 172.5, 168.0, 169.7, 174.0, 163.4, 167.0, 149.5, 180.0, 158.3, 160.3, 170.2, 164.0, 137.0, 138.0, 161.0, 148.0, 144.0, 150.0, 139.0, 162.0, 155.0, 168.8, 160.0, 151.0, 155.0, 156.7, 153.0, 160.1, 140.0, 164.2, 179.8, 161.2, 148.6, 162.6, 140.0, 164.7, 156.9, 158.2, 142.0, 163.0, 153.0, 156.2, 155.0, 147.5, 159.5, 165.5, 154.9, 133.1, 172.8, 145.0, 147.6, 163.4, 169.7, 167.3, 157.1, 149.5, 165.4, 160.9, 159.8, 169.5, 160.8, 156.5, 145.9, 153.8, 158.6, 166.1, 172.0, 162.2, 149.4, 157.7, 169.3, 168.3, 157.2, 151.2, 156.7, 160.8, 154.2, 161.4, 156.3, 156.9, 147.7, 154.6, 166.6, 154.6, 157.5, 161.5, 156.2, 163.3, 156.0, 157.8, 148.7, 171.1, 166.2, 158.3, 164.0, 164.2, 150.3, 173.7, 153.2, 162.8, 160.7, 166.7, 160.1, 164.0, 149.0, 150.6, 155.2, 151.0, 160.2, 148.8, 142.3, 149.7, 149.3, 146.0, 145.8, 153.5, 137.4, 151.7, 148.0, 156.7, 135.6, 159.5, 145.1, 143.0, 144.7, 138.3, 152.7, 143.4, 147.0, 148.5, 146.5, 143.6, 152.5, 148.7, 149.0, 157.2, 145.1, 151.7, 156.5, 144.7, 147.0, 146.0, 153.5, 163.7, 150.7, 143.9, 154.1, 156.0, 157.5, 159.5, 158.4, 149.9, 149.5, 158.0, 156.0, 158.4, 162.5, 155.6, 152.8, 153.5, 168.6, 162.4, 158.1, 158.3, 160.5, 151.8, 155.5, 152.5, 153.6, 155.0, 151.5, 144.9, 149.9, 140.0, 146.0, 151.9, 140.0, 152.5, 138.6, 154.0, 150.5, 146.0, 149.7, 143.6, 138.8, 141.5, 124.1, 145.9, 151.0, 154.9, 134.0, 149.5, 140.9, 140.1, 153.5, 153.0, 168.8, 154.5, 167.8, 152.5, 165.4, 153.4, 149.7, 163.3, 144.0, 157.3, 167.2, 163.5, 164.5, 158.8, 153.4, 164.6, 170.2, 164.5, 153.0, 154.4, 155.8, 153.2, 151.9, 157.9, 154.4, 156.3, 144.6, 167.4, 159.7, 150.4, 158.2, 145.0, 149.7, 155.0, 153.0, 152.3, 154.3, 148.7, 148.7, 139.1, 141.9, 151.1, 147.0, 146.0, 148.6, 148.9, 152.0, 155.9, 141.1, 152.6, 140.4, 142.2, 149.8, 148.6, 149.9, 160.2, 147.0, 149.1, 163.2, 147.0, 144.3, 153.2, 151.7, 163.5, 155.0, 172.0, 141.4, 147.3, 160.0, 149.4, 150.5, 138.2, 150.0, 156.3, 156.1, 156.9, 180.1, 151.7, 165.3, 160.6, 157.5, 162.3, 161.0, 158.1, 162.8, 170.6, 161.4, 159.2, 158.2, 166.8, 155.6, 164.5, 163.4, 169.9, 160.5, 156.0, 163.5, 161.0, 170.1, 168.0, 153.4, 156.0, 180.5, 154.9, 150.8, 159.9, 155.6, 172.5, 164.3, 167.5, 154.5, 150.1, 156.0, 156.2, 147.5, 149.5, 141.8, 155.1, 154.6, 160.2, 151.3, 140.5, 151.0, 160.8, 152.2, 145.8, 169.4, 160.3, 162.6, 151.5, 158.0, 137.5, 154.5, 155.2, 168.6, 159.1, 158.9, 160.2, 154.0, 157.6, 153.9, 162.4, 145.0, 150.5, 151.9, 150.0, 177.8, 151.1, 155.4, 157.3, 161.5, 158.4, 171.6, 168.9, 159.4, 179.0, 164.5, 153.8, 162.4, 170.9, 172.5, 157.0, 152.0, 156.0, 158.0, 156.4, 162.8, 169.2, 165.0, 157.0, 160.5, 176.5, 151.5, 166.7, 154.8, 177.0, 162.3, 166.5, 163.3, 164.4, 161.5, 162.0, 166.3, 176.0, 166.1, 171.4, 164.1, 159.8, 155.3, 160.8, 165.2, 147.0, 158.3, 154.0, 160.6, 158.0, 164.4, 163.3, 152.2, 172.4, 164.7, 151.6, 160.0, 164.6, 155.1, 163.8, 164.2, 167.5, 158.2, 163.4, 162.2, 163.9, 165.4, 168.7, 162.6, 167.6, 171.5, 163.9, 177.4, 180.0, 158.7, 156.6, 166.7, 173.8, 167.5, 153.4, 170.6, 154.5, 154.4, 175.0, 172.8, 155.0, 160.0, 174.8, 166.5, 150.3, 168.9, 159.0, 163.0, 161.2, 146.0, 163.0, 143.9, 167.0, 145.5, 140.0, 138.4, 160.5, 143.8, 157.0, 167.0, 147.0, 157.2, 161.2, 145.0, 163.2, 151.5, 131.5, 129.0, 173.3, 147.5, 147.0, 154.0, 165.5, 151.2, 142.4, 147.5, 157.7, 151.0, 151.0, 153.0, 155.7, 149.8, 157.3, 156.7, 151.0, 149.0, 169.0, 149.0, 154.0, 144.3, 146.4, 147.0, 150.0, 165.5, 163.5, 155.0, 160.3, 154.5, 164.0, 148.5, 159.5, 174.3, 152.7, 167.5, 165.6, 152.2, 158.5, 161.0, 164.5, 154.5, 166.0, 146.6, 169.5, 158.2, 163.0, 152.8, 163.7, 152.5, 148.1, 160.0, 154.2, 160.2, 148.5, 171.0, 157.5, 158.8, 162.8, 168.0, 151.0, 158.2, 162.2, 162.5, 158.1, 171.8, 155.0, 166.0, 158.4, 169.3, 172.5, 151.1, 168.0, 163.0, 167.0, 134.1, 161.0, 145.0, 146.3, 140.4, 154.0, 158.2, 145.5, 155.0, 140.0, 160.0, 155.3, 157.0, 153.0, 167.0, 167.8, 168.8, 146.8, 168.0, 161.0, 145.4, 166.0, 156.3, 162.0, 165.5, 154.4, 160.2, 171.5, 161.5, 170.0, 148.8, 157.8, 162.8, 153.0, 144.2, 148.5, 151.0, 148.4, 152.5, 143.8, 142.2, 147.3, 143.9, 153.6, 140.8, 149.4, 158.5, 151.0, 174.4, 158.2, 141.6, 137.5, 157.0, 137.0, 162.0, 149.0, 151.2, 154.8, 148.5, 153.0, 167.6, 176.9, 173.3, 160.0, 178.9, 166.2, 151.5, 167.0, 162.1, 159.0, 172.5, 151.8, 175.0, 155.0, 174.2, 152.6, 168.9, 183.3, 179.2, 163.9, 168.0, 163.0, 172.9, 179.0, 163.3, 170.4, 165.0, 169.7, 171.5, 148.0, 171.6, 178.0, 165.0, 165.1, 165.6, 159.5, 170.5, 165.0, 151.0, 155.0, 152.0, 171.0, 168.8, 153.2, 166.0, 155.6, 151.0, 157.5, 155.0, 155.1, 158.3, 161.2, 185.3, 160.7, 147.0, 162.3, 158.0, 167.3, 155.5, 170.0, 159.0, 156.0, 157.5, 175.0, 172.0, 192.9, 156.0, 171.3, 170.0, 162.0, 170.2, 163.8, 171.0, 161.0, 158.6, 160.0, 161.0, 166.0, 172.0, 176.2, 152.7, 155.7, 184.5, 169.0, 168.2, 173.5, 172.9, 165.0, 171.9, 169.0, 162.9, 166.0, 169.7, 153.8, 161.0, 172.0, 167.5, 170.0, 160.0, 157.7, 160.2, 159.8, 158.0, 158.8, 162.2, 152.6, 157.5, 156.0, 159.2, 185.2, 161.6, 157.7, 161.5, 174.0, 166.0, 173.3, 170.0, 167.0, 171.2, 163.3, 164.2, 161.1, 171.5, 154.9, 168.3, 155.6, 181.9, 158.4, 152.0, 167.6, 156.4, 171.7, 152.0, 159.5, 160.5, 170.1, 160.1, 159.5, 169.9, 181.5, 163.2, 166.9, 172.5, 153.7, 158.2, 175.9, 162.9, 161.2, 165.0, 179.2, 172.0, 175.6, 162.5, 172.6, 160.3, 181.7, 154.0, 158.0, 173.5, 166.0, 157.0, 159.9, 142.3, 142.8, 153.8, 148.8, 149.0, 149.7, 149.9, 158.2, 165.5, 151.0, 167.7, 158.0, 156.0, 150.0, 141.5, 160.5, 152.2, 131.0, 156.7, 166.2, 144.0, 144.2, 162.2, 154.0, 141.7, 151.0, 143.0, 150.6, 152.0, 142.5, 157.8, 157.4, 162.3, 158.0, 163.3, 162.5, 160.5, 160.0, 159.9, 173.0, 157.0, 164.9, 170.9, 157.5, 181.0, 156.5, 162.0, 160.0, 172.7, 169.0, 179.0, 171.4, 171.0, 156.0, 158.7, 165.8, 160.8, 156.2, 168.0, 165.0, 156.8, 175.3, 155.9, 159.2, 153.3, 159.8, 171.5, 144.4, 152.6, 151.9, 153.0, 158.9, 156.4, 151.2, 161.2, 155.7, 155.9, 161.2, 158.0, 165.0, 159.5, 157.0, 155.8, 155.6, 166.0, 155.2, 163.2, 145.6, 176.9, 175.5, 152.1, 162.4, 156.5, 171.8, 153.1, 157.3, 168.9, 148.8, 146.0, 146.9, 155.0, 142.8, 148.8, 147.5, 172.2, 173.0, 157.0, 151.7, 155.3, 153.1, 151.2, 143.8, 141.9, 165.0, 153.0, 154.5, 149.0, 167.8, 159.0, 155.5, 162.7, 165.9, 159.0, 137.2, 159.5, 155.2, 145.4, 152.9, 152.8, 158.2, 163.1, 155.6, 163.0, 173.4, 156.4, 154.4, 156.8, 160.5, 167.0, 155.6, 145.8, 160.6, 160.5, 162.5, 156.5, 169.6, 160.0, 157.9, 157.4, 170.1, 152.1, 156.0, 166.0, 161.0, 163.1, 149.0, 153.5, 149.6, 151.9, 157.9, 153.6, 156.2, 155.1, 161.8, 165.8, 145.9, 153.5, 150.5, 161.0, 174.0, 147.0, 163.6, 156.4, 158.5, 160.2, 159.3, 142.2, 167.1, 166.4, 148.2, 184.1, 151.3, 178.6, 152.0, 180.4, 160.1, 168.1, 151.3, 157.1, 168.3, 162.8, 146.0, 153.9, 183.5, 173.9, 181.4, 144.3, 172.6, 148.5, 150.5, 145.3, 148.0, 170.8, 151.1, 165.5, 145.8, 140.8, 151.5, 170.0, 158.1, 160.3, 170.0, 152.9, 155.8, 163.3, 158.8, 174.1, 163.2, 176.8, 174.7, 171.8, 162.7, 179.0, 159.0, 170.7, 158.0, 153.4, 153.9, 160.5, 179.5, 166.2, 160.6, 151.9, 155.8, 164.5, 182.2, 172.2, 161.9, 165.2, 156.4, 167.6, 157.5, 150.0, 167.6, 158.5, 158.7, 160.0, 163.0, 153.0, 166.0, 165.6, 163.5, 149.5, 171.0, 150.0, 165.8, 164.5, 172.8, 156.8, 185.0, 148.0, 155.8, 166.0, 171.5, 152.5, 169.4, 145.4, 159.5, 155.0, 156.7, 158.9, 163.5, 154.4, 157.4, 156.9, 153.0, 155.0, 157.9, 172.4, 162.4, 157.0, 158.7, 161.9, 149.7, 157.5, 148.0, 145.2, 156.2, 147.5, 156.2, 165.9, 164.6, 149.6, 149.0, 155.0, 162.7, 145.7, 136.5, 153.5, 143.0, 154.4, 148.1, 154.5, 148.1, 165.9, 156.0, 149.2, 160.0, 137.9, 145.5, 154.9, 161.0, 158.5, 157.3, 155.8, 153.0, 160.2, 152.1, 162.8, 152.5, 166.0, 156.5, 174.4, 152.4, 150.4, 160.1, 164.5, 152.6, 159.9, 162.9, 160.3, 156.6, 156.4, 154.7, 159.8, 144.0, 151.7, 158.9, 160.4, 166.8, 157.4, 157.6, 158.3, 151.4, 161.8, 162.0, 160.9, 152.3, 157.4, 160.5, 145.4, 144.0, 147.5, 138.7, 160.6, 144.6, 155.7, 159.5, 158.4, 147.0, 143.2, 137.4, 144.5, 151.8, 151.9, 146.3, 171.5, 156.9, 138.7, 145.2, 143.9, 154.5, 149.0, 151.4, 147.9, 142.3, 155.4, 146.6, 143.3, 147.9, 149.0, 144.4, 167.8, 152.1, 158.1, 156.8, 162.8, 161.0, 164.1, 173.6, 164.4, 161.9, 167.9, 157.6, 156.5, 158.8, 168.5, 158.1, 177.2, 159.0, 156.1, 150.0, 156.6, 155.9, 160.0, 150.5, 161.9, 172.8, 156.4, 150.3, 165.0, 172.0, 157.6, 164.0, 158.4, 159.6, 150.2, 156.8, 159.4, 155.0, 157.0, 167.0, 162.0, 156.0, 154.5, 154.4, 170.0, 159.0, 161.5, 155.0, 171.5, 162.0, 166.0, 182.0, 159.5, 163.5, 155.0, 160.0, 174.5, 159.0, 158.5, 154.5, 170.0, 162.0, 176.0, 151.5, 157.0, 166.5, 173.0, 162.0, 152.0, 158.5, 149.5, 171.5, 163.5, 166.0, 173.0, 147.5, 158.0, 156.5, 173.5, 163.5, 159.0, 169.5, 169.5, 169.0, 177.0, 156.0, 155.0, 175.5, 153.5, 162.5, 160.5, 155.5, 167.0, 157.5, 166.5, 158.5, 159.5, 152.5, 159.0, 156.5, 158.0, 174.5, 164.0, 149.0, 153.0, 151.5, 166.0, 154.0, 156.5, 162.0, 158.5, 155.5, 155.0, 171.5, 169.5, 143.0, 154.0, 155.0, 156.0, 160.5, 153.0, 153.0, 149.5, 145.0, 163.0, 145.0, 169.0, 149.0, 147.0, 159.0, 150.5, 160.5, 156.0, 154.5, 168.5, 144.5, 155.0, 155.0, 152.0, 160.0, 160.0, 160.5, 145.5, 157.5, 149.0, 158.0, 150.5, 153.0, 151.3, 154.5, 164.9, 154.4, 169.0, 161.2, 157.0, 165.0, 143.0, 163.0, 150.1, 154.5, 152.8, 175.2, 158.5, 138.0, 146.5, 152.5, 156.0, 171.0, 146.0, 149.0, 160.5, 171.5, 165.5, 155.5, 165.0, 152.0, 148.5, 170.0, 134.0, 156.0, 168.5, 165.0, 141.9, 161.0, 160.9, 172.5, 157.9, 156.0, 157.2, 165.8, 155.0, 165.1, 166.5, 155.1, 167.3, 159.2, 162.0, 157.9, 155.0, 154.5, 155.1, 165.5, 158.2, 172.9, 143.3, 156.9, 148.5, 151.3, 136.4, 164.0, 153.5, 141.8, 157.0, 142.9, 152.0, 139.0, 154.0, 147.0, 140.6, 143.0, 143.0, 133.0, 139.0, 155.0, 139.0, 161.4, 140.5, 144.0, 147.2, 157.3, 157.5, 157.0, 147.5, 142.9, 149.4, 153.4, 170.3, 148.4, 151.9, 148.9, 145.2, 145.3, 154.5, 137.2, 141.6, 166.3, 148.9, 151.4, 154.9, 150.0, 150.9, 155.7, 144.8, 142.5, 153.2, 155.0, 147.0, 159.9, 185.3, 158.7, 161.5, 164.5, 164.5, 168.0, 160.5, 167.8, 157.5, 154.5, 179.7, 161.3, 158.9, 147.8, 158.5, 166.9, 157.0, 158.0, 162.1, 156.7, 158.8, 165.3, 154.0, 144.9, 153.8, 169.5, 173.0, 164.0, 159.0, 157.0, 177.2, 165.0, 170.9, 152.0, 161.5, 159.0, 160.5, 156.2, 150.0, 164.4, 152.2, 155.5, 137.4, 156.0, 160.0, 157.0, 161.8, 172.1, 167.3, 171.2, 156.0, 154.0, 174.2, 159.0, 158.5, 154.0, 174.1, 178.0, 160.3, 152.5, 166.5, 153.5, 156.3, 161.2, 150.3, 167.0, 143.8, 153.9, 163.1, 164.8, 156.0, 156.4, 157.1, 159.0, 156.2, 160.0, 157.5, 157.1, 150.3, 156.1, 165.1, 182.0, 153.9, 157.5, 153.8, 163.0, 161.6, 146.0, 167.6, 163.5, 154.3, 167.0, 160.0, 168.2, 175.3, 162.1, 162.2, 168.0, 182.0, 164.1, 157.2, 156.9, 153.3, 156.0, 147.5, 168.5, 158.7, 157.6, 180.3, 173.5, 157.5, 155.2, 156.7, 161.4, 152.0, 169.6, 167.5, 172.2, 152.1, 171.4, 164.1, 159.1, 172.8, 162.4, 180.5, 177.0, 176.8, 180.5, 156.1, 178.4, 153.0, 184.0, 170.5, 170.3, 165.5, 163.0, 163.9, 176.5, 180.0, 171.5, 164.2, 163.1, 157.8, 170.2, 183.4, 172.6, 164.0, 153.8, 179.1, 153.0, 175.0, 157.5, 171.1, 172.5, 155.4, 178.7, 163.9, 181.1, 164.5, 164.3, 150.3, 154.5, 151.3, 182.0, 154.8, 159.2, 164.6, 169.4, 169.5, 168.5, 158.2, 157.3, 156.9, 170.8, 165.3, 165.0, 164.5, 149.0, 163.6, 162.0, 155.6, 178.5, 171.4, 157.2, 174.0, 161.8, 161.6, 170.0, 163.4, 162.2, 168.4, 162.5, 160.6, 148.5, 162.5, 165.3, 157.0, 147.3, 172.4, 151.9, 160.0, 158.0, 153.0, 164.7, 171.0, 160.5, 142.9, 166.0, 168.7, 156.0, 162.9, 163.4, 164.2, 157.7, 163.6, 164.2, 157.8, 148.0, 177.2, 158.9, 154.3, 163.8, 159.0, 159.6, 159.0, 159.0, 158.7, 161.3, 163.0, 149.6, 168.8, 164.0, 158.5, 157.8, 157.3, 152.0, 169.0, 166.8, 179.3, 159.3, 172.7, 175.5, 183.7, 157.3, 167.5, 149.5, 152.5, 146.7, 158.8, 145.5, 160.0, 144.8, 140.7, 130.5, 172.2, 143.7, 149.3, 143.2, 171.5, 160.2, 152.3, 133.1, 135.2, 138.6, 132.6, 159.5, 150.4, 149.4, 150.4, 147.8, 147.7, 150.6, 155.7, 152.9, 142.7, 129.6, 143.7, 136.5, 147.2, 140.4, 131.7, 134.8, 159.1, 142.7, 152.5, 134.2, 165.2, 144.2, 168.6, 153.8, 153.6, 154.2, 164.2, 178.6, 154.0, 151.7, 162.0, 176.2, 157.3, 158.7, 166.1, 161.5, 138.7, 166.8, 162.5, 154.7, 177.3, 135.3, 146.5, 132.9, 146.4, 138.4, 161.6, 154.6, 151.8, 166.8, 152.5, 153.8, 151.0, 160.5, 155.4, 157.8, 169.2, 150.8, 152.0, 152.6, 146.2, 158.5, 159.3, 178.0, 153.6, 160.1, 146.1, 147.6, 169.7, 144.3, 154.0, 155.5, 150.0, 149.8, 158.6, 167.0, 150.5, 174.9, 153.2, 159.1, 165.0, 173.0, 153.6, 167.0, 166.1, 156.8, 166.7, 158.0, 171.0, 167.8, 176.5, 164.0, 146.5, 150.5, 155.5, 159.6, 163.0, 170.5, 160.5, 180.0, 157.2, 139.5, 164.2, 149.7, 158.0, 159.0, 156.5, 170.5, 160.0, 147.0, 156.0, 165.0, 152.4, 153.2, 170.3, 163.3, 154.7, 161.3, 172.2, 149.2, 174.0, 162.4, 158.8, 161.4, 166.8, 147.7, 141.5, 152.3, 153.6, 170.7, 149.3, 164.0, 153.7, 171.8, 156.2, 157.0, 158.0, 154.0, 164.2, 158.6, 158.1, 151.5, 160.0, 155.7, 165.7, 141.1, 142.7, 167.5, 142.5, 146.0, 147.8, 164.5, 160.4, 143.9, 141.6, 149.1, 162.0, 161.5, 152.5, 159.5, 144.7, 150.9, 134.4, 158.8, 167.0, 167.1, 137.5, 146.2, 152.1, 138.9, 163.5, 164.0, 164.2, 161.2, 154.0, 161.4, 156.0, 160.0, 164.0, 159.0, 159.0, 166.0, 154.0, 154.0, 154.0, 168.0, 147.0, 153.5, 164.5, 162.0, 159.0, 159.0, 163.0, 162.5, 158.0, 173.0, 159.6, 148.5, 168.0, 155.2, 169.5, 156.5, 157.2, 179.1, 178.5, 170.0, 161.0, 165.4, 167.1, 163.6, 165.3, 161.2, 165.5, 165.7, 149.7, 167.4, 165.5, 166.1, 163.4, 170.6, 171.3, 171.5, 158.2, 174.6, 165.8, 160.8, 181.3, 166.3, 171.1, 170.3, 166.8, 153.0, 170.7, 165.6, 165.0, 167.2, 154.6, 175.2, 170.1, 172.5, 161.0, 156.7, 164.8, 162.5, 166.0, 174.0, 160.0, 173.0, 161.0, 165.5, 159.5, 169.5, 158.0, 169.5, 154.0, 159.5, 154.4, 170.5, 168.7, 162.8, 152.0, 170.0, 157.2, 160.4, 165.9, 160.0, 160.3, 160.7, 166.9, 156.2, 166.5, 170.7, 161.7, 160.5, 166.5, 158.6, 166.9, 163.4, 156.7, 158.8, 155.3, 163.4, 161.5, 156.7, 162.8, 161.7, 146.0, 141.5, 150.0, 163.5, 150.1, 141.4, 145.0, 142.1, 136.6, 135.8, 141.6, 147.9, 145.6, 134.3, 150.0, 137.9, 138.3, 146.6, 139.4, 142.9, 149.5, 146.1, 140.0, 144.9, 130.4, 163.5, 153.1, 136.5, 140.0, 141.1, 141.0, 142.5, 148.0, 137.0, 138.5, 142.5, 131.7, 139.0, 139.1, 143.5, 146.8, 136.0, 150.5, 143.3, 164.0, 146.5, 136.1, 138.5, 134.6, 156.6, 137.8, 157.6, 148.0, 148.0, 144.8, 146.0, 149.0, 146.6, 135.2, 144.5, 153.4, 142.0, 147.0, 147.7, 153.0, 147.5, 153.9, 150.5, 146.5, 156.5, 172.3, 152.3, 164.0, 157.0, 148.5, 155.2, 162.5, 153.5, 149.9, 139.0, 153.6, 153.5, 156.1, 157.2, 159.2, 148.1, 162.0, 138.5, 136.5, 160.4, 145.0, 142.0, 145.9, 158.8, 153.9, 158.6, 158.5, 158.7, 164.5, 162.2, 157.1, 165.5, 153.9, 156.8, 162.8, 162.1, 161.6, 149.0, 161.3, 168.0, 162.4, 153.2, 157.0, 161.9, 146.6, 156.7, 150.0, 170.9, 154.1, 167.6, 168.9, 153.1, 159.4, 164.6, 163.1, 157.0, 156.0, 159.2, 162.5, 161.4, 161.3, 163.0, 151.9, 157.6, 161.0, 165.5, 160.6, 170.5, 157.6, 164.7, 150.5, 153.8, 168.4, 151.1, 149.5, 148.8, 147.4, 148.8, 162.4, 165.6, 149.4, 137.6, 155.4, 160.2, 168.2, 150.0, 136.5, 138.4, 160.3, 152.5, 163.5, 152.1, 141.5, 157.8, 145.2, 151.3, 138.5, 140.1, 140.4, 134.9, 148.7, 155.9, 134.0, 160.5, 128.0, 149.2, 166.6, 136.1, 162.0, 162.4, 151.5, 170.0, 166.0, 159.2, 161.5, 152.0, 164.8, 153.4, 173.8, 158.2, 169.9, 171.0, 175.0, 160.9, 159.9, 181.6, 167.6, 161.5, 173.5, 160.7, 157.9, 155.9, 152.1, 173.5, 178.6, 157.5, 149.5, 162.6, 171.0, 168.9, 152.2, 153.2, 152.0, 170.0, 156.0, 157.0, 168.0, 154.0, 159.0, 162.5, 147.0, 154.0, 150.0, 164.0, 156.0, 170.0, 159.0, 147.0, 175.0, 157.0, 153.0, 168.0, 166.0, 153.0, 144.0, 155.0, 159.0, 171.0, 160.0, 153.0, 169.0, 161.0, 169.5, 167.0, 171.4, 172.0, 168.5, 158.0, 163.0, 152.0, 174.0, 180.0, 176.6, 158.5, 152.0, 173.8, 153.6, 161.4, 158.8, 164.0, 170.0, 169.0, 175.5, 168.3, 162.0, 153.6, 148.9, 158.1, 174.8, 159.8, 159.0, 154.0, 158.0, 152.1, 157.1, 150.0, 153.0, 165.2, 166.1, 153.6, 161.1, 168.6, 159.8, 150.4, 163.0, 151.3, 161.3, 167.5, 156.0, 154.4, 161.9, 163.0, 153.1, 162.0, 141.1, 168.4, 162.9, 166.0, 169.1, 158.3, 157.1, 165.3, 149.5, 147.7, 161.0, 171.2, 162.8, 167.0, 155.3, 161.1, 151.9, 171.8, 157.0, 168.4, 173.2, 168.8, 155.0, 150.2, 149.3, 166.6, 155.5, 163.6, 174.8, 158.3, 167.3, 162.2, 161.1, 171.5, 157.6, 160.8, 155.8, 159.5, 169.0, 167.0, 171.3, 162.5, 162.0, 160.8, 159.5, 165.8, 171.4, 160.6, 160.5, 161.0, 167.7, 164.0, 168.0, 163.4, 157.8, 181.0, 168.9, 167.8, 160.0, 176.0, 160.0, 174.0, 157.0, 151.0, 153.8, 183.0, 170.8, 166.0, 150.0, 157.5, 156.0, 172.4, 170.0, 183.0, 187.5, 155.0, 158.0, 162.0, 158.4, 161.7, 173.8, 169.5, 165.2, 161.7, 157.0, 154.8, 165.8, 155.0, 165.5, 156.5, 175.6, 168.0, 187.6, 165.9, 156.4, 174.0, 174.5, 172.7, 157.2, 169.8, 170.6, 158.3, 166.9, 158.2, 164.2, 161.8, 169.3, 170.2, 149.9, 170.4, 172.2, 171.2, 179.3, 164.1, 172.4, 176.3, 181.4, 175.6, 169.2, 156.5, 168.2, 167.3, 161.9, 173.2, 156.9, 187.3, 168.3, 167.9, 176.8, 162.6, 154.3, 171.2, 167.2, 179.9, 133.6, 154.3, 151.2, 133.6, 155.3, 152.7, 137.2, 168.4, 159.8, 156.5, 149.2, 157.9, 150.1, 142.8, 150.0, 132.4, 143.0, 156.2, 156.3, 144.8, 164.9, 155.2, 160.3, 142.4, 140.6, 152.4, 156.2, 151.4, 166.9, 156.2, 142.9, 156.5, 177.1, 165.9, 145.5, 171.4, 156.5, 148.0, 156.3, 160.5, 168.5, 166.9, 155.8, 163.8, 154.4, 167.6, 149.5, 158.0, 157.6, 157.5, 166.0, 148.6, 151.4, 152.7, 156.0, 146.8, 147.9, 141.1, 140.4, 141.8, 148.7, 153.3, 161.0, 151.5, 133.6, 143.9, 144.6, 137.5, 137.6, 136.8, 146.3, 168.0, 145.4, 140.0, 150.3, 150.4, 147.1, 141.3, 143.0, 141.1, 154.0, 151.0, 151.4, 152.8, 142.5, 147.7, 145.5, 162.5, 145.3, 179.6, 161.5, 156.8, 158.1, 147.6, 157.8, 154.8, 162.0, 161.2, 153.7, 154.7, 170.0, 162.8, 157.6, 167.1, 162.4, 145.0, 173.0, 160.1, 174.0, 174.0, 159.9, 166.2, 140.4, 148.5, 156.0, 145.6, 164.9, 139.2, 146.1, 144.6, 150.2, 170.4, 148.2, 148.2, 163.4, 147.5, 159.0, 148.0, 153.8, 157.8, 145.0, 150.0, 157.1, 159.1, 164.3, 163.6, 152.2, 160.4, 155.2, 148.2, 155.2, 173.3, 158.0, 168.6, 156.9, 160.0, 154.3, 176.6, 158.0, 149.0, 157.1, 163.2, 160.7, 155.5, 152.5, 159.1, 156.6, 155.1, 152.6, 167.5, 148.7, 161.6, 163.8, 143.9, 168.9, 155.5, 158.6, 156.8, 155.5, 167.3, 150.6, 173.9, 165.9, 165.4, 172.1, 171.2, 168.0, 165.0, 156.3, 151.7, 163.8, 168.2, 146.9, 159.1, 155.8, 154.1, 151.0, 158.8, 164.5, 159.5, 170.0, 152.2, 171.0, 154.5, 160.8, 158.5, 145.4, 172.8, 151.7, 149.7, 164.2, 172.5, 136.9, 163.3, 164.5, 153.5, 170.5, 163.1, 154.2, 157.1, 164.8, 153.0, 165.1, 166.1, 160.0, 149.2, 161.0, 152.8, 162.5, 168.9, 139.0, 167.8, 153.2, 158.8, 176.5, 137.4, 165.1, 147.8, 147.3, 163.6, 155.5, 160.8, 156.1, 165.4, 156.2, 154.4, 154.7, 170.7, 159.5, 158.6, 150.5, 156.7, 153.8, 169.9, 168.0, 152.0, 155.7, 158.6, 152.7, 155.2, 147.5, 147.4, 151.7, 163.6, 156.2, 150.1, 159.9, 149.1, 151.8, 160.2, 150.5, 160.3, 140.7, 154.8, 168.5, 171.0, 178.9, 173.5, 174.7, 182.5, 171.0, 165.3, 175.0, 166.4, 157.8, 177.9, 179.0, 149.1, 160.8, 149.6, 165.2, 167.9, 169.5, 179.3, 168.2, 180.0, 164.3, 166.1, 157.5, 166.3, 162.6, 173.5, 154.4, 184.1, 179.0, 179.0, 168.8, 153.2, 150.5, 150.4, 153.4, 158.6, 143.4, 154.7, 147.5, 149.6, 153.6, 149.4, 160.0, 156.7, 144.5, 154.6, 158.8, 162.5, 146.0, 147.1, 152.9, 165.3, 156.5, 154.7, 157.6, 155.6, 145.2, 150.5, 153.5, 158.0, 160.8, 148.3, 145.2, 156.0, 150.7, 147.9, 155.1, 173.1, 163.8, 166.0, 153.2, 155.8, 148.2, 156.3, 169.4, 162.9, 149.9, 158.6, 174.1, 153.1, 166.8, 152.9, 164.6, 156.7, 150.5, 163.5, 156.6, 156.5, 160.2, 173.6, 151.9, 161.6, 154.9, 152.9, 153.1, 158.9, 145.4, 152.7, 171.3, 159.9, 161.8, 158.0, 176.0, 157.8, 156.5, 156.9, 146.9, 175.5, 155.5, 172.9, 177.8, 152.1, 176.5, 171.6, 157.8, 167.6, 169.7, 154.0, 157.3, 173.2, 166.9, 159.4, 154.2, 168.3, 161.1, 178.6, 165.8, 162.8, 161.9, 180.5, 160.6, 177.8, 156.1, 155.3, 171.3, 164.3, 162.4, 162.7, 162.8, 177.6, 165.8, 172.3, 164.0, 163.6, 146.6, 179.8, 153.6, 181.0, 158.5, 172.0, 151.5, 154.4, 168.3, 157.3, 181.0, 158.7, 157.4, 169.4, 157.5, 170.1, 174.5, 165.0, 156.3, 175.2, 164.0, 158.4, 155.1, 150.5, 150.1, 153.5, 158.9, 148.5, 167.8, 154.5, 147.9, 165.8, 146.0, 145.3, 153.3, 165.5, 152.5, 171.0, 154.4, 155.1, 147.5, 161.4, 143.7, 161.2, 180.9, 162.3, 152.8, 159.3, 152.2, 151.5, 160.6, 161.3, 168.1, 151.7, 163.2, 171.4, 161.3, 162.3, 147.9, 155.5, 164.4, 162.3, 151.3, 153.6, 149.9, 160.9, 148.2, 157.5, 168.3, 156.6, 163.9, 153.1, 152.7, 161.9, 165.4, 153.6, 159.0, 157.0, 159.1, 143.5, 161.2, 151.7, 158.4, 156.1, 145.6, 162.5, 156.6, 164.5, 159.0, 174.0, 170.0, 165.4, 162.4, 165.8, 152.4, 175.0, 157.0, 168.5, 176.1, 172.1, 167.0, 154.5, 174.6, 169.5, 168.3, 168.1, 149.2, 146.8, 160.6, 135.2, 151.5, 162.1, 155.8, 156.8, 156.3, 144.0, 170.5, 166.9, 163.8, 157.6, 154.8, 162.4, 165.1, 153.2, 163.4, 153.3, 156.4, 160.8, 152.8, 162.0, 163.0, 169.9, 154.6, 147.4, 168.5, 177.2, 163.7, 163.8, 152.1, 149.5, 139.0, 151.2, 154.2, 166.0, 145.8, 150.8, 157.8, 154.9, 156.0, 152.7, 154.3, 154.4, 158.9, 145.6, 146.0, 160.4, 158.4, 156.9, 160.8, 150.9, 163.4, 157.1, 161.3, 156.3, 154.4, 159.5, 167.9, 151.8, 145.5, 143.8, 158.8, 158.6, 161.6, 142.8, 146.8, 157.8, 169.6, 156.8, 163.8, 154.9, 174.8, 168.2, 156.7, 149.2, 165.5, 161.3, 169.1, 155.0, 175.5, 166.6, 157.3, 149.9, 160.3, 160.8, 159.3, 166.3, 152.9, 151.3, 154.8, 150.4, 167.3, 155.2, 151.9, 151.0, 148.5, 160.7, 160.2, 153.2, 164.7, 154.5, 179.6, 169.9, 162.0, 156.0, 178.0, 175.9, 163.5, 177.0, 172.0, 185.5, 159.8, 169.1, 157.1, 177.0, 156.9, 165.4, 164.9, 180.0, 157.4, 168.0, 163.8, 167.4, 166.2, 181.9, 166.1, 169.0, 166.0, 152.1, 171.9, 172.9, 159.0, 178.1, 160.5, 167.1, 150.9, 155.0, 166.2, 162.7, 173.3, 169.6, 162.0, 188.4, 158.6, 155.3, 161.5, 165.0, 161.8, 181.0, 166.6, 168.1, 154.3, 159.3, 153.3, 152.8, 163.0, 156.2, 169.0, 172.9, 177.3, 165.4, 170.8, 175.6, 159.4, 161.9, 160.5, 158.9, 160.1, 146.3, 158.5, 162.2, 151.1, 147.5, 157.5, 150.1, 143.2, 147.0, 160.6, 151.2, 134.4, 145.4, 158.7, 161.8, 149.3, 149.0, 157.2, 160.9, 156.4, 144.0, 155.0, 145.9, 158.2, 164.9, 153.0, 149.3, 162.2, 145.0, 144.5, 142.3, 157.0, 166.1, 167.5, 167.9, 154.7, 151.4, 160.0, 161.5, 152.4, 154.8, 157.5, 150.5, 150.5, 159.5, 153.0, 160.0, 153.0, 165.0, 150.0, 158.0, 160.5, 172.5, 173.6, 156.8, 156.5, 147.8, 167.2, 151.0, 143.7, 145.1, 156.1, 151.6, 149.8, 150.0, 169.6, 157.4, 153.7, 162.7, 161.6, 144.6, 145.5, 148.4, 160.0, 156.8, 150.5, 154.3, 153.3, 147.6, 150.0, 158.0, 143.7, 167.2, 156.5, 154.1, 157.0, 156.6, 151.5, 170.0, 167.9, 171.0, 171.5, 172.0, 161.4, 165.1, 174.4, 173.1, 169.0, 173.3, 178.4, 161.4, 175.0, 175.5, 174.8, 159.3, 168.0, 170.7, 170.0, 170.6, 171.5, 155.2, 162.5, 177.8, 167.4, 165.7, 153.1, 169.4, 161.0, 173.6, 171.6, 166.9, 167.8, 161.5, 179.8, 169.0, 168.6, 168.8, 164.9, 162.0, 162.1, 163.5, 176.0, 162.6, 169.5, 168.2, 154.4, 159.1, 170.3, 164.3, 170.4, 165.2, 153.8, 172.0, 157.8, 160.0, 180.0, 176.0, 153.2, 164.5, 180.0, 168.0, 167.0, 176.2, 171.0, 155.8, 158.3, 161.8, 157.0, 149.9, 153.8, 156.4, 168.4, 171.8, 160.6, 164.4, 152.3, 167.8, 171.8, 155.7, 165.0, 155.3, 169.9, 176.5, 167.0, 176.3, 163.6, 171.3, 167.5, 175.8, 155.0, 171.4, 171.0, 162.6, 191.2, 172.5, 171.5, 173.6, 176.8, 155.3, 151.6, 160.2, 150.2, 136.5, 146.5, 141.0, 151.6, 143.1, 148.6, 148.3, 145.4, 161.0, 143.1, 147.0, 145.7, 140.4, 155.5, 161.6, 144.0, 146.2, 150.0, 154.5, 148.7, 156.7, 150.9, 152.4, 143.0, 145.6, 137.9, 141.8, 164.8, 160.3, 167.4, 153.2, 156.7, 147.0, 145.9, 157.4, 169.5, 149.7, 154.9, 153.5, 159.7, 150.2, 159.8, 157.6, 170.4, 148.5, 159.9, 160.6, 155.5, 157.4, 160.0, 160.5, 171.7, 157.5, 158.5, 182.0, 159.5, 165.7, 164.0, 178.0, 168.1, 182.9, 149.2, 172.4, 163.2, 165.6, 156.8, 169.7, 174.8, 155.7, 160.9, 161.5, 155.0, 182.5, 165.5, 156.1, 156.4, 148.8, 164.5, 176.7, 170.7, 156.0, 164.7, 176.3, 166.7, 156.8, 168.5, 162.8, 157.2, 163.7, 181.2, 173.6, 171.6, 155.6, 154.5, 175.5, 160.1, 153.5, 180.3, 172.2, 167.4, 165.9, 164.4, 151.1, 157.8, 185.0, 174.8, 180.5, 166.1, 188.0, 153.9, 153.8, 168.0, 168.6, 158.9, 154.5, 158.0, 141.9, 147.8, 151.4, 153.4, 147.4, 162.4, 156.7, 137.3, 174.5, 164.9, 134.1, 141.9, 150.4, 164.2, 145.5, 155.3, 145.3, 141.8, 153.2, 170.8, 163.8, 157.3, 172.2, 171.2, 174.2, 166.4, 162.3, 173.6, 160.6, 162.4, 161.6, 160.4, 160.0, 161.6, 155.1, 156.6, 156.1, 176.6, 147.3, 154.4, 163.3, 151.4, 161.3, 151.0, 168.2, 156.8, 174.0, 155.8, 166.4, 177.3, 154.3, 152.9, 147.8, 179.0, 155.8, 169.2, 165.8, 147.3, 164.8, 163.9, 171.8, 154.3, 167.6, 161.9, 161.5, 165.8, 156.8, 163.2, 154.8, 174.4, 165.0, 149.2, 168.7, 150.0, 151.3, 156.8, 187.8, 145.3, 151.6, 154.7, 158.9, 168.0, 163.2, 160.2, 158.2, 161.4, 177.6, 153.4, 151.3, 159.0, 160.2, 164.5, 158.4, 167.0, 158.3, 150.0, 163.0, 151.2, 169.2, 164.8, 180.8, 172.0, 163.3, 172.0, 181.3, 160.4, 148.3, 156.1, 174.4, 155.3, 169.8, 158.0, 165.0, 163.2, 158.0, 144.2, 151.9, 158.5, 150.6, 157.9, 146.0, 158.7, 148.5, 154.9, 150.6, 147.9, 161.0, 155.2, 155.9, 162.0, 146.7, 143.0, 161.0, 177.8, 149.8, 148.4, 164.9, 160.2, 152.5, 164.8, 159.9, 155.0, 154.6, 156.0, 155.1, 155.8, 170.9, 158.0, 144.1, 147.1, 165.0, 155.6, 156.2, 145.5, 144.0, 163.4, 150.5, 154.5, 149.4, 153.5, 144.7, 143.3, 149.5, 148.6, 142.0, 159.6, 139.9, 147.0, 135.7, 147.7, 152.8, 152.5, 146.2, 151.5, 146.6, 152.3, 159.3, 148.5, 144.2, 157.6, 164.1, 150.9, 153.8, 162.5, 168.3, 159.9, 163.0, 150.5, 132.4, 167.8, 169.1, 161.6, 158.1, 149.0, 164.4, 158.8, 160.4, 142.1, 154.0, 152.6, 142.4, 159.5, 168.2, 171.1, 146.6, 164.3, 163.0, 151.0, 170.0, 163.5, 160.0, 144.1, 137.5, 149.7, 135.8, 151.5, 147.2, 156.0, 145.9, 173.2, 151.5, 149.9, 142.4, 148.9, 149.9, 154.0, 143.1, 150.9, 141.4, 140.2, 156.4, 156.0, 161.9, 146.8, 145.7, 164.1, 141.9, 148.1, 148.0, 163.7, 158.7, 155.8, 140.0, 145.5, 156.5, 163.4, 151.5, 141.4, 163.7, 157.8, 167.9, 159.0, 154.8, 156.2, 157.0, 141.4, 161.3, 161.9, 162.0, 155.0, 152.5, 149.2, 148.0, 150.1, 169.6, 151.2, 150.8, 154.4, 153.4, 164.6, 145.5, 148.6, 173.6, 149.5, 152.0, 144.5, 162.4, 133.0, 152.0, 153.5, 156.5, 161.0, 163.9, 163.2, 160.4, 158.5, 156.7, 152.3, 153.2, 169.2, 145.7, 151.4, 153.8, 148.4, 161.5, 152.5, 155.8, 148.1, 139.8, 145.7, 145.9, 159.8, 154.9, 159.7, 146.8, 146.9, 148.2, 154.5, 146.7, 140.6, 161.5, 158.8, 141.5, 143.9, 152.8, 151.9, 137.7, 142.5, 157.5, 151.4, 138.9, 155.0, 162.9, 149.9, 168.0, 156.0, 149.5, 153.0, 146.3, 138.1, 132.5, 162.3, 150.0, 153.4, 157.3, 158.7, 156.6, 134.5, 155.2, 162.0, 142.4, 141.0, 144.0, 160.5, 133.7, 144.8, 145.9, 152.0, 142.4, 138.9, 148.6, 137.0, 140.2, 137.4, 164.4, 172.5, 160.0, 167.4, 155.1, 172.9, 154.1, 148.0, 148.5, 167.7, 161.2, 157.1, 163.5, 164.6, 157.0, 158.9, 172.6, 164.2, 153.3, 170.0, 165.4, 162.7, 163.6, 177.3, 176.0, 156.8, 161.1, 162.6, 167.4, 148.5, 149.0, 160.4, 158.6, 159.0, 143.7, 155.5, 149.5, 160.4, 148.4, 159.6, 156.0, 155.0, 150.3, 149.5, 151.8, 155.5, 154.5, 153.4, 155.5, 147.0, 162.5, 161.6, 158.6, 170.5, 155.4, 172.5, 156.1, 153.5, 147.8, 152.2, 170.5, 178.6, 164.0, 164.0, 164.7, 175.6, 166.8, 170.6, 160.0, 162.1, 167.7, 163.4, 157.5, 166.2, 148.0, 162.3, 151.8, 172.5, 149.0, 146.6, 161.6, 152.0, 137.0, 143.5, 140.5, 148.3, 142.0, 150.5, 141.0, 162.9, 145.5, 142.7, 136.0, 154.0, 178.6, 162.5, 175.5, 174.0, 152.6, 167.1, 167.9, 167.2, 161.5, 166.0, 174.5, 168.5, 156.0, 170.0, 179.4, 165.3, 157.7, 171.0, 162.0, 156.5, 174.7, 159.5, 159.0, 172.5, 178.6, 184.0, 162.0, 171.8, 162.0, 165.5, 164.9, 150.0, 164.0, 169.0, 165.0, 179.0, 165.0, 154.6, 182.7, 171.4, 159.1, 181.4, 163.3, 158.7, 168.8, 163.9, 148.9, 160.5, 156.0, 154.6, 156.9, 154.5, 163.5, 148.6, 183.5, 150.9, 162.7, 152.4, 154.8, 156.0, 157.0, 179.9, 153.1, 155.0, 157.5, 174.5, 166.5, 177.5, 165.0, 167.8, 178.5, 161.8, 154.9, 166.8, 164.3, 157.3, 162.4, 164.3, 168.1, 157.0, 158.0, 162.2, 170.3, 157.5, 152.9, 175.5, 179.0, 171.8, 155.0, 172.6, 184.0, 160.5, 159.0, 155.5, 174.0, 172.6, 173.8, 182.5, 181.7, 169.6, 180.8, 171.3, 165.6, 182.8, 153.2, 165.5, 177.5, 153.9, 180.4, 171.8, 166.8, 157.5, 172.8, 156.0, 158.7, 162.3, 164.0, 168.6, 158.2, 176.0, 162.0, 161.0, 155.1, 175.0, 165.8, 171.8, 171.9, 169.0, 162.0, 169.8, 162.5, 155.0, 158.4, 158.5, 162.5, 160.0, 163.6, 160.9, 179.2, 177.6, 165.6, 173.2, 165.8, 161.4, 164.0, 163.2, 164.5, 174.9, 171.3, 167.6, 184.4, 157.2, 159.5, 157.2, 153.9, 170.8, 174.2, 162.1, 174.0, 161.2, 175.9, 163.0, 168.5, 159.5, 164.6, 162.5, 162.5, 173.1, 164.4, 173.2, 169.8, 173.8, 182.6, 163.4, 163.9, 166.5, 166.2, 153.8, 180.0, 170.0, 151.5, 165.5, 172.0, 180.2, 163.5, 167.5, 176.5, 176.8, 163.0, 179.5, 173.3, 170.0, 170.3, 184.7, 163.9, 172.0, 159.1, 162.3, 150.1, 161.0, 157.3, 172.0, 174.9, 164.9, 159.0, 185.6, 174.5, 182.0, 158.2, 166.5, 162.5, 146.9, 155.5, 169.9, 163.8, 169.3, 155.2, 168.4, 168.1, 155.4, 166.6, 165.0, 158.1, 165.0, 166.6, 153.0, 165.0, 158.4, 171.2, 162.2, 160.6, 156.0, 162.3, 168.5, 169.0, 151.0, 159.5, 152.2, 173.0, 155.8, 158.4, 164.7, 175.0, 169.1, 166.3, 166.0, 158.0, 178.0, 170.0, 162.0, 174.5, 159.6, 164.2, 179.8, 173.0, 153.8, 164.8, 172.5, 172.2, 173.4, 154.8, 170.0, 163.0, 161.0, 167.0, 170.4, 158.5, 157.0, 161.0, 153.0, 163.0, 165.0, 179.0, 148.0, 144.7, 158.0, 169.0, 147.8, 153.0, 165.5, 184.5, 171.0, 146.5, 175.0, 162.5, 160.0, 160.0, 168.5, 159.5, 178.3, 151.0, 166.5, 166.6, 171.2, 176.0, 162.5, 163.0, 168.5, 162.0, 176.0, 162.0, 162.3, 168.5, 174.5, 174.2, 157.8, 160.6, 186.0, 168.5, 180.0, 174.0, 160.8, 155.3, 172.6, 166.8, 181.6, 160.0, 190.0, 163.6, 176.0, 164.6, 169.3, 163.5, 172.8, 180.5, 161.0, 153.9, 176.9, 155.3, 186.1, 157.2, 163.5, 169.6, 173.5, 158.8, 170.5, 176.5, 169.0, 174.9, 169.5, 171.5, 154.9, 163.0, 179.0, 178.0, 176.2, 173.8, 161.5, 165.2, 167.5, 162.1, 168.5, 160.5, 174.6, 180.0, 161.5, 168.5, 161.5, 158.5, 161.5, 168.2, 149.1, 149.3, 173.0, 181.5, 150.1, 161.6, 153.5, 150.0, 153.5, 150.5, 151.2, 165.5, 161.6, 167.8, 174.7, 166.2, 165.0, 157.5, 165.0, 162.0, 149.5, 161.2, 177.5, 164.8, 160.6, 161.5, 155.3, 164.5, 157.2, 163.3, 172.0, 172.0, 164.6, 174.0, 169.2, 160.9, 161.1, 162.0, 187.9, 158.0, 163.0, 158.1, 175.0, 160.8, 169.4, 162.0, 177.0, 157.2, 160.0, 156.2, 168.3, 157.8, 166.2, 163.5, 169.4, 156.6, 164.5, 167.7, 155.1, 157.4, 137.0, 148.5, 139.5, 142.0, 177.5, 149.9, 140.1, 161.9, 154.0, 159.8, 145.1, 141.0, 144.8, 152.5, 154.5, 155.9, 144.0, 163.2, 165.0, 145.1, 160.5, 159.0, 168.5, 175.0, 166.2, 166.8, 158.0, 168.2, 165.0, 174.3, 161.4, 169.5, 179.5, 163.5, 171.2, 179.8, 165.2, 151.0, 159.5, 155.2, 168.0, 157.0, 176.8, 157.4, 171.5, 158.3, 166.1, 154.0, 180.0, 172.8, 180.3, 154.3, 159.5, 160.0, 166.0, 156.5, 153.0, 165.0, 158.0, 170.2, 160.5, 168.2, 168.2, 162.2, 168.3, 176.5, 190.5, 165.0, 169.5, 152.6, 165.2, 148.5, 155.0, 162.0, 155.9, 163.0, 174.0, 158.0, 163.5, 159.7, 175.5, 165.3, 181.2, 153.5, 157.5, 184.1, 177.5, 157.6, 166.5, 163.0, 161.0, 162.5, 187.5, 175.0, 177.0, 174.2, 166.5, 163.5, 173.0, 175.7, 177.0, 170.6, 158.5, 172.3, 182.2, 151.8, 150.5, 158.6, 178.7, 163.6, 166.0, 180.9, 172.4, 162.0, 182.5, 159.8, 157.0, 177.8, 174.0, 175.2, 164.5, 160.9, 168.8, 164.7, 158.0, 174.8, 172.2, 160.1, 150.1, 179.5, 163.5, 177.5, 167.0, 167.0, 159.5, 158.2, 159.0, 163.7, 167.0, 168.5, 153.9, 165.0, 153.8, 159.1, 179.5, 175.8, 170.5, 159.5, 166.4, 164.5, 161.0, 149.5, 154.8, 165.0, 159.5, 167.0, 175.1, 174.9, 148.0, 172.8, 168.0, 183.4, 170.0, 159.8, 148.6, 155.6, 159.1, 147.9, 152.3, 148.3, 155.5, 144.2, 151.5, 149.6, 144.0, 154.4, 144.0, 166.5, 141.9, 169.6, 156.2, 151.3, 143.0, 162.9, 159.3, 153.2, 147.8, 144.1, 167.8, 144.6, 142.5, 150.5, 161.6, 148.5, 165.9, 150.0, 164.5, 135.0, 149.0, 149.0, 157.8, 153.2, 136.0, 163.5, 146.5, 154.5, 160.5, 156.5, 150.0, 160.0, 150.5, 140.0, 149.0, 153.5, 160.3, 153.6, 157.5, 159.2, 148.5, 148.6, 157.0, 166.0, 153.0, 159.0, 139.2, 153.2, 154.0, 149.8, 145.9, 158.3, 157.0, 150.5, 157.2, 158.9, 144.5, 156.6, 158.5, 163.0, 153.2, 146.5, 150.5, 170.2, 150.4, 162.5, 152.1, 152.8, 160.3, 144.4, 162.0, 160.6, 172.1, 155.9, 174.5, 157.0, 163.0, 166.2, 158.4, 156.2, 157.8, 179.1, 164.4, 171.3, 173.6, 172.4, 156.0, 171.0, 162.0, 171.2, 162.0, 166.8, 156.0, 172.0, 155.3, 169.2, 157.0, 160.0, 176.7, 160.5, 158.5, 153.0, 161.6, 183.1, 154.6, 165.2, 154.0, 175.9, 173.0, 168.0, 163.3, 171.1, 174.0, 174.5, 171.0, 179.5, 161.4, 164.5, 163.0, 183.0, 166.5, 170.2, 170.7, 164.7, 173.0, 159.3, 160.5, 168.3, 173.3, 156.0, 169.0, 173.0, 165.0, 162.6, 162.0, 177.3, 157.6, 172.0, 157.0, 172.0, 157.8, 176.7, 157.5, 168.0, 165.5, 183.7, 184.0, 176.1, 158.0, 173.8, 166.5, 159.0, 161.0, 175.3, 158.3, 170.0, 161.8, 157.7, 149.8, 162.4, 161.4, 154.7, 165.8, 157.3, 161.5, 150.7, 150.3, 150.2, 168.0, 161.7, 164.6, 159.0, 162.9, 168.7, 152.7, 161.3, 168.1, 147.1, 153.5, 173.8, 164.5, 146.5, 151.4, 159.2, 150.0, 162.0, 149.8, 156.3, 167.8, 165.0, 154.0, 162.8, 160.5, 169.5, 160.3, 164.4, 155.3, 150.2, 168.0, 157.9, 175.0, 166.3, 164.8, 153.4, 153.2, 154.5, 151.1, 161.0, 162.3, 150.5, 165.8, 152.8, 166.7, 165.0, 164.1, 164.9, 163.1, 167.9, 174.1, 157.3, 165.0, 177.8, 161.0, 161.0, 165.0, 155.0, 157.9, 174.0, 172.0, 159.0, 154.0, 160.0, 164.4, 185.0, 145.0, 149.5, 139.5, 153.0, 151.0, 163.3, 157.0, 148.0, 149.2, 136.0, 151.7, 154.0, 156.0, 157.0, 145.5, 164.0, 142.6, 153.0, 143.0, 155.1, 154.5, 148.5, 150.5, 152.0, 152.3, 144.0, 151.0, 142.1, 163.5, 165.0, 172.6, 183.0, 161.0, 157.5, 171.5, 157.4, 172.6, 164.0, 171.3, 160.7, 169.5, 166.5, 156.0, 164.7, 167.3, 174.0, 165.2, 153.0, 168.0, 164.0, 172.5, 155.0, 160.0, 169.0, 159.1, 169.0, 168.0, 153.2, 162.3, 173.0, 184.5, 171.0, 147.5, 164.5, 149.5, 156.0, 161.0, 173.5, 152.5, 149.0, 158.0, 145.5, 153.5, 155.0, 158.5, 163.0, 161.5, 161.5, 164.0, 158.5, 156.5, 164.5, 159.8, 159.5, 165.7, 157.5, 168.0, 156.0, 164.0, 151.0, 155.0, 160.0, 156.0, 154.0, 160.0, 162.5, 149.0, 160.5, 160.0, 177.5, 159.5, 163.0, 158.5, 159.0, 169.0, 166.5, 157.0, 162.0, 155.5, 156.5, 150.5, 146.9, 157.3, 139.5, 141.9, 147.8, 159.0, 142.9, 140.1, 151.3, 138.3, 148.5, 156.5, 135.8, 133.0, 155.8, 149.0, 145.1, 171.8, 156.8, 162.3, 149.7, 145.9, 137.6, 155.0, 151.7, 159.0, 164.0, 180.0, 159.5, 161.0, 148.9, 152.0, 176.0, 157.0, 156.0, 165.1, 166.6, 150.5, 160.0, 150.0, 160.7, 178.0, 170.5, 168.5, 164.6, 168.5, 160.0, 155.0, 160.0, 152.5, 151.5, 174.0, 161.0, 160.0, 156.2, 171.5, 150.9, 150.1, 157.6, 145.3, 165.5, 151.3, 159.6, 151.3, 161.3, 169.2, 153.5, 145.5, 166.1, 166.7, 162.8, 162.3, 150.5, 161.8, 143.0, 159.4, 157.4, 154.1, 154.5, 151.3, 147.0, 163.4, 151.0, 142.4, 144.6, 149.0, 162.3, 151.1, 149.8, 166.6, 161.0, 158.6, 155.1, 158.1, 174.2, 152.1, 160.8, 161.8, 159.2, 172.5, 161.5, 173.0, 154.6, 154.8, 158.1, 141.8, 155.0, 162.5, 164.6, 155.4, 162.2, 156.7, 158.2, 150.8, 153.5, 147.5, 145.1, 165.2, 165.8, 152.3, 151.7, 144.3, 159.4, 154.0, 157.0, 174.7, 150.3, 146.7, 163.4, 145.8, 148.7, 157.0, 153.4, 157.9, 136.7, 141.1, 153.5, 167.7, 156.9, 160.8, 154.4, 159.1, 162.3, 167.7, 150.1, 147.8, 175.6, 161.9, 155.1, 164.6, 162.0, 165.3, 152.3, 163.8, 165.9, 164.9, 178.5, 164.0, 160.8, 169.5, 176.0, 176.0, 161.6, 161.4, 165.1, 181.7, 152.0, 168.5, 175.6, 154.5, 178.5, 160.6, 177.0, 157.0, 152.0, 175.9, 166.9, 157.3, 158.0, 161.0, 178.4, 174.3, 149.7, 168.7, 149.2, 165.8, 171.8, 157.1, 157.5, 152.8, 159.1, 165.5, 156.4, 165.3, 159.9, 156.5, 165.6, 147.1, 180.5, 163.1, 170.4, 156.6, 164.8, 169.5, 153.8, 177.0, 168.6, 183.3, 173.6, 167.3, 176.6, 168.3, 163.2, 165.0, 172.2, 160.6, 160.9, 181.3, 166.5, 179.5, 182.4, 167.2, 177.5, 182.5, 163.2, 162.4, 156.0, 173.9, 156.5, 158.0, 157.3, 158.0, 150.0, 177.8, 157.0, 150.5, 168.5, 171.8, 152.1, 167.0, 158.6, 151.5, 161.5, 160.6, 156.1, 171.3, 170.0, 159.5, 156.7, 157.7, 163.8, 159.9, 152.3, 157.3, 169.4, 155.0, 153.0, 162.9, 161.0, 167.4, 152.1, 161.0, 159.6, 161.0, 154.2, 152.9, 151.0, 156.3, 151.2, 164.8, 168.6, 164.1, 162.1, 168.4, 160.9, 161.2, 157.0, 151.2, 167.0, 164.7, 156.2, 170.9, 161.9, 169.8, 169.1, 156.8, 168.6, 183.5, 158.2, 160.1, 177.6, 164.2, 170.5, 158.1, 159.6, 173.5, 167.0, 164.0, 157.2, 151.9, 146.8, 149.5, 156.4, 167.8, 147.5, 154.5, 143.5, 142.8, 149.9, 158.7, 153.3, 143.7, 151.5, 151.2, 159.8, 132.8, 146.0, 147.5, 141.0, 138.5, 162.9, 164.0, 145.3, 163.4, 156.4, 161.2, 144.5, 163.9, 165.9, 160.7, 153.3, 161.8, 156.2, 165.8, 162.1, 150.8, 162.0, 155.5, 165.1, 175.9, 151.6, 174.3, 151.3, 158.9, 171.0, 153.1, 179.3, 164.4, 165.4, 161.6, 160.0, 173.0, 161.9, 179.0, 162.5, 176.4, 161.9, 156.3, 172.0, 169.1, 154.5, 167.0, 153.7, 160.0, 162.0, 164.4, 171.0, 162.0, 170.2, 167.0, 175.3, 167.2, 177.5, 159.3, 190.1, 157.4, 157.9, 160.5, 174.2, 161.3, 165.3, 164.3, 176.0, 163.6, 172.0, 164.4, 160.8, 179.9, 174.2, 186.6, 174.8, 170.5, 156.0, 181.1, 173.5, 161.5, 163.2, 163.7, 174.9, 172.0, 181.7, 156.6, 166.3, 169.9, 188.6, 158.5, 165.1, 164.4, 159.8, 163.9, 170.3, 162.1, 178.6, 159.4, 177.8, 164.1, 158.1, 164.2, 175.9, 166.4, 161.5, 154.6, 155.1, 183.4, 177.4, 174.4, 161.2, 158.4, 174.2, 171.6, 175.2, 177.7, 148.0, 153.6, 154.3, 167.8, 156.8, 164.5, 169.4, 159.9, 176.0, 158.9, 166.5, 159.4, 175.6, 166.5, 172.7, 159.7, 175.8, 162.0, 179.1, 156.7, 170.9, 171.3, 165.1, 161.2, 160.6, 157.3, 176.3, 162.9, 168.5, 162.9, 163.7, 176.5, 161.4, 174.9, 179.1, 157.6, 166.0, 167.0, 154.8, 177.4, 168.4, 174.2, 162.0, 176.4, 161.6, 161.6, 183.6, 173.2, 166.5, 166.1, 172.6, 171.4, 158.5, 155.3, 163.0, 140.0, 148.0, 149.4, 157.5, 143.0, 142.5, 161.5, 145.0, 140.7, 150.0, 168.5, 143.0, 147.2, 147.0, 146.5, 151.6, 169.0, 160.0, 146.5, 152.3, 140.7, 139.5, 164.2, 144.0, 153.0, 147.5, 144.5, 153.0, 156.0, 143.0, 136.0, 137.0, 147.0, 148.9, 156.5, 148.7, 151.5, 142.9, 172.7, 158.9, 158.6, 166.4, 148.8, 156.3, 155.8, 160.9, 152.2, 150.2, 165.7, 152.8, 156.5, 148.2, 158.1, 146.8, 145.6, 161.6, 164.3, 146.9, 160.1, 149.8, 155.4, 159.0, 166.0, 155.9, 183.6, 160.9, 163.2, 162.8, 175.0, 168.6, 162.5, 176.8, 161.6, 180.6, 168.8, 160.0, 194.5, 173.6, 151.4, 158.4, 159.8, 160.9, 155.4, 184.1, 156.0, 163.5, 165.0, 179.8, 160.1, 163.4, 185.5, 182.5, 161.0, 158.1, 162.9, 175.1, 155.8, 166.6, 160.8, 164.7, 159.8, 180.3, 165.6, 181.1, 174.2, 163.1, 161.0, 173.4, 163.5, 167.6, 164.8, 162.5, 174.3, 172.4, 166.2, 165.0, 174.9, 164.7, 178.2, 166.2, 164.5, 160.0, 180.7, 164.5, 172.1, 161.9, 159.5, 159.5, 175.9, 156.4, 183.0, 172.3, 145.0, 154.5, 154.4, 152.2, 161.5, 157.8, 151.1, 144.0, 147.0, 145.4, 136.0, 147.0, 162.4, 157.9, 146.1, 146.0, 174.3, 155.0, 150.9, 141.0, 153.3, 154.6, 162.1, 162.1, 146.4, 162.5, 166.5, 169.0, 169.8, 160.4, 157.5, 166.7, 170.8, 159.6, 154.5, 147.6, 157.3, 158.9, 164.0, 157.0, 165.8, 140.9, 157.3, 169.0, 173.2, 161.1, 157.0, 155.0, 158.0, 170.6, 144.0, 156.9, 152.0, 170.4, 157.0, 151.0, 157.0, 145.1, 156.5, 156.4, 162.5, 154.4, 138.6, 152.0, 160.5, 162.0, 149.0, 157.7, 160.0, 156.0, 168.5, 164.3, 173.9, 155.0, 154.0, 168.5, 146.5, 158.1, 170.6, 155.0, 159.2, 153.8, 159.6, 157.0, 159.0, 153.1, 146.2, 160.8, 164.4, 152.0, 152.5, 154.1, 148.2, 161.1, 152.0, 183.5, 156.4, 157.0, 156.5, 153.6, 177.5, 169.6, 159.1, 162.2, 172.0, 171.4, 171.3, 175.0, 182.8, 185.0, 168.3, 169.1, 152.0, 180.0, 156.0, 181.2, 157.3, 168.0, 157.0, 174.5, 169.5, 172.6, 170.7, 158.7, 164.0, 153.5, 161.7, 165.9, 174.6, 179.8, 174.4, 156.2, 160.0, 165.9, 159.7, 156.1, 149.0, 160.1, 162.0, 163.0, 163.7, 155.3, 155.0, 155.4, 153.4, 156.4, 154.3, 151.0, 148.4, 157.1, 153.5, 160.0, 152.9, 160.2, 153.1, 144.5, 154.5, 156.7, 155.5, 161.8, 140.8, 173.6, 174.0, 151.2, 151.0, 160.0, 165.3, 159.4, 161.5, 154.5, 158.5, 155.0, 162.0, 164.0, 154.0, 162.0, 160.5, 178.0, 166.0, 156.7, 156.9, 166.0, 157.2, 150.4, 173.0, 157.5, 164.1, 177.4, 161.0, 174.0, 163.7, 158.5, 170.0, 160.5, 177.0, 172.8, 158.0, 153.0, 148.4, 167.5, 152.9, 157.5, 173.4, 168.0, 167.5, 172.5, 157.9, 162.0, 177.2, 158.0, 187.6, 172.6, 164.9, 184.2, 155.4, 167.5, 166.4, 162.2, 156.6, 171.4, 166.2, 171.0, 173.5, 163.9, 153.1, 177.0, 168.4, 159.9, 169.0, 181.0, 168.3, 171.5, 155.8, 166.6, 155.9, 147.9, 144.0, 159.5, 151.5, 142.0, 158.5, 137.5, 158.0, 147.6, 165.5, 149.5, 166.3, 168.5, 162.5, 163.3, 158.0, 154.5, 129.5, 145.0, 159.0, 155.5, 178.5, 162.0, 161.1, 162.0, 169.0, 157.0, 154.5, 157.5, 166.0, 184.5, 169.0, 152.0, 167.4, 173.0, 176.5, 164.0, 168.5, 162.0, 165.0, 158.5, 165.5, 171.6, 176.5, 169.0, 152.0, 170.0, 158.4, 160.0, 168.5, 160.4, 159.0, 164.3, 156.5, 173.5, 163.5, 147.0, 174.5, 171.0, 169.8, 186.0, 163.2, 160.9, 171.0, 167.5, 167.5, 167.1, 161.2, 164.0, 161.5, 162.7, 162.5, 174.2, 169.0, 185.0, 163.0, 159.5, 169.0, 142.2, 151.9, 137.1, 161.0, 165.6, 169.0, 170.6, 154.9, 140.6, 153.2, 149.0, 157.7, 151.6, 169.0, 149.0, 160.5, 157.3, 150.0, 151.3, 152.9, 157.0, 152.9, 161.5, 162.5, 165.4, 163.0, 166.0, 167.4, 159.2, 162.0, 153.0, 180.9, 165.5, 165.0, 181.0, 154.9, 153.5, 140.5, 163.0, 158.4, 154.0, 162.6, 153.5, 160.8, 139.5, 157.5, 150.9, 157.1, 160.5, 143.1, 155.9, 144.7, 155.4, 155.9, 161.0, 162.5, 157.2, 165.0, 168.0, 151.6, 169.2, 151.7, 148.0, 169.2, 154.0, 169.1, 159.4, 166.0, 170.4, 167.8, 166.3, 189.0, 171.3, 158.4, 160.8, 169.5, 158.1, 176.0, 165.7, 173.5, 169.3, 159.6, 164.5, 169.4, 174.5, 171.4, 178.2, 160.2, 173.0, 155.8, 173.1, 159.4, 140.0, 153.0, 153.0, 148.2, 158.3, 144.4, 170.2, 152.3, 167.3, 146.2, 155.0, 149.6, 149.8, 164.6, 160.9, 156.8, 163.8, 144.0, 149.2, 154.4, 154.4, 153.3, 158.1, 160.2, 164.3, 153.3, 158.8, 148.2, 153.5, 165.5, 148.4, 156.4, 160.5, 162.9, 173.6, 173.7, 169.5, 152.4, 162.5, 165.9, 159.7, 151.5, 157.0, 160.6, 151.5, 162.3, 171.7, 161.3, 166.0, 174.9, 158.6, 188.5, 153.2, 153.5, 159.9, 155.8, 148.5, 156.0, 163.6, 162.0, 158.0, 154.0, 142.0, 164.6, 147.9, 140.8, 154.9, 161.7, 145.5, 139.4, 154.0, 155.9, 177.0, 166.5, 183.6, 171.5, 165.5, 170.0, 171.5, 170.2, 164.5, 169.1, 173.3, 167.5, 168.4, 158.5, 165.7, 170.4, 158.6, 174.1, 174.5, 179.1, 183.9, 178.5, 161.9, 167.5, 175.8, 174.9, 165.4, 169.1, 184.1, 175.1, 164.6, 172.4, 168.8, 166.9, 163.6, 170.9, 173.6, 162.1, 173.9, 170.4, 171.0, 176.8, 174.7, 173.9, 182.5, 165.5, 164.2, 170.6, 173.4, 178.0, 162.8, 179.0, 171.2, 187.6, 186.5, 179.5, 170.1, 182.1, 183.9, 183.9, 182.4, 172.5, 182.4, 176.9, 173.5, 169.4, 176.5, 182.6, 166.5, 172.2, 173.6, 163.4, 170.4, 172.5, 177.5, 151.9, 162.5, 172.1, 177.1, 182.6, 180.5, 185.8, 172.6, 182.7, 176.7, 179.9, 173.5, 155.4, 147.6, 144.5, 161.2, 147.6, 155.8, 151.5, 163.6, 160.1, 149.0, 156.1, 157.4, 161.4, 155.5, 169.6, 167.4, 172.3, 156.4, 164.4, 157.0, 161.9, 163.9, 156.3, 157.8, 161.6, 155.8, 160.5, 156.8, 167.9, 156.2, 157.2, 165.8, 144.0, 152.1, 153.5, 143.5, 151.4, 144.0, 147.0, 150.4, 152.3, 152.0, 151.8, 160.0, 147.4, 151.8, 150.5, 137.0, 153.9, 149.0, 153.0, 153.5, 143.0, 170.0, 152.9, 162.9, 185.0, 165.8, 158.4, 163.4, 154.1, 148.5, 161.0, 170.6, 161.4, 156.8, 159.6, 167.7, 159.6, 164.1, 163.7, 162.5, 156.0, 155.2, 157.6, 153.1, 162.0, 170.0, 167.6, 154.6, 163.5, 151.6, 165.0, 145.5, 158.0, 160.0, 151.6, 152.5, 162.0, 149.0, 167.0, 163.5, 155.6, 139.6, 161.0, 155.4, 147.1, 149.2, 156.0, 148.5, 166.8, 163.0, 161.5, 175.0, 159.0, 163.0, 174.6, 191.5, 153.5, 167.4, 161.9, 151.0, 170.3, 169.5, 157.6, 167.0, 168.0, 178.0, 175.0, 154.4, 174.0, 174.4, 173.0, 171.5, 153.5, 185.0, 175.5, 168.0, 162.7, 158.0, 152.2, 159.8, 163.5, 169.5, 169.2, 157.8, 152.9, 156.9, 152.1, 156.9, 177.5, 158.7, 153.0, 158.0, 157.6, 163.3, 159.2, 163.9, 161.4, 150.2, 156.5, 158.8, 170.4, 156.2, 154.4, 144.5, 152.6, 157.4, 145.5, 153.5, 147.2, 152.5, 160.6, 154.7, 136.4, 146.8, 147.4, 164.3, 154.2, 153.5, 148.6, 142.6, 147.3, 134.5, 144.0, 143.9, 151.0, 137.2, 156.1, 140.6, 156.2, 136.8, 151.3, 143.2, 141.7, 137.3, 146.5, 157.0, 136.5, 141.3, 149.5, 155.0, 144.0, 148.0, 145.5, 160.0, 141.6, 138.5, 157.0, 148.0, 146.0, 145.0, 146.0, 142.5, 145.0, 163.9, 162.4, 154.7, 177.0, 162.5, 163.2, 165.6, 177.2, 161.1, 158.0, 177.5, 158.6, 162.5, 166.0, 175.4, 164.7, 158.0, 153.5, 166.3, 155.0, 167.5, 161.0, 159.7, 168.1, 174.5, 151.2, 164.5, 164.0, 173.3, 162.5, 174.0, 172.0, 175.0, 155.5, 186.0, 160.5, 170.5, 170.5, 176.5, 179.5, 166.0, 174.0, 174.0, 171.5, 180.5, 171.5, 174.0, 163.0, 152.0, 161.0, 167.0, 169.5, 161.4, 176.0, 176.5, 171.0, 179.5, 174.5, 162.5, 173.0, 182.3, 162.0, 162.5, 159.0, 155.0, 165.0, 157.0, 180.0, 167.0, 151.8, 149.1, 164.0, 158.0, 172.5, 157.0, 152.4, 161.6, 150.0, 145.5, 166.4, 153.5, 162.0, 145.5, 163.0, 163.0, 164.0, 157.5, 151.4, 148.0, 162.4, 177.5, 170.0, 163.0, 157.0, 157.5, 165.9, 170.0, 165.5, 173.5, 178.0, 162.9, 165.5, 165.1, 173.0, 155.5, 163.0, 175.0, 173.8, 176.7, 178.5, 164.8, 173.5, 174.0, 184.6, 182.5, 171.5, 160.6, 176.0, 156.5, 167.0, 169.8, 155.5, 159.3, 172.5, 153.0, 170.2, 168.0, 164.8, 184.8, 180.0, 181.6, 164.0, 180.7, 171.8, 169.5, 175.0, 179.8, 166.6, 159.0, 154.8, 171.8, 162.5, 161.9, 175.0, 161.5, 182.1, 173.5, 171.0, 173.3, 158.5, 176.5, 149.6, 149.1, 156.4, 151.0, 154.1, 151.2, 140.9, 150.8, 169.5, 162.4, 156.8, 148.8, 174.3, 144.4, 154.8, 160.8, 158.1, 147.3, 165.3, 154.3, 172.1, 162.9, 168.4, 156.9, 154.7, 151.3, 165.4, 172.3, 158.7, 164.2, 153.3, 153.8, 164.7, 172.6, 153.6, 176.8, 158.5, 163.9, 161.4, 158.9, 157.2, 166.5, 162.0, 155.0, 159.5, 153.0, 155.0, 163.5, 170.5, 152.0, 164.0, 157.4, 174.0, 157.0, 176.5, 172.5, 165.0, 182.0, 171.0, 155.5, 169.0, 154.0, 164.0, 150.0, 143.0, 172.8, 180.0, 156.0, 147.5, 154.0, 153.5, 151.0, 162.0, 150.5, 150.0, 181.8, 163.5, 153.0, 156.5, 169.5, 153.8, 152.2, 159.8, 133.7, 155.5, 162.5, 155.2, 152.9, 151.9, 165.0, 144.5, 151.2, 156.8, 157.9, 161.2, 157.5, 149.8, 162.7, 155.5, 147.8, 160.1, 168.2, 183.8, 159.6, 161.5, 152.1, 150.0, 149.0, 149.5, 159.6, 161.3, 159.6, 164.0, 168.3, 155.7, 166.2, 175.4, 182.6, 170.9, 156.2, 142.8, 181.7, 162.4, 159.1, 172.0, 164.8, 164.9, 155.6, 164.3, 163.9, 163.8, 155.3, 175.1, 160.7, 156.1, 168.7, 165.0, 156.6, 164.5, 159.3, 184.2, 176.9, 170.6, 187.0, 158.6, 171.6, 165.1, 148.5, 157.6, 166.9, 148.1, 166.7, 154.0, 156.6, 148.2, 146.4, 148.8, 160.4, 152.1, 156.9, 156.4, 158.4, 159.8, 164.5, 173.3, 160.3, 157.9, 176.7, 172.4, 169.5, 161.4, 166.9, 156.8, 165.3, 161.3, 152.0, 168.0, 167.9, 165.5, 165.4, 166.0, 166.3, 160.3, 155.7, 172.5, 179.9, 145.8, 169.6, 166.3, 175.9, 161.2, 160.7, 159.1, 164.2, 161.6, 173.9, 171.1, 147.8, 168.9, 152.9, 167.1, 179.3, 161.4, 153.3, 163.2, 168.0, 154.7, 160.3, 162.8, 154.8, 165.8, 163.2, 171.7, 151.7, 182.2, 161.2, 160.8, 152.6, 144.5, 162.0, 162.7, 160.0, 177.0, 178.5, 154.5, 146.0, 162.0, 156.7, 161.0, 161.6, 171.0, 162.5, 154.6, 153.0, 163.5, 156.0, 159.1, 185.0, 172.3, 164.0, 176.9, 172.6, 168.4, 187.4, 170.5, 174.3, 167.7, 172.3, 172.0, 175.1, 161.0, 155.0, 153.5, 166.5, 157.8, 161.3, 150.0, 160.9, 146.6, 155.5, 159.3, 145.4, 156.2, 147.0, 154.0, 156.0, 172.7, 186.0, 144.6, 148.6, 151.3, 159.2, 154.9, 145.4, 162.3, 159.8, 167.4, 149.9, 161.0, 160.0, 168.3, 155.0, 159.0, 162.0, 174.0, 149.6, 161.0, 157.0, 157.7, 164.5, 166.0, 149.0, 156.4, 163.0, 165.6, 162.5, 156.6, 144.7, 151.5, 134.3, 145.5, 152.6, 156.8, 147.8, 151.3, 153.0, 164.5, 159.0, 154.3, 167.5, 171.5, 181.7, 186.0, 183.0, 174.9, 174.5, 171.5, 177.5, 173.0, 164.5, 166.6, 160.6, 164.0, 186.0, 154.9, 161.0, 168.5, 178.5, 160.0, 179.0, 170.5, 175.1, 165.0, 164.0, 170.3, 172.2, 173.5, 188.6, 170.5, 153.4, 169.0, 186.0, 155.0, 161.1, 160.6, 173.0, 175.0, 171.2, 164.8, 164.4, 172.2, 169.5, 145.0, 159.5, 174.5, 169.5, 172.3, 174.0, 176.5, 167.0, 185.5, 171.5, 171.0, 168.9, 156.5, 157.2, 149.5, 171.0, 166.6, 181.4, 170.6, 154.0, 170.0, 160.2, 166.6, 144.8, 163.2, 159.8, 157.5, 143.3, 156.0, 168.1, 162.4, 148.8, 170.4, 161.2, 156.9, 172.4, 166.5, 160.8, 157.3, 184.8, 155.2, 153.0, 161.0, 154.0, 158.2, 160.2, 165.8, 159.4, 157.6, 173.8, 162.0, 148.3, 155.7, 162.9, 160.3, 161.8, 170.3, 161.0, 149.4, 160.3, 142.0, 160.5, 164.4, 182.0, 161.4, 161.8, 171.4, 173.1, 155.0, 172.5, 169.0, 156.5, 186.9, 171.8, 165.2, 166.9, 162.8, 172.2, 168.0, 180.2, 169.2, 154.5, 168.0, 157.3, 179.8, 175.4, 165.4, 158.7, 180.3, 172.0, 166.4, 149.8, 154.9, 153.3, 153.0, 148.5, 164.0, 159.0, 176.0, 174.5, 168.5, 165.5, 168.0, 154.0, 156.5, 163.5, 164.0, 175.0, 154.5, 155.0, 155.0, 176.0, 177.9, 165.8, 151.7, 182.4, 170.3, 168.0, 165.5, 177.0, 153.5, 176.5, 168.5, 159.5, 172.8, 156.9, 169.0, 172.0, 164.0, 167.9, 172.1, 154.2, 163.2, 167.4, 170.3, 160.0, 170.5, 177.9, 144.2, 175.8, 170.9, 184.6, 159.2, 165.7, 171.0, 165.0, 159.0, 170.1, 163.0, 171.5, 173.8, 171.0, 170.2, 177.0, 173.9, 180.1, 158.3, 163.0, 181.5, 158.5, 175.0, 171.8, 184.4, 175.1, 169.5, 146.0, 170.0, 159.8, 183.4, 170.9, 185.4, 176.9, 149.5, 175.2, 172.5, 170.5, 164.6, 176.2, 169.3, 181.5, 175.0, 166.9, 165.5, 164.5, 166.5, 184.0, 162.6, 180.0, 183.5, 169.8, 172.8, 189.0, 159.2, 157.4, 154.4, 156.5, 139.0, 139.0, 162.3, 156.8, 145.0, 148.4, 148.2, 146.6, 148.9, 157.7, 157.2, 164.4, 141.3, 152.4, 137.5, 149.3, 153.2, 143.9, 144.5, 158.4, 166.8, 147.6, 154.2, 161.4, 175.9, 157.2, 166.4, 158.5, 173.4, 164.8, 165.8, 163.1, 186.0, 182.8, 159.0, 156.9, 157.4, 158.9, 173.0, 168.2, 174.4, 161.1, 162.0, 171.0, 162.2, 162.3, 170.0, 160.8, 176.3, 165.8, 180.7, 167.5, 178.0, 157.2, 174.7, 177.0, 172.1, 173.4, 165.3, 174.4, 167.8, 182.3, 157.5, 169.0, 169.4, 151.5, 173.0, 177.4, 166.0, 168.0, 171.5, 172.3, 166.5, 157.0, 168.9, 167.8, 154.7, 154.2, 146.5, 170.0, 167.0, 177.5, 170.0, 157.0, 173.5, 157.5, 167.5, 158.0, 187.1, 180.5, 158.5, 162.0, 184.5, 167.8, 171.5, 163.6, 150.1, 177.7, 169.2, 175.9, 169.8, 157.7, 164.2, 152.3, 155.8, 156.0, 154.6, 149.0, 157.5, 159.0, 168.1, 164.3, 179.0, 160.8, 160.0, 175.0, 164.0, 161.8, 162.0, 160.6, 167.5, 171.0, 173.4, 166.0, 164.0, 158.5, 157.5, 172.0, 162.5, 163.9, 175.6, 155.3, 172.4, 160.5, 169.0, 163.0, 151.0, 166.0, 183.6, 148.9, 178.0, 167.8, 178.0, 172.8, 156.9, 175.8, 159.1, 166.5, 160.3, 153.9, 164.0, 168.0, 153.4, 188.5, 158.1, 184.0, 179.5, 158.9, 169.0, 178.8, 174.9, 185.3, 182.0, 174.9, 167.5, 163.4, 184.4, 166.8, 157.4, 170.1, 158.4, 181.1, 152.8, 165.5, 171.2, 163.1, 155.8, 131.4, 165.5, 173.5, 160.0, 160.9, 180.9, 175.5, 160.4, 145.0, 155.5, 138.0, 136.3, 140.1, 150.5, 150.8, 144.0, 140.4, 155.9, 144.9, 154.9, 149.6, 158.5, 146.2, 145.0, 154.5, 156.8, 156.4, 155.1, 138.6, 145.4, 151.2, 177.0, 150.0, 158.9, 148.4, 153.5, 145.1, 159.3, 147.2, 152.5, 152.9, 144.4, 149.2, 148.9, 149.8, 153.1, 149.1, 159.3, 167.5, 160.0, 160.5, 151.9, 164.5, 165.8, 160.0, 156.0, 171.9, 180.0, 156.0, 175.6, 172.3, 180.5, 163.0, 174.0, 172.4, 168.5, 175.0, 169.4, 170.0, 166.5, 164.0, 160.0, 164.2, 178.5, 174.0, 163.5, 163.5, 172.8, 176.2, 163.4, 165.8, 152.8, 167.7, 157.0, 177.2, 157.5, 164.0, 168.0, 156.8, 176.0, 165.0, 162.2, 150.2, 177.1, 172.5, 158.5, 169.3, 165.7, 165.0, 162.5, 161.0, 155.1, 161.0, 175.2, 173.1, 155.3, 174.1, 167.1, 187.0, 152.0, 156.4, 173.0, 174.0, 150.0, 178.0, 173.2, 158.0, 173.0, 176.0, 168.1, 173.2, 162.2, 167.2, 164.0, 184.5, 156.2, 161.8, 155.0, 170.0, 176.0, 162.0, 176.0, 163.0, 169.1, 173.4, 174.3, 184.5, 171.0, 178.3, 168.0, 160.2, 150.0, 147.4, 176.3, 158.3, 160.0, 178.0, 160.1, 161.1, 171.4, 168.4, 152.2, 181.0, 163.4, 170.0, 147.3, 150.1, 177.5, 163.5, 186.3, 147.0, 159.1, 173.8, 169.5, 156.2, 168.1, 151.0, 170.0, 173.3, 158.0, 177.2, 170.3, 160.5, 158.6, 149.5, 146.6, 152.8, 158.0, 161.1, 162.8, 144.7, 160.9, 156.0, 155.8, 175.1, 154.6, 162.0, 160.0, 163.3, 161.3, 156.6, 153.3, 170.7, 147.5, 179.2, 159.2, 165.0, 165.0, 163.2, 161.7, 165.6, 145.7, 175.0, 142.3, 153.7, 147.0, 151.9, 150.9, 154.1, 161.4, 152.8, 153.9, 146.7, 128.9, 148.8, 138.8, 148.6, 152.2, 149.0, 150.0, 150.8, 149.5, 149.4, 136.5, 144.0, 147.5, 145.0, 152.0, 167.7, 145.9, 145.4, 148.2, 152.5, 156.6, 149.4, 155.9, 158.7, 145.1, 163.7, 160.5, 169.5, 169.5, 163.0, 164.0, 146.7, 157.0, 166.1, 165.9, 156.5, 160.5, 156.5, 153.3, 167.2, 155.0, 164.5, 156.0, 155.6, 170.5, 173.1, 154.0, 168.4, 159.0, 162.3, 167.6, 175.0, 159.7, 150.0, 174.5, 169.5, 155.6, 152.2, 152.0, 161.0, 171.3, 167.8, 165.8, 149.8, 145.5, 157.7, 157.8, 158.0, 160.0, 165.5, 155.5, 165.7, 164.0, 155.7, 160.0, 159.2, 156.0, 150.0, 166.0, 160.0, 165.5, 150.0, 150.0, 179.5, 152.2, 173.5, 161.2, 156.6, 180.3, 172.0, 163.3, 173.0, 160.0, 174.0, 163.0, 161.4, 173.5, 168.6, 161.0, 168.0, 165.0, 162.0, 158.1, 174.8, 177.0, 175.6, 160.2, 149.7, 155.0, 167.0, 168.6, 177.2, 153.1, 178.2, 159.0, 152.0, 152.5, 137.0, 141.2, 144.2, 150.0, 147.0, 145.0, 155.8, 165.5, 144.8, 149.2, 149.0, 150.5, 158.5, 165.0, 150.5, 157.7, 150.5, 159.0, 151.0, 152.0, 149.7, 155.0, 148.2, 153.5, 155.5, 147.5, 162.2, 167.8, 167.6, 159.5, 164.0, 166.0, 178.0, 169.0, 164.0, 187.8, 170.8, 160.9, 174.0, 170.0, 155.0, 173.0, 153.9, 162.3, 151.3, 154.0, 182.0, 156.6, 154.6, 173.3, 165.8, 158.0, 165.5, 157.9, 178.2, 148.8, 156.0, 153.0, 157.0, 160.5, 152.5, 151.5, 165.2, 172.0, 174.0, 166.0, 158.0, 156.5, 177.0, 162.0, 151.5, 154.2, 173.5, 170.3, 173.5, 151.5, 161.0, 171.2, 148.2, 165.0, 156.2, 183.2, 153.5, 159.0, 157.9, 166.5, 141.0, 169.3, 144.3, 168.3, 159.2, 158.0, 162.7, 160.0, 151.0, 186.0, 147.4, 158.1, 150.7, 165.7, 159.8, 168.0, 161.5, 170.5, 160.0, 176.0, 166.0, 170.0, 180.8, 161.0, 176.5, 174.7, 167.0, 171.3, 170.5, 168.3, 172.0, 165.5, 161.0, 182.0, 161.0, 170.7, 160.0, 160.0, 175.0, 160.9, 170.5, 168.0, 156.0, 155.0, 170.5, 166.0, 159.9, 164.0, 157.0, 155.0, 173.3, 158.0, 169.0, 170.0, 170.0, 160.5, 165.4, 164.0, 167.5, 171.0, 175.0, 166.0, 154.5, 155.6, 152.5, 166.6, 162.0, 160.0, 162.0, 161.0, 183.0, 150.0, 162.0, 148.0, 178.7, 160.0, 169.0, 153.0, 157.0, 155.0, 164.0, 162.0, 167.0, 169.0, 163.0, 158.0, 153.0, 165.0, 164.0, 176.9, 164.4, 147.3, 158.0, 179.0, 180.9, 155.0, 155.0, 163.2, 175.0, 152.0, 168.0, 166.2, 161.0, 164.0, 158.0, 174.1, 154.0, 161.0, 156.5, 164.0, 179.0, 159.0, 176.0, 169.0, 177.0, 165.0, 171.0, 174.7, 155.2, 169.0, 174.0, 160.6, 153.0, 175.0, 151.0, 151.0, 158.9, 148.8, 151.8, 164.9, 160.0, 161.0, 157.0, 149.7, 150.6, 154.0, 158.3, 149.5, 155.4, 165.0, 151.6, 142.5, 153.0, 168.2, 156.0, 148.0, 156.1, 155.0, 154.2, 154.5, 185.0, 157.9, 160.0, 156.6, 152.5, 157.8, 182.0, 152.7, 148.8, 139.1, 144.6, 146.6, 144.8, 152.7, 139.2, 159.9, 153.1, 149.6, 157.1, 141.1, 153.4, 162.8, 164.2, 164.9, 153.9, 147.5, 150.4, 148.8, 156.7, 151.8, 149.1, 142.7, 144.6, 143.0, 162.5, 173.9, 184.5, 161.2, 150.1, 165.5, 177.3, 165.5, 163.1, 159.6, 178.0, 170.2, 173.7, 156.2, 160.5, 166.6, 164.1, 162.5, 164.5, 166.2, 155.0, 160.0, 174.9, 149.2, 162.9, 172.3, 171.3, 159.0, 164.9, 164.1, 171.9, 143.0, 146.5, 145.9, 160.0, 168.0, 148.5, 144.5, 139.5, 162.1, 143.5, 167.5, 142.5, 150.5, 147.5, 162.5, 156.9, 158.2, 164.0, 152.5, 164.5, 150.5, 163.9, 157.0, 158.0, 159.2, 162.0, 160.0, 163.1, 158.5, 151.0, 135.0, 149.5, 148.1, 164.4, 164.0, 168.5, 170.6, 163.5, 159.5, 152.5, 154.3, 168.0, 167.5, 165.0, 180.0, 187.5, 171.5, 155.1, 157.4, 167.5, 163.0, 167.9, 171.0, 162.0, 189.1, 177.3, 153.0, 167.0, 170.6, 153.9, 175.0, 176.0, 165.5, 160.0, 161.6, 169.0, 152.8, 172.5, 157.5, 165.0, 164.5, 163.5, 148.2, 164.8, 166.3, 148.6, 156.4, 164.8, 166.6, 161.0, 162.1, 148.5, 144.0, 150.1, 147.6, 151.2, 155.8, 157.4, 162.5, 147.3, 166.3, 153.0, 156.1, 155.0, 166.6, 158.4, 159.5, 174.3, 156.1, 146.5, 152.1, 154.5, 157.0, 155.3, 151.9, 167.5, 152.0, 156.6, 162.5, 150.0, 160.5, 152.0, 161.6, 155.8, 146.7, 168.3, 162.3, 153.8, 152.2, 176.0, 160.0, 158.5, 158.6, 163.0, 167.2, 161.5, 158.5, 165.5, 163.8, 174.0, 158.9, 162.7, 147.3, 172.4, 173.7, 172.5, 159.2, 156.2, 166.9, 161.4, 146.2, 166.6, 173.0, 165.4, 180.5, 167.5, 164.7, 165.9, 164.1, 167.3, 167.3, 165.8, 153.2, 159.5, 161.5, 159.3, 157.5, 172.2, 150.5, 169.8, 163.5, 174.5, 157.5, 155.8, 160.1, 156.7, 153.5, 151.3, 162.5, 160.0, 156.8, 160.5, 154.2, 167.7, 160.9, 156.8, 155.3, 172.6, 175.0, 155.4, 153.1, 165.9, 154.9, 174.5, 173.1, 151.5, 154.4, 153.4, 147.8, 148.1, 161.3, 147.6, 149.3, 155.9, 164.3, 148.9, 152.3, 139.3, 161.1, 145.9, 152.3, 154.9, 172.0, 152.5, 154.0, 161.6, 148.7, 159.1, 150.8, 154.2, 141.5, 146.9, 154.3, 144.4, 149.5, 152.2, 158.4, 160.3, 158.9, 153.4, 175.9, 170.0, 158.9, 173.9, 156.6, 169.0, 154.4, 151.5, 157.7, 178.1, 145.8, 152.6, 179.2, 161.5, 152.5, 167.6, 139.7, 147.8, 162.0, 142.0, 165.4, 157.3, 160.5, 147.8, 156.4, 167.0, 166.1, 152.4, 165.0, 148.8, 159.4, 161.9, 147.4, 158.7, 155.5, 158.0, 160.9, 160.1, 156.6, 165.9, 154.7, 164.7, 163.3, 150.9, 162.6, 172.0, 164.2, 159.6, 162.0, 165.0, 169.7, 159.9, 154.0, 170.8, 154.5, 189.2, 162.6, 172.0, 160.0, 149.0, 171.3, 167.9, 168.2, 160.5, 163.5, 181.2, 168.7, 164.0, 170.9, 166.4, 168.3, 174.6, 165.3, 163.0, 180.7, 163.2, 164.8, 158.4, 178.0, 167.0, 169.0, 156.0, 171.0, 156.0, 163.0, 161.5, 174.5, 162.0, 167.0, 170.0, 157.0, 175.0, 162.0, 172.0, 167.0, 177.0, 168.0, 142.0, 153.0, 159.0, 153.0, 176.0, 175.0, 174.0, 173.5, 172.0, 178.0, 173.0, 172.0, 174.0, 152.0, 162.5, 167.0, 176.0, 174.1, 160.0, 156.0, 169.0, 169.0, 164.0, 177.0, 154.4, 165.5, 157.0, 164.0, 154.0, 176.0, 170.0, 161.0, 168.0, 171.0, 161.5, 143.5, 151.0, 161.6, 176.5, 140.9, 164.9, 160.0, 152.0, 155.0, 149.9, 150.0, 150.0, 148.0, 144.9, 170.5, 143.0, 157.0, 158.0, 170.0, 147.5, 168.0, 148.0, 159.1, 164.5, 154.0, 147.0, 167.0, 156.5, 157.6, 160.0, 177.7, 161.9, 166.0, 160.0, 170.9, 165.2, 154.0, 145.2, 170.0, 163.0, 157.2, 153.0, 162.0, 156.0, 130.7, 158.7, 141.5, 147.8, 147.7, 149.0, 146.8, 162.3, 145.2, 155.0, 153.5, 150.8, 149.0, 148.0, 152.7, 140.9, 147.3, 153.5, 139.0, 168.7, 150.7, 140.7, 146.0, 142.5, 160.0, 167.5, 153.1, 144.8, 150.0, 145.0, 149.0, 151.0, 158.2, 146.0, 153.5, 152.0, 145.0, 144.0, 158.7, 151.0, 157.5, 146.5, 151.0, 154.5, 151.2, 146.5, 154.5, 161.5, 149.0, 153.5, 133.0, 159.3, 151.0, 143.9, 157.4, 178.0, 169.5, 175.0, 150.0, 153.2, 161.0, 161.5, 188.0, 162.5, 172.0, 184.0, 174.0, 166.0, 167.0, 158.5, 145.0, 154.4, 137.4, 151.0, 152.7, 155.0, 147.3, 152.4, 150.0, 151.0, 140.6, 147.4, 158.9, 156.9, 160.0, 157.6, 147.0, 154.8, 145.5, 139.8, 162.8, 150.6, 147.0, 163.2, 156.5, 158.4, 170.0, 167.7, 164.0, 163.3, 162.9, 171.0, 171.4, 178.5, 173.8, 167.6, 161.0, 163.5, 158.4, 177.0, 180.0, 179.0, 152.0, 164.5, 181.0, 162.0, 157.0, 170.9, 178.7, 174.0, 171.5, 179.5, 182.5, 160.2, 160.0, 167.0, 169.0, 170.0, 154.5, 168.2, 179.0, 162.4, 160.0, 176.4, 166.0, 168.5, 155.5, 159.4, 149.7, 163.0, 172.1, 174.0, 175.8, 158.4, 173.7, 175.0, 176.3, 167.0, 169.3, 177.1, 178.6, 167.3, 161.9, 172.2, 169.3, 155.0, 162.0, 151.0, 168.5, 163.2, 178.1, 161.0, 168.0, 159.0, 155.5, 149.0, 140.6, 148.0, 149.8, 154.7, 158.1, 136.2, 141.9, 142.0, 156.2, 147.0, 158.0, 145.4, 148.4, 143.6, 136.3, 163.6, 140.1, 146.3, 153.4, 145.7, 153.0, 148.4, 155.5, 157.0, 145.6, 154.6, 157.6, 145.0, 162.0, 152.3, 142.0, 153.5, 172.5, 172.3, 147.8, 163.2, 162.6, 142.4, 150.1, 171.4, 168.5, 167.7, 156.1, 152.5, 159.9, 161.8, 154.2, 153.5, 150.2, 146.2, 151.5, 153.0, 165.0, 170.0, 162.0, 154.0, 144.4, 179.8, 151.8, 160.0, 166.8, 154.0, 155.0, 151.4, 169.0, 144.8, 163.1, 161.5, 141.0, 154.3, 155.0, 157.1, 148.6, 158.5, 152.5, 153.6, 151.0, 158.5, 149.5, 155.0, 163.5, 161.3, 157.2, 160.8, 168.2, 163.1, 170.2, 162.0, 161.0, 164.8, 170.0, 156.0, 161.2, 177.0, 162.0, 156.5, 167.5, 162.2, 159.0, 157.9, 158.4, 162.3, 155.7, 157.6, 149.5, 158.4, 162.2, 143.7, 144.4, 150.0, 159.3, 147.6, 143.5, 139.9, 149.5, 140.0, 146.6, 153.9, 157.5, 134.5, 150.6, 160.3, 156.3, 146.3, 160.1, 147.0, 154.2, 140.2, 152.3, 150.8, 144.3, 145.1, 143.3, 137.3, 135.0, 139.6, 145.0, 131.2, 161.5, 148.8, 152.4, 142.5, 144.8, 153.6, 137.5, 145.4, 141.6, 147.0, 147.0, 158.0, 150.7, 160.3, 158.0, 154.0, 156.5, 156.0, 158.1, 155.8, 167.9, 157.3, 168.4, 155.4, 158.7, 175.2, 162.2, 158.3, 166.0, 162.6, 150.4, 174.5, 161.6, 163.0, 171.0, 154.5, 158.9, 152.2, 177.5, 160.4, 153.6, 159.3, 168.4, 141.5, 138.0, 159.2, 153.0, 153.4, 138.6, 145.0, 145.8, 165.0, 135.7, 145.7, 146.5, 159.2, 164.6, 150.3, 157.2, 136.9, 152.5, 157.5, 168.0, 159.5, 147.6, 141.6, 151.1, 161.5, 151.0, 144.7, 150.3, 149.5, 170.0, 147.0, 153.6, 148.7, 172.9, 165.9, 161.0, 162.3, 160.8, 173.6, 152.9, 154.3, 159.2, 161.9, 161.5, 166.8, 173.3, 161.5, 152.0, 156.5, 158.0, 159.5, 148.0, 164.0, 153.0, 163.5, 170.5, 161.0, 170.0, 160.0, 167.5, 163.5, 167.5, 170.0, 160.7, 165.4, 163.5, 160.0, 156.0, 155.5, 156.1, 164.6, 164.9, 165.3, 165.4, 148.2, 151.0, 145.0, 146.8, 160.3, 161.0, 165.5, 191.5, 158.7, 173.3, 156.7, 167.2, 170.5, 164.7, 166.0, 160.1, 170.0, 158.2, 155.6, 164.1, 161.9, 160.6, 159.0, 161.0, 163.0, 154.0, 160.4, 163.3, 163.9, 162.6, 172.7, 158.0, 163.0, 162.2, 160.0, 154.5, 160.9, 175.1, 176.0, 168.0, 177.4, 176.1, 182.1, 167.3, 159.4, 171.2, 162.6, 167.3, 170.3, 179.6, 166.4, 158.0, 151.1, 164.3, 161.8, 167.7, 156.2, 170.3, 159.1, 157.1, 150.6, 156.2, 172.7, 173.5, 173.7, 171.9, 167.7, 154.4, 161.5, 175.8, 169.7, 162.2, 166.0, 152.0, 159.0, 169.0, 156.0, 168.0, 166.0, 172.2, 167.4, 170.1, 159.7, 157.7, 178.4, 164.5, 166.0, 151.0, 158.5, 184.5, 159.3, 168.2, 170.5, 175.7, 165.6, 174.4, 136.2, 175.6, 163.0, 157.0, 171.2, 162.5, 157.5, 166.1, 167.3, 169.8, 176.4, 171.6, 168.0, 173.6, 181.2, 149.6, 150.5, 155.5, 163.7, 166.2, 158.0, 149.0, 158.0, 154.5, 159.4, 163.3, 156.3, 180.8, 171.9, 169.5, 163.3, 134.5, 150.0, 162.5, 176.3, 168.5, 161.0, 151.5, 156.5, 145.9, 154.2, 152.6, 145.6, 161.2, 146.2, 148.9, 144.7, 154.1, 156.3, 155.6, 157.0, 158.7, 161.8, 160.2, 161.7, 164.8, 158.4, 144.5, 167.0, 164.7, 162.8, 141.1, 158.8, 162.1, 163.2, 157.7, 156.4, 147.9, 158.3, 156.1, 166.6, 183.5, 158.5, 178.8, 164.6, 164.7, 172.1, 168.6, 183.4, 152.9, 170.9, 159.8, 173.9, 165.8, 171.6, 174.9, 176.3, 159.4, 166.9, 164.4, 160.4, 163.7, 157.3, 156.9, 158.3, 153.3, 161.4, 152.0, 164.6, 177.0, 158.2, 169.0, 156.3, 156.2, 160.4, 156.0, 160.1, 168.6, 151.4, 167.0, 158.0, 176.1, 177.2, 177.6, 180.2, 165.5, 173.7, 173.7, 162.6, 172.0, 159.1, 163.6, 155.9, 166.4, 175.4, 192.4, 167.3, 159.5, 177.3, 177.6, 173.5, 172.9, 155.5, 173.6, 170.0, 187.8, 174.0, 167.6, 168.5, 165.0, 158.7, 169.5, 157.5, 166.6, 163.9, 160.1, 167.3, 168.0, 159.9, 162.2, 159.7, 152.9, 158.1, 151.3, 159.6, 168.1, 163.9, 161.5, 170.0, 152.8, 155.1, 152.1, 151.7, 155.1, 135.5, 137.4, 164.6, 143.3, 148.1, 140.5, 171.6, 159.2, 145.4, 136.6, 159.5, 168.0, 152.5, 152.6, 151.2, 151.9, 152.2, 155.4, 154.4, 155.0, 150.4, 159.3, 153.0, 166.5, 153.9, 164.6, 154.4, 167.9, 146.7, 161.0, 151.0, 159.0, 171.2, 162.0, 153.4, 165.5, 167.0, 164.5, 149.5, 163.0, 164.0, 150.4, 154.5, 155.5, 144.5, 155.6, 156.9, 150.2, 168.5, 155.0, 166.3, 170.0, 160.4, 158.6, 159.0, 172.5, 154.8, 173.7, 153.0, 178.0, 161.8, 158.5, 150.8, 149.2, 166.3, 163.8, 165.7, 164.0, 153.1, 156.5, 148.5, 156.5, 169.6, 178.0, 167.5, 169.0, 154.1, 158.5, 157.5, 173.4, 162.0, 167.0, 158.5, 158.5, 156.0, 168.5, 162.5, 168.5, 161.6, 160.0, 173.9, 166.8, 164.5, 163.0, 165.3, 166.1, 165.6, 162.0, 174.3, 165.4, 164.5, 158.9, 173.0, 176.0, 169.0, 171.4, 179.5, 173.2, 175.5, 169.4, 163.0, 173.5, 161.6, 160.1, 160.0, 161.0, 157.6, 159.0, 180.5, 158.5, 167.4, 172.2, 158.4, 165.4, 158.0, 176.7, 155.5, 153.9, 176.1, 168.5, 161.1, 167.3, 157.5, 168.9, 182.2, 150.3, 171.0, 168.2, 157.5, 179.5, 169.0, 173.4, 169.3, 164.5, 152.9, 157.0, 146.0, 145.5, 157.5, 154.1, 150.3, 156.0, 153.9, 146.0, 143.2, 150.5, 159.5, 143.0, 155.9, 162.3, 165.3, 143.4, 136.3, 142.0, 141.1, 148.5, 147.0, 152.0, 162.4, 158.0, 153.4, 164.5, 176.6, 148.3, 165.2, 159.0, 163.3, 169.5, 165.4, 170.4, 167.2, 166.1, 169.0, 160.9, 165.5, 157.0, 155.4, 165.0, 161.5, 189.0, 169.9, 171.0, 170.0, 172.0, 154.2, 164.7, 171.1, 159.2, 157.0, 179.0, 169.7, 166.1, 174.0, 168.5, 178.8, 164.5, 156.5, 176.3, 161.1, 174.0, 180.4, 160.0, 160.9, 170.0, 169.4, 173.0, 154.0, 158.0, 173.3, 156.0, 161.0, 156.0, 152.0, 169.0, 166.0, 147.0, 160.0, 161.0, 157.0, 175.0, 173.0, 155.0, 175.0, 161.0, 172.6, 158.0, 167.0, 160.0, 172.0, 172.0, 174.0, 154.0, 167.0, 160.0, 153.0, 160.0, 163.0, 155.0, 153.0, 172.0, 160.0, 168.0, 159.0, 160.0, 159.0, 149.0, 172.0, 156.0, 176.0, 157.0, 161.0, 169.0, 169.0, 162.0, 160.0, 163.0, 149.0, 168.0, 163.0, 171.0, 168.0, 157.0, 179.0, 143.0, 152.0, 171.0, 164.0, 165.0, 158.0, 180.0, 165.0, 185.0, 152.0, 145.7, 136.3, 149.5, 143.0, 132.5, 172.6, 155.9, 145.8, 152.6, 142.4, 145.9, 136.9, 141.0, 141.0, 144.4, 160.8, 138.0, 143.1, 148.5, 161.1, 171.2, 173.0, 159.0, 164.0, 168.2, 172.6, 158.9, 168.1, 183.1, 173.6, 183.9, 171.6, 171.6, 181.0, 188.0, 164.2, 154.4, 158.4, 180.1, 152.3, 156.6, 150.0, 156.7, 150.3, 168.8, 139.2, 156.1, 158.2, 153.9, 166.9, 146.4, 156.4, 168.6, 141.0, 157.4, 153.0, 151.1, 155.1, 145.6, 139.5, 138.1, 156.7, 149.4, 166.4, 162.1, 165.9, 175.1, 163.4, 172.1, 154.5, 168.5, 173.3, 172.3, 160.7, 174.5, 179.4, 184.7, 168.3, 158.1, 167.3, 179.6, 174.5, 169.3, 165.6, 160.6, 164.4, 174.4, 178.5, 156.1, 171.1, 163.3, 155.4, 185.3, 166.6, 155.6, 177.8, 156.9, 177.9, 177.8, 171.6, 172.1, 174.1, 180.9, 156.3, 172.7, 166.5, 160.6, 171.4, 188.1, 179.3, 169.5, 153.1, 162.4, 186.8, 170.4, 169.3, 168.4, 171.6, 168.7, 188.9, 164.6, 179.6, 163.2, 170.7, 171.5, 166.0, 158.4, 177.1, 168.7, 181.3, 173.5, 158.1, 160.7, 164.8, 184.4, 160.0, 176.8, 169.2, 172.7, 172.5, 164.9, 160.0, 175.5, 155.4, 158.7, 155.8, 174.2, 169.8, 174.7, 166.5, 156.1, 176.0, 162.7, 166.9, 160.1, 183.6, 173.6, 171.3, 175.9, 172.9, 178.3, 186.9, 152.4, 170.6, 154.7, 178.2, 179.8, 149.0, 143.0, 141.0, 153.0, 160.4, 155.1, 143.4, 166.6, 149.5, 146.3, 144.6, 142.4, 151.5, 152.9, 147.0, 157.7, 153.6, 139.4, 162.9, 146.5, 151.1, 152.8, 138.2, 157.0, 151.1, 161.5, 156.0, 169.0, 168.6, 154.6, 169.0, 162.3, 158.5, 174.9, 189.8, 173.2, 159.4, 181.6, 159.0, 169.0, 160.6, 169.5, 154.0, 161.9, 169.3, 155.6, 166.0, 155.5, 160.8, 154.6, 177.3, 182.0, 160.5, 156.0, 161.1, 172.5, 162.0, 164.0, 181.5, 151.0, 176.1, 156.5, 156.6, 181.5, 171.5, 164.1, 147.0, 157.2, 152.6, 147.5, 147.0, 162.4, 149.2, 142.6, 157.2, 157.4, 158.1, 159.5, 155.6, 153.0, 165.0, 159.0, 169.0, 160.5, 162.3, 168.8, 159.2, 175.8, 176.1, 169.5, 163.9, 162.8, 167.7, 161.7, 159.8, 168.9, 180.9, 165.7, 158.5, 173.5, 167.4, 160.9, 175.9, 148.3, 140.5, 160.9, 147.0, 145.8, 144.4, 150.9, 149.5, 152.5, 140.1, 142.0, 170.6, 137.4, 150.0, 149.5, 152.0, 155.8, 148.8, 143.6, 156.8, 144.6, 140.0, 147.5, 142.5, 157.9, 155.4, 137.0, 141.4, 150.6, 144.2, 155.8, 145.6, 163.4, 158.0, 149.0, 149.0, 151.8, 164.6, 140.5, 139.0, 143.0, 132.0, 148.0, 153.6, 146.0, 138.0, 151.0, 148.0, 157.5, 144.0, 145.0, 145.5, 143.0, 155.0, 163.0, 156.5, 154.0, 163.5, 147.8, 144.5, 157.0, 168.6, 160.2, 152.8, 152.0, 158.3, 161.0, 171.5, 156.0, 155.0, 138.5, 138.4, 160.5, 153.2, 153.0, 144.0, 145.0, 152.2, 171.3, 169.5, 160.4, 163.2, 171.3, 149.9, 167.9, 148.6, 168.6, 154.3, 160.9, 155.7, 147.4, 162.3, 148.5, 153.4, 180.3, 159.5, 146.5, 152.9, 162.0, 156.6, 153.0, 156.6, 156.6, 148.5, 177.8, 173.6, 157.2, 179.8, 173.0, 178.4, 173.9, 158.3, 176.7, 157.5, 162.1, 170.7, 167.2, 153.5, 168.6, 166.7, 167.2, 168.4, 169.5, 175.6, 173.2, 172.8, 167.2, 178.0, 165.0, 180.0, 155.0, 159.0, 162.4, 168.5, 166.6, 168.9, 166.8, 161.0, 166.0, 165.0, 156.6, 174.0, 166.8, 175.0, 166.3, 179.6, 161.4, 161.2, 167.3, 172.0, 163.1, 161.0, 177.4, 163.4, 162.8, 172.6, 173.0, 137.0, 145.9, 141.4, 142.1, 130.4, 147.4, 144.8, 154.0, 143.5, 161.3, 150.8, 150.2, 146.0, 155.7, 153.0, 158.7, 146.2, 165.9, 151.0, 150.0, 145.8, 136.6, 147.8, 162.5, 159.8, 170.4, 162.4, 149.0, 162.3, 158.5, 162.2, 170.1, 159.9, 153.1, 169.9, 160.0, 174.1, 166.9, 152.1, 174.0, 161.0, 173.2, 155.1, 180.4, 155.5, 165.0, 161.9, 177.9, 165.1, 165.3, 158.1, 159.0, 147.5, 159.3, 153.0, 147.5, 144.7, 141.8, 166.1, 153.5, 133.0, 157.5, 137.0, 145.0, 148.5, 149.8, 160.0, 139.0, 152.0, 147.0, 135.0, 147.0, 161.4, 141.5, 156.9, 148.0, 139.0, 170.0, 153.5, 143.3, 146.5, 172.3, 150.8, 149.5, 150.1, 149.7, 145.2, 152.0, 157.1, 142.2, 154.0, 145.7, 156.2, 162.5, 147.0, 130.5, 162.0, 126.0, 157.5, 151.4, 152.3, 139.0, 146.0, 147.5, 160.0, 151.9, 147.9, 134.5, 140.0, 147.5, 150.0, 162.5, 160.0, 179.8, 158.9, 168.2, 149.6, 166.4, 161.9, 158.9, 158.8, 156.0, 176.0, 152.5, 166.0, 170.5, 161.5, 170.3, 160.8, 147.6, 159.8, 172.2, 162.8, 155.0, 168.2, 156.8, 165.2, 160.0, 166.8, 167.0, 166.6, 167.8, 150.5, 162.5, 164.4, 160.0, 184.8, 178.6, 172.3, 175.5, 162.8, 173.9, 152.6, 166.2, 151.0, 161.8, 157.9, 168.4, 157.5, 159.5, 159.4, 158.4, 163.0, 156.8, 154.3, 167.8, 169.7, 176.7, 159.8, 160.1, 174.9, 160.3, 164.5, 154.0, 159.0, 174.7, 153.1, 145.6, 169.7, 172.0, 150.0, 150.3, 148.4, 156.8, 132.8, 136.6, 148.1, 156.9, 143.4, 139.1, 148.1, 159.5, 152.4, 137.1, 136.5, 151.7, 144.1, 136.7, 144.0, 141.6, 151.5, 161.4, 138.6, 157.7, 152.2, 147.0, 159.1, 154.6, 152.0, 154.8, 159.8, 142.4, 163.7, 148.3, 158.4, 161.2, 164.9, 151.5, 150.4, 162.7, 143.8, 154.0, 154.4, 150.1, 140.3, 152.4, 154.5, 170.4, 147.3, 141.8, 173.6, 141.9, 157.7, 147.0, 158.4, 165.5, 147.0, 147.9, 150.5, 156.5, 162.0, 164.0, 162.5, 154.9, 149.6, 142.6, 143.0, 159.2, 135.8, 147.2, 176.5, 152.6, 172.0, 155.4, 161.7, 159.0, 155.2, 145.3, 146.0, 154.7, 152.3, 154.4, 152.4, 152.0, 159.1, 162.4, 168.9, 147.0, 150.0, 147.2, 153.2, 153.2, 139.5, 145.9, 156.0, 157.0, 150.4, 163.5, 159.4, 146.9, 152.6, 156.0, 162.1, 166.5, 154.9, 155.5, 145.8, 154.4, 159.5, 157.9, 145.0, 160.1, 154.8, 147.4, 159.0, 173.0, 155.0, 159.8, 137.2, 157.1, 156.3, 177.8, 161.5, 156.5, 157.2, 163.5, 170.4, 168.0, 157.1, 166.8, 155.0, 174.9, 158.9, 169.1, 183.0, 165.5, 185.6, 175.2, 158.8, 155.9, 169.9, 166.1, 172.7, 165.8, 168.1, 165.5, 155.5, 153.7, 169.1, 158.5, 168.4, 154.8, 164.8, 160.3, 177.6, 156.6, 157.5, 160.0, 166.6, 165.9, 168.7, 153.8, 154.1, 166.8, 158.3, 165.8, 158.9, 157.4, 164.2, 178.4, 153.5, 176.1, 163.3, 153.6, 164.5, 158.2, 171.5, 162.1, 180.1, 173.7, 171.4, 155.5, 161.3, 164.4, 154.6, 153.1, 165.9, 162.6, 175.1, 167.4, 164.4, 168.1, 165.4, 147.0, 154.0, 161.0, 153.0, 158.0, 151.0, 148.0, 157.0, 155.0, 144.0, 156.0, 145.0, 153.0, 172.0, 146.0, 151.0, 162.0, 161.0, 151.0, 156.0, 150.0, 150.0, 152.0, 141.0, 135.0, 171.0, 157.7, 153.0, 153.0, 166.0, 185.0, 152.0, 169.0, 173.0, 155.0, 163.0, 167.0, 171.0, 163.0, 159.0, 166.0, 155.9, 175.0, 172.0, 155.0, 164.0, 171.0, 171.0, 159.4, 163.0, 143.5, 154.7, 164.8, 162.8, 143.9, 154.1, 160.8, 175.0, 165.9, 180.4, 168.0, 154.2, 153.9, 156.0, 157.8, 163.7, 155.4, 159.0, 154.4, 162.9, 162.4, 170.9, 166.0, 173.4, 159.0, 161.0, 158.8, 160.0, 170.6, 172.5, 170.9, 158.9, 166.9, 157.3, 158.7, 170.0, 164.8, 159.4, 165.0, 157.2, 172.8, 177.1, 173.7, 163.1, 170.4, 163.4, 165.2, 155.0, 156.1, 168.9, 165.1, 163.4, 163.9, 157.9, 161.9, 174.9, 166.9, 164.1, 167.4, 165.5, 184.4, 155.9, 160.9, 177.7, 171.9, 148.3, 156.4, 158.4, 160.1, 158.8, 163.7, 165.2, 162.9, 174.4, 157.0, 157.3, 168.1, 166.9, 179.7, 163.4, 172.6, 166.8, 163.2, 151.5, 175.5, 167.2, 159.0, 168.0, 167.9, 165.4, 176.8, 160.0, 167.6, 158.7, 155.0, 165.5, 172.0, 174.8, 165.3, 173.3, 166.4, 169.8, 168.0, 159.0, 188.8, 159.4, 155.1, 176.5, 173.3, 169.5, 173.8, 158.6, 188.5, 175.7, 165.0, 167.3, 166.5, 146.5, 159.9, 152.2, 152.3, 155.0, 153.4, 165.3, 180.5, 150.0, 146.0, 157.9, 160.5, 160.5, 161.2, 141.5, 158.5, 158.0, 173.5, 156.8, 164.0, 168.5, 154.6, 165.9, 174.0, 177.5, 160.4, 165.9, 161.4, 170.8, 182.2, 158.0, 149.3, 168.5, 172.4, 156.4, 155.9, 159.4, 166.0, 162.9, 169.0, 154.5, 170.4, 167.5, 154.0, 159.5, 169.0, 168.0, 155.0, 168.8, 178.4, 150.0, 150.6, 162.0, 160.5, 168.4, 168.5, 148.5, 174.9, 164.5, 157.5, 172.0, 153.2, 168.8, 164.1, 167.0, 175.0, 181.0, 170.4, 167.0, 176.0, 175.6, 190.0, 179.0, 159.9, 165.2, 179.0, 173.0, 170.5, 146.4, 160.5, 161.7, 179.4, 178.9, 145.4, 164.7, 171.6, 163.4, 163.0, 155.5, 152.8, 169.5, 166.0, 159.0, 178.3, 165.2, 174.0, 172.2, 153.5, 187.2, 162.9, 162.3, 163.8, 144.5, 156.2, 176.3, 169.5, 162.0, 158.5, 151.4, 144.4, 154.0, 138.0, 150.0, 151.0, 142.0, 133.5, 164.6, 153.2, 134.0, 151.7, 154.0, 140.0, 152.5, 153.6, 131.2, 141.0, 154.1, 164.0, 152.6, 142.9, 152.0, 158.1, 151.5, 140.8, 142.5, 167.2, 174.0, 173.0, 154.0, 161.9, 168.8, 161.5, 152.9, 163.5, 163.0, 163.5, 175.2, 170.0, 158.9, 164.9, 181.2, 162.0, 176.0, 184.4, 162.2, 168.5, 151.1, 177.5, 154.0, 173.9, 170.0, 174.4, 175.5, 176.9, 180.5, 172.6, 156.0, 156.5, 181.9, 170.3, 152.5, 177.4, 191.9, 153.3, 170.7, 168.9, 153.0, 166.5, 166.1, 176.3, 163.0, 159.4, 181.2, 175.7, 186.3, 182.6, 168.7, 158.9, 178.2, 168.9, 179.4, 174.6, 169.1, 159.3, 170.4, 167.0, 173.8, 171.0, 155.2, 156.2, 163.2, 171.3, 161.4, 182.5, 178.4, 162.0, 163.9, 160.9, 136.3, 162.8, 159.8, 157.0, 154.6, 147.0, 159.0, 154.5, 159.5, 155.7, 158.2, 178.6, 163.7, 163.8, 168.0, 175.4, 160.4, 156.0, 156.2, 157.5, 163.7, 154.2, 156.7, 152.8, 150.8, 146.0, 158.0, 158.6, 146.3, 153.0, 153.0, 140.4, 158.6, 170.2, 147.4, 161.5, 163.1, 156.4, 156.5, 142.1, 157.0, 146.1, 139.6, 138.7, 142.3, 141.4, 141.4, 134.7, 149.8, 148.5, 142.4, 151.4, 149.9, 135.8, 144.5, 142.1, 138.7, 159.9, 165.1, 147.7, 149.0, 158.2, 176.9, 143.3, 158.6, 160.3, 163.2, 157.5, 156.6, 160.1, 164.7, 153.1, 150.6, 156.5, 158.7, 148.1, 156.2, 168.5, 155.2, 161.1, 156.7, 154.7, 156.6, 160.7, 154.2, 162.2, 148.0, 147.4, 153.3, 144.8, 148.4, 159.0, 145.1, 144.5, 152.1, 146.7, 148.0, 147.0, 157.8, 137.5, 144.8, 149.8, 158.3, 153.4, 153.0, 145.7, 176.5, 151.9, 141.1, 159.0, 150.7, 164.1, 155.2, 173.3, 177.0, 174.6, 183.9, 174.0, 156.5, 160.0, 161.5, 174.1, 153.9, 162.2, 180.4, 177.7, 167.5, 178.8, 157.5, 163.6, 156.9, 176.8, 172.5, 154.6, 170.9, 162.7, 164.3, 159.9, 158.5, 164.4, 165.5, 163.0, 159.6, 151.5, 164.2, 169.2, 152.0, 165.5, 160.2, 172.6, 173.5, 168.8, 176.8, 154.5, 163.9, 164.2, 171.2, 156.2, 169.6, 171.5, 166.5, 159.5, 166.5, 151.7, 163.0, 148.0, 162.9, 163.5, 149.5, 164.2, 175.8, 175.2, 153.0, 166.5, 164.4, 151.1, 163.1, 161.5, 165.0, 158.4, 153.7, 171.1, 171.0, 155.2, 146.6, 149.1, 158.9, 165.2, 162.4, 159.9, 150.9, 172.4, 186.5, 156.0, 163.0, 168.4, 171.5, 169.0, 165.5, 153.9, 170.4, 173.0, 160.0, 184.1, 176.6, 154.1, 160.5, 156.1, 157.3, 151.5, 165.8, 173.5, 164.2, 151.9, 160.2, 154.9, 168.8, 169.6, 172.8, 163.0, 179.2, 155.9, 155.0, 158.4, 154.4, 152.1, 154.2, 158.9, 160.8, 174.1, 158.5, 154.9, 152.0, 168.6, 152.0, 168.9, 152.5, 165.7, 160.5, 163.5, 176.8, 168.5, 165.3, 158.8, 165.3, 164.2, 180.5, 162.1, 155.6, 160.0, 162.0, 168.8, 151.1, 162.5, 153.5, 165.9, 168.8, 146.8, 152.0, 163.8, 153.3, 147.8, 152.0, 144.3, 146.2, 153.2, 152.9, 144.0, 161.0, 144.2, 148.0, 153.1, 153.0, 141.0, 150.3, 146.6, 144.8, 151.5, 142.0, 153.8, 144.0, 155.6, 144.4, 157.0, 143.0, 137.3, 154.0, 150.2, 161.0, 168.9, 162.0, 162.0, 161.0, 167.0, 146.7, 151.0, 168.0, 162.2, 163.0, 157.6, 166.7, 154.0, 158.7, 158.6, 162.8, 148.0, 166.8, 161.4, 173.0, 153.0, 156.3, 167.0, 153.6, 172.9, 161.4, 162.8, 178.7, 164.4, 171.3, 175.4, 177.9, 158.0, 163.9, 177.9, 179.9, 173.8, 164.9, 157.7, 178.3, 157.7, 168.2, 171.7, 158.4, 150.2, 156.5, 150.8, 152.6, 166.3, 189.3, 169.9, 165.0, 163.2, 171.0, 168.5, 165.9, 180.0, 154.7, 177.5, 161.0, 171.9, 182.8, 159.4, 180.3, 164.1, 161.9, 165.8, 165.4, 169.4, 166.0, 154.8, 148.3, 169.7, 167.0, 174.5, 165.0, 172.0, 176.8, 174.5, 178.7, 162.3, 165.2, 165.5, 175.4, 169.0, 160.1, 170.3, 180.2, 165.5, 169.5, 169.9, 174.5, 165.6, 160.2, 160.1, 166.6, 171.3, 165.0, 169.1, 152.8, 172.4, 160.0, 163.5, 164.2, 166.0, 172.0, 159.0, 177.5, 179.0, 174.6, 180.2, 174.0, 158.8, 174.0, 176.0, 169.8, 150.5, 173.0, 161.0, 170.4, 169.4, 173.5, 173.0, 173.0, 166.5, 155.0, 171.9, 167.3, 170.0, 165.8, 186.0, 172.4, 178.6, 167.0, 163.0, 185.0, 160.1, 176.2, 177.0, 178.8, 167.9, 159.0, 182.4, 173.5, 160.1, 163.5, 177.5, 177.4, 173.0, 157.9, 163.8, 173.5, 172.0, 176.5, 151.9, 172.0, 155.0, 170.0, 157.5, 175.7, 169.5, 170.0, 160.4, 158.0, 159.0, 155.0, 159.9, 169.5, 163.5, 167.5, 171.0, 166.0, 167.0, 151.9, 164.3, 156.6, 169.7, 157.2, 152.3, 175.0, 147.0, 155.0, 166.5, 170.0, 168.5, 153.3, 168.5, 159.0, 181.4, 155.5, 170.6, 186.5, 179.0, 183.0, 179.5, 154.0, 167.3, 176.0, 170.4, 174.3, 165.0, 153.2, 169.0, 159.7, 173.7, 154.0, 166.6, 180.6, 178.4, 172.5, 172.2, 154.9, 169.4, 168.2, 168.2, 178.5, 158.0, 170.4, 181.0, 179.3, 171.0, 170.4, 172.1, 155.2, 176.5, 171.2, 184.1, 161.6, 178.0, 180.0, 167.2, 170.3, 173.6, 158.4, 161.6, 160.8, 149.2, 164.4, 182.3, 178.3, 165.4, 157.0, 168.6, 170.8, 159.5, 184.4, 174.2, 169.0, 166.4, 164.1, 169.8, 169.6, 164.4, 164.1, 160.9, 153.2, 164.5, 157.8, 162.9, 171.5, 174.0, 178.9, 160.1, 167.5, 171.2, 158.0, 156.5, 160.2, 158.5, 190.4, 182.2, 156.3, 169.4, 157.5, 172.6, 156.0, 167.8, 171.8, 171.9, 174.0, 195.3, 174.6, 165.0, 157.0, 176.8, 172.3, 157.0, 147.4, 142.5, 158.0, 151.0, 159.5, 137.0, 142.0, 153.2, 150.5, 163.0, 147.0, 155.0, 162.5, 160.0, 154.8, 153.0, 158.2, 152.5, 151.9, 151.7, 150.1, 150.1, 177.6, 172.2, 168.6, 167.0, 159.2, 152.1, 151.0, 160.0, 160.3, 158.1, 154.3, 156.5, 159.8, 177.6, 170.5, 156.5, 156.2, 165.0, 163.1, 167.5, 157.6, 168.0, 160.7, 176.9, 174.5, 166.2, 169.1, 163.4, 164.8, 169.0, 168.0, 169.9, 175.0, 168.6, 169.0, 157.5, 160.1, 175.5, 171.3, 172.9, 165.0, 167.0, 151.0, 177.5, 160.0, 161.0, 169.3, 177.0, 160.5, 150.0, 167.2, 162.0, 154.5, 161.0, 173.4, 159.2, 172.0, 154.5, 168.5, 161.8, 168.5, 160.8, 166.6, 163.5, 178.1, 164.0, 172.1, 164.5, 173.5, 172.5, 153.5, 143.5, 149.0, 164.5, 155.8, 150.4, 146.9, 158.9, 151.2, 140.1, 154.3, 149.5, 160.5, 158.7, 157.0, 149.2, 147.2, 142.0, 146.6, 161.8, 157.8, 153.4, 164.0, 167.5, 146.5, 163.7, 154.7, 156.5, 159.0, 138.2, 163.5, 155.0, 145.4, 163.9, 167.2, 160.6, 141.2, 161.0, 165.4, 151.1, 157.3, 154.5, 149.1, 167.4, 163.5, 158.2, 149.6, 147.3, 156.4, 159.1, 163.6, 163.4, 150.0, 157.0, 148.5, 156.5, 152.8, 158.9, 153.8, 153.0, 173.0, 170.2, 172.5, 163.9, 162.0, 157.0, 164.0, 155.4, 157.0, 153.3, 154.3, 167.6, 176.1, 162.0, 163.0, 161.3, 172.1, 165.2, 161.3, 159.8, 176.4, 169.0, 160.2, 157.9, 177.5, 160.5, 177.7, 164.8, 166.6, 167.6, 171.2, 165.3, 163.5, 156.4, 159.7, 160.8, 155.8, 158.5, 159.8, 160.5, 164.4, 171.5, 164.0, 179.0, 169.9, 175.5, 174.4, 171.6, 169.0, 166.3, 171.2, 176.9, 167.0, 141.5, 148.7, 147.8, 149.5, 144.0, 162.4, 143.0, 156.8, 137.1, 142.7, 143.9, 164.0, 158.1, 149.6, 154.3, 141.5, 148.0, 156.8, 147.0, 146.0, 140.0, 152.5, 155.5, 162.7, 144.3, 152.7, 168.0, 182.6, 165.3, 178.6, 152.5, 164.0, 164.6, 171.8, 182.3, 177.5, 154.0, 169.1, 168.8, 173.1, 160.8, 170.3, 179.9, 147.5, 160.4, 150.1, 149.9, 175.6, 148.4, 171.0, 157.5, 152.1, 150.8, 155.6, 150.1, 153.3, 141.4, 135.2, 156.7, 139.6, 148.3, 154.6, 152.7, 157.2, 157.8, 149.9, 144.5, 150.9, 162.8, 145.4, 159.8, 168.3, 173.4, 160.4, 157.5, 181.1, 170.4, 159.4, 182.8, 167.2, 171.5, 173.5, 176.6, 161.1, 176.9, 174.0, 156.3, 154.8, 156.4, 165.3, 170.2, 171.4, 169.0, 176.8, 174.2, 173.6, 165.3, 154.7, 163.6, 158.3, 166.0, 160.0, 169.8, 146.9, 165.9, 170.7, 169.1, 147.8, 141.7, 151.5, 166.1, 168.0, 160.7, 148.9, 144.0, 144.6, 160.8, 146.8, 153.0, 151.0, 156.5, 147.9, 144.2, 146.5, 141.6, 159.5, 146.8, 150.0, 139.9, 162.4, 163.4, 162.4, 151.2, 165.9, 151.9, 155.9, 151.9, 156.6, 158.6, 155.9, 161.9, 151.1, 166.9, 154.4, 155.9, 160.5, 153.5, 157.5, 153.1, 175.4, 158.1, 148.4, 145.9, 144.0, 155.6, 164.2, 141.8, 139.7, 149.2, 152.4, 160.7, 160.7, 159.4, 165.9, 160.0, 164.5, 153.6, 152.8, 147.9, 155.7, 136.2, 155.4, 172.9, 151.4, 152.1, 161.0, 154.9, 163.3, 157.2, 153.6, 148.5, 148.4, 164.5, 158.9, 172.4, 157.9, 166.0, 156.3, 147.9, 177.4, 164.3, 144.7, 173.5, 161.3, 160.0, 149.6, 155.5, 167.9, 159.5, 167.9, 178.0, 170.0, 164.0, 151.3, 165.5, 178.0, 177.6, 167.5, 166.0, 168.1, 189.9, 184.0, 165.1, 162.8, 166.4, 174.0, 161.5, 166.4, 184.6, 163.4, 156.1, 170.0, 156.0, 169.8, 169.8, 160.0, 158.6, 173.8, 153.4, 174.3, 161.2, 167.3, 147.9, 151.6, 160.1, 160.9, 147.4, 160.0, 152.4, 156.1, 154.1, 175.7, 165.6, 154.2, 160.8, 168.5, 149.9, 169.5, 150.9, 151.8, 151.6, 158.6, 158.6, 156.7, 153.8, 170.8, 174.4, 164.7, 154.9, 159.4, 153.5, 159.2, 161.6, 151.2, 168.3, 168.3, 165.9, 171.9, 169.0, 172.5, 148.2, 181.4, 155.3, 173.3, 164.9, 174.5, 177.0, 156.6, 160.7, 175.3, 162.5, 177.4, 173.1, 164.5, 168.4, 167.5, 156.0, 181.5, 146.6, 153.5, 145.4, 161.1, 152.5, 150.5, 156.4, 171.8, 169.7, 132.2, 142.3, 164.2, 159.5, 157.5, 150.1, 161.5, 153.0, 155.7, 144.1, 142.0, 162.0, 154.8, 155.4, 148.9, 152.5, 164.4, 154.6, 169.1, 152.1, 161.8, 145.2, 150.5, 163.7, 170.3, 173.8, 168.1, 163.3, 157.8, 147.5, 146.6, 140.3, 139.5, 138.3, 154.8, 155.0, 156.9, 154.5, 147.4, 157.3, 140.5, 152.6, 157.0, 155.0, 140.6, 161.4, 161.3, 153.3, 143.5, 162.3, 159.4, 167.3, 162.5, 159.2, 178.7, 179.8, 185.7, 155.5, 166.9, 176.5, 165.9, 158.6, 182.5, 176.6, 158.2, 163.9, 153.5, 182.4, 165.4, 172.3, 167.5, 156.4, 162.8, 155.8, 153.0, 165.7, 169.1, 164.5, 159.7, 152.2, 161.3, 164.7, 173.6, 158.5, 167.0, 172.0, 165.8, 158.5, 180.2, 168.4, 167.3, 177.2, 154.4, 161.6, 155.1, 166.3, 160.3, 161.6, 161.7, 165.2, 181.6, 171.5, 166.6, 158.4, 185.1, 180.2, 155.6, 179.0, 180.5, 183.0, 168.0, 158.0, 152.8, 153.7, 169.5, 150.2, 156.3, 172.8, 163.5, 150.6, 158.1, 153.7, 157.2, 150.0, 147.4, 162.5, 144.1, 135.0, 139.6, 159.3, 138.5, 147.2, 147.6, 161.9, 157.3, 165.7, 151.8, 152.6, 155.0, 150.9, 164.6, 149.3, 148.2, 152.3, 162.1, 155.7, 163.9, 148.9, 151.6, 152.0, 151.1, 164.2, 157.2, 150.4, 166.8, 154.4, 139.5, 149.8, 157.6, 158.9, 158.0, 147.2, 148.8, 151.4, 147.2, 175.2, 162.1, 175.2, 154.4, 170.5, 164.2, 179.3, 154.8, 152.6, 161.3, 161.9, 161.5, 165.8, 162.9, 160.6, 165.3, 159.9, 170.5, 170.3, 166.4, 169.5, 151.5, 164.3, 167.1, 158.0, 160.3, 155.9, 159.5, 174.4, 161.2, 154.9, 180.6, 167.5, 153.4, 158.1, 165.5, 157.1, 165.5, 164.0, 154.5, 173.9, 170.1, 169.9, 147.5, 168.0, 164.5, 162.5, 161.7, 170.8, 164.3, 174.1, 168.4, 154.1, 173.4, 173.9, 168.7, 165.5, 171.8, 174.6, 171.0, 150.6, 156.6, 161.3, 146.4, 166.0, 158.5, 164.0, 169.7, 174.7, 169.0, 155.6, 171.9, 147.4, 167.6, 157.8, 160.0, 168.6, 163.2, 175.4, 170.1, 159.6, 168.1, 169.0, 165.5, 146.9, 159.0, 169.8, 162.4, 173.1, 154.5, 156.8, 156.6, 164.4, 162.3, 164.1, 158.3, 170.2, 153.0, 181.1, 165.6, 166.1, 160.6, 161.0, 166.0, 172.0, 161.7, 165.5, 159.5, 158.6, 164.9, 160.0, 172.5, 172.0, 157.5, 158.3, 162.2, 161.5, 172.0, 148.5, 160.3, 180.5, 158.5, 160.0, 178.0, 153.5, 162.0, 179.5, 180.5, 159.3, 162.1, 155.0, 161.3, 157.4, 160.7, 183.0, 158.5, 151.5, 173.5, 164.7, 149.5, 164.4, 150.3, 158.5, 176.5, 171.5, 169.5, 165.7, 159.0, 184.5, 164.5, 161.8, 168.9, 169.9, 169.5, 173.6, 173.0, 176.8, 164.3, 165.3, 148.9, 167.1, 165.0, 162.9, 171.6, 161.6, 185.6, 173.3, 165.8, 174.1, 172.8, 144.8, 149.8, 136.1, 164.7, 144.6, 139.8, 147.6, 157.9, 153.7, 168.6, 152.1, 145.1, 145.7, 145.9, 148.0, 153.7, 157.3, 164.7, 164.6, 151.3, 152.2, 170.6, 164.0, 175.0, 169.5, 160.0, 167.9, 169.9, 179.0, 159.9, 163.1, 155.0, 169.3, 173.0, 160.0, 175.7, 171.4, 166.5, 167.0, 174.4, 184.0, 173.5, 170.3, 155.5, 170.0, 175.3, 161.2, 160.5, 179.2, 165.1, 178.1, 168.3, 158.8, 180.8, 165.3, 181.9, 163.5, 159.1, 157.5, 176.9, 163.2, 160.9, 177.8, 172.4, 156.6, 158.0, 155.3, 187.0, 157.8, 161.1, 160.6, 148.5, 165.8, 174.5, 158.9, 179.9, 168.2, 156.1, 162.6, 156.9, 166.6, 156.5, 166.4, 159.6, 158.8, 184.5, 176.4, 167.3, 159.4, 167.2, 157.8, 177.5, 178.2, 164.6, 170.2, 177.6, 154.9, 151.6, 168.3, 159.5, 160.1, 155.0, 142.4, 150.6, 154.9, 153.7, 148.4, 155.5, 142.7, 151.1, 141.5, 156.0, 150.1, 155.0, 140.4, 166.8, 158.1, 159.4, 157.7, 166.0, 173.6, 179.1, 147.7, 180.0, 164.0, 149.5, 175.0, 164.9, 145.3, 164.0, 171.0, 152.4, 166.0, 165.0, 150.0, 163.5, 172.2, 162.0, 144.5, 150.5, 167.5, 152.0, 165.0, 154.5, 162.0, 158.0, 164.0, 158.3, 164.5, 174.5, 147.5, 147.6, 152.8, 158.9, 174.3, 157.0, 151.4, 161.4, 174.5, 145.6, 146.6, 149.9, 147.4, 157.1, 141.6, 157.7, 143.7, 142.5, 155.6, 154.5, 156.1, 161.6, 158.5, 147.0, 169.1, 154.4, 161.4, 162.5, 178.5, 161.0, 162.0, 148.5, 156.5, 139.7, 155.6, 155.8, 144.5, 159.4, 156.5, 146.5, 157.8, 157.5, 167.0, 165.2, 166.1, 160.1, 169.3, 153.5, 142.9, 155.0, 160.9, 142.0, 178.0, 167.7, 163.6, 169.0, 166.0, 156.3, 165.5, 152.0, 156.0, 173.8, 146.8, 162.0, 170.0, 160.0, 147.0, 146.8, 168.3, 158.1, 155.9, 172.2, 178.3, 155.0, 161.4, 155.7, 151.6, 152.5, 150.4, 157.8, 179.9, 156.2, 166.9, 182.4, 162.8, 184.7, 177.9, 168.8, 167.7, 168.4, 169.2, 161.5, 187.0, 159.0, 152.3, 155.7, 173.0, 157.9, 148.9, 179.1, 176.7, 162.1, 166.1, 152.5, 158.7, 175.3, 168.6, 175.5, 164.0, 175.9, 159.5, 158.6, 164.5, 164.5, 176.9, 157.0, 163.6, 163.8, 168.5, 161.9, 163.7, 170.0, 171.3, 182.3, 161.4, 162.7, 164.4, 169.5, 161.2, 183.4, 167.6, 179.0, 161.1, 169.0, 163.8, 160.7, 174.8, 158.1, 154.3, 158.9, 150.6, 168.7, 173.3, 150.8, 143.8, 166.9, 155.2, 154.2, 160.3, 166.9, 167.2, 150.8, 168.9, 158.1, 159.1, 161.9, 168.9, 154.6, 167.1, 156.8, 173.7, 171.9, 166.1, 170.9, 174.3, 154.8, 165.9, 170.9, 176.7, 160.1, 154.9, 161.3, 154.6, 164.1, 166.8, 179.9, 151.3, 159.6, 167.0, 152.9, 178.8, 176.3, 167.8, 156.6, 161.0, 171.5, 157.2, 167.1, 157.5, 161.4, 158.6, 164.9, 162.6, 153.4, 160.2, 176.8, 162.2, 160.3, 168.2, 161.0, 175.3, 170.9, 152.2, 170.8, 177.6, 153.4, 159.5, 167.5, 154.6, 174.4, 172.2, 158.8, 153.4, 169.9, 177.9, 168.6, 166.5, 153.0, 178.8, 168.6, 164.0, 173.8, 164.6, 157.9, 166.9, 164.4, 179.0, 167.2, 171.4, 161.9, 165.1, 175.9, 160.8, 165.8, 165.4, 137.7, 161.2, 170.1, 161.1, 151.4, 180.5, 164.9, 148.8, 136.4, 161.0, 159.7, 166.9, 162.7, 166.0, 162.0, 153.4, 153.1, 160.4, 144.1, 155.4, 146.6, 171.8, 167.2, 150.3, 155.9, 150.1, 143.1, 164.9, 154.4, 158.4, 149.3, 155.1, 153.3, 150.5, 172.5, 156.0, 156.3, 177.7, 164.9, 152.3, 168.4, 137.4, 138.2, 148.9, 140.9, 177.5, 171.3, 168.3, 161.0, 162.2, 173.0, 158.5, 167.0, 165.5, 165.3, 176.5, 176.5, 154.5, 151.0, 161.2, 175.1, 160.4, 157.5, 157.3, 153.3, 156.0, 165.9, 183.3, 176.1, 162.5, 177.4, 164.8, 162.0, 169.6, 174.5, 161.5, 170.0, 154.0, 155.8, 159.6, 170.2, 172.2, 165.7, 158.5, 179.9, 171.1, 154.0, 191.2, 153.5, 158.5, 167.4, 169.1, 176.2, 151.3, 165.1, 170.0, 173.5, 161.6, 159.8, 174.1, 160.5, 170.4, 164.7, 161.1, 172.4, 165.7, 165.9, 181.6, 169.2, 180.5, 159.3, 160.7, 165.5, 181.4, 168.3, 157.6, 168.4, 172.4, 160.1, 180.0, 167.5, 155.6, 172.6, 158.6, 179.4, 181.3, 155.0, 181.8, 169.1, 166.9, 174.2, 160.1, 180.5, 173.4, 165.0, 180.0, 169.1, 157.5, 169.1, 157.0, 166.0, 165.5, 155.0, 169.8, 167.9, 174.1, 176.9, 176.3, 157.0, 159.8, 176.6, 180.2, 154.4, 171.0, 174.8, 162.5, 157.3, 145.1, 148.9, 132.8, 149.8, 156.8, 152.4, 146.9, 149.0, 153.0, 150.0, 140.5, 139.8, 148.8, 154.8, 152.0, 138.5, 142.5, 138.5, 139.6, 143.1, 153.0, 148.4, 137.5, 145.7, 136.2, 151.5, 156.4, 139.2, 138.7, 148.0, 143.9, 148.8, 163.4, 165.9, 168.5, 159.9, 173.5, 157.4, 153.0, 148.6, 153.3, 157.0, 166.0, 156.7, 175.4, 167.3, 153.1, 163.8, 155.4, 171.9, 152.7, 149.8, 158.6, 154.0, 151.2, 144.4, 160.3, 151.3, 165.6, 164.4, 164.2, 160.9, 158.5, 157.3, 163.0, 151.6, 167.6, 167.0, 157.7, 155.7, 175.7, 156.5, 162.1, 163.3, 168.2, 166.4, 156.3, 157.4, 153.1, 162.6, 154.0, 144.1, 165.1, 158.6, 146.3, 171.4, 138.7, 148.5, 144.2, 145.5, 153.2, 144.0, 158.6, 150.8, 140.7, 137.6, 146.1, 150.7, 140.6, 152.2, 140.8, 147.2, 156.7, 139.7, 148.6, 162.1, 158.3, 142.1, 139.3, 155.6, 145.2, 151.1, 146.2, 152.5, 172.4, 156.5, 155.9, 162.9, 169.6, 159.5, 172.1, 162.6, 163.9, 160.8, 166.9, 173.0, 158.5, 166.9, 165.6, 148.3, 168.1, 176.0, 178.3, 166.5, 174.6, 164.1, 162.5, 152.5, 161.4, 154.7, 161.5, 168.9, 150.7, 163.9, 171.6, 158.0, 163.4, 161.3, 164.1, 178.9, 173.8, 156.5, 176.6, 170.8, 166.7, 153.4, 164.9, 157.6, 169.0, 171.3, 183.9, 168.5, 164.6, 176.8, 171.6, 151.7, 167.3, 174.2, 169.5, 175.2, 167.6, 158.2, 165.5, 161.0, 161.3, 168.3, 166.5, 158.9, 175.1, 165.0, 159.0, 162.7, 176.0, 158.6, 155.5, 169.0, 157.8, 151.2, 159.3, 163.3, 178.5, 162.2, 152.0, 172.0, 149.3, 177.2, 161.8, 159.7, 156.5, 170.5, 162.9, 157.0, 152.6, 175.1, 170.6, 163.7, 165.5, 171.0, 167.0, 154.8, 167.9, 179.9, 160.0, 154.3, 175.5, 154.2, 169.6, 164.9, 174.0, 183.1, 168.7, 165.7, 157.2, 153.0, 161.6, 148.0, 173.0, 153.2, 153.9, 150.1, 165.5, 150.6, 149.5, 158.3, 156.0, 167.4, 160.8, 157.2, 158.5, 162.0, 167.4, 159.9, 160.5, 149.8, 144.4, 156.3, 163.9, 153.0, 172.7, 149.6, 164.2, 151.8, 176.7, 154.2, 162.5, 157.8, 181.6, 162.1, 166.4, 144.7, 149.2, 169.3, 154.4, 157.6, 151.8, 149.3, 158.4, 153.1, 159.7, 164.0, 162.9, 158.2, 151.9, 165.4, 164.0, 156.6, 176.4, 171.7, 160.1, 157.9, 157.3, 162.9, 143.3, 149.6, 151.3, 157.4, 146.1, 148.1, 156.5, 141.1, 146.6, 156.8, 141.7, 148.2, 136.6, 142.5, 145.0, 152.3, 139.0, 161.0, 156.9, 139.0, 145.2, 149.1, 140.8, 152.2, 149.4, 162.4, 158.9, 148.5, 158.2, 152.0, 162.3, 164.6, 139.6, 157.6, 153.1, 166.2, 159.6, 144.6, 169.4, 161.0, 165.5, 145.0, 161.9, 134.6, 164.4, 166.1, 151.0, 142.5, 153.2, 148.9, 161.9, 142.4, 153.7, 160.8, 172.9, 164.8, 168.8, 172.9, 156.4, 162.0, 163.0, 160.7, 163.1, 189.4, 161.1, 158.8, 179.6, 163.1, 163.6, 166.6, 187.0, 162.7, 156.0, 157.5, 164.1, 170.5, 177.8, 157.1, 164.3, 162.0, 151.3, 176.3, 155.3, 157.5, 168.7, 166.5, 173.0, 162.9, 166.9, 173.2, 157.0, 174.6, 159.1, 166.2, 155.0, 159.6, 157.6, 158.0, 165.6, 168.1, 166.0, 171.8, 157.9, 184.5, 184.0, 174.5, 171.0, 160.5, 175.6, 158.5, 159.0, 158.0, 176.0, 158.5, 163.5, 168.0, 162.5, 173.3, 171.3, 157.9, 159.5, 162.8, 155.9, 164.0, 181.4, 169.7, 143.5, 170.0, 173.5, 162.0, 164.9, 189.0, 161.1, 162.0, 182.5, 175.5, 165.0, 166.8, 149.8, 161.5, 147.3, 161.2, 148.0, 171.0, 163.0, 178.0, 160.5, 165.6, 168.0, 166.7, 154.3, 136.5, 148.0, 166.0, 156.0, 150.5, 153.0, 140.0, 151.4, 143.5, 153.0, 158.0, 159.5, 142.5, 145.8, 168.0, 171.9, 167.0, 180.5, 177.0, 165.1, 170.0, 184.0, 153.0, 147.8, 148.5, 152.5, 162.2, 153.5, 143.4, 145.6, 157.5, 144.4, 152.5, 152.0, 156.4, 156.2, 151.9, 153.0, 147.5, 153.0, 148.0, 168.2, 165.9, 168.9, 164.0, 165.8, 171.2, 173.2, 165.9, 167.5, 173.9, 185.2, 172.3, 156.0, 174.0, 164.0, 167.1, 157.9, 169.0, 158.0, 168.5, 167.0, 156.1, 154.0, 173.8, 162.9, 159.9, 162.4, 160.9, 159.2, 164.0, 163.0, 172.1, 153.0, 157.9, 163.9, 148.9, 159.0, 170.1, 150.2, 158.1, 158.1, 171.5, 169.9, 156.1, 153.5, 158.2, 166.0, 168.0, 162.9, 169.9, 161.1, 167.5, 166.0, 165.4, 163.5, 155.9, 161.8, 163.0, 167.4, 160.7, 162.0, 159.4, 173.1, 172.3, 158.5, 153.5, 158.9, 170.0, 160.1, 148.2, 164.9, 159.9, 147.6, 150.2, 165.0, 173.8, 150.9, 155.9, 159.9, 160.9, 149.1, 165.6, 158.5, 158.0, 158.5, 150.8, 151.0, 162.4, 172.8, 172.0, 158.5, 160.8, 149.0, 165.0, 153.4, 171.2, 158.5, 169.3, 162.0, 166.8, 157.0, 167.4, 171.8, 167.9, 166.0, 154.2, 161.2, 168.5, 160.1, 166.5, 151.0, 159.9, 156.1, 145.1, 170.0, 162.9, 175.8, 162.8, 180.1, 179.9, 156.5, 166.8, 162.9, 172.2, 171.1, 163.5, 160.3, 182.1, 179.9, 174.0, 165.0, 167.8, 154.8, 150.1, 188.2, 173.1, 149.9, 160.0, 162.9, 159.9, 175.6, 158.0, 165.0, 175.0, 162.1, 164.9, 168.0, 181.7, 163.2, 168.1, 168.5, 160.5, 154.9, 156.9, 151.0, 165.0, 185.0, 178.9, 164.1, 170.0, 157.0, 162.1, 155.8, 149.9, 179.7, 159.9, 163.1, 173.1, 163.5, 168.5, 173.7, 163.0, 175.0, 172.1, 157.2, 186.0, 148.0, 181.0, 173.0, 158.5, 162.0, 178.2, 162.1, 160.5, 158.0, 167.0, 173.0, 159.6, 170.3, 152.5, 158.5, 163.5, 168.4, 178.9, 178.0, 176.5, 173.1, 164.1, 154.9, 175.0, 180.0, 159.5, 170.5, 168.1, 161.0, 173.0, 174.1, 167.0, 168.9, 172.8, 161.0, 181.3, 179.8, 160.2, 182.4, 163.8, 159.4, 171.2, 158.2, 167.5, 158.4, 161.9, 159.0, 159.0, 167.2, 164.7, 173.8, 163.1, 170.1, 173.9, 160.5, 158.1, 160.5, 146.0, 160.5, 153.3, 163.7, 140.1, 150.0, 141.2, 145.8, 149.5, 158.0, 153.3, 149.3, 149.5, 156.2, 149.8, 156.0, 151.2, 146.6, 143.8, 158.7, 158.0, 139.9, 149.9, 144.4, 179.5, 168.0, 173.5, 153.8, 167.8, 146.6, 170.5, 152.0, 168.0, 161.6, 161.3, 154.9, 143.3, 165.4, 170.2, 161.4, 153.6, 160.0, 145.8, 168.7, 160.9, 157.1, 159.6, 161.2, 157.1, 158.8, 159.1, 167.3, 168.5, 171.0, 153.5, 171.8, 140.2, 163.4, 171.5, 158.7, 151.1, 166.4, 147.8, 166.0, 145.1, 158.4, 152.2, 145.2, 161.9, 144.5, 139.0, 165.4, 150.4, 144.0, 153.8, 149.1, 147.6, 149.4, 150.1, 131.4, 140.5, 158.7, 160.7, 157.8, 153.2, 139.8, 152.8, 146.2, 154.1, 158.9, 156.0, 154.3, 151.9, 153.7, 153.6, 142.4, 156.4, 154.4, 174.5, 158.5, 160.1, 183.6, 157.8, 154.4, 161.6, 154.1, 165.6, 164.5, 156.3, 151.9, 151.5, 160.3, 161.0, 161.1, 162.4, 178.0, 163.5, 145.9, 156.9, 151.0, 149.6, 153.0, 150.4, 159.5, 155.2, 156.2, 149.8, 172.3, 149.7, 168.0, 159.0, 160.4, 161.2, 166.9, 145.4, 149.8, 163.4, 157.2, 156.0, 159.3, 156.6, 169.5, 166.0, 166.3, 155.8, 143.0, 171.8, 162.1, 163.3, 163.7, 160.2, 148.5, 148.5, 157.3, 166.9, 161.3, 159.9, 152.9, 161.1, 154.9, 152.4, 154.0, 158.9, 154.4, 163.2, 161.4, 149.9, 152.0, 162.8, 162.3, 164.0, 158.5, 171.8, 161.4, 156.6, 168.0, 169.9, 152.3, 164.0, 153.9, 166.7, 158.7, 158.0, 151.9, 174.0, 163.1, 165.0, 167.1, 165.5, 171.0, 174.8, 160.0, 157.4, 150.0, 168.6, 159.0, 173.0, 159.5, 164.0, 160.4, 172.4, 172.6, 185.0, 156.0, 168.6, 167.5, 162.5, 166.7, 151.9, 168.0, 167.0, 162.0, 168.0, 162.4, 181.5, 163.5, 161.0, 161.2, 165.0, 164.2, 160.0, 176.5, 191.0, 156.0, 157.5, 162.0, 156.0, 164.2, 168.5, 174.5, 173.0, 156.9, 171.5, 154.0, 151.8, 169.0, 172.0, 153.0, 166.5, 166.7, 169.0, 164.2, 166.8, 162.0, 162.5, 172.5, 153.0, 152.9, 160.0, 150.9, 159.2, 170.1, 151.4, 173.2, 167.9, 162.6, 162.5, 164.2, 156.9, 144.0, 159.0, 154.5, 148.0, 168.8, 176.6, 160.7, 157.5, 154.5, 147.0, 168.0, 161.7, 144.0, 167.5, 158.0, 154.5, 148.0, 157.0, 148.0, 164.4, 153.9, 166.0, 164.9, 179.5, 150.9, 136.5, 153.2, 163.5, 166.6, 146.0, 152.0, 168.0, 154.1, 160.0, 149.0, 160.0, 145.4, 161.2, 151.4, 158.5, 168.5, 155.8, 159.0, 167.9, 160.0, 161.5, 162.8, 145.5, 159.8, 147.4, 151.2, 168.5, 156.6, 161.9, 168.0, 169.0, 153.4, 171.4, 151.9, 160.5, 161.0, 154.0, 165.0, 169.0, 159.0, 159.0, 176.5, 148.0, 173.2, 168.8, 164.5, 161.5, 157.5, 142.0, 147.8, 153.8, 158.6, 139.5, 154.5, 174.3, 148.8, 159.5, 158.5, 152.4, 156.1, 132.8, 156.0, 157.3, 157.4, 149.4, 145.7, 142.5, 142.4, 158.3, 151.1, 162.4, 152.9, 143.9, 146.7, 166.0, 152.8, 159.7, 167.8, 155.7, 158.5, 159.5, 152.0, 183.7, 162.7, 167.6, 152.7, 165.7, 175.0, 166.0, 150.2, 171.7, 173.0, 161.4, 172.7, 176.5, 168.4, 179.2, 159.5, 163.3, 153.1, 171.3, 167.5, 184.4, 182.6, 170.5, 164.5, 150.2, 154.4, 140.3, 164.6, 147.9, 142.4, 149.7, 147.1, 139.0, 161.5, 148.2, 158.2, 147.6, 156.0, 137.0, 141.1, 159.4, 141.3, 153.0, 154.4, 154.2, 152.5, 149.5, 146.1, 151.1, 154.4, 155.4, 154.2, 162.7, 164.0, 160.3, 166.4, 162.7, 161.3, 170.5, 171.8, 153.0, 162.8, 163.0, 176.3, 170.8, 167.6, 174.6, 155.5, 162.3, 163.1, 169.9, 170.0, 159.7, 175.6, 169.9, 167.6, 179.4, 168.0, 178.7, 162.9, 168.6, 169.0, 159.4, 174.0, 169.0, 170.0, 171.0, 165.0, 171.5, 169.5, 175.6, 170.1, 162.4, 173.9, 179.9, 160.1, 166.5, 159.5, 169.5, 159.8, 181.3, 181.1, 162.4, 167.2, 175.1, 184.8, 157.5, 171.2, 156.5, 154.3, 179.2, 161.2, 159.6, 174.7, 173.7, 170.0, 148.2, 163.3, 159.5, 152.5, 165.5, 162.5, 148.5, 157.8, 146.1, 148.5, 164.5, 158.8, 152.5, 178.5, 175.4, 167.8, 149.9, 155.8, 173.0, 152.5, 152.6, 146.8, 164.4, 170.5, 148.8, 150.0, 149.7, 139.5, 177.3, 166.2, 146.5, 157.2, 152.6, 164.5, 164.5, 169.8, 159.5, 165.2, 167.5, 180.8, 167.2, 158.7, 154.8, 157.5, 153.9, 156.5, 157.0, 157.6, 168.8, 179.8, 158.5, 166.1, 174.2, 168.6, 162.2, 166.1, 152.0, 171.5, 160.0, 177.8, 156.8, 164.0, 175.4, 160.1, 181.2, 173.1, 153.0, 165.8, 164.0, 163.0, 156.5, 163.9, 151.0, 162.8, 158.5, 158.6, 148.8, 171.2, 149.8, 183.0, 160.0, 165.5, 160.0, 165.0, 158.5, 162.8, 166.1, 168.0, 164.2, 167.0, 149.0, 171.6, 167.0, 160.5, 167.7, 161.5, 161.5, 177.5, 163.5, 157.0, 173.5, 169.5, 170.6, 170.2, 170.0, 171.0, 173.5, 159.5, 154.5, 159.5, 173.3, 161.1, 168.8, 160.5, 163.5, 157.0, 157.5, 137.9, 163.2, 159.2, 161.1, 171.8, 166.0, 154.0, 157.9, 158.5, 173.2, 168.3, 170.2, 165.7, 162.1, 168.5, 176.5, 155.5, 153.6, 173.2, 161.5, 170.0, 173.5, 161.0, 174.5, 163.0, 171.8, 180.0, 166.5, 178.5, 180.5, 163.5, 172.5, 163.5, 158.5, 176.3, 191.5, 163.5, 164.3, 154.0, 156.0, 176.5, 158.6, 175.0, 164.5, 177.5, 169.5, 164.3, 164.7, 169.5, 160.0, 161.0, 155.5, 153.8, 157.0, 147.5, 150.0, 157.0, 158.8, 159.2, 141.0, 154.0, 152.2, 151.2, 156.0, 140.2, 137.7, 141.5, 136.0, 140.0, 147.0, 148.8, 155.0, 168.0, 146.0, 158.0, 154.5, 155.8, 154.0, 149.2, 152.9, 157.0, 148.5, 154.0, 157.5, 159.0, 172.8, 158.9, 173.5, 158.0, 156.5, 155.0, 149.0, 180.5, 166.6, 157.5, 161.3, 139.0, 147.7, 160.0, 158.2, 159.6, 156.0, 160.0, 155.6, 158.8, 164.0, 154.0, 166.5, 152.5, 157.8, 159.2, 174.0, 167.7, 168.5, 153.2, 152.6, 163.0, 154.2, 157.5, 156.5, 156.8, 155.4, 150.0, 159.8, 161.4, 166.0, 163.2, 161.0, 165.3, 149.0, 162.5, 164.4, 172.5, 161.3, 158.3, 157.9, 164.9, 175.4, 186.0, 156.1, 158.9, 162.3, 173.5, 175.6, 172.5, 152.1, 158.1, 176.9, 166.4, 168.9, 170.9, 155.0, 159.5, 173.4, 179.5, 172.6, 173.4, 159.7, 162.1, 173.5, 176.4, 170.7, 172.3, 167.6, 169.0, 167.9, 163.3, 153.4, 156.6, 161.6, 158.0, 157.0, 163.3, 165.6, 186.3, 170.6, 164.4, 176.7, 159.6, 176.5, 160.8, 163.4, 171.3, 157.4, 165.3, 160.4, 152.9, 160.6, 152.5, 165.6, 159.5, 181.4, 172.4, 174.7, 170.2, 174.0, 166.5, 161.3, 153.8, 163.2, 172.4, 173.4, 167.7, 161.5, 166.0, 174.5, 157.4, 157.2, 180.4, 154.9, 164.5, 170.0, 174.7, 171.0, 173.6, 164.3, 165.5, 158.8, 155.0, 161.8, 193.9, 153.6, 159.2, 166.2, 158.4, 167.0, 167.0, 165.3, 157.1, 180.5, 167.5, 169.9, 168.7, 163.3, 168.9, 175.6, 159.2, 171.0, 161.5, 166.5, 172.7, 171.2, 176.3, 147.5, 165.5, 171.3, 166.5, 176.2, 162.0, 139.2, 146.2, 158.8, 164.0, 177.0, 155.5, 168.5, 177.4, 177.0, 176.3, 177.3, 164.0, 159.1, 176.6, 172.1, 154.0, 178.0, 169.0, 189.3, 162.2, 156.4, 159.6, 172.8, 179.1, 172.8, 168.4, 154.2, 166.0, 164.5, 159.8, 159.7, 170.8, 158.1, 173.8, 174.0, 160.1, 164.0, 164.5, 168.8, 156.8, 155.0, 161.9, 165.9, 178.8, 153.2, 162.0, 173.8, 154.5, 159.0, 151.8, 163.2, 174.5, 163.0, 160.4, 173.0, 155.3, 169.0, 149.1, 169.5, 162.5, 164.0, 176.5, 161.5, 150.2, 175.9, 175.0, 164.0, 166.0, 169.5, 164.1, 159.2, 177.4, 175.2, 158.5, 180.6, 163.0, 154.2, 145.9, 159.8, 157.8, 167.0, 156.5, 148.8, 145.3, 135.1, 147.3, 158.5, 158.1, 160.9, 140.6, 153.0, 134.8, 139.8, 149.8, 163.9, 154.4, 148.5, 158.5, 151.3, 155.9, 150.3, 147.1, 155.0, 166.9, 156.2, 162.4, 167.3, 157.3, 168.6, 166.0, 162.2, 166.5, 178.1, 161.3, 174.5, 173.0, 164.5, 179.5, 177.5, 158.0, 181.3, 186.5, 161.0, 169.9, 180.0, 159.7, 160.5, 179.8, 156.4, 171.5, 163.0, 169.9, 173.8, 163.7, 164.5, 180.0, 183.5, 175.6, 183.0, 182.3, 168.6, 161.3, 188.0, 181.5, 182.1, 173.1, 168.4, 186.0, 162.8, 178.0, 170.8, 145.0, 171.1, 161.9, 168.3, 163.0, 166.4, 174.1, 159.1, 161.1, 165.0, 155.5, 168.0, 170.1, 170.9, 162.5, 168.5, 172.5, 186.1, 162.0, 167.9, 172.0, 156.8, 158.8, 170.3, 176.4, 164.8, 169.5, 159.5, 177.6, 168.8, 167.5, 169.9, 180.6, 164.0, 159.4, 163.5, 165.5, 172.5, 151.3, 167.1, 146.9, 175.0, 155.0, 165.0, 165.5, 175.0, 169.5, 180.2, 166.2, 170.5, 160.9, 161.1, 167.6, 176.2, 157.5, 176.9, 172.2, 163.3, 160.1, 156.6, 155.0, 180.0, 162.6, 147.9, 164.8, 164.1, 154.2, 148.0, 160.0, 154.5, 161.9, 160.5, 172.8, 148.2, 153.6, 167.8, 164.2, 163.0, 160.4, 170.1, 156.2, 153.9, 166.5, 159.5, 147.9, 162.5, 147.5, 162.0, 143.2, 154.9, 166.1, 160.6, 168.6, 157.6, 156.1, 171.6, 150.6, 153.3, 154.4, 161.0, 155.6, 156.4, 155.4, 156.4, 157.9, 155.4, 156.2, 167.9, 166.1, 150.0, 151.4, 159.5, 170.9, 157.5, 151.6, 152.8, 153.9, 172.3, 157.9, 150.5, 147.0, 143.4, 147.3, 145.5, 154.2, 144.0, 160.9, 149.2, 142.5, 153.8, 153.2, 161.0, 164.3, 162.0, 148.9, 169.1, 161.3, 163.9, 162.5, 158.7, 158.4, 153.5, 152.6, 139.1, 161.5, 159.1, 167.0, 169.3, 163.0, 152.4, 149.8, 140.0, 167.3, 149.2, 158.3, 148.9, 146.0, 151.9, 170.9, 154.7, 156.5, 152.5, 156.2, 139.4, 144.7, 162.5, 156.9, 143.7, 144.7, 157.1, 158.9, 155.6, 156.1, 162.9, 168.6, 146.8, 141.5, 161.9, 151.2, 143.4, 139.4, 165.4, 158.9, 152.8, 164.4, 158.8, 164.1, 161.0, 161.9, 176.6, 157.8, 163.4, 173.9, 167.3, 158.8, 159.2, 156.4, 148.6, 164.8, 150.1, 168.2, 146.8, 153.4, 166.0, 158.4, 160.0, 159.8, 144.3, 166.5, 158.9, 169.4, 162.1, 163.6, 146.6, 160.5, 152.4, 144.3, 148.6, 150.9, 154.0, 143.4, 154.0, 150.5, 139.4, 169.4, 149.1, 142.7, 139.4, 139.0, 133.2, 147.5, 152.0, 147.7, 167.5, 171.5, 159.1, 157.5, 153.6, 160.2, 154.3, 153.4, 160.1, 166.5, 150.7, 160.7, 142.0, 162.4, 146.9, 155.4, 166.5, 163.5, 151.6, 153.0, 154.6, 163.2, 171.4, 156.5, 159.5, 147.2, 149.1, 149.9, 151.0, 140.9, 157.4, 148.6, 164.9, 129.6, 143.5, 144.2, 150.0, 158.5, 134.9, 150.4, 138.6, 159.6, 154.4, 157.5, 150.9, 142.5, 161.9, 153.2, 141.5, 159.6, 151.0, 145.6, 142.2, 144.0, 159.6, 156.2, 158.0, 165.8, 152.0, 151.9, 162.6, 161.9, 157.9, 158.9, 171.4, 152.0, 149.7, 151.9, 154.4, 165.6, 175.0, 140.7, 149.8, 147.7, 144.0, 161.9, 145.7, 148.2, 159.5, 135.0, 150.1, 174.4, 160.8, 146.2, 168.3, 149.0, 152.6, 154.9, 144.0, 140.9, 156.1, 154.1, 145.4, 150.5, 148.9, 148.0, 156.0, 138.8, 173.9, 161.0, 165.5, 170.0, 166.8, 176.9, 179.5, 165.2, 172.4, 170.4, 156.8, 163.7, 184.9, 172.5, 167.6, 173.4, 167.4, 177.0, 175.0, 170.9, 155.5, 157.0, 154.1, 166.5, 160.6, 151.6, 163.5, 159.0, 168.2, 140.5, 152.9, 153.8, 148.9, 152.9, 164.9, 155.7, 145.0, 160.9, 151.9, 147.6, 139.0, 152.7, 161.5, 146.0, 157.4, 148.7, 153.8, 145.1, 144.8, 138.6, 153.0, 155.4, 149.2, 149.8, 162.4, 145.8, 172.6, 143.6, 162.7, 161.7, 170.4, 156.0, 168.0, 144.5, 156.1, 159.0, 152.6, 159.4, 167.2, 165.5, 175.0, 166.3, 163.9, 147.8, 166.0, 153.9, 147.8, 153.6, 142.5, 146.7, 146.0, 159.8, 155.5, 145.1, 156.8, 152.5, 133.0, 145.5, 139.0, 145.4, 138.6, 142.8, 139.1, 135.6, 140.6, 155.6, 151.6, 150.3, 146.1, 145.3, 164.2, 155.9, 168.5, 158.6, 167.0, 155.5, 166.5, 159.6, 153.5, 173.0, 139.1, 167.4, 172.3, 147.5, 153.0, 169.5, 160.5, 150.0, 164.9, 166.3, 162.0, 160.0, 159.0, 162.4, 168.8, 151.6, 161.3, 153.8, 148.6, 150.5, 173.0, 151.0, 162.2, 156.5, 158.1, 167.4, 160.8, 166.0, 174.5, 171.2, 152.0, 161.2, 149.2, 169.8, 160.6, 163.5, 168.5, 168.8, 178.8, 177.2, 159.5, 173.6, 163.8, 175.0, 166.9, 175.8, 163.6, 170.5, 155.0, 151.9, 167.1, 153.6, 160.0, 169.0, 179.3, 156.6, 164.5, 154.5, 169.9, 181.0, 168.0, 175.4, 169.8, 171.5, 164.9, 173.5, 151.0, 149.3, 163.3, 180.1, 163.9, 171.4, 162.6, 166.5, 162.4, 164.8, 169.9, 171.1, 163.2, 181.5, 181.1, 173.0, 177.0, 169.8, 162.2, 163.5, 175.5, 168.8, 169.0, 174.0, 166.8, 148.9, 154.4, 153.0, 145.5, 156.4, 144.2, 156.3, 137.1, 168.5, 150.1, 155.3, 145.2, 154.4, 151.4, 149.1, 152.9, 141.8, 148.5, 158.0, 153.6, 160.3, 172.4, 155.3, 157.4, 155.0, 162.0, 155.4, 151.3, 148.4, 170.0, 150.5, 158.2, 146.0, 141.0, 157.4, 159.1, 163.0, 175.8, 165.8, 158.5, 139.6, 158.0, 165.8, 161.8, 171.0, 149.9, 164.4, 162.5, 185.0, 165.5, 155.7, 165.0, 156.6, 148.5, 163.0, 167.5, 177.5, 154.2, 160.0, 154.6, 154.1, 152.0, 152.0, 154.1, 144.1, 158.1, 144.2, 155.8, 161.0, 147.6, 146.9, 135.8, 138.2, 144.2, 151.5, 143.4, 139.3, 135.8, 131.0, 145.4, 150.6, 148.6, 159.0, 146.5, 146.9, 143.5, 147.8, 148.1, 142.0, 149.6, 146.9, 141.5, 178.8, 149.0, 158.2, 152.7, 137.6, 155.6, 174.8, 165.5, 163.7, 167.1, 165.9, 155.0, 154.8, 172.0, 175.2, 173.3, 164.8, 163.7, 170.8, 167.0, 174.2, 157.4, 164.9, 176.6, 167.0, 173.8, 178.2, 172.0, 170.1, 157.9, 162.4, 175.6, 154.8, 150.9, 173.0, 168.4, 162.2, 159.5, 156.4, 164.3, 166.8, 157.8, 167.5, 149.0, 171.0, 149.1, 152.6, 156.6, 144.1, 155.0, 163.0, 147.8, 154.9, 152.5, 154.8, 147.8, 157.9, 165.0, 154.5, 158.5, 146.0, 165.1, 156.8, 171.1, 148.9, 157.5, 138.4, 159.0, 151.2, 178.8, 158.2, 156.6, 157.5, 156.9, 149.6, 157.3, 149.5, 152.5, 153.0, 166.4, 160.5, 152.6, 166.5, 158.0, 174.1, 154.9, 161.0, 156.5, 159.0, 163.7, 157.9, 157.9, 158.4, 171.0, 164.3, 178.5, 150.9, 160.3, 155.1, 164.9, 159.0, 159.5, 171.7, 157.7, 158.6, 166.2, 156.0, 160.6, 160.2, 164.1, 180.5, 169.8, 160.8, 158.0, 155.5, 166.9, 171.4, 160.9, 158.3, 145.8, 158.0, 154.9, 162.4, 173.8, 161.8, 163.0, 175.8, 171.5, 157.5, 163.3, 160.9, 163.0, 159.5, 161.0, 168.8, 186.9, 157.3, 166.0, 171.6, 165.5, 181.0, 172.0, 168.4, 158.4, 163.4, 163.3, 171.1, 179.4, 166.1, 180.8, 178.6, 169.8, 153.2, 178.2, 170.3, 170.0, 177.1, 175.8, 156.3, 158.5, 163.7, 159.0, 155.0, 169.8, 174.8, 157.7, 163.9, 160.0, 176.8, 170.0, 172.0, 153.2, 161.5, 159.3, 160.1, 179.1, 168.6, 177.1, 162.9, 183.2, 182.1, 176.6, 177.0, 179.0, 169.2, 153.9, 171.5, 159.0, 179.0, 154.0, 153.0, 175.3, 160.3, 172.2, 166.0, 167.5, 159.7, 166.8, 148.0, 179.0, 167.3, 175.3, 165.6, 165.2, 167.9, 151.0, 157.5, 156.5, 157.1, 154.5, 151.0, 160.4, 148.7, 136.0, 155.0, 152.0, 153.2, 150.3, 148.8, 153.0, 159.5, 151.9, 142.2, 153.0, 157.3, 146.4, 161.7, 171.2, 154.0, 161.5, 156.6, 155.5, 157.7, 167.6, 159.0, 170.0, 173.4, 169.3, 167.9, 167.1, 159.0, 154.7, 154.7, 157.0, 154.0, 164.5, 154.0, 168.7, 159.5, 158.0, 159.1, 162.2, 158.2, 171.0, 148.5, 166.5, 161.0, 168.3, 171.5, 158.1, 167.5, 160.9, 156.0, 148.9, 156.7, 144.0, 133.8, 140.6, 145.5, 150.8, 148.0, 143.1, 144.6, 147.7, 158.0, 155.5, 149.0, 141.5, 159.1, 142.0, 158.3, 149.1, 148.9, 147.5, 150.4, 151.8, 144.0, 145.5, 134.7, 158.8, 130.6, 160.7, 145.2, 158.4, 150.5, 158.7, 144.2, 149.5, 168.2, 155.3, 149.3, 149.8, 151.0, 152.2, 154.3, 161.2, 148.8, 156.8, 164.0, 144.9, 156.4, 148.6, 149.3, 152.3, 169.0, 153.0, 164.2, 149.0, 171.0, 156.4, 149.2, 159.3, 152.0, 154.0, 147.5, 134.5, 146.8, 157.5, 148.4, 158.0, 148.3, 145.8, 157.6, 169.9, 149.5, 142.4, 159.5, 147.1, 158.1, 162.3, 164.4, 154.5, 178.9, 159.3, 159.6, 162.6, 143.8, 153.5, 165.3, 150.2, 168.1, 151.5, 154.0, 163.0, 154.5, 180.4, 159.1, 171.9, 147.4, 155.6, 152.4, 159.2, 164.5, 154.9, 174.0, 151.8, 170.4, 167.3, 156.5, 151.4, 160.1, 159.2, 160.3, 186.8, 163.5, 150.2, 153.5, 158.0, 167.6, 160.2, 155.3, 144.4, 144.8, 150.7, 147.9, 154.4, 150.3, 147.1, 147.0, 151.2, 141.8, 146.5, 142.2, 152.4, 148.9, 149.6, 171.1, 155.4, 156.9, 162.4, 150.0, 136.8, 146.8, 155.5, 163.4, 156.1, 145.4, 161.0, 163.8, 151.9, 157.7, 161.8, 167.5, 167.5, 163.2, 154.5, 172.2, 160.3, 167.9, 160.9, 158.5, 167.5, 155.7, 177.0, 163.4, 157.0, 144.7, 165.9, 160.7, 168.3, 148.5, 162.2, 175.0, 137.5, 148.5, 159.6, 151.8, 168.6, 155.9, 155.1, 157.6, 153.6, 145.0, 146.8, 143.1, 139.1, 160.7, 149.1, 149.1, 154.0, 158.0, 142.3, 131.8, 147.0, 146.9, 147.2, 146.9, 157.6, 156.0, 164.2, 153.1, 183.5, 160.4, 149.3, 165.8, 157.0, 144.2, 163.9, 155.9, 160.6, 162.5, 158.9, 151.3, 168.0, 174.2, 147.9, 164.2, 170.5, 155.8, 150.9, 136.1, 154.5, 165.6, 158.0, 152.6, 155.5, 172.1, 160.0, 161.6, 154.0, 150.3, 157.1, 160.2, 152.4, 162.1, 159.1, 163.3, 155.5, 156.2, 173.0, 150.4, 163.9, 152.4, 148.5, 150.1, 158.8, 165.9, 158.4, 158.4, 167.3, 149.6, 172.8, 158.0, 156.6, 173.1, 153.6, 160.2, 162.5, 173.9, 161.9, 155.5, 146.8, 163.1, 167.5, 157.0, 171.7, 159.9, 158.8, 155.9, 149.1, 158.2, 157.0, 157.2, 160.9, 173.0, 166.4, 158.0, 163.0, 161.0, 154.0, 186.0, 168.9, 168.8, 157.7, 168.8, 175.8, 173.5, 183.5, 154.0, 170.7, 175.3, 164.5, 179.6, 177.5, 168.3, 185.9, 179.6, 170.3, 153.6, 153.5, 180.6, 166.8, 158.0, 174.5, 158.0, 157.5, 161.5, 160.5, 169.0, 162.0, 165.5, 162.7, 166.0, 183.5, 169.2, 162.8, 157.5, 166.5, 161.5, 186.5, 165.5, 163.5, 177.4, 158.3, 158.0, 174.0, 154.9, 172.5, 173.5, 187.0, 186.0, 166.5, 187.0, 167.9, 187.0, 160.4, 156.8, 160.0, 169.6, 172.7, 181.2, 168.8, 161.4, 147.4, 156.5, 175.1, 168.3, 165.0, 157.2, 162.5, 156.4, 166.3, 172.0, 162.5, 161.4, 150.9, 169.8, 174.6, 164.4, 165.0, 166.3, 165.1, 156.9, 149.5, 151.3, 163.2, 166.2, 162.5, 147.6, 162.3, 153.0, 157.9, 168.4, 170.2, 174.5, 170.0, 169.1, 177.8, 172.0, 171.0, 166.3, 161.1, 166.0, 161.9, 164.5, 168.0, 159.2, 173.4, 163.4, 165.9, 159.8, 159.3, 170.0, 158.7, 166.2, 148.0, 164.5, 167.5, 177.0, 166.2, 182.1, 160.0, 182.5, 167.0, 182.0, 169.2, 164.4, 167.4, 173.9, 159.3, 176.9, 171.2, 178.5, 160.9, 172.0, 165.8, 169.6, 170.8, 169.9, 173.9, 171.3, 160.1, 176.9, 171.9, 169.3, 155.2, 169.0, 156.0, 170.2, 167.5, 176.9, 164.4, 157.0, 159.7, 148.6, 153.0, 153.7, 173.0, 166.5, 149.8, 171.5, 164.5, 168.0, 157.6, 173.1, 174.0, 155.5, 171.0, 155.5, 159.6, 157.0, 161.4, 164.1, 173.0, 156.0, 172.1, 154.7, 139.9, 164.1, 161.0, 167.1, 160.1, 190.5, 149.5, 180.2, 164.5, 157.0, 160.2, 182.5, 156.0, 180.9, 162.3, 169.6, 155.9, 170.3, 174.1, 182.6, 178.9, 160.7, 161.4, 157.5, 181.3, 154.3, 181.8, 168.0, 165.2, 164.0, 159.5, 163.5, 156.8, 157.1, 181.3, 176.0, 168.0, 159.5, 169.7, 170.1, 168.0, 171.0, 163.9, 139.9, 145.2, 152.3, 144.6, 145.3, 161.6, 165.0, 155.0, 147.3, 151.7, 161.9, 169.2, 149.9, 167.8, 144.5, 156.9, 151.2, 148.6, 160.1, 146.1, 164.2, 164.6, 159.5, 153.9, 161.8, 153.0, 159.0, 155.5, 158.0, 157.5, 166.5, 166.5, 160.2, 171.1, 182.5, 153.8, 158.5, 142.0, 156.5, 160.5, 158.5, 158.1, 167.9, 185.8, 159.4, 157.8, 163.9]}, {\"name\": \"Media\", \"type\": \"scatter\", \"x\": [160.71311307078818]}],\n",
              "                        {\"template\": {\"data\": {\"bar\": [{\"error_x\": {\"color\": \"#2a3f5f\"}, \"error_y\": {\"color\": \"#2a3f5f\"}, \"marker\": {\"line\": {\"color\": \"#E5ECF6\", \"width\": 0.5}}, \"type\": \"bar\"}], \"barpolar\": [{\"marker\": {\"line\": {\"color\": \"#E5ECF6\", \"width\": 0.5}}, \"type\": \"barpolar\"}], \"carpet\": [{\"aaxis\": {\"endlinecolor\": \"#2a3f5f\", \"gridcolor\": \"white\", \"linecolor\": \"white\", \"minorgridcolor\": \"white\", \"startlinecolor\": \"#2a3f5f\"}, \"baxis\": {\"endlinecolor\": \"#2a3f5f\", \"gridcolor\": \"white\", \"linecolor\": \"white\", \"minorgridcolor\": \"white\", \"startlinecolor\": \"#2a3f5f\"}, \"type\": \"carpet\"}], \"choropleth\": [{\"colorbar\": {\"outlinewidth\": 0, \"ticks\": \"\"}, \"type\": \"choropleth\"}], \"contour\": [{\"colorbar\": {\"outlinewidth\": 0, \"ticks\": \"\"}, \"colorscale\": [[0.0, \"#0d0887\"], [0.1111111111111111, \"#46039f\"], [0.2222222222222222, \"#7201a8\"], [0.3333333333333333, \"#9c179e\"], [0.4444444444444444, \"#bd3786\"], [0.5555555555555556, \"#d8576b\"], [0.6666666666666666, \"#ed7953\"], [0.7777777777777778, \"#fb9f3a\"], [0.8888888888888888, \"#fdca26\"], [1.0, \"#f0f921\"]], \"type\": \"contour\"}], \"contourcarpet\": [{\"colorbar\": {\"outlinewidth\": 0, \"ticks\": \"\"}, \"type\": \"contourcarpet\"}], \"heatmap\": [{\"colorbar\": {\"outlinewidth\": 0, \"ticks\": \"\"}, \"colorscale\": [[0.0, \"#0d0887\"], [0.1111111111111111, \"#46039f\"], [0.2222222222222222, \"#7201a8\"], [0.3333333333333333, \"#9c179e\"], [0.4444444444444444, \"#bd3786\"], [0.5555555555555556, \"#d8576b\"], [0.6666666666666666, \"#ed7953\"], [0.7777777777777778, \"#fb9f3a\"], [0.8888888888888888, \"#fdca26\"], [1.0, \"#f0f921\"]], \"type\": \"heatmap\"}], \"heatmapgl\": [{\"colorbar\": {\"outlinewidth\": 0, \"ticks\": \"\"}, \"colorscale\": [[0.0, \"#0d0887\"], [0.1111111111111111, \"#46039f\"], [0.2222222222222222, \"#7201a8\"], [0.3333333333333333, \"#9c179e\"], [0.4444444444444444, \"#bd3786\"], [0.5555555555555556, \"#d8576b\"], [0.6666666666666666, \"#ed7953\"], [0.7777777777777778, \"#fb9f3a\"], [0.8888888888888888, \"#fdca26\"], [1.0, \"#f0f921\"]], \"type\": \"heatmapgl\"}], \"histogram\": [{\"marker\": {\"colorbar\": {\"outlinewidth\": 0, \"ticks\": \"\"}}, \"type\": \"histogram\"}], \"histogram2d\": [{\"colorbar\": {\"outlinewidth\": 0, \"ticks\": \"\"}, \"colorscale\": [[0.0, \"#0d0887\"], [0.1111111111111111, \"#46039f\"], [0.2222222222222222, \"#7201a8\"], [0.3333333333333333, \"#9c179e\"], [0.4444444444444444, \"#bd3786\"], [0.5555555555555556, \"#d8576b\"], [0.6666666666666666, \"#ed7953\"], [0.7777777777777778, \"#fb9f3a\"], [0.8888888888888888, \"#fdca26\"], [1.0, \"#f0f921\"]], \"type\": \"histogram2d\"}], \"histogram2dcontour\": [{\"colorbar\": {\"outlinewidth\": 0, \"ticks\": \"\"}, \"colorscale\": [[0.0, \"#0d0887\"], [0.1111111111111111, \"#46039f\"], [0.2222222222222222, \"#7201a8\"], [0.3333333333333333, \"#9c179e\"], [0.4444444444444444, \"#bd3786\"], [0.5555555555555556, \"#d8576b\"], [0.6666666666666666, \"#ed7953\"], [0.7777777777777778, \"#fb9f3a\"], [0.8888888888888888, \"#fdca26\"], [1.0, \"#f0f921\"]], \"type\": \"histogram2dcontour\"}], \"mesh3d\": [{\"colorbar\": {\"outlinewidth\": 0, \"ticks\": \"\"}, \"type\": \"mesh3d\"}], \"parcoords\": [{\"line\": {\"colorbar\": {\"outlinewidth\": 0, \"ticks\": \"\"}}, \"type\": \"parcoords\"}], \"pie\": [{\"automargin\": true, \"type\": \"pie\"}], \"scatter\": [{\"marker\": {\"colorbar\": {\"outlinewidth\": 0, \"ticks\": \"\"}}, \"type\": \"scatter\"}], \"scatter3d\": [{\"line\": {\"colorbar\": {\"outlinewidth\": 0, \"ticks\": \"\"}}, \"marker\": {\"colorbar\": {\"outlinewidth\": 0, \"ticks\": \"\"}}, \"type\": \"scatter3d\"}], \"scattercarpet\": [{\"marker\": {\"colorbar\": {\"outlinewidth\": 0, \"ticks\": \"\"}}, \"type\": \"scattercarpet\"}], \"scattergeo\": [{\"marker\": {\"colorbar\": {\"outlinewidth\": 0, \"ticks\": \"\"}}, \"type\": \"scattergeo\"}], \"scattergl\": [{\"marker\": {\"colorbar\": {\"outlinewidth\": 0, \"ticks\": \"\"}}, \"type\": \"scattergl\"}], \"scattermapbox\": [{\"marker\": {\"colorbar\": {\"outlinewidth\": 0, \"ticks\": \"\"}}, \"type\": \"scattermapbox\"}], \"scatterpolar\": [{\"marker\": {\"colorbar\": {\"outlinewidth\": 0, \"ticks\": \"\"}}, \"type\": \"scatterpolar\"}], \"scatterpolargl\": [{\"marker\": {\"colorbar\": {\"outlinewidth\": 0, \"ticks\": \"\"}}, \"type\": \"scatterpolargl\"}], \"scatterternary\": [{\"marker\": {\"colorbar\": {\"outlinewidth\": 0, \"ticks\": \"\"}}, \"type\": \"scatterternary\"}], \"surface\": [{\"colorbar\": {\"outlinewidth\": 0, \"ticks\": \"\"}, \"colorscale\": [[0.0, \"#0d0887\"], [0.1111111111111111, \"#46039f\"], [0.2222222222222222, \"#7201a8\"], [0.3333333333333333, \"#9c179e\"], [0.4444444444444444, \"#bd3786\"], [0.5555555555555556, \"#d8576b\"], [0.6666666666666666, \"#ed7953\"], [0.7777777777777778, \"#fb9f3a\"], [0.8888888888888888, \"#fdca26\"], [1.0, \"#f0f921\"]], \"type\": \"surface\"}], \"table\": [{\"cells\": {\"fill\": {\"color\": \"#EBF0F8\"}, \"line\": {\"color\": \"white\"}}, \"header\": {\"fill\": {\"color\": \"#C8D4E3\"}, \"line\": {\"color\": \"white\"}}, \"type\": \"table\"}]}, \"layout\": {\"annotationdefaults\": {\"arrowcolor\": \"#2a3f5f\", \"arrowhead\": 0, \"arrowwidth\": 1}, \"coloraxis\": {\"colorbar\": {\"outlinewidth\": 0, \"ticks\": \"\"}}, \"colorscale\": {\"diverging\": [[0, \"#8e0152\"], [0.1, \"#c51b7d\"], [0.2, \"#de77ae\"], [0.3, \"#f1b6da\"], [0.4, \"#fde0ef\"], [0.5, \"#f7f7f7\"], [0.6, \"#e6f5d0\"], [0.7, \"#b8e186\"], [0.8, \"#7fbc41\"], [0.9, \"#4d9221\"], [1, \"#276419\"]], \"sequential\": [[0.0, \"#0d0887\"], [0.1111111111111111, \"#46039f\"], [0.2222222222222222, \"#7201a8\"], [0.3333333333333333, \"#9c179e\"], [0.4444444444444444, \"#bd3786\"], [0.5555555555555556, \"#d8576b\"], [0.6666666666666666, \"#ed7953\"], [0.7777777777777778, \"#fb9f3a\"], [0.8888888888888888, \"#fdca26\"], [1.0, \"#f0f921\"]], \"sequentialminus\": [[0.0, \"#0d0887\"], [0.1111111111111111, \"#46039f\"], [0.2222222222222222, \"#7201a8\"], [0.3333333333333333, \"#9c179e\"], [0.4444444444444444, \"#bd3786\"], [0.5555555555555556, \"#d8576b\"], [0.6666666666666666, \"#ed7953\"], [0.7777777777777778, \"#fb9f3a\"], [0.8888888888888888, \"#fdca26\"], [1.0, \"#f0f921\"]]}, \"colorway\": [\"#636efa\", \"#EF553B\", \"#00cc96\", \"#ab63fa\", \"#FFA15A\", \"#19d3f3\", \"#FF6692\", \"#B6E880\", \"#FF97FF\", \"#FECB52\"], \"font\": {\"color\": \"#2a3f5f\"}, \"geo\": {\"bgcolor\": \"white\", \"lakecolor\": \"white\", \"landcolor\": \"#E5ECF6\", \"showlakes\": true, \"showland\": true, \"subunitcolor\": \"white\"}, \"hoverlabel\": {\"align\": \"left\"}, \"hovermode\": \"closest\", \"mapbox\": {\"style\": \"light\"}, \"paper_bgcolor\": \"white\", \"plot_bgcolor\": \"#E5ECF6\", \"polar\": {\"angularaxis\": {\"gridcolor\": \"white\", \"linecolor\": \"white\", \"ticks\": \"\"}, \"bgcolor\": \"#E5ECF6\", \"radialaxis\": {\"gridcolor\": \"white\", \"linecolor\": \"white\", \"ticks\": \"\"}}, \"scene\": {\"xaxis\": {\"backgroundcolor\": \"#E5ECF6\", \"gridcolor\": \"white\", \"gridwidth\": 2, \"linecolor\": \"white\", \"showbackground\": true, \"ticks\": \"\", \"zerolinecolor\": \"white\"}, \"yaxis\": {\"backgroundcolor\": \"#E5ECF6\", \"gridcolor\": \"white\", \"gridwidth\": 2, \"linecolor\": \"white\", \"showbackground\": true, \"ticks\": \"\", \"zerolinecolor\": \"white\"}, \"zaxis\": {\"backgroundcolor\": \"#E5ECF6\", \"gridcolor\": \"white\", \"gridwidth\": 2, \"linecolor\": \"white\", \"showbackground\": true, \"ticks\": \"\", \"zerolinecolor\": \"white\"}}, \"shapedefaults\": {\"line\": {\"color\": \"#2a3f5f\"}}, \"ternary\": {\"aaxis\": {\"gridcolor\": \"white\", \"linecolor\": \"white\", \"ticks\": \"\"}, \"baxis\": {\"gridcolor\": \"white\", \"linecolor\": \"white\", \"ticks\": \"\"}, \"bgcolor\": \"#E5ECF6\", \"caxis\": {\"gridcolor\": \"white\", \"linecolor\": \"white\", \"ticks\": \"\"}}, \"title\": {\"x\": 0.05}, \"xaxis\": {\"automargin\": true, \"gridcolor\": \"white\", \"linecolor\": \"white\", \"ticks\": \"\", \"title\": {\"standoff\": 15}, \"zerolinecolor\": \"white\", \"zerolinewidth\": 2}, \"yaxis\": {\"automargin\": true, \"gridcolor\": \"white\", \"linecolor\": \"white\", \"ticks\": \"\", \"title\": {\"standoff\": 15}, \"zerolinecolor\": \"white\", \"zerolinewidth\": 2}}}, \"title\": {\"text\": \"Altura dos estudantes - PeNSE(2015)\"}, \"xaxis\": {\"title\": {\"text\": \"Altura\"}}, \"yaxis\": {\"title\": {\"text\": \"Frequ\\u00eancia\"}}},\n",
              "                        {\"responsive\": true}\n",
              "                    ).then(function(){\n",
              "                            \n",
              "var gd = document.getElementById('73686db7-38a5-4a40-8ef1-b61c0054d227');\n",
              "var x = new MutationObserver(function (mutations, observer) {{\n",
              "        var display = window.getComputedStyle(gd).display;\n",
              "        if (!display || display === 'none') {{\n",
              "            console.log([gd, 'removed!']);\n",
              "            Plotly.purge(gd);\n",
              "            observer.disconnect();\n",
              "        }}\n",
              "}});\n",
              "\n",
              "// Listen for the removal of the full notebook cells\n",
              "var notebookContainer = gd.closest('#notebook-container');\n",
              "if (notebookContainer) {{\n",
              "    x.observe(notebookContainer, {childList: true});\n",
              "}}\n",
              "\n",
              "// Listen for the clearing of the current output cell\n",
              "var outputEl = gd.closest('.output');\n",
              "if (outputEl) {{\n",
              "    x.observe(outputEl, {childList: true});\n",
              "}}\n",
              "\n",
              "                        })\n",
              "                };\n",
              "                \n",
              "            </script>\n",
              "        </div>\n",
              "</body>\n",
              "</html>"
            ]
          },
          "metadata": {
            "tags": []
          }
        }
      ]
    },
    {
      "cell_type": "code",
      "metadata": {
        "colab": {
          "base_uri": "https://localhost:8080/",
          "height": 542
        },
        "id": "Le5-41M7H4-s",
        "outputId": "8b0eef99-2a26-41eb-98a2-1507f90e81bc"
      },
      "source": [
        "fig_altura_2 = px.histogram(dados, x='VB17004', title='Altura dos estudantes - PeNSE (2015)',\n",
        "                            labels={'VB17004': 'Altura'})\n",
        "\n",
        "\n",
        "fig_altura_2.update_layout(yaxis_title_text='Frequência')\n",
        "\n",
        "fig_altura_2.add_trace(\n",
        "    go.Scatter(\n",
        "        x=[dados['VB17004'].mean(), dados['VB17004'].mean()],\n",
        "        y=[0, 420],\n",
        "        mode=\"lines\",\n",
        "        line=go.scatter.Line(color=\"black\"),\n",
        "        showlegend=True,\n",
        "        name=f'Media {round(dados[\"VB17004\"].mean(), 1)}'))\n",
        "\n",
        "fig_altura_2.add_trace(\n",
        "    go.Scatter(\n",
        "        x=[dados['VB17004'].median(), dados['VB17004'].median()],\n",
        "        y=[0, 420],\n",
        "        mode=\"lines\",\n",
        "        line=go.scatter.Line(color=\"red\"),\n",
        "        showlegend=True,\n",
        "        name=f'Mediana {round(dados[\"VB17004\"].median(), 1)}'))\n",
        "\n",
        "fig_altura_2.add_trace(\n",
        "    go.Scatter(\n",
        "        x=[float(dados[\"VB17004\"].mode()), float(dados[\"VB17004\"].mode())],\n",
        "        y=[0, 420],\n",
        "        mode=\"lines\",\n",
        "        line=go.scatter.Line(color=\"green\"),\n",
        "        showlegend=True,\n",
        "        name=f'Moda {float(dados[\"VB17004\"].mode())}'))\n",
        "\n",
        "fig_altura_2.add_trace(\n",
        "    go.Scatter(\n",
        "        x=[dados['VB17004'].std() + dados['VB17004'].mean(), \n",
        "           dados['VB17004'].std() + dados['VB17004'].mean()],\n",
        "        y=[0, 420],\n",
        "        mode=\"lines\",\n",
        "        line=go.scatter.Line(color=\"yellow\"),\n",
        "        showlegend=True,\n",
        "        name=f'Desvio Padrao {round(dados[\"VB17004\"].std(), 1)}'))\n",
        "\n",
        "fig_altura_2.add_trace(\n",
        "    go.Scatter(\n",
        "        x=[dados['VB17004'].mean() - dados['VB17004'].std(), \n",
        "           dados['VB17004'].mean() - dados['VB17004'].std()],\n",
        "        y=[0, 420],\n",
        "        mode=\"lines\",\n",
        "        line=go.scatter.Line(color=\"yellow\"),\n",
        "        showlegend=False,\n",
        "        name='Desvio Padrao'))\n",
        "\n",
        "fig_altura_2.show()"
      ],
      "execution_count": null,
      "outputs": [
        {
          "output_type": "display_data",
          "data": {
            "text/html": [
              "<html>\n",
              "<head><meta charset=\"utf-8\" /></head>\n",
              "<body>\n",
              "    <div>\n",
              "            <script src=\"https://cdnjs.cloudflare.com/ajax/libs/mathjax/2.7.5/MathJax.js?config=TeX-AMS-MML_SVG\"></script><script type=\"text/javascript\">if (window.MathJax) {MathJax.Hub.Config({SVG: {font: \"STIX-Web\"}});}</script>\n",
              "                <script type=\"text/javascript\">window.PlotlyConfig = {MathJaxConfig: 'local'};</script>\n",
              "        <script src=\"https://cdn.plot.ly/plotly-latest.min.js\"></script>    \n",
              "            <div id=\"751203a1-0588-43bf-acc3-ba9a1f28d910\" class=\"plotly-graph-div\" style=\"height:525px; width:100%;\"></div>\n",
              "            <script type=\"text/javascript\">\n",
              "                \n",
              "                    window.PLOTLYENV=window.PLOTLYENV || {};\n",
              "                    \n",
              "                if (document.getElementById(\"751203a1-0588-43bf-acc3-ba9a1f28d910\")) {\n",
              "                    Plotly.newPlot(\n",
              "                        '751203a1-0588-43bf-acc3-ba9a1f28d910',\n",
              "                        [{\"alignmentgroup\": \"True\", \"bingroup\": \"x\", \"hoverlabel\": {\"namelength\": 0}, \"hovertemplate\": \"Altura=%{x}<br>count=%{y}\", \"legendgroup\": \"\", \"marker\": {\"color\": \"#636efa\"}, \"name\": \"\", \"offsetgroup\": \"\", \"orientation\": \"v\", \"showlegend\": false, \"type\": \"histogram\", \"x\": [157.0, 152.0, 161.4, 172.5, 167.5, 160.5, 157.5, 159.4, 170.0, 156.2, 146.0, 168.3, 162.8, 155.3, 177.3, 165.4, 157.5, 148.0, 170.0, 161.9, 171.3, 151.6, 190.0, 159.3, 159.5, 157.2, 152.2, 156.3, 158.0, 154.0, 160.5, 164.9, 163.4, 177.0, 155.0, 174.1, 178.3, 152.0, 180.0, 158.1, 157.0, 152.5, 173.9, 157.5, 166.0, 170.0, 168.9, 170.0, 157.5, 184.5, 188.3, 167.3, 160.1, 166.5, 184.4, 154.1, 186.0, 153.4, 160.0, 169.8, 174.5, 156.4, 169.5, 152.9, 167.0, 154.3, 162.0, 167.5, 164.5, 183.1, 168.0, 157.0, 150.0, 151.0, 171.9, 166.6, 159.0, 136.5, 150.6, 146.8, 145.0, 134.6, 157.0, 153.5, 156.3, 129.7, 168.0, 153.8, 155.5, 157.7, 159.0, 158.7, 160.6, 165.9, 159.0, 167.5, 161.3, 170.5, 176.0, 156.0, 157.3, 163.3, 164.9, 171.0, 162.0, 166.0, 161.0, 156.8, 156.6, 155.5, 160.0, 162.9, 146.0, 159.5, 154.6, 172.5, 160.1, 161.5, 172.5, 157.7, 163.2, 161.2, 157.5, 166.2, 157.5, 170.7, 160.2, 165.2, 167.2, 156.2, 150.2, 155.5, 167.5, 167.0, 163.0, 155.9, 157.0, 160.5, 158.5, 173.3, 161.5, 166.9, 182.0, 164.0, 176.0, 167.2, 165.0, 180.8, 184.9, 152.0, 157.3, 171.5, 162.1, 167.0, 166.0, 164.0, 155.8, 157.0, 167.0, 184.7, 156.5, 161.2, 179.8, 160.0, 159.9, 171.1, 179.9, 174.7, 170.2, 153.5, 172.2, 164.5, 174.0, 161.0, 166.9, 154.5, 165.0, 167.9, 168.1, 158.5, 165.8, 158.2, 175.4, 171.2, 159.5, 154.7, 148.7, 163.1, 160.2, 154.4, 166.0, 152.9, 159.3, 155.8, 157.3, 158.2, 159.8, 147.2, 153.0, 159.9, 163.1, 155.9, 157.5, 163.2, 159.5, 166.6, 156.5, 153.2, 150.0, 151.5, 161.2, 151.9, 156.9, 155.0, 148.2, 152.2, 162.0, 156.5, 160.0, 165.1, 166.1, 174.9, 183.9, 161.5, 154.4, 175.3, 154.9, 171.6, 156.5, 155.9, 159.8, 173.9, 155.3, 163.0, 157.3, 165.0, 168.0, 175.0, 155.3, 162.0, 159.9, 163.0, 160.1, 174.9, 178.1, 165.0, 173.2, 162.5, 171.6, 176.8, 170.1, 152.2, 175.0, 161.5, 157.2, 168.0, 163.4, 151.5, 156.0, 162.1, 161.9, 151.5, 160.5, 173.5, 166.4, 171.7, 162.0, 160.0, 175.0, 170.0, 160.3, 155.5, 162.0, 161.2, 153.1, 160.5, 165.6, 153.4, 160.0, 157.5, 147.2, 146.5, 167.4, 152.7, 153.0, 149.5, 145.5, 163.0, 144.4, 162.0, 167.2, 150.4, 167.5, 164.2, 138.5, 164.4, 170.2, 157.4, 167.8, 169.5, 159.8, 176.5, 167.1, 173.9, 167.0, 178.5, 164.8, 160.0, 161.6, 163.4, 174.6, 165.0, 157.5, 151.3, 166.4, 162.6, 176.5, 166.0, 162.5, 176.1, 160.5, 166.0, 165.7, 162.0, 172.5, 188.4, 167.0, 173.1, 157.0, 163.5, 160.5, 157.0, 171.8, 181.7, 164.0, 170.0, 175.1, 169.0, 161.0, 171.7, 174.4, 164.5, 185.3, 182.3, 147.5, 161.2, 173.8, 168.5, 170.3, 177.7, 170.9, 157.5, 168.1, 175.0, 174.5, 164.9, 169.7, 160.0, 156.5, 170.0, 169.1, 164.2, 156.0, 186.5, 170.0, 162.0, 179.8, 156.5, 175.0, 161.0, 152.0, 169.9, 160.1, 164.5, 143.7, 161.1, 145.4, 147.6, 152.3, 163.5, 150.4, 151.5, 156.0, 158.6, 159.3, 151.0, 160.8, 147.1, 147.0, 155.3, 159.1, 149.3, 151.1, 153.0, 150.0, 170.3, 169.2, 174.3, 163.2, 147.5, 169.8, 165.0, 168.3, 186.2, 177.8, 171.6, 169.7, 156.5, 156.0, 160.0, 158.0, 158.5, 156.5, 174.0, 171.8, 157.3, 170.3, 163.3, 161.8, 169.2, 163.0, 177.6, 151.5, 177.1, 163.0, 166.5, 155.8, 155.5, 169.6, 171.0, 158.0, 169.9, 157.5, 184.9, 171.9, 161.7, 165.1, 158.1, 170.6, 173.8, 183.8, 180.1, 164.5, 167.5, 165.2, 169.3, 173.9, 169.5, 172.8, 158.0, 176.1, 169.7, 174.9, 166.0, 164.0, 160.0, 166.2, 162.0, 173.1, 179.5, 160.5, 161.0, 162.0, 163.8, 174.9, 164.0, 168.9, 163.0, 152.0, 149.2, 167.2, 160.5, 152.0, 138.5, 160.1, 166.0, 140.2, 144.0, 160.5, 163.8, 146.5, 164.3, 148.2, 155.8, 165.5, 155.0, 144.5, 155.0, 153.5, 141.3, 172.1, 159.5, 145.9, 154.3, 159.5, 149.0, 158.5, 157.0, 154.0, 155.0, 151.1, 158.9, 164.1, 152.3, 163.2, 145.8, 157.2, 181.1, 167.7, 157.0, 173.2, 167.5, 160.0, 171.1, 157.5, 164.5, 158.4, 154.0, 173.5, 157.6, 177.0, 167.9, 175.5, 177.3, 179.5, 161.5, 148.2, 134.5, 148.2, 146.0, 151.1, 152.9, 157.0, 152.7, 140.5, 155.3, 165.3, 171.9, 154.4, 159.5, 143.2, 161.0, 172.3, 147.0, 147.9, 145.7, 161.3, 156.2, 156.5, 145.8, 166.8, 144.8, 153.0, 134.8, 152.0, 150.4, 159.0, 151.6, 154.5, 154.5, 163.6, 161.6, 158.9, 158.9, 163.3, 151.0, 158.0, 163.2, 151.0, 172.3, 160.5, 157.5, 162.5, 166.3, 181.1, 158.1, 172.3, 172.0, 159.5, 136.0, 154.6, 157.4, 171.0, 150.0, 150.5, 152.0, 155.5, 157.0, 183.5, 168.3, 164.3, 158.5, 171.0, 164.2, 153.5, 178.5, 180.5, 171.0, 152.2, 158.3, 148.2, 148.5, 149.1, 163.3, 151.5, 151.5, 144.9, 148.9, 146.7, 151.5, 146.1, 150.0, 143.9, 155.8, 150.0, 166.4, 157.9, 153.0, 151.5, 153.3, 141.1, 157.9, 142.5, 150.9, 144.5, 153.5, 147.8, 137.7, 149.0, 142.2, 134.5, 147.0, 150.2, 161.0, 151.7, 145.9, 155.5, 172.1, 157.3, 157.0, 147.5, 146.7, 158.0, 149.4, 137.9, 154.3, 150.2, 147.5, 154.2, 158.9, 160.5, 166.4, 155.5, 152.2, 151.7, 156.5, 150.5, 150.5, 150.4, 175.1, 154.7, 168.0, 163.9, 156.5, 169.0, 170.8, 173.5, 160.0, 166.0, 181.8, 188.2, 160.2, 170.6, 161.9, 150.9, 161.3, 166.7, 152.3, 179.1, 160.3, 152.2, 169.9, 157.9, 148.7, 149.3, 158.4, 168.8, 152.4, 149.2, 133.9, 148.9, 158.0, 133.0, 138.3, 153.3, 136.0, 146.5, 147.2, 138.9, 152.0, 161.0, 139.5, 146.8, 150.5, 145.0, 154.9, 153.5, 134.0, 172.2, 157.5, 161.6, 161.3, 161.6, 160.0, 167.9, 158.5, 151.9, 145.4, 157.0, 168.5, 168.2, 153.7, 162.5, 168.1, 174.2, 158.5, 159.5, 173.0, 150.2, 170.5, 166.5, 154.5, 166.4, 153.9, 156.0, 163.5, 171.0, 160.0, 172.0, 153.5, 167.1, 157.8, 169.0, 164.5, 179.4, 159.0, 155.0, 159.3, 162.0, 163.6, 156.0, 162.5, 173.0, 174.0, 163.8, 182.5, 168.5, 173.0, 167.0, 179.2, 156.5, 162.5, 175.4, 153.9, 164.9, 160.0, 172.2, 174.5, 155.5, 172.5, 181.6, 175.1, 160.0, 182.3, 153.0, 169.8, 162.0, 174.0, 194.8, 159.0, 179.2, 178.3, 165.4, 169.9, 174.1, 178.5, 180.3, 177.0, 156.7, 174.5, 157.0, 179.4, 168.5, 153.0, 154.0, 175.0, 149.8, 176.7, 159.2, 177.7, 178.0, 186.0, 177.3, 180.0, 169.9, 178.5, 175.1, 158.5, 158.5, 172.1, 169.1, 157.8, 164.5, 165.0, 173.5, 154.0, 165.6, 168.0, 170.3, 179.6, 176.0, 158.0, 173.0, 174.4, 175.6, 176.4, 160.5, 169.6, 168.0, 165.5, 182.4, 166.0, 171.0, 182.0, 171.5, 166.8, 159.5, 171.4, 166.6, 163.0, 171.9, 160.4, 159.7, 172.1, 156.0, 154.5, 176.6, 174.8, 164.6, 159.5, 162.0, 166.5, 170.0, 167.3, 162.0, 178.0, 157.0, 161.0, 163.0, 158.3, 168.0, 156.0, 166.5, 162.0, 177.5, 166.1, 179.0, 180.0, 159.0, 154.6, 169.0, 153.5, 154.5, 154.5, 173.0, 175.2, 167.0, 168.5, 170.9, 180.1, 167.0, 165.8, 165.5, 159.3, 184.0, 163.7, 174.7, 168.7, 158.9, 159.9, 173.5, 168.0, 177.0, 176.9, 170.5, 162.5, 165.0, 156.7, 156.9, 174.5, 175.5, 177.2, 163.0, 167.0, 176.8, 183.3, 170.0, 178.7, 175.0, 172.6, 160.5, 163.5, 183.9, 144.6, 160.0, 134.4, 149.6, 153.4, 144.3, 153.3, 158.8, 160.1, 158.4, 145.8, 155.7, 161.6, 149.6, 149.3, 165.1, 154.6, 150.9, 154.8, 162.8, 145.7, 150.8, 157.0, 160.0, 145.7, 140.1, 147.7, 145.9, 150.3, 142.9, 137.1, 150.2, 140.1, 154.6, 137.0, 138.3, 154.8, 133.3, 140.2, 144.2, 160.5, 169.6, 167.9, 158.5, 175.0, 170.9, 172.8, 174.0, 177.4, 155.6, 178.8, 177.5, 170.9, 163.7, 153.5, 152.5, 169.9, 169.2, 162.9, 155.0, 159.5, 172.9, 166.0, 167.9, 150.5, 174.9, 148.9, 166.9, 160.7, 168.5, 168.8, 165.0, 156.1, 156.0, 178.1, 161.2, 158.9, 153.5, 149.0, 149.8, 170.0, 165.7, 168.3, 148.7, 161.0, 165.5, 177.7, 172.3, 169.8, 156.6, 170.0, 158.0, 159.8, 164.6, 161.0, 157.1, 173.0, 166.2, 161.2, 163.8, 158.5, 155.0, 162.0, 156.7, 153.0, 175.5, 174.0, 178.6, 181.0, 184.0, 151.8, 152.0, 176.5, 181.0, 173.1, 167.5, 155.7, 150.9, 156.2, 160.0, 157.2, 162.4, 165.6, 158.8, 159.1, 153.7, 158.0, 161.0, 159.7, 164.7, 158.0, 165.0, 171.0, 169.3, 153.5, 173.6, 169.1, 173.5, 162.3, 158.0, 153.4, 162.9, 168.0, 159.0, 170.8, 165.0, 166.4, 153.0, 168.5, 170.8, 155.7, 166.4, 161.0, 166.4, 170.8, 176.1, 158.7, 176.0, 168.6, 157.2, 159.7, 162.2, 161.0, 167.7, 155.8, 160.8, 165.5, 145.7, 167.6, 157.0, 168.7, 169.0, 165.9, 168.4, 148.5, 160.7, 170.2, 163.8, 167.1, 176.3, 157.6, 158.0, 162.4, 170.7, 172.9, 163.1, 164.8, 159.9, 178.0, 149.1, 164.0, 167.5, 168.5, 163.5, 162.4, 153.1, 156.2, 149.0, 149.8, 151.1, 157.8, 167.8, 167.5, 168.9, 169.0, 151.0, 156.4, 170.9, 165.0, 162.6, 161.5, 162.1, 152.0, 160.2, 155.8, 151.3, 157.3, 145.2, 156.8, 153.3, 155.9, 151.2, 159.0, 175.4, 156.3, 141.1, 172.4, 153.4, 155.0, 162.3, 158.7, 132.0, 161.5, 151.0, 162.3, 149.0, 169.5, 156.4, 169.7, 149.0, 138.2, 151.0, 162.7, 161.0, 163.8, 154.3, 158.9, 156.9, 154.5, 151.2, 164.6, 162.8, 154.2, 156.0, 151.3, 159.2, 178.2, 155.5, 172.5, 171.8, 161.5, 157.5, 169.4, 169.1, 164.5, 164.2, 167.3, 151.6, 172.0, 162.0, 171.0, 168.0, 170.4, 164.6, 174.4, 152.2, 162.6, 149.0, 173.1, 157.6, 158.6, 163.7, 155.0, 148.3, 167.7, 165.0, 167.4, 162.4, 166.4, 164.0, 162.7, 171.5, 159.9, 151.3, 154.4, 154.7, 143.6, 171.7, 173.1, 148.8, 173.0, 175.9, 157.1, 157.3, 156.9, 155.6, 179.3, 173.3, 164.7, 168.8, 156.0, 164.0, 163.8, 163.8, 158.5, 177.2, 161.6, 159.5, 180.5, 174.5, 156.2, 159.4, 176.0, 167.8, 165.0, 152.0, 173.2, 186.4, 172.6, 160.2, 167.4, 170.7, 167.5, 164.9, 166.0, 175.2, 158.5, 172.8, 178.0, 155.0, 158.5, 170.3, 161.2, 167.2, 158.2, 167.8, 166.5, 166.5, 171.3, 159.3, 157.7, 172.6, 166.9, 167.3, 166.8, 176.8, 171.9, 172.7, 150.4, 151.1, 156.6, 162.5, 172.5, 168.0, 169.7, 174.0, 163.4, 167.0, 149.5, 180.0, 158.3, 160.3, 170.2, 164.0, 137.0, 138.0, 161.0, 148.0, 144.0, 150.0, 139.0, 162.0, 155.0, 168.8, 160.0, 151.0, 155.0, 156.7, 153.0, 160.1, 140.0, 164.2, 179.8, 161.2, 148.6, 162.6, 140.0, 164.7, 156.9, 158.2, 142.0, 163.0, 153.0, 156.2, 155.0, 147.5, 159.5, 165.5, 154.9, 133.1, 172.8, 145.0, 147.6, 163.4, 169.7, 167.3, 157.1, 149.5, 165.4, 160.9, 159.8, 169.5, 160.8, 156.5, 145.9, 153.8, 158.6, 166.1, 172.0, 162.2, 149.4, 157.7, 169.3, 168.3, 157.2, 151.2, 156.7, 160.8, 154.2, 161.4, 156.3, 156.9, 147.7, 154.6, 166.6, 154.6, 157.5, 161.5, 156.2, 163.3, 156.0, 157.8, 148.7, 171.1, 166.2, 158.3, 164.0, 164.2, 150.3, 173.7, 153.2, 162.8, 160.7, 166.7, 160.1, 164.0, 149.0, 150.6, 155.2, 151.0, 160.2, 148.8, 142.3, 149.7, 149.3, 146.0, 145.8, 153.5, 137.4, 151.7, 148.0, 156.7, 135.6, 159.5, 145.1, 143.0, 144.7, 138.3, 152.7, 143.4, 147.0, 148.5, 146.5, 143.6, 152.5, 148.7, 149.0, 157.2, 145.1, 151.7, 156.5, 144.7, 147.0, 146.0, 153.5, 163.7, 150.7, 143.9, 154.1, 156.0, 157.5, 159.5, 158.4, 149.9, 149.5, 158.0, 156.0, 158.4, 162.5, 155.6, 152.8, 153.5, 168.6, 162.4, 158.1, 158.3, 160.5, 151.8, 155.5, 152.5, 153.6, 155.0, 151.5, 144.9, 149.9, 140.0, 146.0, 151.9, 140.0, 152.5, 138.6, 154.0, 150.5, 146.0, 149.7, 143.6, 138.8, 141.5, 124.1, 145.9, 151.0, 154.9, 134.0, 149.5, 140.9, 140.1, 153.5, 153.0, 168.8, 154.5, 167.8, 152.5, 165.4, 153.4, 149.7, 163.3, 144.0, 157.3, 167.2, 163.5, 164.5, 158.8, 153.4, 164.6, 170.2, 164.5, 153.0, 154.4, 155.8, 153.2, 151.9, 157.9, 154.4, 156.3, 144.6, 167.4, 159.7, 150.4, 158.2, 145.0, 149.7, 155.0, 153.0, 152.3, 154.3, 148.7, 148.7, 139.1, 141.9, 151.1, 147.0, 146.0, 148.6, 148.9, 152.0, 155.9, 141.1, 152.6, 140.4, 142.2, 149.8, 148.6, 149.9, 160.2, 147.0, 149.1, 163.2, 147.0, 144.3, 153.2, 151.7, 163.5, 155.0, 172.0, 141.4, 147.3, 160.0, 149.4, 150.5, 138.2, 150.0, 156.3, 156.1, 156.9, 180.1, 151.7, 165.3, 160.6, 157.5, 162.3, 161.0, 158.1, 162.8, 170.6, 161.4, 159.2, 158.2, 166.8, 155.6, 164.5, 163.4, 169.9, 160.5, 156.0, 163.5, 161.0, 170.1, 168.0, 153.4, 156.0, 180.5, 154.9, 150.8, 159.9, 155.6, 172.5, 164.3, 167.5, 154.5, 150.1, 156.0, 156.2, 147.5, 149.5, 141.8, 155.1, 154.6, 160.2, 151.3, 140.5, 151.0, 160.8, 152.2, 145.8, 169.4, 160.3, 162.6, 151.5, 158.0, 137.5, 154.5, 155.2, 168.6, 159.1, 158.9, 160.2, 154.0, 157.6, 153.9, 162.4, 145.0, 150.5, 151.9, 150.0, 177.8, 151.1, 155.4, 157.3, 161.5, 158.4, 171.6, 168.9, 159.4, 179.0, 164.5, 153.8, 162.4, 170.9, 172.5, 157.0, 152.0, 156.0, 158.0, 156.4, 162.8, 169.2, 165.0, 157.0, 160.5, 176.5, 151.5, 166.7, 154.8, 177.0, 162.3, 166.5, 163.3, 164.4, 161.5, 162.0, 166.3, 176.0, 166.1, 171.4, 164.1, 159.8, 155.3, 160.8, 165.2, 147.0, 158.3, 154.0, 160.6, 158.0, 164.4, 163.3, 152.2, 172.4, 164.7, 151.6, 160.0, 164.6, 155.1, 163.8, 164.2, 167.5, 158.2, 163.4, 162.2, 163.9, 165.4, 168.7, 162.6, 167.6, 171.5, 163.9, 177.4, 180.0, 158.7, 156.6, 166.7, 173.8, 167.5, 153.4, 170.6, 154.5, 154.4, 175.0, 172.8, 155.0, 160.0, 174.8, 166.5, 150.3, 168.9, 159.0, 163.0, 161.2, 146.0, 163.0, 143.9, 167.0, 145.5, 140.0, 138.4, 160.5, 143.8, 157.0, 167.0, 147.0, 157.2, 161.2, 145.0, 163.2, 151.5, 131.5, 129.0, 173.3, 147.5, 147.0, 154.0, 165.5, 151.2, 142.4, 147.5, 157.7, 151.0, 151.0, 153.0, 155.7, 149.8, 157.3, 156.7, 151.0, 149.0, 169.0, 149.0, 154.0, 144.3, 146.4, 147.0, 150.0, 165.5, 163.5, 155.0, 160.3, 154.5, 164.0, 148.5, 159.5, 174.3, 152.7, 167.5, 165.6, 152.2, 158.5, 161.0, 164.5, 154.5, 166.0, 146.6, 169.5, 158.2, 163.0, 152.8, 163.7, 152.5, 148.1, 160.0, 154.2, 160.2, 148.5, 171.0, 157.5, 158.8, 162.8, 168.0, 151.0, 158.2, 162.2, 162.5, 158.1, 171.8, 155.0, 166.0, 158.4, 169.3, 172.5, 151.1, 168.0, 163.0, 167.0, 134.1, 161.0, 145.0, 146.3, 140.4, 154.0, 158.2, 145.5, 155.0, 140.0, 160.0, 155.3, 157.0, 153.0, 167.0, 167.8, 168.8, 146.8, 168.0, 161.0, 145.4, 166.0, 156.3, 162.0, 165.5, 154.4, 160.2, 171.5, 161.5, 170.0, 148.8, 157.8, 162.8, 153.0, 144.2, 148.5, 151.0, 148.4, 152.5, 143.8, 142.2, 147.3, 143.9, 153.6, 140.8, 149.4, 158.5, 151.0, 174.4, 158.2, 141.6, 137.5, 157.0, 137.0, 162.0, 149.0, 151.2, 154.8, 148.5, 153.0, 167.6, 176.9, 173.3, 160.0, 178.9, 166.2, 151.5, 167.0, 162.1, 159.0, 172.5, 151.8, 175.0, 155.0, 174.2, 152.6, 168.9, 183.3, 179.2, 163.9, 168.0, 163.0, 172.9, 179.0, 163.3, 170.4, 165.0, 169.7, 171.5, 148.0, 171.6, 178.0, 165.0, 165.1, 165.6, 159.5, 170.5, 165.0, 151.0, 155.0, 152.0, 171.0, 168.8, 153.2, 166.0, 155.6, 151.0, 157.5, 155.0, 155.1, 158.3, 161.2, 185.3, 160.7, 147.0, 162.3, 158.0, 167.3, 155.5, 170.0, 159.0, 156.0, 157.5, 175.0, 172.0, 192.9, 156.0, 171.3, 170.0, 162.0, 170.2, 163.8, 171.0, 161.0, 158.6, 160.0, 161.0, 166.0, 172.0, 176.2, 152.7, 155.7, 184.5, 169.0, 168.2, 173.5, 172.9, 165.0, 171.9, 169.0, 162.9, 166.0, 169.7, 153.8, 161.0, 172.0, 167.5, 170.0, 160.0, 157.7, 160.2, 159.8, 158.0, 158.8, 162.2, 152.6, 157.5, 156.0, 159.2, 185.2, 161.6, 157.7, 161.5, 174.0, 166.0, 173.3, 170.0, 167.0, 171.2, 163.3, 164.2, 161.1, 171.5, 154.9, 168.3, 155.6, 181.9, 158.4, 152.0, 167.6, 156.4, 171.7, 152.0, 159.5, 160.5, 170.1, 160.1, 159.5, 169.9, 181.5, 163.2, 166.9, 172.5, 153.7, 158.2, 175.9, 162.9, 161.2, 165.0, 179.2, 172.0, 175.6, 162.5, 172.6, 160.3, 181.7, 154.0, 158.0, 173.5, 166.0, 157.0, 159.9, 142.3, 142.8, 153.8, 148.8, 149.0, 149.7, 149.9, 158.2, 165.5, 151.0, 167.7, 158.0, 156.0, 150.0, 141.5, 160.5, 152.2, 131.0, 156.7, 166.2, 144.0, 144.2, 162.2, 154.0, 141.7, 151.0, 143.0, 150.6, 152.0, 142.5, 157.8, 157.4, 162.3, 158.0, 163.3, 162.5, 160.5, 160.0, 159.9, 173.0, 157.0, 164.9, 170.9, 157.5, 181.0, 156.5, 162.0, 160.0, 172.7, 169.0, 179.0, 171.4, 171.0, 156.0, 158.7, 165.8, 160.8, 156.2, 168.0, 165.0, 156.8, 175.3, 155.9, 159.2, 153.3, 159.8, 171.5, 144.4, 152.6, 151.9, 153.0, 158.9, 156.4, 151.2, 161.2, 155.7, 155.9, 161.2, 158.0, 165.0, 159.5, 157.0, 155.8, 155.6, 166.0, 155.2, 163.2, 145.6, 176.9, 175.5, 152.1, 162.4, 156.5, 171.8, 153.1, 157.3, 168.9, 148.8, 146.0, 146.9, 155.0, 142.8, 148.8, 147.5, 172.2, 173.0, 157.0, 151.7, 155.3, 153.1, 151.2, 143.8, 141.9, 165.0, 153.0, 154.5, 149.0, 167.8, 159.0, 155.5, 162.7, 165.9, 159.0, 137.2, 159.5, 155.2, 145.4, 152.9, 152.8, 158.2, 163.1, 155.6, 163.0, 173.4, 156.4, 154.4, 156.8, 160.5, 167.0, 155.6, 145.8, 160.6, 160.5, 162.5, 156.5, 169.6, 160.0, 157.9, 157.4, 170.1, 152.1, 156.0, 166.0, 161.0, 163.1, 149.0, 153.5, 149.6, 151.9, 157.9, 153.6, 156.2, 155.1, 161.8, 165.8, 145.9, 153.5, 150.5, 161.0, 174.0, 147.0, 163.6, 156.4, 158.5, 160.2, 159.3, 142.2, 167.1, 166.4, 148.2, 184.1, 151.3, 178.6, 152.0, 180.4, 160.1, 168.1, 151.3, 157.1, 168.3, 162.8, 146.0, 153.9, 183.5, 173.9, 181.4, 144.3, 172.6, 148.5, 150.5, 145.3, 148.0, 170.8, 151.1, 165.5, 145.8, 140.8, 151.5, 170.0, 158.1, 160.3, 170.0, 152.9, 155.8, 163.3, 158.8, 174.1, 163.2, 176.8, 174.7, 171.8, 162.7, 179.0, 159.0, 170.7, 158.0, 153.4, 153.9, 160.5, 179.5, 166.2, 160.6, 151.9, 155.8, 164.5, 182.2, 172.2, 161.9, 165.2, 156.4, 167.6, 157.5, 150.0, 167.6, 158.5, 158.7, 160.0, 163.0, 153.0, 166.0, 165.6, 163.5, 149.5, 171.0, 150.0, 165.8, 164.5, 172.8, 156.8, 185.0, 148.0, 155.8, 166.0, 171.5, 152.5, 169.4, 145.4, 159.5, 155.0, 156.7, 158.9, 163.5, 154.4, 157.4, 156.9, 153.0, 155.0, 157.9, 172.4, 162.4, 157.0, 158.7, 161.9, 149.7, 157.5, 148.0, 145.2, 156.2, 147.5, 156.2, 165.9, 164.6, 149.6, 149.0, 155.0, 162.7, 145.7, 136.5, 153.5, 143.0, 154.4, 148.1, 154.5, 148.1, 165.9, 156.0, 149.2, 160.0, 137.9, 145.5, 154.9, 161.0, 158.5, 157.3, 155.8, 153.0, 160.2, 152.1, 162.8, 152.5, 166.0, 156.5, 174.4, 152.4, 150.4, 160.1, 164.5, 152.6, 159.9, 162.9, 160.3, 156.6, 156.4, 154.7, 159.8, 144.0, 151.7, 158.9, 160.4, 166.8, 157.4, 157.6, 158.3, 151.4, 161.8, 162.0, 160.9, 152.3, 157.4, 160.5, 145.4, 144.0, 147.5, 138.7, 160.6, 144.6, 155.7, 159.5, 158.4, 147.0, 143.2, 137.4, 144.5, 151.8, 151.9, 146.3, 171.5, 156.9, 138.7, 145.2, 143.9, 154.5, 149.0, 151.4, 147.9, 142.3, 155.4, 146.6, 143.3, 147.9, 149.0, 144.4, 167.8, 152.1, 158.1, 156.8, 162.8, 161.0, 164.1, 173.6, 164.4, 161.9, 167.9, 157.6, 156.5, 158.8, 168.5, 158.1, 177.2, 159.0, 156.1, 150.0, 156.6, 155.9, 160.0, 150.5, 161.9, 172.8, 156.4, 150.3, 165.0, 172.0, 157.6, 164.0, 158.4, 159.6, 150.2, 156.8, 159.4, 155.0, 157.0, 167.0, 162.0, 156.0, 154.5, 154.4, 170.0, 159.0, 161.5, 155.0, 171.5, 162.0, 166.0, 182.0, 159.5, 163.5, 155.0, 160.0, 174.5, 159.0, 158.5, 154.5, 170.0, 162.0, 176.0, 151.5, 157.0, 166.5, 173.0, 162.0, 152.0, 158.5, 149.5, 171.5, 163.5, 166.0, 173.0, 147.5, 158.0, 156.5, 173.5, 163.5, 159.0, 169.5, 169.5, 169.0, 177.0, 156.0, 155.0, 175.5, 153.5, 162.5, 160.5, 155.5, 167.0, 157.5, 166.5, 158.5, 159.5, 152.5, 159.0, 156.5, 158.0, 174.5, 164.0, 149.0, 153.0, 151.5, 166.0, 154.0, 156.5, 162.0, 158.5, 155.5, 155.0, 171.5, 169.5, 143.0, 154.0, 155.0, 156.0, 160.5, 153.0, 153.0, 149.5, 145.0, 163.0, 145.0, 169.0, 149.0, 147.0, 159.0, 150.5, 160.5, 156.0, 154.5, 168.5, 144.5, 155.0, 155.0, 152.0, 160.0, 160.0, 160.5, 145.5, 157.5, 149.0, 158.0, 150.5, 153.0, 151.3, 154.5, 164.9, 154.4, 169.0, 161.2, 157.0, 165.0, 143.0, 163.0, 150.1, 154.5, 152.8, 175.2, 158.5, 138.0, 146.5, 152.5, 156.0, 171.0, 146.0, 149.0, 160.5, 171.5, 165.5, 155.5, 165.0, 152.0, 148.5, 170.0, 134.0, 156.0, 168.5, 165.0, 141.9, 161.0, 160.9, 172.5, 157.9, 156.0, 157.2, 165.8, 155.0, 165.1, 166.5, 155.1, 167.3, 159.2, 162.0, 157.9, 155.0, 154.5, 155.1, 165.5, 158.2, 172.9, 143.3, 156.9, 148.5, 151.3, 136.4, 164.0, 153.5, 141.8, 157.0, 142.9, 152.0, 139.0, 154.0, 147.0, 140.6, 143.0, 143.0, 133.0, 139.0, 155.0, 139.0, 161.4, 140.5, 144.0, 147.2, 157.3, 157.5, 157.0, 147.5, 142.9, 149.4, 153.4, 170.3, 148.4, 151.9, 148.9, 145.2, 145.3, 154.5, 137.2, 141.6, 166.3, 148.9, 151.4, 154.9, 150.0, 150.9, 155.7, 144.8, 142.5, 153.2, 155.0, 147.0, 159.9, 185.3, 158.7, 161.5, 164.5, 164.5, 168.0, 160.5, 167.8, 157.5, 154.5, 179.7, 161.3, 158.9, 147.8, 158.5, 166.9, 157.0, 158.0, 162.1, 156.7, 158.8, 165.3, 154.0, 144.9, 153.8, 169.5, 173.0, 164.0, 159.0, 157.0, 177.2, 165.0, 170.9, 152.0, 161.5, 159.0, 160.5, 156.2, 150.0, 164.4, 152.2, 155.5, 137.4, 156.0, 160.0, 157.0, 161.8, 172.1, 167.3, 171.2, 156.0, 154.0, 174.2, 159.0, 158.5, 154.0, 174.1, 178.0, 160.3, 152.5, 166.5, 153.5, 156.3, 161.2, 150.3, 167.0, 143.8, 153.9, 163.1, 164.8, 156.0, 156.4, 157.1, 159.0, 156.2, 160.0, 157.5, 157.1, 150.3, 156.1, 165.1, 182.0, 153.9, 157.5, 153.8, 163.0, 161.6, 146.0, 167.6, 163.5, 154.3, 167.0, 160.0, 168.2, 175.3, 162.1, 162.2, 168.0, 182.0, 164.1, 157.2, 156.9, 153.3, 156.0, 147.5, 168.5, 158.7, 157.6, 180.3, 173.5, 157.5, 155.2, 156.7, 161.4, 152.0, 169.6, 167.5, 172.2, 152.1, 171.4, 164.1, 159.1, 172.8, 162.4, 180.5, 177.0, 176.8, 180.5, 156.1, 178.4, 153.0, 184.0, 170.5, 170.3, 165.5, 163.0, 163.9, 176.5, 180.0, 171.5, 164.2, 163.1, 157.8, 170.2, 183.4, 172.6, 164.0, 153.8, 179.1, 153.0, 175.0, 157.5, 171.1, 172.5, 155.4, 178.7, 163.9, 181.1, 164.5, 164.3, 150.3, 154.5, 151.3, 182.0, 154.8, 159.2, 164.6, 169.4, 169.5, 168.5, 158.2, 157.3, 156.9, 170.8, 165.3, 165.0, 164.5, 149.0, 163.6, 162.0, 155.6, 178.5, 171.4, 157.2, 174.0, 161.8, 161.6, 170.0, 163.4, 162.2, 168.4, 162.5, 160.6, 148.5, 162.5, 165.3, 157.0, 147.3, 172.4, 151.9, 160.0, 158.0, 153.0, 164.7, 171.0, 160.5, 142.9, 166.0, 168.7, 156.0, 162.9, 163.4, 164.2, 157.7, 163.6, 164.2, 157.8, 148.0, 177.2, 158.9, 154.3, 163.8, 159.0, 159.6, 159.0, 159.0, 158.7, 161.3, 163.0, 149.6, 168.8, 164.0, 158.5, 157.8, 157.3, 152.0, 169.0, 166.8, 179.3, 159.3, 172.7, 175.5, 183.7, 157.3, 167.5, 149.5, 152.5, 146.7, 158.8, 145.5, 160.0, 144.8, 140.7, 130.5, 172.2, 143.7, 149.3, 143.2, 171.5, 160.2, 152.3, 133.1, 135.2, 138.6, 132.6, 159.5, 150.4, 149.4, 150.4, 147.8, 147.7, 150.6, 155.7, 152.9, 142.7, 129.6, 143.7, 136.5, 147.2, 140.4, 131.7, 134.8, 159.1, 142.7, 152.5, 134.2, 165.2, 144.2, 168.6, 153.8, 153.6, 154.2, 164.2, 178.6, 154.0, 151.7, 162.0, 176.2, 157.3, 158.7, 166.1, 161.5, 138.7, 166.8, 162.5, 154.7, 177.3, 135.3, 146.5, 132.9, 146.4, 138.4, 161.6, 154.6, 151.8, 166.8, 152.5, 153.8, 151.0, 160.5, 155.4, 157.8, 169.2, 150.8, 152.0, 152.6, 146.2, 158.5, 159.3, 178.0, 153.6, 160.1, 146.1, 147.6, 169.7, 144.3, 154.0, 155.5, 150.0, 149.8, 158.6, 167.0, 150.5, 174.9, 153.2, 159.1, 165.0, 173.0, 153.6, 167.0, 166.1, 156.8, 166.7, 158.0, 171.0, 167.8, 176.5, 164.0, 146.5, 150.5, 155.5, 159.6, 163.0, 170.5, 160.5, 180.0, 157.2, 139.5, 164.2, 149.7, 158.0, 159.0, 156.5, 170.5, 160.0, 147.0, 156.0, 165.0, 152.4, 153.2, 170.3, 163.3, 154.7, 161.3, 172.2, 149.2, 174.0, 162.4, 158.8, 161.4, 166.8, 147.7, 141.5, 152.3, 153.6, 170.7, 149.3, 164.0, 153.7, 171.8, 156.2, 157.0, 158.0, 154.0, 164.2, 158.6, 158.1, 151.5, 160.0, 155.7, 165.7, 141.1, 142.7, 167.5, 142.5, 146.0, 147.8, 164.5, 160.4, 143.9, 141.6, 149.1, 162.0, 161.5, 152.5, 159.5, 144.7, 150.9, 134.4, 158.8, 167.0, 167.1, 137.5, 146.2, 152.1, 138.9, 163.5, 164.0, 164.2, 161.2, 154.0, 161.4, 156.0, 160.0, 164.0, 159.0, 159.0, 166.0, 154.0, 154.0, 154.0, 168.0, 147.0, 153.5, 164.5, 162.0, 159.0, 159.0, 163.0, 162.5, 158.0, 173.0, 159.6, 148.5, 168.0, 155.2, 169.5, 156.5, 157.2, 179.1, 178.5, 170.0, 161.0, 165.4, 167.1, 163.6, 165.3, 161.2, 165.5, 165.7, 149.7, 167.4, 165.5, 166.1, 163.4, 170.6, 171.3, 171.5, 158.2, 174.6, 165.8, 160.8, 181.3, 166.3, 171.1, 170.3, 166.8, 153.0, 170.7, 165.6, 165.0, 167.2, 154.6, 175.2, 170.1, 172.5, 161.0, 156.7, 164.8, 162.5, 166.0, 174.0, 160.0, 173.0, 161.0, 165.5, 159.5, 169.5, 158.0, 169.5, 154.0, 159.5, 154.4, 170.5, 168.7, 162.8, 152.0, 170.0, 157.2, 160.4, 165.9, 160.0, 160.3, 160.7, 166.9, 156.2, 166.5, 170.7, 161.7, 160.5, 166.5, 158.6, 166.9, 163.4, 156.7, 158.8, 155.3, 163.4, 161.5, 156.7, 162.8, 161.7, 146.0, 141.5, 150.0, 163.5, 150.1, 141.4, 145.0, 142.1, 136.6, 135.8, 141.6, 147.9, 145.6, 134.3, 150.0, 137.9, 138.3, 146.6, 139.4, 142.9, 149.5, 146.1, 140.0, 144.9, 130.4, 163.5, 153.1, 136.5, 140.0, 141.1, 141.0, 142.5, 148.0, 137.0, 138.5, 142.5, 131.7, 139.0, 139.1, 143.5, 146.8, 136.0, 150.5, 143.3, 164.0, 146.5, 136.1, 138.5, 134.6, 156.6, 137.8, 157.6, 148.0, 148.0, 144.8, 146.0, 149.0, 146.6, 135.2, 144.5, 153.4, 142.0, 147.0, 147.7, 153.0, 147.5, 153.9, 150.5, 146.5, 156.5, 172.3, 152.3, 164.0, 157.0, 148.5, 155.2, 162.5, 153.5, 149.9, 139.0, 153.6, 153.5, 156.1, 157.2, 159.2, 148.1, 162.0, 138.5, 136.5, 160.4, 145.0, 142.0, 145.9, 158.8, 153.9, 158.6, 158.5, 158.7, 164.5, 162.2, 157.1, 165.5, 153.9, 156.8, 162.8, 162.1, 161.6, 149.0, 161.3, 168.0, 162.4, 153.2, 157.0, 161.9, 146.6, 156.7, 150.0, 170.9, 154.1, 167.6, 168.9, 153.1, 159.4, 164.6, 163.1, 157.0, 156.0, 159.2, 162.5, 161.4, 161.3, 163.0, 151.9, 157.6, 161.0, 165.5, 160.6, 170.5, 157.6, 164.7, 150.5, 153.8, 168.4, 151.1, 149.5, 148.8, 147.4, 148.8, 162.4, 165.6, 149.4, 137.6, 155.4, 160.2, 168.2, 150.0, 136.5, 138.4, 160.3, 152.5, 163.5, 152.1, 141.5, 157.8, 145.2, 151.3, 138.5, 140.1, 140.4, 134.9, 148.7, 155.9, 134.0, 160.5, 128.0, 149.2, 166.6, 136.1, 162.0, 162.4, 151.5, 170.0, 166.0, 159.2, 161.5, 152.0, 164.8, 153.4, 173.8, 158.2, 169.9, 171.0, 175.0, 160.9, 159.9, 181.6, 167.6, 161.5, 173.5, 160.7, 157.9, 155.9, 152.1, 173.5, 178.6, 157.5, 149.5, 162.6, 171.0, 168.9, 152.2, 153.2, 152.0, 170.0, 156.0, 157.0, 168.0, 154.0, 159.0, 162.5, 147.0, 154.0, 150.0, 164.0, 156.0, 170.0, 159.0, 147.0, 175.0, 157.0, 153.0, 168.0, 166.0, 153.0, 144.0, 155.0, 159.0, 171.0, 160.0, 153.0, 169.0, 161.0, 169.5, 167.0, 171.4, 172.0, 168.5, 158.0, 163.0, 152.0, 174.0, 180.0, 176.6, 158.5, 152.0, 173.8, 153.6, 161.4, 158.8, 164.0, 170.0, 169.0, 175.5, 168.3, 162.0, 153.6, 148.9, 158.1, 174.8, 159.8, 159.0, 154.0, 158.0, 152.1, 157.1, 150.0, 153.0, 165.2, 166.1, 153.6, 161.1, 168.6, 159.8, 150.4, 163.0, 151.3, 161.3, 167.5, 156.0, 154.4, 161.9, 163.0, 153.1, 162.0, 141.1, 168.4, 162.9, 166.0, 169.1, 158.3, 157.1, 165.3, 149.5, 147.7, 161.0, 171.2, 162.8, 167.0, 155.3, 161.1, 151.9, 171.8, 157.0, 168.4, 173.2, 168.8, 155.0, 150.2, 149.3, 166.6, 155.5, 163.6, 174.8, 158.3, 167.3, 162.2, 161.1, 171.5, 157.6, 160.8, 155.8, 159.5, 169.0, 167.0, 171.3, 162.5, 162.0, 160.8, 159.5, 165.8, 171.4, 160.6, 160.5, 161.0, 167.7, 164.0, 168.0, 163.4, 157.8, 181.0, 168.9, 167.8, 160.0, 176.0, 160.0, 174.0, 157.0, 151.0, 153.8, 183.0, 170.8, 166.0, 150.0, 157.5, 156.0, 172.4, 170.0, 183.0, 187.5, 155.0, 158.0, 162.0, 158.4, 161.7, 173.8, 169.5, 165.2, 161.7, 157.0, 154.8, 165.8, 155.0, 165.5, 156.5, 175.6, 168.0, 187.6, 165.9, 156.4, 174.0, 174.5, 172.7, 157.2, 169.8, 170.6, 158.3, 166.9, 158.2, 164.2, 161.8, 169.3, 170.2, 149.9, 170.4, 172.2, 171.2, 179.3, 164.1, 172.4, 176.3, 181.4, 175.6, 169.2, 156.5, 168.2, 167.3, 161.9, 173.2, 156.9, 187.3, 168.3, 167.9, 176.8, 162.6, 154.3, 171.2, 167.2, 179.9, 133.6, 154.3, 151.2, 133.6, 155.3, 152.7, 137.2, 168.4, 159.8, 156.5, 149.2, 157.9, 150.1, 142.8, 150.0, 132.4, 143.0, 156.2, 156.3, 144.8, 164.9, 155.2, 160.3, 142.4, 140.6, 152.4, 156.2, 151.4, 166.9, 156.2, 142.9, 156.5, 177.1, 165.9, 145.5, 171.4, 156.5, 148.0, 156.3, 160.5, 168.5, 166.9, 155.8, 163.8, 154.4, 167.6, 149.5, 158.0, 157.6, 157.5, 166.0, 148.6, 151.4, 152.7, 156.0, 146.8, 147.9, 141.1, 140.4, 141.8, 148.7, 153.3, 161.0, 151.5, 133.6, 143.9, 144.6, 137.5, 137.6, 136.8, 146.3, 168.0, 145.4, 140.0, 150.3, 150.4, 147.1, 141.3, 143.0, 141.1, 154.0, 151.0, 151.4, 152.8, 142.5, 147.7, 145.5, 162.5, 145.3, 179.6, 161.5, 156.8, 158.1, 147.6, 157.8, 154.8, 162.0, 161.2, 153.7, 154.7, 170.0, 162.8, 157.6, 167.1, 162.4, 145.0, 173.0, 160.1, 174.0, 174.0, 159.9, 166.2, 140.4, 148.5, 156.0, 145.6, 164.9, 139.2, 146.1, 144.6, 150.2, 170.4, 148.2, 148.2, 163.4, 147.5, 159.0, 148.0, 153.8, 157.8, 145.0, 150.0, 157.1, 159.1, 164.3, 163.6, 152.2, 160.4, 155.2, 148.2, 155.2, 173.3, 158.0, 168.6, 156.9, 160.0, 154.3, 176.6, 158.0, 149.0, 157.1, 163.2, 160.7, 155.5, 152.5, 159.1, 156.6, 155.1, 152.6, 167.5, 148.7, 161.6, 163.8, 143.9, 168.9, 155.5, 158.6, 156.8, 155.5, 167.3, 150.6, 173.9, 165.9, 165.4, 172.1, 171.2, 168.0, 165.0, 156.3, 151.7, 163.8, 168.2, 146.9, 159.1, 155.8, 154.1, 151.0, 158.8, 164.5, 159.5, 170.0, 152.2, 171.0, 154.5, 160.8, 158.5, 145.4, 172.8, 151.7, 149.7, 164.2, 172.5, 136.9, 163.3, 164.5, 153.5, 170.5, 163.1, 154.2, 157.1, 164.8, 153.0, 165.1, 166.1, 160.0, 149.2, 161.0, 152.8, 162.5, 168.9, 139.0, 167.8, 153.2, 158.8, 176.5, 137.4, 165.1, 147.8, 147.3, 163.6, 155.5, 160.8, 156.1, 165.4, 156.2, 154.4, 154.7, 170.7, 159.5, 158.6, 150.5, 156.7, 153.8, 169.9, 168.0, 152.0, 155.7, 158.6, 152.7, 155.2, 147.5, 147.4, 151.7, 163.6, 156.2, 150.1, 159.9, 149.1, 151.8, 160.2, 150.5, 160.3, 140.7, 154.8, 168.5, 171.0, 178.9, 173.5, 174.7, 182.5, 171.0, 165.3, 175.0, 166.4, 157.8, 177.9, 179.0, 149.1, 160.8, 149.6, 165.2, 167.9, 169.5, 179.3, 168.2, 180.0, 164.3, 166.1, 157.5, 166.3, 162.6, 173.5, 154.4, 184.1, 179.0, 179.0, 168.8, 153.2, 150.5, 150.4, 153.4, 158.6, 143.4, 154.7, 147.5, 149.6, 153.6, 149.4, 160.0, 156.7, 144.5, 154.6, 158.8, 162.5, 146.0, 147.1, 152.9, 165.3, 156.5, 154.7, 157.6, 155.6, 145.2, 150.5, 153.5, 158.0, 160.8, 148.3, 145.2, 156.0, 150.7, 147.9, 155.1, 173.1, 163.8, 166.0, 153.2, 155.8, 148.2, 156.3, 169.4, 162.9, 149.9, 158.6, 174.1, 153.1, 166.8, 152.9, 164.6, 156.7, 150.5, 163.5, 156.6, 156.5, 160.2, 173.6, 151.9, 161.6, 154.9, 152.9, 153.1, 158.9, 145.4, 152.7, 171.3, 159.9, 161.8, 158.0, 176.0, 157.8, 156.5, 156.9, 146.9, 175.5, 155.5, 172.9, 177.8, 152.1, 176.5, 171.6, 157.8, 167.6, 169.7, 154.0, 157.3, 173.2, 166.9, 159.4, 154.2, 168.3, 161.1, 178.6, 165.8, 162.8, 161.9, 180.5, 160.6, 177.8, 156.1, 155.3, 171.3, 164.3, 162.4, 162.7, 162.8, 177.6, 165.8, 172.3, 164.0, 163.6, 146.6, 179.8, 153.6, 181.0, 158.5, 172.0, 151.5, 154.4, 168.3, 157.3, 181.0, 158.7, 157.4, 169.4, 157.5, 170.1, 174.5, 165.0, 156.3, 175.2, 164.0, 158.4, 155.1, 150.5, 150.1, 153.5, 158.9, 148.5, 167.8, 154.5, 147.9, 165.8, 146.0, 145.3, 153.3, 165.5, 152.5, 171.0, 154.4, 155.1, 147.5, 161.4, 143.7, 161.2, 180.9, 162.3, 152.8, 159.3, 152.2, 151.5, 160.6, 161.3, 168.1, 151.7, 163.2, 171.4, 161.3, 162.3, 147.9, 155.5, 164.4, 162.3, 151.3, 153.6, 149.9, 160.9, 148.2, 157.5, 168.3, 156.6, 163.9, 153.1, 152.7, 161.9, 165.4, 153.6, 159.0, 157.0, 159.1, 143.5, 161.2, 151.7, 158.4, 156.1, 145.6, 162.5, 156.6, 164.5, 159.0, 174.0, 170.0, 165.4, 162.4, 165.8, 152.4, 175.0, 157.0, 168.5, 176.1, 172.1, 167.0, 154.5, 174.6, 169.5, 168.3, 168.1, 149.2, 146.8, 160.6, 135.2, 151.5, 162.1, 155.8, 156.8, 156.3, 144.0, 170.5, 166.9, 163.8, 157.6, 154.8, 162.4, 165.1, 153.2, 163.4, 153.3, 156.4, 160.8, 152.8, 162.0, 163.0, 169.9, 154.6, 147.4, 168.5, 177.2, 163.7, 163.8, 152.1, 149.5, 139.0, 151.2, 154.2, 166.0, 145.8, 150.8, 157.8, 154.9, 156.0, 152.7, 154.3, 154.4, 158.9, 145.6, 146.0, 160.4, 158.4, 156.9, 160.8, 150.9, 163.4, 157.1, 161.3, 156.3, 154.4, 159.5, 167.9, 151.8, 145.5, 143.8, 158.8, 158.6, 161.6, 142.8, 146.8, 157.8, 169.6, 156.8, 163.8, 154.9, 174.8, 168.2, 156.7, 149.2, 165.5, 161.3, 169.1, 155.0, 175.5, 166.6, 157.3, 149.9, 160.3, 160.8, 159.3, 166.3, 152.9, 151.3, 154.8, 150.4, 167.3, 155.2, 151.9, 151.0, 148.5, 160.7, 160.2, 153.2, 164.7, 154.5, 179.6, 169.9, 162.0, 156.0, 178.0, 175.9, 163.5, 177.0, 172.0, 185.5, 159.8, 169.1, 157.1, 177.0, 156.9, 165.4, 164.9, 180.0, 157.4, 168.0, 163.8, 167.4, 166.2, 181.9, 166.1, 169.0, 166.0, 152.1, 171.9, 172.9, 159.0, 178.1, 160.5, 167.1, 150.9, 155.0, 166.2, 162.7, 173.3, 169.6, 162.0, 188.4, 158.6, 155.3, 161.5, 165.0, 161.8, 181.0, 166.6, 168.1, 154.3, 159.3, 153.3, 152.8, 163.0, 156.2, 169.0, 172.9, 177.3, 165.4, 170.8, 175.6, 159.4, 161.9, 160.5, 158.9, 160.1, 146.3, 158.5, 162.2, 151.1, 147.5, 157.5, 150.1, 143.2, 147.0, 160.6, 151.2, 134.4, 145.4, 158.7, 161.8, 149.3, 149.0, 157.2, 160.9, 156.4, 144.0, 155.0, 145.9, 158.2, 164.9, 153.0, 149.3, 162.2, 145.0, 144.5, 142.3, 157.0, 166.1, 167.5, 167.9, 154.7, 151.4, 160.0, 161.5, 152.4, 154.8, 157.5, 150.5, 150.5, 159.5, 153.0, 160.0, 153.0, 165.0, 150.0, 158.0, 160.5, 172.5, 173.6, 156.8, 156.5, 147.8, 167.2, 151.0, 143.7, 145.1, 156.1, 151.6, 149.8, 150.0, 169.6, 157.4, 153.7, 162.7, 161.6, 144.6, 145.5, 148.4, 160.0, 156.8, 150.5, 154.3, 153.3, 147.6, 150.0, 158.0, 143.7, 167.2, 156.5, 154.1, 157.0, 156.6, 151.5, 170.0, 167.9, 171.0, 171.5, 172.0, 161.4, 165.1, 174.4, 173.1, 169.0, 173.3, 178.4, 161.4, 175.0, 175.5, 174.8, 159.3, 168.0, 170.7, 170.0, 170.6, 171.5, 155.2, 162.5, 177.8, 167.4, 165.7, 153.1, 169.4, 161.0, 173.6, 171.6, 166.9, 167.8, 161.5, 179.8, 169.0, 168.6, 168.8, 164.9, 162.0, 162.1, 163.5, 176.0, 162.6, 169.5, 168.2, 154.4, 159.1, 170.3, 164.3, 170.4, 165.2, 153.8, 172.0, 157.8, 160.0, 180.0, 176.0, 153.2, 164.5, 180.0, 168.0, 167.0, 176.2, 171.0, 155.8, 158.3, 161.8, 157.0, 149.9, 153.8, 156.4, 168.4, 171.8, 160.6, 164.4, 152.3, 167.8, 171.8, 155.7, 165.0, 155.3, 169.9, 176.5, 167.0, 176.3, 163.6, 171.3, 167.5, 175.8, 155.0, 171.4, 171.0, 162.6, 191.2, 172.5, 171.5, 173.6, 176.8, 155.3, 151.6, 160.2, 150.2, 136.5, 146.5, 141.0, 151.6, 143.1, 148.6, 148.3, 145.4, 161.0, 143.1, 147.0, 145.7, 140.4, 155.5, 161.6, 144.0, 146.2, 150.0, 154.5, 148.7, 156.7, 150.9, 152.4, 143.0, 145.6, 137.9, 141.8, 164.8, 160.3, 167.4, 153.2, 156.7, 147.0, 145.9, 157.4, 169.5, 149.7, 154.9, 153.5, 159.7, 150.2, 159.8, 157.6, 170.4, 148.5, 159.9, 160.6, 155.5, 157.4, 160.0, 160.5, 171.7, 157.5, 158.5, 182.0, 159.5, 165.7, 164.0, 178.0, 168.1, 182.9, 149.2, 172.4, 163.2, 165.6, 156.8, 169.7, 174.8, 155.7, 160.9, 161.5, 155.0, 182.5, 165.5, 156.1, 156.4, 148.8, 164.5, 176.7, 170.7, 156.0, 164.7, 176.3, 166.7, 156.8, 168.5, 162.8, 157.2, 163.7, 181.2, 173.6, 171.6, 155.6, 154.5, 175.5, 160.1, 153.5, 180.3, 172.2, 167.4, 165.9, 164.4, 151.1, 157.8, 185.0, 174.8, 180.5, 166.1, 188.0, 153.9, 153.8, 168.0, 168.6, 158.9, 154.5, 158.0, 141.9, 147.8, 151.4, 153.4, 147.4, 162.4, 156.7, 137.3, 174.5, 164.9, 134.1, 141.9, 150.4, 164.2, 145.5, 155.3, 145.3, 141.8, 153.2, 170.8, 163.8, 157.3, 172.2, 171.2, 174.2, 166.4, 162.3, 173.6, 160.6, 162.4, 161.6, 160.4, 160.0, 161.6, 155.1, 156.6, 156.1, 176.6, 147.3, 154.4, 163.3, 151.4, 161.3, 151.0, 168.2, 156.8, 174.0, 155.8, 166.4, 177.3, 154.3, 152.9, 147.8, 179.0, 155.8, 169.2, 165.8, 147.3, 164.8, 163.9, 171.8, 154.3, 167.6, 161.9, 161.5, 165.8, 156.8, 163.2, 154.8, 174.4, 165.0, 149.2, 168.7, 150.0, 151.3, 156.8, 187.8, 145.3, 151.6, 154.7, 158.9, 168.0, 163.2, 160.2, 158.2, 161.4, 177.6, 153.4, 151.3, 159.0, 160.2, 164.5, 158.4, 167.0, 158.3, 150.0, 163.0, 151.2, 169.2, 164.8, 180.8, 172.0, 163.3, 172.0, 181.3, 160.4, 148.3, 156.1, 174.4, 155.3, 169.8, 158.0, 165.0, 163.2, 158.0, 144.2, 151.9, 158.5, 150.6, 157.9, 146.0, 158.7, 148.5, 154.9, 150.6, 147.9, 161.0, 155.2, 155.9, 162.0, 146.7, 143.0, 161.0, 177.8, 149.8, 148.4, 164.9, 160.2, 152.5, 164.8, 159.9, 155.0, 154.6, 156.0, 155.1, 155.8, 170.9, 158.0, 144.1, 147.1, 165.0, 155.6, 156.2, 145.5, 144.0, 163.4, 150.5, 154.5, 149.4, 153.5, 144.7, 143.3, 149.5, 148.6, 142.0, 159.6, 139.9, 147.0, 135.7, 147.7, 152.8, 152.5, 146.2, 151.5, 146.6, 152.3, 159.3, 148.5, 144.2, 157.6, 164.1, 150.9, 153.8, 162.5, 168.3, 159.9, 163.0, 150.5, 132.4, 167.8, 169.1, 161.6, 158.1, 149.0, 164.4, 158.8, 160.4, 142.1, 154.0, 152.6, 142.4, 159.5, 168.2, 171.1, 146.6, 164.3, 163.0, 151.0, 170.0, 163.5, 160.0, 144.1, 137.5, 149.7, 135.8, 151.5, 147.2, 156.0, 145.9, 173.2, 151.5, 149.9, 142.4, 148.9, 149.9, 154.0, 143.1, 150.9, 141.4, 140.2, 156.4, 156.0, 161.9, 146.8, 145.7, 164.1, 141.9, 148.1, 148.0, 163.7, 158.7, 155.8, 140.0, 145.5, 156.5, 163.4, 151.5, 141.4, 163.7, 157.8, 167.9, 159.0, 154.8, 156.2, 157.0, 141.4, 161.3, 161.9, 162.0, 155.0, 152.5, 149.2, 148.0, 150.1, 169.6, 151.2, 150.8, 154.4, 153.4, 164.6, 145.5, 148.6, 173.6, 149.5, 152.0, 144.5, 162.4, 133.0, 152.0, 153.5, 156.5, 161.0, 163.9, 163.2, 160.4, 158.5, 156.7, 152.3, 153.2, 169.2, 145.7, 151.4, 153.8, 148.4, 161.5, 152.5, 155.8, 148.1, 139.8, 145.7, 145.9, 159.8, 154.9, 159.7, 146.8, 146.9, 148.2, 154.5, 146.7, 140.6, 161.5, 158.8, 141.5, 143.9, 152.8, 151.9, 137.7, 142.5, 157.5, 151.4, 138.9, 155.0, 162.9, 149.9, 168.0, 156.0, 149.5, 153.0, 146.3, 138.1, 132.5, 162.3, 150.0, 153.4, 157.3, 158.7, 156.6, 134.5, 155.2, 162.0, 142.4, 141.0, 144.0, 160.5, 133.7, 144.8, 145.9, 152.0, 142.4, 138.9, 148.6, 137.0, 140.2, 137.4, 164.4, 172.5, 160.0, 167.4, 155.1, 172.9, 154.1, 148.0, 148.5, 167.7, 161.2, 157.1, 163.5, 164.6, 157.0, 158.9, 172.6, 164.2, 153.3, 170.0, 165.4, 162.7, 163.6, 177.3, 176.0, 156.8, 161.1, 162.6, 167.4, 148.5, 149.0, 160.4, 158.6, 159.0, 143.7, 155.5, 149.5, 160.4, 148.4, 159.6, 156.0, 155.0, 150.3, 149.5, 151.8, 155.5, 154.5, 153.4, 155.5, 147.0, 162.5, 161.6, 158.6, 170.5, 155.4, 172.5, 156.1, 153.5, 147.8, 152.2, 170.5, 178.6, 164.0, 164.0, 164.7, 175.6, 166.8, 170.6, 160.0, 162.1, 167.7, 163.4, 157.5, 166.2, 148.0, 162.3, 151.8, 172.5, 149.0, 146.6, 161.6, 152.0, 137.0, 143.5, 140.5, 148.3, 142.0, 150.5, 141.0, 162.9, 145.5, 142.7, 136.0, 154.0, 178.6, 162.5, 175.5, 174.0, 152.6, 167.1, 167.9, 167.2, 161.5, 166.0, 174.5, 168.5, 156.0, 170.0, 179.4, 165.3, 157.7, 171.0, 162.0, 156.5, 174.7, 159.5, 159.0, 172.5, 178.6, 184.0, 162.0, 171.8, 162.0, 165.5, 164.9, 150.0, 164.0, 169.0, 165.0, 179.0, 165.0, 154.6, 182.7, 171.4, 159.1, 181.4, 163.3, 158.7, 168.8, 163.9, 148.9, 160.5, 156.0, 154.6, 156.9, 154.5, 163.5, 148.6, 183.5, 150.9, 162.7, 152.4, 154.8, 156.0, 157.0, 179.9, 153.1, 155.0, 157.5, 174.5, 166.5, 177.5, 165.0, 167.8, 178.5, 161.8, 154.9, 166.8, 164.3, 157.3, 162.4, 164.3, 168.1, 157.0, 158.0, 162.2, 170.3, 157.5, 152.9, 175.5, 179.0, 171.8, 155.0, 172.6, 184.0, 160.5, 159.0, 155.5, 174.0, 172.6, 173.8, 182.5, 181.7, 169.6, 180.8, 171.3, 165.6, 182.8, 153.2, 165.5, 177.5, 153.9, 180.4, 171.8, 166.8, 157.5, 172.8, 156.0, 158.7, 162.3, 164.0, 168.6, 158.2, 176.0, 162.0, 161.0, 155.1, 175.0, 165.8, 171.8, 171.9, 169.0, 162.0, 169.8, 162.5, 155.0, 158.4, 158.5, 162.5, 160.0, 163.6, 160.9, 179.2, 177.6, 165.6, 173.2, 165.8, 161.4, 164.0, 163.2, 164.5, 174.9, 171.3, 167.6, 184.4, 157.2, 159.5, 157.2, 153.9, 170.8, 174.2, 162.1, 174.0, 161.2, 175.9, 163.0, 168.5, 159.5, 164.6, 162.5, 162.5, 173.1, 164.4, 173.2, 169.8, 173.8, 182.6, 163.4, 163.9, 166.5, 166.2, 153.8, 180.0, 170.0, 151.5, 165.5, 172.0, 180.2, 163.5, 167.5, 176.5, 176.8, 163.0, 179.5, 173.3, 170.0, 170.3, 184.7, 163.9, 172.0, 159.1, 162.3, 150.1, 161.0, 157.3, 172.0, 174.9, 164.9, 159.0, 185.6, 174.5, 182.0, 158.2, 166.5, 162.5, 146.9, 155.5, 169.9, 163.8, 169.3, 155.2, 168.4, 168.1, 155.4, 166.6, 165.0, 158.1, 165.0, 166.6, 153.0, 165.0, 158.4, 171.2, 162.2, 160.6, 156.0, 162.3, 168.5, 169.0, 151.0, 159.5, 152.2, 173.0, 155.8, 158.4, 164.7, 175.0, 169.1, 166.3, 166.0, 158.0, 178.0, 170.0, 162.0, 174.5, 159.6, 164.2, 179.8, 173.0, 153.8, 164.8, 172.5, 172.2, 173.4, 154.8, 170.0, 163.0, 161.0, 167.0, 170.4, 158.5, 157.0, 161.0, 153.0, 163.0, 165.0, 179.0, 148.0, 144.7, 158.0, 169.0, 147.8, 153.0, 165.5, 184.5, 171.0, 146.5, 175.0, 162.5, 160.0, 160.0, 168.5, 159.5, 178.3, 151.0, 166.5, 166.6, 171.2, 176.0, 162.5, 163.0, 168.5, 162.0, 176.0, 162.0, 162.3, 168.5, 174.5, 174.2, 157.8, 160.6, 186.0, 168.5, 180.0, 174.0, 160.8, 155.3, 172.6, 166.8, 181.6, 160.0, 190.0, 163.6, 176.0, 164.6, 169.3, 163.5, 172.8, 180.5, 161.0, 153.9, 176.9, 155.3, 186.1, 157.2, 163.5, 169.6, 173.5, 158.8, 170.5, 176.5, 169.0, 174.9, 169.5, 171.5, 154.9, 163.0, 179.0, 178.0, 176.2, 173.8, 161.5, 165.2, 167.5, 162.1, 168.5, 160.5, 174.6, 180.0, 161.5, 168.5, 161.5, 158.5, 161.5, 168.2, 149.1, 149.3, 173.0, 181.5, 150.1, 161.6, 153.5, 150.0, 153.5, 150.5, 151.2, 165.5, 161.6, 167.8, 174.7, 166.2, 165.0, 157.5, 165.0, 162.0, 149.5, 161.2, 177.5, 164.8, 160.6, 161.5, 155.3, 164.5, 157.2, 163.3, 172.0, 172.0, 164.6, 174.0, 169.2, 160.9, 161.1, 162.0, 187.9, 158.0, 163.0, 158.1, 175.0, 160.8, 169.4, 162.0, 177.0, 157.2, 160.0, 156.2, 168.3, 157.8, 166.2, 163.5, 169.4, 156.6, 164.5, 167.7, 155.1, 157.4, 137.0, 148.5, 139.5, 142.0, 177.5, 149.9, 140.1, 161.9, 154.0, 159.8, 145.1, 141.0, 144.8, 152.5, 154.5, 155.9, 144.0, 163.2, 165.0, 145.1, 160.5, 159.0, 168.5, 175.0, 166.2, 166.8, 158.0, 168.2, 165.0, 174.3, 161.4, 169.5, 179.5, 163.5, 171.2, 179.8, 165.2, 151.0, 159.5, 155.2, 168.0, 157.0, 176.8, 157.4, 171.5, 158.3, 166.1, 154.0, 180.0, 172.8, 180.3, 154.3, 159.5, 160.0, 166.0, 156.5, 153.0, 165.0, 158.0, 170.2, 160.5, 168.2, 168.2, 162.2, 168.3, 176.5, 190.5, 165.0, 169.5, 152.6, 165.2, 148.5, 155.0, 162.0, 155.9, 163.0, 174.0, 158.0, 163.5, 159.7, 175.5, 165.3, 181.2, 153.5, 157.5, 184.1, 177.5, 157.6, 166.5, 163.0, 161.0, 162.5, 187.5, 175.0, 177.0, 174.2, 166.5, 163.5, 173.0, 175.7, 177.0, 170.6, 158.5, 172.3, 182.2, 151.8, 150.5, 158.6, 178.7, 163.6, 166.0, 180.9, 172.4, 162.0, 182.5, 159.8, 157.0, 177.8, 174.0, 175.2, 164.5, 160.9, 168.8, 164.7, 158.0, 174.8, 172.2, 160.1, 150.1, 179.5, 163.5, 177.5, 167.0, 167.0, 159.5, 158.2, 159.0, 163.7, 167.0, 168.5, 153.9, 165.0, 153.8, 159.1, 179.5, 175.8, 170.5, 159.5, 166.4, 164.5, 161.0, 149.5, 154.8, 165.0, 159.5, 167.0, 175.1, 174.9, 148.0, 172.8, 168.0, 183.4, 170.0, 159.8, 148.6, 155.6, 159.1, 147.9, 152.3, 148.3, 155.5, 144.2, 151.5, 149.6, 144.0, 154.4, 144.0, 166.5, 141.9, 169.6, 156.2, 151.3, 143.0, 162.9, 159.3, 153.2, 147.8, 144.1, 167.8, 144.6, 142.5, 150.5, 161.6, 148.5, 165.9, 150.0, 164.5, 135.0, 149.0, 149.0, 157.8, 153.2, 136.0, 163.5, 146.5, 154.5, 160.5, 156.5, 150.0, 160.0, 150.5, 140.0, 149.0, 153.5, 160.3, 153.6, 157.5, 159.2, 148.5, 148.6, 157.0, 166.0, 153.0, 159.0, 139.2, 153.2, 154.0, 149.8, 145.9, 158.3, 157.0, 150.5, 157.2, 158.9, 144.5, 156.6, 158.5, 163.0, 153.2, 146.5, 150.5, 170.2, 150.4, 162.5, 152.1, 152.8, 160.3, 144.4, 162.0, 160.6, 172.1, 155.9, 174.5, 157.0, 163.0, 166.2, 158.4, 156.2, 157.8, 179.1, 164.4, 171.3, 173.6, 172.4, 156.0, 171.0, 162.0, 171.2, 162.0, 166.8, 156.0, 172.0, 155.3, 169.2, 157.0, 160.0, 176.7, 160.5, 158.5, 153.0, 161.6, 183.1, 154.6, 165.2, 154.0, 175.9, 173.0, 168.0, 163.3, 171.1, 174.0, 174.5, 171.0, 179.5, 161.4, 164.5, 163.0, 183.0, 166.5, 170.2, 170.7, 164.7, 173.0, 159.3, 160.5, 168.3, 173.3, 156.0, 169.0, 173.0, 165.0, 162.6, 162.0, 177.3, 157.6, 172.0, 157.0, 172.0, 157.8, 176.7, 157.5, 168.0, 165.5, 183.7, 184.0, 176.1, 158.0, 173.8, 166.5, 159.0, 161.0, 175.3, 158.3, 170.0, 161.8, 157.7, 149.8, 162.4, 161.4, 154.7, 165.8, 157.3, 161.5, 150.7, 150.3, 150.2, 168.0, 161.7, 164.6, 159.0, 162.9, 168.7, 152.7, 161.3, 168.1, 147.1, 153.5, 173.8, 164.5, 146.5, 151.4, 159.2, 150.0, 162.0, 149.8, 156.3, 167.8, 165.0, 154.0, 162.8, 160.5, 169.5, 160.3, 164.4, 155.3, 150.2, 168.0, 157.9, 175.0, 166.3, 164.8, 153.4, 153.2, 154.5, 151.1, 161.0, 162.3, 150.5, 165.8, 152.8, 166.7, 165.0, 164.1, 164.9, 163.1, 167.9, 174.1, 157.3, 165.0, 177.8, 161.0, 161.0, 165.0, 155.0, 157.9, 174.0, 172.0, 159.0, 154.0, 160.0, 164.4, 185.0, 145.0, 149.5, 139.5, 153.0, 151.0, 163.3, 157.0, 148.0, 149.2, 136.0, 151.7, 154.0, 156.0, 157.0, 145.5, 164.0, 142.6, 153.0, 143.0, 155.1, 154.5, 148.5, 150.5, 152.0, 152.3, 144.0, 151.0, 142.1, 163.5, 165.0, 172.6, 183.0, 161.0, 157.5, 171.5, 157.4, 172.6, 164.0, 171.3, 160.7, 169.5, 166.5, 156.0, 164.7, 167.3, 174.0, 165.2, 153.0, 168.0, 164.0, 172.5, 155.0, 160.0, 169.0, 159.1, 169.0, 168.0, 153.2, 162.3, 173.0, 184.5, 171.0, 147.5, 164.5, 149.5, 156.0, 161.0, 173.5, 152.5, 149.0, 158.0, 145.5, 153.5, 155.0, 158.5, 163.0, 161.5, 161.5, 164.0, 158.5, 156.5, 164.5, 159.8, 159.5, 165.7, 157.5, 168.0, 156.0, 164.0, 151.0, 155.0, 160.0, 156.0, 154.0, 160.0, 162.5, 149.0, 160.5, 160.0, 177.5, 159.5, 163.0, 158.5, 159.0, 169.0, 166.5, 157.0, 162.0, 155.5, 156.5, 150.5, 146.9, 157.3, 139.5, 141.9, 147.8, 159.0, 142.9, 140.1, 151.3, 138.3, 148.5, 156.5, 135.8, 133.0, 155.8, 149.0, 145.1, 171.8, 156.8, 162.3, 149.7, 145.9, 137.6, 155.0, 151.7, 159.0, 164.0, 180.0, 159.5, 161.0, 148.9, 152.0, 176.0, 157.0, 156.0, 165.1, 166.6, 150.5, 160.0, 150.0, 160.7, 178.0, 170.5, 168.5, 164.6, 168.5, 160.0, 155.0, 160.0, 152.5, 151.5, 174.0, 161.0, 160.0, 156.2, 171.5, 150.9, 150.1, 157.6, 145.3, 165.5, 151.3, 159.6, 151.3, 161.3, 169.2, 153.5, 145.5, 166.1, 166.7, 162.8, 162.3, 150.5, 161.8, 143.0, 159.4, 157.4, 154.1, 154.5, 151.3, 147.0, 163.4, 151.0, 142.4, 144.6, 149.0, 162.3, 151.1, 149.8, 166.6, 161.0, 158.6, 155.1, 158.1, 174.2, 152.1, 160.8, 161.8, 159.2, 172.5, 161.5, 173.0, 154.6, 154.8, 158.1, 141.8, 155.0, 162.5, 164.6, 155.4, 162.2, 156.7, 158.2, 150.8, 153.5, 147.5, 145.1, 165.2, 165.8, 152.3, 151.7, 144.3, 159.4, 154.0, 157.0, 174.7, 150.3, 146.7, 163.4, 145.8, 148.7, 157.0, 153.4, 157.9, 136.7, 141.1, 153.5, 167.7, 156.9, 160.8, 154.4, 159.1, 162.3, 167.7, 150.1, 147.8, 175.6, 161.9, 155.1, 164.6, 162.0, 165.3, 152.3, 163.8, 165.9, 164.9, 178.5, 164.0, 160.8, 169.5, 176.0, 176.0, 161.6, 161.4, 165.1, 181.7, 152.0, 168.5, 175.6, 154.5, 178.5, 160.6, 177.0, 157.0, 152.0, 175.9, 166.9, 157.3, 158.0, 161.0, 178.4, 174.3, 149.7, 168.7, 149.2, 165.8, 171.8, 157.1, 157.5, 152.8, 159.1, 165.5, 156.4, 165.3, 159.9, 156.5, 165.6, 147.1, 180.5, 163.1, 170.4, 156.6, 164.8, 169.5, 153.8, 177.0, 168.6, 183.3, 173.6, 167.3, 176.6, 168.3, 163.2, 165.0, 172.2, 160.6, 160.9, 181.3, 166.5, 179.5, 182.4, 167.2, 177.5, 182.5, 163.2, 162.4, 156.0, 173.9, 156.5, 158.0, 157.3, 158.0, 150.0, 177.8, 157.0, 150.5, 168.5, 171.8, 152.1, 167.0, 158.6, 151.5, 161.5, 160.6, 156.1, 171.3, 170.0, 159.5, 156.7, 157.7, 163.8, 159.9, 152.3, 157.3, 169.4, 155.0, 153.0, 162.9, 161.0, 167.4, 152.1, 161.0, 159.6, 161.0, 154.2, 152.9, 151.0, 156.3, 151.2, 164.8, 168.6, 164.1, 162.1, 168.4, 160.9, 161.2, 157.0, 151.2, 167.0, 164.7, 156.2, 170.9, 161.9, 169.8, 169.1, 156.8, 168.6, 183.5, 158.2, 160.1, 177.6, 164.2, 170.5, 158.1, 159.6, 173.5, 167.0, 164.0, 157.2, 151.9, 146.8, 149.5, 156.4, 167.8, 147.5, 154.5, 143.5, 142.8, 149.9, 158.7, 153.3, 143.7, 151.5, 151.2, 159.8, 132.8, 146.0, 147.5, 141.0, 138.5, 162.9, 164.0, 145.3, 163.4, 156.4, 161.2, 144.5, 163.9, 165.9, 160.7, 153.3, 161.8, 156.2, 165.8, 162.1, 150.8, 162.0, 155.5, 165.1, 175.9, 151.6, 174.3, 151.3, 158.9, 171.0, 153.1, 179.3, 164.4, 165.4, 161.6, 160.0, 173.0, 161.9, 179.0, 162.5, 176.4, 161.9, 156.3, 172.0, 169.1, 154.5, 167.0, 153.7, 160.0, 162.0, 164.4, 171.0, 162.0, 170.2, 167.0, 175.3, 167.2, 177.5, 159.3, 190.1, 157.4, 157.9, 160.5, 174.2, 161.3, 165.3, 164.3, 176.0, 163.6, 172.0, 164.4, 160.8, 179.9, 174.2, 186.6, 174.8, 170.5, 156.0, 181.1, 173.5, 161.5, 163.2, 163.7, 174.9, 172.0, 181.7, 156.6, 166.3, 169.9, 188.6, 158.5, 165.1, 164.4, 159.8, 163.9, 170.3, 162.1, 178.6, 159.4, 177.8, 164.1, 158.1, 164.2, 175.9, 166.4, 161.5, 154.6, 155.1, 183.4, 177.4, 174.4, 161.2, 158.4, 174.2, 171.6, 175.2, 177.7, 148.0, 153.6, 154.3, 167.8, 156.8, 164.5, 169.4, 159.9, 176.0, 158.9, 166.5, 159.4, 175.6, 166.5, 172.7, 159.7, 175.8, 162.0, 179.1, 156.7, 170.9, 171.3, 165.1, 161.2, 160.6, 157.3, 176.3, 162.9, 168.5, 162.9, 163.7, 176.5, 161.4, 174.9, 179.1, 157.6, 166.0, 167.0, 154.8, 177.4, 168.4, 174.2, 162.0, 176.4, 161.6, 161.6, 183.6, 173.2, 166.5, 166.1, 172.6, 171.4, 158.5, 155.3, 163.0, 140.0, 148.0, 149.4, 157.5, 143.0, 142.5, 161.5, 145.0, 140.7, 150.0, 168.5, 143.0, 147.2, 147.0, 146.5, 151.6, 169.0, 160.0, 146.5, 152.3, 140.7, 139.5, 164.2, 144.0, 153.0, 147.5, 144.5, 153.0, 156.0, 143.0, 136.0, 137.0, 147.0, 148.9, 156.5, 148.7, 151.5, 142.9, 172.7, 158.9, 158.6, 166.4, 148.8, 156.3, 155.8, 160.9, 152.2, 150.2, 165.7, 152.8, 156.5, 148.2, 158.1, 146.8, 145.6, 161.6, 164.3, 146.9, 160.1, 149.8, 155.4, 159.0, 166.0, 155.9, 183.6, 160.9, 163.2, 162.8, 175.0, 168.6, 162.5, 176.8, 161.6, 180.6, 168.8, 160.0, 194.5, 173.6, 151.4, 158.4, 159.8, 160.9, 155.4, 184.1, 156.0, 163.5, 165.0, 179.8, 160.1, 163.4, 185.5, 182.5, 161.0, 158.1, 162.9, 175.1, 155.8, 166.6, 160.8, 164.7, 159.8, 180.3, 165.6, 181.1, 174.2, 163.1, 161.0, 173.4, 163.5, 167.6, 164.8, 162.5, 174.3, 172.4, 166.2, 165.0, 174.9, 164.7, 178.2, 166.2, 164.5, 160.0, 180.7, 164.5, 172.1, 161.9, 159.5, 159.5, 175.9, 156.4, 183.0, 172.3, 145.0, 154.5, 154.4, 152.2, 161.5, 157.8, 151.1, 144.0, 147.0, 145.4, 136.0, 147.0, 162.4, 157.9, 146.1, 146.0, 174.3, 155.0, 150.9, 141.0, 153.3, 154.6, 162.1, 162.1, 146.4, 162.5, 166.5, 169.0, 169.8, 160.4, 157.5, 166.7, 170.8, 159.6, 154.5, 147.6, 157.3, 158.9, 164.0, 157.0, 165.8, 140.9, 157.3, 169.0, 173.2, 161.1, 157.0, 155.0, 158.0, 170.6, 144.0, 156.9, 152.0, 170.4, 157.0, 151.0, 157.0, 145.1, 156.5, 156.4, 162.5, 154.4, 138.6, 152.0, 160.5, 162.0, 149.0, 157.7, 160.0, 156.0, 168.5, 164.3, 173.9, 155.0, 154.0, 168.5, 146.5, 158.1, 170.6, 155.0, 159.2, 153.8, 159.6, 157.0, 159.0, 153.1, 146.2, 160.8, 164.4, 152.0, 152.5, 154.1, 148.2, 161.1, 152.0, 183.5, 156.4, 157.0, 156.5, 153.6, 177.5, 169.6, 159.1, 162.2, 172.0, 171.4, 171.3, 175.0, 182.8, 185.0, 168.3, 169.1, 152.0, 180.0, 156.0, 181.2, 157.3, 168.0, 157.0, 174.5, 169.5, 172.6, 170.7, 158.7, 164.0, 153.5, 161.7, 165.9, 174.6, 179.8, 174.4, 156.2, 160.0, 165.9, 159.7, 156.1, 149.0, 160.1, 162.0, 163.0, 163.7, 155.3, 155.0, 155.4, 153.4, 156.4, 154.3, 151.0, 148.4, 157.1, 153.5, 160.0, 152.9, 160.2, 153.1, 144.5, 154.5, 156.7, 155.5, 161.8, 140.8, 173.6, 174.0, 151.2, 151.0, 160.0, 165.3, 159.4, 161.5, 154.5, 158.5, 155.0, 162.0, 164.0, 154.0, 162.0, 160.5, 178.0, 166.0, 156.7, 156.9, 166.0, 157.2, 150.4, 173.0, 157.5, 164.1, 177.4, 161.0, 174.0, 163.7, 158.5, 170.0, 160.5, 177.0, 172.8, 158.0, 153.0, 148.4, 167.5, 152.9, 157.5, 173.4, 168.0, 167.5, 172.5, 157.9, 162.0, 177.2, 158.0, 187.6, 172.6, 164.9, 184.2, 155.4, 167.5, 166.4, 162.2, 156.6, 171.4, 166.2, 171.0, 173.5, 163.9, 153.1, 177.0, 168.4, 159.9, 169.0, 181.0, 168.3, 171.5, 155.8, 166.6, 155.9, 147.9, 144.0, 159.5, 151.5, 142.0, 158.5, 137.5, 158.0, 147.6, 165.5, 149.5, 166.3, 168.5, 162.5, 163.3, 158.0, 154.5, 129.5, 145.0, 159.0, 155.5, 178.5, 162.0, 161.1, 162.0, 169.0, 157.0, 154.5, 157.5, 166.0, 184.5, 169.0, 152.0, 167.4, 173.0, 176.5, 164.0, 168.5, 162.0, 165.0, 158.5, 165.5, 171.6, 176.5, 169.0, 152.0, 170.0, 158.4, 160.0, 168.5, 160.4, 159.0, 164.3, 156.5, 173.5, 163.5, 147.0, 174.5, 171.0, 169.8, 186.0, 163.2, 160.9, 171.0, 167.5, 167.5, 167.1, 161.2, 164.0, 161.5, 162.7, 162.5, 174.2, 169.0, 185.0, 163.0, 159.5, 169.0, 142.2, 151.9, 137.1, 161.0, 165.6, 169.0, 170.6, 154.9, 140.6, 153.2, 149.0, 157.7, 151.6, 169.0, 149.0, 160.5, 157.3, 150.0, 151.3, 152.9, 157.0, 152.9, 161.5, 162.5, 165.4, 163.0, 166.0, 167.4, 159.2, 162.0, 153.0, 180.9, 165.5, 165.0, 181.0, 154.9, 153.5, 140.5, 163.0, 158.4, 154.0, 162.6, 153.5, 160.8, 139.5, 157.5, 150.9, 157.1, 160.5, 143.1, 155.9, 144.7, 155.4, 155.9, 161.0, 162.5, 157.2, 165.0, 168.0, 151.6, 169.2, 151.7, 148.0, 169.2, 154.0, 169.1, 159.4, 166.0, 170.4, 167.8, 166.3, 189.0, 171.3, 158.4, 160.8, 169.5, 158.1, 176.0, 165.7, 173.5, 169.3, 159.6, 164.5, 169.4, 174.5, 171.4, 178.2, 160.2, 173.0, 155.8, 173.1, 159.4, 140.0, 153.0, 153.0, 148.2, 158.3, 144.4, 170.2, 152.3, 167.3, 146.2, 155.0, 149.6, 149.8, 164.6, 160.9, 156.8, 163.8, 144.0, 149.2, 154.4, 154.4, 153.3, 158.1, 160.2, 164.3, 153.3, 158.8, 148.2, 153.5, 165.5, 148.4, 156.4, 160.5, 162.9, 173.6, 173.7, 169.5, 152.4, 162.5, 165.9, 159.7, 151.5, 157.0, 160.6, 151.5, 162.3, 171.7, 161.3, 166.0, 174.9, 158.6, 188.5, 153.2, 153.5, 159.9, 155.8, 148.5, 156.0, 163.6, 162.0, 158.0, 154.0, 142.0, 164.6, 147.9, 140.8, 154.9, 161.7, 145.5, 139.4, 154.0, 155.9, 177.0, 166.5, 183.6, 171.5, 165.5, 170.0, 171.5, 170.2, 164.5, 169.1, 173.3, 167.5, 168.4, 158.5, 165.7, 170.4, 158.6, 174.1, 174.5, 179.1, 183.9, 178.5, 161.9, 167.5, 175.8, 174.9, 165.4, 169.1, 184.1, 175.1, 164.6, 172.4, 168.8, 166.9, 163.6, 170.9, 173.6, 162.1, 173.9, 170.4, 171.0, 176.8, 174.7, 173.9, 182.5, 165.5, 164.2, 170.6, 173.4, 178.0, 162.8, 179.0, 171.2, 187.6, 186.5, 179.5, 170.1, 182.1, 183.9, 183.9, 182.4, 172.5, 182.4, 176.9, 173.5, 169.4, 176.5, 182.6, 166.5, 172.2, 173.6, 163.4, 170.4, 172.5, 177.5, 151.9, 162.5, 172.1, 177.1, 182.6, 180.5, 185.8, 172.6, 182.7, 176.7, 179.9, 173.5, 155.4, 147.6, 144.5, 161.2, 147.6, 155.8, 151.5, 163.6, 160.1, 149.0, 156.1, 157.4, 161.4, 155.5, 169.6, 167.4, 172.3, 156.4, 164.4, 157.0, 161.9, 163.9, 156.3, 157.8, 161.6, 155.8, 160.5, 156.8, 167.9, 156.2, 157.2, 165.8, 144.0, 152.1, 153.5, 143.5, 151.4, 144.0, 147.0, 150.4, 152.3, 152.0, 151.8, 160.0, 147.4, 151.8, 150.5, 137.0, 153.9, 149.0, 153.0, 153.5, 143.0, 170.0, 152.9, 162.9, 185.0, 165.8, 158.4, 163.4, 154.1, 148.5, 161.0, 170.6, 161.4, 156.8, 159.6, 167.7, 159.6, 164.1, 163.7, 162.5, 156.0, 155.2, 157.6, 153.1, 162.0, 170.0, 167.6, 154.6, 163.5, 151.6, 165.0, 145.5, 158.0, 160.0, 151.6, 152.5, 162.0, 149.0, 167.0, 163.5, 155.6, 139.6, 161.0, 155.4, 147.1, 149.2, 156.0, 148.5, 166.8, 163.0, 161.5, 175.0, 159.0, 163.0, 174.6, 191.5, 153.5, 167.4, 161.9, 151.0, 170.3, 169.5, 157.6, 167.0, 168.0, 178.0, 175.0, 154.4, 174.0, 174.4, 173.0, 171.5, 153.5, 185.0, 175.5, 168.0, 162.7, 158.0, 152.2, 159.8, 163.5, 169.5, 169.2, 157.8, 152.9, 156.9, 152.1, 156.9, 177.5, 158.7, 153.0, 158.0, 157.6, 163.3, 159.2, 163.9, 161.4, 150.2, 156.5, 158.8, 170.4, 156.2, 154.4, 144.5, 152.6, 157.4, 145.5, 153.5, 147.2, 152.5, 160.6, 154.7, 136.4, 146.8, 147.4, 164.3, 154.2, 153.5, 148.6, 142.6, 147.3, 134.5, 144.0, 143.9, 151.0, 137.2, 156.1, 140.6, 156.2, 136.8, 151.3, 143.2, 141.7, 137.3, 146.5, 157.0, 136.5, 141.3, 149.5, 155.0, 144.0, 148.0, 145.5, 160.0, 141.6, 138.5, 157.0, 148.0, 146.0, 145.0, 146.0, 142.5, 145.0, 163.9, 162.4, 154.7, 177.0, 162.5, 163.2, 165.6, 177.2, 161.1, 158.0, 177.5, 158.6, 162.5, 166.0, 175.4, 164.7, 158.0, 153.5, 166.3, 155.0, 167.5, 161.0, 159.7, 168.1, 174.5, 151.2, 164.5, 164.0, 173.3, 162.5, 174.0, 172.0, 175.0, 155.5, 186.0, 160.5, 170.5, 170.5, 176.5, 179.5, 166.0, 174.0, 174.0, 171.5, 180.5, 171.5, 174.0, 163.0, 152.0, 161.0, 167.0, 169.5, 161.4, 176.0, 176.5, 171.0, 179.5, 174.5, 162.5, 173.0, 182.3, 162.0, 162.5, 159.0, 155.0, 165.0, 157.0, 180.0, 167.0, 151.8, 149.1, 164.0, 158.0, 172.5, 157.0, 152.4, 161.6, 150.0, 145.5, 166.4, 153.5, 162.0, 145.5, 163.0, 163.0, 164.0, 157.5, 151.4, 148.0, 162.4, 177.5, 170.0, 163.0, 157.0, 157.5, 165.9, 170.0, 165.5, 173.5, 178.0, 162.9, 165.5, 165.1, 173.0, 155.5, 163.0, 175.0, 173.8, 176.7, 178.5, 164.8, 173.5, 174.0, 184.6, 182.5, 171.5, 160.6, 176.0, 156.5, 167.0, 169.8, 155.5, 159.3, 172.5, 153.0, 170.2, 168.0, 164.8, 184.8, 180.0, 181.6, 164.0, 180.7, 171.8, 169.5, 175.0, 179.8, 166.6, 159.0, 154.8, 171.8, 162.5, 161.9, 175.0, 161.5, 182.1, 173.5, 171.0, 173.3, 158.5, 176.5, 149.6, 149.1, 156.4, 151.0, 154.1, 151.2, 140.9, 150.8, 169.5, 162.4, 156.8, 148.8, 174.3, 144.4, 154.8, 160.8, 158.1, 147.3, 165.3, 154.3, 172.1, 162.9, 168.4, 156.9, 154.7, 151.3, 165.4, 172.3, 158.7, 164.2, 153.3, 153.8, 164.7, 172.6, 153.6, 176.8, 158.5, 163.9, 161.4, 158.9, 157.2, 166.5, 162.0, 155.0, 159.5, 153.0, 155.0, 163.5, 170.5, 152.0, 164.0, 157.4, 174.0, 157.0, 176.5, 172.5, 165.0, 182.0, 171.0, 155.5, 169.0, 154.0, 164.0, 150.0, 143.0, 172.8, 180.0, 156.0, 147.5, 154.0, 153.5, 151.0, 162.0, 150.5, 150.0, 181.8, 163.5, 153.0, 156.5, 169.5, 153.8, 152.2, 159.8, 133.7, 155.5, 162.5, 155.2, 152.9, 151.9, 165.0, 144.5, 151.2, 156.8, 157.9, 161.2, 157.5, 149.8, 162.7, 155.5, 147.8, 160.1, 168.2, 183.8, 159.6, 161.5, 152.1, 150.0, 149.0, 149.5, 159.6, 161.3, 159.6, 164.0, 168.3, 155.7, 166.2, 175.4, 182.6, 170.9, 156.2, 142.8, 181.7, 162.4, 159.1, 172.0, 164.8, 164.9, 155.6, 164.3, 163.9, 163.8, 155.3, 175.1, 160.7, 156.1, 168.7, 165.0, 156.6, 164.5, 159.3, 184.2, 176.9, 170.6, 187.0, 158.6, 171.6, 165.1, 148.5, 157.6, 166.9, 148.1, 166.7, 154.0, 156.6, 148.2, 146.4, 148.8, 160.4, 152.1, 156.9, 156.4, 158.4, 159.8, 164.5, 173.3, 160.3, 157.9, 176.7, 172.4, 169.5, 161.4, 166.9, 156.8, 165.3, 161.3, 152.0, 168.0, 167.9, 165.5, 165.4, 166.0, 166.3, 160.3, 155.7, 172.5, 179.9, 145.8, 169.6, 166.3, 175.9, 161.2, 160.7, 159.1, 164.2, 161.6, 173.9, 171.1, 147.8, 168.9, 152.9, 167.1, 179.3, 161.4, 153.3, 163.2, 168.0, 154.7, 160.3, 162.8, 154.8, 165.8, 163.2, 171.7, 151.7, 182.2, 161.2, 160.8, 152.6, 144.5, 162.0, 162.7, 160.0, 177.0, 178.5, 154.5, 146.0, 162.0, 156.7, 161.0, 161.6, 171.0, 162.5, 154.6, 153.0, 163.5, 156.0, 159.1, 185.0, 172.3, 164.0, 176.9, 172.6, 168.4, 187.4, 170.5, 174.3, 167.7, 172.3, 172.0, 175.1, 161.0, 155.0, 153.5, 166.5, 157.8, 161.3, 150.0, 160.9, 146.6, 155.5, 159.3, 145.4, 156.2, 147.0, 154.0, 156.0, 172.7, 186.0, 144.6, 148.6, 151.3, 159.2, 154.9, 145.4, 162.3, 159.8, 167.4, 149.9, 161.0, 160.0, 168.3, 155.0, 159.0, 162.0, 174.0, 149.6, 161.0, 157.0, 157.7, 164.5, 166.0, 149.0, 156.4, 163.0, 165.6, 162.5, 156.6, 144.7, 151.5, 134.3, 145.5, 152.6, 156.8, 147.8, 151.3, 153.0, 164.5, 159.0, 154.3, 167.5, 171.5, 181.7, 186.0, 183.0, 174.9, 174.5, 171.5, 177.5, 173.0, 164.5, 166.6, 160.6, 164.0, 186.0, 154.9, 161.0, 168.5, 178.5, 160.0, 179.0, 170.5, 175.1, 165.0, 164.0, 170.3, 172.2, 173.5, 188.6, 170.5, 153.4, 169.0, 186.0, 155.0, 161.1, 160.6, 173.0, 175.0, 171.2, 164.8, 164.4, 172.2, 169.5, 145.0, 159.5, 174.5, 169.5, 172.3, 174.0, 176.5, 167.0, 185.5, 171.5, 171.0, 168.9, 156.5, 157.2, 149.5, 171.0, 166.6, 181.4, 170.6, 154.0, 170.0, 160.2, 166.6, 144.8, 163.2, 159.8, 157.5, 143.3, 156.0, 168.1, 162.4, 148.8, 170.4, 161.2, 156.9, 172.4, 166.5, 160.8, 157.3, 184.8, 155.2, 153.0, 161.0, 154.0, 158.2, 160.2, 165.8, 159.4, 157.6, 173.8, 162.0, 148.3, 155.7, 162.9, 160.3, 161.8, 170.3, 161.0, 149.4, 160.3, 142.0, 160.5, 164.4, 182.0, 161.4, 161.8, 171.4, 173.1, 155.0, 172.5, 169.0, 156.5, 186.9, 171.8, 165.2, 166.9, 162.8, 172.2, 168.0, 180.2, 169.2, 154.5, 168.0, 157.3, 179.8, 175.4, 165.4, 158.7, 180.3, 172.0, 166.4, 149.8, 154.9, 153.3, 153.0, 148.5, 164.0, 159.0, 176.0, 174.5, 168.5, 165.5, 168.0, 154.0, 156.5, 163.5, 164.0, 175.0, 154.5, 155.0, 155.0, 176.0, 177.9, 165.8, 151.7, 182.4, 170.3, 168.0, 165.5, 177.0, 153.5, 176.5, 168.5, 159.5, 172.8, 156.9, 169.0, 172.0, 164.0, 167.9, 172.1, 154.2, 163.2, 167.4, 170.3, 160.0, 170.5, 177.9, 144.2, 175.8, 170.9, 184.6, 159.2, 165.7, 171.0, 165.0, 159.0, 170.1, 163.0, 171.5, 173.8, 171.0, 170.2, 177.0, 173.9, 180.1, 158.3, 163.0, 181.5, 158.5, 175.0, 171.8, 184.4, 175.1, 169.5, 146.0, 170.0, 159.8, 183.4, 170.9, 185.4, 176.9, 149.5, 175.2, 172.5, 170.5, 164.6, 176.2, 169.3, 181.5, 175.0, 166.9, 165.5, 164.5, 166.5, 184.0, 162.6, 180.0, 183.5, 169.8, 172.8, 189.0, 159.2, 157.4, 154.4, 156.5, 139.0, 139.0, 162.3, 156.8, 145.0, 148.4, 148.2, 146.6, 148.9, 157.7, 157.2, 164.4, 141.3, 152.4, 137.5, 149.3, 153.2, 143.9, 144.5, 158.4, 166.8, 147.6, 154.2, 161.4, 175.9, 157.2, 166.4, 158.5, 173.4, 164.8, 165.8, 163.1, 186.0, 182.8, 159.0, 156.9, 157.4, 158.9, 173.0, 168.2, 174.4, 161.1, 162.0, 171.0, 162.2, 162.3, 170.0, 160.8, 176.3, 165.8, 180.7, 167.5, 178.0, 157.2, 174.7, 177.0, 172.1, 173.4, 165.3, 174.4, 167.8, 182.3, 157.5, 169.0, 169.4, 151.5, 173.0, 177.4, 166.0, 168.0, 171.5, 172.3, 166.5, 157.0, 168.9, 167.8, 154.7, 154.2, 146.5, 170.0, 167.0, 177.5, 170.0, 157.0, 173.5, 157.5, 167.5, 158.0, 187.1, 180.5, 158.5, 162.0, 184.5, 167.8, 171.5, 163.6, 150.1, 177.7, 169.2, 175.9, 169.8, 157.7, 164.2, 152.3, 155.8, 156.0, 154.6, 149.0, 157.5, 159.0, 168.1, 164.3, 179.0, 160.8, 160.0, 175.0, 164.0, 161.8, 162.0, 160.6, 167.5, 171.0, 173.4, 166.0, 164.0, 158.5, 157.5, 172.0, 162.5, 163.9, 175.6, 155.3, 172.4, 160.5, 169.0, 163.0, 151.0, 166.0, 183.6, 148.9, 178.0, 167.8, 178.0, 172.8, 156.9, 175.8, 159.1, 166.5, 160.3, 153.9, 164.0, 168.0, 153.4, 188.5, 158.1, 184.0, 179.5, 158.9, 169.0, 178.8, 174.9, 185.3, 182.0, 174.9, 167.5, 163.4, 184.4, 166.8, 157.4, 170.1, 158.4, 181.1, 152.8, 165.5, 171.2, 163.1, 155.8, 131.4, 165.5, 173.5, 160.0, 160.9, 180.9, 175.5, 160.4, 145.0, 155.5, 138.0, 136.3, 140.1, 150.5, 150.8, 144.0, 140.4, 155.9, 144.9, 154.9, 149.6, 158.5, 146.2, 145.0, 154.5, 156.8, 156.4, 155.1, 138.6, 145.4, 151.2, 177.0, 150.0, 158.9, 148.4, 153.5, 145.1, 159.3, 147.2, 152.5, 152.9, 144.4, 149.2, 148.9, 149.8, 153.1, 149.1, 159.3, 167.5, 160.0, 160.5, 151.9, 164.5, 165.8, 160.0, 156.0, 171.9, 180.0, 156.0, 175.6, 172.3, 180.5, 163.0, 174.0, 172.4, 168.5, 175.0, 169.4, 170.0, 166.5, 164.0, 160.0, 164.2, 178.5, 174.0, 163.5, 163.5, 172.8, 176.2, 163.4, 165.8, 152.8, 167.7, 157.0, 177.2, 157.5, 164.0, 168.0, 156.8, 176.0, 165.0, 162.2, 150.2, 177.1, 172.5, 158.5, 169.3, 165.7, 165.0, 162.5, 161.0, 155.1, 161.0, 175.2, 173.1, 155.3, 174.1, 167.1, 187.0, 152.0, 156.4, 173.0, 174.0, 150.0, 178.0, 173.2, 158.0, 173.0, 176.0, 168.1, 173.2, 162.2, 167.2, 164.0, 184.5, 156.2, 161.8, 155.0, 170.0, 176.0, 162.0, 176.0, 163.0, 169.1, 173.4, 174.3, 184.5, 171.0, 178.3, 168.0, 160.2, 150.0, 147.4, 176.3, 158.3, 160.0, 178.0, 160.1, 161.1, 171.4, 168.4, 152.2, 181.0, 163.4, 170.0, 147.3, 150.1, 177.5, 163.5, 186.3, 147.0, 159.1, 173.8, 169.5, 156.2, 168.1, 151.0, 170.0, 173.3, 158.0, 177.2, 170.3, 160.5, 158.6, 149.5, 146.6, 152.8, 158.0, 161.1, 162.8, 144.7, 160.9, 156.0, 155.8, 175.1, 154.6, 162.0, 160.0, 163.3, 161.3, 156.6, 153.3, 170.7, 147.5, 179.2, 159.2, 165.0, 165.0, 163.2, 161.7, 165.6, 145.7, 175.0, 142.3, 153.7, 147.0, 151.9, 150.9, 154.1, 161.4, 152.8, 153.9, 146.7, 128.9, 148.8, 138.8, 148.6, 152.2, 149.0, 150.0, 150.8, 149.5, 149.4, 136.5, 144.0, 147.5, 145.0, 152.0, 167.7, 145.9, 145.4, 148.2, 152.5, 156.6, 149.4, 155.9, 158.7, 145.1, 163.7, 160.5, 169.5, 169.5, 163.0, 164.0, 146.7, 157.0, 166.1, 165.9, 156.5, 160.5, 156.5, 153.3, 167.2, 155.0, 164.5, 156.0, 155.6, 170.5, 173.1, 154.0, 168.4, 159.0, 162.3, 167.6, 175.0, 159.7, 150.0, 174.5, 169.5, 155.6, 152.2, 152.0, 161.0, 171.3, 167.8, 165.8, 149.8, 145.5, 157.7, 157.8, 158.0, 160.0, 165.5, 155.5, 165.7, 164.0, 155.7, 160.0, 159.2, 156.0, 150.0, 166.0, 160.0, 165.5, 150.0, 150.0, 179.5, 152.2, 173.5, 161.2, 156.6, 180.3, 172.0, 163.3, 173.0, 160.0, 174.0, 163.0, 161.4, 173.5, 168.6, 161.0, 168.0, 165.0, 162.0, 158.1, 174.8, 177.0, 175.6, 160.2, 149.7, 155.0, 167.0, 168.6, 177.2, 153.1, 178.2, 159.0, 152.0, 152.5, 137.0, 141.2, 144.2, 150.0, 147.0, 145.0, 155.8, 165.5, 144.8, 149.2, 149.0, 150.5, 158.5, 165.0, 150.5, 157.7, 150.5, 159.0, 151.0, 152.0, 149.7, 155.0, 148.2, 153.5, 155.5, 147.5, 162.2, 167.8, 167.6, 159.5, 164.0, 166.0, 178.0, 169.0, 164.0, 187.8, 170.8, 160.9, 174.0, 170.0, 155.0, 173.0, 153.9, 162.3, 151.3, 154.0, 182.0, 156.6, 154.6, 173.3, 165.8, 158.0, 165.5, 157.9, 178.2, 148.8, 156.0, 153.0, 157.0, 160.5, 152.5, 151.5, 165.2, 172.0, 174.0, 166.0, 158.0, 156.5, 177.0, 162.0, 151.5, 154.2, 173.5, 170.3, 173.5, 151.5, 161.0, 171.2, 148.2, 165.0, 156.2, 183.2, 153.5, 159.0, 157.9, 166.5, 141.0, 169.3, 144.3, 168.3, 159.2, 158.0, 162.7, 160.0, 151.0, 186.0, 147.4, 158.1, 150.7, 165.7, 159.8, 168.0, 161.5, 170.5, 160.0, 176.0, 166.0, 170.0, 180.8, 161.0, 176.5, 174.7, 167.0, 171.3, 170.5, 168.3, 172.0, 165.5, 161.0, 182.0, 161.0, 170.7, 160.0, 160.0, 175.0, 160.9, 170.5, 168.0, 156.0, 155.0, 170.5, 166.0, 159.9, 164.0, 157.0, 155.0, 173.3, 158.0, 169.0, 170.0, 170.0, 160.5, 165.4, 164.0, 167.5, 171.0, 175.0, 166.0, 154.5, 155.6, 152.5, 166.6, 162.0, 160.0, 162.0, 161.0, 183.0, 150.0, 162.0, 148.0, 178.7, 160.0, 169.0, 153.0, 157.0, 155.0, 164.0, 162.0, 167.0, 169.0, 163.0, 158.0, 153.0, 165.0, 164.0, 176.9, 164.4, 147.3, 158.0, 179.0, 180.9, 155.0, 155.0, 163.2, 175.0, 152.0, 168.0, 166.2, 161.0, 164.0, 158.0, 174.1, 154.0, 161.0, 156.5, 164.0, 179.0, 159.0, 176.0, 169.0, 177.0, 165.0, 171.0, 174.7, 155.2, 169.0, 174.0, 160.6, 153.0, 175.0, 151.0, 151.0, 158.9, 148.8, 151.8, 164.9, 160.0, 161.0, 157.0, 149.7, 150.6, 154.0, 158.3, 149.5, 155.4, 165.0, 151.6, 142.5, 153.0, 168.2, 156.0, 148.0, 156.1, 155.0, 154.2, 154.5, 185.0, 157.9, 160.0, 156.6, 152.5, 157.8, 182.0, 152.7, 148.8, 139.1, 144.6, 146.6, 144.8, 152.7, 139.2, 159.9, 153.1, 149.6, 157.1, 141.1, 153.4, 162.8, 164.2, 164.9, 153.9, 147.5, 150.4, 148.8, 156.7, 151.8, 149.1, 142.7, 144.6, 143.0, 162.5, 173.9, 184.5, 161.2, 150.1, 165.5, 177.3, 165.5, 163.1, 159.6, 178.0, 170.2, 173.7, 156.2, 160.5, 166.6, 164.1, 162.5, 164.5, 166.2, 155.0, 160.0, 174.9, 149.2, 162.9, 172.3, 171.3, 159.0, 164.9, 164.1, 171.9, 143.0, 146.5, 145.9, 160.0, 168.0, 148.5, 144.5, 139.5, 162.1, 143.5, 167.5, 142.5, 150.5, 147.5, 162.5, 156.9, 158.2, 164.0, 152.5, 164.5, 150.5, 163.9, 157.0, 158.0, 159.2, 162.0, 160.0, 163.1, 158.5, 151.0, 135.0, 149.5, 148.1, 164.4, 164.0, 168.5, 170.6, 163.5, 159.5, 152.5, 154.3, 168.0, 167.5, 165.0, 180.0, 187.5, 171.5, 155.1, 157.4, 167.5, 163.0, 167.9, 171.0, 162.0, 189.1, 177.3, 153.0, 167.0, 170.6, 153.9, 175.0, 176.0, 165.5, 160.0, 161.6, 169.0, 152.8, 172.5, 157.5, 165.0, 164.5, 163.5, 148.2, 164.8, 166.3, 148.6, 156.4, 164.8, 166.6, 161.0, 162.1, 148.5, 144.0, 150.1, 147.6, 151.2, 155.8, 157.4, 162.5, 147.3, 166.3, 153.0, 156.1, 155.0, 166.6, 158.4, 159.5, 174.3, 156.1, 146.5, 152.1, 154.5, 157.0, 155.3, 151.9, 167.5, 152.0, 156.6, 162.5, 150.0, 160.5, 152.0, 161.6, 155.8, 146.7, 168.3, 162.3, 153.8, 152.2, 176.0, 160.0, 158.5, 158.6, 163.0, 167.2, 161.5, 158.5, 165.5, 163.8, 174.0, 158.9, 162.7, 147.3, 172.4, 173.7, 172.5, 159.2, 156.2, 166.9, 161.4, 146.2, 166.6, 173.0, 165.4, 180.5, 167.5, 164.7, 165.9, 164.1, 167.3, 167.3, 165.8, 153.2, 159.5, 161.5, 159.3, 157.5, 172.2, 150.5, 169.8, 163.5, 174.5, 157.5, 155.8, 160.1, 156.7, 153.5, 151.3, 162.5, 160.0, 156.8, 160.5, 154.2, 167.7, 160.9, 156.8, 155.3, 172.6, 175.0, 155.4, 153.1, 165.9, 154.9, 174.5, 173.1, 151.5, 154.4, 153.4, 147.8, 148.1, 161.3, 147.6, 149.3, 155.9, 164.3, 148.9, 152.3, 139.3, 161.1, 145.9, 152.3, 154.9, 172.0, 152.5, 154.0, 161.6, 148.7, 159.1, 150.8, 154.2, 141.5, 146.9, 154.3, 144.4, 149.5, 152.2, 158.4, 160.3, 158.9, 153.4, 175.9, 170.0, 158.9, 173.9, 156.6, 169.0, 154.4, 151.5, 157.7, 178.1, 145.8, 152.6, 179.2, 161.5, 152.5, 167.6, 139.7, 147.8, 162.0, 142.0, 165.4, 157.3, 160.5, 147.8, 156.4, 167.0, 166.1, 152.4, 165.0, 148.8, 159.4, 161.9, 147.4, 158.7, 155.5, 158.0, 160.9, 160.1, 156.6, 165.9, 154.7, 164.7, 163.3, 150.9, 162.6, 172.0, 164.2, 159.6, 162.0, 165.0, 169.7, 159.9, 154.0, 170.8, 154.5, 189.2, 162.6, 172.0, 160.0, 149.0, 171.3, 167.9, 168.2, 160.5, 163.5, 181.2, 168.7, 164.0, 170.9, 166.4, 168.3, 174.6, 165.3, 163.0, 180.7, 163.2, 164.8, 158.4, 178.0, 167.0, 169.0, 156.0, 171.0, 156.0, 163.0, 161.5, 174.5, 162.0, 167.0, 170.0, 157.0, 175.0, 162.0, 172.0, 167.0, 177.0, 168.0, 142.0, 153.0, 159.0, 153.0, 176.0, 175.0, 174.0, 173.5, 172.0, 178.0, 173.0, 172.0, 174.0, 152.0, 162.5, 167.0, 176.0, 174.1, 160.0, 156.0, 169.0, 169.0, 164.0, 177.0, 154.4, 165.5, 157.0, 164.0, 154.0, 176.0, 170.0, 161.0, 168.0, 171.0, 161.5, 143.5, 151.0, 161.6, 176.5, 140.9, 164.9, 160.0, 152.0, 155.0, 149.9, 150.0, 150.0, 148.0, 144.9, 170.5, 143.0, 157.0, 158.0, 170.0, 147.5, 168.0, 148.0, 159.1, 164.5, 154.0, 147.0, 167.0, 156.5, 157.6, 160.0, 177.7, 161.9, 166.0, 160.0, 170.9, 165.2, 154.0, 145.2, 170.0, 163.0, 157.2, 153.0, 162.0, 156.0, 130.7, 158.7, 141.5, 147.8, 147.7, 149.0, 146.8, 162.3, 145.2, 155.0, 153.5, 150.8, 149.0, 148.0, 152.7, 140.9, 147.3, 153.5, 139.0, 168.7, 150.7, 140.7, 146.0, 142.5, 160.0, 167.5, 153.1, 144.8, 150.0, 145.0, 149.0, 151.0, 158.2, 146.0, 153.5, 152.0, 145.0, 144.0, 158.7, 151.0, 157.5, 146.5, 151.0, 154.5, 151.2, 146.5, 154.5, 161.5, 149.0, 153.5, 133.0, 159.3, 151.0, 143.9, 157.4, 178.0, 169.5, 175.0, 150.0, 153.2, 161.0, 161.5, 188.0, 162.5, 172.0, 184.0, 174.0, 166.0, 167.0, 158.5, 145.0, 154.4, 137.4, 151.0, 152.7, 155.0, 147.3, 152.4, 150.0, 151.0, 140.6, 147.4, 158.9, 156.9, 160.0, 157.6, 147.0, 154.8, 145.5, 139.8, 162.8, 150.6, 147.0, 163.2, 156.5, 158.4, 170.0, 167.7, 164.0, 163.3, 162.9, 171.0, 171.4, 178.5, 173.8, 167.6, 161.0, 163.5, 158.4, 177.0, 180.0, 179.0, 152.0, 164.5, 181.0, 162.0, 157.0, 170.9, 178.7, 174.0, 171.5, 179.5, 182.5, 160.2, 160.0, 167.0, 169.0, 170.0, 154.5, 168.2, 179.0, 162.4, 160.0, 176.4, 166.0, 168.5, 155.5, 159.4, 149.7, 163.0, 172.1, 174.0, 175.8, 158.4, 173.7, 175.0, 176.3, 167.0, 169.3, 177.1, 178.6, 167.3, 161.9, 172.2, 169.3, 155.0, 162.0, 151.0, 168.5, 163.2, 178.1, 161.0, 168.0, 159.0, 155.5, 149.0, 140.6, 148.0, 149.8, 154.7, 158.1, 136.2, 141.9, 142.0, 156.2, 147.0, 158.0, 145.4, 148.4, 143.6, 136.3, 163.6, 140.1, 146.3, 153.4, 145.7, 153.0, 148.4, 155.5, 157.0, 145.6, 154.6, 157.6, 145.0, 162.0, 152.3, 142.0, 153.5, 172.5, 172.3, 147.8, 163.2, 162.6, 142.4, 150.1, 171.4, 168.5, 167.7, 156.1, 152.5, 159.9, 161.8, 154.2, 153.5, 150.2, 146.2, 151.5, 153.0, 165.0, 170.0, 162.0, 154.0, 144.4, 179.8, 151.8, 160.0, 166.8, 154.0, 155.0, 151.4, 169.0, 144.8, 163.1, 161.5, 141.0, 154.3, 155.0, 157.1, 148.6, 158.5, 152.5, 153.6, 151.0, 158.5, 149.5, 155.0, 163.5, 161.3, 157.2, 160.8, 168.2, 163.1, 170.2, 162.0, 161.0, 164.8, 170.0, 156.0, 161.2, 177.0, 162.0, 156.5, 167.5, 162.2, 159.0, 157.9, 158.4, 162.3, 155.7, 157.6, 149.5, 158.4, 162.2, 143.7, 144.4, 150.0, 159.3, 147.6, 143.5, 139.9, 149.5, 140.0, 146.6, 153.9, 157.5, 134.5, 150.6, 160.3, 156.3, 146.3, 160.1, 147.0, 154.2, 140.2, 152.3, 150.8, 144.3, 145.1, 143.3, 137.3, 135.0, 139.6, 145.0, 131.2, 161.5, 148.8, 152.4, 142.5, 144.8, 153.6, 137.5, 145.4, 141.6, 147.0, 147.0, 158.0, 150.7, 160.3, 158.0, 154.0, 156.5, 156.0, 158.1, 155.8, 167.9, 157.3, 168.4, 155.4, 158.7, 175.2, 162.2, 158.3, 166.0, 162.6, 150.4, 174.5, 161.6, 163.0, 171.0, 154.5, 158.9, 152.2, 177.5, 160.4, 153.6, 159.3, 168.4, 141.5, 138.0, 159.2, 153.0, 153.4, 138.6, 145.0, 145.8, 165.0, 135.7, 145.7, 146.5, 159.2, 164.6, 150.3, 157.2, 136.9, 152.5, 157.5, 168.0, 159.5, 147.6, 141.6, 151.1, 161.5, 151.0, 144.7, 150.3, 149.5, 170.0, 147.0, 153.6, 148.7, 172.9, 165.9, 161.0, 162.3, 160.8, 173.6, 152.9, 154.3, 159.2, 161.9, 161.5, 166.8, 173.3, 161.5, 152.0, 156.5, 158.0, 159.5, 148.0, 164.0, 153.0, 163.5, 170.5, 161.0, 170.0, 160.0, 167.5, 163.5, 167.5, 170.0, 160.7, 165.4, 163.5, 160.0, 156.0, 155.5, 156.1, 164.6, 164.9, 165.3, 165.4, 148.2, 151.0, 145.0, 146.8, 160.3, 161.0, 165.5, 191.5, 158.7, 173.3, 156.7, 167.2, 170.5, 164.7, 166.0, 160.1, 170.0, 158.2, 155.6, 164.1, 161.9, 160.6, 159.0, 161.0, 163.0, 154.0, 160.4, 163.3, 163.9, 162.6, 172.7, 158.0, 163.0, 162.2, 160.0, 154.5, 160.9, 175.1, 176.0, 168.0, 177.4, 176.1, 182.1, 167.3, 159.4, 171.2, 162.6, 167.3, 170.3, 179.6, 166.4, 158.0, 151.1, 164.3, 161.8, 167.7, 156.2, 170.3, 159.1, 157.1, 150.6, 156.2, 172.7, 173.5, 173.7, 171.9, 167.7, 154.4, 161.5, 175.8, 169.7, 162.2, 166.0, 152.0, 159.0, 169.0, 156.0, 168.0, 166.0, 172.2, 167.4, 170.1, 159.7, 157.7, 178.4, 164.5, 166.0, 151.0, 158.5, 184.5, 159.3, 168.2, 170.5, 175.7, 165.6, 174.4, 136.2, 175.6, 163.0, 157.0, 171.2, 162.5, 157.5, 166.1, 167.3, 169.8, 176.4, 171.6, 168.0, 173.6, 181.2, 149.6, 150.5, 155.5, 163.7, 166.2, 158.0, 149.0, 158.0, 154.5, 159.4, 163.3, 156.3, 180.8, 171.9, 169.5, 163.3, 134.5, 150.0, 162.5, 176.3, 168.5, 161.0, 151.5, 156.5, 145.9, 154.2, 152.6, 145.6, 161.2, 146.2, 148.9, 144.7, 154.1, 156.3, 155.6, 157.0, 158.7, 161.8, 160.2, 161.7, 164.8, 158.4, 144.5, 167.0, 164.7, 162.8, 141.1, 158.8, 162.1, 163.2, 157.7, 156.4, 147.9, 158.3, 156.1, 166.6, 183.5, 158.5, 178.8, 164.6, 164.7, 172.1, 168.6, 183.4, 152.9, 170.9, 159.8, 173.9, 165.8, 171.6, 174.9, 176.3, 159.4, 166.9, 164.4, 160.4, 163.7, 157.3, 156.9, 158.3, 153.3, 161.4, 152.0, 164.6, 177.0, 158.2, 169.0, 156.3, 156.2, 160.4, 156.0, 160.1, 168.6, 151.4, 167.0, 158.0, 176.1, 177.2, 177.6, 180.2, 165.5, 173.7, 173.7, 162.6, 172.0, 159.1, 163.6, 155.9, 166.4, 175.4, 192.4, 167.3, 159.5, 177.3, 177.6, 173.5, 172.9, 155.5, 173.6, 170.0, 187.8, 174.0, 167.6, 168.5, 165.0, 158.7, 169.5, 157.5, 166.6, 163.9, 160.1, 167.3, 168.0, 159.9, 162.2, 159.7, 152.9, 158.1, 151.3, 159.6, 168.1, 163.9, 161.5, 170.0, 152.8, 155.1, 152.1, 151.7, 155.1, 135.5, 137.4, 164.6, 143.3, 148.1, 140.5, 171.6, 159.2, 145.4, 136.6, 159.5, 168.0, 152.5, 152.6, 151.2, 151.9, 152.2, 155.4, 154.4, 155.0, 150.4, 159.3, 153.0, 166.5, 153.9, 164.6, 154.4, 167.9, 146.7, 161.0, 151.0, 159.0, 171.2, 162.0, 153.4, 165.5, 167.0, 164.5, 149.5, 163.0, 164.0, 150.4, 154.5, 155.5, 144.5, 155.6, 156.9, 150.2, 168.5, 155.0, 166.3, 170.0, 160.4, 158.6, 159.0, 172.5, 154.8, 173.7, 153.0, 178.0, 161.8, 158.5, 150.8, 149.2, 166.3, 163.8, 165.7, 164.0, 153.1, 156.5, 148.5, 156.5, 169.6, 178.0, 167.5, 169.0, 154.1, 158.5, 157.5, 173.4, 162.0, 167.0, 158.5, 158.5, 156.0, 168.5, 162.5, 168.5, 161.6, 160.0, 173.9, 166.8, 164.5, 163.0, 165.3, 166.1, 165.6, 162.0, 174.3, 165.4, 164.5, 158.9, 173.0, 176.0, 169.0, 171.4, 179.5, 173.2, 175.5, 169.4, 163.0, 173.5, 161.6, 160.1, 160.0, 161.0, 157.6, 159.0, 180.5, 158.5, 167.4, 172.2, 158.4, 165.4, 158.0, 176.7, 155.5, 153.9, 176.1, 168.5, 161.1, 167.3, 157.5, 168.9, 182.2, 150.3, 171.0, 168.2, 157.5, 179.5, 169.0, 173.4, 169.3, 164.5, 152.9, 157.0, 146.0, 145.5, 157.5, 154.1, 150.3, 156.0, 153.9, 146.0, 143.2, 150.5, 159.5, 143.0, 155.9, 162.3, 165.3, 143.4, 136.3, 142.0, 141.1, 148.5, 147.0, 152.0, 162.4, 158.0, 153.4, 164.5, 176.6, 148.3, 165.2, 159.0, 163.3, 169.5, 165.4, 170.4, 167.2, 166.1, 169.0, 160.9, 165.5, 157.0, 155.4, 165.0, 161.5, 189.0, 169.9, 171.0, 170.0, 172.0, 154.2, 164.7, 171.1, 159.2, 157.0, 179.0, 169.7, 166.1, 174.0, 168.5, 178.8, 164.5, 156.5, 176.3, 161.1, 174.0, 180.4, 160.0, 160.9, 170.0, 169.4, 173.0, 154.0, 158.0, 173.3, 156.0, 161.0, 156.0, 152.0, 169.0, 166.0, 147.0, 160.0, 161.0, 157.0, 175.0, 173.0, 155.0, 175.0, 161.0, 172.6, 158.0, 167.0, 160.0, 172.0, 172.0, 174.0, 154.0, 167.0, 160.0, 153.0, 160.0, 163.0, 155.0, 153.0, 172.0, 160.0, 168.0, 159.0, 160.0, 159.0, 149.0, 172.0, 156.0, 176.0, 157.0, 161.0, 169.0, 169.0, 162.0, 160.0, 163.0, 149.0, 168.0, 163.0, 171.0, 168.0, 157.0, 179.0, 143.0, 152.0, 171.0, 164.0, 165.0, 158.0, 180.0, 165.0, 185.0, 152.0, 145.7, 136.3, 149.5, 143.0, 132.5, 172.6, 155.9, 145.8, 152.6, 142.4, 145.9, 136.9, 141.0, 141.0, 144.4, 160.8, 138.0, 143.1, 148.5, 161.1, 171.2, 173.0, 159.0, 164.0, 168.2, 172.6, 158.9, 168.1, 183.1, 173.6, 183.9, 171.6, 171.6, 181.0, 188.0, 164.2, 154.4, 158.4, 180.1, 152.3, 156.6, 150.0, 156.7, 150.3, 168.8, 139.2, 156.1, 158.2, 153.9, 166.9, 146.4, 156.4, 168.6, 141.0, 157.4, 153.0, 151.1, 155.1, 145.6, 139.5, 138.1, 156.7, 149.4, 166.4, 162.1, 165.9, 175.1, 163.4, 172.1, 154.5, 168.5, 173.3, 172.3, 160.7, 174.5, 179.4, 184.7, 168.3, 158.1, 167.3, 179.6, 174.5, 169.3, 165.6, 160.6, 164.4, 174.4, 178.5, 156.1, 171.1, 163.3, 155.4, 185.3, 166.6, 155.6, 177.8, 156.9, 177.9, 177.8, 171.6, 172.1, 174.1, 180.9, 156.3, 172.7, 166.5, 160.6, 171.4, 188.1, 179.3, 169.5, 153.1, 162.4, 186.8, 170.4, 169.3, 168.4, 171.6, 168.7, 188.9, 164.6, 179.6, 163.2, 170.7, 171.5, 166.0, 158.4, 177.1, 168.7, 181.3, 173.5, 158.1, 160.7, 164.8, 184.4, 160.0, 176.8, 169.2, 172.7, 172.5, 164.9, 160.0, 175.5, 155.4, 158.7, 155.8, 174.2, 169.8, 174.7, 166.5, 156.1, 176.0, 162.7, 166.9, 160.1, 183.6, 173.6, 171.3, 175.9, 172.9, 178.3, 186.9, 152.4, 170.6, 154.7, 178.2, 179.8, 149.0, 143.0, 141.0, 153.0, 160.4, 155.1, 143.4, 166.6, 149.5, 146.3, 144.6, 142.4, 151.5, 152.9, 147.0, 157.7, 153.6, 139.4, 162.9, 146.5, 151.1, 152.8, 138.2, 157.0, 151.1, 161.5, 156.0, 169.0, 168.6, 154.6, 169.0, 162.3, 158.5, 174.9, 189.8, 173.2, 159.4, 181.6, 159.0, 169.0, 160.6, 169.5, 154.0, 161.9, 169.3, 155.6, 166.0, 155.5, 160.8, 154.6, 177.3, 182.0, 160.5, 156.0, 161.1, 172.5, 162.0, 164.0, 181.5, 151.0, 176.1, 156.5, 156.6, 181.5, 171.5, 164.1, 147.0, 157.2, 152.6, 147.5, 147.0, 162.4, 149.2, 142.6, 157.2, 157.4, 158.1, 159.5, 155.6, 153.0, 165.0, 159.0, 169.0, 160.5, 162.3, 168.8, 159.2, 175.8, 176.1, 169.5, 163.9, 162.8, 167.7, 161.7, 159.8, 168.9, 180.9, 165.7, 158.5, 173.5, 167.4, 160.9, 175.9, 148.3, 140.5, 160.9, 147.0, 145.8, 144.4, 150.9, 149.5, 152.5, 140.1, 142.0, 170.6, 137.4, 150.0, 149.5, 152.0, 155.8, 148.8, 143.6, 156.8, 144.6, 140.0, 147.5, 142.5, 157.9, 155.4, 137.0, 141.4, 150.6, 144.2, 155.8, 145.6, 163.4, 158.0, 149.0, 149.0, 151.8, 164.6, 140.5, 139.0, 143.0, 132.0, 148.0, 153.6, 146.0, 138.0, 151.0, 148.0, 157.5, 144.0, 145.0, 145.5, 143.0, 155.0, 163.0, 156.5, 154.0, 163.5, 147.8, 144.5, 157.0, 168.6, 160.2, 152.8, 152.0, 158.3, 161.0, 171.5, 156.0, 155.0, 138.5, 138.4, 160.5, 153.2, 153.0, 144.0, 145.0, 152.2, 171.3, 169.5, 160.4, 163.2, 171.3, 149.9, 167.9, 148.6, 168.6, 154.3, 160.9, 155.7, 147.4, 162.3, 148.5, 153.4, 180.3, 159.5, 146.5, 152.9, 162.0, 156.6, 153.0, 156.6, 156.6, 148.5, 177.8, 173.6, 157.2, 179.8, 173.0, 178.4, 173.9, 158.3, 176.7, 157.5, 162.1, 170.7, 167.2, 153.5, 168.6, 166.7, 167.2, 168.4, 169.5, 175.6, 173.2, 172.8, 167.2, 178.0, 165.0, 180.0, 155.0, 159.0, 162.4, 168.5, 166.6, 168.9, 166.8, 161.0, 166.0, 165.0, 156.6, 174.0, 166.8, 175.0, 166.3, 179.6, 161.4, 161.2, 167.3, 172.0, 163.1, 161.0, 177.4, 163.4, 162.8, 172.6, 173.0, 137.0, 145.9, 141.4, 142.1, 130.4, 147.4, 144.8, 154.0, 143.5, 161.3, 150.8, 150.2, 146.0, 155.7, 153.0, 158.7, 146.2, 165.9, 151.0, 150.0, 145.8, 136.6, 147.8, 162.5, 159.8, 170.4, 162.4, 149.0, 162.3, 158.5, 162.2, 170.1, 159.9, 153.1, 169.9, 160.0, 174.1, 166.9, 152.1, 174.0, 161.0, 173.2, 155.1, 180.4, 155.5, 165.0, 161.9, 177.9, 165.1, 165.3, 158.1, 159.0, 147.5, 159.3, 153.0, 147.5, 144.7, 141.8, 166.1, 153.5, 133.0, 157.5, 137.0, 145.0, 148.5, 149.8, 160.0, 139.0, 152.0, 147.0, 135.0, 147.0, 161.4, 141.5, 156.9, 148.0, 139.0, 170.0, 153.5, 143.3, 146.5, 172.3, 150.8, 149.5, 150.1, 149.7, 145.2, 152.0, 157.1, 142.2, 154.0, 145.7, 156.2, 162.5, 147.0, 130.5, 162.0, 126.0, 157.5, 151.4, 152.3, 139.0, 146.0, 147.5, 160.0, 151.9, 147.9, 134.5, 140.0, 147.5, 150.0, 162.5, 160.0, 179.8, 158.9, 168.2, 149.6, 166.4, 161.9, 158.9, 158.8, 156.0, 176.0, 152.5, 166.0, 170.5, 161.5, 170.3, 160.8, 147.6, 159.8, 172.2, 162.8, 155.0, 168.2, 156.8, 165.2, 160.0, 166.8, 167.0, 166.6, 167.8, 150.5, 162.5, 164.4, 160.0, 184.8, 178.6, 172.3, 175.5, 162.8, 173.9, 152.6, 166.2, 151.0, 161.8, 157.9, 168.4, 157.5, 159.5, 159.4, 158.4, 163.0, 156.8, 154.3, 167.8, 169.7, 176.7, 159.8, 160.1, 174.9, 160.3, 164.5, 154.0, 159.0, 174.7, 153.1, 145.6, 169.7, 172.0, 150.0, 150.3, 148.4, 156.8, 132.8, 136.6, 148.1, 156.9, 143.4, 139.1, 148.1, 159.5, 152.4, 137.1, 136.5, 151.7, 144.1, 136.7, 144.0, 141.6, 151.5, 161.4, 138.6, 157.7, 152.2, 147.0, 159.1, 154.6, 152.0, 154.8, 159.8, 142.4, 163.7, 148.3, 158.4, 161.2, 164.9, 151.5, 150.4, 162.7, 143.8, 154.0, 154.4, 150.1, 140.3, 152.4, 154.5, 170.4, 147.3, 141.8, 173.6, 141.9, 157.7, 147.0, 158.4, 165.5, 147.0, 147.9, 150.5, 156.5, 162.0, 164.0, 162.5, 154.9, 149.6, 142.6, 143.0, 159.2, 135.8, 147.2, 176.5, 152.6, 172.0, 155.4, 161.7, 159.0, 155.2, 145.3, 146.0, 154.7, 152.3, 154.4, 152.4, 152.0, 159.1, 162.4, 168.9, 147.0, 150.0, 147.2, 153.2, 153.2, 139.5, 145.9, 156.0, 157.0, 150.4, 163.5, 159.4, 146.9, 152.6, 156.0, 162.1, 166.5, 154.9, 155.5, 145.8, 154.4, 159.5, 157.9, 145.0, 160.1, 154.8, 147.4, 159.0, 173.0, 155.0, 159.8, 137.2, 157.1, 156.3, 177.8, 161.5, 156.5, 157.2, 163.5, 170.4, 168.0, 157.1, 166.8, 155.0, 174.9, 158.9, 169.1, 183.0, 165.5, 185.6, 175.2, 158.8, 155.9, 169.9, 166.1, 172.7, 165.8, 168.1, 165.5, 155.5, 153.7, 169.1, 158.5, 168.4, 154.8, 164.8, 160.3, 177.6, 156.6, 157.5, 160.0, 166.6, 165.9, 168.7, 153.8, 154.1, 166.8, 158.3, 165.8, 158.9, 157.4, 164.2, 178.4, 153.5, 176.1, 163.3, 153.6, 164.5, 158.2, 171.5, 162.1, 180.1, 173.7, 171.4, 155.5, 161.3, 164.4, 154.6, 153.1, 165.9, 162.6, 175.1, 167.4, 164.4, 168.1, 165.4, 147.0, 154.0, 161.0, 153.0, 158.0, 151.0, 148.0, 157.0, 155.0, 144.0, 156.0, 145.0, 153.0, 172.0, 146.0, 151.0, 162.0, 161.0, 151.0, 156.0, 150.0, 150.0, 152.0, 141.0, 135.0, 171.0, 157.7, 153.0, 153.0, 166.0, 185.0, 152.0, 169.0, 173.0, 155.0, 163.0, 167.0, 171.0, 163.0, 159.0, 166.0, 155.9, 175.0, 172.0, 155.0, 164.0, 171.0, 171.0, 159.4, 163.0, 143.5, 154.7, 164.8, 162.8, 143.9, 154.1, 160.8, 175.0, 165.9, 180.4, 168.0, 154.2, 153.9, 156.0, 157.8, 163.7, 155.4, 159.0, 154.4, 162.9, 162.4, 170.9, 166.0, 173.4, 159.0, 161.0, 158.8, 160.0, 170.6, 172.5, 170.9, 158.9, 166.9, 157.3, 158.7, 170.0, 164.8, 159.4, 165.0, 157.2, 172.8, 177.1, 173.7, 163.1, 170.4, 163.4, 165.2, 155.0, 156.1, 168.9, 165.1, 163.4, 163.9, 157.9, 161.9, 174.9, 166.9, 164.1, 167.4, 165.5, 184.4, 155.9, 160.9, 177.7, 171.9, 148.3, 156.4, 158.4, 160.1, 158.8, 163.7, 165.2, 162.9, 174.4, 157.0, 157.3, 168.1, 166.9, 179.7, 163.4, 172.6, 166.8, 163.2, 151.5, 175.5, 167.2, 159.0, 168.0, 167.9, 165.4, 176.8, 160.0, 167.6, 158.7, 155.0, 165.5, 172.0, 174.8, 165.3, 173.3, 166.4, 169.8, 168.0, 159.0, 188.8, 159.4, 155.1, 176.5, 173.3, 169.5, 173.8, 158.6, 188.5, 175.7, 165.0, 167.3, 166.5, 146.5, 159.9, 152.2, 152.3, 155.0, 153.4, 165.3, 180.5, 150.0, 146.0, 157.9, 160.5, 160.5, 161.2, 141.5, 158.5, 158.0, 173.5, 156.8, 164.0, 168.5, 154.6, 165.9, 174.0, 177.5, 160.4, 165.9, 161.4, 170.8, 182.2, 158.0, 149.3, 168.5, 172.4, 156.4, 155.9, 159.4, 166.0, 162.9, 169.0, 154.5, 170.4, 167.5, 154.0, 159.5, 169.0, 168.0, 155.0, 168.8, 178.4, 150.0, 150.6, 162.0, 160.5, 168.4, 168.5, 148.5, 174.9, 164.5, 157.5, 172.0, 153.2, 168.8, 164.1, 167.0, 175.0, 181.0, 170.4, 167.0, 176.0, 175.6, 190.0, 179.0, 159.9, 165.2, 179.0, 173.0, 170.5, 146.4, 160.5, 161.7, 179.4, 178.9, 145.4, 164.7, 171.6, 163.4, 163.0, 155.5, 152.8, 169.5, 166.0, 159.0, 178.3, 165.2, 174.0, 172.2, 153.5, 187.2, 162.9, 162.3, 163.8, 144.5, 156.2, 176.3, 169.5, 162.0, 158.5, 151.4, 144.4, 154.0, 138.0, 150.0, 151.0, 142.0, 133.5, 164.6, 153.2, 134.0, 151.7, 154.0, 140.0, 152.5, 153.6, 131.2, 141.0, 154.1, 164.0, 152.6, 142.9, 152.0, 158.1, 151.5, 140.8, 142.5, 167.2, 174.0, 173.0, 154.0, 161.9, 168.8, 161.5, 152.9, 163.5, 163.0, 163.5, 175.2, 170.0, 158.9, 164.9, 181.2, 162.0, 176.0, 184.4, 162.2, 168.5, 151.1, 177.5, 154.0, 173.9, 170.0, 174.4, 175.5, 176.9, 180.5, 172.6, 156.0, 156.5, 181.9, 170.3, 152.5, 177.4, 191.9, 153.3, 170.7, 168.9, 153.0, 166.5, 166.1, 176.3, 163.0, 159.4, 181.2, 175.7, 186.3, 182.6, 168.7, 158.9, 178.2, 168.9, 179.4, 174.6, 169.1, 159.3, 170.4, 167.0, 173.8, 171.0, 155.2, 156.2, 163.2, 171.3, 161.4, 182.5, 178.4, 162.0, 163.9, 160.9, 136.3, 162.8, 159.8, 157.0, 154.6, 147.0, 159.0, 154.5, 159.5, 155.7, 158.2, 178.6, 163.7, 163.8, 168.0, 175.4, 160.4, 156.0, 156.2, 157.5, 163.7, 154.2, 156.7, 152.8, 150.8, 146.0, 158.0, 158.6, 146.3, 153.0, 153.0, 140.4, 158.6, 170.2, 147.4, 161.5, 163.1, 156.4, 156.5, 142.1, 157.0, 146.1, 139.6, 138.7, 142.3, 141.4, 141.4, 134.7, 149.8, 148.5, 142.4, 151.4, 149.9, 135.8, 144.5, 142.1, 138.7, 159.9, 165.1, 147.7, 149.0, 158.2, 176.9, 143.3, 158.6, 160.3, 163.2, 157.5, 156.6, 160.1, 164.7, 153.1, 150.6, 156.5, 158.7, 148.1, 156.2, 168.5, 155.2, 161.1, 156.7, 154.7, 156.6, 160.7, 154.2, 162.2, 148.0, 147.4, 153.3, 144.8, 148.4, 159.0, 145.1, 144.5, 152.1, 146.7, 148.0, 147.0, 157.8, 137.5, 144.8, 149.8, 158.3, 153.4, 153.0, 145.7, 176.5, 151.9, 141.1, 159.0, 150.7, 164.1, 155.2, 173.3, 177.0, 174.6, 183.9, 174.0, 156.5, 160.0, 161.5, 174.1, 153.9, 162.2, 180.4, 177.7, 167.5, 178.8, 157.5, 163.6, 156.9, 176.8, 172.5, 154.6, 170.9, 162.7, 164.3, 159.9, 158.5, 164.4, 165.5, 163.0, 159.6, 151.5, 164.2, 169.2, 152.0, 165.5, 160.2, 172.6, 173.5, 168.8, 176.8, 154.5, 163.9, 164.2, 171.2, 156.2, 169.6, 171.5, 166.5, 159.5, 166.5, 151.7, 163.0, 148.0, 162.9, 163.5, 149.5, 164.2, 175.8, 175.2, 153.0, 166.5, 164.4, 151.1, 163.1, 161.5, 165.0, 158.4, 153.7, 171.1, 171.0, 155.2, 146.6, 149.1, 158.9, 165.2, 162.4, 159.9, 150.9, 172.4, 186.5, 156.0, 163.0, 168.4, 171.5, 169.0, 165.5, 153.9, 170.4, 173.0, 160.0, 184.1, 176.6, 154.1, 160.5, 156.1, 157.3, 151.5, 165.8, 173.5, 164.2, 151.9, 160.2, 154.9, 168.8, 169.6, 172.8, 163.0, 179.2, 155.9, 155.0, 158.4, 154.4, 152.1, 154.2, 158.9, 160.8, 174.1, 158.5, 154.9, 152.0, 168.6, 152.0, 168.9, 152.5, 165.7, 160.5, 163.5, 176.8, 168.5, 165.3, 158.8, 165.3, 164.2, 180.5, 162.1, 155.6, 160.0, 162.0, 168.8, 151.1, 162.5, 153.5, 165.9, 168.8, 146.8, 152.0, 163.8, 153.3, 147.8, 152.0, 144.3, 146.2, 153.2, 152.9, 144.0, 161.0, 144.2, 148.0, 153.1, 153.0, 141.0, 150.3, 146.6, 144.8, 151.5, 142.0, 153.8, 144.0, 155.6, 144.4, 157.0, 143.0, 137.3, 154.0, 150.2, 161.0, 168.9, 162.0, 162.0, 161.0, 167.0, 146.7, 151.0, 168.0, 162.2, 163.0, 157.6, 166.7, 154.0, 158.7, 158.6, 162.8, 148.0, 166.8, 161.4, 173.0, 153.0, 156.3, 167.0, 153.6, 172.9, 161.4, 162.8, 178.7, 164.4, 171.3, 175.4, 177.9, 158.0, 163.9, 177.9, 179.9, 173.8, 164.9, 157.7, 178.3, 157.7, 168.2, 171.7, 158.4, 150.2, 156.5, 150.8, 152.6, 166.3, 189.3, 169.9, 165.0, 163.2, 171.0, 168.5, 165.9, 180.0, 154.7, 177.5, 161.0, 171.9, 182.8, 159.4, 180.3, 164.1, 161.9, 165.8, 165.4, 169.4, 166.0, 154.8, 148.3, 169.7, 167.0, 174.5, 165.0, 172.0, 176.8, 174.5, 178.7, 162.3, 165.2, 165.5, 175.4, 169.0, 160.1, 170.3, 180.2, 165.5, 169.5, 169.9, 174.5, 165.6, 160.2, 160.1, 166.6, 171.3, 165.0, 169.1, 152.8, 172.4, 160.0, 163.5, 164.2, 166.0, 172.0, 159.0, 177.5, 179.0, 174.6, 180.2, 174.0, 158.8, 174.0, 176.0, 169.8, 150.5, 173.0, 161.0, 170.4, 169.4, 173.5, 173.0, 173.0, 166.5, 155.0, 171.9, 167.3, 170.0, 165.8, 186.0, 172.4, 178.6, 167.0, 163.0, 185.0, 160.1, 176.2, 177.0, 178.8, 167.9, 159.0, 182.4, 173.5, 160.1, 163.5, 177.5, 177.4, 173.0, 157.9, 163.8, 173.5, 172.0, 176.5, 151.9, 172.0, 155.0, 170.0, 157.5, 175.7, 169.5, 170.0, 160.4, 158.0, 159.0, 155.0, 159.9, 169.5, 163.5, 167.5, 171.0, 166.0, 167.0, 151.9, 164.3, 156.6, 169.7, 157.2, 152.3, 175.0, 147.0, 155.0, 166.5, 170.0, 168.5, 153.3, 168.5, 159.0, 181.4, 155.5, 170.6, 186.5, 179.0, 183.0, 179.5, 154.0, 167.3, 176.0, 170.4, 174.3, 165.0, 153.2, 169.0, 159.7, 173.7, 154.0, 166.6, 180.6, 178.4, 172.5, 172.2, 154.9, 169.4, 168.2, 168.2, 178.5, 158.0, 170.4, 181.0, 179.3, 171.0, 170.4, 172.1, 155.2, 176.5, 171.2, 184.1, 161.6, 178.0, 180.0, 167.2, 170.3, 173.6, 158.4, 161.6, 160.8, 149.2, 164.4, 182.3, 178.3, 165.4, 157.0, 168.6, 170.8, 159.5, 184.4, 174.2, 169.0, 166.4, 164.1, 169.8, 169.6, 164.4, 164.1, 160.9, 153.2, 164.5, 157.8, 162.9, 171.5, 174.0, 178.9, 160.1, 167.5, 171.2, 158.0, 156.5, 160.2, 158.5, 190.4, 182.2, 156.3, 169.4, 157.5, 172.6, 156.0, 167.8, 171.8, 171.9, 174.0, 195.3, 174.6, 165.0, 157.0, 176.8, 172.3, 157.0, 147.4, 142.5, 158.0, 151.0, 159.5, 137.0, 142.0, 153.2, 150.5, 163.0, 147.0, 155.0, 162.5, 160.0, 154.8, 153.0, 158.2, 152.5, 151.9, 151.7, 150.1, 150.1, 177.6, 172.2, 168.6, 167.0, 159.2, 152.1, 151.0, 160.0, 160.3, 158.1, 154.3, 156.5, 159.8, 177.6, 170.5, 156.5, 156.2, 165.0, 163.1, 167.5, 157.6, 168.0, 160.7, 176.9, 174.5, 166.2, 169.1, 163.4, 164.8, 169.0, 168.0, 169.9, 175.0, 168.6, 169.0, 157.5, 160.1, 175.5, 171.3, 172.9, 165.0, 167.0, 151.0, 177.5, 160.0, 161.0, 169.3, 177.0, 160.5, 150.0, 167.2, 162.0, 154.5, 161.0, 173.4, 159.2, 172.0, 154.5, 168.5, 161.8, 168.5, 160.8, 166.6, 163.5, 178.1, 164.0, 172.1, 164.5, 173.5, 172.5, 153.5, 143.5, 149.0, 164.5, 155.8, 150.4, 146.9, 158.9, 151.2, 140.1, 154.3, 149.5, 160.5, 158.7, 157.0, 149.2, 147.2, 142.0, 146.6, 161.8, 157.8, 153.4, 164.0, 167.5, 146.5, 163.7, 154.7, 156.5, 159.0, 138.2, 163.5, 155.0, 145.4, 163.9, 167.2, 160.6, 141.2, 161.0, 165.4, 151.1, 157.3, 154.5, 149.1, 167.4, 163.5, 158.2, 149.6, 147.3, 156.4, 159.1, 163.6, 163.4, 150.0, 157.0, 148.5, 156.5, 152.8, 158.9, 153.8, 153.0, 173.0, 170.2, 172.5, 163.9, 162.0, 157.0, 164.0, 155.4, 157.0, 153.3, 154.3, 167.6, 176.1, 162.0, 163.0, 161.3, 172.1, 165.2, 161.3, 159.8, 176.4, 169.0, 160.2, 157.9, 177.5, 160.5, 177.7, 164.8, 166.6, 167.6, 171.2, 165.3, 163.5, 156.4, 159.7, 160.8, 155.8, 158.5, 159.8, 160.5, 164.4, 171.5, 164.0, 179.0, 169.9, 175.5, 174.4, 171.6, 169.0, 166.3, 171.2, 176.9, 167.0, 141.5, 148.7, 147.8, 149.5, 144.0, 162.4, 143.0, 156.8, 137.1, 142.7, 143.9, 164.0, 158.1, 149.6, 154.3, 141.5, 148.0, 156.8, 147.0, 146.0, 140.0, 152.5, 155.5, 162.7, 144.3, 152.7, 168.0, 182.6, 165.3, 178.6, 152.5, 164.0, 164.6, 171.8, 182.3, 177.5, 154.0, 169.1, 168.8, 173.1, 160.8, 170.3, 179.9, 147.5, 160.4, 150.1, 149.9, 175.6, 148.4, 171.0, 157.5, 152.1, 150.8, 155.6, 150.1, 153.3, 141.4, 135.2, 156.7, 139.6, 148.3, 154.6, 152.7, 157.2, 157.8, 149.9, 144.5, 150.9, 162.8, 145.4, 159.8, 168.3, 173.4, 160.4, 157.5, 181.1, 170.4, 159.4, 182.8, 167.2, 171.5, 173.5, 176.6, 161.1, 176.9, 174.0, 156.3, 154.8, 156.4, 165.3, 170.2, 171.4, 169.0, 176.8, 174.2, 173.6, 165.3, 154.7, 163.6, 158.3, 166.0, 160.0, 169.8, 146.9, 165.9, 170.7, 169.1, 147.8, 141.7, 151.5, 166.1, 168.0, 160.7, 148.9, 144.0, 144.6, 160.8, 146.8, 153.0, 151.0, 156.5, 147.9, 144.2, 146.5, 141.6, 159.5, 146.8, 150.0, 139.9, 162.4, 163.4, 162.4, 151.2, 165.9, 151.9, 155.9, 151.9, 156.6, 158.6, 155.9, 161.9, 151.1, 166.9, 154.4, 155.9, 160.5, 153.5, 157.5, 153.1, 175.4, 158.1, 148.4, 145.9, 144.0, 155.6, 164.2, 141.8, 139.7, 149.2, 152.4, 160.7, 160.7, 159.4, 165.9, 160.0, 164.5, 153.6, 152.8, 147.9, 155.7, 136.2, 155.4, 172.9, 151.4, 152.1, 161.0, 154.9, 163.3, 157.2, 153.6, 148.5, 148.4, 164.5, 158.9, 172.4, 157.9, 166.0, 156.3, 147.9, 177.4, 164.3, 144.7, 173.5, 161.3, 160.0, 149.6, 155.5, 167.9, 159.5, 167.9, 178.0, 170.0, 164.0, 151.3, 165.5, 178.0, 177.6, 167.5, 166.0, 168.1, 189.9, 184.0, 165.1, 162.8, 166.4, 174.0, 161.5, 166.4, 184.6, 163.4, 156.1, 170.0, 156.0, 169.8, 169.8, 160.0, 158.6, 173.8, 153.4, 174.3, 161.2, 167.3, 147.9, 151.6, 160.1, 160.9, 147.4, 160.0, 152.4, 156.1, 154.1, 175.7, 165.6, 154.2, 160.8, 168.5, 149.9, 169.5, 150.9, 151.8, 151.6, 158.6, 158.6, 156.7, 153.8, 170.8, 174.4, 164.7, 154.9, 159.4, 153.5, 159.2, 161.6, 151.2, 168.3, 168.3, 165.9, 171.9, 169.0, 172.5, 148.2, 181.4, 155.3, 173.3, 164.9, 174.5, 177.0, 156.6, 160.7, 175.3, 162.5, 177.4, 173.1, 164.5, 168.4, 167.5, 156.0, 181.5, 146.6, 153.5, 145.4, 161.1, 152.5, 150.5, 156.4, 171.8, 169.7, 132.2, 142.3, 164.2, 159.5, 157.5, 150.1, 161.5, 153.0, 155.7, 144.1, 142.0, 162.0, 154.8, 155.4, 148.9, 152.5, 164.4, 154.6, 169.1, 152.1, 161.8, 145.2, 150.5, 163.7, 170.3, 173.8, 168.1, 163.3, 157.8, 147.5, 146.6, 140.3, 139.5, 138.3, 154.8, 155.0, 156.9, 154.5, 147.4, 157.3, 140.5, 152.6, 157.0, 155.0, 140.6, 161.4, 161.3, 153.3, 143.5, 162.3, 159.4, 167.3, 162.5, 159.2, 178.7, 179.8, 185.7, 155.5, 166.9, 176.5, 165.9, 158.6, 182.5, 176.6, 158.2, 163.9, 153.5, 182.4, 165.4, 172.3, 167.5, 156.4, 162.8, 155.8, 153.0, 165.7, 169.1, 164.5, 159.7, 152.2, 161.3, 164.7, 173.6, 158.5, 167.0, 172.0, 165.8, 158.5, 180.2, 168.4, 167.3, 177.2, 154.4, 161.6, 155.1, 166.3, 160.3, 161.6, 161.7, 165.2, 181.6, 171.5, 166.6, 158.4, 185.1, 180.2, 155.6, 179.0, 180.5, 183.0, 168.0, 158.0, 152.8, 153.7, 169.5, 150.2, 156.3, 172.8, 163.5, 150.6, 158.1, 153.7, 157.2, 150.0, 147.4, 162.5, 144.1, 135.0, 139.6, 159.3, 138.5, 147.2, 147.6, 161.9, 157.3, 165.7, 151.8, 152.6, 155.0, 150.9, 164.6, 149.3, 148.2, 152.3, 162.1, 155.7, 163.9, 148.9, 151.6, 152.0, 151.1, 164.2, 157.2, 150.4, 166.8, 154.4, 139.5, 149.8, 157.6, 158.9, 158.0, 147.2, 148.8, 151.4, 147.2, 175.2, 162.1, 175.2, 154.4, 170.5, 164.2, 179.3, 154.8, 152.6, 161.3, 161.9, 161.5, 165.8, 162.9, 160.6, 165.3, 159.9, 170.5, 170.3, 166.4, 169.5, 151.5, 164.3, 167.1, 158.0, 160.3, 155.9, 159.5, 174.4, 161.2, 154.9, 180.6, 167.5, 153.4, 158.1, 165.5, 157.1, 165.5, 164.0, 154.5, 173.9, 170.1, 169.9, 147.5, 168.0, 164.5, 162.5, 161.7, 170.8, 164.3, 174.1, 168.4, 154.1, 173.4, 173.9, 168.7, 165.5, 171.8, 174.6, 171.0, 150.6, 156.6, 161.3, 146.4, 166.0, 158.5, 164.0, 169.7, 174.7, 169.0, 155.6, 171.9, 147.4, 167.6, 157.8, 160.0, 168.6, 163.2, 175.4, 170.1, 159.6, 168.1, 169.0, 165.5, 146.9, 159.0, 169.8, 162.4, 173.1, 154.5, 156.8, 156.6, 164.4, 162.3, 164.1, 158.3, 170.2, 153.0, 181.1, 165.6, 166.1, 160.6, 161.0, 166.0, 172.0, 161.7, 165.5, 159.5, 158.6, 164.9, 160.0, 172.5, 172.0, 157.5, 158.3, 162.2, 161.5, 172.0, 148.5, 160.3, 180.5, 158.5, 160.0, 178.0, 153.5, 162.0, 179.5, 180.5, 159.3, 162.1, 155.0, 161.3, 157.4, 160.7, 183.0, 158.5, 151.5, 173.5, 164.7, 149.5, 164.4, 150.3, 158.5, 176.5, 171.5, 169.5, 165.7, 159.0, 184.5, 164.5, 161.8, 168.9, 169.9, 169.5, 173.6, 173.0, 176.8, 164.3, 165.3, 148.9, 167.1, 165.0, 162.9, 171.6, 161.6, 185.6, 173.3, 165.8, 174.1, 172.8, 144.8, 149.8, 136.1, 164.7, 144.6, 139.8, 147.6, 157.9, 153.7, 168.6, 152.1, 145.1, 145.7, 145.9, 148.0, 153.7, 157.3, 164.7, 164.6, 151.3, 152.2, 170.6, 164.0, 175.0, 169.5, 160.0, 167.9, 169.9, 179.0, 159.9, 163.1, 155.0, 169.3, 173.0, 160.0, 175.7, 171.4, 166.5, 167.0, 174.4, 184.0, 173.5, 170.3, 155.5, 170.0, 175.3, 161.2, 160.5, 179.2, 165.1, 178.1, 168.3, 158.8, 180.8, 165.3, 181.9, 163.5, 159.1, 157.5, 176.9, 163.2, 160.9, 177.8, 172.4, 156.6, 158.0, 155.3, 187.0, 157.8, 161.1, 160.6, 148.5, 165.8, 174.5, 158.9, 179.9, 168.2, 156.1, 162.6, 156.9, 166.6, 156.5, 166.4, 159.6, 158.8, 184.5, 176.4, 167.3, 159.4, 167.2, 157.8, 177.5, 178.2, 164.6, 170.2, 177.6, 154.9, 151.6, 168.3, 159.5, 160.1, 155.0, 142.4, 150.6, 154.9, 153.7, 148.4, 155.5, 142.7, 151.1, 141.5, 156.0, 150.1, 155.0, 140.4, 166.8, 158.1, 159.4, 157.7, 166.0, 173.6, 179.1, 147.7, 180.0, 164.0, 149.5, 175.0, 164.9, 145.3, 164.0, 171.0, 152.4, 166.0, 165.0, 150.0, 163.5, 172.2, 162.0, 144.5, 150.5, 167.5, 152.0, 165.0, 154.5, 162.0, 158.0, 164.0, 158.3, 164.5, 174.5, 147.5, 147.6, 152.8, 158.9, 174.3, 157.0, 151.4, 161.4, 174.5, 145.6, 146.6, 149.9, 147.4, 157.1, 141.6, 157.7, 143.7, 142.5, 155.6, 154.5, 156.1, 161.6, 158.5, 147.0, 169.1, 154.4, 161.4, 162.5, 178.5, 161.0, 162.0, 148.5, 156.5, 139.7, 155.6, 155.8, 144.5, 159.4, 156.5, 146.5, 157.8, 157.5, 167.0, 165.2, 166.1, 160.1, 169.3, 153.5, 142.9, 155.0, 160.9, 142.0, 178.0, 167.7, 163.6, 169.0, 166.0, 156.3, 165.5, 152.0, 156.0, 173.8, 146.8, 162.0, 170.0, 160.0, 147.0, 146.8, 168.3, 158.1, 155.9, 172.2, 178.3, 155.0, 161.4, 155.7, 151.6, 152.5, 150.4, 157.8, 179.9, 156.2, 166.9, 182.4, 162.8, 184.7, 177.9, 168.8, 167.7, 168.4, 169.2, 161.5, 187.0, 159.0, 152.3, 155.7, 173.0, 157.9, 148.9, 179.1, 176.7, 162.1, 166.1, 152.5, 158.7, 175.3, 168.6, 175.5, 164.0, 175.9, 159.5, 158.6, 164.5, 164.5, 176.9, 157.0, 163.6, 163.8, 168.5, 161.9, 163.7, 170.0, 171.3, 182.3, 161.4, 162.7, 164.4, 169.5, 161.2, 183.4, 167.6, 179.0, 161.1, 169.0, 163.8, 160.7, 174.8, 158.1, 154.3, 158.9, 150.6, 168.7, 173.3, 150.8, 143.8, 166.9, 155.2, 154.2, 160.3, 166.9, 167.2, 150.8, 168.9, 158.1, 159.1, 161.9, 168.9, 154.6, 167.1, 156.8, 173.7, 171.9, 166.1, 170.9, 174.3, 154.8, 165.9, 170.9, 176.7, 160.1, 154.9, 161.3, 154.6, 164.1, 166.8, 179.9, 151.3, 159.6, 167.0, 152.9, 178.8, 176.3, 167.8, 156.6, 161.0, 171.5, 157.2, 167.1, 157.5, 161.4, 158.6, 164.9, 162.6, 153.4, 160.2, 176.8, 162.2, 160.3, 168.2, 161.0, 175.3, 170.9, 152.2, 170.8, 177.6, 153.4, 159.5, 167.5, 154.6, 174.4, 172.2, 158.8, 153.4, 169.9, 177.9, 168.6, 166.5, 153.0, 178.8, 168.6, 164.0, 173.8, 164.6, 157.9, 166.9, 164.4, 179.0, 167.2, 171.4, 161.9, 165.1, 175.9, 160.8, 165.8, 165.4, 137.7, 161.2, 170.1, 161.1, 151.4, 180.5, 164.9, 148.8, 136.4, 161.0, 159.7, 166.9, 162.7, 166.0, 162.0, 153.4, 153.1, 160.4, 144.1, 155.4, 146.6, 171.8, 167.2, 150.3, 155.9, 150.1, 143.1, 164.9, 154.4, 158.4, 149.3, 155.1, 153.3, 150.5, 172.5, 156.0, 156.3, 177.7, 164.9, 152.3, 168.4, 137.4, 138.2, 148.9, 140.9, 177.5, 171.3, 168.3, 161.0, 162.2, 173.0, 158.5, 167.0, 165.5, 165.3, 176.5, 176.5, 154.5, 151.0, 161.2, 175.1, 160.4, 157.5, 157.3, 153.3, 156.0, 165.9, 183.3, 176.1, 162.5, 177.4, 164.8, 162.0, 169.6, 174.5, 161.5, 170.0, 154.0, 155.8, 159.6, 170.2, 172.2, 165.7, 158.5, 179.9, 171.1, 154.0, 191.2, 153.5, 158.5, 167.4, 169.1, 176.2, 151.3, 165.1, 170.0, 173.5, 161.6, 159.8, 174.1, 160.5, 170.4, 164.7, 161.1, 172.4, 165.7, 165.9, 181.6, 169.2, 180.5, 159.3, 160.7, 165.5, 181.4, 168.3, 157.6, 168.4, 172.4, 160.1, 180.0, 167.5, 155.6, 172.6, 158.6, 179.4, 181.3, 155.0, 181.8, 169.1, 166.9, 174.2, 160.1, 180.5, 173.4, 165.0, 180.0, 169.1, 157.5, 169.1, 157.0, 166.0, 165.5, 155.0, 169.8, 167.9, 174.1, 176.9, 176.3, 157.0, 159.8, 176.6, 180.2, 154.4, 171.0, 174.8, 162.5, 157.3, 145.1, 148.9, 132.8, 149.8, 156.8, 152.4, 146.9, 149.0, 153.0, 150.0, 140.5, 139.8, 148.8, 154.8, 152.0, 138.5, 142.5, 138.5, 139.6, 143.1, 153.0, 148.4, 137.5, 145.7, 136.2, 151.5, 156.4, 139.2, 138.7, 148.0, 143.9, 148.8, 163.4, 165.9, 168.5, 159.9, 173.5, 157.4, 153.0, 148.6, 153.3, 157.0, 166.0, 156.7, 175.4, 167.3, 153.1, 163.8, 155.4, 171.9, 152.7, 149.8, 158.6, 154.0, 151.2, 144.4, 160.3, 151.3, 165.6, 164.4, 164.2, 160.9, 158.5, 157.3, 163.0, 151.6, 167.6, 167.0, 157.7, 155.7, 175.7, 156.5, 162.1, 163.3, 168.2, 166.4, 156.3, 157.4, 153.1, 162.6, 154.0, 144.1, 165.1, 158.6, 146.3, 171.4, 138.7, 148.5, 144.2, 145.5, 153.2, 144.0, 158.6, 150.8, 140.7, 137.6, 146.1, 150.7, 140.6, 152.2, 140.8, 147.2, 156.7, 139.7, 148.6, 162.1, 158.3, 142.1, 139.3, 155.6, 145.2, 151.1, 146.2, 152.5, 172.4, 156.5, 155.9, 162.9, 169.6, 159.5, 172.1, 162.6, 163.9, 160.8, 166.9, 173.0, 158.5, 166.9, 165.6, 148.3, 168.1, 176.0, 178.3, 166.5, 174.6, 164.1, 162.5, 152.5, 161.4, 154.7, 161.5, 168.9, 150.7, 163.9, 171.6, 158.0, 163.4, 161.3, 164.1, 178.9, 173.8, 156.5, 176.6, 170.8, 166.7, 153.4, 164.9, 157.6, 169.0, 171.3, 183.9, 168.5, 164.6, 176.8, 171.6, 151.7, 167.3, 174.2, 169.5, 175.2, 167.6, 158.2, 165.5, 161.0, 161.3, 168.3, 166.5, 158.9, 175.1, 165.0, 159.0, 162.7, 176.0, 158.6, 155.5, 169.0, 157.8, 151.2, 159.3, 163.3, 178.5, 162.2, 152.0, 172.0, 149.3, 177.2, 161.8, 159.7, 156.5, 170.5, 162.9, 157.0, 152.6, 175.1, 170.6, 163.7, 165.5, 171.0, 167.0, 154.8, 167.9, 179.9, 160.0, 154.3, 175.5, 154.2, 169.6, 164.9, 174.0, 183.1, 168.7, 165.7, 157.2, 153.0, 161.6, 148.0, 173.0, 153.2, 153.9, 150.1, 165.5, 150.6, 149.5, 158.3, 156.0, 167.4, 160.8, 157.2, 158.5, 162.0, 167.4, 159.9, 160.5, 149.8, 144.4, 156.3, 163.9, 153.0, 172.7, 149.6, 164.2, 151.8, 176.7, 154.2, 162.5, 157.8, 181.6, 162.1, 166.4, 144.7, 149.2, 169.3, 154.4, 157.6, 151.8, 149.3, 158.4, 153.1, 159.7, 164.0, 162.9, 158.2, 151.9, 165.4, 164.0, 156.6, 176.4, 171.7, 160.1, 157.9, 157.3, 162.9, 143.3, 149.6, 151.3, 157.4, 146.1, 148.1, 156.5, 141.1, 146.6, 156.8, 141.7, 148.2, 136.6, 142.5, 145.0, 152.3, 139.0, 161.0, 156.9, 139.0, 145.2, 149.1, 140.8, 152.2, 149.4, 162.4, 158.9, 148.5, 158.2, 152.0, 162.3, 164.6, 139.6, 157.6, 153.1, 166.2, 159.6, 144.6, 169.4, 161.0, 165.5, 145.0, 161.9, 134.6, 164.4, 166.1, 151.0, 142.5, 153.2, 148.9, 161.9, 142.4, 153.7, 160.8, 172.9, 164.8, 168.8, 172.9, 156.4, 162.0, 163.0, 160.7, 163.1, 189.4, 161.1, 158.8, 179.6, 163.1, 163.6, 166.6, 187.0, 162.7, 156.0, 157.5, 164.1, 170.5, 177.8, 157.1, 164.3, 162.0, 151.3, 176.3, 155.3, 157.5, 168.7, 166.5, 173.0, 162.9, 166.9, 173.2, 157.0, 174.6, 159.1, 166.2, 155.0, 159.6, 157.6, 158.0, 165.6, 168.1, 166.0, 171.8, 157.9, 184.5, 184.0, 174.5, 171.0, 160.5, 175.6, 158.5, 159.0, 158.0, 176.0, 158.5, 163.5, 168.0, 162.5, 173.3, 171.3, 157.9, 159.5, 162.8, 155.9, 164.0, 181.4, 169.7, 143.5, 170.0, 173.5, 162.0, 164.9, 189.0, 161.1, 162.0, 182.5, 175.5, 165.0, 166.8, 149.8, 161.5, 147.3, 161.2, 148.0, 171.0, 163.0, 178.0, 160.5, 165.6, 168.0, 166.7, 154.3, 136.5, 148.0, 166.0, 156.0, 150.5, 153.0, 140.0, 151.4, 143.5, 153.0, 158.0, 159.5, 142.5, 145.8, 168.0, 171.9, 167.0, 180.5, 177.0, 165.1, 170.0, 184.0, 153.0, 147.8, 148.5, 152.5, 162.2, 153.5, 143.4, 145.6, 157.5, 144.4, 152.5, 152.0, 156.4, 156.2, 151.9, 153.0, 147.5, 153.0, 148.0, 168.2, 165.9, 168.9, 164.0, 165.8, 171.2, 173.2, 165.9, 167.5, 173.9, 185.2, 172.3, 156.0, 174.0, 164.0, 167.1, 157.9, 169.0, 158.0, 168.5, 167.0, 156.1, 154.0, 173.8, 162.9, 159.9, 162.4, 160.9, 159.2, 164.0, 163.0, 172.1, 153.0, 157.9, 163.9, 148.9, 159.0, 170.1, 150.2, 158.1, 158.1, 171.5, 169.9, 156.1, 153.5, 158.2, 166.0, 168.0, 162.9, 169.9, 161.1, 167.5, 166.0, 165.4, 163.5, 155.9, 161.8, 163.0, 167.4, 160.7, 162.0, 159.4, 173.1, 172.3, 158.5, 153.5, 158.9, 170.0, 160.1, 148.2, 164.9, 159.9, 147.6, 150.2, 165.0, 173.8, 150.9, 155.9, 159.9, 160.9, 149.1, 165.6, 158.5, 158.0, 158.5, 150.8, 151.0, 162.4, 172.8, 172.0, 158.5, 160.8, 149.0, 165.0, 153.4, 171.2, 158.5, 169.3, 162.0, 166.8, 157.0, 167.4, 171.8, 167.9, 166.0, 154.2, 161.2, 168.5, 160.1, 166.5, 151.0, 159.9, 156.1, 145.1, 170.0, 162.9, 175.8, 162.8, 180.1, 179.9, 156.5, 166.8, 162.9, 172.2, 171.1, 163.5, 160.3, 182.1, 179.9, 174.0, 165.0, 167.8, 154.8, 150.1, 188.2, 173.1, 149.9, 160.0, 162.9, 159.9, 175.6, 158.0, 165.0, 175.0, 162.1, 164.9, 168.0, 181.7, 163.2, 168.1, 168.5, 160.5, 154.9, 156.9, 151.0, 165.0, 185.0, 178.9, 164.1, 170.0, 157.0, 162.1, 155.8, 149.9, 179.7, 159.9, 163.1, 173.1, 163.5, 168.5, 173.7, 163.0, 175.0, 172.1, 157.2, 186.0, 148.0, 181.0, 173.0, 158.5, 162.0, 178.2, 162.1, 160.5, 158.0, 167.0, 173.0, 159.6, 170.3, 152.5, 158.5, 163.5, 168.4, 178.9, 178.0, 176.5, 173.1, 164.1, 154.9, 175.0, 180.0, 159.5, 170.5, 168.1, 161.0, 173.0, 174.1, 167.0, 168.9, 172.8, 161.0, 181.3, 179.8, 160.2, 182.4, 163.8, 159.4, 171.2, 158.2, 167.5, 158.4, 161.9, 159.0, 159.0, 167.2, 164.7, 173.8, 163.1, 170.1, 173.9, 160.5, 158.1, 160.5, 146.0, 160.5, 153.3, 163.7, 140.1, 150.0, 141.2, 145.8, 149.5, 158.0, 153.3, 149.3, 149.5, 156.2, 149.8, 156.0, 151.2, 146.6, 143.8, 158.7, 158.0, 139.9, 149.9, 144.4, 179.5, 168.0, 173.5, 153.8, 167.8, 146.6, 170.5, 152.0, 168.0, 161.6, 161.3, 154.9, 143.3, 165.4, 170.2, 161.4, 153.6, 160.0, 145.8, 168.7, 160.9, 157.1, 159.6, 161.2, 157.1, 158.8, 159.1, 167.3, 168.5, 171.0, 153.5, 171.8, 140.2, 163.4, 171.5, 158.7, 151.1, 166.4, 147.8, 166.0, 145.1, 158.4, 152.2, 145.2, 161.9, 144.5, 139.0, 165.4, 150.4, 144.0, 153.8, 149.1, 147.6, 149.4, 150.1, 131.4, 140.5, 158.7, 160.7, 157.8, 153.2, 139.8, 152.8, 146.2, 154.1, 158.9, 156.0, 154.3, 151.9, 153.7, 153.6, 142.4, 156.4, 154.4, 174.5, 158.5, 160.1, 183.6, 157.8, 154.4, 161.6, 154.1, 165.6, 164.5, 156.3, 151.9, 151.5, 160.3, 161.0, 161.1, 162.4, 178.0, 163.5, 145.9, 156.9, 151.0, 149.6, 153.0, 150.4, 159.5, 155.2, 156.2, 149.8, 172.3, 149.7, 168.0, 159.0, 160.4, 161.2, 166.9, 145.4, 149.8, 163.4, 157.2, 156.0, 159.3, 156.6, 169.5, 166.0, 166.3, 155.8, 143.0, 171.8, 162.1, 163.3, 163.7, 160.2, 148.5, 148.5, 157.3, 166.9, 161.3, 159.9, 152.9, 161.1, 154.9, 152.4, 154.0, 158.9, 154.4, 163.2, 161.4, 149.9, 152.0, 162.8, 162.3, 164.0, 158.5, 171.8, 161.4, 156.6, 168.0, 169.9, 152.3, 164.0, 153.9, 166.7, 158.7, 158.0, 151.9, 174.0, 163.1, 165.0, 167.1, 165.5, 171.0, 174.8, 160.0, 157.4, 150.0, 168.6, 159.0, 173.0, 159.5, 164.0, 160.4, 172.4, 172.6, 185.0, 156.0, 168.6, 167.5, 162.5, 166.7, 151.9, 168.0, 167.0, 162.0, 168.0, 162.4, 181.5, 163.5, 161.0, 161.2, 165.0, 164.2, 160.0, 176.5, 191.0, 156.0, 157.5, 162.0, 156.0, 164.2, 168.5, 174.5, 173.0, 156.9, 171.5, 154.0, 151.8, 169.0, 172.0, 153.0, 166.5, 166.7, 169.0, 164.2, 166.8, 162.0, 162.5, 172.5, 153.0, 152.9, 160.0, 150.9, 159.2, 170.1, 151.4, 173.2, 167.9, 162.6, 162.5, 164.2, 156.9, 144.0, 159.0, 154.5, 148.0, 168.8, 176.6, 160.7, 157.5, 154.5, 147.0, 168.0, 161.7, 144.0, 167.5, 158.0, 154.5, 148.0, 157.0, 148.0, 164.4, 153.9, 166.0, 164.9, 179.5, 150.9, 136.5, 153.2, 163.5, 166.6, 146.0, 152.0, 168.0, 154.1, 160.0, 149.0, 160.0, 145.4, 161.2, 151.4, 158.5, 168.5, 155.8, 159.0, 167.9, 160.0, 161.5, 162.8, 145.5, 159.8, 147.4, 151.2, 168.5, 156.6, 161.9, 168.0, 169.0, 153.4, 171.4, 151.9, 160.5, 161.0, 154.0, 165.0, 169.0, 159.0, 159.0, 176.5, 148.0, 173.2, 168.8, 164.5, 161.5, 157.5, 142.0, 147.8, 153.8, 158.6, 139.5, 154.5, 174.3, 148.8, 159.5, 158.5, 152.4, 156.1, 132.8, 156.0, 157.3, 157.4, 149.4, 145.7, 142.5, 142.4, 158.3, 151.1, 162.4, 152.9, 143.9, 146.7, 166.0, 152.8, 159.7, 167.8, 155.7, 158.5, 159.5, 152.0, 183.7, 162.7, 167.6, 152.7, 165.7, 175.0, 166.0, 150.2, 171.7, 173.0, 161.4, 172.7, 176.5, 168.4, 179.2, 159.5, 163.3, 153.1, 171.3, 167.5, 184.4, 182.6, 170.5, 164.5, 150.2, 154.4, 140.3, 164.6, 147.9, 142.4, 149.7, 147.1, 139.0, 161.5, 148.2, 158.2, 147.6, 156.0, 137.0, 141.1, 159.4, 141.3, 153.0, 154.4, 154.2, 152.5, 149.5, 146.1, 151.1, 154.4, 155.4, 154.2, 162.7, 164.0, 160.3, 166.4, 162.7, 161.3, 170.5, 171.8, 153.0, 162.8, 163.0, 176.3, 170.8, 167.6, 174.6, 155.5, 162.3, 163.1, 169.9, 170.0, 159.7, 175.6, 169.9, 167.6, 179.4, 168.0, 178.7, 162.9, 168.6, 169.0, 159.4, 174.0, 169.0, 170.0, 171.0, 165.0, 171.5, 169.5, 175.6, 170.1, 162.4, 173.9, 179.9, 160.1, 166.5, 159.5, 169.5, 159.8, 181.3, 181.1, 162.4, 167.2, 175.1, 184.8, 157.5, 171.2, 156.5, 154.3, 179.2, 161.2, 159.6, 174.7, 173.7, 170.0, 148.2, 163.3, 159.5, 152.5, 165.5, 162.5, 148.5, 157.8, 146.1, 148.5, 164.5, 158.8, 152.5, 178.5, 175.4, 167.8, 149.9, 155.8, 173.0, 152.5, 152.6, 146.8, 164.4, 170.5, 148.8, 150.0, 149.7, 139.5, 177.3, 166.2, 146.5, 157.2, 152.6, 164.5, 164.5, 169.8, 159.5, 165.2, 167.5, 180.8, 167.2, 158.7, 154.8, 157.5, 153.9, 156.5, 157.0, 157.6, 168.8, 179.8, 158.5, 166.1, 174.2, 168.6, 162.2, 166.1, 152.0, 171.5, 160.0, 177.8, 156.8, 164.0, 175.4, 160.1, 181.2, 173.1, 153.0, 165.8, 164.0, 163.0, 156.5, 163.9, 151.0, 162.8, 158.5, 158.6, 148.8, 171.2, 149.8, 183.0, 160.0, 165.5, 160.0, 165.0, 158.5, 162.8, 166.1, 168.0, 164.2, 167.0, 149.0, 171.6, 167.0, 160.5, 167.7, 161.5, 161.5, 177.5, 163.5, 157.0, 173.5, 169.5, 170.6, 170.2, 170.0, 171.0, 173.5, 159.5, 154.5, 159.5, 173.3, 161.1, 168.8, 160.5, 163.5, 157.0, 157.5, 137.9, 163.2, 159.2, 161.1, 171.8, 166.0, 154.0, 157.9, 158.5, 173.2, 168.3, 170.2, 165.7, 162.1, 168.5, 176.5, 155.5, 153.6, 173.2, 161.5, 170.0, 173.5, 161.0, 174.5, 163.0, 171.8, 180.0, 166.5, 178.5, 180.5, 163.5, 172.5, 163.5, 158.5, 176.3, 191.5, 163.5, 164.3, 154.0, 156.0, 176.5, 158.6, 175.0, 164.5, 177.5, 169.5, 164.3, 164.7, 169.5, 160.0, 161.0, 155.5, 153.8, 157.0, 147.5, 150.0, 157.0, 158.8, 159.2, 141.0, 154.0, 152.2, 151.2, 156.0, 140.2, 137.7, 141.5, 136.0, 140.0, 147.0, 148.8, 155.0, 168.0, 146.0, 158.0, 154.5, 155.8, 154.0, 149.2, 152.9, 157.0, 148.5, 154.0, 157.5, 159.0, 172.8, 158.9, 173.5, 158.0, 156.5, 155.0, 149.0, 180.5, 166.6, 157.5, 161.3, 139.0, 147.7, 160.0, 158.2, 159.6, 156.0, 160.0, 155.6, 158.8, 164.0, 154.0, 166.5, 152.5, 157.8, 159.2, 174.0, 167.7, 168.5, 153.2, 152.6, 163.0, 154.2, 157.5, 156.5, 156.8, 155.4, 150.0, 159.8, 161.4, 166.0, 163.2, 161.0, 165.3, 149.0, 162.5, 164.4, 172.5, 161.3, 158.3, 157.9, 164.9, 175.4, 186.0, 156.1, 158.9, 162.3, 173.5, 175.6, 172.5, 152.1, 158.1, 176.9, 166.4, 168.9, 170.9, 155.0, 159.5, 173.4, 179.5, 172.6, 173.4, 159.7, 162.1, 173.5, 176.4, 170.7, 172.3, 167.6, 169.0, 167.9, 163.3, 153.4, 156.6, 161.6, 158.0, 157.0, 163.3, 165.6, 186.3, 170.6, 164.4, 176.7, 159.6, 176.5, 160.8, 163.4, 171.3, 157.4, 165.3, 160.4, 152.9, 160.6, 152.5, 165.6, 159.5, 181.4, 172.4, 174.7, 170.2, 174.0, 166.5, 161.3, 153.8, 163.2, 172.4, 173.4, 167.7, 161.5, 166.0, 174.5, 157.4, 157.2, 180.4, 154.9, 164.5, 170.0, 174.7, 171.0, 173.6, 164.3, 165.5, 158.8, 155.0, 161.8, 193.9, 153.6, 159.2, 166.2, 158.4, 167.0, 167.0, 165.3, 157.1, 180.5, 167.5, 169.9, 168.7, 163.3, 168.9, 175.6, 159.2, 171.0, 161.5, 166.5, 172.7, 171.2, 176.3, 147.5, 165.5, 171.3, 166.5, 176.2, 162.0, 139.2, 146.2, 158.8, 164.0, 177.0, 155.5, 168.5, 177.4, 177.0, 176.3, 177.3, 164.0, 159.1, 176.6, 172.1, 154.0, 178.0, 169.0, 189.3, 162.2, 156.4, 159.6, 172.8, 179.1, 172.8, 168.4, 154.2, 166.0, 164.5, 159.8, 159.7, 170.8, 158.1, 173.8, 174.0, 160.1, 164.0, 164.5, 168.8, 156.8, 155.0, 161.9, 165.9, 178.8, 153.2, 162.0, 173.8, 154.5, 159.0, 151.8, 163.2, 174.5, 163.0, 160.4, 173.0, 155.3, 169.0, 149.1, 169.5, 162.5, 164.0, 176.5, 161.5, 150.2, 175.9, 175.0, 164.0, 166.0, 169.5, 164.1, 159.2, 177.4, 175.2, 158.5, 180.6, 163.0, 154.2, 145.9, 159.8, 157.8, 167.0, 156.5, 148.8, 145.3, 135.1, 147.3, 158.5, 158.1, 160.9, 140.6, 153.0, 134.8, 139.8, 149.8, 163.9, 154.4, 148.5, 158.5, 151.3, 155.9, 150.3, 147.1, 155.0, 166.9, 156.2, 162.4, 167.3, 157.3, 168.6, 166.0, 162.2, 166.5, 178.1, 161.3, 174.5, 173.0, 164.5, 179.5, 177.5, 158.0, 181.3, 186.5, 161.0, 169.9, 180.0, 159.7, 160.5, 179.8, 156.4, 171.5, 163.0, 169.9, 173.8, 163.7, 164.5, 180.0, 183.5, 175.6, 183.0, 182.3, 168.6, 161.3, 188.0, 181.5, 182.1, 173.1, 168.4, 186.0, 162.8, 178.0, 170.8, 145.0, 171.1, 161.9, 168.3, 163.0, 166.4, 174.1, 159.1, 161.1, 165.0, 155.5, 168.0, 170.1, 170.9, 162.5, 168.5, 172.5, 186.1, 162.0, 167.9, 172.0, 156.8, 158.8, 170.3, 176.4, 164.8, 169.5, 159.5, 177.6, 168.8, 167.5, 169.9, 180.6, 164.0, 159.4, 163.5, 165.5, 172.5, 151.3, 167.1, 146.9, 175.0, 155.0, 165.0, 165.5, 175.0, 169.5, 180.2, 166.2, 170.5, 160.9, 161.1, 167.6, 176.2, 157.5, 176.9, 172.2, 163.3, 160.1, 156.6, 155.0, 180.0, 162.6, 147.9, 164.8, 164.1, 154.2, 148.0, 160.0, 154.5, 161.9, 160.5, 172.8, 148.2, 153.6, 167.8, 164.2, 163.0, 160.4, 170.1, 156.2, 153.9, 166.5, 159.5, 147.9, 162.5, 147.5, 162.0, 143.2, 154.9, 166.1, 160.6, 168.6, 157.6, 156.1, 171.6, 150.6, 153.3, 154.4, 161.0, 155.6, 156.4, 155.4, 156.4, 157.9, 155.4, 156.2, 167.9, 166.1, 150.0, 151.4, 159.5, 170.9, 157.5, 151.6, 152.8, 153.9, 172.3, 157.9, 150.5, 147.0, 143.4, 147.3, 145.5, 154.2, 144.0, 160.9, 149.2, 142.5, 153.8, 153.2, 161.0, 164.3, 162.0, 148.9, 169.1, 161.3, 163.9, 162.5, 158.7, 158.4, 153.5, 152.6, 139.1, 161.5, 159.1, 167.0, 169.3, 163.0, 152.4, 149.8, 140.0, 167.3, 149.2, 158.3, 148.9, 146.0, 151.9, 170.9, 154.7, 156.5, 152.5, 156.2, 139.4, 144.7, 162.5, 156.9, 143.7, 144.7, 157.1, 158.9, 155.6, 156.1, 162.9, 168.6, 146.8, 141.5, 161.9, 151.2, 143.4, 139.4, 165.4, 158.9, 152.8, 164.4, 158.8, 164.1, 161.0, 161.9, 176.6, 157.8, 163.4, 173.9, 167.3, 158.8, 159.2, 156.4, 148.6, 164.8, 150.1, 168.2, 146.8, 153.4, 166.0, 158.4, 160.0, 159.8, 144.3, 166.5, 158.9, 169.4, 162.1, 163.6, 146.6, 160.5, 152.4, 144.3, 148.6, 150.9, 154.0, 143.4, 154.0, 150.5, 139.4, 169.4, 149.1, 142.7, 139.4, 139.0, 133.2, 147.5, 152.0, 147.7, 167.5, 171.5, 159.1, 157.5, 153.6, 160.2, 154.3, 153.4, 160.1, 166.5, 150.7, 160.7, 142.0, 162.4, 146.9, 155.4, 166.5, 163.5, 151.6, 153.0, 154.6, 163.2, 171.4, 156.5, 159.5, 147.2, 149.1, 149.9, 151.0, 140.9, 157.4, 148.6, 164.9, 129.6, 143.5, 144.2, 150.0, 158.5, 134.9, 150.4, 138.6, 159.6, 154.4, 157.5, 150.9, 142.5, 161.9, 153.2, 141.5, 159.6, 151.0, 145.6, 142.2, 144.0, 159.6, 156.2, 158.0, 165.8, 152.0, 151.9, 162.6, 161.9, 157.9, 158.9, 171.4, 152.0, 149.7, 151.9, 154.4, 165.6, 175.0, 140.7, 149.8, 147.7, 144.0, 161.9, 145.7, 148.2, 159.5, 135.0, 150.1, 174.4, 160.8, 146.2, 168.3, 149.0, 152.6, 154.9, 144.0, 140.9, 156.1, 154.1, 145.4, 150.5, 148.9, 148.0, 156.0, 138.8, 173.9, 161.0, 165.5, 170.0, 166.8, 176.9, 179.5, 165.2, 172.4, 170.4, 156.8, 163.7, 184.9, 172.5, 167.6, 173.4, 167.4, 177.0, 175.0, 170.9, 155.5, 157.0, 154.1, 166.5, 160.6, 151.6, 163.5, 159.0, 168.2, 140.5, 152.9, 153.8, 148.9, 152.9, 164.9, 155.7, 145.0, 160.9, 151.9, 147.6, 139.0, 152.7, 161.5, 146.0, 157.4, 148.7, 153.8, 145.1, 144.8, 138.6, 153.0, 155.4, 149.2, 149.8, 162.4, 145.8, 172.6, 143.6, 162.7, 161.7, 170.4, 156.0, 168.0, 144.5, 156.1, 159.0, 152.6, 159.4, 167.2, 165.5, 175.0, 166.3, 163.9, 147.8, 166.0, 153.9, 147.8, 153.6, 142.5, 146.7, 146.0, 159.8, 155.5, 145.1, 156.8, 152.5, 133.0, 145.5, 139.0, 145.4, 138.6, 142.8, 139.1, 135.6, 140.6, 155.6, 151.6, 150.3, 146.1, 145.3, 164.2, 155.9, 168.5, 158.6, 167.0, 155.5, 166.5, 159.6, 153.5, 173.0, 139.1, 167.4, 172.3, 147.5, 153.0, 169.5, 160.5, 150.0, 164.9, 166.3, 162.0, 160.0, 159.0, 162.4, 168.8, 151.6, 161.3, 153.8, 148.6, 150.5, 173.0, 151.0, 162.2, 156.5, 158.1, 167.4, 160.8, 166.0, 174.5, 171.2, 152.0, 161.2, 149.2, 169.8, 160.6, 163.5, 168.5, 168.8, 178.8, 177.2, 159.5, 173.6, 163.8, 175.0, 166.9, 175.8, 163.6, 170.5, 155.0, 151.9, 167.1, 153.6, 160.0, 169.0, 179.3, 156.6, 164.5, 154.5, 169.9, 181.0, 168.0, 175.4, 169.8, 171.5, 164.9, 173.5, 151.0, 149.3, 163.3, 180.1, 163.9, 171.4, 162.6, 166.5, 162.4, 164.8, 169.9, 171.1, 163.2, 181.5, 181.1, 173.0, 177.0, 169.8, 162.2, 163.5, 175.5, 168.8, 169.0, 174.0, 166.8, 148.9, 154.4, 153.0, 145.5, 156.4, 144.2, 156.3, 137.1, 168.5, 150.1, 155.3, 145.2, 154.4, 151.4, 149.1, 152.9, 141.8, 148.5, 158.0, 153.6, 160.3, 172.4, 155.3, 157.4, 155.0, 162.0, 155.4, 151.3, 148.4, 170.0, 150.5, 158.2, 146.0, 141.0, 157.4, 159.1, 163.0, 175.8, 165.8, 158.5, 139.6, 158.0, 165.8, 161.8, 171.0, 149.9, 164.4, 162.5, 185.0, 165.5, 155.7, 165.0, 156.6, 148.5, 163.0, 167.5, 177.5, 154.2, 160.0, 154.6, 154.1, 152.0, 152.0, 154.1, 144.1, 158.1, 144.2, 155.8, 161.0, 147.6, 146.9, 135.8, 138.2, 144.2, 151.5, 143.4, 139.3, 135.8, 131.0, 145.4, 150.6, 148.6, 159.0, 146.5, 146.9, 143.5, 147.8, 148.1, 142.0, 149.6, 146.9, 141.5, 178.8, 149.0, 158.2, 152.7, 137.6, 155.6, 174.8, 165.5, 163.7, 167.1, 165.9, 155.0, 154.8, 172.0, 175.2, 173.3, 164.8, 163.7, 170.8, 167.0, 174.2, 157.4, 164.9, 176.6, 167.0, 173.8, 178.2, 172.0, 170.1, 157.9, 162.4, 175.6, 154.8, 150.9, 173.0, 168.4, 162.2, 159.5, 156.4, 164.3, 166.8, 157.8, 167.5, 149.0, 171.0, 149.1, 152.6, 156.6, 144.1, 155.0, 163.0, 147.8, 154.9, 152.5, 154.8, 147.8, 157.9, 165.0, 154.5, 158.5, 146.0, 165.1, 156.8, 171.1, 148.9, 157.5, 138.4, 159.0, 151.2, 178.8, 158.2, 156.6, 157.5, 156.9, 149.6, 157.3, 149.5, 152.5, 153.0, 166.4, 160.5, 152.6, 166.5, 158.0, 174.1, 154.9, 161.0, 156.5, 159.0, 163.7, 157.9, 157.9, 158.4, 171.0, 164.3, 178.5, 150.9, 160.3, 155.1, 164.9, 159.0, 159.5, 171.7, 157.7, 158.6, 166.2, 156.0, 160.6, 160.2, 164.1, 180.5, 169.8, 160.8, 158.0, 155.5, 166.9, 171.4, 160.9, 158.3, 145.8, 158.0, 154.9, 162.4, 173.8, 161.8, 163.0, 175.8, 171.5, 157.5, 163.3, 160.9, 163.0, 159.5, 161.0, 168.8, 186.9, 157.3, 166.0, 171.6, 165.5, 181.0, 172.0, 168.4, 158.4, 163.4, 163.3, 171.1, 179.4, 166.1, 180.8, 178.6, 169.8, 153.2, 178.2, 170.3, 170.0, 177.1, 175.8, 156.3, 158.5, 163.7, 159.0, 155.0, 169.8, 174.8, 157.7, 163.9, 160.0, 176.8, 170.0, 172.0, 153.2, 161.5, 159.3, 160.1, 179.1, 168.6, 177.1, 162.9, 183.2, 182.1, 176.6, 177.0, 179.0, 169.2, 153.9, 171.5, 159.0, 179.0, 154.0, 153.0, 175.3, 160.3, 172.2, 166.0, 167.5, 159.7, 166.8, 148.0, 179.0, 167.3, 175.3, 165.6, 165.2, 167.9, 151.0, 157.5, 156.5, 157.1, 154.5, 151.0, 160.4, 148.7, 136.0, 155.0, 152.0, 153.2, 150.3, 148.8, 153.0, 159.5, 151.9, 142.2, 153.0, 157.3, 146.4, 161.7, 171.2, 154.0, 161.5, 156.6, 155.5, 157.7, 167.6, 159.0, 170.0, 173.4, 169.3, 167.9, 167.1, 159.0, 154.7, 154.7, 157.0, 154.0, 164.5, 154.0, 168.7, 159.5, 158.0, 159.1, 162.2, 158.2, 171.0, 148.5, 166.5, 161.0, 168.3, 171.5, 158.1, 167.5, 160.9, 156.0, 148.9, 156.7, 144.0, 133.8, 140.6, 145.5, 150.8, 148.0, 143.1, 144.6, 147.7, 158.0, 155.5, 149.0, 141.5, 159.1, 142.0, 158.3, 149.1, 148.9, 147.5, 150.4, 151.8, 144.0, 145.5, 134.7, 158.8, 130.6, 160.7, 145.2, 158.4, 150.5, 158.7, 144.2, 149.5, 168.2, 155.3, 149.3, 149.8, 151.0, 152.2, 154.3, 161.2, 148.8, 156.8, 164.0, 144.9, 156.4, 148.6, 149.3, 152.3, 169.0, 153.0, 164.2, 149.0, 171.0, 156.4, 149.2, 159.3, 152.0, 154.0, 147.5, 134.5, 146.8, 157.5, 148.4, 158.0, 148.3, 145.8, 157.6, 169.9, 149.5, 142.4, 159.5, 147.1, 158.1, 162.3, 164.4, 154.5, 178.9, 159.3, 159.6, 162.6, 143.8, 153.5, 165.3, 150.2, 168.1, 151.5, 154.0, 163.0, 154.5, 180.4, 159.1, 171.9, 147.4, 155.6, 152.4, 159.2, 164.5, 154.9, 174.0, 151.8, 170.4, 167.3, 156.5, 151.4, 160.1, 159.2, 160.3, 186.8, 163.5, 150.2, 153.5, 158.0, 167.6, 160.2, 155.3, 144.4, 144.8, 150.7, 147.9, 154.4, 150.3, 147.1, 147.0, 151.2, 141.8, 146.5, 142.2, 152.4, 148.9, 149.6, 171.1, 155.4, 156.9, 162.4, 150.0, 136.8, 146.8, 155.5, 163.4, 156.1, 145.4, 161.0, 163.8, 151.9, 157.7, 161.8, 167.5, 167.5, 163.2, 154.5, 172.2, 160.3, 167.9, 160.9, 158.5, 167.5, 155.7, 177.0, 163.4, 157.0, 144.7, 165.9, 160.7, 168.3, 148.5, 162.2, 175.0, 137.5, 148.5, 159.6, 151.8, 168.6, 155.9, 155.1, 157.6, 153.6, 145.0, 146.8, 143.1, 139.1, 160.7, 149.1, 149.1, 154.0, 158.0, 142.3, 131.8, 147.0, 146.9, 147.2, 146.9, 157.6, 156.0, 164.2, 153.1, 183.5, 160.4, 149.3, 165.8, 157.0, 144.2, 163.9, 155.9, 160.6, 162.5, 158.9, 151.3, 168.0, 174.2, 147.9, 164.2, 170.5, 155.8, 150.9, 136.1, 154.5, 165.6, 158.0, 152.6, 155.5, 172.1, 160.0, 161.6, 154.0, 150.3, 157.1, 160.2, 152.4, 162.1, 159.1, 163.3, 155.5, 156.2, 173.0, 150.4, 163.9, 152.4, 148.5, 150.1, 158.8, 165.9, 158.4, 158.4, 167.3, 149.6, 172.8, 158.0, 156.6, 173.1, 153.6, 160.2, 162.5, 173.9, 161.9, 155.5, 146.8, 163.1, 167.5, 157.0, 171.7, 159.9, 158.8, 155.9, 149.1, 158.2, 157.0, 157.2, 160.9, 173.0, 166.4, 158.0, 163.0, 161.0, 154.0, 186.0, 168.9, 168.8, 157.7, 168.8, 175.8, 173.5, 183.5, 154.0, 170.7, 175.3, 164.5, 179.6, 177.5, 168.3, 185.9, 179.6, 170.3, 153.6, 153.5, 180.6, 166.8, 158.0, 174.5, 158.0, 157.5, 161.5, 160.5, 169.0, 162.0, 165.5, 162.7, 166.0, 183.5, 169.2, 162.8, 157.5, 166.5, 161.5, 186.5, 165.5, 163.5, 177.4, 158.3, 158.0, 174.0, 154.9, 172.5, 173.5, 187.0, 186.0, 166.5, 187.0, 167.9, 187.0, 160.4, 156.8, 160.0, 169.6, 172.7, 181.2, 168.8, 161.4, 147.4, 156.5, 175.1, 168.3, 165.0, 157.2, 162.5, 156.4, 166.3, 172.0, 162.5, 161.4, 150.9, 169.8, 174.6, 164.4, 165.0, 166.3, 165.1, 156.9, 149.5, 151.3, 163.2, 166.2, 162.5, 147.6, 162.3, 153.0, 157.9, 168.4, 170.2, 174.5, 170.0, 169.1, 177.8, 172.0, 171.0, 166.3, 161.1, 166.0, 161.9, 164.5, 168.0, 159.2, 173.4, 163.4, 165.9, 159.8, 159.3, 170.0, 158.7, 166.2, 148.0, 164.5, 167.5, 177.0, 166.2, 182.1, 160.0, 182.5, 167.0, 182.0, 169.2, 164.4, 167.4, 173.9, 159.3, 176.9, 171.2, 178.5, 160.9, 172.0, 165.8, 169.6, 170.8, 169.9, 173.9, 171.3, 160.1, 176.9, 171.9, 169.3, 155.2, 169.0, 156.0, 170.2, 167.5, 176.9, 164.4, 157.0, 159.7, 148.6, 153.0, 153.7, 173.0, 166.5, 149.8, 171.5, 164.5, 168.0, 157.6, 173.1, 174.0, 155.5, 171.0, 155.5, 159.6, 157.0, 161.4, 164.1, 173.0, 156.0, 172.1, 154.7, 139.9, 164.1, 161.0, 167.1, 160.1, 190.5, 149.5, 180.2, 164.5, 157.0, 160.2, 182.5, 156.0, 180.9, 162.3, 169.6, 155.9, 170.3, 174.1, 182.6, 178.9, 160.7, 161.4, 157.5, 181.3, 154.3, 181.8, 168.0, 165.2, 164.0, 159.5, 163.5, 156.8, 157.1, 181.3, 176.0, 168.0, 159.5, 169.7, 170.1, 168.0, 171.0, 163.9, 139.9, 145.2, 152.3, 144.6, 145.3, 161.6, 165.0, 155.0, 147.3, 151.7, 161.9, 169.2, 149.9, 167.8, 144.5, 156.9, 151.2, 148.6, 160.1, 146.1, 164.2, 164.6, 159.5, 153.9, 161.8, 153.0, 159.0, 155.5, 158.0, 157.5, 166.5, 166.5, 160.2, 171.1, 182.5, 153.8, 158.5, 142.0, 156.5, 160.5, 158.5, 158.1, 167.9, 185.8, 159.4, 157.8, 163.9], \"xaxis\": \"x\", \"yaxis\": \"y\"}, {\"line\": {\"color\": \"black\"}, \"mode\": \"lines\", \"name\": \"Media 160.7\", \"showlegend\": true, \"type\": \"scatter\", \"x\": [160.71311307078818, 160.71311307078818], \"y\": [0, 420]}, {\"line\": {\"color\": \"red\"}, \"mode\": \"lines\", \"name\": \"Mediana 160.4\", \"showlegend\": true, \"type\": \"scatter\", \"x\": [160.4, 160.4], \"y\": [0, 420]}, {\"line\": {\"color\": \"green\"}, \"mode\": \"lines\", \"name\": \"Moda 160.0\", \"showlegend\": true, \"type\": \"scatter\", \"x\": [160.0, 160.0], \"y\": [0, 420]}, {\"line\": {\"color\": \"yellow\"}, \"mode\": \"lines\", \"name\": \"Desvio Padrao 10.3\", \"showlegend\": true, \"type\": \"scatter\", \"x\": [171.05318330461597, 171.05318330461597], \"y\": [0, 420]}, {\"line\": {\"color\": \"yellow\"}, \"mode\": \"lines\", \"name\": \"Desvio Padrao\", \"showlegend\": false, \"type\": \"scatter\", \"x\": [150.3730428369604, 150.3730428369604], \"y\": [0, 420]}],\n",
              "                        {\"barmode\": \"relative\", \"legend\": {\"tracegroupgap\": 0}, \"template\": {\"data\": {\"bar\": [{\"error_x\": {\"color\": \"#2a3f5f\"}, \"error_y\": {\"color\": \"#2a3f5f\"}, \"marker\": {\"line\": {\"color\": \"#E5ECF6\", \"width\": 0.5}}, \"type\": \"bar\"}], \"barpolar\": [{\"marker\": {\"line\": {\"color\": \"#E5ECF6\", \"width\": 0.5}}, \"type\": \"barpolar\"}], \"carpet\": [{\"aaxis\": {\"endlinecolor\": \"#2a3f5f\", \"gridcolor\": \"white\", \"linecolor\": \"white\", \"minorgridcolor\": \"white\", \"startlinecolor\": \"#2a3f5f\"}, \"baxis\": {\"endlinecolor\": \"#2a3f5f\", \"gridcolor\": \"white\", \"linecolor\": \"white\", \"minorgridcolor\": \"white\", \"startlinecolor\": \"#2a3f5f\"}, \"type\": \"carpet\"}], \"choropleth\": [{\"colorbar\": {\"outlinewidth\": 0, \"ticks\": \"\"}, \"type\": \"choropleth\"}], \"contour\": [{\"colorbar\": {\"outlinewidth\": 0, \"ticks\": \"\"}, \"colorscale\": [[0.0, \"#0d0887\"], [0.1111111111111111, \"#46039f\"], [0.2222222222222222, \"#7201a8\"], [0.3333333333333333, \"#9c179e\"], [0.4444444444444444, \"#bd3786\"], [0.5555555555555556, \"#d8576b\"], [0.6666666666666666, \"#ed7953\"], [0.7777777777777778, \"#fb9f3a\"], [0.8888888888888888, \"#fdca26\"], [1.0, \"#f0f921\"]], \"type\": \"contour\"}], \"contourcarpet\": [{\"colorbar\": {\"outlinewidth\": 0, \"ticks\": \"\"}, \"type\": \"contourcarpet\"}], \"heatmap\": [{\"colorbar\": {\"outlinewidth\": 0, \"ticks\": \"\"}, \"colorscale\": [[0.0, \"#0d0887\"], [0.1111111111111111, \"#46039f\"], [0.2222222222222222, \"#7201a8\"], [0.3333333333333333, \"#9c179e\"], [0.4444444444444444, \"#bd3786\"], [0.5555555555555556, \"#d8576b\"], [0.6666666666666666, \"#ed7953\"], [0.7777777777777778, \"#fb9f3a\"], [0.8888888888888888, \"#fdca26\"], [1.0, \"#f0f921\"]], \"type\": \"heatmap\"}], \"heatmapgl\": [{\"colorbar\": {\"outlinewidth\": 0, \"ticks\": \"\"}, \"colorscale\": [[0.0, \"#0d0887\"], [0.1111111111111111, \"#46039f\"], [0.2222222222222222, \"#7201a8\"], [0.3333333333333333, \"#9c179e\"], [0.4444444444444444, \"#bd3786\"], [0.5555555555555556, \"#d8576b\"], [0.6666666666666666, \"#ed7953\"], [0.7777777777777778, \"#fb9f3a\"], [0.8888888888888888, \"#fdca26\"], [1.0, \"#f0f921\"]], \"type\": \"heatmapgl\"}], \"histogram\": [{\"marker\": {\"colorbar\": {\"outlinewidth\": 0, \"ticks\": \"\"}}, \"type\": \"histogram\"}], \"histogram2d\": [{\"colorbar\": {\"outlinewidth\": 0, \"ticks\": \"\"}, \"colorscale\": [[0.0, \"#0d0887\"], [0.1111111111111111, \"#46039f\"], [0.2222222222222222, \"#7201a8\"], [0.3333333333333333, \"#9c179e\"], [0.4444444444444444, \"#bd3786\"], [0.5555555555555556, \"#d8576b\"], [0.6666666666666666, \"#ed7953\"], [0.7777777777777778, \"#fb9f3a\"], [0.8888888888888888, \"#fdca26\"], [1.0, \"#f0f921\"]], \"type\": \"histogram2d\"}], \"histogram2dcontour\": [{\"colorbar\": {\"outlinewidth\": 0, \"ticks\": \"\"}, \"colorscale\": [[0.0, \"#0d0887\"], [0.1111111111111111, \"#46039f\"], [0.2222222222222222, \"#7201a8\"], [0.3333333333333333, \"#9c179e\"], [0.4444444444444444, \"#bd3786\"], [0.5555555555555556, \"#d8576b\"], [0.6666666666666666, \"#ed7953\"], [0.7777777777777778, \"#fb9f3a\"], [0.8888888888888888, \"#fdca26\"], [1.0, \"#f0f921\"]], \"type\": \"histogram2dcontour\"}], \"mesh3d\": [{\"colorbar\": {\"outlinewidth\": 0, \"ticks\": \"\"}, \"type\": \"mesh3d\"}], \"parcoords\": [{\"line\": {\"colorbar\": {\"outlinewidth\": 0, \"ticks\": \"\"}}, \"type\": \"parcoords\"}], \"pie\": [{\"automargin\": true, \"type\": \"pie\"}], \"scatter\": [{\"marker\": {\"colorbar\": {\"outlinewidth\": 0, \"ticks\": \"\"}}, \"type\": \"scatter\"}], \"scatter3d\": [{\"line\": {\"colorbar\": {\"outlinewidth\": 0, \"ticks\": \"\"}}, \"marker\": {\"colorbar\": {\"outlinewidth\": 0, \"ticks\": \"\"}}, \"type\": \"scatter3d\"}], \"scattercarpet\": [{\"marker\": {\"colorbar\": {\"outlinewidth\": 0, \"ticks\": \"\"}}, \"type\": \"scattercarpet\"}], \"scattergeo\": [{\"marker\": {\"colorbar\": {\"outlinewidth\": 0, \"ticks\": \"\"}}, \"type\": \"scattergeo\"}], \"scattergl\": [{\"marker\": {\"colorbar\": {\"outlinewidth\": 0, \"ticks\": \"\"}}, \"type\": \"scattergl\"}], \"scattermapbox\": [{\"marker\": {\"colorbar\": {\"outlinewidth\": 0, \"ticks\": \"\"}}, \"type\": \"scattermapbox\"}], \"scatterpolar\": [{\"marker\": {\"colorbar\": {\"outlinewidth\": 0, \"ticks\": \"\"}}, \"type\": \"scatterpolar\"}], \"scatterpolargl\": [{\"marker\": {\"colorbar\": {\"outlinewidth\": 0, \"ticks\": \"\"}}, \"type\": \"scatterpolargl\"}], \"scatterternary\": [{\"marker\": {\"colorbar\": {\"outlinewidth\": 0, \"ticks\": \"\"}}, \"type\": \"scatterternary\"}], \"surface\": [{\"colorbar\": {\"outlinewidth\": 0, \"ticks\": \"\"}, \"colorscale\": [[0.0, \"#0d0887\"], [0.1111111111111111, \"#46039f\"], [0.2222222222222222, \"#7201a8\"], [0.3333333333333333, \"#9c179e\"], [0.4444444444444444, \"#bd3786\"], [0.5555555555555556, \"#d8576b\"], [0.6666666666666666, \"#ed7953\"], [0.7777777777777778, \"#fb9f3a\"], [0.8888888888888888, \"#fdca26\"], [1.0, \"#f0f921\"]], \"type\": \"surface\"}], \"table\": [{\"cells\": {\"fill\": {\"color\": \"#EBF0F8\"}, \"line\": {\"color\": \"white\"}}, \"header\": {\"fill\": {\"color\": \"#C8D4E3\"}, \"line\": {\"color\": \"white\"}}, \"type\": \"table\"}]}, \"layout\": {\"annotationdefaults\": {\"arrowcolor\": \"#2a3f5f\", \"arrowhead\": 0, \"arrowwidth\": 1}, \"coloraxis\": {\"colorbar\": {\"outlinewidth\": 0, \"ticks\": \"\"}}, \"colorscale\": {\"diverging\": [[0, \"#8e0152\"], [0.1, \"#c51b7d\"], [0.2, \"#de77ae\"], [0.3, \"#f1b6da\"], [0.4, \"#fde0ef\"], [0.5, \"#f7f7f7\"], [0.6, \"#e6f5d0\"], [0.7, \"#b8e186\"], [0.8, \"#7fbc41\"], [0.9, \"#4d9221\"], [1, \"#276419\"]], \"sequential\": [[0.0, \"#0d0887\"], [0.1111111111111111, \"#46039f\"], [0.2222222222222222, \"#7201a8\"], [0.3333333333333333, \"#9c179e\"], [0.4444444444444444, \"#bd3786\"], [0.5555555555555556, \"#d8576b\"], [0.6666666666666666, \"#ed7953\"], [0.7777777777777778, \"#fb9f3a\"], [0.8888888888888888, \"#fdca26\"], [1.0, \"#f0f921\"]], \"sequentialminus\": [[0.0, \"#0d0887\"], [0.1111111111111111, \"#46039f\"], [0.2222222222222222, \"#7201a8\"], [0.3333333333333333, \"#9c179e\"], [0.4444444444444444, \"#bd3786\"], [0.5555555555555556, \"#d8576b\"], [0.6666666666666666, \"#ed7953\"], [0.7777777777777778, \"#fb9f3a\"], [0.8888888888888888, \"#fdca26\"], [1.0, \"#f0f921\"]]}, \"colorway\": [\"#636efa\", \"#EF553B\", \"#00cc96\", \"#ab63fa\", \"#FFA15A\", \"#19d3f3\", \"#FF6692\", \"#B6E880\", \"#FF97FF\", \"#FECB52\"], \"font\": {\"color\": \"#2a3f5f\"}, \"geo\": {\"bgcolor\": \"white\", \"lakecolor\": \"white\", \"landcolor\": \"#E5ECF6\", \"showlakes\": true, \"showland\": true, \"subunitcolor\": \"white\"}, \"hoverlabel\": {\"align\": \"left\"}, \"hovermode\": \"closest\", \"mapbox\": {\"style\": \"light\"}, \"paper_bgcolor\": \"white\", \"plot_bgcolor\": \"#E5ECF6\", \"polar\": {\"angularaxis\": {\"gridcolor\": \"white\", \"linecolor\": \"white\", \"ticks\": \"\"}, \"bgcolor\": \"#E5ECF6\", \"radialaxis\": {\"gridcolor\": \"white\", \"linecolor\": \"white\", \"ticks\": \"\"}}, \"scene\": {\"xaxis\": {\"backgroundcolor\": \"#E5ECF6\", \"gridcolor\": \"white\", \"gridwidth\": 2, \"linecolor\": \"white\", \"showbackground\": true, \"ticks\": \"\", \"zerolinecolor\": \"white\"}, \"yaxis\": {\"backgroundcolor\": \"#E5ECF6\", \"gridcolor\": \"white\", \"gridwidth\": 2, \"linecolor\": \"white\", \"showbackground\": true, \"ticks\": \"\", \"zerolinecolor\": \"white\"}, \"zaxis\": {\"backgroundcolor\": \"#E5ECF6\", \"gridcolor\": \"white\", \"gridwidth\": 2, \"linecolor\": \"white\", \"showbackground\": true, \"ticks\": \"\", \"zerolinecolor\": \"white\"}}, \"shapedefaults\": {\"line\": {\"color\": \"#2a3f5f\"}}, \"ternary\": {\"aaxis\": {\"gridcolor\": \"white\", \"linecolor\": \"white\", \"ticks\": \"\"}, \"baxis\": {\"gridcolor\": \"white\", \"linecolor\": \"white\", \"ticks\": \"\"}, \"bgcolor\": \"#E5ECF6\", \"caxis\": {\"gridcolor\": \"white\", \"linecolor\": \"white\", \"ticks\": \"\"}}, \"title\": {\"x\": 0.05}, \"xaxis\": {\"automargin\": true, \"gridcolor\": \"white\", \"linecolor\": \"white\", \"ticks\": \"\", \"title\": {\"standoff\": 15}, \"zerolinecolor\": \"white\", \"zerolinewidth\": 2}, \"yaxis\": {\"automargin\": true, \"gridcolor\": \"white\", \"linecolor\": \"white\", \"ticks\": \"\", \"title\": {\"standoff\": 15}, \"zerolinecolor\": \"white\", \"zerolinewidth\": 2}}}, \"title\": {\"text\": \"Altura dos estudantes - PeNSE (2015)\"}, \"xaxis\": {\"anchor\": \"y\", \"domain\": [0.0, 1.0], \"title\": {\"text\": \"Altura\"}}, \"yaxis\": {\"anchor\": \"x\", \"domain\": [0.0, 1.0], \"title\": {\"text\": \"Frequ\\u00eancia\"}}},\n",
              "                        {\"responsive\": true}\n",
              "                    ).then(function(){\n",
              "                            \n",
              "var gd = document.getElementById('751203a1-0588-43bf-acc3-ba9a1f28d910');\n",
              "var x = new MutationObserver(function (mutations, observer) {{\n",
              "        var display = window.getComputedStyle(gd).display;\n",
              "        if (!display || display === 'none') {{\n",
              "            console.log([gd, 'removed!']);\n",
              "            Plotly.purge(gd);\n",
              "            observer.disconnect();\n",
              "        }}\n",
              "}});\n",
              "\n",
              "// Listen for the removal of the full notebook cells\n",
              "var notebookContainer = gd.closest('#notebook-container');\n",
              "if (notebookContainer) {{\n",
              "    x.observe(notebookContainer, {childList: true});\n",
              "}}\n",
              "\n",
              "// Listen for the clearing of the current output cell\n",
              "var outputEl = gd.closest('.output');\n",
              "if (outputEl) {{\n",
              "    x.observe(outputEl, {childList: true});\n",
              "}}\n",
              "\n",
              "                        })\n",
              "                };\n",
              "                \n",
              "            </script>\n",
              "        </div>\n",
              "</body>\n",
              "</html>"
            ]
          },
          "metadata": {
            "tags": []
          }
        }
      ]
    },
    {
      "cell_type": "code",
      "metadata": {
        "colab": {
          "base_uri": "https://localhost:8080/"
        },
        "id": "o3CyZFULUioJ",
        "outputId": "bcb54983-dd90-431a-e6ad-de433e4958dc"
      },
      "source": [
        "float(dados[\"VB17004\"].mode())"
      ],
      "execution_count": null,
      "outputs": [
        {
          "output_type": "execute_result",
          "data": {
            "text/plain": [
              "160.0"
            ]
          },
          "metadata": {
            "tags": []
          },
          "execution_count": 64
        }
      ]
    },
    {
      "cell_type": "code",
      "metadata": {
        "colab": {
          "base_uri": "https://localhost:8080/"
        },
        "id": "b_Sw69_9UlUR",
        "outputId": "190fcd57-7e88-4f92-a06c-34c90ee605be"
      },
      "source": [
        "dados[\"VB17004\"].mean()"
      ],
      "execution_count": null,
      "outputs": [
        {
          "output_type": "execute_result",
          "data": {
            "text/plain": [
              "160.71311307078818"
            ]
          },
          "metadata": {
            "tags": []
          },
          "execution_count": 65
        }
      ]
    },
    {
      "cell_type": "markdown",
      "metadata": {
        "id": "aDhEUCQxDRTx"
      },
      "source": [
        "##Desafio 8 - Fazer a análise com o histograma para outras informações da base de dados."
      ]
    },
    {
      "cell_type": "code",
      "metadata": {
        "colab": {
          "base_uri": "https://localhost:8080/",
          "height": 542
        },
        "id": "B3a7iNY770s-",
        "outputId": "60f8dd4a-bde0-4da2-dc96-1493ee166de0"
      },
      "source": [
        "fig_peso = px.histogram(dados, x='VB17003', title='Peso dos estudantes - PeNSE (2015)',\n",
        "                            labels={'VB17003': 'Peso (KG)'})\n",
        "\n",
        "\n",
        "fig_peso.update_layout(yaxis_title_text='Frequência')\n",
        "\n",
        "fig_peso.add_trace(\n",
        "    go.Scatter(\n",
        "        x=[dados['VB17003'].mean(), dados['VB17003'].mean()],\n",
        "        y=[0, 600],\n",
        "        mode=\"lines\",\n",
        "        line=go.scatter.Line(color=\"black\"),\n",
        "        showlegend=True,\n",
        "        name=f'Media {round(dados[\"VB17003\"].mean(), 2)}'))\n",
        "\n",
        "fig_peso.add_trace(\n",
        "    go.Scatter(\n",
        "        x=[dados['VB17003'].median(), dados['VB17003'].median()],\n",
        "        y=[0, 600],\n",
        "        mode=\"lines\",\n",
        "        line=go.scatter.Line(color=\"red\"),\n",
        "        showlegend=True,\n",
        "        name=f'Mediana {round(dados[\"VB17003\"].median(), 2)}'))\n",
        "\n",
        "fig_peso.add_trace(\n",
        "    go.Scatter(\n",
        "        x=[float(dados['VB17003'].mode()), float(dados['VB17003'].mode())],\n",
        "        y=[0, 600],\n",
        "        mode=\"lines\",\n",
        "        line=go.scatter.Line(color=\"green\"),\n",
        "        showlegend=True,\n",
        "        name=f'Moda {float(dados[\"VB17003\"].mode())}'))\n",
        "\n",
        "fig_peso.add_trace(\n",
        "    go.Scatter(\n",
        "        x=[dados['VB17003'].std() + dados['VB17003'].mean(), \n",
        "           dados['VB17003'].std() + dados['VB17003'].mean()],\n",
        "        y=[0, 600],\n",
        "        mode=\"lines\",\n",
        "        line=go.scatter.Line(color=\"yellow\"),\n",
        "        showlegend=True,\n",
        "        name=f'Desvio Padrao {round(dados[\"VB17003\"].std(), 2)}'))\n",
        "\n",
        "fig_peso.add_trace(\n",
        "    go.Scatter(\n",
        "        x=[dados['VB17003'].mean() - dados['VB17003'].std(), \n",
        "           dados['VB17003'].mean() - dados['VB17003'].std()],\n",
        "        y=[0, 600],\n",
        "        mode=\"lines\",\n",
        "        line=go.scatter.Line(color=\"yellow\"),\n",
        "        showlegend=False,\n",
        "        name='Desvio Padrao'))\n",
        "\n",
        "fig_peso.show()"
      ],
      "execution_count": null,
      "outputs": [
        {
          "output_type": "display_data",
          "data": {
            "text/html": [
              "<html>\n",
              "<head><meta charset=\"utf-8\" /></head>\n",
              "<body>\n",
              "    <div>\n",
              "            <script src=\"https://cdnjs.cloudflare.com/ajax/libs/mathjax/2.7.5/MathJax.js?config=TeX-AMS-MML_SVG\"></script><script type=\"text/javascript\">if (window.MathJax) {MathJax.Hub.Config({SVG: {font: \"STIX-Web\"}});}</script>\n",
              "                <script type=\"text/javascript\">window.PlotlyConfig = {MathJaxConfig: 'local'};</script>\n",
              "        <script src=\"https://cdn.plot.ly/plotly-latest.min.js\"></script>    \n",
              "            <div id=\"04788d2b-44b6-4642-94a7-6b3f240cc9c6\" class=\"plotly-graph-div\" style=\"height:525px; width:100%;\"></div>\n",
              "            <script type=\"text/javascript\">\n",
              "                \n",
              "                    window.PLOTLYENV=window.PLOTLYENV || {};\n",
              "                    \n",
              "                if (document.getElementById(\"04788d2b-44b6-4642-94a7-6b3f240cc9c6\")) {\n",
              "                    Plotly.newPlot(\n",
              "                        '04788d2b-44b6-4642-94a7-6b3f240cc9c6',\n",
              "                        [{\"alignmentgroup\": \"True\", \"bingroup\": \"x\", \"hoverlabel\": {\"namelength\": 0}, \"hovertemplate\": \"Peso (KG)=%{x}<br>count=%{y}\", \"legendgroup\": \"\", \"marker\": {\"color\": \"#636efa\"}, \"name\": \"\", \"offsetgroup\": \"\", \"orientation\": \"v\", \"showlegend\": false, \"type\": \"histogram\", \"x\": [37.1, 50.2, 48.2, 69.4, 78.9, 72.9, 49.3, 66.9, 78.3, 47.9, 48.9, 57.8, 58.1, 46.3, 85.5, 94.4, 62.2, 54.7, 59.3, 60.3, 62.0, 39.2, 91.3, 46.6, 53.6, 61.7, 58.2, 49.6, 42.9, 51.1, 49.0, 63.4, 73.2, 78.4, 49.9, 72.6, 65.7, 43.0, 92.8, 56.5, 51.5, 49.1, 63.7, 58.2, 102.0, 52.6, 58.0, 67.7, 69.0, 70.9, 71.2, 55.3, 59.0, 65.2, 84.3, 46.8, 83.4, 57.6, 57.5, 69.9, 69.8, 47.0, 70.9, 46.7, 55.0, 52.7, 82.6, 48.3, 57.5, 75.3, 55.8, 44.4, 49.5, 44.2, 67.9, 68.6, 45.8, 28.7, 37.7, 35.6, 40.0, 27.3, 54.7, 48.9, 52.9, 25.1, 62.8, 62.9, 44.9, 57.7, 47.8, 46.8, 58.0, 38.6, 50.2, 52.4, 60.6, 55.2, 71.1, 44.1, 52.2, 60.1, 50.5, 57.0, 92.0, 47.4, 45.5, 48.4, 53.8, 51.2, 79.5, 51.9, 48.6, 43.3, 48.6, 66.5, 52.9, 73.3, 69.1, 41.6, 57.7, 44.7, 44.1, 51.8, 40.2, 62.4, 38.4, 69.4, 63.7, 39.6, 50.2, 40.9, 51.4, 50.6, 66.1, 77.4, 56.7, 46.5, 46.4, 59.9, 50.6, 54.6, 63.6, 67.1, 80.2, 45.1, 58.4, 67.3, 85.9, 45.9, 54.4, 50.1, 67.8, 63.1, 55.4, 54.2, 55.2, 46.0, 46.8, 91.9, 45.1, 56.5, 54.6, 62.0, 56.3, 57.5, 64.4, 65.5, 56.4, 53.5, 66.5, 61.9, 66.9, 55.5, 54.4, 44.0, 45.9, 55.0, 60.1, 53.3, 56.9, 57.0, 73.8, 52.3, 41.7, 51.4, 57.4, 50.0, 60.5, 54.8, 52.9, 36.2, 51.3, 44.9, 43.9, 50.2, 60.0, 34.3, 41.4, 62.6, 56.9, 41.8, 49.8, 73.1, 75.1, 52.6, 58.5, 39.9, 45.2, 55.2, 54.5, 50.4, 47.5, 60.6, 41.1, 56.1, 48.8, 44.9, 53.9, 62.8, 56.3, 61.4, 63.8, 56.2, 48.5, 93.4, 55.5, 53.5, 47.3, 44.6, 56.5, 128.2, 50.7, 53.8, 53.1, 76.5, 52.0, 59.8, 51.0, 72.3, 85.7, 52.4, 41.5, 60.1, 56.8, 44.2, 65.3, 67.3, 50.0, 60.8, 71.1, 75.8, 90.2, 55.1, 47.3, 63.8, 61.2, 46.7, 46.7, 71.7, 60.2, 50.0, 78.5, 56.1, 49.6, 74.0, 58.2, 51.4, 88.1, 68.0, 52.0, 67.8, 68.6, 44.1, 39.7, 59.8, 59.4, 40.4, 51.1, 46.9, 46.0, 37.7, 53.5, 39.9, 53.0, 40.6, 38.2, 42.7, 36.1, 44.8, 43.6, 55.4, 60.2, 53.1, 42.0, 42.0, 69.7, 40.9, 57.7, 50.1, 56.5, 55.5, 46.8, 53.6, 56.0, 61.3, 52.0, 50.7, 48.4, 51.4, 54.4, 41.8, 37.7, 43.5, 48.9, 38.7, 58.5, 53.7, 51.7, 61.6, 54.5, 58.5, 49.8, 45.2, 87.0, 98.5, 48.6, 48.7, 61.8, 69.8, 49.0, 44.8, 56.8, 63.3, 57.9, 68.0, 57.2, 59.6, 53.9, 48.2, 51.4, 46.9, 78.0, 55.4, 101.5, 47.2, 56.4, 49.4, 76.2, 67.7, 58.0, 46.2, 65.1, 60.7, 71.5, 61.2, 61.4, 44.0, 42.5, 63.4, 59.3, 56.0, 60.6, 61.4, 69.8, 56.0, 102.5, 56.6, 86.7, 56.5, 43.6, 54.3, 52.1, 67.4, 32.9, 60.2, 37.5, 34.9, 36.1, 57.6, 36.5, 48.6, 37.7, 44.1, 46.2, 39.2, 53.9, 46.7, 35.3, 40.4, 47.1, 37.0, 38.8, 41.2, 37.8, 56.1, 77.6, 63.1, 49.4, 38.7, 50.9, 63.1, 47.0, 100.8, 68.7, 66.8, 60.3, 55.6, 45.3, 44.3, 65.0, 51.0, 50.7, 74.3, 53.9, 51.9, 60.1, 49.8, 48.0, 58.8, 63.3, 57.0, 46.7, 71.3, 42.0, 54.9, 48.3, 58.1, 81.6, 69.9, 48.9, 61.1, 62.1, 63.0, 58.3, 52.8, 73.2, 72.0, 68.3, 47.6, 67.1, 89.3, 52.8, 52.8, 53.4, 87.1, 65.5, 83.1, 56.1, 57.3, 63.3, 69.8, 61.5, 74.5, 59.2, 59.3, 75.3, 67.9, 59.9, 95.2, 64.2, 50.6, 66.0, 52.2, 60.0, 48.6, 69.2, 51.0, 47.6, 36.2, 64.1, 62.8, 44.0, 29.6, 41.7, 48.4, 33.5, 32.1, 62.2, 56.4, 36.8, 46.3, 35.9, 41.3, 62.4, 46.3, 37.9, 41.0, 37.9, 32.7, 50.7, 36.9, 38.7, 37.2, 49.0, 49.7, 52.9, 43.6, 56.7, 38.1, 38.4, 48.3, 53.3, 42.3, 50.9, 33.7, 59.3, 68.9, 61.8, 41.0, 59.6, 51.7, 52.1, 70.0, 55.8, 50.7, 45.9, 43.9, 66.5, 53.3, 53.4, 56.3, 80.6, 78.0, 73.6, 47.5, 43.2, 45.3, 40.4, 37.3, 56.6, 54.9, 44.3, 41.9, 36.1, 51.1, 80.9, 81.4, 42.8, 77.8, 30.9, 69.2, 54.4, 43.8, 36.5, 51.1, 56.0, 49.9, 40.5, 40.1, 59.8, 37.9, 59.8, 24.0, 57.8, 33.2, 57.4, 37.9, 44.9, 43.1, 47.8, 52.8, 61.6, 60.1, 63.0, 50.2, 49.3, 56.7, 40.5, 60.6, 47.8, 60.8, 57.4, 53.3, 88.9, 51.3, 54.6, 57.4, 60.1, 39.8, 41.6, 40.7, 59.9, 43.8, 40.4, 49.0, 47.7, 44.6, 55.0, 55.3, 58.2, 53.6, 60.8, 54.4, 46.0, 62.7, 68.6, 73.0, 42.1, 52.9, 44.7, 39.4, 38.9, 57.5, 41.9, 31.6, 32.9, 40.1, 62.4, 56.9, 47.2, 39.3, 44.6, 42.6, 54.8, 53.5, 56.3, 37.6, 41.6, 45.3, 28.9, 45.1, 33.0, 38.0, 32.3, 48.2, 36.1, 29.9, 45.2, 32.2, 27.3, 35.9, 35.8, 63.4, 44.1, 31.3, 66.2, 63.0, 59.5, 56.4, 41.7, 40.7, 56.3, 51.4, 34.1, 49.9, 38.3, 34.3, 37.8, 51.3, 43.0, 60.7, 62.0, 47.6, 40.5, 39.7, 36.9, 45.9, 37.4, 53.4, 45.4, 48.0, 59.2, 43.5, 50.9, 61.8, 84.0, 77.4, 60.4, 65.3, 112.5, 53.2, 66.8, 53.0, 46.1, 77.8, 80.3, 46.6, 61.4, 40.8, 72.2, 57.5, 41.5, 33.0, 42.4, 46.8, 56.2, 57.2, 67.1, 31.0, 36.6, 65.9, 28.1, 25.7, 40.5, 36.4, 35.1, 37.7, 32.1, 53.8, 45.8, 30.6, 36.4, 33.7, 35.8, 66.9, 36.7, 29.6, 82.2, 50.1, 61.1, 50.4, 40.8, 44.4, 48.1, 52.4, 47.1, 35.9, 55.6, 57.2, 59.0, 43.5, 46.4, 52.1, 67.5, 49.6, 68.7, 107.5, 62.5, 109.1, 54.1, 46.8, 67.8, 38.0, 63.6, 52.1, 58.6, 73.8, 66.6, 46.1, 69.0, 47.8, 69.3, 67.5, 82.9, 71.0, 55.9, 53.3, 76.7, 45.7, 52.1, 52.5, 59.5, 53.5, 43.3, 71.0, 63.7, 74.4, 68.1, 57.2, 57.0, 48.1, 52.0, 57.3, 62.6, 52.8, 72.5, 59.9, 48.1, 80.6, 58.0, 58.6, 45.7, 85.6, 51.5, 62.7, 70.6, 73.1, 133.4, 54.9, 60.8, 72.6, 55.2, 58.2, 89.3, 59.9, 75.6, 65.0, 53.1, 64.3, 57.9, 62.3, 62.7, 47.3, 44.1, 64.9, 42.8, 80.4, 54.7, 70.0, 98.3, 63.8, 57.5, 67.8, 55.8, 93.0, 58.4, 55.3, 45.9, 50.3, 49.5, 52.2, 59.2, 56.5, 59.8, 43.4, 51.2, 57.1, 64.0, 99.5, 70.9, 53.5, 69.0, 61.3, 57.7, 69.5, 73.6, 89.7, 77.7, 61.2, 70.2, 63.5, 57.9, 63.3, 57.1, 48.7, 44.7, 53.9, 73.0, 73.6, 54.7, 51.6, 39.1, 55.7, 47.3, 36.5, 65.5, 52.7, 61.2, 57.4, 45.2, 52.8, 56.1, 58.4, 65.4, 62.7, 46.1, 93.3, 63.4, 50.8, 88.0, 83.0, 53.6, 65.7, 54.6, 51.3, 132.4, 66.7, 50.8, 49.3, 59.6, 56.4, 48.3, 46.7, 57.2, 76.4, 51.6, 59.8, 57.5, 75.0, 77.8, 55.4, 59.8, 63.2, 78.0, 59.4, 57.2, 55.7, 46.9, 70.4, 66.8, 51.1, 56.0, 61.8, 62.2, 52.7, 49.0, 48.6, 60.6, 65.4, 79.9, 63.8, 53.0, 86.1, 58.3, 69.2, 48.1, 53.2, 68.8, 60.8, 57.1, 55.0, 72.0, 45.1, 48.1, 29.1, 33.6, 37.5, 33.1, 52.9, 56.2, 62.8, 47.8, 37.8, 53.4, 50.9, 36.2, 46.1, 89.2, 65.2, 57.1, 47.2, 42.3, 34.4, 39.7, 45.9, 47.3, 46.6, 29.7, 34.8, 46.4, 42.0, 32.0, 29.7, 33.6, 40.4, 64.2, 29.8, 34.6, 49.8, 34.2, 30.6, 60.9, 44.0, 45.1, 60.9, 51.9, 65.3, 53.3, 62.8, 66.6, 60.8, 49.0, 55.2, 63.7, 61.6, 49.3, 72.8, 42.2, 55.2, 81.7, 52.8, 44.5, 69.7, 62.0, 58.3, 59.3, 42.5, 101.1, 45.6, 62.9, 52.0, 52.9, 61.9, 65.6, 67.2, 46.5, 80.3, 50.1, 49.6, 47.7, 51.0, 37.5, 76.2, 81.2, 57.9, 49.6, 52.5, 60.7, 72.2, 66.1, 44.3, 78.3, 51.8, 64.4, 52.1, 57.4, 90.5, 40.7, 67.6, 122.0, 57.9, 51.9, 55.5, 58.7, 48.2, 51.7, 53.0, 60.8, 54.1, 96.6, 56.2, 88.2, 53.1, 46.3, 62.4, 80.3, 64.3, 80.0, 57.9, 45.5, 53.4, 52.2, 71.3, 63.4, 69.8, 56.4, 57.3, 46.2, 52.0, 53.2, 56.8, 54.2, 51.2, 55.7, 60.7, 67.7, 59.3, 48.8, 71.4, 75.2, 42.0, 46.3, 58.2, 53.6, 63.2, 58.0, 63.5, 73.9, 47.7, 48.1, 48.2, 76.2, 40.3, 55.9, 65.9, 72.6, 61.6, 74.8, 60.8, 52.1, 56.8, 49.0, 81.3, 49.9, 56.8, 64.3, 45.2, 67.9, 65.4, 50.2, 49.0, 50.8, 54.7, 51.2, 43.7, 62.9, 44.3, 69.1, 54.1, 51.2, 49.4, 53.8, 48.5, 56.5, 45.5, 48.7, 58.8, 46.4, 54.7, 52.3, 63.9, 33.9, 50.5, 53.7, 61.8, 48.9, 60.1, 48.7, 52.4, 34.5, 42.7, 44.6, 41.3, 41.0, 61.9, 70.5, 86.1, 45.6, 61.4, 62.2, 66.4, 48.3, 50.3, 43.2, 40.0, 60.0, 49.5, 51.2, 49.8, 40.2, 45.1, 55.4, 46.1, 36.5, 41.7, 59.1, 42.7, 31.1, 55.4, 34.4, 49.5, 53.1, 46.2, 50.0, 57.7, 45.7, 56.3, 43.0, 51.1, 58.6, 55.4, 30.9, 41.0, 43.4, 52.6, 43.9, 61.2, 58.8, 39.7, 42.2, 45.3, 33.1, 42.3, 48.8, 43.0, 68.4, 53.2, 42.2, 66.9, 36.3, 53.9, 113.4, 58.2, 51.8, 69.2, 65.1, 70.5, 59.8, 48.5, 74.2, 83.5, 52.9, 59.8, 56.5, 91.4, 63.5, 81.8, 56.0, 59.4, 41.3, 56.7, 67.0, 53.7, 67.3, 52.6, 45.6, 65.6, 60.2, 61.9, 56.3, 74.6, 60.2, 68.0, 67.7, 57.1, 56.3, 43.3, 41.0, 35.4, 57.1, 70.3, 44.9, 61.7, 73.5, 40.9, 62.7, 55.6, 52.8, 81.1, 52.2, 61.1, 56.6, 71.3, 50.5, 60.2, 54.6, 47.4, 94.8, 50.1, 53.7, 53.4, 77.3, 50.1, 57.1, 71.3, 46.8, 65.8, 60.1, 56.0, 62.6, 69.1, 53.7, 52.2, 52.0, 75.4, 57.8, 51.3, 70.5, 60.9, 68.2, 56.4, 48.1, 51.4, 48.2, 55.7, 63.8, 50.9, 64.6, 53.4, 58.3, 58.2, 53.1, 53.7, 80.3, 45.3, 57.1, 56.8, 60.0, 56.7, 57.8, 58.0, 60.3, 84.0, 53.4, 73.8, 58.1, 69.7, 51.4, 57.9, 61.3, 83.7, 60.6, 55.5, 48.2, 58.6, 45.7, 20.9, 28.8, 49.2, 40.0, 30.6, 42.1, 36.3, 47.0, 40.5, 66.6, 55.6, 42.5, 47.0, 47.3, 39.0, 59.8, 32.7, 53.8, 53.4, 62.1, 42.5, 64.2, 35.5, 51.1, 39.4, 33.1, 39.1, 52.6, 49.0, 66.8, 50.4, 44.7, 37.2, 77.3, 41.4, 32.1, 56.5, 58.2, 31.9, 40.0, 41.2, 61.7, 45.1, 42.1, 50.0, 66.0, 45.3, 51.3, 55.2, 50.6, 36.1, 47.6, 40.2, 45.0, 77.7, 52.8, 39.9, 62.6, 73.4, 55.6, 43.6, 51.8, 50.2, 39.0, 44.0, 46.0, 41.7, 46.6, 34.3, 40.6, 61.0, 45.2, 55.8, 46.9, 40.4, 47.3, 54.6, 44.7, 40.7, 81.3, 66.6, 37.6, 48.2, 54.4, 50.7, 86.1, 43.7, 57.4, 46.4, 52.3, 49.5, 46.9, 47.7, 34.4, 40.1, 41.6, 50.7, 30.6, 34.2, 42.4, 45.8, 42.2, 35.5, 42.4, 26.9, 45.3, 40.1, 52.2, 31.1, 52.5, 35.6, 30.4, 31.9, 36.0, 53.3, 43.9, 36.5, 32.4, 41.3, 49.3, 59.9, 41.2, 43.1, 40.3, 43.0, 46.0, 52.9, 47.3, 41.0, 37.6, 49.2, 54.6, 53.9, 29.5, 43.4, 55.6, 62.5, 54.2, 76.1, 36.8, 52.6, 41.0, 55.3, 62.4, 58.4, 39.5, 40.5, 35.4, 68.3, 50.9, 39.4, 45.7, 43.2, 55.5, 60.4, 36.6, 40.8, 43.0, 65.9, 36.2, 42.8, 30.3, 35.5, 47.1, 34.4, 61.5, 34.8, 46.4, 51.0, 44.5, 61.5, 34.3, 30.4, 36.0, 26.8, 38.9, 42.4, 39.1, 30.9, 59.0, 40.4, 26.6, 42.1, 55.7, 60.5, 41.8, 53.6, 47.2, 46.8, 45.1, 43.0, 48.9, 38.2, 48.6, 48.5, 57.3, 54.3, 39.9, 42.0, 50.5, 51.0, 65.3, 42.7, 33.8, 60.3, 54.0, 45.8, 42.2, 35.6, 48.6, 31.0, 50.7, 45.4, 40.8, 51.0, 44.9, 42.7, 47.0, 37.2, 28.9, 47.9, 51.4, 38.7, 31.0, 50.6, 40.8, 58.1, 62.0, 43.8, 36.4, 42.5, 78.0, 41.3, 58.9, 29.8, 34.6, 38.5, 36.5, 51.4, 56.3, 36.5, 53.9, 54.8, 37.3, 33.8, 39.7, 44.1, 40.4, 69.8, 50.7, 32.2, 44.7, 73.5, 45.3, 45.0, 30.6, 38.1, 49.3, 41.8, 48.3, 65.6, 70.6, 60.7, 51.8, 71.9, 50.2, 46.8, 61.8, 50.6, 74.0, 70.9, 45.7, 62.0, 55.4, 48.2, 58.1, 42.3, 59.9, 55.2, 49.9, 53.2, 57.2, 63.2, 52.9, 57.4, 50.4, 58.9, 51.3, 40.2, 62.3, 51.6, 58.3, 50.5, 82.1, 51.3, 49.4, 39.7, 39.6, 43.1, 39.8, 39.9, 57.2, 48.7, 51.7, 39.8, 33.9, 46.9, 48.4, 51.9, 46.2, 74.9, 48.4, 78.4, 48.7, 52.4, 31.2, 57.8, 61.4, 74.6, 54.1, 62.2, 46.6, 68.0, 50.0, 41.1, 48.3, 30.2, 43.7, 33.6, 78.7, 63.4, 43.0, 52.8, 61.4, 56.7, 45.6, 64.4, 49.0, 48.2, 62.0, 39.5, 59.5, 49.2, 60.6, 97.8, 64.2, 67.1, 43.3, 55.7, 54.5, 46.0, 58.8, 70.0, 53.7, 58.0, 84.0, 38.7, 66.7, 35.5, 79.8, 43.1, 44.8, 46.8, 58.0, 57.1, 57.8, 63.7, 89.7, 40.7, 59.5, 59.0, 54.8, 42.4, 50.5, 47.1, 52.7, 41.7, 51.5, 90.0, 46.7, 84.6, 50.5, 40.3, 50.0, 64.5, 42.0, 53.4, 66.4, 75.7, 58.4, 56.5, 56.3, 57.1, 78.1, 41.6, 66.4, 50.2, 64.2, 63.9, 70.8, 56.9, 50.8, 54.4, 65.0, 52.0, 42.9, 48.0, 53.2, 76.8, 49.1, 53.3, 46.0, 53.7, 71.1, 53.5, 60.2, 54.1, 80.7, 69.8, 52.2, 54.9, 50.9, 48.4, 46.8, 60.0, 50.4, 42.0, 58.6, 51.7, 35.4, 30.4, 53.1, 31.3, 43.4, 64.8, 43.2, 41.8, 49.4, 40.6, 55.4, 46.1, 25.5, 22.1, 63.6, 47.8, 39.4, 54.5, 86.1, 62.0, 34.4, 36.3, 71.2, 37.1, 36.9, 58.0, 48.5, 34.6, 44.9, 58.2, 51.5, 44.5, 63.0, 39.0, 41.2, 37.3, 41.4, 35.3, 52.3, 75.8, 55.0, 46.9, 46.0, 48.9, 58.6, 51.9, 42.9, 56.5, 36.7, 46.2, 57.7, 53.1, 47.2, 42.4, 69.4, 38.5, 63.5, 38.7, 54.1, 46.6, 56.8, 39.8, 54.3, 48.2, 45.5, 64.2, 38.1, 45.3, 45.2, 64.0, 56.3, 41.7, 47.1, 51.3, 44.2, 46.2, 63.5, 48.5, 50.7, 65.4, 43.2, 58.0, 68.8, 59.6, 92.5, 43.3, 57.2, 70.8, 91.9, 28.6, 60.9, 37.1, 40.2, 38.4, 41.1, 45.9, 34.7, 49.2, 31.0, 51.8, 43.2, 49.5, 48.8, 64.1, 53.4, 55.5, 50.0, 63.7, 46.7, 45.2, 49.8, 39.3, 58.3, 54.4, 74.9, 64.9, 57.4, 66.6, 73.7, 30.5, 54.9, 57.0, 66.2, 38.3, 46.9, 45.7, 37.4, 48.8, 45.0, 32.3, 40.6, 54.5, 40.0, 32.2, 48.6, 42.0, 36.8, 53.8, 42.4, 32.9, 36.8, 51.0, 26.8, 60.8, 39.9, 46.9, 38.1, 48.8, 46.9, 64.1, 62.1, 75.3, 55.0, 57.5, 57.7, 69.7, 55.1, 63.8, 61.1, 89.9, 57.7, 70.0, 43.3, 61.2, 65.4, 73.7, 79.0, 70.4, 61.7, 46.9, 41.1, 58.0, 59.5, 48.0, 60.7, 56.1, 50.0, 81.5, 54.5, 66.9, 92.0, 84.5, 56.5, 47.4, 48.6, 54.6, 53.0, 50.2, 45.0, 45.6, 68.8, 56.8, 55.6, 54.9, 60.6, 47.4, 78.2, 70.7, 80.4, 60.6, 65.9, 106.5, 58.1, 56.1, 76.5, 64.3, 76.7, 49.1, 59.1, 80.0, 85.1, 79.2, 96.0, 80.2, 77.0, 66.6, 53.5, 61.6, 52.7, 69.9, 75.8, 61.6, 47.0, 68.0, 46.1, 54.2, 53.1, 65.3, 62.8, 46.8, 74.0, 57.6, 62.8, 56.5, 98.7, 71.2, 54.3, 49.6, 53.9, 53.7, 61.0, 48.7, 41.0, 57.5, 72.5, 58.5, 53.8, 46.3, 58.5, 48.3, 53.7, 65.7, 52.0, 54.7, 60.6, 90.0, 53.6, 53.1, 83.3, 56.2, 57.4, 81.4, 66.5, 64.3, 75.4, 58.1, 96.8, 64.9, 46.8, 56.3, 58.0, 55.4, 42.1, 67.4, 45.6, 65.4, 72.2, 47.4, 62.2, 71.6, 63.6, 56.4, 48.7, 49.7, 67.3, 49.5, 61.3, 70.3, 105.7, 48.8, 53.0, 62.6, 51.5, 70.0, 68.7, 63.7, 60.3, 58.6, 61.4, 68.1, 68.1, 50.5, 58.6, 54.3, 75.0, 60.1, 46.9, 58.3, 83.2, 50.5, 46.5, 35.1, 49.9, 39.6, 34.0, 39.3, 29.0, 55.3, 41.2, 55.8, 34.3, 47.5, 49.5, 51.0, 37.5, 32.6, 51.2, 45.0, 26.8, 56.5, 47.9, 46.6, 31.7, 47.6, 40.0, 31.6, 31.8, 48.2, 53.8, 34.3, 38.6, 45.2, 46.0, 102.6, 57.0, 43.1, 51.2, 51.9, 58.4, 53.1, 65.9, 53.8, 49.1, 57.4, 48.6, 70.4, 53.8, 48.2, 53.3, 53.8, 64.9, 81.1, 55.8, 50.8, 58.4, 50.9, 44.0, 44.7, 52.8, 56.2, 59.4, 47.2, 61.4, 59.4, 48.1, 46.9, 51.7, 76.8, 30.8, 59.4, 38.3, 70.4, 66.5, 74.6, 43.5, 56.9, 60.0, 45.5, 44.0, 66.8, 56.9, 41.9, 51.9, 60.5, 50.0, 50.2, 55.8, 53.0, 44.8, 74.0, 62.6, 56.2, 46.5, 73.7, 54.2, 53.5, 55.1, 65.3, 40.4, 39.7, 37.5, 43.7, 30.8, 62.6, 35.4, 54.3, 60.3, 48.9, 39.3, 61.4, 40.1, 40.9, 49.4, 34.9, 47.3, 64.3, 50.4, 41.3, 57.0, 62.0, 42.7, 46.9, 54.4, 42.8, 30.5, 45.5, 37.1, 40.4, 43.5, 57.9, 41.4, 54.4, 58.6, 50.9, 58.3, 54.9, 41.6, 41.5, 61.8, 48.8, 42.5, 41.5, 47.2, 74.2, 43.5, 42.4, 93.1, 70.2, 39.2, 42.6, 45.6, 41.5, 61.2, 54.7, 41.1, 44.9, 43.0, 45.1, 41.6, 62.6, 59.7, 51.7, 46.1, 56.7, 66.5, 73.4, 30.5, 51.6, 45.4, 63.0, 72.1, 34.1, 63.9, 38.0, 55.6, 60.1, 75.5, 58.5, 68.0, 71.2, 68.2, 84.3, 60.2, 72.8, 50.8, 78.0, 84.8, 64.5, 60.2, 45.6, 65.2, 57.8, 69.4, 64.4, 103.2, 68.0, 80.1, 38.6, 71.3, 32.4, 47.8, 34.9, 33.0, 58.1, 34.5, 66.1, 38.1, 31.2, 35.9, 60.1, 59.5, 41.5, 100.9, 40.1, 40.7, 46.9, 53.0, 74.2, 50.3, 63.9, 79.7, 68.6, 62.9, 96.5, 49.9, 71.9, 55.5, 69.0, 92.3, 59.0, 86.6, 69.0, 65.6, 72.1, 56.4, 49.9, 68.6, 68.7, 52.3, 63.5, 47.0, 61.2, 42.4, 38.9, 59.1, 67.7, 59.5, 44.8, 51.8, 59.5, 64.8, 76.9, 42.3, 38.6, 60.1, 51.2, 102.7, 59.4, 54.1, 46.6, 111.0, 38.2, 40.0, 45.7, 78.1, 62.9, 66.2, 41.6, 78.2, 48.3, 43.9, 44.2, 51.6, 51.4, 62.0, 46.8, 43.6, 58.6, 57.2, 88.4, 48.4, 56.0, 45.5, 55.3, 50.9, 55.9, 49.1, 33.0, 39.8, 57.8, 54.6, 54.1, 58.4, 44.3, 40.1, 44.4, 59.3, 30.6, 30.5, 64.8, 49.2, 33.5, 50.1, 40.7, 38.0, 57.8, 34.7, 33.2, 51.5, 36.0, 44.2, 48.7, 44.8, 67.6, 46.9, 46.3, 42.4, 45.1, 51.0, 81.4, 46.7, 72.1, 50.1, 64.7, 45.5, 46.6, 53.9, 39.2, 44.7, 69.4, 51.2, 51.3, 46.5, 46.0, 74.4, 47.5, 35.9, 39.6, 39.6, 48.8, 52.7, 50.0, 46.1, 49.4, 37.5, 41.2, 53.8, 43.5, 44.1, 41.1, 45.7, 36.4, 33.5, 29.5, 25.0, 62.5, 50.6, 37.4, 70.3, 57.2, 29.0, 35.3, 45.5, 51.4, 36.9, 58.4, 42.1, 61.9, 36.5, 25.0, 45.0, 39.2, 39.3, 49.4, 39.4, 36.5, 24.1, 49.0, 36.2, 40.0, 38.7, 38.8, 38.3, 57.5, 36.5, 43.1, 42.9, 45.0, 41.6, 46.7, 72.8, 72.0, 55.3, 81.9, 39.6, 43.8, 42.5, 46.6, 61.2, 51.8, 59.7, 74.4, 44.7, 45.9, 57.4, 54.6, 66.8, 55.3, 54.0, 55.3, 42.0, 60.8, 56.2, 51.9, 75.3, 50.5, 50.0, 32.4, 49.4, 59.6, 50.4, 64.9, 59.6, 52.2, 61.9, 41.1, 45.4, 68.0, 48.4, 77.2, 67.4, 62.7, 47.3, 62.4, 155.6, 57.5, 56.5, 52.1, 55.1, 58.6, 44.0, 58.1, 48.9, 55.9, 57.8, 64.4, 39.2, 46.7, 87.3, 58.7, 58.1, 46.5, 44.3, 38.8, 63.0, 48.2, 55.7, 63.4, 47.6, 43.5, 56.1, 64.2, 48.8, 56.3, 63.4, 72.1, 53.0, 69.9, 71.9, 50.3, 80.1, 47.9, 55.9, 57.8, 54.7, 60.4, 81.9, 58.5, 48.8, 43.2, 39.2, 51.8, 45.2, 76.0, 58.2, 49.8, 50.2, 42.0, 42.1, 58.8, 39.1, 46.3, 76.0, 58.1, 46.8, 39.7, 93.0, 53.8, 34.6, 37.5, 40.7, 48.6, 44.5, 42.2, 44.2, 47.4, 35.2, 58.7, 33.7, 47.0, 69.1, 38.0, 45.9, 42.2, 49.3, 62.2, 45.7, 50.6, 34.3, 54.0, 47.2, 35.4, 39.1, 54.4, 48.1, 33.7, 50.9, 35.5, 53.1, 46.2, 39.3, 64.8, 40.1, 50.1, 60.6, 57.9, 48.8, 52.0, 41.1, 30.0, 56.1, 36.6, 71.0, 51.3, 63.8, 46.8, 31.0, 42.0, 50.1, 42.8, 65.3, 42.2, 38.2, 55.1, 54.0, 57.3, 43.8, 70.9, 45.7, 33.8, 62.0, 31.6, 53.0, 56.8, 56.9, 42.5, 51.6, 52.8, 56.0, 38.9, 45.5, 50.2, 49.6, 47.8, 64.0, 53.2, 49.2, 79.8, 51.7, 47.1, 36.7, 49.7, 61.1, 73.5, 58.1, 47.9, 59.8, 36.4, 50.7, 44.5, 42.9, 29.6, 64.6, 54.8, 30.5, 41.3, 35.6, 42.5, 34.5, 53.5, 35.8, 34.5, 41.3, 32.9, 33.6, 28.4, 64.0, 35.1, 56.7, 43.9, 35.9, 40.8, 60.3, 50.3, 49.1, 46.1, 31.0, 36.7, 47.3, 80.7, 40.1, 33.6, 34.9, 37.6, 39.2, 71.8, 24.5, 30.5, 73.8, 34.9, 56.9, 45.8, 42.4, 45.2, 43.9, 30.2, 40.1, 44.0, 61.0, 55.9, 68.7, 98.9, 53.9, 46.8, 44.6, 44.6, 50.7, 68.3, 58.0, 47.1, 44.3, 62.1, 74.7, 47.5, 51.6, 84.2, 82.9, 62.8, 56.8, 77.7, 48.1, 74.4, 50.7, 43.1, 46.0, 42.7, 48.9, 65.3, 57.1, 50.0, 44.6, 92.0, 82.0, 88.5, 40.3, 64.8, 54.3, 59.9, 45.1, 35.9, 57.4, 47.7, 43.1, 32.4, 39.2, 61.1, 39.8, 49.9, 47.9, 65.4, 53.1, 52.1, 46.6, 58.9, 43.8, 60.6, 40.3, 75.5, 68.0, 53.6, 53.7, 57.4, 64.6, 58.8, 52.5, 59.0, 65.0, 37.6, 58.2, 53.1, 63.3, 56.8, 34.9, 50.9, 66.6, 49.6, 56.2, 52.0, 42.3, 44.9, 41.0, 49.5, 66.4, 56.4, 51.6, 40.5, 44.1, 52.7, 49.9, 85.3, 58.6, 44.9, 68.7, 49.7, 88.6, 67.6, 50.9, 49.1, 48.0, 66.4, 59.6, 44.0, 47.2, 51.5, 50.0, 43.6, 79.0, 43.8, 49.5, 102.5, 60.2, 40.6, 52.2, 44.8, 52.7, 40.3, 96.8, 47.6, 53.0, 65.1, 60.2, 56.2, 57.5, 58.4, 47.1, 50.8, 77.0, 55.0, 77.8, 56.6, 89.1, 49.6, 91.8, 106.7, 66.5, 72.1, 55.7, 50.4, 62.8, 73.0, 52.1, 56.7, 61.9, 57.8, 58.6, 116.9, 58.6, 54.2, 40.1, 75.6, 49.6, 61.0, 48.3, 53.3, 66.9, 36.9, 57.7, 50.9, 67.5, 55.5, 65.3, 38.9, 40.8, 62.7, 62.6, 52.3, 47.7, 53.6, 45.4, 60.4, 86.6, 61.2, 54.4, 45.8, 49.9, 40.6, 49.1, 65.8, 51.4, 57.9, 41.0, 61.2, 59.9, 61.7, 62.2, 56.2, 54.7, 43.3, 54.6, 56.6, 74.7, 60.1, 62.8, 47.5, 63.1, 53.7, 51.1, 59.9, 44.3, 53.3, 46.6, 57.1, 46.6, 37.3, 60.0, 66.0, 70.0, 36.2, 58.8, 69.5, 60.0, 57.6, 50.9, 49.1, 48.9, 47.1, 58.0, 45.6, 41.2, 72.1, 71.6, 49.2, 52.2, 54.0, 48.2, 61.3, 65.9, 48.1, 43.3, 56.7, 47.1, 52.3, 61.7, 58.0, 43.8, 48.5, 50.9, 56.9, 57.6, 78.7, 45.2, 57.0, 61.2, 88.8, 59.9, 58.5, 53.5, 47.5, 55.3, 52.9, 42.3, 66.6, 37.5, 53.5, 26.9, 66.1, 52.8, 45.7, 37.0, 53.0, 50.9, 37.8, 34.1, 37.6, 33.5, 33.5, 40.8, 56.8, 48.1, 33.7, 43.2, 38.9, 51.1, 55.8, 48.7, 39.4, 31.7, 32.8, 43.2, 49.6, 37.8, 37.8, 36.3, 48.4, 42.5, 43.7, 32.6, 63.6, 39.8, 42.2, 46.7, 51.2, 43.8, 52.7, 66.8, 52.8, 41.8, 68.7, 68.4, 57.4, 50.8, 46.9, 48.4, 35.7, 46.3, 61.2, 44.6, 86.6, 36.7, 43.7, 52.7, 42.5, 41.5, 43.7, 56.3, 45.1, 46.4, 46.4, 37.8, 49.4, 42.5, 48.0, 47.5, 54.1, 36.0, 40.8, 42.5, 29.8, 43.9, 51.9, 53.7, 38.7, 41.5, 38.0, 36.6, 69.5, 41.3, 58.4, 44.3, 54.6, 34.8, 43.6, 51.6, 32.1, 55.4, 44.5, 51.7, 57.3, 75.3, 40.6, 56.5, 59.7, 51.3, 55.1, 50.2, 54.9, 55.9, 65.6, 57.9, 44.2, 42.7, 40.3, 57.0, 50.0, 72.5, 48.5, 63.2, 54.5, 30.4, 68.7, 47.1, 42.9, 55.3, 45.8, 54.5, 47.9, 52.1, 42.1, 55.0, 60.2, 51.6, 50.4, 52.3, 41.2, 38.1, 64.4, 48.3, 56.6, 44.4, 66.4, 45.3, 57.3, 39.6, 48.3, 52.8, 47.4, 51.2, 42.0, 55.0, 42.5, 43.0, 57.0, 57.9, 45.2, 38.5, 58.4, 45.8, 55.0, 48.2, 55.3, 54.6, 61.7, 30.3, 60.7, 48.3, 30.3, 39.9, 63.2, 72.1, 52.2, 34.9, 36.6, 31.4, 58.5, 42.3, 51.1, 47.7, 39.7, 35.6, 25.7, 51.1, 55.2, 54.5, 28.8, 35.0, 42.6, 26.3, 48.8, 77.2, 44.9, 40.0, 40.6, 42.1, 43.5, 57.9, 47.7, 45.8, 61.3, 52.4, 42.8, 36.5, 36.4, 50.9, 39.9, 39.7, 48.0, 43.4, 54.0, 41.5, 55.8, 60.3, 52.2, 77.0, 40.1, 40.2, 61.3, 45.2, 53.0, 47.1, 43.5, 88.0, 68.6, 62.7, 46.1, 47.4, 56.3, 50.7, 53.1, 45.0, 60.0, 50.2, 46.4, 68.6, 61.1, 52.5, 53.8, 70.7, 68.5, 60.5, 60.8, 65.3, 66.3, 70.4, 100.3, 60.7, 71.0, 68.1, 70.0, 60.7, 47.3, 69.1, 60.5, 73.1, 57.4, 76.5, 65.2, 50.4, 51.2, 69.0, 49.4, 51.8, 62.6, 53.4, 51.8, 59.1, 57.9, 61.1, 50.2, 51.2, 53.0, 60.0, 50.0, 58.7, 48.7, 56.3, 56.6, 50.3, 43.6, 62.8, 42.1, 48.5, 52.2, 46.1, 44.1, 51.7, 59.6, 48.2, 54.8, 56.9, 41.1, 49.7, 55.7, 59.9, 60.6, 60.3, 47.7, 75.8, 47.9, 52.9, 47.5, 64.4, 46.7, 53.7, 39.6, 30.9, 41.2, 55.9, 42.6, 30.1, 29.8, 28.7, 26.6, 28.8, 39.7, 36.6, 37.6, 29.4, 33.4, 31.1, 28.0, 31.7, 28.7, 29.3, 39.7, 32.4, 32.0, 42.2, 25.5, 48.2, 38.3, 34.3, 31.5, 34.0, 29.5, 36.8, 37.1, 32.3, 32.7, 42.0, 32.4, 35.6, 33.3, 38.0, 37.2, 32.1, 41.6, 41.3, 64.7, 39.3, 27.4, 34.7, 29.6, 43.7, 34.7, 40.8, 44.1, 37.5, 36.4, 40.5, 33.5, 35.1, 30.8, 34.2, 43.0, 33.9, 41.5, 41.8, 48.0, 46.4, 46.1, 42.9, 51.7, 37.2, 55.7, 38.1, 49.8, 58.6, 42.6, 39.3, 55.2, 42.2, 42.4, 35.9, 48.7, 53.8, 62.7, 47.5, 45.5, 52.8, 60.2, 34.2, 40.7, 55.6, 36.5, 36.4, 38.4, 46.0, 45.2, 42.1, 60.7, 50.9, 56.0, 44.5, 50.5, 43.9, 53.1, 54.4, 50.8, 49.3, 46.7, 57.9, 53.1, 50.0, 50.2, 47.0, 58.8, 49.9, 55.9, 44.8, 46.1, 61.6, 46.8, 73.6, 54.0, 50.3, 51.4, 52.4, 58.4, 53.0, 56.1, 68.6, 58.0, 39.6, 43.7, 54.4, 51.5, 55.2, 41.9, 57.7, 51.3, 66.4, 47.1, 67.3, 58.6, 51.7, 66.1, 56.0, 41.8, 62.2, 34.8, 52.8, 53.2, 65.2, 42.3, 28.1, 45.1, 57.1, 57.6, 33.3, 26.1, 34.8, 42.6, 47.6, 65.5, 45.3, 36.7, 51.2, 38.5, 38.9, 36.9, 31.7, 34.5, 31.8, 40.2, 45.9, 27.4, 51.7, 27.8, 44.3, 71.3, 31.2, 57.2, 49.2, 41.4, 55.1, 50.2, 44.4, 47.6, 49.4, 53.0, 48.1, 71.0, 46.1, 69.5, 100.8, 62.2, 54.5, 49.1, 71.0, 55.1, 34.1, 50.4, 63.1, 57.2, 42.9, 46.4, 63.8, 64.3, 59.3, 45.2, 54.9, 58.5, 53.4, 52.3, 57.8, 47.2, 60.6, 48.1, 48.0, 61.8, 55.4, 53.1, 63.6, 39.2, 58.8, 45.6, 50.9, 52.2, 58.0, 49.5, 35.2, 61.0, 59.7, 41.8, 52.5, 55.2, 48.8, 49.1, 49.4, 59.0, 63.4, 62.2, 48.7, 57.8, 46.0, 59.3, 55.5, 64.1, 58.7, 86.8, 52.3, 56.6, 42.9, 51.0, 84.3, 84.8, 53.8, 68.7, 57.5, 45.6, 45.4, 50.5, 62.2, 54.5, 79.9, 78.1, 74.7, 44.3, 64.2, 42.2, 45.3, 59.4, 86.3, 59.5, 35.3, 60.2, 52.1, 43.5, 38.0, 46.4, 69.3, 58.7, 39.5, 60.8, 52.9, 54.3, 66.4, 54.9, 40.0, 55.3, 51.1, 57.7, 56.0, 43.1, 56.8, 49.3, 44.1, 40.9, 63.0, 54.5, 51.9, 53.8, 43.4, 57.4, 51.8, 61.4, 42.1, 45.7, 60.6, 59.8, 48.8, 49.8, 53.4, 50.1, 58.7, 46.1, 62.3, 57.3, 58.8, 50.0, 50.7, 60.6, 40.4, 55.6, 49.3, 80.8, 66.5, 45.3, 42.6, 50.3, 55.9, 46.1, 54.8, 49.9, 42.9, 58.1, 64.0, 56.0, 45.3, 70.4, 44.1, 55.0, 45.8, 52.5, 43.3, 49.0, 46.5, 54.8, 64.7, 53.5, 60.4, 51.9, 65.0, 47.6, 53.6, 58.0, 88.0, 56.0, 74.0, 57.0, 39.0, 47.5, 57.0, 64.7, 50.0, 60.2, 46.0, 77.0, 40.5, 56.3, 76.0, 73.0, 49.0, 48.0, 59.0, 43.9, 49.9, 79.8, 75.0, 49.3, 55.5, 63.4, 44.7, 63.5, 40.4, 54.7, 40.0, 50.4, 58.6, 80.1, 84.4, 43.2, 59.4, 53.8, 58.1, 54.5, 75.9, 64.4, 72.8, 52.2, 51.0, 49.8, 61.1, 55.0, 75.0, 45.6, 61.4, 60.6, 50.7, 93.8, 56.2, 83.8, 88.6, 74.9, 71.4, 48.1, 49.9, 66.8, 56.7, 65.7, 61.8, 54.4, 82.3, 73.1, 48.5, 56.9, 57.1, 65.4, 66.7, 72.7, 64.7, 25.1, 46.7, 33.9, 36.8, 40.9, 57.3, 27.9, 47.1, 45.0, 44.3, 37.6, 41.2, 38.1, 31.0, 37.8, 29.6, 36.5, 49.6, 40.5, 40.2, 55.0, 70.4, 59.8, 34.7, 27.8, 64.2, 52.9, 35.9, 59.8, 54.6, 32.8, 63.0, 66.6, 45.6, 59.7, 64.1, 48.9, 33.8, 43.3, 44.1, 43.8, 52.7, 52.5, 50.1, 45.7, 50.8, 49.4, 42.2, 42.6, 45.9, 49.8, 40.3, 40.4, 58.9, 45.7, 39.5, 47.1, 30.0, 26.8, 30.6, 33.0, 38.5, 61.8, 52.7, 29.8, 34.0, 33.1, 29.1, 26.5, 25.4, 55.7, 58.1, 46.3, 31.1, 52.6, 35.7, 38.5, 28.9, 34.2, 53.0, 46.6, 34.9, 38.0, 34.2, 30.0, 37.2, 49.4, 44.1, 39.1, 61.0, 52.9, 43.1, 66.5, 41.9, 50.0, 37.7, 50.6, 51.5, 42.9, 41.2, 69.8, 53.7, 41.7, 60.0, 48.6, 38.4, 60.6, 50.8, 64.7, 61.3, 57.6, 51.2, 32.4, 52.7, 55.1, 38.4, 42.5, 32.6, 31.9, 41.2, 46.8, 62.2, 31.6, 47.0, 43.2, 38.2, 59.1, 48.5, 45.4, 48.1, 34.1, 57.6, 48.2, 37.8, 71.3, 52.9, 37.1, 42.4, 42.7, 38.2, 71.0, 110.8, 41.4, 72.8, 42.4, 53.1, 45.2, 107.0, 89.6, 43.5, 50.7, 52.4, 55.1, 44.8, 42.7, 54.0, 38.9, 48.7, 32.1, 58.4, 52.5, 57.2, 50.6, 46.6, 74.2, 53.7, 43.3, 37.7, 40.2, 60.1, 43.6, 60.7, 62.1, 54.8, 97.6, 62.2, 55.5, 48.9, 41.2, 46.4, 71.9, 54.7, 40.9, 45.3, 51.4, 46.8, 42.5, 47.0, 52.9, 47.9, 65.9, 49.1, 55.9, 49.9, 60.6, 46.4, 32.2, 48.6, 38.7, 36.2, 61.2, 66.8, 36.2, 44.0, 47.7, 66.2, 61.1, 43.0, 42.1, 48.4, 57.9, 56.8, 51.5, 51.8, 44.9, 66.0, 61.7, 50.1, 51.7, 61.9, 45.9, 73.2, 43.6, 41.9, 62.0, 37.1, 51.8, 39.0, 45.1, 52.9, 52.1, 53.3, 64.7, 75.7, 48.9, 51.7, 38.4, 57.3, 87.1, 57.1, 40.7, 54.0, 56.5, 51.4, 82.0, 46.0, 54.7, 49.8, 72.3, 46.8, 31.9, 35.7, 51.8, 51.1, 40.0, 43.9, 56.5, 45.3, 48.5, 66.8, 43.0, 73.1, 33.1, 45.5, 80.5, 62.9, 58.7, 50.7, 88.3, 89.0, 62.5, 55.4, 71.6, 50.3, 61.4, 74.6, 67.7, 61.2, 58.8, 53.1, 50.6, 56.3, 61.1, 68.4, 85.8, 69.2, 58.0, 50.3, 56.4, 70.1, 67.4, 59.9, 38.8, 57.2, 68.2, 55.9, 94.6, 63.3, 58.6, 42.7, 30.9, 46.3, 33.0, 47.2, 40.8, 34.9, 50.7, 34.6, 50.4, 41.1, 35.5, 41.9, 53.1, 41.0, 32.1, 38.9, 40.4, 74.2, 56.8, 46.3, 57.1, 47.9, 33.3, 50.8, 70.0, 46.6, 65.4, 52.8, 31.0, 46.9, 43.9, 39.2, 57.3, 88.1, 47.2, 66.7, 40.8, 40.9, 49.6, 52.5, 90.5, 38.1, 50.8, 45.7, 95.1, 39.4, 54.5, 43.9, 46.5, 42.7, 40.0, 66.8, 49.6, 90.9, 57.2, 71.8, 33.4, 47.0, 69.7, 49.9, 49.6, 41.1, 43.8, 56.7, 58.5, 47.1, 44.5, 41.0, 60.2, 46.7, 45.5, 42.8, 38.6, 68.5, 44.8, 62.5, 58.3, 45.2, 52.4, 63.9, 58.1, 71.5, 47.2, 55.0, 50.5, 84.3, 83.9, 40.4, 52.8, 51.1, 50.7, 74.2, 55.4, 64.9, 60.7, 65.8, 52.0, 63.5, 50.0, 56.0, 63.1, 71.8, 51.9, 62.1, 51.0, 70.8, 73.7, 59.2, 60.0, 51.5, 56.1, 106.1, 50.3, 65.5, 51.1, 61.4, 59.9, 71.1, 57.7, 47.2, 73.0, 48.3, 55.5, 59.4, 52.7, 59.4, 61.2, 61.0, 44.9, 53.3, 76.4, 52.1, 55.1, 48.7, 38.8, 39.0, 48.6, 38.0, 43.5, 48.9, 34.8, 65.7, 48.1, 34.4, 38.5, 60.7, 52.1, 76.6, 49.5, 61.6, 41.1, 52.6, 37.4, 53.1, 69.0, 50.8, 45.3, 60.9, 45.3, 50.0, 68.5, 42.4, 52.8, 60.0, 53.9, 53.3, 47.7, 68.1, 43.4, 41.5, 75.6, 64.5, 47.2, 51.0, 46.0, 49.3, 42.9, 41.9, 67.8, 43.1, 72.5, 58.5, 58.2, 51.5, 62.8, 41.8, 43.0, 51.1, 50.5, 45.3, 50.7, 47.1, 45.3, 47.9, 35.0, 55.3, 58.9, 55.6, 54.5, 65.7, 60.4, 69.6, 51.3, 58.6, 53.0, 58.3, 47.8, 55.6, 78.0, 83.6, 49.9, 57.6, 63.4, 58.3, 48.7, 57.0, 35.5, 39.5, 53.2, 30.2, 42.7, 45.1, 76.3, 39.2, 42.0, 42.5, 66.3, 65.2, 77.3, 65.5, 51.3, 53.2, 63.4, 47.5, 45.8, 55.1, 52.3, 38.8, 41.7, 54.4, 51.1, 84.3, 36.5, 38.5, 51.3, 59.5, 47.7, 75.3, 41.1, 38.7, 41.2, 48.1, 53.4, 72.4, 55.5, 46.8, 64.1, 43.7, 37.0, 58.1, 31.8, 40.6, 54.1, 37.1, 61.0, 58.0, 90.6, 56.2, 75.3, 39.4, 68.8, 73.7, 62.8, 48.9, 50.2, 45.7, 59.2, 46.1, 53.7, 33.9, 49.3, 53.9, 53.2, 50.3, 41.7, 63.0, 55.4, 43.4, 48.9, 47.2, 87.3, 53.7, 81.6, 37.0, 62.2, 45.4, 61.2, 49.2, 92.0, 62.4, 47.9, 84.7, 51.4, 50.2, 49.7, 103.1, 48.6, 55.2, 48.7, 56.6, 88.2, 50.3, 50.0, 43.7, 42.2, 70.2, 45.2, 42.9, 49.9, 43.1, 101.6, 73.4, 55.6, 52.2, 66.4, 107.0, 63.1, 74.4, 65.4, 112.3, 56.2, 62.1, 42.8, 56.9, 64.2, 58.2, 54.6, 58.3, 51.2, 63.4, 66.2, 91.2, 58.3, 92.4, 61.2, 54.8, 44.0, 58.4, 68.5, 56.9, 39.0, 110.7, 48.7, 52.2, 40.0, 46.5, 54.9, 77.4, 75.1, 72.0, 73.9, 61.9, 54.9, 44.4, 49.0, 47.2, 49.7, 75.5, 49.7, 78.8, 59.8, 55.3, 52.2, 44.8, 52.4, 45.2, 55.7, 76.7, 47.7, 66.3, 50.7, 70.3, 51.5, 54.1, 64.2, 59.6, 58.7, 49.0, 58.1, 56.3, 48.5, 42.7, 44.4, 51.2, 32.4, 34.0, 49.3, 53.5, 28.2, 44.8, 51.2, 52.0, 33.5, 65.5, 52.0, 45.5, 42.4, 37.7, 39.2, 30.9, 46.8, 48.9, 57.4, 32.1, 98.8, 43.0, 30.2, 37.7, 58.7, 94.9, 53.2, 67.0, 42.5, 49.9, 55.7, 46.4, 39.8, 48.0, 42.4, 39.2, 55.5, 48.4, 46.0, 53.3, 48.3, 50.4, 49.0, 55.0, 50.9, 57.9, 65.6, 44.9, 42.4, 56.8, 56.0, 34.0, 37.4, 40.2, 36.1, 40.9, 47.9, 53.1, 64.5, 41.9, 54.8, 48.7, 52.5, 31.4, 32.9, 34.9, 36.6, 40.6, 46.3, 43.2, 45.3, 35.9, 33.7, 56.7, 35.7, 73.2, 73.3, 53.7, 47.3, 54.7, 44.5, 60.1, 48.1, 59.6, 52.1, 47.8, 46.4, 52.1, 86.0, 56.7, 52.9, 65.7, 64.3, 66.8, 76.6, 61.6, 49.5, 43.7, 64.1, 58.3, 64.7, 64.7, 52.3, 44.5, 48.7, 62.7, 60.9, 71.7, 60.0, 60.5, 65.5, 76.9, 73.9, 57.3, 115.9, 52.8, 51.1, 55.1, 56.2, 54.0, 48.7, 62.9, 57.1, 58.3, 99.4, 50.6, 66.7, 50.0, 49.1, 58.7, 56.3, 49.2, 80.2, 52.4, 51.0, 63.0, 53.3, 59.8, 80.0, 45.4, 48.9, 66.7, 72.2, 52.1, 70.1, 58.3, 61.6, 44.8, 52.6, 51.1, 47.2, 31.4, 36.7, 48.9, 66.8, 69.4, 53.9, 54.2, 47.9, 59.5, 56.6, 60.7, 51.9, 41.9, 94.3, 71.9, 50.1, 68.3, 46.5, 64.8, 62.6, 78.6, 60.1, 60.4, 58.1, 75.1, 84.5, 59.2, 53.5, 82.0, 81.2, 65.8, 57.3, 44.9, 37.6, 32.6, 58.8, 36.2, 45.8, 34.0, 41.0, 35.7, 35.2, 43.2, 31.4, 39.0, 40.5, 34.3, 47.1, 54.9, 41.1, 32.3, 44.4, 46.3, 37.5, 50.2, 49.9, 51.6, 47.2, 35.3, 42.3, 35.2, 49.7, 49.0, 42.3, 40.7, 51.9, 34.9, 39.0, 46.8, 51.0, 40.3, 46.1, 43.5, 54.4, 42.0, 51.0, 45.2, 50.9, 36.5, 47.2, 47.6, 49.8, 43.2, 63.6, 43.2, 52.1, 61.3, 58.5, 67.4, 49.6, 45.9, 67.7, 72.7, 55.5, 64.3, 42.8, 63.6, 51.7, 68.6, 49.7, 51.6, 92.2, 59.5, 49.7, 47.8, 52.6, 67.2, 59.2, 53.6, 48.8, 48.3, 102.0, 72.4, 57.8, 45.4, 48.6, 85.0, 56.6, 47.5, 86.7, 65.2, 56.4, 71.6, 79.5, 87.5, 54.2, 73.7, 47.9, 100.0, 48.6, 47.2, 80.3, 55.8, 50.9, 53.9, 49.5, 56.0, 41.6, 82.5, 49.2, 72.9, 62.9, 61.0, 45.9, 46.4, 74.0, 48.7, 57.6, 56.2, 51.3, 35.0, 35.5, 46.7, 39.9, 34.9, 49.2, 45.9, 32.9, 104.3, 47.9, 29.1, 30.5, 38.8, 44.7, 35.2, 49.1, 38.2, 29.7, 61.3, 52.2, 48.6, 64.9, 66.5, 59.5, 65.6, 62.8, 55.6, 53.7, 52.9, 71.1, 57.0, 50.2, 55.6, 51.6, 39.6, 40.6, 52.2, 50.3, 39.7, 40.2, 52.0, 39.3, 51.4, 82.9, 44.6, 44.9, 54.2, 43.2, 57.2, 59.3, 47.2, 74.4, 48.7, 64.7, 60.0, 56.1, 61.4, 63.5, 51.6, 52.9, 84.6, 55.5, 68.4, 52.2, 79.2, 66.1, 50.6, 63.7, 60.0, 63.8, 77.6, 39.7, 61.0, 43.1, 56.8, 72.2, 61.4, 45.5, 49.9, 51.2, 50.4, 58.2, 47.5, 54.5, 73.7, 50.8, 62.5, 48.9, 44.7, 43.8, 45.2, 51.3, 44.1, 123.7, 79.1, 50.0, 58.7, 41.7, 52.7, 52.3, 98.0, 103.7, 50.4, 48.2, 85.1, 59.6, 53.1, 49.3, 56.5, 43.7, 52.8, 47.7, 63.8, 47.4, 67.8, 39.3, 72.0, 45.3, 43.0, 42.5, 44.3, 95.2, 51.0, 45.9, 49.0, 39.5, 40.9, 42.5, 43.7, 58.8, 36.0, 38.8, 41.9, 72.6, 38.1, 55.4, 50.1, 48.9, 32.9, 42.8, 49.8, 76.3, 37.7, 52.7, 42.9, 47.6, 51.0, 42.2, 39.8, 37.2, 64.2, 45.9, 61.7, 40.1, 35.5, 40.0, 41.0, 38.6, 38.9, 49.7, 39.2, 42.3, 44.0, 50.2, 31.0, 43.6, 45.7, 37.6, 26.0, 33.5, 43.9, 32.5, 31.4, 42.2, 41.5, 42.8, 57.3, 55.5, 31.6, 53.5, 51.6, 46.0, 45.8, 58.1, 59.2, 46.1, 47.1, 47.0, 24.3, 56.9, 57.2, 59.1, 62.0, 32.5, 54.9, 61.2, 56.5, 32.2, 59.2, 45.1, 31.7, 51.3, 68.9, 78.1, 36.4, 58.0, 44.7, 42.1, 72.0, 43.1, 69.3, 43.7, 33.1, 39.4, 34.0, 39.9, 62.1, 52.5, 34.7, 59.9, 47.8, 51.8, 36.5, 56.9, 48.6, 61.1, 45.1, 31.5, 52.4, 31.7, 39.7, 40.2, 44.7, 40.4, 39.4, 77.8, 30.8, 55.9, 40.2, 57.6, 50.3, 42.5, 35.9, 36.3, 51.2, 47.6, 43.3, 27.4, 43.8, 43.5, 45.8, 42.8, 50.1, 41.0, 48.0, 27.0, 47.8, 48.7, 49.1, 36.3, 42.7, 31.3, 78.5, 42.7, 54.4, 40.8, 48.1, 40.4, 37.4, 57.1, 45.1, 38.0, 67.4, 37.5, 40.1, 44.5, 44.6, 28.7, 52.3, 45.6, 66.5, 44.2, 47.1, 45.9, 47.3, 60.3, 40.3, 40.7, 57.4, 52.9, 34.9, 48.6, 39.3, 40.2, 41.7, 56.2, 42.3, 41.1, 37.2, 34.3, 28.2, 67.0, 42.4, 53.8, 38.3, 35.5, 33.3, 40.8, 39.8, 32.8, 60.9, 51.3, 32.8, 46.8, 58.4, 59.1, 32.0, 41.0, 41.4, 54.3, 29.9, 66.5, 60.7, 51.3, 57.7, 61.8, 41.2, 38.9, 33.6, 27.8, 25.3, 70.2, 48.0, 42.2, 74.4, 41.8, 49.1, 24.9, 49.6, 78.7, 35.1, 37.1, 37.0, 60.7, 28.2, 31.3, 33.0, 46.1, 44.7, 30.4, 42.3, 35.9, 35.6, 30.0, 64.3, 90.3, 53.1, 81.6, 46.2, 48.9, 46.4, 34.8, 45.8, 58.6, 60.5, 45.8, 61.9, 45.4, 38.7, 34.4, 56.1, 60.3, 40.1, 52.4, 56.0, 47.3, 45.7, 53.2, 69.2, 46.1, 46.0, 54.2, 49.4, 37.0, 39.0, 44.8, 61.2, 42.2, 32.6, 42.9, 46.6, 48.6, 38.3, 48.6, 47.1, 50.3, 46.7, 63.3, 38.6, 56.0, 46.8, 37.5, 61.3, 35.4, 48.6, 59.8, 54.0, 45.8, 38.5, 55.4, 49.6, 38.0, 48.0, 63.8, 104.1, 57.2, 48.8, 47.8, 57.8, 70.4, 60.2, 65.0, 46.0, 53.4, 60.1, 58.5, 69.1, 53.2, 51.6, 75.3, 49.3, 61.2, 38.8, 40.9, 65.6, 37.7, 30.1, 35.9, 29.4, 53.6, 26.9, 39.9, 32.7, 60.8, 35.4, 39.3, 25.3, 45.5, 77.5, 44.2, 68.8, 67.7, 39.6, 58.4, 62.3, 71.8, 68.4, 66.1, 57.9, 55.2, 56.9, 91.4, 56.8, 60.4, 41.8, 58.3, 57.5, 46.6, 90.8, 58.2, 59.5, 78.4, 64.4, 73.9, 48.2, 77.0, 41.3, 56.1, 57.1, 46.5, 85.3, 57.1, 60.3, 84.5, 63.9, 47.4, 74.9, 62.5, 49.8, 70.5, 52.8, 57.9, 79.7, 45.4, 41.9, 55.2, 34.8, 50.5, 41.2, 40.8, 58.2, 54.5, 53.5, 54.4, 59.8, 60.6, 44.0, 54.7, 55.8, 60.0, 49.7, 51.5, 44.3, 68.3, 53.2, 86.9, 50.4, 75.6, 69.3, 51.0, 48.3, 69.2, 48.3, 47.8, 56.8, 92.2, 46.9, 47.4, 48.2, 67.4, 77.4, 51.5, 50.5, 72.3, 74.9, 56.6, 51.6, 86.2, 67.4, 51.0, 58.4, 41.9, 62.0, 56.5, 55.6, 128.0, 81.8, 53.1, 65.0, 59.8, 88.5, 60.9, 54.8, 56.0, 56.8, 63.3, 69.8, 59.5, 52.2, 41.8, 80.3, 62.2, 43.1, 62.6, 54.5, 57.4, 51.6, 58.6, 46.9, 45.0, 50.1, 63.4, 48.3, 63.5, 79.8, 65.4, 55.5, 68.8, 65.8, 47.3, 47.8, 49.6, 51.5, 61.2, 45.1, 43.7, 86.6, 57.8, 53.8, 67.4, 47.1, 60.3, 68.6, 43.3, 53.5, 69.6, 59.8, 53.2, 67.9, 52.3, 39.6, 55.7, 44.5, 55.8, 59.8, 60.9, 85.5, 58.8, 45.6, 75.9, 57.8, 52.9, 68.3, 53.8, 46.2, 63.3, 56.7, 61.6, 59.1, 69.5, 56.5, 64.3, 50.3, 62.2, 64.8, 63.3, 91.3, 72.5, 41.1, 47.6, 62.3, 64.9, 68.8, 75.9, 63.2, 63.9, 86.8, 61.7, 73.1, 53.2, 57.9, 82.1, 56.9, 56.1, 61.7, 55.8, 50.5, 84.4, 97.5, 70.8, 77.0, 65.5, 50.7, 68.5, 64.7, 102.4, 66.0, 67.0, 44.7, 50.8, 61.1, 47.7, 51.7, 50.5, 52.9, 53.6, 74.2, 55.1, 50.1, 51.6, 35.4, 49.4, 58.6, 45.1, 79.0, 53.3, 58.9, 52.2, 47.2, 55.4, 51.9, 48.1, 71.4, 42.8, 52.2, 51.0, 63.7, 53.5, 57.2, 46.2, 61.2, 64.2, 48.2, 49.8, 42.8, 60.2, 58.3, 62.1, 80.6, 67.5, 73.9, 69.0, 69.9, 41.5, 48.3, 56.8, 96.6, 82.0, 56.0, 53.2, 47.4, 54.1, 58.1, 83.4, 55.7, 48.1, 49.9, 43.2, 72.1, 110.5, 61.9, 40.9, 38.5, 58.0, 85.3, 48.5, 42.0, 50.6, 81.2, 110.6, 42.7, 58.1, 56.3, 55.3, 41.6, 61.4, 43.6, 69.0, 40.4, 66.0, 55.7, 50.7, 70.3, 51.2, 49.8, 66.1, 64.0, 88.7, 51.4, 54.5, 89.2, 92.8, 69.4, 40.5, 57.3, 88.0, 51.4, 97.7, 102.4, 83.8, 46.6, 49.2, 55.8, 54.7, 47.5, 63.9, 59.0, 95.6, 54.6, 66.2, 65.3, 53.7, 75.1, 42.7, 41.0, 52.2, 55.7, 61.9, 66.4, 61.0, 58.7, 60.3, 50.6, 52.9, 48.8, 52.4, 52.8, 46.6, 57.1, 54.6, 56.4, 73.5, 65.2, 69.0, 73.8, 56.3, 56.1, 50.1, 42.9, 51.9, 58.6, 69.3, 67.0, 61.0, 58.9, 44.7, 68.7, 78.7, 47.0, 44.6, 41.5, 82.2, 59.6, 38.8, 45.3, 38.4, 56.7, 32.3, 53.9, 52.9, 59.2, 52.5, 81.9, 89.9, 46.9, 113.3, 54.5, 57.8, 44.0, 41.5, 74.6, 79.0, 62.6, 41.3, 53.2, 43.2, 52.6, 52.7, 58.1, 82.7, 73.0, 51.0, 56.8, 70.1, 59.1, 45.7, 45.6, 125.8, 51.7, 52.4, 54.0, 70.9, 47.4, 63.1, 43.7, 71.7, 50.1, 47.4, 54.8, 54.2, 41.2, 62.1, 65.9, 75.0, 63.6, 62.0, 51.7, 64.4, 55.1, 37.5, 33.8, 36.6, 31.1, 95.8, 38.2, 30.9, 40.4, 51.1, 47.1, 45.4, 33.3, 28.6, 41.4, 54.1, 34.5, 50.7, 55.8, 69.5, 35.6, 51.7, 74.5, 63.2, 60.5, 47.4, 77.8, 48.2, 59.1, 57.8, 77.6, 61.3, 45.6, 81.2, 62.3, 75.0, 66.3, 55.4, 40.1, 129.8, 59.1, 52.8, 51.9, 72.1, 47.1, 76.9, 46.8, 53.7, 55.4, 80.6, 62.2, 63.1, 70.0, 50.5, 57.0, 54.8, 44.6, 49.3, 65.5, 58.4, 50.5, 51.1, 63.4, 50.3, 52.1, 59.1, 53.6, 64.8, 49.1, 50.9, 55.4, 56.0, 50.8, 74.7, 41.2, 43.0, 48.5, 64.8, 46.2, 48.1, 41.0, 62.8, 48.1, 50.6, 45.9, 62.9, 62.9, 53.4, 53.0, 49.3, 65.0, 45.1, 50.9, 73.8, 62.2, 52.6, 58.2, 64.4, 45.4, 88.4, 61.2, 50.0, 75.6, 48.7, 45.8, 64.3, 49.7, 46.2, 53.5, 62.9, 58.4, 53.6, 103.0, 67.6, 63.9, 59.5, 44.5, 52.1, 100.2, 76.4, 69.6, 55.2, 59.3, 52.0, 43.6, 64.2, 59.4, 60.2, 53.9, 48.7, 69.0, 66.7, 63.2, 77.0, 57.4, 55.8, 46.6, 54.4, 52.7, 55.6, 47.4, 69.7, 60.2, 47.9, 40.7, 91.8, 69.4, 50.1, 45.3, 60.5, 66.2, 50.6, 50.2, 41.5, 58.1, 57.7, 95.0, 63.3, 63.5, 57.4, 51.8, 66.8, 86.7, 62.0, 65.3, 39.8, 45.2, 41.1, 32.6, 35.9, 36.0, 36.5, 40.5, 34.6, 47.9, 35.9, 37.6, 31.8, 47.5, 32.2, 51.4, 46.6, 38.5, 41.9, 69.7, 54.1, 40.9, 37.3, 35.1, 94.8, 42.1, 36.3, 39.4, 42.4, 36.3, 51.5, 43.4, 53.0, 28.7, 42.9, 69.0, 51.5, 44.3, 42.1, 56.9, 37.1, 55.4, 41.8, 40.5, 46.6, 40.0, 41.9, 45.7, 46.4, 71.3, 43.0, 35.4, 62.0, 55.6, 45.7, 40.4, 57.3, 59.8, 42.1, 54.5, 33.3, 48.4, 52.1, 31.2, 45.1, 33.9, 44.6, 60.3, 54.5, 58.0, 37.0, 60.7, 37.2, 46.6, 63.9, 42.7, 46.0, 50.8, 50.1, 56.2, 46.4, 42.1, 51.3, 35.5, 54.1, 51.8, 57.4, 42.8, 72.7, 47.7, 49.0, 52.7, 59.8, 52.5, 54.1, 65.9, 47.5, 97.2, 55.0, 49.1, 53.4, 82.1, 58.5, 60.0, 57.2, 59.2, 51.1, 58.8, 48.3, 53.0, 75.0, 59.7, 79.0, 56.1, 58.7, 64.0, 90.1, 62.2, 59.7, 52.4, 47.1, 82.2, 68.4, 59.4, 55.0, 66.6, 83.8, 60.0, 99.4, 62.5, 57.1, 48.0, 64.6, 78.0, 61.3, 63.4, 64.6, 72.4, 52.6, 68.9, 52.4, 60.3, 63.0, 42.9, 68.7, 62.7, 43.3, 50.7, 54.8, 55.9, 52.8, 56.6, 48.7, 72.0, 49.2, 74.4, 47.9, 77.7, 47.2, 73.3, 70.1, 53.9, 56.4, 63.5, 48.5, 57.4, 73.9, 54.2, 53.0, 57.5, 58.2, 42.1, 41.1, 50.7, 73.7, 45.4, 46.7, 44.1, 47.9, 41.3, 57.6, 46.0, 78.9, 55.3, 40.6, 67.5, 54.8, 54.9, 46.6, 41.1, 55.9, 36.2, 42.2, 64.3, 51.4, 40.8, 41.1, 58.6, 64.0, 63.6, 57.9, 44.9, 46.8, 43.5, 48.6, 42.6, 39.2, 48.5, 67.7, 45.6, 62.0, 63.3, 43.3, 47.0, 61.3, 46.3, 51.9, 43.4, 54.2, 39.9, 37.1, 45.6, 50.0, 40.0, 58.0, 39.7, 49.1, 55.0, 60.6, 44.0, 62.5, 54.3, 55.8, 56.0, 53.0, 64.0, 45.0, 46.0, 66.4, 45.2, 52.9, 50.2, 47.0, 59.0, 37.0, 57.0, 64.1, 66.0, 38.7, 47.9, 35.3, 46.0, 36.3, 79.2, 42.8, 30.1, 46.4, 34.6, 45.7, 59.7, 49.0, 43.1, 39.4, 49.0, 34.5, 37.4, 42.5, 35.5, 44.6, 44.5, 43.7, 57.1, 49.1, 38.5, 36.7, 39.6, 50.1, 53.3, 76.3, 79.7, 47.4, 64.0, 56.5, 50.6, 60.6, 73.6, 45.1, 46.3, 60.5, 67.9, 55.0, 57.2, 49.9, 54.4, 61.1, 39.7, 43.0, 57.4, 60.9, 55.8, 60.1, 57.3, 40.4, 76.9, 55.7, 56.8, 51.1, 65.7, 78.6, 63.1, 34.5, 45.1, 53.2, 46.3, 47.3, 60.5, 48.9, 38.8, 52.3, 36.4, 38.1, 43.4, 45.8, 46.4, 48.4, 45.3, 46.9, 68.0, 40.8, 43.5, 41.5, 43.2, 51.8, 43.7, 49.5, 44.9, 54.4, 39.5, 32.3, 52.5, 45.4, 37.1, 65.4, 48.6, 41.3, 48.2, 42.3, 58.5, 55.7, 50.8, 54.5, 47.2, 55.1, 46.4, 48.4, 47.5, 57.9, 46.1, 34.5, 32.4, 52.5, 30.4, 32.2, 32.0, 62.3, 34.0, 28.5, 45.8, 29.9, 36.1, 52.1, 28.2, 28.4, 47.5, 35.2, 42.9, 57.3, 35.9, 52.2, 32.6, 39.6, 28.8, 42.0, 48.2, 50.6, 47.7, 60.4, 60.4, 53.2, 42.1, 41.1, 54.1, 57.2, 44.3, 43.0, 46.3, 44.7, 48.3, 58.2, 42.9, 55.2, 81.8, 42.2, 53.5, 64.2, 51.1, 42.0, 64.9, 38.1, 42.3, 63.1, 58.4, 56.1, 62.6, 53.0, 70.7, 44.7, 41.3, 32.4, 67.5, 31.8, 43.6, 41.0, 54.1, 77.3, 43.4, 41.9, 43.1, 87.1, 68.5, 65.9, 54.9, 59.4, 32.3, 38.4, 45.9, 38.1, 50.6, 37.8, 29.9, 67.0, 46.8, 37.5, 38.9, 49.9, 62.4, 45.6, 47.3, 53.8, 45.7, 40.4, 39.8, 66.4, 62.0, 44.2, 50.7, 79.6, 61.3, 73.3, 37.8, 70.9, 53.3, 59.8, 51.9, 28.7, 42.2, 48.6, 59.6, 54.0, 46.5, 49.3, 57.8, 35.5, 45.9, 43.1, 40.5, 54.1, 41.4, 43.6, 33.3, 39.6, 47.2, 40.0, 69.3, 55.5, 41.4, 45.7, 89.8, 41.4, 38.1, 49.9, 38.3, 47.1, 26.8, 61.1, 41.9, 60.4, 36.2, 41.5, 51.9, 43.4, 53.4, 53.7, 41.3, 42.8, 61.6, 64.5, 70.7, 75.9, 69.3, 57.1, 49.5, 53.3, 61.2, 62.2, 67.9, 53.7, 81.9, 69.0, 61.8, 70.1, 54.9, 67.9, 56.0, 62.4, 42.3, 59.0, 66.3, 58.1, 72.7, 51.5, 58.4, 78.4, 37.6, 55.1, 68.7, 52.5, 46.0, 48.4, 60.5, 61.8, 41.0, 59.2, 43.7, 57.7, 54.6, 41.0, 64.3, 43.0, 56.6, 45.7, 41.7, 51.6, 63.7, 38.1, 64.0, 41.6, 54.1, 43.9, 54.4, 82.2, 53.3, 71.0, 39.7, 50.7, 52.1, 70.1, 58.4, 60.9, 50.6, 54.7, 58.2, 53.1, 50.7, 72.8, 88.5, 67.9, 65.4, 61.2, 61.4, 50.9, 53.5, 73.1, 59.3, 39.6, 39.6, 67.1, 36.9, 51.8, 51.3, 44.9, 32.6, 72.9, 51.9, 35.8, 70.4, 53.7, 43.7, 75.0, 47.4, 46.4, 79.0, 53.6, 56.1, 53.1, 98.9, 53.2, 79.8, 50.2, 43.7, 47.3, 42.6, 46.6, 57.6, 56.2, 38.1, 63.7, 56.1, 49.0, 32.3, 67.8, 48.2, 60.2, 30.7, 42.8, 34.9, 42.2, 32.0, 41.9, 57.7, 43.9, 41.7, 53.1, 37.5, 48.1, 49.1, 37.1, 64.9, 53.0, 47.8, 54.3, 68.0, 62.5, 81.3, 38.1, 43.1, 63.4, 42.2, 47.6, 57.1, 57.6, 52.7, 44.3, 48.2, 86.6, 55.9, 54.2, 53.5, 40.9, 33.7, 35.8, 38.1, 46.7, 39.6, 49.1, 29.3, 28.8, 44.1, 52.6, 37.0, 43.6, 53.2, 46.7, 51.3, 39.7, 44.9, 28.1, 36.9, 28.8, 44.9, 51.6, 32.3, 44.0, 52.5, 61.0, 34.5, 51.2, 53.8, 49.8, 44.9, 41.7, 50.4, 69.4, 47.7, 39.7, 53.1, 45.9, 68.1, 60.4, 60.1, 85.2, 38.2, 57.1, 54.9, 48.9, 63.6, 49.7, 66.8, 52.2, 54.6, 63.0, 57.1, 82.5, 52.7, 60.7, 51.7, 52.2, 59.5, 84.0, 45.8, 70.5, 58.3, 53.0, 47.1, 57.4, 83.0, 42.0, 60.2, 80.9, 59.5, 55.0, 54.5, 54.2, 72.0, 46.0, 47.8, 57.7, 54.9, 61.5, 47.6, 45.8, 64.0, 52.8, 57.5, 59.4, 47.5, 70.7, 63.5, 79.2, 60.1, 73.2, 54.0, 69.6, 69.9, 48.2, 78.6, 56.2, 66.3, 52.8, 67.5, 54.7, 54.0, 53.3, 85.7, 49.3, 48.1, 58.5, 46.0, 50.3, 62.0, 61.2, 61.0, 53.2, 57.0, 47.1, 47.6, 44.9, 62.8, 45.4, 48.4, 40.5, 56.9, 66.1, 53.5, 60.6, 49.3, 52.5, 73.3, 61.1, 60.6, 67.0, 47.8, 40.2, 48.0, 51.6, 52.2, 43.6, 114.9, 67.9, 72.2, 37.6, 53.5, 45.2, 77.6, 54.8, 61.9, 46.8, 59.8, 42.6, 52.4, 48.2, 53.7, 90.0, 64.4, 80.3, 48.8, 72.7, 60.7, 49.3, 81.1, 73.0, 52.1, 92.6, 54.1, 82.6, 75.6, 62.3, 58.2, 108.9, 52.2, 57.4, 47.3, 61.4, 55.5, 102.7, 63.6, 40.5, 58.4, 58.8, 63.0, 76.9, 67.1, 58.9, 43.0, 48.6, 60.9, 29.8, 32.0, 44.3, 41.7, 41.6, 28.6, 44.5, 31.7, 42.7, 32.7, 50.9, 35.7, 32.4, 36.3, 58.9, 62.0, 85.8, 73.6, 37.8, 33.9, 31.8, 46.6, 50.4, 36.6, 64.1, 31.3, 46.5, 57.6, 54.1, 61.0, 30.6, 31.5, 44.8, 41.3, 67.7, 41.8, 48.8, 32.4, 111.4, 61.3, 35.7, 73.4, 54.4, 36.6, 55.9, 71.2, 42.3, 44.7, 50.0, 41.2, 48.6, 33.8, 50.0, 32.7, 44.9, 45.8, 63.9, 49.7, 46.2, 50.1, 63.5, 48.0, 62.6, 60.2, 79.9, 54.8, 60.6, 62.8, 61.5, 52.9, 53.3, 51.1, 58.9, 64.4, 42.4, 46.3, 83.0, 69.4, 42.2, 52.3, 47.4, 63.3, 55.6, 60.5, 53.4, 76.2, 47.3, 75.5, 49.1, 65.4, 61.0, 72.8, 42.7, 45.2, 55.1, 58.8, 72.1, 50.4, 54.5, 63.2, 48.7, 68.8, 61.7, 62.7, 66.8, 45.9, 65.0, 51.8, 59.2, 66.2, 60.3, 63.4, 73.9, 75.7, 63.3, 73.1, 112.2, 52.6, 69.7, 80.2, 52.5, 41.9, 87.3, 50.4, 73.0, 67.2, 60.1, 59.4, 51.4, 55.2, 80.7, 54.4, 36.4, 49.9, 49.6, 39.0, 49.2, 76.1, 53.4, 61.6, 64.9, 42.0, 28.7, 38.2, 47.1, 42.2, 36.0, 61.6, 55.8, 46.3, 37.6, 42.3, 39.2, 71.3, 44.0, 52.2, 42.3, 47.5, 54.3, 91.0, 55.9, 42.7, 54.4, 42.1, 65.9, 69.5, 59.8, 36.4, 47.0, 47.5, 45.1, 36.2, 45.2, 36.6, 46.4, 56.3, 81.9, 70.0, 55.2, 35.6, 40.9, 78.7, 37.6, 49.9, 53.6, 46.8, 54.4, 43.6, 38.4, 34.9, 60.3, 44.3, 46.1, 44.0, 28.2, 42.0, 45.3, 49.0, 46.0, 47.4, 55.7, 65.3, 69.5, 45.2, 53.6, 36.2, 58.7, 69.1, 36.8, 50.7, 64.7, 39.7, 49.8, 52.3, 40.6, 69.6, 53.7, 46.0, 44.7, 59.6, 54.7, 38.8, 43.6, 36.6, 48.3, 57.4, 34.2, 57.6, 57.7, 48.5, 48.7, 47.7, 68.4, 67.3, 59.7, 60.9, 74.7, 60.2, 51.8, 75.9, 64.5, 65.0, 47.0, 61.4, 46.3, 84.1, 45.3, 57.0, 55.0, 58.4, 49.7, 67.5, 53.0, 48.4, 67.0, 54.7, 54.4, 41.3, 49.5, 60.4, 56.1, 78.5, 56.9, 55.2, 50.9, 57.2, 60.5, 35.5, 38.5, 49.9, 52.2, 75.7, 63.3, 73.5, 48.2, 75.4, 46.7, 43.6, 43.9, 40.8, 36.3, 52.5, 48.6, 105.8, 41.4, 42.7, 45.9, 37.9, 38.9, 36.7, 50.5, 43.7, 31.1, 67.5, 84.7, 40.6, 39.0, 47.2, 41.4, 43.8, 45.8, 43.8, 67.2, 50.3, 52.8, 50.6, 41.6, 56.5, 48.4, 60.5, 75.1, 48.2, 44.5, 51.5, 41.7, 37.9, 62.2, 53.4, 70.9, 59.2, 56.1, 61.7, 61.7, 49.0, 53.3, 52.9, 79.6, 71.6, 51.3, 52.4, 43.6, 50.0, 63.3, 89.1, 51.4, 56.3, 69.9, 95.0, 48.2, 62.5, 68.7, 62.0, 122.6, 49.0, 66.0, 93.7, 54.1, 51.5, 49.8, 52.5, 44.0, 58.2, 49.8, 58.0, 64.2, 53.8, 44.0, 62.7, 52.2, 50.3, 54.6, 70.1, 59.2, 59.0, 43.7, 65.5, 76.9, 42.8, 29.3, 88.4, 37.7, 31.3, 58.5, 28.5, 42.0, 38.7, 50.8, 34.5, 45.5, 64.4, 71.4, 47.1, 43.4, 63.1, 29.6, 35.1, 46.0, 48.9, 54.6, 53.5, 58.4, 43.2, 52.9, 53.1, 46.6, 43.5, 45.5, 89.3, 44.2, 57.0, 56.8, 50.7, 72.4, 56.9, 64.5, 51.0, 56.4, 42.6, 52.7, 51.5, 56.6, 38.8, 43.4, 53.3, 45.8, 43.5, 70.8, 55.8, 73.3, 66.6, 42.8, 56.8, 57.5, 38.6, 69.0, 50.3, 58.8, 78.8, 57.8, 49.1, 50.0, 53.3, 77.8, 65.4, 53.0, 84.4, 63.0, 59.1, 39.6, 60.4, 54.4, 86.0, 53.2, 52.8, 59.7, 35.0, 38.0, 26.1, 48.9, 47.8, 62.6, 54.0, 37.9, 32.9, 30.9, 40.2, 43.9, 42.3, 55.9, 40.2, 42.5, 54.1, 39.7, 53.9, 35.9, 44.4, 43.3, 51.5, 51.4, 41.1, 58.7, 44.8, 57.2, 57.5, 52.7, 54.5, 66.9, 58.8, 73.3, 101.5, 46.0, 52.6, 47.0, 59.0, 39.2, 53.7, 56.2, 39.4, 34.4, 34.3, 43.0, 39.8, 36.8, 50.1, 31.2, 53.3, 38.8, 42.2, 38.8, 66.1, 68.3, 59.2, 51.1, 60.9, 44.1, 68.0, 36.7, 43.6, 51.4, 44.5, 65.1, 47.5, 79.9, 59.0, 69.5, 92.9, 72.3, 59.0, 46.4, 51.2, 51.4, 55.9, 58.9, 48.3, 112.5, 56.9, 49.7, 60.4, 45.5, 53.7, 60.3, 59.6, 61.0, 50.0, 44.8, 62.1, 60.5, 31.7, 44.0, 45.0, 39.4, 55.5, 52.7, 68.1, 48.0, 94.7, 36.9, 55.7, 39.7, 57.1, 46.8, 50.7, 49.1, 52.0, 37.2, 56.4, 36.6, 41.3, 64.3, 55.2, 47.2, 52.0, 64.3, 51.4, 39.2, 53.3, 56.3, 56.5, 44.6, 67.6, 46.0, 69.3, 65.8, 54.1, 41.0, 62.1, 90.6, 55.2, 51.7, 47.7, 58.6, 43.9, 52.2, 52.0, 48.5, 60.6, 59.0, 57.3, 81.5, 50.5, 38.7, 68.8, 44.3, 51.2, 47.5, 59.3, 51.6, 52.0, 41.5, 31.3, 51.9, 34.6, 31.0, 51.4, 50.1, 31.2, 33.4, 46.8, 46.3, 77.3, 86.9, 59.3, 67.6, 48.2, 52.3, 47.3, 59.5, 42.0, 63.9, 87.3, 53.7, 57.2, 50.6, 48.6, 64.4, 47.0, 54.9, 83.1, 99.4, 78.4, 65.6, 49.9, 50.7, 45.4, 56.8, 58.9, 92.4, 95.5, 56.3, 43.4, 59.6, 61.5, 55.3, 71.1, 49.6, 97.3, 56.0, 57.7, 60.1, 66.0, 61.3, 55.2, 126.0, 64.9, 56.3, 55.6, 65.8, 65.8, 94.3, 75.4, 77.6, 77.3, 77.2, 103.4, 60.9, 83.7, 104.3, 87.6, 71.4, 70.3, 76.3, 83.0, 60.2, 58.6, 63.0, 68.6, 83.2, 101.9, 81.2, 77.9, 84.1, 60.7, 59.7, 64.2, 46.2, 51.4, 86.6, 82.8, 72.9, 50.7, 87.4, 81.1, 56.5, 85.5, 76.7, 82.5, 56.7, 34.8, 37.9, 55.7, 33.7, 47.3, 40.1, 62.4, 58.1, 42.6, 51.9, 43.9, 61.9, 63.8, 50.4, 62.3, 80.2, 50.3, 53.2, 48.9, 50.2, 54.0, 45.5, 49.2, 59.9, 59.7, 48.2, 44.1, 54.0, 50.8, 51.2, 53.0, 41.5, 44.8, 44.3, 40.7, 41.5, 32.6, 33.6, 51.5, 50.9, 42.7, 51.0, 40.0, 41.1, 54.5, 32.7, 41.3, 48.1, 35.6, 35.6, 46.0, 41.3, 52.1, 44.2, 41.8, 63.9, 66.5, 60.6, 80.5, 35.1, 45.3, 39.7, 61.6, 49.3, 43.5, 45.5, 48.3, 70.7, 61.1, 44.2, 47.7, 38.9, 45.8, 78.7, 45.2, 41.7, 89.7, 38.7, 38.0, 52.2, 53.6, 58.7, 29.5, 67.8, 56.4, 37.3, 74.1, 50.8, 50.0, 62.7, 48.6, 33.8, 30.9, 63.8, 62.9, 41.3, 36.2, 37.6, 39.5, 50.5, 49.0, 43.7, 60.2, 67.7, 54.5, 71.7, 80.5, 49.9, 50.9, 71.2, 64.8, 52.6, 56.7, 51.3, 65.1, 83.0, 53.8, 74.5, 45.7, 67.4, 66.6, 60.8, 73.0, 50.2, 82.5, 76.9, 73.1, 71.7, 57.9, 52.5, 56.7, 46.2, 46.7, 54.9, 44.9, 47.0, 57.0, 62.1, 55.9, 46.4, 48.0, 49.5, 69.0, 45.4, 52.5, 49.2, 71.2, 48.3, 41.4, 47.4, 42.4, 51.0, 55.2, 60.0, 62.7, 44.0, 40.8, 40.8, 60.1, 40.6, 57.8, 63.3, 48.9, 29.5, 35.4, 35.9, 46.8, 36.3, 40.2, 44.7, 32.7, 42.6, 30.5, 34.3, 39.6, 34.8, 22.9, 64.6, 32.1, 53.7, 31.6, 39.9, 31.4, 33.0, 30.3, 35.1, 39.6, 29.6, 41.8, 42.7, 38.8, 33.6, 50.0, 28.6, 45.3, 47.6, 41.0, 70.0, 47.7, 36.7, 28.1, 31.5, 31.8, 31.4, 65.8, 57.2, 49.7, 92.6, 45.4, 58.4, 42.3, 126.2, 68.1, 44.6, 74.7, 59.8, 89.9, 47.0, 58.4, 53.8, 39.5, 49.9, 41.3, 48.4, 70.9, 74.8, 55.2, 49.5, 77.4, 57.4, 70.0, 72.4, 68.1, 52.5, 74.8, 54.0, 69.3, 53.5, 76.5, 58.0, 49.5, 69.7, 74.2, 71.3, 69.7, 70.6, 67.3, 57.9, 62.7, 58.0, 70.8, 49.1, 53.5, 57.7, 84.2, 53.3, 51.9, 73.3, 45.1, 63.8, 64.8, 77.0, 47.3, 66.2, 81.4, 39.0, 49.8, 55.8, 57.5, 76.2, 47.4, 61.2, 53.4, 37.8, 44.2, 60.1, 66.7, 71.6, 67.7, 40.6, 43.8, 49.7, 32.1, 50.8, 56.1, 44.0, 47.1, 84.8, 50.0, 64.1, 51.9, 29.2, 36.3, 42.8, 64.6, 76.5, 46.2, 64.3, 60.7, 56.7, 64.2, 72.9, 52.4, 86.0, 45.2, 61.2, 54.2, 54.2, 57.4, 43.5, 58.1, 75.1, 61.5, 72.0, 54.5, 50.6, 60.0, 79.9, 78.8, 57.2, 63.4, 52.8, 58.0, 46.6, 74.4, 48.8, 62.4, 61.7, 40.7, 54.4, 52.2, 51.0, 65.7, 56.5, 66.0, 75.9, 74.6, 56.9, 61.1, 64.9, 63.6, 52.3, 51.4, 58.4, 58.8, 61.8, 73.2, 69.8, 51.5, 68.7, 96.0, 55.6, 59.2, 60.1, 65.6, 43.8, 45.0, 52.4, 38.0, 46.8, 43.7, 37.3, 52.2, 90.4, 73.2, 59.8, 32.6, 64.9, 35.8, 43.2, 42.9, 45.6, 35.5, 43.5, 40.9, 84.4, 55.1, 46.1, 45.5, 54.8, 76.4, 56.8, 56.8, 39.1, 59.7, 39.1, 39.1, 51.3, 45.0, 57.0, 58.6, 65.4, 55.2, 58.7, 58.8, 50.3, 49.0, 65.1, 46.5, 44.8, 44.0, 60.2, 47.2, 55.2, 46.1, 44.4, 47.7, 97.2, 45.8, 58.3, 64.2, 60.8, 75.1, 76.7, 40.8, 91.0, 60.4, 47.5, 54.0, 40.5, 57.2, 62.0, 38.7, 40.7, 42.5, 53.3, 50.4, 71.3, 51.2, 40.5, 74.6, 72.4, 78.0, 40.7, 58.0, 44.1, 49.1, 50.8, 43.6, 46.6, 47.7, 43.4, 55.9, 52.1, 58.3, 31.4, 35.5, 45.9, 50.3, 63.4, 46.0, 45.2, 47.8, 39.7, 40.1, 49.0, 61.0, 61.7, 45.1, 48.4, 37.4, 49.4, 36.2, 36.4, 75.1, 68.2, 54.0, 69.6, 62.2, 52.9, 50.9, 78.1, 64.1, 90.9, 52.6, 80.0, 63.3, 61.9, 44.1, 87.4, 60.6, 46.7, 69.3, 53.0, 72.3, 99.9, 51.2, 64.8, 55.6, 45.9, 57.5, 58.4, 48.1, 52.7, 44.0, 68.1, 62.6, 86.0, 83.0, 44.5, 58.4, 77.6, 68.6, 60.3, 77.1, 56.6, 35.7, 40.3, 39.4, 50.8, 54.6, 55.5, 59.6, 45.3, 54.3, 56.7, 44.7, 44.0, 46.8, 66.4, 52.0, 76.4, 71.9, 61.7, 65.4, 66.8, 55.3, 67.2, 55.3, 46.6, 49.0, 47.8, 46.1, 56.2, 72.4, 45.5, 65.4, 49.4, 65.7, 53.5, 52.5, 40.1, 70.7, 42.2, 64.5, 55.1, 48.8, 54.2, 48.9, 55.3, 73.3, 64.9, 45.9, 67.7, 58.0, 82.3, 71.3, 84.6, 55.0, 57.4, 72.7, 55.0, 52.1, 60.5, 50.1, 66.6, 39.7, 62.3, 63.7, 108.1, 58.9, 47.5, 36.0, 28.8, 75.3, 49.6, 46.4, 56.2, 92.3, 37.4, 29.4, 44.1, 36.5, 46.7, 56.8, 61.5, 41.9, 37.8, 38.3, 38.0, 43.5, 54.9, 60.7, 65.0, 41.9, 72.5, 58.4, 77.8, 68.5, 62.6, 67.2, 53.2, 53.8, 53.4, 67.0, 64.2, 61.9, 37.0, 47.8, 46.5, 48.6, 39.1, 40.9, 35.0, 52.7, 59.1, 42.0, 39.2, 41.1, 52.4, 43.7, 48.3, 70.2, 44.6, 40.6, 38.8, 57.8, 41.5, 32.8, 65.3, 50.6, 44.8, 47.9, 45.4, 43.4, 49.5, 44.3, 55.4, 49.0, 52.5, 42.6, 53.5, 39.3, 38.7, 41.8, 64.4, 37.0, 37.6, 44.9, 66.2, 43.5, 45.0, 33.0, 41.4, 29.3, 38.4, 46.6, 44.0, 34.3, 50.3, 38.1, 48.3, 71.8, 46.0, 89.5, 46.6, 74.3, 67.4, 61.9, 50.2, 67.2, 58.4, 49.7, 55.5, 47.0, 55.3, 84.0, 53.8, 100.2, 45.5, 63.3, 62.4, 60.1, 63.6, 94.2, 65.7, 73.8, 59.3, 61.1, 78.2, 52.9, 52.0, 86.8, 64.7, 40.3, 62.0, 71.8, 52.8, 46.9, 66.5, 55.9, 67.3, 57.0, 47.7, 75.5, 88.5, 58.5, 36.1, 55.4, 54.7, 59.4, 64.2, 84.0, 65.4, 56.3, 98.1, 56.7, 61.9, 57.3, 87.1, 48.7, 50.4, 59.4, 52.6, 65.7, 78.8, 52.4, 57.8, 53.1, 54.0, 34.2, 58.3, 37.8, 38.7, 30.7, 78.2, 75.9, 48.5, 33.7, 48.1, 59.7, 71.0, 41.6, 69.1, 59.0, 48.3, 88.8, 50.6, 46.6, 54.7, 46.2, 47.1, 65.2, 50.1, 40.2, 59.9, 53.7, 77.3, 34.5, 42.8, 51.3, 51.6, 55.0, 73.4, 63.0, 60.5, 46.6, 35.0, 52.9, 52.5, 55.3, 66.7, 49.6, 49.6, 59.2, 53.6, 58.5, 47.7, 53.5, 76.3, 56.7, 52.0, 68.8, 71.5, 48.0, 61.1, 69.6, 57.8, 40.5, 57.7, 48.1, 62.6, 60.2, 59.6, 43.6, 60.4, 49.3, 49.0, 51.5, 48.3, 47.8, 46.5, 55.6, 51.1, 75.9, 58.5, 104.1, 75.1, 69.1, 63.4, 51.5, 57.2, 70.5, 59.7, 91.3, 54.8, 49.7, 54.4, 71.7, 60.2, 61.9, 54.8, 80.4, 58.4, 72.2, 58.5, 49.7, 46.3, 53.9, 52.2, 46.7, 59.0, 73.5, 53.1, 46.5, 45.3, 48.3, 67.7, 57.3, 49.0, 60.2, 61.8, 55.3, 61.9, 65.2, 39.3, 70.3, 57.2, 86.4, 50.0, 57.1, 56.0, 70.8, 74.5, 53.0, 64.4, 53.0, 49.7, 58.8, 50.6, 65.3, 60.8, 82.7, 47.0, 48.2, 71.0, 50.9, 75.3, 61.8, 76.8, 78.4, 97.2, 41.1, 73.3, 63.5, 74.2, 58.8, 67.4, 55.1, 42.0, 63.0, 56.0, 55.0, 54.2, 58.4, 66.5, 63.9, 64.0, 63.9, 49.5, 59.7, 58.6, 76.7, 60.8, 82.2, 78.3, 61.8, 68.6, 86.2, 52.1, 48.7, 36.5, 53.1, 41.2, 37.8, 50.3, 56.0, 43.4, 46.7, 52.1, 32.4, 48.7, 60.2, 45.2, 52.7, 33.2, 48.7, 30.5, 47.8, 44.6, 34.3, 40.9, 60.6, 76.1, 33.7, 67.0, 57.5, 90.0, 52.7, 65.0, 68.9, 81.0, 42.3, 60.8, 66.8, 65.9, 64.2, 49.9, 53.4, 45.2, 53.7, 71.2, 62.8, 55.6, 56.0, 42.8, 66.7, 72.2, 39.7, 59.4, 51.8, 55.0, 52.0, 67.3, 48.8, 60.3, 46.2, 61.5, 80.1, 53.2, 64.2, 62.0, 67.3, 61.2, 72.0, 54.8, 51.0, 52.5, 48.3, 59.1, 80.2, 90.1, 47.0, 54.7, 61.7, 53.7, 80.6, 60.5, 97.1, 46.4, 51.9, 49.6, 70.0, 55.3, 62.6, 51.7, 57.3, 96.9, 67.9, 57.9, 51.9, 93.7, 79.9, 49.7, 50.1, 55.6, 57.0, 63.7, 59.1, 85.7, 100.3, 79.6, 60.8, 83.2, 72.3, 55.3, 46.7, 58.8, 46.1, 53.5, 38.7, 62.0, 49.2, 76.1, 60.1, 61.4, 58.2, 57.7, 58.0, 56.3, 56.3, 84.3, 57.5, 53.0, 54.5, 57.8, 57.4, 66.8, 57.7, 41.4, 81.5, 55.6, 102.7, 61.4, 50.6, 68.9, 60.4, 60.1, 70.0, 46.3, 95.8, 78.7, 57.1, 75.3, 62.3, 64.0, 78.9, 64.4, 63.1, 51.9, 67.0, 85.3, 59.3, 56.7, 63.0, 51.2, 59.1, 54.1, 73.2, 84.4, 57.7, 54.0, 58.6, 63.5, 64.8, 55.6, 63.5, 70.5, 55.0, 71.1, 53.8, 43.5, 55.0, 57.5, 65.3, 55.0, 64.0, 88.0, 58.8, 44.0, 28.7, 76.8, 67.5, 50.8, 63.0, 74.0, 61.2, 77.1, 35.5, 36.0, 41.5, 27.8, 40.7, 40.4, 46.8, 33.5, 51.9, 39.8, 49.6, 35.7, 45.0, 58.4, 39.5, 32.5, 44.0, 39.0, 44.7, 64.9, 25.3, 31.8, 39.2, 76.4, 52.0, 55.0, 38.5, 36.2, 33.4, 52.0, 39.6, 69.7, 40.9, 37.1, 66.8, 40.5, 46.7, 33.5, 55.0, 51.6, 71.1, 50.5, 58.0, 43.9, 69.1, 65.4, 53.3, 51.0, 53.1, 90.8, 44.1, 91.1, 72.6, 69.8, 59.0, 50.1, 62.8, 61.4, 91.1, 61.4, 61.8, 80.4, 46.9, 48.1, 50.8, 78.7, 82.7, 61.9, 64.2, 77.0, 63.0, 55.6, 66.4, 49.5, 54.4, 48.6, 84.5, 84.1, 52.6, 102.8, 48.2, 68.7, 62.2, 55.1, 52.5, 82.4, 83.0, 36.6, 68.4, 54.2, 58.2, 64.0, 50.8, 74.3, 58.0, 79.4, 69.0, 40.3, 56.1, 63.8, 68.3, 45.5, 43.8, 54.8, 77.4, 47.2, 69.5, 54.7, 57.9, 54.0, 75.5, 62.0, 74.1, 60.1, 60.2, 53.7, 68.6, 73.8, 59.5, 55.8, 60.0, 54.7, 46.5, 61.7, 55.2, 63.0, 88.5, 89.0, 82.7, 62.2, 73.8, 50.7, 45.0, 41.7, 57.3, 65.7, 67.0, 64.8, 68.7, 49.6, 44.6, 66.9, 53.9, 44.9, 66.9, 52.3, 55.5, 61.0, 56.7, 82.0, 58.5, 102.2, 50.8, 83.1, 67.6, 51.8, 57.6, 64.0, 53.6, 79.5, 68.9, 43.1, 85.0, 58.2, 47.4, 48.9, 39.0, 42.9, 54.0, 67.0, 57.8, 51.6, 40.7, 59.6, 56.6, 34.8, 65.6, 40.4, 40.9, 61.5, 55.4, 74.0, 55.6, 53.1, 58.2, 44.2, 59.2, 51.9, 43.6, 50.0, 68.0, 69.6, 42.1, 41.4, 90.4, 33.1, 34.5, 44.3, 51.6, 41.7, 44.4, 53.9, 57.7, 45.0, 55.1, 24.1, 52.5, 29.5, 38.7, 54.5, 53.2, 49.2, 45.8, 35.5, 34.6, 29.1, 35.9, 39.2, 28.7, 57.6, 62.4, 40.4, 42.8, 37.1, 39.4, 45.4, 43.3, 51.1, 49.0, 50.2, 60.4, 78.4, 70.5, 58.4, 64.1, 59.3, 41.3, 62.0, 64.5, 59.2, 50.8, 56.4, 51.1, 42.9, 62.7, 39.9, 64.3, 64.0, 51.9, 70.9, 66.6, 57.0, 60.4, 54.1, 52.2, 53.0, 82.8, 57.7, 37.6, 75.0, 56.6, 59.3, 54.1, 59.2, 54.4, 60.9, 63.0, 55.9, 55.3, 53.2, 60.0, 59.8, 47.5, 64.6, 63.0, 57.8, 49.7, 60.0, 60.1, 69.0, 47.3, 62.0, 47.3, 65.4, 44.1, 60.1, 47.0, 51.0, 97.4, 48.1, 56.6, 46.0, 46.8, 83.6, 53.2, 52.0, 84.5, 55.0, 53.3, 56.2, 79.9, 76.9, 52.5, 67.0, 59.2, 86.6, 47.4, 63.9, 54.1, 81.5, 62.5, 59.3, 58.0, 41.1, 56.7, 57.3, 109.8, 50.7, 77.3, 62.3, 32.1, 61.4, 47.1, 60.2, 46.0, 38.5, 39.5, 39.1, 43.2, 47.8, 43.0, 59.2, 37.5, 39.5, 49.0, 57.7, 49.2, 61.4, 48.4, 51.3, 44.0, 44.1, 42.1, 34.4, 33.8, 53.3, 39.8, 39.8, 49.4, 52.5, 57.5, 58.3, 86.4, 75.0, 64.0, 66.4, 77.4, 67.1, 55.2, 58.1, 103.1, 53.9, 47.4, 68.5, 44.6, 53.4, 43.7, 53.0, 71.3, 46.4, 54.8, 53.8, 121.6, 59.8, 74.3, 50.1, 64.3, 57.0, 54.8, 59.0, 57.1, 43.1, 60.1, 47.3, 57.0, 61.4, 52.4, 56.9, 49.0, 41.8, 103.7, 55.5, 51.4, 48.6, 53.7, 89.3, 85.8, 37.7, 61.3, 49.5, 49.1, 55.4, 50.1, 89.5, 49.6, 57.4, 34.8, 48.8, 26.8, 87.8, 39.1, 51.5, 74.0, 51.4, 46.7, 50.0, 44.6, 89.5, 36.1, 49.3, 38.4, 57.8, 62.9, 49.2, 58.1, 53.1, 76.6, 70.7, 46.3, 62.7, 62.5, 68.6, 65.5, 58.7, 59.1, 62.2, 66.6, 68.0, 68.6, 45.1, 57.1, 90.6, 40.5, 64.8, 49.9, 53.8, 58.2, 52.4, 55.5, 68.5, 39.9, 44.2, 52.2, 46.3, 48.0, 68.8, 47.8, 66.4, 45.4, 39.6, 44.9, 56.4, 66.8, 44.2, 64.0, 58.7, 80.2, 65.6, 66.8, 65.6, 42.5, 43.2, 37.9, 49.3, 64.0, 52.0, 61.7, 68.4, 67.5, 45.6, 83.3, 42.9, 68.0, 52.2, 67.6, 64.2, 49.7, 65.0, 48.3, 48.1, 87.8, 61.6, 71.7, 54.0, 64.5, 58.3, 66.0, 63.3, 51.9, 43.4, 45.6, 62.4, 73.5, 51.8, 45.8, 57.1, 74.3, 39.9, 68.0, 68.3, 48.6, 57.5, 51.4, 65.2, 50.0, 48.4, 50.7, 69.8, 79.7, 55.1, 66.3, 59.3, 53.0, 53.2, 58.4, 70.5, 71.7, 52.1, 64.2, 57.9, 68.0, 68.0, 44.0, 36.6, 50.6, 41.5, 35.6, 49.2, 56.8, 48.9, 42.7, 41.1, 35.7, 41.3, 54.2, 49.9, 41.1, 46.0, 44.5, 37.1, 48.2, 57.9, 57.6, 53.8, 58.1, 42.1, 46.7, 41.0, 135.0, 52.2, 46.9, 45.7, 41.6, 46.9, 84.0, 47.3, 50.0, 35.0, 44.2, 40.9, 31.9, 49.1, 34.3, 54.8, 42.0, 58.4, 42.4, 36.9, 41.3, 72.2, 59.2, 51.6, 36.7, 33.0, 44.6, 38.6, 43.5, 30.9, 47.8, 30.7, 42.7, 46.0, 85.9, 50.0, 81.2, 53.6, 50.5, 63.4, 65.2, 57.7, 46.4, 58.2, 55.3, 61.0, 69.7, 48.2, 94.6, 63.3, 55.7, 53.3, 58.1, 62.0, 87.4, 55.0, 116.8, 45.8, 55.1, 70.6, 63.4, 38.1, 53.5, 66.0, 61.9, 35.2, 34.5, 50.6, 51.6, 45.6, 40.1, 30.3, 30.2, 107.0, 45.4, 78.8, 40.3, 38.2, 30.5, 53.5, 44.0, 58.1, 46.5, 47.5, 57.4, 48.7, 54.9, 53.1, 46.8, 44.1, 53.7, 74.8, 52.5, 59.5, 47.2, 28.5, 46.4, 54.9, 42.1, 68.6, 58.9, 88.7, 80.7, 48.7, 49.3, 52.7, 57.9, 71.3, 61.7, 147.7, 80.4, 111.4, 42.2, 58.0, 51.8, 58.1, 76.8, 80.6, 58.0, 68.7, 65.5, 70.4, 54.9, 61.0, 54.6, 74.0, 66.9, 68.1, 71.0, 72.2, 60.6, 41.5, 71.1, 62.8, 53.0, 47.6, 49.6, 37.7, 71.2, 61.8, 38.5, 37.6, 44.3, 89.2, 51.9, 38.5, 43.3, 57.3, 49.9, 46.9, 51.9, 91.5, 62.9, 42.1, 38.9, 49.6, 54.6, 54.3, 52.0, 51.8, 45.7, 62.3, 54.5, 55.3, 52.3, 71.3, 75.3, 48.2, 101.7, 38.8, 62.0, 39.7, 40.7, 53.0, 39.9, 60.0, 71.4, 44.8, 45.5, 42.3, 58.8, 60.8, 51.2, 35.8, 63.3, 51.2, 51.5, 40.4, 52.6, 50.0, 55.7, 42.0, 76.1, 40.7, 63.1, 67.9, 52.8, 46.2, 67.4, 63.7, 67.4, 56.3, 75.2, 55.1, 57.9, 48.4, 54.1, 56.9, 57.4, 94.7, 55.9, 43.5, 61.6, 96.9, 49.7, 60.9, 52.5, 43.9, 65.5, 54.3, 50.5, 49.8, 100.7, 36.4, 57.8, 54.3, 72.3, 43.1, 42.3, 39.3, 61.1, 34.3, 47.7, 54.7, 59.3, 43.6, 45.4, 47.7, 61.7, 50.5, 63.8, 49.6, 68.5, 72.3, 51.5, 47.4, 74.0, 49.9, 52.4, 76.2, 37.8, 39.3, 37.7, 50.3, 36.9, 61.1, 33.8, 50.0, 62.6, 68.5, 38.9, 40.8, 29.9, 46.4, 39.3, 52.4, 48.7, 56.2, 48.2, 44.6, 49.7, 50.2, 52.5, 36.4, 40.7, 33.3, 35.6, 39.2, 28.7, 39.5, 50.4, 48.7, 46.9, 53.8, 50.1, 169.1, 58.9, 45.1, 51.0, 61.3, 65.1, 62.4, 47.4, 45.6, 72.7, 39.3, 47.6, 61.1, 54.6, 50.3, 67.5, 36.7, 53.7, 49.0, 29.8, 60.4, 48.3, 69.6, 44.2, 46.3, 49.6, 72.0, 42.6, 108.7, 51.4, 59.8, 56.6, 40.7, 45.8, 70.2, 73.3, 43.2, 43.9, 66.7, 49.3, 51.1, 59.3, 57.4, 49.4, 48.1, 57.0, 64.3, 49.1, 49.3, 50.0, 58.0, 49.5, 46.5, 64.8, 42.1, 65.7, 74.3, 57.4, 58.1, 61.4, 63.7, 51.7, 60.4, 47.1, 70.3, 134.5, 60.0, 49.7, 50.2, 65.9, 63.4, 61.5, 67.4, 55.0, 60.3, 60.1, 57.3, 44.6, 60.3, 56.8, 53.5, 46.2, 60.1, 50.2, 53.5, 61.2, 59.1, 52.5, 47.5, 153.0, 45.7, 68.4, 84.6, 58.0, 50.8, 81.7, 58.4, 35.5, 49.8, 55.8, 42.1, 68.4, 67.8, 56.7, 97.9, 55.7, 58.5, 58.7, 72.5, 48.9, 35.3, 67.5, 43.2, 56.6, 53.6, 68.3, 42.8, 53.3, 49.0, 53.3, 59.5, 42.2, 83.4, 55.3, 57.8, 45.3, 80.9, 104.9, 52.2, 53.7, 61.7, 61.7, 36.9, 40.6, 52.5, 59.2, 29.6, 47.5, 48.3, 47.7, 45.9, 36.9, 44.0, 30.8, 30.8, 29.4, 70.2, 32.9, 44.4, 63.7, 55.4, 32.1, 84.9, 39.8, 50.5, 51.7, 47.5, 40.2, 63.8, 49.6, 48.7, 43.1, 70.7, 61.9, 47.5, 46.2, 55.2, 53.9, 38.7, 39.9, 68.2, 69.6, 56.9, 35.7, 70.3, 56.8, 38.7, 48.8, 29.5, 36.7, 39.7, 45.8, 50.4, 51.8, 29.4, 34.8, 43.7, 43.3, 32.8, 39.6, 67.2, 32.9, 36.6, 40.0, 39.0, 46.1, 58.1, 44.4, 43.8, 34.7, 56.2, 49.0, 38.6, 40.8, 50.0, 32.2, 36.1, 38.6, 64.3, 56.6, 41.6, 46.5, 37.4, 32.0, 44.2, 32.9, 65.0, 36.9, 36.6, 62.0, 43.6, 38.1, 35.5, 61.4, 41.5, 42.5, 27.9, 56.0, 37.4, 33.0, 50.5, 59.8, 113.4, 78.5, 62.2, 43.5, 48.9, 62.3, 62.9, 79.6, 78.2, 104.3, 60.7, 50.9, 43.5, 49.9, 45.0, 49.8, 28.8, 38.2, 42.5, 61.6, 36.9, 35.5, 30.0, 51.1, 53.1, 41.8, 49.0, 52.0, 57.8, 47.1, 34.5, 41.7, 40.5, 27.8, 42.6, 40.7, 35.7, 68.1, 51.3, 60.2, 61.2, 45.8, 60.8, 49.4, 47.9, 73.8, 59.0, 59.9, 95.8, 68.1, 49.0, 61.5, 49.0, 64.0, 69.0, 76.4, 45.9, 82.0, 57.4, 47.0, 50.0, 59.0, 61.6, 81.0, 75.0, 69.4, 85.5, 47.3, 65.0, 85.0, 66.0, 61.4, 49.6, 69.5, 109.0, 52.2, 65.5, 69.9, 55.8, 53.9, 68.3, 62.0, 58.0, 61.3, 84.2, 92.0, 100.6, 55.5, 61.2, 102.0, 66.0, 67.7, 65.1, 99.9, 68.1, 71.7, 72.9, 76.0, 70.5, 51.5, 55.4, 53.0, 97.7, 51.0, 64.0, 60.0, 56.0, 47.0, 68.4, 36.8, 30.1, 47.2, 41.7, 50.4, 43.5, 31.1, 39.7, 30.5, 45.4, 39.1, 55.0, 40.3, 31.9, 38.1, 46.1, 85.9, 34.8, 33.0, 57.6, 48.7, 47.3, 37.3, 53.2, 46.9, 45.8, 45.7, 40.6, 33.0, 56.0, 56.6, 31.5, 62.8, 68.8, 71.9, 50.5, 53.4, 59.2, 38.2, 46.7, 54.9, 57.1, 55.9, 40.2, 56.1, 62.3, 62.6, 55.5, 52.1, 51.8, 69.1, 49.2, 60.0, 58.7, 85.2, 89.7, 59.3, 41.4, 77.4, 35.0, 39.0, 51.5, 53.3, 62.4, 37.6, 48.1, 35.4, 60.5, 48.1, 38.3, 70.8, 57.6, 49.6, 35.7, 49.8, 38.1, 64.5, 41.7, 43.7, 40.2, 38.2, 51.0, 59.8, 59.1, 56.5, 47.2, 57.4, 64.3, 71.1, 44.7, 57.5, 64.2, 49.0, 41.2, 84.7, 56.3, 45.9, 47.6, 49.9, 56.9, 43.2, 58.0, 52.8, 45.6, 43.3, 43.9, 62.0, 58.6, 36.4, 38.8, 32.6, 45.0, 47.9, 37.5, 47.1, 37.9, 36.0, 47.0, 65.2, 40.4, 57.2, 43.8, 56.9, 47.4, 36.2, 56.2, 31.1, 44.9, 34.2, 58.7, 33.8, 42.3, 59.9, 39.3, 32.1, 25.3, 29.9, 39.7, 28.0, 69.7, 41.4, 34.8, 41.8, 33.7, 49.7, 31.6, 33.0, 41.8, 40.5, 32.8, 51.1, 38.2, 49.7, 52.6, 48.0, 35.2, 51.0, 49.8, 46.0, 45.8, 54.8, 61.8, 52.4, 44.3, 62.8, 75.9, 45.2, 83.6, 46.2, 36.1, 53.8, 48.9, 46.7, 68.9, 52.6, 41.9, 34.4, 71.3, 49.1, 44.4, 43.4, 38.7, 37.9, 33.1, 43.9, 37.9, 40.5, 32.2, 36.1, 42.4, 42.0, 33.5, 46.6, 32.8, 43.3, 73.2, 40.3, 40.6, 33.5, 52.0, 52.7, 77.0, 61.8, 31.9, 27.5, 55.7, 60.2, 48.3, 30.7, 41.8, 50.2, 52.5, 38.8, 37.4, 38.2, 87.5, 64.6, 49.8, 47.3, 60.7, 91.4, 43.1, 56.8, 45.5, 76.5, 42.0, 61.6, 60.4, 54.1, 45.2, 43.8, 45.4, 52.6, 41.3, 60.9, 39.8, 49.0, 48.8, 41.5, 57.5, 66.9, 50.9, 48.1, 53.7, 55.4, 36.6, 61.5, 50.8, 49.2, 41.6, 41.9, 48.2, 46.2, 70.3, 64.5, 52.1, 54.1, 42.2, 52.1, 38.4, 74.3, 39.6, 48.8, 92.1, 45.9, 67.6, 53.5, 60.0, 89.5, 49.3, 56.1, 57.1, 79.3, 54.4, 51.4, 60.0, 48.5, 62.0, 53.4, 49.4, 84.5, 43.8, 55.8, 46.9, 61.2, 46.7, 62.5, 47.6, 44.7, 56.0, 52.7, 50.0, 53.8, 56.6, 62.8, 86.9, 59.8, 60.6, 70.8, 75.3, 54.6, 95.0, 58.8, 61.7, 61.8, 63.9, 75.6, 54.6, 41.8, 51.2, 61.1, 69.2, 48.2, 44.7, 38.2, 54.7, 50.3, 51.6, 57.5, 60.4, 64.0, 48.9, 73.0, 59.4, 53.3, 119.8, 49.6, 63.1, 77.8, 61.2, 56.6, 63.5, 46.6, 56.3, 69.0, 58.5, 52.1, 57.0, 64.4, 56.6, 64.0, 51.9, 58.6, 62.1, 47.3, 92.6, 42.0, 58.5, 50.5, 79.8, 56.7, 59.9, 55.0, 63.9, 78.9, 46.2, 83.0, 63.4, 41.2, 49.6, 86.4, 60.3, 63.8, 60.6, 46.2, 54.8, 56.3, 38.6, 37.3, 45.4, 73.0, 51.7, 59.0, 35.0, 62.4, 56.7, 48.0, 57.4, 35.4, 58.0, 77.3, 98.2, 48.9, 31.3, 34.3, 48.2, 74.6, 65.6, 45.7, 47.6, 44.5, 42.3, 42.7, 47.2, 36.8, 47.3, 36.7, 46.8, 33.0, 46.9, 38.1, 47.9, 40.4, 51.7, 53.8, 48.7, 65.7, 55.5, 40.1, 34.5, 49.5, 49.7, 57.9, 29.9, 36.2, 54.4, 59.5, 49.8, 45.2, 41.9, 59.5, 66.7, 52.8, 97.0, 50.5, 63.2, 52.5, 48.1, 63.2, 79.6, 62.4, 61.5, 64.6, 48.8, 63.1, 62.6, 64.6, 70.8, 60.7, 54.5, 54.0, 42.4, 46.2, 48.2, 45.8, 40.0, 45.5, 42.2, 55.8, 51.1, 59.9, 74.0, 62.5, 63.9, 56.2, 38.4, 68.3, 54.5, 47.1, 73.2, 41.4, 47.2, 39.7, 82.6, 61.6, 62.4, 86.7, 50.3, 48.4, 58.4, 52.4, 56.4, 41.6, 48.7, 48.1, 52.4, 67.1, 102.7, 54.1, 47.8, 53.7, 67.7, 57.2, 53.4, 46.8, 66.6, 72.9, 74.0, 51.6, 86.5, 85.4, 40.4, 36.9, 59.9, 47.0, 50.2, 55.2, 44.0, 47.5, 64.9, 45.3, 42.6, 55.9, 40.4, 34.7, 36.7, 37.4, 58.2, 45.3, 49.1, 63.7, 54.9, 48.0, 50.4, 39.9, 44.3, 32.6, 33.8, 92.1, 50.5, 37.1, 32.8, 60.4, 53.7, 32.4, 26.8, 54.1, 59.0, 39.5, 60.6, 47.2, 56.9, 45.8, 55.9, 46.4, 43.9, 39.8, 53.3, 40.0, 49.6, 50.4, 49.1, 75.6, 133.1, 40.3, 43.4, 38.3, 59.4, 80.4, 50.8, 58.2, 86.0, 64.4, 56.4, 44.2, 60.0, 45.7, 41.9, 44.4, 64.9, 55.3, 46.8, 50.6, 57.0, 47.5, 57.1, 80.2, 50.8, 61.5, 45.7, 69.4, 57.0, 45.4, 61.6, 44.0, 67.3, 57.7, 84.5, 40.0, 39.4, 53.8, 72.2, 47.7, 51.1, 69.7, 52.6, 41.5, 37.5, 52.8, 81.3, 52.0, 87.6, 40.9, 48.5, 49.6, 61.8, 76.2, 65.3, 44.6, 58.5, 44.3, 54.1, 52.5, 51.7, 51.8, 43.7, 80.5, 54.2, 102.4, 60.5, 58.1, 54.4, 60.9, 51.1, 63.9, 67.9, 44.1, 53.4, 80.8, 69.2, 67.2, 60.5, 101.1, 104.6, 66.2, 54.2, 53.9, 68.6, 73.3, 79.1, 57.9, 64.0, 86.0, 52.5, 60.4, 54.5, 47.1, 55.1, 57.0, 60.6, 66.5, 59.9, 52.5, 72.3, 64.3, 62.2, 71.1, 53.8, 65.4, 48.9, 65.6, 58.0, 54.4, 60.5, 46.4, 54.3, 57.5, 64.4, 66.3, 60.6, 39.4, 54.5, 37.8, 51.5, 71.4, 46.6, 40.2, 47.1, 50.7, 43.3, 36.2, 50.1, 48.5, 33.0, 61.6, 64.4, 70.7, 39.0, 40.2, 40.6, 31.3, 36.9, 44.1, 45.5, 72.8, 60.9, 40.0, 74.2, 69.8, 48.4, 67.7, 42.7, 46.0, 76.9, 70.8, 68.1, 59.7, 68.0, 69.7, 51.6, 46.5, 70.6, 55.6, 66.7, 60.6, 95.0, 58.3, 65.0, 54.2, 74.8, 44.8, 58.7, 50.9, 41.5, 48.8, 74.3, 65.4, 56.3, 60.8, 57.1, 60.1, 64.7, 57.6, 64.2, 63.7, 57.9, 77.6, 55.4, 73.7, 52.3, 64.0, 56.3, 43.1, 41.6, 62.5, 54.9, 51.9, 45.5, 39.3, 76.0, 65.8, 37.6, 76.6, 50.4, 47.7, 69.8, 61.6, 56.0, 66.8, 51.9, 70.7, 54.1, 67.2, 49.6, 51.7, 57.3, 75.8, 53.5, 53.2, 63.9, 45.7, 42.4, 56.3, 56.7, 45.8, 58.5, 47.5, 72.1, 42.0, 44.7, 59.6, 41.3, 55.4, 43.5, 76.5, 72.4, 63.1, 49.3, 73.0, 46.5, 40.9, 45.7, 44.8, 50.3, 50.3, 59.8, 60.5, 48.5, 68.5, 63.3, 36.7, 81.6, 39.8, 45.6, 59.0, 62.6, 47.7, 64.9, 54.1, 47.5, 31.3, 42.7, 36.0, 28.5, 59.3, 50.8, 40.1, 36.2, 30.4, 33.3, 33.1, 38.1, 44.4, 38.2, 46.0, 25.9, 34.2, 58.9, 58.6, 56.3, 53.3, 60.0, 80.8, 61.7, 46.9, 68.0, 47.6, 113.2, 58.6, 82.5, 64.7, 79.0, 67.9, 79.7, 89.3, 50.4, 74.7, 65.5, 37.5, 54.5, 35.0, 43.5, 56.1, 56.5, 38.0, 39.8, 43.7, 41.3, 59.9, 35.2, 55.5, 107.7, 27.8, 50.1, 34.6, 41.7, 46.2, 34.9, 31.7, 30.0, 58.1, 29.6, 50.0, 49.4, 50.7, 74.7, 56.2, 63.9, 44.6, 67.9, 72.2, 78.9, 91.5, 99.9, 84.5, 69.9, 63.3, 47.1, 57.5, 87.7, 74.3, 59.1, 51.1, 76.2, 53.7, 95.8, 71.9, 56.0, 81.2, 49.3, 55.8, 78.8, 59.1, 58.4, 59.1, 59.2, 68.6, 73.5, 74.7, 82.6, 75.9, 95.8, 55.9, 66.0, 61.2, 51.5, 55.6, 82.6, 57.9, 59.2, 54.9, 73.2, 68.4, 53.0, 58.6, 58.3, 66.6, 69.3, 107.3, 50.7, 62.0, 44.3, 66.0, 60.3, 74.5, 59.4, 86.5, 59.5, 75.1, 83.6, 48.2, 68.8, 54.6, 58.1, 57.4, 54.2, 56.2, 54.9, 56.2, 65.1, 76.7, 93.3, 57.2, 52.0, 55.1, 83.9, 53.5, 64.6, 58.7, 40.3, 59.7, 42.2, 61.3, 47.1, 110.1, 84.6, 61.2, 63.5, 71.0, 79.0, 78.5, 48.8, 77.1, 50.4, 62.4, 73.5, 46.0, 29.3, 33.6, 50.4, 65.7, 55.0, 35.5, 83.0, 38.3, 36.9, 31.3, 28.0, 38.5, 51.2, 73.6, 44.9, 55.7, 33.5, 51.0, 32.3, 46.5, 43.5, 29.2, 50.4, 37.1, 71.9, 54.1, 50.0, 47.7, 52.7, 52.8, 53.5, 60.5, 71.0, 63.4, 57.6, 48.8, 76.5, 51.3, 56.2, 54.3, 90.8, 41.8, 61.0, 87.2, 53.9, 66.4, 50.8, 48.4, 46.2, 65.6, 68.3, 40.0, 48.4, 48.3, 61.3, 54.1, 60.1, 73.1, 52.1, 65.1, 65.7, 47.9, 66.0, 52.0, 49.3, 40.1, 55.3, 75.0, 38.6, 33.6, 58.6, 41.1, 35.6, 51.8, 61.6, 62.9, 51.4, 66.7, 40.1, 49.8, 64.2, 48.0, 49.0, 62.0, 53.2, 58.4, 65.7, 68.4, 55.7, 103.5, 57.9, 52.4, 80.0, 59.6, 55.6, 98.8, 49.5, 71.3, 60.7, 58.2, 85.2, 69.5, 43.6, 42.1, 54.6, 30.4, 57.1, 29.3, 43.3, 43.5, 52.9, 35.4, 32.3, 92.9, 33.2, 43.7, 39.9, 42.7, 43.5, 54.5, 45.8, 61.1, 33.1, 31.5, 37.0, 32.4, 37.4, 38.5, 46.6, 32.2, 50.1, 35.0, 48.9, 36.0, 32.9, 46.5, 58.8, 66.6, 37.4, 68.8, 36.4, 39.7, 43.3, 26.4, 45.9, 43.4, 46.0, 55.9, 37.7, 33.2, 69.4, 51.9, 37.7, 37.4, 36.8, 85.6, 69.3, 44.0, 48.7, 45.4, 34.6, 35.7, 39.2, 95.6, 46.8, 44.6, 45.7, 65.3, 63.3, 75.4, 40.2, 45.3, 29.9, 45.1, 57.9, 48.0, 37.6, 32.1, 35.7, 52.0, 80.2, 65.5, 64.3, 70.3, 46.7, 46.8, 63.3, 53.1, 66.3, 44.6, 52.5, 60.3, 36.1, 96.6, 65.2, 60.2, 74.8, 56.5, 48.3, 64.2, 60.7, 53.2, 37.4, 70.7, 46.4, 35.0, 71.8, 66.5, 43.1, 67.5, 64.6, 57.9, 60.4, 58.9, 79.5, 53.2, 45.2, 68.7, 54.7, 44.3, 52.6, 56.5, 68.0, 72.2, 59.9, 58.4, 51.1, 58.9, 72.8, 61.2, 63.5, 73.0, 59.4, 57.5, 77.0, 64.3, 57.4, 54.9, 67.6, 70.3, 49.7, 62.1, 60.4, 66.6, 51.0, 60.1, 64.0, 57.2, 43.3, 47.1, 67.3, 53.1, 48.4, 53.6, 79.1, 53.2, 61.5, 60.2, 52.9, 30.9, 44.2, 29.3, 32.3, 24.4, 48.5, 33.0, 36.9, 30.0, 54.3, 40.2, 48.5, 34.9, 48.9, 54.3, 53.0, 39.7, 40.2, 34.9, 40.2, 45.3, 27.8, 53.5, 55.1, 61.9, 77.7, 75.5, 43.2, 63.0, 54.0, 46.4, 57.9, 69.1, 44.1, 61.0, 50.1, 62.2, 48.4, 44.4, 56.5, 58.2, 65.8, 63.2, 58.9, 52.9, 143.3, 72.3, 60.0, 50.2, 85.9, 50.1, 61.4, 46.5, 60.3, 42.0, 68.7, 33.7, 31.9, 57.2, 40.0, 27.3, 48.8, 30.7, 40.4, 41.7, 41.6, 52.0, 31.7, 57.5, 43.8, 34.6, 38.5, 56.8, 42.9, 66.0, 31.8, 31.9, 66.8, 57.3, 30.0, 32.5, 58.1, 32.1, 46.7, 63.8, 51.0, 35.2, 47.2, 43.6, 39.1, 51.2, 42.0, 44.6, 44.2, 40.8, 26.4, 45.3, 25.4, 50.0, 39.3, 50.9, 36.3, 45.5, 33.4, 53.9, 45.7, 33.8, 33.1, 31.1, 31.6, 55.9, 67.3, 55.5, 56.1, 58.9, 48.4, 36.2, 50.2, 63.1, 46.2, 57.7, 57.9, 80.2, 41.4, 49.9, 55.4, 52.1, 65.8, 48.0, 35.5, 64.7, 58.6, 68.9, 49.7, 46.2, 44.2, 45.1, 62.0, 44.2, 67.4, 52.0, 87.2, 39.2, 58.2, 46.0, 67.0, 113.3, 73.4, 71.8, 47.2, 42.1, 71.9, 34.9, 49.4, 48.3, 52.9, 42.1, 54.8, 48.6, 50.7, 49.8, 46.4, 58.4, 52.0, 49.3, 72.6, 49.2, 59.5, 59.2, 52.1, 74.7, 68.3, 39.7, 49.3, 57.7, 64.2, 66.7, 45.8, 77.5, 57.3, 40.1, 43.1, 37.7, 50.2, 28.3, 33.9, 35.2, 54.5, 45.2, 28.4, 46.8, 36.4, 41.1, 35.1, 29.5, 45.7, 27.2, 41.0, 39.0, 42.8, 45.0, 52.3, 32.2, 53.4, 51.9, 49.0, 39.9, 50.0, 38.2, 39.3, 48.8, 34.3, 55.4, 65.5, 52.0, 55.7, 65.6, 39.0, 40.1, 51.6, 48.5, 63.0, 39.6, 38.9, 31.6, 38.8, 48.4, 60.2, 60.2, 49.0, 60.1, 47.0, 69.3, 35.0, 44.9, 63.9, 45.4, 32.1, 63.1, 48.0, 52.0, 54.4, 72.6, 50.3, 40.7, 37.8, 31.7, 49.2, 32.2, 37.0, 59.4, 35.7, 69.1, 53.3, 40.0, 44.1, 51.7, 44.0, 40.9, 48.6, 44.9, 60.6, 35.2, 40.8, 58.5, 68.5, 57.2, 38.5, 37.7, 31.6, 40.4, 36.9, 30.7, 41.8, 59.2, 57.5, 40.8, 58.3, 48.0, 52.2, 48.7, 47.1, 45.6, 58.3, 49.6, 54.9, 30.5, 45.1, 48.4, 57.3, 36.0, 61.7, 48.5, 45.2, 45.8, 93.5, 60.2, 52.5, 32.5, 50.3, 64.0, 83.5, 51.4, 51.1, 48.8, 79.9, 102.5, 56.9, 53.4, 64.6, 50.4, 64.1, 42.9, 64.8, 77.6, 69.3, 101.4, 67.2, 39.5, 42.1, 48.0, 71.6, 58.9, 50.2, 61.2, 81.2, 39.9, 41.3, 52.1, 48.8, 47.9, 40.0, 50.4, 52.1, 90.1, 52.8, 44.7, 48.5, 97.5, 62.8, 53.6, 34.6, 43.4, 43.7, 53.9, 86.2, 48.8, 47.5, 64.1, 96.1, 54.1, 79.3, 70.7, 41.3, 54.5, 52.2, 77.1, 72.5, 53.2, 53.5, 60.6, 41.0, 42.1, 60.2, 58.9, 48.2, 56.6, 60.7, 61.0, 51.7, 58.9, 50.5, 56.9, 35.5, 39.0, 40.6, 55.4, 43.4, 47.2, 36.7, 73.3, 49.8, 32.6, 48.3, 43.7, 40.9, 71.4, 47.8, 39.5, 71.3, 71.7, 67.5, 58.9, 52.9, 33.8, 55.8, 37.5, 26.5, 75.3, 91.9, 45.5, 46.5, 55.3, 64.6, 61.1, 56.6, 65.1, 59.4, 84.8, 58.6, 55.6, 56.1, 53.3, 46.2, 64.0, 68.3, 90.1, 51.8, 97.5, 49.0, 51.0, 55.5, 59.5, 35.3, 36.5, 48.8, 57.1, 39.2, 43.8, 105.9, 56.7, 58.0, 68.0, 40.6, 51.6, 42.8, 59.6, 78.6, 61.6, 38.7, 55.4, 55.4, 59.3, 55.4, 62.6, 48.6, 67.1, 52.5, 60.1, 46.8, 52.6, 82.8, 70.5, 52.1, 53.4, 51.4, 107.6, 45.2, 62.1, 47.5, 62.2, 71.7, 55.0, 63.1, 100.4, 58.5, 66.9, 57.5, 45.2, 51.4, 53.5, 44.4, 63.9, 57.3, 40.8, 52.7, 67.4, 59.0, 65.3, 61.8, 50.5, 64.1, 61.2, 76.6, 54.5, 49.5, 73.1, 47.6, 56.5, 57.5, 59.9, 50.9, 42.8, 63.5, 56.2, 56.9, 58.4, 53.5, 51.6, 67.1, 49.9, 65.6, 70.2, 61.6, 107.0, 79.2, 60.5, 51.2, 54.7, 54.4, 66.0, 70.4, 52.6, 62.4, 51.4, 67.2, 62.3, 54.8, 61.3, 67.4, 69.0, 94.1, 68.2, 58.7, 56.3, 83.7, 44.0, 89.2, 46.2, 74.4, 68.5, 59.6, 81.3, 82.5, 57.6, 69.9, 66.6, 59.0, 51.8, 78.8, 37.7, 73.1, 51.1, 54.0, 43.0, 43.6, 57.7, 77.7, 45.5, 39.1, 68.1, 65.1, 49.9, 47.9, 30.5, 46.7, 51.7, 65.8, 54.9, 70.7, 52.9, 40.4, 51.3, 70.5, 63.3, 69.1, 48.6, 35.7, 54.6, 55.9, 60.6, 37.5, 49.9, 70.2, 76.9, 45.5, 42.9, 70.6, 61.0, 66.5, 46.6, 66.5, 66.8, 58.8, 55.4, 63.5, 59.6, 50.5, 52.5, 72.8, 40.6, 46.8, 58.9, 43.3, 48.3, 73.2, 33.9, 64.2, 67.7, 41.0, 60.1, 47.2, 62.7, 60.6, 54.9, 85.2, 67.6, 66.4, 74.1, 85.6, 59.0, 76.1, 71.5, 58.8, 46.4, 94.7, 69.0, 67.1, 51.1, 46.4, 53.9, 106.2, 90.6, 34.8, 64.1, 56.9, 49.0, 53.6, 61.6, 58.2, 74.0, 73.4, 50.3, 104.5, 89.4, 66.5, 106.6, 55.7, 69.8, 48.7, 48.4, 63.5, 37.1, 55.2, 57.5, 64.2, 45.7, 38.8, 49.7, 41.7, 45.9, 34.8, 36.2, 40.3, 37.1, 30.6, 68.9, 40.3, 30.7, 53.2, 53.8, 45.0, 42.4, 50.3, 38.3, 39.4, 47.1, 51.0, 50.2, 32.1, 40.6, 50.2, 40.3, 38.7, 38.6, 59.4, 66.7, 66.4, 58.7, 63.6, 52.5, 53.1, 52.3, 59.7, 62.9, 81.7, 61.7, 67.1, 57.1, 51.8, 48.4, 50.1, 74.8, 76.5, 63.8, 63.2, 43.8, 80.1, 50.8, 61.7, 70.0, 78.2, 79.0, 76.0, 65.3, 67.1, 50.3, 66.3, 80.3, 59.1, 52.3, 65.9, 78.0, 48.9, 107.0, 58.4, 45.3, 55.0, 56.3, 66.0, 66.0, 55.8, 126.4, 106.1, 61.8, 51.4, 72.5, 51.0, 69.7, 61.7, 69.9, 70.6, 54.6, 53.9, 88.7, 54.2, 58.2, 72.0, 83.1, 53.5, 63.7, 56.8, 56.2, 62.6, 72.5, 68.8, 74.7, 97.8, 53.5, 48.4, 71.1, 35.5, 44.6, 32.8, 45.9, 44.3, 44.0, 50.4, 50.2, 80.0, 54.9, 48.6, 59.9, 104.8, 51.3, 45.3, 70.4, 49.5, 54.0, 45.0, 45.3, 39.2, 35.7, 37.8, 41.4, 61.9, 41.2, 47.4, 49.6, 33.2, 45.4, 55.2, 58.3, 55.6, 51.5, 72.2, 50.5, 50.0, 47.2, 39.3, 27.4, 32.2, 36.7, 30.8, 35.4, 31.0, 39.0, 52.8, 39.0, 41.4, 46.8, 27.9, 29.3, 34.7, 28.2, 49.6, 70.3, 37.0, 45.9, 54.3, 59.1, 38.8, 51.8, 69.0, 65.4, 63.4, 43.1, 44.2, 50.9, 37.8, 43.0, 47.8, 54.1, 48.3, 54.7, 88.6, 63.2, 57.3, 41.2, 55.3, 42.9, 76.5, 68.4, 48.7, 33.8, 44.8, 38.8, 38.2, 39.3, 43.9, 37.0, 44.4, 55.9, 41.7, 47.8, 38.0, 50.2, 26.9, 41.8, 35.4, 76.0, 40.9, 37.8, 47.7, 103.5, 43.9, 38.0, 57.5, 46.3, 57.2, 44.8, 64.5, 87.1, 58.8, 78.1, 72.7, 63.7, 47.8, 63.3, 62.5, 47.7, 76.8, 83.8, 58.5, 56.0, 70.2, 43.0, 101.5, 78.2, 66.1, 65.4, 47.6, 61.7, 61.8, 55.1, 55.1, 52.7, 57.4, 49.6, 51.1, 56.1, 48.5, 42.2, 69.1, 47.7, 81.0, 51.2, 80.5, 70.2, 57.3, 85.5, 80.2, 56.4, 63.1, 48.5, 50.2, 53.7, 62.1, 80.0, 45.6, 51.2, 43.0, 67.7, 48.0, 46.9, 58.7, 48.9, 58.1, 75.6, 77.2, 59.3, 59.9, 44.1, 36.5, 63.4, 62.0, 64.8, 56.9, 52.3, 61.7, 71.9, 56.6, 35.8, 39.5, 45.8, 54.2, 43.1, 56.7, 32.9, 60.6, 64.4, 59.2, 44.9, 48.2, 72.9, 64.4, 57.2, 57.2, 50.3, 63.4, 49.0, 64.6, 66.3, 47.6, 49.9, 45.6, 51.6, 42.4, 55.1, 63.4, 51.5, 46.7, 78.4, 49.3, 76.7, 63.9, 65.4, 51.3, 55.6, 42.0, 90.4, 47.2, 39.3, 44.4, 60.0, 50.6, 43.0, 62.4, 50.5, 80.9, 68.6, 49.6, 43.5, 59.0, 39.8, 62.6, 78.0, 54.1, 52.6, 75.3, 78.2, 47.8, 54.1, 48.1, 61.6, 103.6, 47.9, 39.5, 59.6, 48.6, 54.5, 56.8, 50.6, 49.5, 69.9, 46.9, 48.5, 51.7, 39.4, 51.8, 41.4, 29.8, 35.9, 55.9, 39.1, 37.0, 38.5, 35.6, 47.2, 56.5, 34.1, 37.6, 46.3, 36.0, 47.5, 43.9, 35.7, 64.1, 34.5, 50.7, 37.0, 50.1, 40.9, 44.7, 59.7, 38.5, 46.8, 91.7, 64.0, 57.8, 57.7, 47.5, 39.4, 51.1, 77.9, 59.0, 56.8, 52.7, 57.9, 59.5, 58.0, 64.0, 49.7, 53.5, 66.3, 48.9, 76.0, 39.4, 45.3, 63.3, 56.1, 58.1, 60.4, 55.7, 88.7, 69.9, 51.3, 56.4, 64.3, 67.5, 59.2, 60.1, 60.0, 57.9, 47.7, 63.5, 66.2, 59.6, 65.9, 59.1, 62.0, 56.6, 49.4, 44.3, 44.4, 47.5, 80.9, 83.6, 64.9, 61.2, 64.1, 60.1, 57.4, 80.8, 59.8, 104.4, 46.9, 45.1, 77.0, 53.4, 70.2, 50.6, 53.9, 65.7, 64.2, 66.1, 52.6, 54.9, 39.8, 64.6, 54.4, 74.1, 52.0, 66.3, 68.8, 86.8, 60.2, 53.5, 60.6, 52.7, 61.4, 84.3, 46.1, 65.4, 65.6, 47.2, 69.1, 53.9, 61.4, 60.9, 52.4, 58.9, 61.2, 57.9, 57.7, 78.1, 41.3, 69.7, 49.1, 49.6, 51.1, 60.6, 60.6, 55.3, 69.5, 83.4, 89.5, 74.8, 156.5, 40.0, 52.3, 68.0, 48.3, 61.3, 87.6, 69.1, 55.1, 76.7, 60.1, 57.4, 45.8, 60.8, 53.5, 64.8, 55.9, 64.1, 54.6, 71.8, 58.0, 57.1, 63.3, 47.7, 55.7, 69.4, 91.0, 80.1, 59.5, 53.7, 63.5, 62.2, 62.2, 60.7, 42.9, 83.8, 58.7, 63.2, 43.8, 58.1, 63.8, 55.4, 62.0, 41.3, 53.0, 57.3, 64.4, 54.4, 77.4, 64.9, 54.7, 53.1, 42.2, 48.9, 59.8, 49.0, 60.1, 44.0, 50.7, 60.3, 51.0, 57.7, 55.3, 51.4, 42.2, 82.5, 55.2, 77.3, 91.5, 48.0, 47.6, 58.4, 56.9, 58.7, 39.4, 67.4, 54.1, 56.6, 55.7, 58.9, 135.7, 50.5, 68.9, 62.7, 56.3, 58.3, 74.6, 52.7, 57.8, 48.3, 43.4, 80.2, 61.3, 77.5, 45.8, 61.5, 71.1, 68.4, 53.4, 64.6, 47.7, 72.7, 71.6, 50.0, 77.0, 60.8, 54.3, 72.6, 70.6, 61.2, 65.6, 53.9, 48.5, 81.2, 60.9, 61.8, 48.9, 87.8, 68.8, 47.5, 71.4, 81.1, 61.7, 52.3, 67.2, 44.8, 65.8, 62.8, 57.6, 57.1, 46.7, 74.8, 69.4, 47.4, 94.7, 48.6, 50.9, 71.4, 48.0, 63.8, 59.7, 56.8, 56.1, 52.4, 67.1, 72.8, 48.8, 56.7, 74.6, 74.9, 56.0, 58.5, 53.2, 63.4, 53.4, 74.3, 50.4, 44.8, 113.5, 77.6, 52.8, 57.7, 49.5, 61.2, 42.2, 61.4, 129.3, 59.9, 64.2, 85.5, 86.2, 70.3, 50.2, 92.0, 68.4, 40.3, 38.5, 45.9, 47.7, 44.4, 52.5, 33.1, 30.6, 52.3, 34.9, 59.4, 42.9, 63.6, 56.9, 69.5, 55.5, 48.6, 53.1, 39.3, 41.1, 45.4, 72.8, 33.6, 64.7, 59.0, 58.5, 85.8, 44.9, 38.9, 43.3, 50.0, 54.6, 47.9, 47.7, 68.4, 56.9, 70.9, 57.7, 43.0, 51.2, 71.2, 49.3, 64.0, 72.2, 55.4, 58.6, 58.4, 74.7, 77.4, 50.9, 60.5, 84.0, 65.6, 57.6, 55.7, 60.5, 68.8, 58.0, 48.0, 69.9, 171.5, 51.3, 68.4, 43.4, 51.3, 59.1, 59.1, 54.5, 54.3, 55.6, 75.2, 63.5, 46.7, 50.7, 61.0, 52.3, 61.4, 57.3, 65.9, 58.5, 68.0, 57.0, 69.4, 62.5, 49.5, 77.3, 81.2, 63.2, 48.6, 57.3, 46.4, 66.7, 57.0, 48.0, 34.9, 52.5, 59.8, 52.1, 42.9, 40.8, 55.1, 47.0, 28.9, 56.4, 41.2, 47.2, 51.3, 53.6, 45.9, 39.0, 34.0, 44.1, 81.9, 49.7, 69.3, 69.7, 49.2, 57.4, 63.1, 65.5, 69.7, 42.3, 29.8, 55.8, 72.1, 42.7, 51.9, 62.4, 52.6, 33.4, 65.1, 75.4, 43.5, 57.3, 51.9, 40.2, 59.2, 78.5, 50.2, 42.7, 34.8, 42.3, 51.5, 56.3, 52.2, 46.9, 52.5, 34.9, 50.1, 66.7, 52.0, 44.6, 56.1, 57.7, 63.8, 61.8, 75.5, 45.0, 53.7, 63.3, 48.8, 47.9, 56.8, 42.9, 62.1, 75.3, 46.5, 57.0, 43.1, 59.0, 59.5, 53.5, 64.8, 56.9, 61.4, 50.2, 44.5, 65.1, 50.0, 71.1, 58.7, 79.8, 67.6, 67.4, 67.3, 47.8, 52.9, 76.0, 56.5, 44.2, 49.1, 57.6, 51.3, 66.4, 79.0, 58.7, 68.7, 63.8, 71.2, 63.7, 74.5, 101.2, 58.7, 64.4, 67.7, 58.6, 36.0, 46.7, 36.6, 41.4, 33.5, 57.9, 32.3, 62.9, 30.3, 59.0, 32.2, 65.8, 62.4, 40.1, 55.7, 38.0, 40.6, 41.5, 59.0, 43.7, 33.3, 39.5, 37.0, 43.0, 36.8, 61.9, 52.8, 81.0, 58.2, 81.9, 44.4, 55.4, 51.4, 67.4, 74.5, 65.5, 48.3, 55.5, 68.5, 54.9, 45.8, 62.8, 63.5, 53.7, 45.0, 54.8, 36.2, 60.6, 39.7, 54.3, 47.5, 52.0, 49.7, 50.8, 40.1, 35.2, 39.6, 35.7, 67.2, 32.9, 49.7, 73.5, 47.2, 53.6, 40.2, 40.8, 46.9, 43.0, 48.6, 32.1, 51.3, 64.1, 66.8, 80.4, 47.1, 74.9, 58.7, 47.2, 65.3, 58.4, 51.3, 78.7, 70.3, 51.3, 66.5, 62.8, 57.0, 58.3, 63.1, 56.2, 67.0, 80.8, 75.0, 71.6, 65.3, 125.2, 64.4, 55.1, 66.1, 70.5, 56.5, 48.5, 87.6, 34.5, 71.3, 60.5, 55.5, 35.2, 45.8, 57.7, 56.7, 70.4, 49.7, 43.1, 42.4, 46.1, 44.3, 63.3, 45.1, 38.7, 64.7, 38.6, 30.3, 30.5, 32.9, 56.2, 53.5, 38.2, 38.3, 62.4, 62.2, 44.2, 38.9, 75.3, 39.7, 39.0, 59.8, 38.6, 67.9, 51.4, 76.5, 40.5, 50.7, 45.7, 45.8, 49.2, 38.8, 56.0, 44.9, 96.9, 42.1, 33.8, 33.7, 42.3, 51.2, 49.3, 40.1, 33.7, 44.6, 47.0, 51.3, 52.1, 40.0, 158.2, 40.2, 79.9, 55.9, 62.2, 33.9, 50.8, 28.2, 66.3, 57.3, 43.5, 46.4, 63.4, 44.4, 61.6, 47.1, 46.3, 45.2, 49.1, 38.0, 51.8, 53.5, 52.2, 52.2, 51.1, 52.7, 68.8, 52.3, 51.9, 74.9, 47.6, 60.1, 38.7, 55.0, 58.8, 47.7, 52.7, 60.7, 67.4, 60.6, 44.4, 67.5, 65.9, 86.5, 77.3, 79.0, 57.7, 68.8, 79.0, 70.1, 56.0, 53.6, 71.8, 65.0, 81.3, 83.2, 97.9, 62.6, 55.4, 60.0, 50.3, 77.7, 73.1, 65.3, 80.8, 64.3, 66.9, 61.1, 86.6, 41.9, 47.4, 49.3, 44.3, 64.9, 45.6, 41.7, 66.6, 51.8, 63.2, 50.7, 47.5, 52.7, 44.7, 44.2, 83.3, 36.1, 43.2, 40.9, 49.6, 50.7, 50.9, 50.2, 55.6, 74.8, 58.0, 66.2, 44.2, 54.6, 61.9, 50.3, 44.5, 60.8, 46.9, 51.9, 79.3, 62.3, 66.9, 51.4, 75.4, 55.7, 64.1, 49.4, 70.6, 101.8, 66.9, 104.4, 65.4, 110.3, 70.0, 51.7, 64.2, 61.1, 72.0, 61.6, 89.5, 36.8, 42.1, 35.0, 65.0, 67.1, 53.6, 66.1, 53.7, 60.8, 27.9, 29.8, 52.6, 66.2, 45.8, 48.6, 62.4, 64.1, 53.0, 49.4, 43.2, 46.7, 61.7, 46.5, 42.4, 59.3, 60.1, 48.1, 55.1, 72.4, 43.3, 44.6, 40.9, 57.5, 53.1, 56.7, 69.9, 45.1, 56.8, 40.1, 34.1, 38.3, 27.8, 30.8, 47.3, 63.2, 75.4, 51.4, 38.8, 50.5, 34.9, 36.0, 47.4, 51.2, 41.7, 44.5, 44.9, 47.9, 34.8, 47.1, 42.5, 77.1, 75.5, 53.1, 64.5, 89.6, 112.4, 49.8, 58.9, 62.2, 56.8, 76.8, 83.2, 68.6, 52.6, 53.8, 35.7, 72.5, 50.7, 64.7, 52.2, 55.3, 49.6, 46.6, 49.9, 48.9, 66.4, 49.1, 56.8, 75.1, 59.4, 56.7, 62.6, 63.4, 55.4, 96.4, 50.1, 82.5, 64.8, 113.8, 66.1, 59.9, 69.6, 49.2, 37.7, 62.6, 67.8, 56.4, 58.9, 53.6, 80.8, 70.6, 57.6, 48.7, 77.5, 76.8, 64.6, 58.6, 60.7, 70.7, 91.1, 63.2, 51.1, 43.1, 51.2, 37.9, 39.2, 62.7, 45.8, 45.2, 64.1, 47.9, 76.4, 37.5, 47.5, 52.9, 49.1, 32.9, 28.4, 58.8, 34.6, 41.3, 40.4, 43.4, 69.4, 48.1, 63.3, 51.8, 51.6, 57.2, 71.3, 47.1, 40.9, 43.2, 83.8, 49.0, 69.0, 38.5, 39.6, 49.6, 49.5, 52.1, 39.3, 34.8, 69.7, 42.3, 41.9, 44.4, 52.6, 39.8, 66.0, 41.6, 46.4, 61.9, 46.7, 56.2, 39.5, 59.2, 38.2, 68.5, 79.5, 63.4, 51.9, 55.1, 61.3, 58.3, 58.8, 56.3, 49.9, 56.0, 85.2, 72.7, 64.9, 102.4, 70.5, 63.6, 40.4, 65.0, 57.7, 46.3, 57.5, 50.5, 86.3, 55.5, 59.8, 56.7, 103.2, 61.3, 61.2, 47.7, 58.4, 84.6, 75.0, 67.9, 52.8, 66.7, 59.6, 64.7, 49.9, 62.1, 58.3, 54.5, 75.3, 61.3, 59.7, 53.2, 51.9, 48.1, 98.0, 68.3, 89.9, 62.2, 51.1, 69.4, 76.1, 78.4, 56.3, 69.8, 46.2, 65.1, 91.1, 51.9, 51.0, 53.2, 59.2, 85.3, 61.1, 48.2, 40.8, 59.5, 60.5, 47.6, 97.5, 69.6, 53.6, 57.6, 78.5, 60.3, 95.9, 40.6, 78.2, 44.4, 44.4, 51.9, 44.2, 47.1, 56.2, 56.0, 76.7, 62.8, 90.9, 75.8, 47.3, 86.7, 45.5, 57.8, 47.6, 45.9, 62.3, 47.6, 55.2, 45.4, 57.8, 44.4, 63.6, 46.2, 58.6, 74.1, 46.0, 53.8, 54.3, 38.7, 55.8, 39.0, 54.0, 115.8, 46.4, 56.5, 54.2, 59.1, 93.6, 68.7, 135.3, 63.6, 52.7, 63.8, 62.4, 87.7, 67.0, 72.7, 76.4, 51.3, 64.2, 92.7, 48.8, 67.9, 58.6, 51.9, 77.4, 108.7, 83.3, 68.7, 54.5, 78.6, 63.2, 53.1, 55.6, 69.2, 65.2, 85.8, 64.7, 94.8, 59.4, 51.7, 48.9, 67.1, 75.0, 75.4, 78.9, 44.2, 73.4, 77.5, 78.8, 69.7, 63.0, 30.6, 71.9, 27.4, 58.4, 31.5, 30.8, 51.9, 41.6, 52.2, 82.7, 61.2, 39.5, 46.1, 50.9, 38.3, 43.8, 45.6, 41.2, 48.5, 53.5, 55.6, 59.6, 62.5, 88.1, 63.3, 71.4, 63.2, 72.4, 87.3, 44.1, 39.5, 66.1, 54.1, 61.7, 57.8, 58.7, 66.8, 91.4, 65.5, 71.4, 93.3, 72.3, 75.0, 52.9, 66.3, 63.2, 60.3, 55.7, 56.7, 62.3, 78.4, 66.1, 58.6, 138.8, 91.9, 61.8, 74.4, 55.3, 49.5, 52.9, 54.8, 48.0, 72.0, 65.6, 46.5, 50.0, 46.3, 65.0, 50.2, 63.0, 49.3, 49.2, 58.6, 77.5, 69.5, 63.1, 64.6, 77.5, 62.1, 37.4, 64.3, 55.5, 56.3, 54.7, 82.7, 78.8, 81.1, 54.5, 51.5, 72.2, 81.4, 65.7, 73.3, 50.4, 54.2, 73.5, 58.1, 37.9, 55.3, 50.3, 55.2, 47.9, 34.9, 43.9, 59.5, 46.0, 36.7, 42.8, 42.0, 39.2, 45.2, 62.9, 60.0, 56.2, 37.3, 62.8, 60.7, 62.0, 69.1, 54.0, 72.5, 61.8, 38.5, 68.8, 62.2, 44.4, 121.6, 84.3, 40.3, 43.5, 54.6, 45.8, 56.0, 65.3, 40.1, 50.2, 64.8, 47.4, 55.0, 38.1, 51.8, 47.7, 65.3, 51.0, 46.6, 44.2, 55.1, 39.5, 57.4, 52.5, 56.5, 39.8, 47.7, 45.5, 87.4, 58.3, 43.4, 76.6, 105.5, 33.8, 70.1, 40.4, 34.0, 44.0, 31.1, 49.6, 36.5, 33.2, 55.5, 61.1, 48.8, 67.6, 68.4, 44.0, 64.2, 52.4, 63.5, 54.9, 68.0, 36.0, 64.7, 36.0, 74.6, 39.9, 66.5, 53.0, 34.4, 48.3, 41.6, 39.3, 48.8, 48.0, 66.9, 61.8, 58.1, 52.3, 53.2, 48.5, 61.2, 43.9, 55.6, 35.2, 118.8, 85.5, 52.5, 69.8, 69.8, 41.3, 70.8, 51.1, 57.8, 62.1, 38.8, 45.5, 49.3, 44.6, 36.5, 42.2, 62.8, 58.2, 54.6, 50.4, 61.5, 97.3, 55.3, 37.0, 40.6, 57.4, 42.5, 46.7, 62.1, 35.4, 49.9, 62.7, 54.4, 82.2, 70.5, 55.5, 67.3, 50.6, 71.6, 57.9, 67.7, 63.0, 59.9, 48.8, 81.2, 51.2, 73.0, 54.2, 56.2, 104.2, 78.6, 50.7, 45.6, 63.3, 70.4, 73.6, 63.8, 51.6, 76.7, 36.7, 55.6, 48.9, 54.5, 50.7, 52.0, 80.8, 61.9, 55.0, 58.4, 51.2, 53.4, 82.0, 53.3, 51.6, 72.2, 97.6, 51.5, 58.9, 65.2, 68.6, 70.2, 83.0, 50.4, 47.8, 92.2, 48.1, 42.0, 45.4, 67.6, 62.9, 58.6, 41.6, 38.7, 58.5, 44.9, 39.4, 47.3, 50.1, 51.9, 44.0, 60.5, 56.2, 46.4, 44.4, 52.2, 43.0, 70.5, 41.3, 53.2, 48.1, 57.4, 63.9, 71.1, 44.0, 59.5, 72.0, 64.3, 47.6, 45.7, 56.4, 81.3, 51.0, 46.9, 63.3, 44.8, 34.2, 56.5, 38.7, 82.3, 63.6, 48.3, 36.8, 79.6, 63.6, 46.3, 65.1, 43.9, 61.1, 62.8, 56.7, 52.0, 34.3, 37.9, 68.8, 41.4, 58.2, 56.4, 52.0, 100.5, 59.0, 44.4, 49.9, 80.6, 83.3, 41.8, 54.4, 46.9, 70.2, 59.4, 50.3, 37.8, 48.4, 67.1, 60.0, 57.6, 57.8, 72.3, 55.7, 62.0, 56.8, 71.1, 57.0, 76.1, 59.3, 91.2, 57.4, 52.8, 77.9, 59.9, 68.6, 40.8, 60.1, 58.9, 30.2, 53.0, 57.0, 63.5, 38.7, 75.0, 61.2, 63.1, 26.1, 70.4, 50.2, 53.2, 44.9, 51.4, 64.1, 70.4, 47.9, 47.7, 39.9, 43.1, 36.4, 57.5, 50.9, 42.9, 63.5, 47.2, 42.2, 49.4, 72.6, 49.2, 52.1, 52.5, 42.2, 33.6, 61.0, 55.0, 41.7, 73.5, 51.0, 54.3, 59.1, 31.3, 30.3, 37.3, 41.5, 62.6, 58.6, 87.3, 51.3, 48.8, 75.3, 56.8, 67.9, 60.1, 76.1, 83.8, 75.0, 46.5, 56.8, 67.4, 79.1, 53.5, 61.7, 56.7, 52.3, 53.1, 55.3, 103.1, 61.3, 59.9, 69.4, 48.5, 44.4, 53.0, 52.0, 84.1, 51.9, 79.9, 60.6, 63.3, 64.2, 55.2, 82.7, 57.4, 70.4, 73.4, 51.3, 96.1, 64.0, 50.3, 67.6, 81.4, 73.5, 40.5, 58.9, 71.6, 57.0, 49.9, 43.4, 47.8, 47.4, 57.8, 61.7, 47.4, 145.3, 55.9, 56.3, 64.3, 68.0, 69.3, 41.1, 43.6, 64.0, 71.2, 53.4, 42.0, 57.9, 52.4, 58.7, 59.8, 54.6, 42.5, 59.5, 43.7, 73.1, 72.3, 57.0, 85.9, 71.4, 57.2, 66.1, 61.1, 59.5, 83.8, 60.5, 59.4, 63.7, 44.0, 62.0, 50.5, 58.5, 57.1, 52.4, 58.2, 84.1, 68.1, 74.2, 64.7, 57.3, 53.0, 90.0, 88.2, 45.5, 50.6, 85.9, 57.7, 68.7, 41.1, 40.4, 28.0, 60.3, 39.2, 36.9, 38.2, 45.2, 58.6, 39.7, 43.2, 30.6, 62.4, 46.2, 49.1, 31.6, 37.6, 30.0, 38.7, 32.0, 52.0, 44.5, 38.7, 32.3, 27.7, 45.3, 52.4, 37.3, 34.0, 51.7, 43.9, 64.6, 73.0, 56.9, 52.6, 50.7, 57.0, 51.1, 48.3, 36.9, 54.3, 59.7, 76.1, 37.1, 57.8, 53.9, 56.6, 63.6, 40.1, 88.4, 31.4, 49.6, 55.7, 48.6, 48.3, 34.8, 49.6, 39.0, 57.1, 51.0, 51.2, 51.5, 43.9, 41.9, 48.1, 33.9, 85.0, 75.7, 49.3, 46.4, 102.3, 60.2, 76.5, 64.1, 56.7, 41.7, 47.7, 61.9, 44.1, 76.6, 48.8, 46.3, 47.3, 54.6, 47.2, 73.4, 44.4, 62.9, 29.5, 37.1, 60.5, 33.5, 49.5, 37.7, 36.3, 49.5, 50.6, 42.9, 41.5, 48.1, 32.6, 32.2, 57.9, 38.9, 44.8, 53.3, 57.5, 52.7, 33.1, 62.7, 32.0, 45.7, 51.6, 55.3, 60.8, 43.7, 51.9, 62.6, 60.0, 61.4, 66.5, 41.7, 55.8, 52.2, 69.6, 66.4, 61.5, 75.6, 53.5, 44.4, 52.5, 58.3, 54.9, 68.4, 88.4, 53.2, 72.1, 41.5, 59.8, 49.0, 53.0, 75.3, 65.1, 46.6, 78.1, 61.0, 49.8, 51.7, 56.7, 70.5, 76.9, 51.7, 64.8, 56.0, 57.4, 75.0, 53.4, 78.6, 62.5, 70.1, 104.6, 55.7, 51.5, 63.8, 50.5, 43.2, 91.1, 51.9, 58.3, 88.3, 48.9, 41.3, 60.7, 67.0, 60.7, 51.1, 44.3, 43.1, 63.0, 65.3, 74.9, 91.9, 76.7, 68.4, 51.1, 65.4, 47.6, 54.4, 46.6, 52.3, 58.0, 52.4, 48.0, 65.0, 33.8, 75.7, 72.2, 59.8, 43.4, 79.7, 64.5, 45.2, 63.3, 53.0, 56.2, 61.6, 53.1, 51.8, 54.7, 41.6, 50.3, 56.9, 45.7, 71.3, 78.2, 50.3, 66.2, 49.3, 56.7, 73.9, 66.1, 47.9, 54.8, 40.8, 49.2, 43.1, 63.1, 42.1, 39.2, 43.6, 55.8, 41.7, 38.8, 59.0, 46.0, 48.9, 42.8, 42.0, 66.0, 50.1, 49.9, 61.5, 50.4, 37.1, 35.4, 39.4, 60.2, 61.4, 50.8, 42.0, 46.9, 38.8, 67.5, 36.4, 44.6, 55.5, 75.1, 47.0, 52.9, 38.1, 37.2, 53.9, 45.6, 53.3, 38.7, 40.0, 50.4, 50.1, 41.8, 74.7, 40.2, 53.4, 33.0, 102.7, 51.1, 47.7, 77.6, 69.8, 47.7, 40.5, 47.3, 47.2, 34.2, 31.9, 37.9, 33.7, 31.8, 37.0, 45.3, 28.2, 33.0, 44.6, 54.2, 35.1, 28.8, 38.8, 27.4, 43.5, 28.1, 51.3, 50.4, 26.8, 32.2, 58.2, 36.1, 37.3, 50.2, 55.0, 51.1, 52.1, 58.1, 49.2, 77.1, 49.3, 25.1, 61.7, 66.9, 50.8, 43.4, 40.5, 87.3, 46.5, 71.3, 31.9, 48.7, 33.3, 59.2, 53.0, 41.0, 44.1, 50.9, 54.7, 71.0, 35.3, 41.9, 52.1, 62.0, 79.3, 74.1, 54.7, 61.6, 53.5, 88.8, 63.6, 46.7, 67.6, 70.3, 52.5, 80.0, 59.6, 71.7, 72.6, 141.6, 52.1, 41.4, 44.1, 63.4, 54.9, 62.9, 56.0, 52.4, 52.6, 46.3, 65.8, 45.5, 71.8, 67.8, 49.9, 61.8, 69.6, 57.1, 70.0, 48.0, 97.0, 37.5, 51.9, 45.6, 45.8, 52.2, 42.0, 71.0, 53.8, 81.7, 67.8, 49.8, 74.5, 94.0, 57.5, 53.9, 57.6, 53.3, 49.5, 50.2, 70.7, 69.2, 46.7, 58.6, 60.1, 50.2, 50.0, 49.2, 49.4, 72.2, 86.5, 54.4, 50.0, 71.1, 55.0, 39.5, 58.3, 61.5, 56.0, 61.6, 120.1, 61.3, 58.1, 72.2, 58.9, 60.8, 52.0, 53.5, 61.3, 42.2, 57.8, 37.6, 64.4, 69.2, 69.0, 49.2, 78.7, 49.2, 57.8, 45.5, 42.7, 46.0, 89.8, 51.5, 53.3, 55.8, 38.8, 49.3, 35.4, 40.8, 53.9, 51.8, 31.6, 51.0, 62.0, 81.1, 56.6, 70.1, 58.7, 67.9, 61.8, 75.9, 52.0, 48.9, 36.0, 44.2, 48.8, 41.8, 41.3, 36.6, 57.4, 31.0, 47.1, 38.5, 51.5, 44.9, 49.9, 38.5, 27.9, 39.4, 39.8, 58.6, 48.1, 58.3, 55.5, 51.3, 56.1, 57.7, 76.0, 84.7, 85.6, 58.6, 51.9, 58.8, 58.3, 47.1, 58.7, 59.8, 55.6, 43.6, 67.2, 49.1, 67.3, 42.3, 62.1, 46.3, 44.5, 44.8, 69.6, 42.0, 56.5, 80.5, 50.0, 39.3, 53.9, 40.9, 38.8, 41.7, 54.8, 51.7, 42.3, 54.2, 53.7, 53.3, 52.9, 58.1, 54.7, 82.1, 45.6, 76.9, 58.5, 46.0, 51.7, 55.3, 79.1, 45.0, 44.0, 47.1, 108.2, 63.3, 51.1, 43.5, 40.1, 65.1, 73.5, 45.0, 39.7, 47.5, 52.6, 43.0, 40.6, 43.8, 40.3, 42.7, 52.8, 63.6, 52.7, 40.5, 43.3, 56.4, 50.0, 33.1, 52.8, 48.1, 41.4, 44.7, 40.6, 39.0, 48.1, 69.3, 69.2, 44.5, 59.4, 39.8, 82.9, 54.4, 47.0, 43.9, 74.6, 54.9, 52.8, 46.8, 47.4, 90.7, 61.3, 53.1, 58.2, 48.8, 53.9, 48.7, 53.4, 45.2, 76.3, 50.2, 52.7, 58.0, 53.7, 60.5, 52.0, 70.0, 61.6, 53.7, 82.7, 60.9, 57.3, 74.1, 57.9, 51.3, 77.0, 76.9, 80.1, 49.9, 49.4, 61.0, 49.3, 64.7, 71.4, 44.9, 55.2, 63.8, 50.7, 72.3, 49.0, 70.4, 73.5, 61.7, 67.4, 61.2, 69.4, 57.4, 59.3, 50.7, 51.3, 52.3, 49.7, 61.2, 69.5, 72.5, 73.2, 70.0, 57.0, 68.9, 65.2, 58.8, 46.4, 63.9, 71.9, 64.0, 61.8, 49.4, 51.9, 48.0, 47.6, 55.3, 51.2, 53.5, 78.9, 37.2, 86.9, 65.9, 83.5, 78.2, 98.4, 71.8, 50.3, 47.4, 85.3, 62.9, 43.0, 58.9, 61.5, 61.6, 46.4, 61.3, 55.2, 116.0, 72.5, 50.1, 53.7, 59.9, 57.4, 93.2, 52.8, 92.2, 60.6, 53.3, 57.9, 75.0, 60.8, 62.9, 57.6, 71.4, 64.9, 51.7, 56.1, 56.2, 58.1, 58.0, 45.0, 43.0, 47.6, 45.0, 60.4, 56.1, 47.3, 60.2, 61.1, 81.5, 59.4, 52.1, 60.2, 53.1, 51.4, 43.6, 57.5, 61.7, 39.2, 45.6, 34.5, 37.2, 39.4, 33.8, 35.3, 50.0, 41.2, 36.0, 50.1, 48.3, 39.7, 55.4, 37.1, 30.9, 31.6, 53.5, 50.5, 35.0, 53.8, 40.1, 72.5, 51.1, 60.1, 58.0, 39.0, 39.9, 53.3, 50.4, 89.8, 55.1, 62.7, 48.2, 38.6, 70.9, 71.2, 51.1, 40.7, 61.6, 33.2, 66.0, 39.8, 50.8, 60.7, 56.3, 56.6, 45.4, 53.5, 72.9, 48.7, 103.3, 42.9, 78.5, 30.7, 50.9, 73.4, 59.5, 52.8, 43.8, 41.0, 51.4, 36.2, 71.5, 56.2, 37.6, 46.8, 36.8, 28.0, 58.0, 43.8, 37.9, 59.5, 41.2, 33.9, 40.2, 40.5, 28.4, 28.8, 62.6, 40.5, 42.5, 35.9, 47.6, 40.2, 33.4, 41.3, 45.6, 48.2, 47.0, 45.2, 65.7, 36.2, 34.3, 51.1, 40.4, 56.7, 59.0, 61.3, 65.6, 42.8, 48.5, 47.5, 39.1, 51.1, 59.5, 49.5, 42.6, 45.5, 40.3, 44.9, 43.9, 57.4, 85.0, 42.8, 40.0, 51.7, 48.1, 39.4, 71.5, 32.6, 49.0, 53.8, 40.7, 34.8, 85.0, 44.3, 62.0, 49.7, 46.8, 43.6, 60.8, 33.9, 37.5, 51.5, 50.4, 45.7, 59.1, 38.4, 51.0, 49.1, 44.5, 45.8, 36.0, 57.4, 48.1, 50.0, 48.1, 41.2, 37.2, 52.4, 51.6, 86.1, 46.7, 60.3, 55.6, 49.6, 50.4, 41.9, 46.1, 62.5, 76.5, 38.9, 51.6, 40.3, 38.9, 49.5, 50.2, 56.7, 46.6, 57.7, 54.2, 52.4, 55.7, 55.4, 50.2, 52.4, 50.2, 56.9, 47.5, 46.8, 53.2, 56.2, 48.2, 56.1, 55.8, 54.2, 58.4, 71.3, 57.8, 35.6, 37.7, 58.2, 48.5, 51.6, 57.8, 49.9, 50.0, 67.7, 50.6, 63.7, 72.2, 79.5, 76.0, 66.9, 51.3, 53.7, 68.4, 50.8, 50.3, 54.8, 51.1, 75.1, 72.4, 69.5, 60.2, 69.0, 46.0, 44.9, 52.4, 80.6, 68.8, 43.7, 56.3, 71.8, 46.8, 57.8, 81.3, 47.2, 56.4, 51.9, 57.0, 44.3, 48.6, 60.3, 49.0, 54.5, 59.8, 55.9, 49.1, 56.5, 53.8, 46.4, 69.5, 41.4, 78.4, 52.0, 44.9, 54.2, 53.6, 40.0, 70.1, 50.4, 47.2, 53.4, 55.6, 61.5, 36.4, 46.1, 43.2, 40.3, 64.8, 74.2, 64.0, 53.9, 34.1, 35.6, 61.5, 40.4, 36.1, 73.0, 53.5, 41.7, 42.3, 47.9, 41.7, 57.0, 50.4, 46.8, 47.3, 62.9, 45.4, 33.2, 38.7, 57.3, 44.6, 30.6, 49.5, 48.7, 62.6, 50.0, 36.0, 42.1, 39.1, 62.4, 45.0, 41.2, 59.4, 42.8, 67.8, 65.2, 45.5, 55.0, 62.0, 53.7, 53.5, 46.5, 51.3, 49.6, 48.4, 49.8, 53.4, 54.2, 51.5, 56.1, 41.0, 47.6, 52.4, 40.3, 57.0, 51.0, 73.9, 43.1, 53.5, 35.9, 51.5, 54.4, 48.1, 52.4, 48.3, 33.1, 35.5, 56.0, 61.4, 31.2, 54.4, 73.5, 42.5, 57.9, 59.4, 45.9, 53.6, 59.9, 50.0, 40.2, 45.9, 46.5, 42.4, 33.8, 42.1, 40.2, 44.9, 49.3, 44.0, 42.1, 37.1, 49.6, 36.3, 47.5, 83.0, 58.4, 42.0, 49.8, 44.1, 109.4, 52.1, 83.6, 53.2, 51.7, 94.0, 45.3, 46.6, 62.4, 63.8, 61.8, 77.7, 62.1, 53.4, 95.7, 53.7, 48.9, 53.4, 63.6, 65.5, 86.1, 65.9, 54.2, 63.7, 38.9, 53.6, 25.6, 71.3, 54.3, 35.6, 33.4, 55.8, 31.9, 41.4, 60.4, 44.3, 41.1, 42.3, 29.1, 38.9, 42.2, 31.0, 46.1, 50.6, 53.4, 59.7, 39.9, 32.8, 36.3, 48.8, 50.0, 51.0, 49.3, 62.8, 51.9, 48.0, 63.3, 68.6, 59.5, 83.0, 39.9, 46.5, 60.7, 50.0, 71.0, 48.4, 62.7, 49.5, 64.7, 63.5, 52.4, 74.6, 49.0, 63.2, 52.8, 43.7, 61.6, 59.3, 60.2, 43.0, 44.1, 50.9, 54.1, 60.0, 64.5, 65.5, 57.0, 56.2, 61.2, 57.9, 71.7, 61.6, 70.3, 60.6, 56.5, 43.3, 59.1, 44.0, 66.7, 49.5, 110.2, 118.2, 58.5, 61.8, 63.8, 77.7, 48.8, 60.3, 60.6, 58.1, 81.4, 77.1, 41.5, 71.2, 64.7, 58.5, 36.8, 41.0, 53.8, 42.5, 74.1, 50.2, 35.1, 61.0, 36.5, 36.6, 46.9, 57.4, 40.2, 50.6, 57.5, 68.3, 43.1, 66.7, 51.2, 41.3, 36.7, 50.2, 56.9, 64.4, 35.4, 31.7, 60.2, 32.5, 94.4, 55.5, 29.3, 46.6, 62.7, 89.9, 59.5, 61.9, 81.8, 77.4, 41.7, 92.0, 47.3, 53.6, 44.7, 39.5, 36.5, 59.5, 42.8, 45.8, 64.5, 70.7, 49.7, 48.1, 112.8, 108.7, 62.8, 61.2, 48.1, 62.7, 56.7, 58.3, 47.0, 54.5, 68.0, 41.6, 85.9, 76.6, 39.5, 63.2, 58.1, 69.1, 37.7, 54.2, 58.8, 46.9, 45.9, 53.1, 37.6, 63.8, 43.0, 76.7, 44.8, 70.3, 67.2, 59.4, 48.2, 70.1, 63.8, 53.6, 62.0, 65.3, 41.7, 54.3, 66.1, 47.5, 61.1, 48.2, 54.1, 55.4, 45.7, 47.1, 61.0, 46.3, 54.6, 52.8, 58.9, 103.0, 69.0, 46.4, 48.1, 45.7, 55.5, 63.6, 68.4, 79.7, 80.9, 42.4, 38.8, 33.9, 45.8, 65.2, 56.1, 98.1, 48.5, 57.0, 47.8, 42.0, 57.7, 61.9, 92.4, 50.7, 46.7, 67.2, 79.4, 62.3, 68.1, 60.5, 47.0, 74.7, 88.5, 43.2, 68.0, 60.3, 69.4, 60.0, 66.0, 73.1, 58.8, 56.4, 52.0, 42.7, 50.5, 81.2, 92.1, 66.0, 57.4, 50.0, 62.9, 67.6, 58.0, 75.6, 78.9, 54.4, 62.4, 81.3, 52.4, 49.4, 66.4, 65.5, 48.4, 61.4, 52.2, 37.3, 38.6, 53.9, 47.2, 57.1, 31.4, 37.5, 39.9, 39.7, 39.0, 30.3, 29.1, 42.9, 26.5, 37.9, 31.4, 38.4, 49.1, 51.6, 36.3, 84.5, 44.1, 38.7, 40.0, 43.0, 36.1, 46.2, 38.0, 38.0, 51.9, 49.8, 80.1, 50.5, 61.2, 54.6, 42.6, 62.9, 40.6, 116.4, 48.6, 46.0, 47.5, 31.4, 44.9, 57.5, 47.6, 43.5, 42.9, 58.7, 46.3, 63.3, 50.9, 61.7, 81.8, 50.9, 65.4, 58.8, 56.5, 55.4, 56.3, 64.8, 51.3, 77.4, 43.6, 56.1, 73.8, 46.2, 51.3, 33.4, 44.2, 51.7, 96.8, 46.4, 44.2, 47.9, 41.2, 54.2, 45.0, 79.3, 56.4, 50.0, 42.4, 57.9, 90.2, 78.9, 39.8, 47.8, 44.5, 72.3, 104.4, 52.3, 42.1, 80.6, 59.1, 54.2, 66.9, 52.5, 48.8, 52.4, 126.5, 62.3, 55.3, 74.6, 48.6, 47.5, 51.7, 55.8, 60.1, 56.7, 83.6, 42.8, 55.7, 59.0, 55.5, 43.6, 63.6, 41.0, 62.9, 54.3, 50.2, 61.6, 62.9, 52.5, 89.9, 43.8, 62.4, 58.7, 54.4, 72.3, 69.8, 48.0, 47.8, 41.5, 51.8, 45.2, 60.5, 49.1, 93.5, 55.9, 79.8, 89.2, 68.2, 51.0, 61.4, 50.6, 48.3, 68.6, 52.5, 51.3, 72.9, 47.9, 67.8, 59.4, 39.2, 79.9, 42.5, 56.5, 63.0, 56.8, 51.6, 70.4, 49.5, 76.6, 57.2, 40.0, 58.7, 74.7, 51.8, 61.9, 44.5, 63.2, 49.9, 54.6, 49.2, 60.5, 87.1, 52.3, 45.8, 57.4, 43.2, 51.8, 63.2, 60.0, 51.7, 57.3, 55.5, 57.3, 45.8, 55.6, 49.1, 39.6, 46.3, 41.0, 66.7, 47.4, 36.5, 42.1, 53.1, 51.6, 63.5, 42.1, 59.4, 64.2, 60.9, 75.0, 91.3, 48.6, 67.1, 63.7, 91.4, 73.5, 71.3, 94.3, 79.4, 72.6, 54.7, 53.6, 51.8, 59.6, 61.4, 55.6, 42.3, 59.0, 61.2, 61.8, 47.8, 66.6, 43.1, 56.6, 49.4, 43.3, 49.5, 47.2, 47.6, 120.9, 53.9, 59.3, 49.7, 116.9, 39.8, 58.6, 59.5, 64.8, 55.6, 36.8, 74.7, 80.9, 47.5, 61.5, 63.0, 40.6, 67.9, 39.7, 61.4, 79.6, 51.5, 63.5, 44.7, 41.1, 77.7, 79.3, 72.1, 83.3, 49.5, 73.3, 64.5, 101.1, 65.0, 57.2, 68.9, 62.0, 49.6, 38.3, 72.4, 60.3, 60.5, 39.9, 41.8, 32.1, 45.8, 48.9, 60.1, 45.6, 54.9, 35.0, 47.4, 31.8, 35.4, 46.3, 51.4, 43.3, 47.0, 51.0, 38.4, 52.8, 41.0, 38.1, 45.9, 51.6, 49.4, 53.6, 63.8, 53.5, 45.1, 64.2, 40.8, 65.8, 55.1, 53.9, 66.2, 51.3, 55.6, 50.7, 67.8, 49.4, 73.1, 96.6, 69.0, 58.6, 60.7, 42.7, 47.2, 56.8, 46.5, 70.5, 47.3, 64.5, 65.2, 78.3, 66.0, 80.9, 87.2, 76.1, 79.7, 75.0, 54.3, 58.2, 93.3, 60.8, 68.4, 54.4, 57.1, 79.4, 46.1, 59.0, 73.5, 47.0, 69.6, 72.4, 65.7, 64.6, 61.5, 67.1, 54.1, 50.4, 62.3, 60.0, 55.9, 61.9, 52.5, 56.3, 70.2, 68.7, 141.1, 51.1, 67.8, 81.4, 57.4, 53.7, 70.9, 56.8, 64.5, 79.8, 46.6, 60.5, 49.9, 56.5, 62.3, 75.4, 54.8, 41.4, 67.0, 59.4, 62.2, 41.3, 52.1, 40.5, 57.7, 58.0, 71.3, 54.2, 45.2, 52.2, 67.6, 57.1, 55.0, 51.0, 50.1, 51.2, 59.1, 47.5, 58.1, 58.6, 55.0, 65.6, 56.6, 44.0, 68.2, 56.8, 47.0, 51.4, 60.6, 47.1, 43.4, 64.8, 40.1, 49.6, 42.8, 66.1, 36.6, 44.6, 56.4, 56.1, 44.5, 42.7, 58.5, 39.0, 47.6, 61.9, 42.9, 30.0, 69.8, 41.3, 59.0, 56.1, 43.3, 52.5, 48.7, 74.7, 56.5, 47.0, 66.9, 39.7, 46.6, 54.3, 48.0, 40.7, 39.0, 48.9, 38.1, 60.5, 55.2, 49.2, 59.4, 52.1, 57.5, 50.9, 46.2, 54.4, 49.9, 49.5, 47.0, 47.7, 70.6, 47.1, 38.2, 43.6, 33.5, 31.7, 40.2, 42.5, 35.7, 41.9, 29.1, 30.0, 54.2, 42.3, 52.0, 67.3, 51.2, 42.8, 61.7, 62.8, 57.2, 45.6, 46.1, 49.0, 42.2, 41.0, 45.8, 52.1, 70.5, 56.4, 53.3, 55.1, 40.5, 38.2, 39.1, 57.3, 41.9, 61.5, 44.9, 39.2, 38.5, 54.9, 59.4, 57.3, 47.0, 54.6, 33.9, 35.7, 49.6, 62.2, 32.8, 41.0, 37.2, 50.3, 38.6, 43.0, 68.2, 59.5, 46.0, 34.0, 63.0, 34.1, 38.2, 43.5, 36.4, 57.0, 46.0, 68.1, 53.1, 53.0, 58.9, 45.1, 62.9, 45.9, 51.5, 69.9, 61.2, 50.3, 42.6, 42.3, 36.5, 96.4, 50.4, 60.0, 33.9, 30.9, 53.3, 43.8, 38.6, 52.7, 44.4, 44.5, 38.0, 47.4, 50.4, 67.9, 43.1, 64.3, 32.5, 38.6, 34.5, 48.0, 48.3, 36.4, 55.7, 52.4, 40.0, 70.0, 36.9, 36.4, 29.7, 28.6, 32.8, 58.8, 59.3, 36.1, 64.2, 58.6, 49.7, 57.5, 50.5, 50.1, 41.4, 50.1, 47.7, 64.0, 48.4, 51.0, 48.4, 51.8, 30.8, 49.3, 52.8, 51.7, 45.0, 37.4, 56.7, 58.4, 63.6, 41.5, 45.8, 51.9, 36.9, 35.1, 43.7, 37.2, 59.5, 42.6, 58.6, 28.5, 41.8, 34.2, 49.2, 60.9, 28.9, 38.0, 30.3, 58.3, 41.9, 45.0, 37.5, 45.7, 67.7, 47.7, 31.0, 61.9, 48.7, 35.7, 30.8, 33.4, 56.3, 40.7, 45.2, 59.9, 38.8, 49.4, 42.1, 64.4, 51.4, 56.3, 56.8, 51.3, 43.0, 43.4, 47.5, 51.6, 50.6, 31.6, 39.1, 36.8, 31.6, 56.6, 33.8, 35.3, 58.3, 32.1, 40.7, 57.1, 59.7, 32.6, 55.3, 30.9, 43.3, 56.6, 29.6, 51.1, 47.0, 40.4, 42.5, 49.1, 46.8, 40.8, 48.8, 34.3, 75.5, 50.7, 48.5, 57.8, 44.6, 60.7, 61.8, 55.9, 65.6, 59.4, 45.0, 53.3, 69.7, 51.1, 58.4, 59.5, 51.5, 63.5, 67.8, 46.3, 48.5, 64.9, 45.0, 53.5, 59.8, 42.3, 39.8, 46.0, 50.7, 31.8, 53.4, 46.2, 35.8, 48.7, 49.6, 49.0, 32.9, 54.1, 46.4, 36.9, 30.7, 51.3, 73.8, 39.8, 40.7, 37.8, 37.1, 37.5, 40.2, 42.9, 55.2, 40.3, 45.9, 36.5, 69.5, 29.2, 45.0, 33.1, 66.7, 43.9, 57.8, 46.8, 49.1, 36.1, 42.6, 52.1, 44.3, 55.9, 56.2, 50.0, 63.2, 47.6, 58.5, 32.0, 58.1, 58.3, 43.3, 41.8, 29.9, 43.1, 35.2, 48.8, 64.8, 40.3, 45.5, 39.9, 34.3, 35.5, 39.7, 35.7, 30.6, 32.2, 29.9, 33.6, 44.6, 48.0, 46.4, 50.1, 41.3, 38.1, 64.8, 41.3, 52.3, 55.1, 47.9, 45.1, 82.9, 45.6, 38.1, 101.3, 37.6, 47.4, 46.8, 48.4, 46.4, 60.8, 47.3, 33.2, 53.3, 46.5, 58.5, 41.2, 58.8, 64.2, 68.8, 53.8, 62.0, 52.6, 41.7, 37.9, 64.1, 44.0, 62.2, 34.0, 49.2, 75.7, 47.5, 45.3, 98.4, 52.4, 54.3, 52.2, 44.1, 61.9, 50.8, 50.2, 71.4, 64.8, 64.1, 69.2, 51.0, 97.2, 48.4, 61.7, 61.2, 51.0, 79.9, 64.1, 47.2, 47.5, 55.9, 50.6, 52.5, 70.7, 75.9, 51.8, 52.6, 41.4, 53.4, 60.3, 66.3, 87.9, 56.2, 55.5, 53.9, 52.6, 42.2, 38.0, 68.2, 66.3, 51.8, 61.8, 47.4, 70.1, 49.8, 50.8, 85.8, 61.7, 52.9, 64.9, 73.3, 58.9, 61.4, 58.0, 102.9, 69.6, 55.6, 66.8, 58.9, 55.5, 50.7, 36.1, 55.7, 55.5, 38.2, 42.6, 33.9, 47.9, 29.0, 55.8, 37.3, 51.4, 35.8, 53.8, 35.4, 46.5, 56.2, 0.8, 34.2, 47.5, 42.7, 45.6, 69.5, 34.5, 64.3, 39.8, 85.8, 49.8, 40.8, 32.8, 75.7, 64.3, 49.6, 32.3, 48.8, 44.8, 45.7, 57.1, 74.9, 45.6, 61.3, 35.7, 45.6, 51.7, 40.2, 98.0, 31.5, 51.2, 64.2, 90.2, 45.9, 66.2, 48.0, 43.5, 45.6, 43.7, 52.6, 79.7, 40.9, 44.8, 37.9, 56.7, 40.7, 50.0, 47.8, 38.0, 49.1, 27.1, 51.0, 59.1, 35.2, 36.3, 25.4, 29.9, 37.9, 46.4, 30.5, 33.5, 32.6, 26.6, 44.4, 54.5, 35.7, 46.6, 36.6, 39.9, 36.7, 43.0, 44.5, 35.7, 36.8, 41.3, 40.5, 96.0, 47.7, 58.8, 48.4, 29.6, 42.8, 60.4, 67.4, 75.6, 56.4, 50.1, 51.9, 35.7, 80.4, 59.6, 51.4, 64.1, 63.5, 52.5, 51.3, 66.6, 56.6, 63.0, 69.2, 57.3, 64.7, 59.9, 83.2, 52.6, 35.7, 50.1, 75.2, 42.5, 35.8, 83.6, 48.0, 51.1, 53.2, 58.3, 66.6, 49.0, 47.4, 47.4, 41.2, 63.2, 38.0, 42.8, 47.5, 34.6, 54.0, 54.1, 36.0, 43.8, 37.2, 75.9, 56.5, 35.5, 47.6, 49.1, 54.8, 33.5, 51.1, 46.8, 89.3, 41.8, 42.2, 30.3, 59.7, 45.4, 64.4, 63.3, 42.6, 52.7, 46.5, 35.0, 55.2, 37.4, 41.7, 43.9, 63.0, 53.1, 42.0, 63.8, 49.1, 65.2, 45.9, 35.1, 56.2, 42.4, 55.7, 53.8, 43.0, 57.1, 72.8, 48.0, 70.7, 51.9, 51.1, 35.1, 50.4, 79.4, 50.1, 53.0, 66.2, 51.3, 68.9, 47.5, 57.7, 75.4, 49.1, 62.3, 74.6, 63.8, 53.4, 52.7, 63.4, 67.2, 61.1, 51.2, 42.6, 48.6, 40.3, 45.7, 65.1, 51.9, 64.1, 61.7, 51.4, 47.8, 47.9, 57.4, 52.6, 86.6, 72.6, 72.7, 74.1, 53.2, 50.8, 68.5, 52.1, 57.8, 54.7, 50.7, 69.8, 63.1, 44.2, 72.8, 66.6, 60.2, 55.1, 79.5, 60.0, 66.4, 64.9, 66.3, 62.2, 64.4, 64.1, 41.5, 42.1, 80.7, 56.8, 41.6, 69.9, 67.6, 58.0, 65.0, 58.8, 65.5, 56.4, 57.2, 61.6, 71.2, 38.9, 49.5, 85.8, 50.2, 68.7, 55.8, 85.4, 67.8, 76.1, 66.2, 80.8, 42.7, 50.0, 71.3, 49.0, 71.2, 64.8, 44.9, 60.7, 44.3, 59.4, 51.5, 57.8, 50.3, 64.5, 38.8, 78.3, 65.4, 60.7, 53.9, 53.1, 53.1, 53.8, 54.1, 55.0, 77.4, 55.5, 34.5, 49.3, 33.4, 29.4, 52.8, 45.1, 39.3, 34.7, 35.0, 42.8, 56.2, 45.1, 29.7, 49.0, 48.5, 34.6, 62.7, 61.7, 39.8, 39.9, 50.6, 52.7, 45.1, 50.8, 42.8, 55.4, 85.9, 76.5, 82.6, 39.8, 51.5, 44.7, 43.3, 56.6, 44.3, 68.8, 58.6, 46.1, 46.2, 43.9, 44.7, 44.5, 76.4, 58.7, 46.7, 44.0, 53.9, 54.7, 76.1, 52.7, 49.4, 48.8, 41.2, 45.8, 50.2, 36.8, 27.3, 28.6, 32.7, 52.3, 37.2, 35.2, 33.7, 34.6, 47.8, 54.4, 43.2, 33.9, 45.4, 46.7, 44.6, 41.5, 36.9, 36.8, 39.1, 43.4, 40.6, 45.2, 23.8, 44.8, 26.3, 47.4, 34.0, 82.3, 38.3, 53.9, 48.4, 49.2, 69.8, 48.4, 42.9, 50.5, 44.0, 45.4, 38.0, 72.9, 47.4, 49.6, 49.0, 39.9, 52.7, 53.7, 34.7, 54.5, 59.9, 40.2, 45.7, 42.7, 55.5, 42.9, 33.2, 37.6, 40.8, 56.5, 32.4, 28.9, 31.3, 37.7, 31.9, 39.5, 34.7, 39.5, 44.6, 61.1, 34.4, 31.2, 48.3, 41.2, 51.2, 51.8, 65.6, 51.2, 69.4, 40.1, 49.7, 43.1, 30.0, 41.1, 50.8, 52.6, 79.8, 46.7, 40.2, 49.5, 49.9, 65.1, 43.8, 57.1, 43.6, 49.6, 59.7, 49.5, 52.0, 41.3, 56.1, 55.6, 60.7, 50.9, 44.0, 40.7, 50.1, 38.7, 44.8, 82.9, 54.7, 45.4, 48.9, 53.4, 61.6, 45.6, 52.3, 31.3, 44.2, 35.9, 35.3, 41.1, 37.1, 33.6, 48.9, 63.4, 37.7, 30.4, 27.8, 45.5, 33.6, 32.8, 66.9, 47.7, 59.1, 54.4, 50.9, 30.1, 34.2, 42.2, 60.5, 45.4, 38.5, 51.3, 41.7, 39.8, 46.4, 54.2, 56.8, 48.0, 43.7, 45.8, 66.9, 44.3, 56.1, 44.5, 50.4, 54.1, 43.7, 90.5, 46.5, 69.2, 40.1, 49.2, 60.2, 61.0, 68.9, 42.5, 61.5, 23.6, 54.6, 59.9, 35.8, 43.1, 57.8, 33.7, 38.4, 50.1, 37.4, 35.6, 30.9, 37.5, 60.5, 37.4, 44.1, 43.9, 67.2, 37.0, 26.9, 35.2, 33.3, 36.9, 43.2, 72.7, 45.6, 51.6, 36.2, 55.3, 56.1, 43.3, 61.1, 36.9, 33.1, 49.3, 41.9, 59.6, 75.4, 44.0, 38.4, 46.5, 64.3, 37.9, 60.0, 93.8, 43.0, 49.3, 34.1, 37.3, 69.3, 50.7, 52.9, 48.3, 56.9, 48.8, 50.3, 37.5, 47.8, 54.6, 44.8, 46.3, 56.3, 43.6, 65.2, 78.3, 57.2, 62.0, 48.7, 48.1, 49.2, 31.3, 53.5, 52.2, 61.2, 34.2, 45.3, 59.3, 34.5, 72.4, 37.5, 62.4, 60.3, 62.7, 50.5, 44.1, 64.3, 53.4, 42.0, 34.8, 70.0, 47.8, 41.7, 57.9, 51.5, 57.6, 50.8, 39.7, 45.7, 41.1, 48.3, 51.6, 57.4, 77.1, 51.0, 58.5, 52.4, 70.1, 69.4, 80.0, 48.7, 44.4, 86.7, 62.0, 63.4, 61.5, 42.1, 58.0, 64.4, 54.4, 71.7, 101.8, 49.6, 79.8, 57.1, 49.9, 61.2, 48.0, 63.0, 69.4, 52.5, 60.0, 47.2, 47.9, 56.6, 56.1, 65.0, 63.1, 87.7, 46.9, 49.4, 112.4, 54.9, 47.5, 50.2, 62.3, 49.5, 68.9, 54.3, 50.4, 83.3, 47.5, 49.7, 81.5, 55.7, 66.0, 70.4, 63.5, 72.8, 65.1, 84.3, 60.7, 92.9, 83.2, 51.1, 49.7, 67.6, 72.1, 66.9, 55.6, 81.1, 39.8, 44.4, 76.3, 51.6, 57.5, 34.8, 56.7, 46.9, 59.6, 41.8, 76.8, 47.5, 41.8, 52.1, 59.5, 59.2, 47.3, 83.0, 83.4, 53.1, 32.2, 39.0, 53.8, 104.7, 61.3, 43.3, 57.5, 41.9, 40.9, 62.8, 62.9, 85.7, 81.0, 52.0, 59.8, 51.3, 73.6, 62.6, 52.4, 52.0, 56.0, 49.9, 53.9, 64.7, 57.8, 50.8, 63.0, 56.8, 55.0, 63.2, 52.1, 59.1, 48.0, 54.1, 69.2, 84.3, 53.4, 76.1, 60.2, 103.5, 58.5, 70.4, 85.5, 63.4, 62.4, 108.0, 69.3, 49.9, 58.9, 61.2, 56.7, 58.5, 47.3, 62.5, 63.2, 56.2, 58.1, 64.2, 44.6, 62.2, 53.9, 87.4, 50.0, 58.3, 56.3, 72.3, 50.2, 55.8, 67.8, 43.6, 55.0, 37.2, 41.8, 46.6, 63.1, 51.5, 42.5, 79.0, 48.4, 90.8, 44.9, 77.5, 82.5, 42.5, 58.7, 49.0, 50.7, 46.8, 56.4, 59.2, 60.1, 40.6, 71.4, 48.3, 36.3, 43.2, 47.0, 58.1, 71.0, 80.8, 58.2, 82.8, 51.8, 56.0, 53.6, 60.8, 66.5, 73.9, 55.2, 58.9, 43.7, 56.8, 58.4, 65.1, 75.9, 58.9, 52.4, 62.9, 91.7, 46.6, 63.0, 63.2, 59.5, 51.4, 51.3, 48.3, 53.4, 61.1, 69.4, 70.8, 64.4, 93.2, 81.2, 54.2, 56.6, 55.3, 49.5, 28.4, 30.1, 31.3, 43.6, 32.0, 36.0, 47.8, 52.4, 32.4, 52.5, 49.3, 50.7, 51.9, 45.6, 40.9, 58.5, 55.8, 37.6, 38.7, 38.4, 53.5, 53.0, 63.3, 52.6, 85.1, 55.9, 64.3, 73.1, 43.6, 61.4, 47.9, 54.2, 56.7, 61.2, 60.7, 56.3, 82.5, 32.1, 51.5, 53.2, 40.9, 41.6, 56.7, 61.9, 60.9, 47.3, 62.6], \"xaxis\": \"x\", \"yaxis\": \"y\"}, {\"line\": {\"color\": \"black\"}, \"mode\": \"lines\", \"name\": \"Media 54.71\", \"showlegend\": true, \"type\": \"scatter\", \"x\": [54.70558105822677, 54.70558105822677], \"y\": [0, 600]}, {\"line\": {\"color\": \"red\"}, \"mode\": \"lines\", \"name\": \"Mediana 52.9\", \"showlegend\": true, \"type\": \"scatter\", \"x\": [52.9, 52.9], \"y\": [0, 600]}, {\"line\": {\"color\": \"green\"}, \"mode\": \"lines\", \"name\": \"Moda 50.0\", \"showlegend\": true, \"type\": \"scatter\", \"x\": [50.0, 50.0], \"y\": [0, 600]}, {\"line\": {\"color\": \"yellow\"}, \"mode\": \"lines\", \"name\": \"Desvio Padrao 14.55\", \"showlegend\": true, \"type\": \"scatter\", \"x\": [69.25344518350934, 69.25344518350934], \"y\": [0, 600]}, {\"line\": {\"color\": \"yellow\"}, \"mode\": \"lines\", \"name\": \"Desvio Padrao\", \"showlegend\": false, \"type\": \"scatter\", \"x\": [40.1577169329442, 40.1577169329442], \"y\": [0, 600]}],\n",
              "                        {\"barmode\": \"relative\", \"legend\": {\"tracegroupgap\": 0}, \"template\": {\"data\": {\"bar\": [{\"error_x\": {\"color\": \"#2a3f5f\"}, \"error_y\": {\"color\": \"#2a3f5f\"}, \"marker\": {\"line\": {\"color\": \"#E5ECF6\", \"width\": 0.5}}, \"type\": \"bar\"}], \"barpolar\": [{\"marker\": {\"line\": {\"color\": \"#E5ECF6\", \"width\": 0.5}}, \"type\": \"barpolar\"}], \"carpet\": [{\"aaxis\": {\"endlinecolor\": \"#2a3f5f\", \"gridcolor\": \"white\", \"linecolor\": \"white\", \"minorgridcolor\": \"white\", \"startlinecolor\": \"#2a3f5f\"}, \"baxis\": {\"endlinecolor\": \"#2a3f5f\", \"gridcolor\": \"white\", \"linecolor\": \"white\", \"minorgridcolor\": \"white\", \"startlinecolor\": \"#2a3f5f\"}, \"type\": \"carpet\"}], \"choropleth\": [{\"colorbar\": {\"outlinewidth\": 0, \"ticks\": \"\"}, \"type\": \"choropleth\"}], \"contour\": [{\"colorbar\": {\"outlinewidth\": 0, \"ticks\": \"\"}, \"colorscale\": [[0.0, \"#0d0887\"], [0.1111111111111111, \"#46039f\"], [0.2222222222222222, \"#7201a8\"], [0.3333333333333333, \"#9c179e\"], [0.4444444444444444, \"#bd3786\"], [0.5555555555555556, \"#d8576b\"], [0.6666666666666666, \"#ed7953\"], [0.7777777777777778, \"#fb9f3a\"], [0.8888888888888888, \"#fdca26\"], [1.0, \"#f0f921\"]], \"type\": \"contour\"}], \"contourcarpet\": [{\"colorbar\": {\"outlinewidth\": 0, \"ticks\": \"\"}, \"type\": \"contourcarpet\"}], \"heatmap\": [{\"colorbar\": {\"outlinewidth\": 0, \"ticks\": \"\"}, \"colorscale\": [[0.0, \"#0d0887\"], [0.1111111111111111, \"#46039f\"], [0.2222222222222222, \"#7201a8\"], [0.3333333333333333, \"#9c179e\"], [0.4444444444444444, \"#bd3786\"], [0.5555555555555556, \"#d8576b\"], [0.6666666666666666, \"#ed7953\"], [0.7777777777777778, \"#fb9f3a\"], [0.8888888888888888, \"#fdca26\"], [1.0, \"#f0f921\"]], \"type\": \"heatmap\"}], \"heatmapgl\": [{\"colorbar\": {\"outlinewidth\": 0, \"ticks\": \"\"}, \"colorscale\": [[0.0, \"#0d0887\"], [0.1111111111111111, \"#46039f\"], [0.2222222222222222, \"#7201a8\"], [0.3333333333333333, \"#9c179e\"], [0.4444444444444444, \"#bd3786\"], [0.5555555555555556, \"#d8576b\"], [0.6666666666666666, \"#ed7953\"], [0.7777777777777778, \"#fb9f3a\"], [0.8888888888888888, \"#fdca26\"], [1.0, \"#f0f921\"]], \"type\": \"heatmapgl\"}], \"histogram\": [{\"marker\": {\"colorbar\": {\"outlinewidth\": 0, \"ticks\": \"\"}}, \"type\": \"histogram\"}], \"histogram2d\": [{\"colorbar\": {\"outlinewidth\": 0, \"ticks\": \"\"}, \"colorscale\": [[0.0, \"#0d0887\"], [0.1111111111111111, \"#46039f\"], [0.2222222222222222, \"#7201a8\"], [0.3333333333333333, \"#9c179e\"], [0.4444444444444444, \"#bd3786\"], [0.5555555555555556, \"#d8576b\"], [0.6666666666666666, \"#ed7953\"], [0.7777777777777778, \"#fb9f3a\"], [0.8888888888888888, \"#fdca26\"], [1.0, \"#f0f921\"]], \"type\": \"histogram2d\"}], \"histogram2dcontour\": [{\"colorbar\": {\"outlinewidth\": 0, \"ticks\": \"\"}, \"colorscale\": [[0.0, \"#0d0887\"], [0.1111111111111111, \"#46039f\"], [0.2222222222222222, \"#7201a8\"], [0.3333333333333333, \"#9c179e\"], [0.4444444444444444, \"#bd3786\"], [0.5555555555555556, \"#d8576b\"], [0.6666666666666666, \"#ed7953\"], [0.7777777777777778, \"#fb9f3a\"], [0.8888888888888888, \"#fdca26\"], [1.0, \"#f0f921\"]], \"type\": \"histogram2dcontour\"}], \"mesh3d\": [{\"colorbar\": {\"outlinewidth\": 0, \"ticks\": \"\"}, \"type\": \"mesh3d\"}], \"parcoords\": [{\"line\": {\"colorbar\": {\"outlinewidth\": 0, \"ticks\": \"\"}}, \"type\": \"parcoords\"}], \"pie\": [{\"automargin\": true, \"type\": \"pie\"}], \"scatter\": [{\"marker\": {\"colorbar\": {\"outlinewidth\": 0, \"ticks\": \"\"}}, \"type\": \"scatter\"}], \"scatter3d\": [{\"line\": {\"colorbar\": {\"outlinewidth\": 0, \"ticks\": \"\"}}, \"marker\": {\"colorbar\": {\"outlinewidth\": 0, \"ticks\": \"\"}}, \"type\": \"scatter3d\"}], \"scattercarpet\": [{\"marker\": {\"colorbar\": {\"outlinewidth\": 0, \"ticks\": \"\"}}, \"type\": \"scattercarpet\"}], \"scattergeo\": [{\"marker\": {\"colorbar\": {\"outlinewidth\": 0, \"ticks\": \"\"}}, \"type\": \"scattergeo\"}], \"scattergl\": [{\"marker\": {\"colorbar\": {\"outlinewidth\": 0, \"ticks\": \"\"}}, \"type\": \"scattergl\"}], \"scattermapbox\": [{\"marker\": {\"colorbar\": {\"outlinewidth\": 0, \"ticks\": \"\"}}, \"type\": \"scattermapbox\"}], \"scatterpolar\": [{\"marker\": {\"colorbar\": {\"outlinewidth\": 0, \"ticks\": \"\"}}, \"type\": \"scatterpolar\"}], \"scatterpolargl\": [{\"marker\": {\"colorbar\": {\"outlinewidth\": 0, \"ticks\": \"\"}}, \"type\": \"scatterpolargl\"}], \"scatterternary\": [{\"marker\": {\"colorbar\": {\"outlinewidth\": 0, \"ticks\": \"\"}}, \"type\": \"scatterternary\"}], \"surface\": [{\"colorbar\": {\"outlinewidth\": 0, \"ticks\": \"\"}, \"colorscale\": [[0.0, \"#0d0887\"], [0.1111111111111111, \"#46039f\"], [0.2222222222222222, \"#7201a8\"], [0.3333333333333333, \"#9c179e\"], [0.4444444444444444, \"#bd3786\"], [0.5555555555555556, \"#d8576b\"], [0.6666666666666666, \"#ed7953\"], [0.7777777777777778, \"#fb9f3a\"], [0.8888888888888888, \"#fdca26\"], [1.0, \"#f0f921\"]], \"type\": \"surface\"}], \"table\": [{\"cells\": {\"fill\": {\"color\": \"#EBF0F8\"}, \"line\": {\"color\": \"white\"}}, \"header\": {\"fill\": {\"color\": \"#C8D4E3\"}, \"line\": {\"color\": \"white\"}}, \"type\": \"table\"}]}, \"layout\": {\"annotationdefaults\": {\"arrowcolor\": \"#2a3f5f\", \"arrowhead\": 0, \"arrowwidth\": 1}, \"coloraxis\": {\"colorbar\": {\"outlinewidth\": 0, \"ticks\": \"\"}}, \"colorscale\": {\"diverging\": [[0, \"#8e0152\"], [0.1, \"#c51b7d\"], [0.2, \"#de77ae\"], [0.3, \"#f1b6da\"], [0.4, \"#fde0ef\"], [0.5, \"#f7f7f7\"], [0.6, \"#e6f5d0\"], [0.7, \"#b8e186\"], [0.8, \"#7fbc41\"], [0.9, \"#4d9221\"], [1, \"#276419\"]], \"sequential\": [[0.0, \"#0d0887\"], [0.1111111111111111, \"#46039f\"], [0.2222222222222222, \"#7201a8\"], [0.3333333333333333, \"#9c179e\"], [0.4444444444444444, \"#bd3786\"], [0.5555555555555556, \"#d8576b\"], [0.6666666666666666, \"#ed7953\"], [0.7777777777777778, \"#fb9f3a\"], [0.8888888888888888, \"#fdca26\"], [1.0, \"#f0f921\"]], \"sequentialminus\": [[0.0, \"#0d0887\"], [0.1111111111111111, \"#46039f\"], [0.2222222222222222, \"#7201a8\"], [0.3333333333333333, \"#9c179e\"], [0.4444444444444444, \"#bd3786\"], [0.5555555555555556, \"#d8576b\"], [0.6666666666666666, \"#ed7953\"], [0.7777777777777778, \"#fb9f3a\"], [0.8888888888888888, \"#fdca26\"], [1.0, \"#f0f921\"]]}, \"colorway\": [\"#636efa\", \"#EF553B\", \"#00cc96\", \"#ab63fa\", \"#FFA15A\", \"#19d3f3\", \"#FF6692\", \"#B6E880\", \"#FF97FF\", \"#FECB52\"], \"font\": {\"color\": \"#2a3f5f\"}, \"geo\": {\"bgcolor\": \"white\", \"lakecolor\": \"white\", \"landcolor\": \"#E5ECF6\", \"showlakes\": true, \"showland\": true, \"subunitcolor\": \"white\"}, \"hoverlabel\": {\"align\": \"left\"}, \"hovermode\": \"closest\", \"mapbox\": {\"style\": \"light\"}, \"paper_bgcolor\": \"white\", \"plot_bgcolor\": \"#E5ECF6\", \"polar\": {\"angularaxis\": {\"gridcolor\": \"white\", \"linecolor\": \"white\", \"ticks\": \"\"}, \"bgcolor\": \"#E5ECF6\", \"radialaxis\": {\"gridcolor\": \"white\", \"linecolor\": \"white\", \"ticks\": \"\"}}, \"scene\": {\"xaxis\": {\"backgroundcolor\": \"#E5ECF6\", \"gridcolor\": \"white\", \"gridwidth\": 2, \"linecolor\": \"white\", \"showbackground\": true, \"ticks\": \"\", \"zerolinecolor\": \"white\"}, \"yaxis\": {\"backgroundcolor\": \"#E5ECF6\", \"gridcolor\": \"white\", \"gridwidth\": 2, \"linecolor\": \"white\", \"showbackground\": true, \"ticks\": \"\", \"zerolinecolor\": \"white\"}, \"zaxis\": {\"backgroundcolor\": \"#E5ECF6\", \"gridcolor\": \"white\", \"gridwidth\": 2, \"linecolor\": \"white\", \"showbackground\": true, \"ticks\": \"\", \"zerolinecolor\": \"white\"}}, \"shapedefaults\": {\"line\": {\"color\": \"#2a3f5f\"}}, \"ternary\": {\"aaxis\": {\"gridcolor\": \"white\", \"linecolor\": \"white\", \"ticks\": \"\"}, \"baxis\": {\"gridcolor\": \"white\", \"linecolor\": \"white\", \"ticks\": \"\"}, \"bgcolor\": \"#E5ECF6\", \"caxis\": {\"gridcolor\": \"white\", \"linecolor\": \"white\", \"ticks\": \"\"}}, \"title\": {\"x\": 0.05}, \"xaxis\": {\"automargin\": true, \"gridcolor\": \"white\", \"linecolor\": \"white\", \"ticks\": \"\", \"title\": {\"standoff\": 15}, \"zerolinecolor\": \"white\", \"zerolinewidth\": 2}, \"yaxis\": {\"automargin\": true, \"gridcolor\": \"white\", \"linecolor\": \"white\", \"ticks\": \"\", \"title\": {\"standoff\": 15}, \"zerolinecolor\": \"white\", \"zerolinewidth\": 2}}}, \"title\": {\"text\": \"Peso dos estudantes - PeNSE (2015)\"}, \"xaxis\": {\"anchor\": \"y\", \"domain\": [0.0, 1.0], \"title\": {\"text\": \"Peso (KG)\"}}, \"yaxis\": {\"anchor\": \"x\", \"domain\": [0.0, 1.0], \"title\": {\"text\": \"Frequ\\u00eancia\"}}},\n",
              "                        {\"responsive\": true}\n",
              "                    ).then(function(){\n",
              "                            \n",
              "var gd = document.getElementById('04788d2b-44b6-4642-94a7-6b3f240cc9c6');\n",
              "var x = new MutationObserver(function (mutations, observer) {{\n",
              "        var display = window.getComputedStyle(gd).display;\n",
              "        if (!display || display === 'none') {{\n",
              "            console.log([gd, 'removed!']);\n",
              "            Plotly.purge(gd);\n",
              "            observer.disconnect();\n",
              "        }}\n",
              "}});\n",
              "\n",
              "// Listen for the removal of the full notebook cells\n",
              "var notebookContainer = gd.closest('#notebook-container');\n",
              "if (notebookContainer) {{\n",
              "    x.observe(notebookContainer, {childList: true});\n",
              "}}\n",
              "\n",
              "// Listen for the clearing of the current output cell\n",
              "var outputEl = gd.closest('.output');\n",
              "if (outputEl) {{\n",
              "    x.observe(outputEl, {childList: true});\n",
              "}}\n",
              "\n",
              "                        })\n",
              "                };\n",
              "                \n",
              "            </script>\n",
              "        </div>\n",
              "</body>\n",
              "</html>"
            ]
          },
          "metadata": {
            "tags": []
          }
        }
      ]
    },
    {
      "cell_type": "markdown",
      "metadata": {
        "id": "Q5ZMXHYYDUob"
      },
      "source": [
        "##Desafio 9 - Pesquisar como é determinado os outliers no boxplot do seaborn. Calcular na mão utilizando a função .quantile()"
      ]
    },
    {
      "cell_type": "markdown",
      "metadata": {
        "id": "fSRJcnUbRcrW"
      },
      "source": [
        "O boxplot do Seaborn utiliza uma formula chamada [inter-quartile range](https://seaborn.pydata.org/generated/seaborn.boxplot.html?highlight=seaborn%20boxplot#seaborn.boxplot) para determinação dos outliers. "
      ]
    },
    {
      "cell_type": "code",
      "metadata": {
        "colab": {
          "base_uri": "https://localhost:8080/"
        },
        "id": "b1BmnKHyTjT4",
        "outputId": "ebea77dd-5d94-4ece-f7b6-a2bd5555cfd2"
      },
      "source": [
        "terceiro_quartil_altura = dados['VB17004'].quantile(0.75)\n",
        "segundo_quartil_altura = dados['VB17004'].quantile(0.25)\n",
        "intervalo_inter_quartil_altura = terceiro_quartil_altura - segundo_quartil_altura\n",
        "intervalo_inter_quartil_altura"
      ],
      "execution_count": null,
      "outputs": [
        {
          "output_type": "execute_result",
          "data": {
            "text/plain": [
              "14.099999999999994"
            ]
          },
          "metadata": {
            "tags": []
          },
          "execution_count": 67
        }
      ]
    },
    {
      "cell_type": "markdown",
      "metadata": {
        "id": "3xFzvQf8Uefg"
      },
      "source": [
        "Outliers menores que a mediana:\n",
        "E o segundo quartil menos o intervalo inter-quartil e meio.\n",
        "\n",
        "Outliers maiores do que a mediana:\n",
        "E o terceiro quartil mais o intervalo inter-quartil e meio."
      ]
    },
    {
      "cell_type": "code",
      "metadata": {
        "colab": {
          "base_uri": "https://localhost:8080/"
        },
        "id": "ZPPZZid6U597",
        "outputId": "e4fa38bf-1e35-48d4-ac13-55cfb80ec32f"
      },
      "source": [
        "outlier_esquerdo = segundo_quartil_altura - 1.5 * intervalo_inter_quartil_altura\n",
        "outlier_esquerdo"
      ],
      "execution_count": null,
      "outputs": [
        {
          "output_type": "execute_result",
          "data": {
            "text/plain": [
              "132.65000000000003"
            ]
          },
          "metadata": {
            "tags": []
          },
          "execution_count": 68
        }
      ]
    },
    {
      "cell_type": "code",
      "metadata": {
        "colab": {
          "base_uri": "https://localhost:8080/"
        },
        "id": "X8sRZ2U9bXbP",
        "outputId": "581a0fb5-df42-435d-b982-a9ab310a254b"
      },
      "source": [
        "outlier_direito = terceiro_quartil_altura + 1.5 * intervalo_inter_quartil_altura\n",
        "outlier_direito"
      ],
      "execution_count": null,
      "outputs": [
        {
          "output_type": "execute_result",
          "data": {
            "text/plain": [
              "189.05"
            ]
          },
          "metadata": {
            "tags": []
          },
          "execution_count": 69
        }
      ]
    },
    {
      "cell_type": "markdown",
      "metadata": {
        "id": "9e8W9g1MbQAT"
      },
      "source": [
        "As alturas menores do que 132.65 centimetros e maiores do que 189.05 centimetros sao consideradas outliers."
      ]
    },
    {
      "cell_type": "code",
      "metadata": {
        "colab": {
          "base_uri": "https://localhost:8080/"
        },
        "id": "MfiKXeypW7cj",
        "outputId": "b05e203a-ba4e-4820-a193-6cb5a6a3c951"
      },
      "source": [
        "dados['VB17004'].min()"
      ],
      "execution_count": null,
      "outputs": [
        {
          "output_type": "execute_result",
          "data": {
            "text/plain": [
              "124.1"
            ]
          },
          "metadata": {
            "tags": []
          },
          "execution_count": 70
        }
      ]
    },
    {
      "cell_type": "code",
      "metadata": {
        "colab": {
          "base_uri": "https://localhost:8080/"
        },
        "id": "cm4av8PwbNNg",
        "outputId": "f0c5d624-f5a6-424b-fcde-0358149a4c34"
      },
      "source": [
        "dados['VB17004'].max()"
      ],
      "execution_count": null,
      "outputs": [
        {
          "output_type": "execute_result",
          "data": {
            "text/plain": [
              "195.3"
            ]
          },
          "metadata": {
            "tags": []
          },
          "execution_count": 71
        }
      ]
    },
    {
      "cell_type": "markdown",
      "metadata": {
        "id": "be95fQ9_o8le"
      },
      "source": [
        "# **5 Medidas de centralidade e dispersao**"
      ]
    },
    {
      "cell_type": "markdown",
      "metadata": {
        "id": "YVUmqFPBqg0y"
      },
      "source": [
        "As medidas de centralidade sao:\n",
        "\n",
        "Media: Soma dos elementos dividido pelo numero de elementos de uma frequencia.\n",
        "\n",
        "Mediana: Numero que divide a frequencia no meio, ficando 50% menores do que a mediana e 50% maiores.\n",
        "\n",
        "Desvio padrao: Numero que representa o quanto a distribuicao de frequencia se dispersa da media, quanto maior o desvio padrao maior a dispersao da frequencia.\n",
        "\n",
        "Quartil: Divisao da distrbuicao  de frequencia em quatro partes, 25% dos dados e o primeiro quartil, 75% dos dados representam o terceiro quartil."
      ]
    },
    {
      "cell_type": "markdown",
      "metadata": {
        "id": "GD-2mYkcpFbM"
      },
      "source": [
        "##Desafio 10 -Fazer a descrição de outras variáveis, analisar e compartilhas suas análises no discord."
      ]
    },
    {
      "cell_type": "code",
      "metadata": {
        "colab": {
          "base_uri": "https://localhost:8080/"
        },
        "id": "gkASCct-c3mQ",
        "outputId": "f54ddab4-ff75-43c2-f693-01398bfe387d"
      },
      "source": [
        "dados['VB01003'].describe()"
      ],
      "execution_count": null,
      "outputs": [
        {
          "output_type": "execute_result",
          "data": {
            "text/plain": [
              "count    16556.000000\n",
              "mean        14.095917\n",
              "std          2.127947\n",
              "min         11.000000\n",
              "25%         12.000000\n",
              "50%         14.000000\n",
              "75%         16.000000\n",
              "max         19.000000\n",
              "Name: VB01003, dtype: float64"
            ]
          },
          "metadata": {
            "tags": []
          },
          "execution_count": 72
        }
      ]
    },
    {
      "cell_type": "markdown",
      "metadata": {
        "id": "eFUNv1lcsK-l"
      },
      "source": [
        "O metodo describe retorna dados estatisticos descritivos, onde:\n",
        "\n",
        "count: numero de elementos na distribuicao\n",
        "\n",
        "mean: Media da distribuicao, sendo 14 anos para a variavl idade\n",
        "\n",
        "std: Desvio padrao \n",
        "\n",
        "min: valor minimo\n",
        "\n",
        "25%: primeiro quartil, 25% das idades sao menores do que 12 anos de idade.\n",
        "\n",
        "50%: Mediana, ou segundo quartil, 50% das idades sao mmenres do que 14 anos.\n",
        "\n",
        "75%: Terceiro quartil, 75% das idades sao menres do que 16 anos.\n",
        "\n",
        "max: Maior idade na distribuicao de frequencia."
      ]
    },
    {
      "cell_type": "code",
      "metadata": {
        "colab": {
          "base_uri": "https://localhost:8080/"
        },
        "id": "X8K8UXxstdd8",
        "outputId": "25b48b27-6cd4-4799-c7b8-189249d20651"
      },
      "source": [
        "dados['VB01003'].mode()"
      ],
      "execution_count": null,
      "outputs": [
        {
          "output_type": "execute_result",
          "data": {
            "text/plain": [
              "0    12\n",
              "dtype: int64"
            ]
          },
          "metadata": {
            "tags": []
          },
          "execution_count": 73
        }
      ]
    },
    {
      "cell_type": "markdown",
      "metadata": {
        "id": "pA4OpH79tlqX"
      },
      "source": [
        "A moda das idades trata se da idade que mais se repete na distribuicao de frequencia.\n",
        "\n",
        "Uma distrbuicao normal ira possuir a media, mediana e moda com valores iguais."
      ]
    },
    {
      "cell_type": "code",
      "metadata": {
        "colab": {
          "base_uri": "https://localhost:8080/",
          "height": 335
        },
        "id": "5EQ-ymLot-b_",
        "outputId": "fff1e8ef-575e-498e-964f-75aabdee7fd4"
      },
      "source": [
        "sns.histplot(x='VB01003', data = dados, stat='density', cumulative=True, bins=8)\n",
        "plt.title('Densidade da distribuicao das idades - PeNSE (2015)')\n",
        "plt.ylabel('Densidade')\n",
        "plt.xlabel('Idade')"
      ],
      "execution_count": null,
      "outputs": [
        {
          "output_type": "execute_result",
          "data": {
            "text/plain": [
              "Text(0.5, 0, 'Idade')"
            ]
          },
          "metadata": {
            "tags": []
          },
          "execution_count": 74
        },
        {
          "output_type": "display_data",
          "data": {
            "image/png": "[encoded data removed]",
            "text/plain": [
              "<Figure size 432x288 with 1 Axes>"
            ]
          },
          "metadata": {
            "tags": []
          }
        }
      ]
    },
    {
      "cell_type": "markdown",
      "metadata": {
        "id": "v0KEMwXPwRSi"
      },
      "source": [
        "A distribuicao de frequencia por densidade normaliza a distribuicao a area do grafico, onde e possivel notar a mediana e os quartis por meio doo eixo y, onde 0.2 ou 20% das idades sao menores do que 12 anos."
      ]
    },
    {
      "cell_type": "markdown",
      "metadata": {
        "id": "P09TKXj-pKVO"
      },
      "source": [
        "##Desafio 11 - Fazer o calculo da média por sexo e idade, através do crosstab"
      ]
    },
    {
      "cell_type": "code",
      "metadata": {
        "colab": {
          "base_uri": "https://localhost:8080/",
          "height": 355
        },
        "id": "k2SzMzuypQp0",
        "outputId": "055d208f-76cd-4ddf-e3e2-06e75ac9595f"
      },
      "source": [
        "pd.crosstab(columns=dados['VB01001'], index=dados['VB01003'], \n",
        "            values=dados['VB17003'], aggfunc='mean')"
      ],
      "execution_count": null,
      "outputs": [
        {
          "output_type": "execute_result",
          "data": {
            "text/html": [
              "<div>\n",
              "<style scoped>\n",
              "    .dataframe tbody tr th:only-of-type {\n",
              "        vertical-align: middle;\n",
              "    }\n",
              "\n",
              "    .dataframe tbody tr th {\n",
              "        vertical-align: top;\n",
              "    }\n",
              "\n",
              "    .dataframe thead th {\n",
              "        text-align: right;\n",
              "    }\n",
              "</style>\n",
              "<table border=\"1\" class=\"dataframe\">\n",
              "  <thead>\n",
              "    <tr style=\"text-align: right;\">\n",
              "      <th>VB01001</th>\n",
              "      <th>1</th>\n",
              "      <th>2</th>\n",
              "    </tr>\n",
              "    <tr>\n",
              "      <th>VB01003</th>\n",
              "      <th></th>\n",
              "      <th></th>\n",
              "    </tr>\n",
              "  </thead>\n",
              "  <tbody>\n",
              "    <tr>\n",
              "      <th>11</th>\n",
              "      <td>42.530893</td>\n",
              "      <td>43.310605</td>\n",
              "    </tr>\n",
              "    <tr>\n",
              "      <th>12</th>\n",
              "      <td>47.016019</td>\n",
              "      <td>48.472532</td>\n",
              "    </tr>\n",
              "    <tr>\n",
              "      <th>13</th>\n",
              "      <td>52.321407</td>\n",
              "      <td>51.624820</td>\n",
              "    </tr>\n",
              "    <tr>\n",
              "      <th>14</th>\n",
              "      <td>57.890739</td>\n",
              "      <td>54.237782</td>\n",
              "    </tr>\n",
              "    <tr>\n",
              "      <th>15</th>\n",
              "      <td>62.315036</td>\n",
              "      <td>56.203367</td>\n",
              "    </tr>\n",
              "    <tr>\n",
              "      <th>16</th>\n",
              "      <td>64.673558</td>\n",
              "      <td>56.952231</td>\n",
              "    </tr>\n",
              "    <tr>\n",
              "      <th>17</th>\n",
              "      <td>67.892061</td>\n",
              "      <td>58.133201</td>\n",
              "    </tr>\n",
              "    <tr>\n",
              "      <th>18</th>\n",
              "      <td>67.562281</td>\n",
              "      <td>57.694118</td>\n",
              "    </tr>\n",
              "    <tr>\n",
              "      <th>19</th>\n",
              "      <td>69.146842</td>\n",
              "      <td>60.507018</td>\n",
              "    </tr>\n",
              "  </tbody>\n",
              "</table>\n",
              "</div>"
            ],
            "text/plain": [
              "VB01001          1          2\n",
              "VB01003                      \n",
              "11       42.530893  43.310605\n",
              "12       47.016019  48.472532\n",
              "13       52.321407  51.624820\n",
              "14       57.890739  54.237782\n",
              "15       62.315036  56.203367\n",
              "16       64.673558  56.952231\n",
              "17       67.892061  58.133201\n",
              "18       67.562281  57.694118\n",
              "19       69.146842  60.507018"
            ]
          },
          "metadata": {
            "tags": []
          },
          "execution_count": 75
        }
      ]
    },
    {
      "cell_type": "markdown",
      "metadata": {
        "id": "bejIAtWf0q7e"
      },
      "source": [
        "Peso dos estudantes por sexo e idade."
      ]
    },
    {
      "cell_type": "markdown",
      "metadata": {
        "id": "yO3vQb4rpYvm"
      },
      "source": [
        "##Super-desafio 2: De alguma maniera sumarizar as perguntas para ficar mais curta. NLTK, GESIM..."
      ]
    },
    {
      "cell_type": "code",
      "metadata": {
        "id": "Y9eaymVaMhYV"
      },
      "source": [
        "perguntas_lista = ['Prezado(a) estudante, você concorda em participar dessa pesquisa?',\n",
        "             'Qual o grau de escolaridade mais elevado que você pretendo concluir?',\n",
        "             'Você costuma comer a comida (merenda/almoço) oferecida pela escola? (Não considerar lanches/comida comprados na cantina).',\n",
        "             'NOS ÚLTIMOS 7 DIAS, em quantos dias você comeu pelo menos um tipo de legume ou verdura? Exemplos: alface, abóbora, brócolis, cebola, cenoura, chuchu, couve, espinafre, pepino, tomate etc. Não inclua batata e aipim (mandioca/macaxeira).',\n",
        "             'Qual é a sua cor ou raça?']"
      ],
      "execution_count": null,
      "outputs": []
    },
    {
      "cell_type": "code",
      "metadata": {
        "id": "D6dhZIH4Ji14"
      },
      "source": [
        "#Testando novas perguntas por tageamento\n",
        "def sintetizando_pergunta_lista(perguntas):\n",
        "  seq = 0\n",
        "  for i in perguntas:\n",
        "    palavras = []\n",
        "    tokens = nltk.word_tokenize(i.capitalize())\n",
        "    tags = nltk.pos_tag(tokens)\n",
        "    for i in tags:\n",
        "      if i[1] in ['NN']:\n",
        "        palavras.append(i[0])\n",
        "    perguntas[seq] = '_'.join(palavras[:7]).upper()             \n",
        "    seq += 1\n",
        "  return perguntas"
      ],
      "execution_count": null,
      "outputs": []
    },
    {
      "cell_type": "code",
      "metadata": {
        "colab": {
          "base_uri": "https://localhost:8080/"
        },
        "id": "hjqY4G1bwNLX",
        "outputId": "5c0c21da-4074-465f-c986-f490559fd941"
      },
      "source": [
        "perguntas_lista =  sintetizando_pergunta_lista(perguntas_lista)\n",
        "perguntas_lista"
      ],
      "execution_count": null,
      "outputs": [
        {
          "output_type": "execute_result",
          "data": {
            "text/plain": [
              "['ESTUDANTE_CONCORDA_EM_PARTICIPAR_DESSA_PESQUISA',\n",
              " 'O_GRAU_QUE_PRETENDO_CONCLUIR',\n",
              " 'COSTUMA_COMER_COMIDA_MERENDA/ALMOÇO_OFERECIDA_PELA_ESCOLA',\n",
              " 'COMEU_PELO_TIPO_VERDURA_EXEMPLOS_ALFACE_ABÓBORA',\n",
              " 'COR_OU_RAÇA']"
            ]
          },
          "metadata": {
            "tags": []
          },
          "execution_count": 78
        }
      ]
    },
    {
      "cell_type": "markdown",
      "metadata": {
        "id": "8REw843HpRov"
      },
      "source": [
        "##Super-desafio 1: Criar um dicionário para facilitar a busca da pergunta."
      ]
    },
    {
      "cell_type": "markdown",
      "metadata": {
        "id": "xTFoCMHOVAea"
      },
      "source": [
        "###Solucao 1"
      ]
    },
    {
      "cell_type": "markdown",
      "metadata": {
        "id": "-IyBD6S6tH2i"
      },
      "source": [
        "Solucao copiando e colando do excel"
      ]
    },
    {
      "cell_type": "code",
      "metadata": {
        "id": "a8JPWko3pYAC"
      },
      "source": [
        "questionario_aluno = {\n",
        "    \n",
        "'Região geográfica': ['REGEOGR', {\t\n",
        "1:\t'Norte',\n",
        "2:\t'Nordeste',\n",
        "3:\t'Sudeste',\n",
        "4:\t'Sul',\n",
        "5:\t'Centro-Oeste'}],\n",
        "\n",
        "'Qual é o seu sexo?': ['VB01001', {\n",
        "1:\t'Masculino',\n",
        "2:\t'Feminino'}]}"
      ],
      "execution_count": null,
      "outputs": []
    },
    {
      "cell_type": "code",
      "metadata": {
        "colab": {
          "base_uri": "https://localhost:8080/"
        },
        "id": "s8yQn1eM1DIf",
        "outputId": "1eaa4f2f-064c-4d2c-f985-924cba96b81b"
      },
      "source": [
        "questionario_aluno"
      ],
      "execution_count": null,
      "outputs": [
        {
          "output_type": "execute_result",
          "data": {
            "text/plain": [
              "{'Qual é o seu sexo?': ['VB01001', {1: 'Masculino', 2: 'Feminino'}],\n",
              " 'Região geográfica': ['REGEOGR',\n",
              "  {1: 'Norte', 2: 'Nordeste', 3: 'Sudeste', 4: 'Sul', 5: 'Centro-Oeste'}]}"
            ]
          },
          "metadata": {
            "tags": []
          },
          "execution_count": 80
        }
      ]
    },
    {
      "cell_type": "markdown",
      "metadata": {
        "id": "YuFJ_7r2VHnd"
      },
      "source": [
        "###Solucao 2"
      ]
    },
    {
      "cell_type": "markdown",
      "metadata": {
        "id": "0f0lfIdZtPeP"
      },
      "source": [
        "Solucao capturando as informacoes do DataFrame"
      ]
    },
    {
      "cell_type": "markdown",
      "metadata": {
        "id": "nu15sni2nKGy"
      },
      "source": [
        "####Visualizacao e definicao da logica de resolucao"
      ]
    },
    {
      "cell_type": "code",
      "metadata": {
        "colab": {
          "base_uri": "https://localhost:8080/",
          "height": 202
        },
        "id": "w06Y58TUncpI",
        "outputId": "7040eaaf-5cff-45a4-a5b1-f45f5ca2a161"
      },
      "source": [
        "questionario_aluno_df.head()"
      ],
      "execution_count": null,
      "outputs": [
        {
          "output_type": "execute_result",
          "data": {
            "text/html": [
              "<div>\n",
              "<style scoped>\n",
              "    .dataframe tbody tr th:only-of-type {\n",
              "        vertical-align: middle;\n",
              "    }\n",
              "\n",
              "    .dataframe tbody tr th {\n",
              "        vertical-align: top;\n",
              "    }\n",
              "\n",
              "    .dataframe thead th {\n",
              "        text-align: right;\n",
              "    }\n",
              "</style>\n",
              "<table border=\"1\" class=\"dataframe\">\n",
              "  <thead>\n",
              "    <tr style=\"text-align: right;\">\n",
              "      <th></th>\n",
              "      <th>VARIÁVEL</th>\n",
              "      <th>QUESTIONÁRIO DO ALUNO</th>\n",
              "    </tr>\n",
              "  </thead>\n",
              "  <tbody>\n",
              "    <tr>\n",
              "      <th>0</th>\n",
              "      <td>ANOPESQ</td>\n",
              "      <td>Ano em que a pesquisa foi realizada</td>\n",
              "    </tr>\n",
              "    <tr>\n",
              "      <th>1</th>\n",
              "      <td>PAIS</td>\n",
              "      <td>País</td>\n",
              "    </tr>\n",
              "    <tr>\n",
              "      <th>2</th>\n",
              "      <td>76</td>\n",
              "      <td>Brasil</td>\n",
              "    </tr>\n",
              "    <tr>\n",
              "      <th>3</th>\n",
              "      <td>REGEOGR</td>\n",
              "      <td>Região geográfica</td>\n",
              "    </tr>\n",
              "    <tr>\n",
              "      <th>4</th>\n",
              "      <td>1</td>\n",
              "      <td>Norte</td>\n",
              "    </tr>\n",
              "  </tbody>\n",
              "</table>\n",
              "</div>"
            ],
            "text/plain": [
              "  VARIÁVEL                QUESTIONÁRIO DO ALUNO\n",
              "0  ANOPESQ  Ano em que a pesquisa foi realizada\n",
              "1     PAIS                                 País\n",
              "2       76                               Brasil\n",
              "3  REGEOGR                    Região geográfica\n",
              "4        1                                Norte"
            ]
          },
          "metadata": {
            "tags": []
          },
          "execution_count": 81
        }
      ]
    },
    {
      "cell_type": "code",
      "metadata": {
        "id": "g_X_RhPRWiXE"
      },
      "source": [
        "questionario_aluno_df.columns = ['variavel', 'questionario_aluno']"
      ],
      "execution_count": null,
      "outputs": []
    },
    {
      "cell_type": "code",
      "metadata": {
        "colab": {
          "base_uri": "https://localhost:8080/",
          "height": 202
        },
        "id": "0t3NAgtYXEQ1",
        "outputId": "14bd39fa-90b6-4a34-9e78-87cc42e224fc"
      },
      "source": [
        "questionario_aluno_df.head()"
      ],
      "execution_count": null,
      "outputs": [
        {
          "output_type": "execute_result",
          "data": {
            "text/html": [
              "<div>\n",
              "<style scoped>\n",
              "    .dataframe tbody tr th:only-of-type {\n",
              "        vertical-align: middle;\n",
              "    }\n",
              "\n",
              "    .dataframe tbody tr th {\n",
              "        vertical-align: top;\n",
              "    }\n",
              "\n",
              "    .dataframe thead th {\n",
              "        text-align: right;\n",
              "    }\n",
              "</style>\n",
              "<table border=\"1\" class=\"dataframe\">\n",
              "  <thead>\n",
              "    <tr style=\"text-align: right;\">\n",
              "      <th></th>\n",
              "      <th>variavel</th>\n",
              "      <th>questionario_aluno</th>\n",
              "    </tr>\n",
              "  </thead>\n",
              "  <tbody>\n",
              "    <tr>\n",
              "      <th>0</th>\n",
              "      <td>ANOPESQ</td>\n",
              "      <td>Ano em que a pesquisa foi realizada</td>\n",
              "    </tr>\n",
              "    <tr>\n",
              "      <th>1</th>\n",
              "      <td>PAIS</td>\n",
              "      <td>País</td>\n",
              "    </tr>\n",
              "    <tr>\n",
              "      <th>2</th>\n",
              "      <td>76</td>\n",
              "      <td>Brasil</td>\n",
              "    </tr>\n",
              "    <tr>\n",
              "      <th>3</th>\n",
              "      <td>REGEOGR</td>\n",
              "      <td>Região geográfica</td>\n",
              "    </tr>\n",
              "    <tr>\n",
              "      <th>4</th>\n",
              "      <td>1</td>\n",
              "      <td>Norte</td>\n",
              "    </tr>\n",
              "  </tbody>\n",
              "</table>\n",
              "</div>"
            ],
            "text/plain": [
              "  variavel                   questionario_aluno\n",
              "0  ANOPESQ  Ano em que a pesquisa foi realizada\n",
              "1     PAIS                                 País\n",
              "2       76                               Brasil\n",
              "3  REGEOGR                    Região geográfica\n",
              "4        1                                Norte"
            ]
          },
          "metadata": {
            "tags": []
          },
          "execution_count": 83
        }
      ]
    },
    {
      "cell_type": "code",
      "metadata": {
        "colab": {
          "base_uri": "https://localhost:8080/"
        },
        "id": "f5YsqXKcjiRI",
        "outputId": "9cd4643f-9288-477a-94db-39fd00077e73"
      },
      "source": [
        "#Verificacao dos tipos dos dados\n",
        "questionario_aluno_df.dtypes"
      ],
      "execution_count": null,
      "outputs": [
        {
          "output_type": "execute_result",
          "data": {
            "text/plain": [
              "variavel              object\n",
              "questionario_aluno    object\n",
              "dtype: object"
            ]
          },
          "metadata": {
            "tags": []
          },
          "execution_count": 84
        }
      ]
    },
    {
      "cell_type": "code",
      "metadata": {
        "id": "LW19ckyKjwSy"
      },
      "source": [
        "#Conversao dos tipos para str\n",
        "questionario_aluno_df = questionario_aluno_df.astype('str')"
      ],
      "execution_count": null,
      "outputs": []
    },
    {
      "cell_type": "code",
      "metadata": {
        "colab": {
          "base_uri": "https://localhost:8080/"
        },
        "id": "KeHejVbKj65d",
        "outputId": "a613a0d5-f639-46be-8aa3-93b2fe924ede"
      },
      "source": [
        "questionario_aluno_df.dtypes"
      ],
      "execution_count": null,
      "outputs": [
        {
          "output_type": "execute_result",
          "data": {
            "text/plain": [
              "variavel              object\n",
              "questionario_aluno    object\n",
              "dtype: object"
            ]
          },
          "metadata": {
            "tags": []
          },
          "execution_count": 86
        }
      ]
    },
    {
      "cell_type": "markdown",
      "metadata": {
        "id": "YdReypRvf3DA"
      },
      "source": [
        "Observacoes:\n",
        "\n",
        "No DataFrame o codigo da pergunta vem antes do texto da pergunta;\n",
        "\n",
        "O codigo da pergunta esta com as letras todas em maiusculo;\n",
        "\n",
        "O codigo da pergunta e o numero da opcao de resposta estao na primeira coluna;\n",
        "\n",
        "A pergunta e a opcao de resposta estao na segunda coluna do Data Frame;\n",
        "\n",
        "Objetivo: Selecionar as informacoes do DataFrame e passar para a seguinte estrutura:\n",
        "\n",
        "dicionario = {\n",
        "  pergunta: [codigo, {numero: opcao}],\n",
        "  pergunta: [codigo, {numero: opcao}],\n",
        "  ...}\n",
        "\n",
        "Alternativa 1:\n",
        "\n",
        "Colocar dentro de listas todas as informacoes do Data Frame para depois reordena-las como no modelo acima."
      ]
    },
    {
      "cell_type": "markdown",
      "metadata": {
        "id": "YQ4SVaOnnn8s"
      },
      "source": [
        "####Capturando codigos e descricao das perguntas"
      ]
    },
    {
      "cell_type": "code",
      "metadata": {
        "id": "ql4tfic_it75"
      },
      "source": [
        "#Capturando os codigos das perguntas\n",
        "codigos_perguntas = []\n",
        "descricao_perguntas = []\n",
        "linha = 0\n",
        "\n",
        "for i in questionario_aluno_df['variavel']:\n",
        "  if i.isupper():\n",
        "    codigos_perguntas.append(i)\n",
        "    questionario_aluno_df['questionario_aluno'][linha] = questionario_aluno_df['questionario_aluno'][linha].upper()\n",
        "    descricao_perguntas.append(questionario_aluno_df['questionario_aluno'][linha])\n",
        "  linha += 1  "
      ],
      "execution_count": null,
      "outputs": []
    },
    {
      "cell_type": "code",
      "metadata": {
        "colab": {
          "base_uri": "https://localhost:8080/"
        },
        "id": "qHRak7JAnzWm",
        "outputId": "e308f7f1-89c1-4b54-a0ef-8016b54a2e39"
      },
      "source": [
        "codigos_perguntas[:5]"
      ],
      "execution_count": null,
      "outputs": [
        {
          "output_type": "execute_result",
          "data": {
            "text/plain": [
              "['ANOPESQ', 'PAIS', 'REGEOGR', 'VB00004', 'VB01001']"
            ]
          },
          "metadata": {
            "tags": []
          },
          "execution_count": 88
        }
      ]
    },
    {
      "cell_type": "code",
      "metadata": {
        "colab": {
          "base_uri": "https://localhost:8080/"
        },
        "id": "71XIf3Y-n48m",
        "outputId": "5e46a817-f748-43d2-bb61-f1c07cb88c61"
      },
      "source": [
        "codigos_perguntas[-5:]"
      ],
      "execution_count": null,
      "outputs": [
        {
          "output_type": "execute_result",
          "data": {
            "text/plain": [
              "['PESO', 'V0006', 'V0007', 'V0008', 'V0041']"
            ]
          },
          "metadata": {
            "tags": []
          },
          "execution_count": 89
        }
      ]
    },
    {
      "cell_type": "code",
      "metadata": {
        "colab": {
          "base_uri": "https://localhost:8080/"
        },
        "id": "07mIhhDysTIG",
        "outputId": "ccc0dcb0-66de-4349-ddb9-2d62c22f4f54"
      },
      "source": [
        "descricao_perguntas[:5]"
      ],
      "execution_count": null,
      "outputs": [
        {
          "output_type": "execute_result",
          "data": {
            "text/plain": [
              "['ANO EM QUE A PESQUISA FOI REALIZADA',\n",
              " 'PAÍS',\n",
              " 'REGIÃO GEOGRÁFICA',\n",
              " 'PREZADO(A) ESTUDANTE, VOCÊ CONCORDA EM PARTICIPAR DESSA PESQUISA?',\n",
              " 'QUAL É O SEU SEXO?']"
            ]
          },
          "metadata": {
            "tags": []
          },
          "execution_count": 90
        }
      ]
    },
    {
      "cell_type": "code",
      "metadata": {
        "colab": {
          "base_uri": "https://localhost:8080/"
        },
        "id": "uAtdHp9isYed",
        "outputId": "914266db-e83b-4377-9f96-2774bba550e6"
      },
      "source": [
        "descricao_perguntas[-5:]"
      ],
      "execution_count": null,
      "outputs": [
        {
          "output_type": "execute_result",
          "data": {
            "text/plain": [
              "['PESO DO ALUNO DE ACORDO COM A AMOSTRA, UTILIZADO PARA EXPANSÃO',\n",
              " 'SITUAÇÃO DA ESCOLA',\n",
              " 'DEPENDÊNCIA ADMINISTRATIVA DA ESCOLA',\n",
              " 'ESFERA ADMINISTRATIVA DA ESCOLA',\n",
              " 'TIPO DE ESCOLA PRIVADA']"
            ]
          },
          "metadata": {
            "tags": []
          },
          "execution_count": 91
        }
      ]
    },
    {
      "cell_type": "markdown",
      "metadata": {
        "id": "bSj6Az7z1z1m"
      },
      "source": [
        "######Sumarizando perguntas"
      ]
    },
    {
      "cell_type": "code",
      "metadata": {
        "id": "GuVHNHgu13_s"
      },
      "source": [
        "descricao_perguntas = sintetizando_pergunta_lista(descricao_perguntas)"
      ],
      "execution_count": null,
      "outputs": []
    },
    {
      "cell_type": "code",
      "metadata": {
        "colab": {
          "base_uri": "https://localhost:8080/"
        },
        "id": "uAUpkGZ32Dm4",
        "outputId": "2bab171d-ac1b-4e93-f4bc-25e4f54b043a"
      },
      "source": [
        "descricao_perguntas"
      ],
      "execution_count": null,
      "outputs": [
        {
          "output_type": "execute_result",
          "data": {
            "text/plain": [
              "['PESQUISA_FOI_REALIZADA',\n",
              " 'PAÍS',\n",
              " 'GEOGRÁFICA',\n",
              " 'ESTUDANTE_CONCORDA_EM_PARTICIPAR_DESSA_PESQUISA',\n",
              " 'O_SEU_SEXO',\n",
              " 'COR_OU_RAÇA',\n",
              " 'SUA_IDADE',\n",
              " 'O_MÊS_ANIVERSÁRIO',\n",
              " 'QUE_ANO_VOCÊ_NASCEU',\n",
              " 'QUE_ANO/SÉRIE_VOCÊ_ESTÁ',\n",
              " 'QUE_TURNO_VOCÊ_ESTUDA',\n",
              " 'REGIME_MAIS_HORAS_DIÁRIAS_DURANTE_TODO_O',\n",
              " 'REGIME_INTERNATO_ESCOLA_POSSUI_OS_DORMEM_DIARIAMENTE',\n",
              " 'O_GRAU_QUE_PRETENDO_CONCLUIR',\n",
              " 'TERMINAR_O_CICLO/CURSO_QUE_VOCÊ_FREQUENTANDO_ATUALMENTE',\n",
              " 'MÃE',\n",
              " 'PAI',\n",
              " 'COM_VOCÊ_PESSOAS_MORAM_CASA_APARTAMENTO',\n",
              " 'SUA_CASA_TEM_TELEFONE_FIXO',\n",
              " 'TEM_CELULAR',\n",
              " 'SUA_CASA_TEM_COMPUTADOR_NETBOOK_LAPTOP',\n",
              " 'TEM_ACESSO_INTERNET_EM_SUA_CASA',\n",
              " 'QUE_MORA_TEM_CARRO',\n",
              " 'QUE_MORA_TEM_MOTO',\n",
              " 'COM_CHUVEIRO_TÊM_DENTRO_DA_SUA_CASA',\n",
              " 'EMPREGADO_DOMÉSTICO_RECEBENDO_DINHEIRO_PARA_FAZER_TRABALHO',\n",
              " 'NÍVEL_GRAU_SUA_MÃE_ESTUDOU_ESTUDA',\n",
              " 'TEM_ALGUM_TRABALHO_OU_NEGÓCIO_ATUALMENTE',\n",
              " 'RECEBE_DINHEIRO_POR_ESTE_TRABALHO_OU_NEGÓCIO',\n",
              " 'COSTUMA_TOMAR_O_CAFÉ_DA_MANHÃ',\n",
              " 'COSTUMA_ALMOÇAR_JANTAR_COM_SUA_MÃE_PAI',\n",
              " 'COSTUMA_COMER_QUANDO_ASSISTINDO_TV_OU_ESTUDANDO',\n",
              " 'COMIDA_ESCOLAR/ALMOÇO_AOS_DA_SUA_TURMA_CONSIDERAR',\n",
              " 'COSTUMA_COMER_COMIDA_MERENDA/ALMOÇO_OFERECIDA_PELA_ESCOLA',\n",
              " 'COMEU_FEIJÃO',\n",
              " 'COMEU_SALGADOS_FRITOS_EXEMPLO_BATATA_FRITA_CONTAR',\n",
              " 'COMEU_PELO_TIPO_VERDURA_EXEMPLOS_ALFACE_ABÓBORA',\n",
              " 'COMEU_GULOSEIMAS_PIRULITOS',\n",
              " 'COMEU_SALADA',\n",
              " 'TOMOU_REFRIGERANTE',\n",
              " 'COMEU_SALGADOS_COMO_HAMBÚRGUER_PRESUNTO_MORTADELA_SALAME',\n",
              " 'COMEU_EM_FOOD_TAIS_COMO',\n",
              " 'COM_QUE_FREQUÊNCIA_VOCÊ_FICOU_COM_POR',\n",
              " 'DIA_VOCÊ_COMEU_SALADA',\n",
              " 'DIA_VOCÊ_COMEU_COMO_ALFACE_ABÓBORA_BRÓCOLIS',\n",
              " 'DIA_VOCÊ_TOMOU_REFRIGERANTE',\n",
              " 'FOI_OU_ESCOLA',\n",
              " 'VOCÊ_VAI_ESCOLA_OU_BICICLETA_VOCÊ_GASTA',\n",
              " 'PÉ_OU_DA_ESCOLA',\n",
              " 'VOCÊ_VOLTA_DA_OU_BICICLETA_VOCÊ_GASTA',\n",
              " '',\n",
              " 'POR_DIA_VOCÊ_FEZ_ATIVIDADE_FÍSICA_DURANTE',\n",
              " 'CONTAR_AULAS_DA_ESCOLA_QUANTOS_DIAS_PRATICOU',\n",
              " 'QUANTO_TEMPO_POR_DIA_DURAM_ESSAS_COMO',\n",
              " 'FEZ_ATIVIDADE_FÍSICA_POR_PELO_HORA_POR',\n",
              " 'AO_TEMPO_MÉDIO_DIÁRIO_ACUMULADO_PELO_ESCOLAR',\n",
              " 'AO_TEMPO_MÉDIO_ACUMULADO_SETE_DIAS_PESQUISA',\n",
              " 'AO_TEMPO_MÉDIO_DIÁRIO_ACUMULADO_PELO_COM',\n",
              " 'ATIVIDADE_FÍSICA_FOI_ESTIMADA_CALCULANDO_PRODUTO_ENTRE',\n",
              " 'ATIVIDADE_FÍSICA_GLOBALMENTE_AO_NÚMERO_OS_FAZER',\n",
              " 'VOCÊ_TIVESSE_OPORTUNIDADE_ATIVIDADE_FÍSICA_DA_SEMANA',\n",
              " 'DIA_COMUM_VOCÊ_ASSISTE_TV_CONTAR_SÁBADO',\n",
              " 'DIA_COMUM_VOCÊ_FICA_SENTADO_TELEVISÃO_COMPUTADOR',\n",
              " 'VEZ_NA_VIDA_JÁ_FUMOU_CIGARRO_OU',\n",
              " 'TINHA_QUANDO_EXPERIMENTOU_FUMAR_CIGARRO_PELA_PRIMEIRA',\n",
              " 'FUMOU',\n",
              " 'GERAL_COMO_VOCÊ_CONSEGUIU_SEUS',\n",
              " 'VENDER_CAUSA_IDADE',\n",
              " 'TABACO_CIGARROS_MÃO_CHARUTO_CACHIMBO_CIGARRILHA_INDIANO',\n",
              " 'OUTRO_PRODUTO_COM_MAIS_FREQUÊNCIA_DIAS',\n",
              " 'FUMARAM_PRESENÇA',\n",
              " 'RESPONSÁVEIS_FUMA',\n",
              " 'VEZ_VIDA_VOCÊ_TOMOU_DOSE_ALCOÓLICA_LATA',\n",
              " 'TINHA_QUANDO_PRIMEIRA_DOSE_ALCOÓLICA_LATA_CERVEJA',\n",
              " 'TOMOU_PELO_COPO_OU_DOSE_ALCOÓLICA_LATA',\n",
              " 'DIAS_EM_QUE_VOCÊ_TOMOU_ALGUMA_BEBIDA',\n",
              " 'COMO_VOCÊ_BEBIDA_QUE_TOMOU',\n",
              " 'SUA_VIDA_TANTO_QUE_FICOU_REALMENTE_BÊBADO',\n",
              " 'SUA_VIDA_PROBLEMAS_COM_SUA_FAMÍLIA_OU',\n",
              " 'CONSOMEM_BEBIDA_ALCOÓLICA',\n",
              " 'VEZ_NA_VIDA_JÁ_DROGA-COMO_MACONHA_COCAÍNA',\n",
              " 'TINHA_QUANDO_DROGA_COMO_MACONHA_COCAÍNA_CRACK',\n",
              " 'DROGA_COMO_MACONHA_COCAÍNA_CRACK_COLA_LOLÓ',\n",
              " 'MACONHA',\n",
              " 'CRACK',\n",
              " 'DROGAS',\n",
              " 'FALTOU_ESCOLA_SEM_PERMISSÃO_DOS_SEUS_PAIS',\n",
              " 'COM_QUE_FREQUÊNCIA_SEUS_PAIS_OU_RESPONSÁVEIS',\n",
              " 'COM_QUE_FREQUÊNCIA_SEUS_PAIS_OU_RESPONSÁVEIS',\n",
              " 'COM_QUE_FREQUÊNCIA_SEUS_PAIS_OU_RESPONSÁVEIS',\n",
              " 'COM_QUE_FREQUÊNCIA_SEUS_PAIS_OU_RESPONSÁVEIS',\n",
              " 'COM_QUE_FREQUÊNCIA_COLEGAS_TRATARAM_VOCÊ_BEM',\n",
              " 'COM_QUE_FREQUÊNCIA_ALGUM_DOS_SEUS_COLEGAS',\n",
              " 'O_MOTIVO/CAUSA_COLEGAS_TEREM_TE_ESCULACHADO_ZOMBADO',\n",
              " 'VOCÊ_ESCULACHOU_ZOMBOU_MANGOU_OU_CAÇOOU_ALGUM',\n",
              " 'JÁ_SOFREU_BULLYING',\n",
              " 'TEM_SENTIDO_SOZINHO',\n",
              " 'COM_QUE_FREQUÊNCIA_VOCÊ_CONSEGUIU_DORMIR_O',\n",
              " 'AMIGOS_PRÓXIMOS_VOCÊ_TEM',\n",
              " 'JÁ_TEVE_RELAÇÃO_TRANSOU_ALGUMA_VEZ',\n",
              " 'TINHA_QUANDO_RELAÇÃO_TRANSOU_PELA_PRIMEIRA_VEZ',\n",
              " 'PRESERVATIVO_RELAÇÃO',\n",
              " 'SUA_VIDA_COM_RELAÇÕES_SEXUAIS_TRANSOU',\n",
              " 'VEZ_QUE_VOCÊ_RELAÇÃO_TRANSOU_OU_SEU',\n",
              " 'VEZ_QUE_VOCÊ_RELAÇÃO_TRANSOU_OU_SEU',\n",
              " 'VEZ_QUE_VOCÊ_RELAÇÃO_TRANSOU_OU_SEU',\n",
              " 'VEZ_QUE_VOCÊ_RELAÇÃO_TRANSOU_OUTRO_MÉTODO',\n",
              " 'VEZ_VIDA_VOCÊ_ENGRAVIDOU',\n",
              " 'ESCOLA_JÁ_RECEBEU_ORIENTAÇÃO_PREVENÇÃO',\n",
              " 'ESCOLA_JÁ_RECEBEU_ORIENTAÇÃO_SOBRE_DOENÇAS_SEXUALMENTE',\n",
              " 'ESCOLA_JÁ_RECEBEU_ORIENTAÇÃO_SOBRE_COMO_CONSEGUIR',\n",
              " 'COM_QUE_FREQUÊNCIA_VOCÊ_LAVOU_COMER',\n",
              " 'COM_QUE_FREQUÊNCIA_VOCÊ_LAVOU_MÃOS_APÓS',\n",
              " 'COM_QUE_FREQUÊNCIA_VOCÊ_SABÃO_OU_QUANDO',\n",
              " 'DIA_VOCÊ_ESCOVOU_OS',\n",
              " 'DOR_DOR_APARELHO',\n",
              " 'FOI_AO_DENTISTA',\n",
              " 'DEIXOU_PORQUE_CAMINHO_ESCOLA_OU_DA_ESCOLA',\n",
              " 'FOI_ESCOLA_PORQUE_SENTIA_SEGURO',\n",
              " 'COM_QUE_FREQUÊNCIA_VOCÊ_CINTO_COMO_PASSAGEIRO',\n",
              " 'COM_QUE_FREQUÊNCIA_VOCÊ_CINTO_COMO_PASSAGEIRO',\n",
              " 'COM_QUE_FREQUÊNCIA_VOCÊ_AO_ANDAR',\n",
              " 'DIRIGIU_VEÍCULO_MOTORIZADO_CARRO_MOTOCICLETA_VOADEIRA_BARCO',\n",
              " 'ANDOU_EM_CARRO_DIRIGIDO_POR_ALGUÉM_QUE',\n",
              " 'FOI_AGREDIDO_FISICAMENTE_POR_ADULTO_DA_SUA',\n",
              " 'ENVOLVIDO_EM_BRIGA_EM_QUE_ALGUMA_PESSOA',\n",
              " 'ENVOLVIDO_EM_BRIGA_EM_QUE_ALGUMA_PESSOA',\n",
              " 'FOI_AGREDIDO_FISICAMENTE',\n",
              " 'SE_ENVOLVEU_EM_BRIGA_LUTA_FÍSICA',\n",
              " 'FOI_SERIAMENTE_FERIDO',\n",
              " 'FOI_O_FERIMENTO_MAIS_SÉRIA_QUE_ACONTECEU',\n",
              " 'FOI_CAUSA_LESÃO_MAIS_SÉRIA_QUE_ACONTECEU',\n",
              " 'E_MACHUCOU',\n",
              " 'VEZ_VIDA_VOCÊ_FOI_TER_RELAÇÃO',\n",
              " 'NAMORADO_/EX-NAMORADO_FORÇOU_TER_RELAÇÃO',\n",
              " 'AMIGO_FORÇOU_TER_RELAÇÃO',\n",
              " 'PAI/MÃE/PADASTRO/MADRASTA_FORÇOU_TER_RELAÇÃO',\n",
              " 'TER_RELAÇÃO',\n",
              " 'DESCONHECIDO_FORÇOU_TER_RELAÇÃO',\n",
              " 'PESSOAS_FORÇARAM_TER_RELAÇÃO',\n",
              " 'VOCÊ_CLASSIFICARIA_ESTADO',\n",
              " 'FALTOU_ESCOLA_POR_MOTIVO_RELACIONADO_SUA_SAÚDE',\n",
              " 'ALGUM_SERVIÇO_RELACIONADO_PRÓPRIA_SAÚDE',\n",
              " 'FOI_SERVIÇO_VOCÊ_PROCUROU_COM_MAIS_FREQUÊNCIA',\n",
              " 'FOI_ATENDIDO_VEZ_QUE_PROCUROU_ALGUMA_BÁSICA',\n",
              " 'FOI_O_MOTIVO_DA_SUA_PROCURA_BÁSICA',\n",
              " 'CONHECE/OUVIU_SOBRE_CAMPANHA_VÍRUS_HPV',\n",
              " 'FOI_VACINADA_VÍRUS_HPV',\n",
              " 'CHIADO_PIADO_PEITO',\n",
              " 'ASMA_ALGUMA_VEZ_VIDA',\n",
              " 'CONSIDERA_SUA_COMO_SENDO_ALGO',\n",
              " 'VOCÊ_SE_SENTE_RELAÇÃO_AO_SEU_CORPO',\n",
              " 'AO_SEU_CORPO_CONSIDERA',\n",
              " 'QUE_VOCÊ_FAZENDO_EM_SEU_PESO',\n",
              " 'TOMOU_PERDER_PESO_EVITAR_GANHAR_PESO',\n",
              " 'TOMOU_ALGUM_REMÉDIO_FÓRMULA_PRODUTO_PARA_PERDER',\n",
              " 'TOMOU_ALGUM_REMÉDIO_FÓRMULA_PRODUTO_PARA_GANHAR',\n",
              " 'ESTE_QUESTIONÁRIO_FÁCIL',\n",
              " 'ESTE_QUESTIONÁRIO_DIFÍCIL',\n",
              " 'ESTE_QUESTIONÁRIO_CHATO',\n",
              " 'ESTE_QUESTIONÁRIO',\n",
              " 'ESTE_QUESTIONÁRIO_INTERESSANTE',\n",
              " 'ESTE_QUESTIONÁRIO_INFORMATIVO',\n",
              " 'ESTE_QUESTIONÁRIO_CANSATIVO',\n",
              " 'ESTE_QUESTIONÁRIO_CONSTRANGEDOR',\n",
              " 'O_PESO_ALUNO',\n",
              " 'ALTURA_DO_ALUNO',\n",
              " 'OS_IMPUTADOS_COM_CASA_DECIMAL',\n",
              " 'OS_IMPUTADOS_COM_CASA_DECIMAL',\n",
              " 'IDENTIFICADORA_SE_HOUVE_PESO',\n",
              " 'ONDE_DÉFICIT_PESO=1',\n",
              " 'GEOREG',\n",
              " '',\n",
              " 'AMOSTRA_PARA_EXPANSÃO',\n",
              " 'DA_ESCOLA',\n",
              " 'ADMINISTRATIVA_DA_ESCOLA',\n",
              " 'ADMINISTRATIVA_DA_ESCOLA',\n",
              " 'PRIVADA']"
            ]
          },
          "metadata": {
            "tags": []
          },
          "execution_count": 93
        }
      ]
    },
    {
      "cell_type": "markdown",
      "metadata": {
        "id": "gm7xwRKWonpg"
      },
      "source": [
        "####Capturando opcoes de resposta"
      ]
    },
    {
      "cell_type": "code",
      "metadata": {
        "id": "m_1_tX4bow09"
      },
      "source": [
        "opcoes_resposta = []\n",
        "linha = 0\n",
        "\n",
        "for i in questionario_aluno_df['variavel']:\n",
        "  if i.isdigit() or i == '-1' or i == '0 a 2999':\n",
        "    opcoes_resposta.append(i)\n",
        "    opcoes_resposta.append(questionario_aluno_df['questionario_aluno'][linha])\n",
        "  linha += 1"
      ],
      "execution_count": null,
      "outputs": []
    },
    {
      "cell_type": "code",
      "metadata": {
        "colab": {
          "base_uri": "https://localhost:8080/"
        },
        "id": "__W6720nE2TX",
        "outputId": "64accea3-78a7-457f-9b87-4570aacba933"
      },
      "source": [
        "opcoes_resposta[:5]"
      ],
      "execution_count": null,
      "outputs": [
        {
          "output_type": "execute_result",
          "data": {
            "text/plain": [
              "['76', 'Brasil', '1', 'Norte', '2']"
            ]
          },
          "metadata": {
            "tags": []
          },
          "execution_count": 95
        }
      ]
    },
    {
      "cell_type": "code",
      "metadata": {
        "colab": {
          "base_uri": "https://localhost:8080/"
        },
        "id": "d3c68aAOGI53",
        "outputId": "eddcd4d2-e9b2-436f-e222-23c90dcdec5d"
      },
      "source": [
        "opcoes_resposta[-5:]"
      ],
      "execution_count": null,
      "outputs": [
        {
          "output_type": "execute_result",
          "data": {
            "text/plain": [
              "['Comunitária', '3', 'Confessional', '4', 'Filantrópica']"
            ]
          },
          "metadata": {
            "tags": []
          },
          "execution_count": 96
        }
      ]
    },
    {
      "cell_type": "markdown",
      "metadata": {
        "id": "dG7vYHFlGPDW"
      },
      "source": [
        "#### Reordenando as informacoes no dicionario\n",
        "\n",
        "Modelo: dicionario = {\n",
        "  pergunta: [codigo, {numero: opcao}],\n",
        "  pergunta: [codigo, {numero: opcao}],\n",
        "  ...}\n",
        "\n",
        "modelo: dicionario_variaveis = {\n",
        "  descricao_perguntas: [codigos_perguntas, {opcoes_resposta[0]: opcoes_resposta[1]}\n",
        "\n",
        "Percorrer a primeira coluna do DataFrame com as informacoes do dicionario de variaveis para selecionar as informacoes das listas."
      ]
    },
    {
      "cell_type": "markdown",
      "metadata": {
        "id": "nyd69eAtkRFc"
      },
      "source": [
        "#####As tres ultimas linhas foram ignoradas na captura das listas"
      ]
    },
    {
      "cell_type": "code",
      "metadata": {
        "colab": {
          "base_uri": "https://localhost:8080/",
          "height": 202
        },
        "id": "oT-LQYBygzlS",
        "outputId": "bbfa2e10-2180-4e88-89e2-f3d916a95c2a"
      },
      "source": [
        "questionario_aluno_df.tail()"
      ],
      "execution_count": null,
      "outputs": [
        {
          "output_type": "execute_result",
          "data": {
            "text/html": [
              "<div>\n",
              "<style scoped>\n",
              "    .dataframe tbody tr th:only-of-type {\n",
              "        vertical-align: middle;\n",
              "    }\n",
              "\n",
              "    .dataframe tbody tr th {\n",
              "        vertical-align: top;\n",
              "    }\n",
              "\n",
              "    .dataframe thead th {\n",
              "        text-align: right;\n",
              "    }\n",
              "</style>\n",
              "<table border=\"1\" class=\"dataframe\">\n",
              "  <thead>\n",
              "    <tr style=\"text-align: right;\">\n",
              "      <th></th>\n",
              "      <th>variavel</th>\n",
              "      <th>questionario_aluno</th>\n",
              "    </tr>\n",
              "  </thead>\n",
              "  <tbody>\n",
              "    <tr>\n",
              "      <th>1213</th>\n",
              "      <td>3</td>\n",
              "      <td>Confessional</td>\n",
              "    </tr>\n",
              "    <tr>\n",
              "      <th>1214</th>\n",
              "      <td>4</td>\n",
              "      <td>Filantrópica</td>\n",
              "    </tr>\n",
              "    <tr>\n",
              "      <th>1215</th>\n",
              "      <td>aluno</td>\n",
              "      <td>contador de aluno</td>\n",
              "    </tr>\n",
              "    <tr>\n",
              "      <th>1216</th>\n",
              "      <td>escola</td>\n",
              "      <td>UPA (unidade primária de amostragem)</td>\n",
              "    </tr>\n",
              "    <tr>\n",
              "      <th>1217</th>\n",
              "      <td>turma</td>\n",
              "      <td>USA (unidade secundária de amostragem)</td>\n",
              "    </tr>\n",
              "  </tbody>\n",
              "</table>\n",
              "</div>"
            ],
            "text/plain": [
              "     variavel                      questionario_aluno\n",
              "1213        3                            Confessional\n",
              "1214        4                            Filantrópica\n",
              "1215    aluno                       contador de aluno\n",
              "1216   escola    UPA (unidade primária de amostragem)\n",
              "1217    turma  USA (unidade secundária de amostragem)"
            ]
          },
          "metadata": {
            "tags": []
          },
          "execution_count": 97
        }
      ]
    },
    {
      "cell_type": "markdown",
      "metadata": {
        "id": "5dnGbOLakmMf"
      },
      "source": [
        "##### Dicionario de variaveis"
      ]
    },
    {
      "cell_type": "code",
      "metadata": {
        "id": "u4cq5N2TgYni"
      },
      "source": [
        "\n",
        "dicionario_variaveis = {}\n",
        "\n",
        "\n",
        "item_descricao_pergunta = item_codigo_pergunta = item_opcao_resposta = 0\n",
        "\n",
        "for i in questionario_aluno_df['variavel'][:-3]:\n",
        "  if i.isupper():\n",
        "    dicionario_variaveis[descricao_perguntas[item_descricao_pergunta]] = [codigos_perguntas[item_codigo_pergunta]]\n",
        "    dicionario_variaveis[descricao_perguntas[item_descricao_pergunta]].append(dict())\n",
        "    item_descricao_pergunta += 1\n",
        "    item_codigo_pergunta += 1\n",
        "  else:\n",
        "    dicionario_variaveis[descricao_perguntas[item_descricao_pergunta - 1]][1].update({\n",
        "    opcoes_resposta[item_opcao_resposta]: opcoes_resposta[item_opcao_resposta + 1]})\n",
        "    item_opcao_resposta += 2"
      ],
      "execution_count": null,
      "outputs": []
    },
    {
      "cell_type": "code",
      "metadata": {
        "colab": {
          "base_uri": "https://localhost:8080/"
        },
        "id": "T_Q5yUEKCPyq",
        "outputId": "f447332b-361a-4e58-f60b-5be87cbc84e8"
      },
      "source": [
        "dicionario_variaveis['COMEU_FEIJÃO']"
      ],
      "execution_count": null,
      "outputs": [
        {
          "output_type": "execute_result",
          "data": {
            "text/plain": [
              "['VB02001',\n",
              " {'1': 'Não comi feijão nos últimos 7 dias (0 dia)',\n",
              "  '2': '1 dia nos últimos 7 dias ',\n",
              "  '3': '2 dias nos últimos 7 dias ',\n",
              "  '4': '3 dias nos últimos 7 dias ',\n",
              "  '5': '4 dias nos últimos 7 dias ',\n",
              "  '6': '5 dias nos últimos 7 dias ',\n",
              "  '7': '6 dias nos últimos 7 dias ',\n",
              "  '8': 'Todos os dias nos últimos 7 dias',\n",
              "  '99': 'Não informado'}]"
            ]
          },
          "metadata": {
            "tags": []
          },
          "execution_count": 103
        }
      ]
    },
    {
      "cell_type": "markdown",
      "metadata": {
        "id": "DRqGQXfm3Sju"
      },
      "source": [
        "A sumarização das perguntas em alguns casos dificulta o entendimento ou muda o sentido da questão."
      ]
    }
  ]
}