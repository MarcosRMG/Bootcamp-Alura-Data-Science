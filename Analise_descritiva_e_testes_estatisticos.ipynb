{
  "nbformat": 4,
  "nbformat_minor": 0,
  "metadata": {
    "colab": {
      "name": "Analise descritiva e testes estatisticos",
      "provenance": [],
      "collapsed_sections": [],
      "toc_visible": true,
      "mount_file_id": "19iXtlZVYrjCrvbtaGirr8vn81E65e-zV",
      "authorship_tag": "ABX9TyPoWbFfVgodCF+kNsBu2kSO",
      "include_colab_link": true
    },
    "kernelspec": {
      "name": "python3",
      "display_name": "Python 3"
    }
  },
  "cells": [
    {
      "cell_type": "markdown",
      "metadata": {
        "id": "view-in-github",
        "colab_type": "text"
      },
      "source": [
        "<a href=\"https://colab.research.google.com/github/MarcosRMG/Bootecamp-Alura-Data-Science/blob/main/Analise_descritiva_e_testes_estatisticos.ipynb\" target=\"_parent\"><img src=\"https://colab.research.google.com/assets/colab-badge.svg\" alt=\"Open In Colab\"/></a>"
      ]
    },
    {
      "cell_type": "markdown",
      "metadata": {
        "id": "9cw8V9rZcr6_"
      },
      "source": [
        "#Educação, saúde e tipos de dados"
      ]
    },
    {
      "cell_type": "markdown",
      "metadata": {
        "id": "_DtHsrhiR5VC"
      },
      "source": [
        "##Bibliotecas"
      ]
    },
    {
      "cell_type": "code",
      "metadata": {
        "id": "E3SvZW5KwRzF"
      },
      "source": [
        "import pandas as pd\n",
        "from zipfile import ZipFile\n",
        "import seaborn as sns\n",
        "import numpy as np\n",
        "import plotly.graph_objects as go\n",
        "import matplotlib.pyplot as plt"
      ],
      "execution_count": 1,
      "outputs": []
    },
    {
      "cell_type": "code",
      "metadata": {
        "id": "oT5HwE5Xv68T"
      },
      "source": [
        "caminho_drive = '/content/drive/MyDrive/Data Science/Bootcamp/Modulo 3/PeNSE_2015_AMOSTRA2.zip'\n",
        "\n",
        "zip = ZipFile(caminho_drive)\n",
        "caminho_zip = zip.namelist()[1]\n",
        "\n",
        "dados = pd.read_csv(zip.open(caminho_zip), sep=';', decimal=',')"
      ],
      "execution_count": 2,
      "outputs": []
    },
    {
      "cell_type": "code",
      "metadata": {
        "colab": {
          "base_uri": "https://localhost:8080/",
          "height": 35
        },
        "id": "SfiPTpOTw_KI",
        "outputId": "24abc457-4152-48bb-d242-3c391f688252"
      },
      "source": [
        "zip.namelist()[1]"
      ],
      "execution_count": 3,
      "outputs": [
        {
          "output_type": "execute_result",
          "data": {
            "application/vnd.google.colaboratory.intrinsic+json": {
              "type": "string"
            },
            "text/plain": [
              "'arquivos csv/PENSE_AMOSTRA2_ALUNO.CSV'"
            ]
          },
          "metadata": {
            "tags": []
          },
          "execution_count": 3
        }
      ]
    },
    {
      "cell_type": "code",
      "metadata": {
        "colab": {
          "base_uri": "https://localhost:8080/",
          "height": 251
        },
        "id": "qKPRrE75x2Gx",
        "outputId": "874d240c-416e-4301-e590-bda1816943d9"
      },
      "source": [
        "dados.head()"
      ],
      "execution_count": 4,
      "outputs": [
        {
          "output_type": "execute_result",
          "data": {
            "text/html": [
              "<div>\n",
              "<style scoped>\n",
              "    .dataframe tbody tr th:only-of-type {\n",
              "        vertical-align: middle;\n",
              "    }\n",
              "\n",
              "    .dataframe tbody tr th {\n",
              "        vertical-align: top;\n",
              "    }\n",
              "\n",
              "    .dataframe thead th {\n",
              "        text-align: right;\n",
              "    }\n",
              "</style>\n",
              "<table border=\"1\" class=\"dataframe\">\n",
              "  <thead>\n",
              "    <tr style=\"text-align: right;\">\n",
              "      <th></th>\n",
              "      <th>ANOPESQ</th>\n",
              "      <th>PAIS</th>\n",
              "      <th>REGEOGR</th>\n",
              "      <th>VB00004</th>\n",
              "      <th>VB01001</th>\n",
              "      <th>VB01002</th>\n",
              "      <th>VB01003</th>\n",
              "      <th>VB01004</th>\n",
              "      <th>VB01005</th>\n",
              "      <th>VB01006</th>\n",
              "      <th>VB01007</th>\n",
              "      <th>VB01008A</th>\n",
              "      <th>VB01010A</th>\n",
              "      <th>VB01011</th>\n",
              "      <th>VB01012</th>\n",
              "      <th>VB01013</th>\n",
              "      <th>VB01014</th>\n",
              "      <th>VB01015A</th>\n",
              "      <th>VB01016</th>\n",
              "      <th>VB01017</th>\n",
              "      <th>VB01018</th>\n",
              "      <th>VB01019</th>\n",
              "      <th>VB01020A</th>\n",
              "      <th>VB01021</th>\n",
              "      <th>VB01022</th>\n",
              "      <th>VB01023</th>\n",
              "      <th>VB01024</th>\n",
              "      <th>VB01025</th>\n",
              "      <th>VB01026</th>\n",
              "      <th>VB02001</th>\n",
              "      <th>VB02002</th>\n",
              "      <th>VB02004A</th>\n",
              "      <th>VB02010</th>\n",
              "      <th>VB02011</th>\n",
              "      <th>VB02013</th>\n",
              "      <th>VB02017A</th>\n",
              "      <th>VB02018A</th>\n",
              "      <th>VB02019A</th>\n",
              "      <th>VB02020A</th>\n",
              "      <th>VB02021</th>\n",
              "      <th>...</th>\n",
              "      <th>VB11005</th>\n",
              "      <th>VB11006</th>\n",
              "      <th>VB11007</th>\n",
              "      <th>VB12001</th>\n",
              "      <th>VB12002</th>\n",
              "      <th>VB12003</th>\n",
              "      <th>VB13001</th>\n",
              "      <th>VB13002A</th>\n",
              "      <th>VB13004A</th>\n",
              "      <th>VB13005</th>\n",
              "      <th>VB13006</th>\n",
              "      <th>VB13007</th>\n",
              "      <th>VB13008</th>\n",
              "      <th>VB13009</th>\n",
              "      <th>VB14001</th>\n",
              "      <th>VB14002</th>\n",
              "      <th>VB16001A01</th>\n",
              "      <th>VB16001A02</th>\n",
              "      <th>VB16001A03</th>\n",
              "      <th>VB16001A04</th>\n",
              "      <th>VB16001A05</th>\n",
              "      <th>VB16001A06</th>\n",
              "      <th>VB16001A07</th>\n",
              "      <th>VB16001A08</th>\n",
              "      <th>VB17001</th>\n",
              "      <th>VB17002</th>\n",
              "      <th>VB17003</th>\n",
              "      <th>VB17004</th>\n",
              "      <th>VB17005</th>\n",
              "      <th>VB17006</th>\n",
              "      <th>ESTRATO_EXP</th>\n",
              "      <th>ESTRATOGEOREG</th>\n",
              "      <th>PESO</th>\n",
              "      <th>V0006</th>\n",
              "      <th>V0007</th>\n",
              "      <th>V0008</th>\n",
              "      <th>V0041</th>\n",
              "      <th>aluno</th>\n",
              "      <th>escola</th>\n",
              "      <th>turma</th>\n",
              "    </tr>\n",
              "  </thead>\n",
              "  <tbody>\n",
              "    <tr>\n",
              "      <th>0</th>\n",
              "      <td>2015</td>\n",
              "      <td>76</td>\n",
              "      <td>1</td>\n",
              "      <td>1</td>\n",
              "      <td>2</td>\n",
              "      <td>1</td>\n",
              "      <td>13</td>\n",
              "      <td>7</td>\n",
              "      <td>7</td>\n",
              "      <td>1</td>\n",
              "      <td>2</td>\n",
              "      <td>7</td>\n",
              "      <td>3</td>\n",
              "      <td>2</td>\n",
              "      <td>-1</td>\n",
              "      <td>1</td>\n",
              "      <td>1</td>\n",
              "      <td>1</td>\n",
              "      <td>1</td>\n",
              "      <td>1</td>\n",
              "      <td>2</td>\n",
              "      <td>4</td>\n",
              "      <td>2</td>\n",
              "      <td>4</td>\n",
              "      <td>1</td>\n",
              "      <td>2</td>\n",
              "      <td>2</td>\n",
              "      <td>5</td>\n",
              "      <td>1</td>\n",
              "      <td>8</td>\n",
              "      <td>3</td>\n",
              "      <td>4</td>\n",
              "      <td>3</td>\n",
              "      <td>6</td>\n",
              "      <td>6</td>\n",
              "      <td>1</td>\n",
              "      <td>6</td>\n",
              "      <td>1</td>\n",
              "      <td>-1</td>\n",
              "      <td>2</td>\n",
              "      <td>...</td>\n",
              "      <td>2</td>\n",
              "      <td>1</td>\n",
              "      <td>2</td>\n",
              "      <td>1</td>\n",
              "      <td>1</td>\n",
              "      <td>4</td>\n",
              "      <td>2</td>\n",
              "      <td>-1</td>\n",
              "      <td>3</td>\n",
              "      <td>1</td>\n",
              "      <td>1</td>\n",
              "      <td>-1</td>\n",
              "      <td>1</td>\n",
              "      <td>1</td>\n",
              "      <td>2</td>\n",
              "      <td>2</td>\n",
              "      <td>1</td>\n",
              "      <td>2</td>\n",
              "      <td>2</td>\n",
              "      <td>2</td>\n",
              "      <td>2</td>\n",
              "      <td>2</td>\n",
              "      <td>2</td>\n",
              "      <td>2</td>\n",
              "      <td>371.0</td>\n",
              "      <td>1570.0</td>\n",
              "      <td>37.1</td>\n",
              "      <td>157.0</td>\n",
              "      <td>2</td>\n",
              "      <td>1</td>\n",
              "      <td>1223</td>\n",
              "      <td>1</td>\n",
              "      <td>299.735235</td>\n",
              "      <td>1</td>\n",
              "      <td>2</td>\n",
              "      <td>4</td>\n",
              "      <td>1</td>\n",
              "      <td>1</td>\n",
              "      <td>1</td>\n",
              "      <td>296</td>\n",
              "    </tr>\n",
              "    <tr>\n",
              "      <th>1</th>\n",
              "      <td>2015</td>\n",
              "      <td>76</td>\n",
              "      <td>1</td>\n",
              "      <td>1</td>\n",
              "      <td>2</td>\n",
              "      <td>1</td>\n",
              "      <td>14</td>\n",
              "      <td>4</td>\n",
              "      <td>7</td>\n",
              "      <td>1</td>\n",
              "      <td>1</td>\n",
              "      <td>7</td>\n",
              "      <td>3</td>\n",
              "      <td>2</td>\n",
              "      <td>-1</td>\n",
              "      <td>1</td>\n",
              "      <td>1</td>\n",
              "      <td>1</td>\n",
              "      <td>1</td>\n",
              "      <td>1</td>\n",
              "      <td>2</td>\n",
              "      <td>2</td>\n",
              "      <td>2</td>\n",
              "      <td>4</td>\n",
              "      <td>1</td>\n",
              "      <td>2</td>\n",
              "      <td>2</td>\n",
              "      <td>5</td>\n",
              "      <td>3</td>\n",
              "      <td>8</td>\n",
              "      <td>2</td>\n",
              "      <td>1</td>\n",
              "      <td>8</td>\n",
              "      <td>8</td>\n",
              "      <td>6</td>\n",
              "      <td>1</td>\n",
              "      <td>1</td>\n",
              "      <td>5</td>\n",
              "      <td>-1</td>\n",
              "      <td>2</td>\n",
              "      <td>...</td>\n",
              "      <td>2</td>\n",
              "      <td>3</td>\n",
              "      <td>2</td>\n",
              "      <td>4</td>\n",
              "      <td>4</td>\n",
              "      <td>4</td>\n",
              "      <td>1</td>\n",
              "      <td>2</td>\n",
              "      <td>3</td>\n",
              "      <td>3</td>\n",
              "      <td>1</td>\n",
              "      <td>-1</td>\n",
              "      <td>1</td>\n",
              "      <td>1</td>\n",
              "      <td>2</td>\n",
              "      <td>2</td>\n",
              "      <td>2</td>\n",
              "      <td>2</td>\n",
              "      <td>2</td>\n",
              "      <td>1</td>\n",
              "      <td>2</td>\n",
              "      <td>2</td>\n",
              "      <td>2</td>\n",
              "      <td>2</td>\n",
              "      <td>502.0</td>\n",
              "      <td>1520.0</td>\n",
              "      <td>50.2</td>\n",
              "      <td>152.0</td>\n",
              "      <td>2</td>\n",
              "      <td>2</td>\n",
              "      <td>1223</td>\n",
              "      <td>1</td>\n",
              "      <td>355.170081</td>\n",
              "      <td>1</td>\n",
              "      <td>2</td>\n",
              "      <td>4</td>\n",
              "      <td>1</td>\n",
              "      <td>2</td>\n",
              "      <td>1</td>\n",
              "      <td>296</td>\n",
              "    </tr>\n",
              "    <tr>\n",
              "      <th>2</th>\n",
              "      <td>2015</td>\n",
              "      <td>76</td>\n",
              "      <td>1</td>\n",
              "      <td>1</td>\n",
              "      <td>1</td>\n",
              "      <td>4</td>\n",
              "      <td>13</td>\n",
              "      <td>6</td>\n",
              "      <td>7</td>\n",
              "      <td>1</td>\n",
              "      <td>1</td>\n",
              "      <td>5</td>\n",
              "      <td>5</td>\n",
              "      <td>2</td>\n",
              "      <td>-1</td>\n",
              "      <td>2</td>\n",
              "      <td>1</td>\n",
              "      <td>1</td>\n",
              "      <td>1</td>\n",
              "      <td>1</td>\n",
              "      <td>2</td>\n",
              "      <td>3</td>\n",
              "      <td>1</td>\n",
              "      <td>4</td>\n",
              "      <td>1</td>\n",
              "      <td>2</td>\n",
              "      <td>2</td>\n",
              "      <td>5</td>\n",
              "      <td>3</td>\n",
              "      <td>2</td>\n",
              "      <td>3</td>\n",
              "      <td>1</td>\n",
              "      <td>8</td>\n",
              "      <td>2</td>\n",
              "      <td>8</td>\n",
              "      <td>1</td>\n",
              "      <td>1</td>\n",
              "      <td>5</td>\n",
              "      <td>5</td>\n",
              "      <td>1</td>\n",
              "      <td>...</td>\n",
              "      <td>2</td>\n",
              "      <td>1</td>\n",
              "      <td>2</td>\n",
              "      <td>1</td>\n",
              "      <td>2</td>\n",
              "      <td>3</td>\n",
              "      <td>1</td>\n",
              "      <td>2</td>\n",
              "      <td>1</td>\n",
              "      <td>2</td>\n",
              "      <td>5</td>\n",
              "      <td>99</td>\n",
              "      <td>1</td>\n",
              "      <td>-1</td>\n",
              "      <td>2</td>\n",
              "      <td>2</td>\n",
              "      <td>1</td>\n",
              "      <td>1</td>\n",
              "      <td>1</td>\n",
              "      <td>1</td>\n",
              "      <td>1</td>\n",
              "      <td>1</td>\n",
              "      <td>1</td>\n",
              "      <td>1</td>\n",
              "      <td>482.0</td>\n",
              "      <td>1614.0</td>\n",
              "      <td>48.2</td>\n",
              "      <td>161.4</td>\n",
              "      <td>2</td>\n",
              "      <td>2</td>\n",
              "      <td>1223</td>\n",
              "      <td>1</td>\n",
              "      <td>299.735235</td>\n",
              "      <td>1</td>\n",
              "      <td>2</td>\n",
              "      <td>4</td>\n",
              "      <td>1</td>\n",
              "      <td>3</td>\n",
              "      <td>1</td>\n",
              "      <td>296</td>\n",
              "    </tr>\n",
              "    <tr>\n",
              "      <th>3</th>\n",
              "      <td>2015</td>\n",
              "      <td>76</td>\n",
              "      <td>1</td>\n",
              "      <td>1</td>\n",
              "      <td>1</td>\n",
              "      <td>1</td>\n",
              "      <td>14</td>\n",
              "      <td>6</td>\n",
              "      <td>7</td>\n",
              "      <td>1</td>\n",
              "      <td>1</td>\n",
              "      <td>7</td>\n",
              "      <td>4</td>\n",
              "      <td>2</td>\n",
              "      <td>-1</td>\n",
              "      <td>1</td>\n",
              "      <td>1</td>\n",
              "      <td>1</td>\n",
              "      <td>1</td>\n",
              "      <td>1</td>\n",
              "      <td>2</td>\n",
              "      <td>4</td>\n",
              "      <td>2</td>\n",
              "      <td>4</td>\n",
              "      <td>1</td>\n",
              "      <td>2</td>\n",
              "      <td>2</td>\n",
              "      <td>6</td>\n",
              "      <td>3</td>\n",
              "      <td>2</td>\n",
              "      <td>4</td>\n",
              "      <td>1</td>\n",
              "      <td>3</td>\n",
              "      <td>2</td>\n",
              "      <td>7</td>\n",
              "      <td>1</td>\n",
              "      <td>5</td>\n",
              "      <td>1</td>\n",
              "      <td>-1</td>\n",
              "      <td>2</td>\n",
              "      <td>...</td>\n",
              "      <td>2</td>\n",
              "      <td>1</td>\n",
              "      <td>2</td>\n",
              "      <td>2</td>\n",
              "      <td>2</td>\n",
              "      <td>4</td>\n",
              "      <td>1</td>\n",
              "      <td>10</td>\n",
              "      <td>3</td>\n",
              "      <td>1</td>\n",
              "      <td>2</td>\n",
              "      <td>-1</td>\n",
              "      <td>1</td>\n",
              "      <td>-1</td>\n",
              "      <td>2</td>\n",
              "      <td>2</td>\n",
              "      <td>1</td>\n",
              "      <td>2</td>\n",
              "      <td>2</td>\n",
              "      <td>2</td>\n",
              "      <td>1</td>\n",
              "      <td>2</td>\n",
              "      <td>2</td>\n",
              "      <td>2</td>\n",
              "      <td>694.0</td>\n",
              "      <td>1725.0</td>\n",
              "      <td>69.4</td>\n",
              "      <td>172.5</td>\n",
              "      <td>2</td>\n",
              "      <td>3</td>\n",
              "      <td>1223</td>\n",
              "      <td>1</td>\n",
              "      <td>355.170081</td>\n",
              "      <td>1</td>\n",
              "      <td>2</td>\n",
              "      <td>4</td>\n",
              "      <td>1</td>\n",
              "      <td>4</td>\n",
              "      <td>1</td>\n",
              "      <td>296</td>\n",
              "    </tr>\n",
              "    <tr>\n",
              "      <th>4</th>\n",
              "      <td>2015</td>\n",
              "      <td>76</td>\n",
              "      <td>1</td>\n",
              "      <td>1</td>\n",
              "      <td>1</td>\n",
              "      <td>1</td>\n",
              "      <td>13</td>\n",
              "      <td>9</td>\n",
              "      <td>7</td>\n",
              "      <td>1</td>\n",
              "      <td>2</td>\n",
              "      <td>5</td>\n",
              "      <td>4</td>\n",
              "      <td>2</td>\n",
              "      <td>-1</td>\n",
              "      <td>2</td>\n",
              "      <td>1</td>\n",
              "      <td>1</td>\n",
              "      <td>1</td>\n",
              "      <td>1</td>\n",
              "      <td>2</td>\n",
              "      <td>5</td>\n",
              "      <td>1</td>\n",
              "      <td>4</td>\n",
              "      <td>1</td>\n",
              "      <td>2</td>\n",
              "      <td>2</td>\n",
              "      <td>6</td>\n",
              "      <td>5</td>\n",
              "      <td>6</td>\n",
              "      <td>3</td>\n",
              "      <td>5</td>\n",
              "      <td>2</td>\n",
              "      <td>6</td>\n",
              "      <td>2</td>\n",
              "      <td>1</td>\n",
              "      <td>5</td>\n",
              "      <td>1</td>\n",
              "      <td>5</td>\n",
              "      <td>1</td>\n",
              "      <td>...</td>\n",
              "      <td>2</td>\n",
              "      <td>1</td>\n",
              "      <td>4</td>\n",
              "      <td>2</td>\n",
              "      <td>2</td>\n",
              "      <td>4</td>\n",
              "      <td>1</td>\n",
              "      <td>3</td>\n",
              "      <td>2</td>\n",
              "      <td>2</td>\n",
              "      <td>2</td>\n",
              "      <td>13</td>\n",
              "      <td>1</td>\n",
              "      <td>-1</td>\n",
              "      <td>1</td>\n",
              "      <td>2</td>\n",
              "      <td>1</td>\n",
              "      <td>1</td>\n",
              "      <td>1</td>\n",
              "      <td>1</td>\n",
              "      <td>1</td>\n",
              "      <td>1</td>\n",
              "      <td>1</td>\n",
              "      <td>1</td>\n",
              "      <td>789.0</td>\n",
              "      <td>1675.0</td>\n",
              "      <td>78.9</td>\n",
              "      <td>167.5</td>\n",
              "      <td>2</td>\n",
              "      <td>4</td>\n",
              "      <td>1223</td>\n",
              "      <td>1</td>\n",
              "      <td>299.735235</td>\n",
              "      <td>1</td>\n",
              "      <td>2</td>\n",
              "      <td>4</td>\n",
              "      <td>1</td>\n",
              "      <td>5</td>\n",
              "      <td>1</td>\n",
              "      <td>296</td>\n",
              "    </tr>\n",
              "  </tbody>\n",
              "</table>\n",
              "<p>5 rows × 181 columns</p>\n",
              "</div>"
            ],
            "text/plain": [
              "   ANOPESQ  PAIS  REGEOGR  VB00004  VB01001  ...  V0008  V0041  aluno  escola  turma\n",
              "0     2015    76        1        1        2  ...      4      1      1       1    296\n",
              "1     2015    76        1        1        2  ...      4      1      2       1    296\n",
              "2     2015    76        1        1        1  ...      4      1      3       1    296\n",
              "3     2015    76        1        1        1  ...      4      1      4       1    296\n",
              "4     2015    76        1        1        1  ...      4      1      5       1    296\n",
              "\n",
              "[5 rows x 181 columns]"
            ]
          },
          "metadata": {
            "tags": []
          },
          "execution_count": 4
        }
      ]
    },
    {
      "cell_type": "code",
      "metadata": {
        "colab": {
          "base_uri": "https://localhost:8080/"
        },
        "id": "eAmcdaAWx4SH",
        "outputId": "e3e6b0f2-d3bb-4936-e01d-d1382349cc7e"
      },
      "source": [
        "dados.shape"
      ],
      "execution_count": 5,
      "outputs": [
        {
          "output_type": "execute_result",
          "data": {
            "text/plain": [
              "(16556, 181)"
            ]
          },
          "metadata": {
            "tags": []
          },
          "execution_count": 5
        }
      ]
    },
    {
      "cell_type": "code",
      "metadata": {
        "colab": {
          "base_uri": "https://localhost:8080/"
        },
        "id": "OesiA6_Zx6B7",
        "outputId": "4abd2e23-0d0e-4e9a-e0c4-d283a6748c99"
      },
      "source": [
        "dados.info()"
      ],
      "execution_count": 6,
      "outputs": [
        {
          "output_type": "stream",
          "text": [
            "<class 'pandas.core.frame.DataFrame'>\n",
            "RangeIndex: 16556 entries, 0 to 16555\n",
            "Columns: 181 entries, ANOPESQ to turma\n",
            "dtypes: float64(10), int64(171)\n",
            "memory usage: 22.9 MB\n"
          ],
          "name": "stdout"
        }
      ]
    },
    {
      "cell_type": "markdown",
      "metadata": {
        "id": "BHiVaVH3m2zX"
      },
      "source": [
        "##Desafio 01 - Descompactar a pasta zipada usando outro método (Dica Allan, é utilizar comandos Bash)."
      ]
    },
    {
      "cell_type": "markdown",
      "metadata": {
        "id": "yNLN1FOX1gF1"
      },
      "source": [
        "Utilizando o comando unzip e passando o endereço do arquivo zipado é possível fazer a descompactação. \n",
        "\n",
        "!unzip arquivo - descompacta\n",
        "!unzip -l arquivo - mostra os arquivos dentro da pasta"
      ]
    },
    {
      "cell_type": "code",
      "metadata": {
        "colab": {
          "base_uri": "https://localhost:8080/"
        },
        "id": "7o_WQt060T9t",
        "outputId": "14f4966e-9e3c-42e4-9cd5-91be906a5790"
      },
      "source": [
        "#Visualizacao\n",
        "! unzip -l drive/MyDrive/Data\\ Science/Bootcamp/'Modulo 3'/PeNSE_2015_AMOSTRA2.zip"
      ],
      "execution_count": 7,
      "outputs": [
        {
          "output_type": "stream",
          "text": [
            "Archive:  drive/MyDrive/Data Science/Bootcamp/Modulo 3/PeNSE_2015_AMOSTRA2.zip\n",
            "  Length      Date    Time    Name\n",
            "---------  ---------- -----   ----\n",
            "        0  2018-03-19 11:42   arquivos csv/\n",
            "  7262170  2018-03-19 11:26   arquivos csv/PENSE_AMOSTRA2_ALUNO.CSV\n",
            " 11420533  2018-03-19 11:28   arquivos csv/PENSE_AMOSTRA2_ALUNOESCOLA.CSV\n",
            "  5000642  2018-03-19 11:28   arquivos csv/PENSE_AMOSTRA2_ESCOLA.CSV\n",
            "        0  2018-03-19 11:43   arquivos sas/\n",
            " 24691712  2018-03-19 11:19   arquivos sas/pense_amostra2_aluno.sas7bdat\n",
            " 45253632  2018-03-19 11:19   arquivos sas/pense_amostra2_alunoescola.sas7bdat\n",
            " 18105344  2018-03-19 11:19   arquivos sas/pense_amostra2_escola.sas7bdat\n",
            "        0  2018-03-19 11:46   arquivos xlsx/\n",
            " 11757246  2018-03-19 11:25   arquivos xlsx/PENSE_AMOSTRA2_ALUNO.xlsx\n",
            " 18732739  2018-03-19 11:27   arquivos xlsx/PENSE_AMOSTRA2_ALUNOESCOLA.xlsx\n",
            "  7159579  2018-03-19 11:28   arquivos xlsx/PENSE_AMOSTRA2_ESCOLA.xlsx\n",
            "   144896  2018-04-18 10:40   Dicionario_PENSE_Microdados_AMOSTRA2.xls\n",
            "---------                     -------\n",
            "149528493                     13 files\n"
          ],
          "name": "stdout"
        }
      ]
    },
    {
      "cell_type": "markdown",
      "metadata": {
        "id": "GkLKJgdZm6Yv"
      },
      "source": [
        "##Desafio 02 - Estudar sobre a base de dados que vamos trabalhar. (PeNSE - 2015 Amostra 2)"
      ]
    },
    {
      "cell_type": "markdown",
      "metadata": {
        "id": "RWzB1RegneWT"
      },
      "source": [
        "A Pesquisa Nacional de Saúde do Escolar - PeNSE é uma pesquisa por amostragem tendo como base o cadastro das escolas públicas e privadas do Instituto Nacional de Estudos e Pesquisas Educacionais Anísio Teixeira -  INEP. \n",
        "A coleta de dados é eventual e foi realizada nos anos de 2009, 2012 e 2015 por meio da parceria com o Ministério da Saúde e apoio do Ministério da Educação. \n",
        "A pesquisa tem como objetivo o fornecimento de informação para monitoramento por parte do Sistema de Vigilância de Fatores de Risco de Doênças Crônicas não Transmissíveis do Ministério da Saúde.\n",
        "\n",
        "A segunda amostra referem-se a \"dados passíveis de comparação com indicadores nacionais e internacionais sobre adolescentes e possibilita, entre outros aspectos, melhor identificação e acompanhamento de fatores relacionados ao desenvolvimento físico-biológico e ao tempo de exposição às condições de risco para esse grupo\" (IBGE, 2020).\n",
        "\n",
        "Amostra: \"Escolares na faixa etária de 13 a 17 anos (frequentando as etapas do 6º ao 9º ano do ensino fundamental e da 1ª a 3ª série do ensino médio)\" (IBGE, 2020).\n",
        "\n",
        "\n",
        "Referência: IBGE. Pesquisa Nacional de Saúde do Escolar - PeNSE. Disponível em: https://www.ibge.gov.br/estatisticas/sociais/educacao/9134-pesquisa-nacional-de-saude-do-escolar.html?=&t=o-que-e. Acesso em: 02 Dez. 2020."
      ]
    },
    {
      "cell_type": "markdown",
      "metadata": {
        "id": "cI0qT3wzm97Y"
      },
      "source": [
        "##Desafio 03 - Classificar algumas perguntas como QualitativaXQuantitativa"
      ]
    },
    {
      "cell_type": "code",
      "metadata": {
        "id": "8td7QcFIccqY",
        "colab": {
          "base_uri": "https://localhost:8080/",
          "height": 251
        },
        "outputId": "6dba09ce-8093-4a8c-98dc-c199af13e1db"
      },
      "source": [
        "dados.head()"
      ],
      "execution_count": 8,
      "outputs": [
        {
          "output_type": "execute_result",
          "data": {
            "text/html": [
              "<div>\n",
              "<style scoped>\n",
              "    .dataframe tbody tr th:only-of-type {\n",
              "        vertical-align: middle;\n",
              "    }\n",
              "\n",
              "    .dataframe tbody tr th {\n",
              "        vertical-align: top;\n",
              "    }\n",
              "\n",
              "    .dataframe thead th {\n",
              "        text-align: right;\n",
              "    }\n",
              "</style>\n",
              "<table border=\"1\" class=\"dataframe\">\n",
              "  <thead>\n",
              "    <tr style=\"text-align: right;\">\n",
              "      <th></th>\n",
              "      <th>ANOPESQ</th>\n",
              "      <th>PAIS</th>\n",
              "      <th>REGEOGR</th>\n",
              "      <th>VB00004</th>\n",
              "      <th>VB01001</th>\n",
              "      <th>VB01002</th>\n",
              "      <th>VB01003</th>\n",
              "      <th>VB01004</th>\n",
              "      <th>VB01005</th>\n",
              "      <th>VB01006</th>\n",
              "      <th>VB01007</th>\n",
              "      <th>VB01008A</th>\n",
              "      <th>VB01010A</th>\n",
              "      <th>VB01011</th>\n",
              "      <th>VB01012</th>\n",
              "      <th>VB01013</th>\n",
              "      <th>VB01014</th>\n",
              "      <th>VB01015A</th>\n",
              "      <th>VB01016</th>\n",
              "      <th>VB01017</th>\n",
              "      <th>VB01018</th>\n",
              "      <th>VB01019</th>\n",
              "      <th>VB01020A</th>\n",
              "      <th>VB01021</th>\n",
              "      <th>VB01022</th>\n",
              "      <th>VB01023</th>\n",
              "      <th>VB01024</th>\n",
              "      <th>VB01025</th>\n",
              "      <th>VB01026</th>\n",
              "      <th>VB02001</th>\n",
              "      <th>VB02002</th>\n",
              "      <th>VB02004A</th>\n",
              "      <th>VB02010</th>\n",
              "      <th>VB02011</th>\n",
              "      <th>VB02013</th>\n",
              "      <th>VB02017A</th>\n",
              "      <th>VB02018A</th>\n",
              "      <th>VB02019A</th>\n",
              "      <th>VB02020A</th>\n",
              "      <th>VB02021</th>\n",
              "      <th>...</th>\n",
              "      <th>VB11005</th>\n",
              "      <th>VB11006</th>\n",
              "      <th>VB11007</th>\n",
              "      <th>VB12001</th>\n",
              "      <th>VB12002</th>\n",
              "      <th>VB12003</th>\n",
              "      <th>VB13001</th>\n",
              "      <th>VB13002A</th>\n",
              "      <th>VB13004A</th>\n",
              "      <th>VB13005</th>\n",
              "      <th>VB13006</th>\n",
              "      <th>VB13007</th>\n",
              "      <th>VB13008</th>\n",
              "      <th>VB13009</th>\n",
              "      <th>VB14001</th>\n",
              "      <th>VB14002</th>\n",
              "      <th>VB16001A01</th>\n",
              "      <th>VB16001A02</th>\n",
              "      <th>VB16001A03</th>\n",
              "      <th>VB16001A04</th>\n",
              "      <th>VB16001A05</th>\n",
              "      <th>VB16001A06</th>\n",
              "      <th>VB16001A07</th>\n",
              "      <th>VB16001A08</th>\n",
              "      <th>VB17001</th>\n",
              "      <th>VB17002</th>\n",
              "      <th>VB17003</th>\n",
              "      <th>VB17004</th>\n",
              "      <th>VB17005</th>\n",
              "      <th>VB17006</th>\n",
              "      <th>ESTRATO_EXP</th>\n",
              "      <th>ESTRATOGEOREG</th>\n",
              "      <th>PESO</th>\n",
              "      <th>V0006</th>\n",
              "      <th>V0007</th>\n",
              "      <th>V0008</th>\n",
              "      <th>V0041</th>\n",
              "      <th>aluno</th>\n",
              "      <th>escola</th>\n",
              "      <th>turma</th>\n",
              "    </tr>\n",
              "  </thead>\n",
              "  <tbody>\n",
              "    <tr>\n",
              "      <th>0</th>\n",
              "      <td>2015</td>\n",
              "      <td>76</td>\n",
              "      <td>1</td>\n",
              "      <td>1</td>\n",
              "      <td>2</td>\n",
              "      <td>1</td>\n",
              "      <td>13</td>\n",
              "      <td>7</td>\n",
              "      <td>7</td>\n",
              "      <td>1</td>\n",
              "      <td>2</td>\n",
              "      <td>7</td>\n",
              "      <td>3</td>\n",
              "      <td>2</td>\n",
              "      <td>-1</td>\n",
              "      <td>1</td>\n",
              "      <td>1</td>\n",
              "      <td>1</td>\n",
              "      <td>1</td>\n",
              "      <td>1</td>\n",
              "      <td>2</td>\n",
              "      <td>4</td>\n",
              "      <td>2</td>\n",
              "      <td>4</td>\n",
              "      <td>1</td>\n",
              "      <td>2</td>\n",
              "      <td>2</td>\n",
              "      <td>5</td>\n",
              "      <td>1</td>\n",
              "      <td>8</td>\n",
              "      <td>3</td>\n",
              "      <td>4</td>\n",
              "      <td>3</td>\n",
              "      <td>6</td>\n",
              "      <td>6</td>\n",
              "      <td>1</td>\n",
              "      <td>6</td>\n",
              "      <td>1</td>\n",
              "      <td>-1</td>\n",
              "      <td>2</td>\n",
              "      <td>...</td>\n",
              "      <td>2</td>\n",
              "      <td>1</td>\n",
              "      <td>2</td>\n",
              "      <td>1</td>\n",
              "      <td>1</td>\n",
              "      <td>4</td>\n",
              "      <td>2</td>\n",
              "      <td>-1</td>\n",
              "      <td>3</td>\n",
              "      <td>1</td>\n",
              "      <td>1</td>\n",
              "      <td>-1</td>\n",
              "      <td>1</td>\n",
              "      <td>1</td>\n",
              "      <td>2</td>\n",
              "      <td>2</td>\n",
              "      <td>1</td>\n",
              "      <td>2</td>\n",
              "      <td>2</td>\n",
              "      <td>2</td>\n",
              "      <td>2</td>\n",
              "      <td>2</td>\n",
              "      <td>2</td>\n",
              "      <td>2</td>\n",
              "      <td>371.0</td>\n",
              "      <td>1570.0</td>\n",
              "      <td>37.1</td>\n",
              "      <td>157.0</td>\n",
              "      <td>2</td>\n",
              "      <td>1</td>\n",
              "      <td>1223</td>\n",
              "      <td>1</td>\n",
              "      <td>299.735235</td>\n",
              "      <td>1</td>\n",
              "      <td>2</td>\n",
              "      <td>4</td>\n",
              "      <td>1</td>\n",
              "      <td>1</td>\n",
              "      <td>1</td>\n",
              "      <td>296</td>\n",
              "    </tr>\n",
              "    <tr>\n",
              "      <th>1</th>\n",
              "      <td>2015</td>\n",
              "      <td>76</td>\n",
              "      <td>1</td>\n",
              "      <td>1</td>\n",
              "      <td>2</td>\n",
              "      <td>1</td>\n",
              "      <td>14</td>\n",
              "      <td>4</td>\n",
              "      <td>7</td>\n",
              "      <td>1</td>\n",
              "      <td>1</td>\n",
              "      <td>7</td>\n",
              "      <td>3</td>\n",
              "      <td>2</td>\n",
              "      <td>-1</td>\n",
              "      <td>1</td>\n",
              "      <td>1</td>\n",
              "      <td>1</td>\n",
              "      <td>1</td>\n",
              "      <td>1</td>\n",
              "      <td>2</td>\n",
              "      <td>2</td>\n",
              "      <td>2</td>\n",
              "      <td>4</td>\n",
              "      <td>1</td>\n",
              "      <td>2</td>\n",
              "      <td>2</td>\n",
              "      <td>5</td>\n",
              "      <td>3</td>\n",
              "      <td>8</td>\n",
              "      <td>2</td>\n",
              "      <td>1</td>\n",
              "      <td>8</td>\n",
              "      <td>8</td>\n",
              "      <td>6</td>\n",
              "      <td>1</td>\n",
              "      <td>1</td>\n",
              "      <td>5</td>\n",
              "      <td>-1</td>\n",
              "      <td>2</td>\n",
              "      <td>...</td>\n",
              "      <td>2</td>\n",
              "      <td>3</td>\n",
              "      <td>2</td>\n",
              "      <td>4</td>\n",
              "      <td>4</td>\n",
              "      <td>4</td>\n",
              "      <td>1</td>\n",
              "      <td>2</td>\n",
              "      <td>3</td>\n",
              "      <td>3</td>\n",
              "      <td>1</td>\n",
              "      <td>-1</td>\n",
              "      <td>1</td>\n",
              "      <td>1</td>\n",
              "      <td>2</td>\n",
              "      <td>2</td>\n",
              "      <td>2</td>\n",
              "      <td>2</td>\n",
              "      <td>2</td>\n",
              "      <td>1</td>\n",
              "      <td>2</td>\n",
              "      <td>2</td>\n",
              "      <td>2</td>\n",
              "      <td>2</td>\n",
              "      <td>502.0</td>\n",
              "      <td>1520.0</td>\n",
              "      <td>50.2</td>\n",
              "      <td>152.0</td>\n",
              "      <td>2</td>\n",
              "      <td>2</td>\n",
              "      <td>1223</td>\n",
              "      <td>1</td>\n",
              "      <td>355.170081</td>\n",
              "      <td>1</td>\n",
              "      <td>2</td>\n",
              "      <td>4</td>\n",
              "      <td>1</td>\n",
              "      <td>2</td>\n",
              "      <td>1</td>\n",
              "      <td>296</td>\n",
              "    </tr>\n",
              "    <tr>\n",
              "      <th>2</th>\n",
              "      <td>2015</td>\n",
              "      <td>76</td>\n",
              "      <td>1</td>\n",
              "      <td>1</td>\n",
              "      <td>1</td>\n",
              "      <td>4</td>\n",
              "      <td>13</td>\n",
              "      <td>6</td>\n",
              "      <td>7</td>\n",
              "      <td>1</td>\n",
              "      <td>1</td>\n",
              "      <td>5</td>\n",
              "      <td>5</td>\n",
              "      <td>2</td>\n",
              "      <td>-1</td>\n",
              "      <td>2</td>\n",
              "      <td>1</td>\n",
              "      <td>1</td>\n",
              "      <td>1</td>\n",
              "      <td>1</td>\n",
              "      <td>2</td>\n",
              "      <td>3</td>\n",
              "      <td>1</td>\n",
              "      <td>4</td>\n",
              "      <td>1</td>\n",
              "      <td>2</td>\n",
              "      <td>2</td>\n",
              "      <td>5</td>\n",
              "      <td>3</td>\n",
              "      <td>2</td>\n",
              "      <td>3</td>\n",
              "      <td>1</td>\n",
              "      <td>8</td>\n",
              "      <td>2</td>\n",
              "      <td>8</td>\n",
              "      <td>1</td>\n",
              "      <td>1</td>\n",
              "      <td>5</td>\n",
              "      <td>5</td>\n",
              "      <td>1</td>\n",
              "      <td>...</td>\n",
              "      <td>2</td>\n",
              "      <td>1</td>\n",
              "      <td>2</td>\n",
              "      <td>1</td>\n",
              "      <td>2</td>\n",
              "      <td>3</td>\n",
              "      <td>1</td>\n",
              "      <td>2</td>\n",
              "      <td>1</td>\n",
              "      <td>2</td>\n",
              "      <td>5</td>\n",
              "      <td>99</td>\n",
              "      <td>1</td>\n",
              "      <td>-1</td>\n",
              "      <td>2</td>\n",
              "      <td>2</td>\n",
              "      <td>1</td>\n",
              "      <td>1</td>\n",
              "      <td>1</td>\n",
              "      <td>1</td>\n",
              "      <td>1</td>\n",
              "      <td>1</td>\n",
              "      <td>1</td>\n",
              "      <td>1</td>\n",
              "      <td>482.0</td>\n",
              "      <td>1614.0</td>\n",
              "      <td>48.2</td>\n",
              "      <td>161.4</td>\n",
              "      <td>2</td>\n",
              "      <td>2</td>\n",
              "      <td>1223</td>\n",
              "      <td>1</td>\n",
              "      <td>299.735235</td>\n",
              "      <td>1</td>\n",
              "      <td>2</td>\n",
              "      <td>4</td>\n",
              "      <td>1</td>\n",
              "      <td>3</td>\n",
              "      <td>1</td>\n",
              "      <td>296</td>\n",
              "    </tr>\n",
              "    <tr>\n",
              "      <th>3</th>\n",
              "      <td>2015</td>\n",
              "      <td>76</td>\n",
              "      <td>1</td>\n",
              "      <td>1</td>\n",
              "      <td>1</td>\n",
              "      <td>1</td>\n",
              "      <td>14</td>\n",
              "      <td>6</td>\n",
              "      <td>7</td>\n",
              "      <td>1</td>\n",
              "      <td>1</td>\n",
              "      <td>7</td>\n",
              "      <td>4</td>\n",
              "      <td>2</td>\n",
              "      <td>-1</td>\n",
              "      <td>1</td>\n",
              "      <td>1</td>\n",
              "      <td>1</td>\n",
              "      <td>1</td>\n",
              "      <td>1</td>\n",
              "      <td>2</td>\n",
              "      <td>4</td>\n",
              "      <td>2</td>\n",
              "      <td>4</td>\n",
              "      <td>1</td>\n",
              "      <td>2</td>\n",
              "      <td>2</td>\n",
              "      <td>6</td>\n",
              "      <td>3</td>\n",
              "      <td>2</td>\n",
              "      <td>4</td>\n",
              "      <td>1</td>\n",
              "      <td>3</td>\n",
              "      <td>2</td>\n",
              "      <td>7</td>\n",
              "      <td>1</td>\n",
              "      <td>5</td>\n",
              "      <td>1</td>\n",
              "      <td>-1</td>\n",
              "      <td>2</td>\n",
              "      <td>...</td>\n",
              "      <td>2</td>\n",
              "      <td>1</td>\n",
              "      <td>2</td>\n",
              "      <td>2</td>\n",
              "      <td>2</td>\n",
              "      <td>4</td>\n",
              "      <td>1</td>\n",
              "      <td>10</td>\n",
              "      <td>3</td>\n",
              "      <td>1</td>\n",
              "      <td>2</td>\n",
              "      <td>-1</td>\n",
              "      <td>1</td>\n",
              "      <td>-1</td>\n",
              "      <td>2</td>\n",
              "      <td>2</td>\n",
              "      <td>1</td>\n",
              "      <td>2</td>\n",
              "      <td>2</td>\n",
              "      <td>2</td>\n",
              "      <td>1</td>\n",
              "      <td>2</td>\n",
              "      <td>2</td>\n",
              "      <td>2</td>\n",
              "      <td>694.0</td>\n",
              "      <td>1725.0</td>\n",
              "      <td>69.4</td>\n",
              "      <td>172.5</td>\n",
              "      <td>2</td>\n",
              "      <td>3</td>\n",
              "      <td>1223</td>\n",
              "      <td>1</td>\n",
              "      <td>355.170081</td>\n",
              "      <td>1</td>\n",
              "      <td>2</td>\n",
              "      <td>4</td>\n",
              "      <td>1</td>\n",
              "      <td>4</td>\n",
              "      <td>1</td>\n",
              "      <td>296</td>\n",
              "    </tr>\n",
              "    <tr>\n",
              "      <th>4</th>\n",
              "      <td>2015</td>\n",
              "      <td>76</td>\n",
              "      <td>1</td>\n",
              "      <td>1</td>\n",
              "      <td>1</td>\n",
              "      <td>1</td>\n",
              "      <td>13</td>\n",
              "      <td>9</td>\n",
              "      <td>7</td>\n",
              "      <td>1</td>\n",
              "      <td>2</td>\n",
              "      <td>5</td>\n",
              "      <td>4</td>\n",
              "      <td>2</td>\n",
              "      <td>-1</td>\n",
              "      <td>2</td>\n",
              "      <td>1</td>\n",
              "      <td>1</td>\n",
              "      <td>1</td>\n",
              "      <td>1</td>\n",
              "      <td>2</td>\n",
              "      <td>5</td>\n",
              "      <td>1</td>\n",
              "      <td>4</td>\n",
              "      <td>1</td>\n",
              "      <td>2</td>\n",
              "      <td>2</td>\n",
              "      <td>6</td>\n",
              "      <td>5</td>\n",
              "      <td>6</td>\n",
              "      <td>3</td>\n",
              "      <td>5</td>\n",
              "      <td>2</td>\n",
              "      <td>6</td>\n",
              "      <td>2</td>\n",
              "      <td>1</td>\n",
              "      <td>5</td>\n",
              "      <td>1</td>\n",
              "      <td>5</td>\n",
              "      <td>1</td>\n",
              "      <td>...</td>\n",
              "      <td>2</td>\n",
              "      <td>1</td>\n",
              "      <td>4</td>\n",
              "      <td>2</td>\n",
              "      <td>2</td>\n",
              "      <td>4</td>\n",
              "      <td>1</td>\n",
              "      <td>3</td>\n",
              "      <td>2</td>\n",
              "      <td>2</td>\n",
              "      <td>2</td>\n",
              "      <td>13</td>\n",
              "      <td>1</td>\n",
              "      <td>-1</td>\n",
              "      <td>1</td>\n",
              "      <td>2</td>\n",
              "      <td>1</td>\n",
              "      <td>1</td>\n",
              "      <td>1</td>\n",
              "      <td>1</td>\n",
              "      <td>1</td>\n",
              "      <td>1</td>\n",
              "      <td>1</td>\n",
              "      <td>1</td>\n",
              "      <td>789.0</td>\n",
              "      <td>1675.0</td>\n",
              "      <td>78.9</td>\n",
              "      <td>167.5</td>\n",
              "      <td>2</td>\n",
              "      <td>4</td>\n",
              "      <td>1223</td>\n",
              "      <td>1</td>\n",
              "      <td>299.735235</td>\n",
              "      <td>1</td>\n",
              "      <td>2</td>\n",
              "      <td>4</td>\n",
              "      <td>1</td>\n",
              "      <td>5</td>\n",
              "      <td>1</td>\n",
              "      <td>296</td>\n",
              "    </tr>\n",
              "  </tbody>\n",
              "</table>\n",
              "<p>5 rows × 181 columns</p>\n",
              "</div>"
            ],
            "text/plain": [
              "   ANOPESQ  PAIS  REGEOGR  VB00004  VB01001  ...  V0008  V0041  aluno  escola  turma\n",
              "0     2015    76        1        1        2  ...      4      1      1       1    296\n",
              "1     2015    76        1        1        2  ...      4      1      2       1    296\n",
              "2     2015    76        1        1        1  ...      4      1      3       1    296\n",
              "3     2015    76        1        1        1  ...      4      1      4       1    296\n",
              "4     2015    76        1        1        1  ...      4      1      5       1    296\n",
              "\n",
              "[5 rows x 181 columns]"
            ]
          },
          "metadata": {
            "tags": []
          },
          "execution_count": 8
        }
      ]
    },
    {
      "cell_type": "markdown",
      "metadata": {
        "id": "j9pGK2JQ-as1"
      },
      "source": [
        "###Qualitativa"
      ]
    },
    {
      "cell_type": "markdown",
      "metadata": {
        "id": "Ry9t326PAFsv"
      },
      "source": [
        "####Ordinal"
      ]
    },
    {
      "cell_type": "code",
      "metadata": {
        "id": "MTabU0-kcwQF",
        "colab": {
          "base_uri": "https://localhost:8080/"
        },
        "outputId": "69fb9f88-82cf-40f5-f35f-537eb2c55523"
      },
      "source": [
        "#Qual é o mês do seu aniversário?\n",
        "dados['VB01004'].unique()"
      ],
      "execution_count": 9,
      "outputs": [
        {
          "output_type": "execute_result",
          "data": {
            "text/plain": [
              "array([ 7,  4,  6,  9, 12,  3,  8,  5, 10,  1, 11,  2, 99])"
            ]
          },
          "metadata": {
            "tags": []
          },
          "execution_count": 9
        }
      ]
    },
    {
      "cell_type": "markdown",
      "metadata": {
        "id": "FRl4ovkrFkip"
      },
      "source": [
        "Os numeros na questao VB01004 representam os meses do ano que seguem a ordenacao padrao do calendario."
      ]
    },
    {
      "cell_type": "markdown",
      "metadata": {
        "id": "EfGZG_YrApTF"
      },
      "source": [
        "####Nominal"
      ]
    },
    {
      "cell_type": "markdown",
      "metadata": {
        "id": "4V4a-zVbH-Jx"
      },
      "source": [
        "Sexo"
      ]
    },
    {
      "cell_type": "code",
      "metadata": {
        "id": "COJbBqBCEKJL",
        "colab": {
          "base_uri": "https://localhost:8080/"
        },
        "outputId": "f9a9d475-bcf0-4283-ac0d-4858bc805ac7"
      },
      "source": [
        "#Qual é o seu sexo?\n",
        "dados['VB01001']"
      ],
      "execution_count": 10,
      "outputs": [
        {
          "output_type": "execute_result",
          "data": {
            "text/plain": [
              "0        2\n",
              "1        2\n",
              "2        1\n",
              "3        1\n",
              "4        1\n",
              "        ..\n",
              "16551    2\n",
              "16552    1\n",
              "16553    1\n",
              "16554    1\n",
              "16555    1\n",
              "Name: VB01001, Length: 16556, dtype: int64"
            ]
          },
          "metadata": {
            "tags": []
          },
          "execution_count": 10
        }
      ]
    },
    {
      "cell_type": "markdown",
      "metadata": {
        "id": "BEfBcUv8HvjJ"
      },
      "source": [
        "Regiao Geografica"
      ]
    },
    {
      "cell_type": "code",
      "metadata": {
        "colab": {
          "base_uri": "https://localhost:8080/"
        },
        "id": "igocY_86Hku2",
        "outputId": "9676f39d-915c-4cb8-a562-4723d61d20d9"
      },
      "source": [
        "dados['REGEOGR'].unique()"
      ],
      "execution_count": 11,
      "outputs": [
        {
          "output_type": "execute_result",
          "data": {
            "text/plain": [
              "array([1, 2, 3, 4, 5])"
            ]
          },
          "metadata": {
            "tags": []
          },
          "execution_count": 11
        }
      ]
    },
    {
      "cell_type": "markdown",
      "metadata": {
        "id": "SVUT09PXEp3C"
      },
      "source": [
        "Sao do tipo qualitativa nominal pois os numeros representam uma classificacao (masculino e feminino, norte, sul) e a diferenca numerica nao e relavante, sendo utillizada por conveniencia."
      ]
    },
    {
      "cell_type": "markdown",
      "metadata": {
        "id": "Oy8FGv5y-tNm"
      },
      "source": [
        "###Quantitativa"
      ]
    },
    {
      "cell_type": "markdown",
      "metadata": {
        "id": "-9JM4M3dAtN_"
      },
      "source": [
        "####Continuo"
      ]
    },
    {
      "cell_type": "code",
      "metadata": {
        "id": "chEsEvnEAsyQ",
        "colab": {
          "base_uri": "https://localhost:8080/"
        },
        "outputId": "dcd6bb22-1958-42c9-a5da-a6f3f1d04dd7"
      },
      "source": [
        "#Em que ano você nasceu?\n",
        "dados['VB01005'].unique()"
      ],
      "execution_count": 12,
      "outputs": [
        {
          "output_type": "execute_result",
          "data": {
            "text/plain": [
              "array([ 7,  6,  5,  8,  4, 10,  9,  3,  2,  1, 99])"
            ]
          },
          "metadata": {
            "tags": []
          },
          "execution_count": 12
        }
      ]
    },
    {
      "cell_type": "markdown",
      "metadata": {
        "id": "woaPE74nGI2I"
      },
      "source": [
        "A questao VB01005 e quantitativa continua por representar uma marcacao numerica sequencial."
      ]
    },
    {
      "cell_type": "markdown",
      "metadata": {
        "id": "A2K3xJZGAwFT"
      },
      "source": [
        "####Discreto"
      ]
    },
    {
      "cell_type": "code",
      "metadata": {
        "colab": {
          "base_uri": "https://localhost:8080/"
        },
        "id": "nYxVjrwvGB3r",
        "outputId": "375edc19-a1bd-4f6c-b88d-029230f72577"
      },
      "source": [
        "#Qual é a sua idade?\n",
        "dados['VB01003'].unique()"
      ],
      "execution_count": 13,
      "outputs": [
        {
          "output_type": "execute_result",
          "data": {
            "text/plain": [
              "array([13, 14, 15, 16, 11, 12, 17, 18, 19])"
            ]
          },
          "metadata": {
            "tags": []
          },
          "execution_count": 13
        }
      ]
    },
    {
      "cell_type": "markdown",
      "metadata": {
        "id": "NKC7cAriHHGi"
      },
      "source": [
        "A questao VB01003 e quantitativa discreta por nao considrar o espaco de um aniversario e outro, como meses, dias, horas etc."
      ]
    },
    {
      "cell_type": "markdown",
      "metadata": {
        "id": "pDGdVIS9OMEM"
      },
      "source": [
        "#Dados qualitativos e tabelas de frequência"
      ]
    },
    {
      "cell_type": "markdown",
      "metadata": {
        "id": "crto4Ag4sSKg"
      },
      "source": [
        "##Desafio 01 - Criar uma função para gerar as tabelas de frequência e fazer a análise de outras informações. Compartilhar no discord suas análises"
      ]
    },
    {
      "cell_type": "markdown",
      "metadata": {
        "id": "ZNEuJcQuLrNk"
      },
      "source": [
        "###Função"
      ]
    },
    {
      "cell_type": "code",
      "metadata": {
        "id": "2JHzeLo-sWPt"
      },
      "source": [
        "def tabela_frequencia(dados: pd.DataFrame, titulo_eixo: str, \n",
        "                      dicionario_respostas: dict):\n",
        "  frequencia = dados.value_counts()\n",
        "  proporcao = round(dados.value_counts(normalize=True) * 100, 0).astype('int64')\n",
        "  tabela = pd.DataFrame({\n",
        "      'Frequência': frequencia,\n",
        "      'Proporção (%)': proporcao\n",
        "  })\n",
        "  tabela.rename_axis(titulo_eixo, inplace=True)\n",
        "  tabela.rename(index=dicionario_respostas, inplace=True)\n",
        "  return tabela"
      ],
      "execution_count": 14,
      "outputs": []
    },
    {
      "cell_type": "code",
      "metadata": {
        "id": "Mb5Q3cXDO8KG"
      },
      "source": [
        "def tabela_frequencia_continuo(dados: pd.DataFrame, titulo_eixo: str):\n",
        "  frequencia = dados.value_counts()\n",
        "  proporcao = round(dados.value_counts(normalize=True) * 100, 0).astype('int64')\n",
        "  tabela = pd.DataFrame({\n",
        "      'Frequência': frequencia,\n",
        "      'Proporção (%)': proporcao\n",
        "  })\n",
        "  tabela.rename_axis(titulo_eixo, inplace=True)\n",
        "  return tabela"
      ],
      "execution_count": 15,
      "outputs": []
    },
    {
      "cell_type": "markdown",
      "metadata": {
        "id": "9FPrarqqLw9j"
      },
      "source": [
        "###Regiões"
      ]
    },
    {
      "cell_type": "code",
      "metadata": {
        "id": "1Wn-ksrhuKZF"
      },
      "source": [
        "dic_regioes = {\n",
        "    1: 'Norte',\n",
        "    2: 'Nordeste',\n",
        "    3: 'Sudeste',\n",
        "    4: 'Sul',\n",
        "    5: 'Centro-Oeste'\n",
        "}"
      ],
      "execution_count": 16,
      "outputs": []
    },
    {
      "cell_type": "code",
      "metadata": {
        "id": "VwFEIolmKPxO"
      },
      "source": [
        "regioes = tabela_frequencia(dados['REGEOGR'], 'Respondentes por Região', dic_regioes)"
      ],
      "execution_count": 17,
      "outputs": []
    },
    {
      "cell_type": "code",
      "metadata": {
        "colab": {
          "base_uri": "https://localhost:8080/",
          "height": 233
        },
        "id": "w2SyCZYqKo9B",
        "outputId": "d8ae601a-e23d-4f9d-d6c8-7222e2b563fc"
      },
      "source": [
        "regioes"
      ],
      "execution_count": 18,
      "outputs": [
        {
          "output_type": "execute_result",
          "data": {
            "text/html": [
              "<div>\n",
              "<style scoped>\n",
              "    .dataframe tbody tr th:only-of-type {\n",
              "        vertical-align: middle;\n",
              "    }\n",
              "\n",
              "    .dataframe tbody tr th {\n",
              "        vertical-align: top;\n",
              "    }\n",
              "\n",
              "    .dataframe thead th {\n",
              "        text-align: right;\n",
              "    }\n",
              "</style>\n",
              "<table border=\"1\" class=\"dataframe\">\n",
              "  <thead>\n",
              "    <tr style=\"text-align: right;\">\n",
              "      <th></th>\n",
              "      <th>Frequência</th>\n",
              "      <th>Proporção (%)</th>\n",
              "    </tr>\n",
              "    <tr>\n",
              "      <th>Respondentes por Região</th>\n",
              "      <th></th>\n",
              "      <th></th>\n",
              "    </tr>\n",
              "  </thead>\n",
              "  <tbody>\n",
              "    <tr>\n",
              "      <th>Nordeste</th>\n",
              "      <td>3465</td>\n",
              "      <td>21</td>\n",
              "    </tr>\n",
              "    <tr>\n",
              "      <th>Centro-Oeste</th>\n",
              "      <td>3420</td>\n",
              "      <td>21</td>\n",
              "    </tr>\n",
              "    <tr>\n",
              "      <th>Sudeste</th>\n",
              "      <td>3276</td>\n",
              "      <td>20</td>\n",
              "    </tr>\n",
              "    <tr>\n",
              "      <th>Sul</th>\n",
              "      <td>3207</td>\n",
              "      <td>19</td>\n",
              "    </tr>\n",
              "    <tr>\n",
              "      <th>Norte</th>\n",
              "      <td>3188</td>\n",
              "      <td>19</td>\n",
              "    </tr>\n",
              "  </tbody>\n",
              "</table>\n",
              "</div>"
            ],
            "text/plain": [
              "                         Frequência  Proporção (%)\n",
              "Respondentes por Região                           \n",
              "Nordeste                       3465             21\n",
              "Centro-Oeste                   3420             21\n",
              "Sudeste                        3276             20\n",
              "Sul                            3207             19\n",
              "Norte                          3188             19"
            ]
          },
          "metadata": {
            "tags": []
          },
          "execution_count": 18
        }
      ]
    },
    {
      "cell_type": "markdown",
      "metadata": {
        "id": "XPvHoWmaMJaQ"
      },
      "source": [
        "### Possui Carro"
      ]
    },
    {
      "cell_type": "code",
      "metadata": {
        "id": "DrfO41MRKq_1"
      },
      "source": [
        "possui_carro = {\n",
        "  1:\t'Sim',\n",
        "  2:\t'Não',\n",
        "  99:\t'Não informado'\n",
        "}"
      ],
      "execution_count": 19,
      "outputs": []
    },
    {
      "cell_type": "code",
      "metadata": {
        "id": "SbP_hUpSLYXx"
      },
      "source": [
        "carro = tabela_frequencia(dados['VB01017'], 'Possui Carro', possui_carro)"
      ],
      "execution_count": 20,
      "outputs": []
    },
    {
      "cell_type": "code",
      "metadata": {
        "colab": {
          "base_uri": "https://localhost:8080/",
          "height": 171
        },
        "id": "DRZEDnXLLj2r",
        "outputId": "5ce79445-56a4-4415-8715-e1dd07587dea"
      },
      "source": [
        "carro"
      ],
      "execution_count": 21,
      "outputs": [
        {
          "output_type": "execute_result",
          "data": {
            "text/html": [
              "<div>\n",
              "<style scoped>\n",
              "    .dataframe tbody tr th:only-of-type {\n",
              "        vertical-align: middle;\n",
              "    }\n",
              "\n",
              "    .dataframe tbody tr th {\n",
              "        vertical-align: top;\n",
              "    }\n",
              "\n",
              "    .dataframe thead th {\n",
              "        text-align: right;\n",
              "    }\n",
              "</style>\n",
              "<table border=\"1\" class=\"dataframe\">\n",
              "  <thead>\n",
              "    <tr style=\"text-align: right;\">\n",
              "      <th></th>\n",
              "      <th>Frequência</th>\n",
              "      <th>Proporção (%)</th>\n",
              "    </tr>\n",
              "    <tr>\n",
              "      <th>Possui Carro</th>\n",
              "      <th></th>\n",
              "      <th></th>\n",
              "    </tr>\n",
              "  </thead>\n",
              "  <tbody>\n",
              "    <tr>\n",
              "      <th>Sim</th>\n",
              "      <td>10179</td>\n",
              "      <td>61</td>\n",
              "    </tr>\n",
              "    <tr>\n",
              "      <th>Não</th>\n",
              "      <td>6355</td>\n",
              "      <td>38</td>\n",
              "    </tr>\n",
              "    <tr>\n",
              "      <th>Não informado</th>\n",
              "      <td>22</td>\n",
              "      <td>0</td>\n",
              "    </tr>\n",
              "  </tbody>\n",
              "</table>\n",
              "</div>"
            ],
            "text/plain": [
              "               Frequência  Proporção (%)\n",
              "Possui Carro                            \n",
              "Sim                 10179             61\n",
              "Não                  6355             38\n",
              "Não informado          22              0"
            ]
          },
          "metadata": {
            "tags": []
          },
          "execution_count": 21
        }
      ]
    },
    {
      "cell_type": "markdown",
      "metadata": {
        "id": "WQzvZWjrMouw"
      },
      "source": [
        "###Fome"
      ]
    },
    {
      "cell_type": "code",
      "metadata": {
        "id": "9eEkxG_jLkp7"
      },
      "source": [
        "ficou_fome = {\n",
        "    1:\t'Nunca',\n",
        "    2:\t'Raramente',\n",
        "    3:\t'Às vezes',\n",
        "    4:\t'Na maior parte das vezes',\n",
        "    5:\t'Sempre',\n",
        "    99:\t'Não informado'}"
      ],
      "execution_count": 22,
      "outputs": []
    },
    {
      "cell_type": "code",
      "metadata": {
        "id": "bygo5SPyM7wi"
      },
      "source": [
        "ficou_fome_frequencia = tabela_frequencia(dados['VB02024'], \n",
        "                                          'Ficou com fome por falta de comida em casa',\n",
        "                                          ficou_fome)"
      ],
      "execution_count": 23,
      "outputs": []
    },
    {
      "cell_type": "code",
      "metadata": {
        "colab": {
          "base_uri": "https://localhost:8080/",
          "height": 263
        },
        "id": "mXeN2sxsNMRK",
        "outputId": "8cfd6b9e-c0b8-4eb1-fb42-4baec180b2d7"
      },
      "source": [
        "ficou_fome_frequencia"
      ],
      "execution_count": 24,
      "outputs": [
        {
          "output_type": "execute_result",
          "data": {
            "text/html": [
              "<div>\n",
              "<style scoped>\n",
              "    .dataframe tbody tr th:only-of-type {\n",
              "        vertical-align: middle;\n",
              "    }\n",
              "\n",
              "    .dataframe tbody tr th {\n",
              "        vertical-align: top;\n",
              "    }\n",
              "\n",
              "    .dataframe thead th {\n",
              "        text-align: right;\n",
              "    }\n",
              "</style>\n",
              "<table border=\"1\" class=\"dataframe\">\n",
              "  <thead>\n",
              "    <tr style=\"text-align: right;\">\n",
              "      <th></th>\n",
              "      <th>Frequência</th>\n",
              "      <th>Proporção (%)</th>\n",
              "    </tr>\n",
              "    <tr>\n",
              "      <th>Ficou com fome por falta de comida em casa</th>\n",
              "      <th></th>\n",
              "      <th></th>\n",
              "    </tr>\n",
              "  </thead>\n",
              "  <tbody>\n",
              "    <tr>\n",
              "      <th>Nunca</th>\n",
              "      <td>12825</td>\n",
              "      <td>77</td>\n",
              "    </tr>\n",
              "    <tr>\n",
              "      <th>Raramente</th>\n",
              "      <td>1786</td>\n",
              "      <td>11</td>\n",
              "    </tr>\n",
              "    <tr>\n",
              "      <th>Às vezes</th>\n",
              "      <td>1443</td>\n",
              "      <td>9</td>\n",
              "    </tr>\n",
              "    <tr>\n",
              "      <th>Na maior parte das vezes</th>\n",
              "      <td>253</td>\n",
              "      <td>2</td>\n",
              "    </tr>\n",
              "    <tr>\n",
              "      <th>Sempre</th>\n",
              "      <td>219</td>\n",
              "      <td>1</td>\n",
              "    </tr>\n",
              "    <tr>\n",
              "      <th>Não informado</th>\n",
              "      <td>30</td>\n",
              "      <td>0</td>\n",
              "    </tr>\n",
              "  </tbody>\n",
              "</table>\n",
              "</div>"
            ],
            "text/plain": [
              "                                            Frequência  Proporção (%)\n",
              "Ficou com fome por falta de comida em casa                           \n",
              "Nunca                                            12825             77\n",
              "Raramente                                         1786             11\n",
              "Às vezes                                          1443              9\n",
              "Na maior parte das vezes                           253              2\n",
              "Sempre                                             219              1\n",
              "Não informado                                       30              0"
            ]
          },
          "metadata": {
            "tags": []
          },
          "execution_count": 24
        }
      ]
    },
    {
      "cell_type": "markdown",
      "metadata": {
        "id": "ZlGYKl_BObzn"
      },
      "source": [
        "###Altura"
      ]
    },
    {
      "cell_type": "code",
      "metadata": {
        "id": "aj4glL9gQYpD"
      },
      "source": [
        "altura_dic = {\n",
        "    0.998:\t'Não informado',\n",
        "    9.999:\t'Recusa ou impossibilidade de medição'\n",
        "}"
      ],
      "execution_count": 25,
      "outputs": []
    },
    {
      "cell_type": "code",
      "metadata": {
        "id": "2qDZBSzqNNkK"
      },
      "source": [
        "altura = tabela_frequencia(dados['VB17002'] / 1000, 'Altura (M)', altura_dic)"
      ],
      "execution_count": 26,
      "outputs": []
    },
    {
      "cell_type": "code",
      "metadata": {
        "colab": {
          "base_uri": "https://localhost:8080/",
          "height": 446
        },
        "id": "I7Nb8N0EN61Z",
        "outputId": "6139cf5a-f9ad-4b4d-b030-18d7efbdedfb"
      },
      "source": [
        "altura"
      ],
      "execution_count": 27,
      "outputs": [
        {
          "output_type": "execute_result",
          "data": {
            "text/html": [
              "<div>\n",
              "<style scoped>\n",
              "    .dataframe tbody tr th:only-of-type {\n",
              "        vertical-align: middle;\n",
              "    }\n",
              "\n",
              "    .dataframe tbody tr th {\n",
              "        vertical-align: top;\n",
              "    }\n",
              "\n",
              "    .dataframe thead th {\n",
              "        text-align: right;\n",
              "    }\n",
              "</style>\n",
              "<table border=\"1\" class=\"dataframe\">\n",
              "  <thead>\n",
              "    <tr style=\"text-align: right;\">\n",
              "      <th></th>\n",
              "      <th>Frequência</th>\n",
              "      <th>Proporção (%)</th>\n",
              "    </tr>\n",
              "    <tr>\n",
              "      <th>Altura (M)</th>\n",
              "      <th></th>\n",
              "      <th></th>\n",
              "    </tr>\n",
              "  </thead>\n",
              "  <tbody>\n",
              "    <tr>\n",
              "      <th>Não informado</th>\n",
              "      <td>385</td>\n",
              "      <td>2</td>\n",
              "    </tr>\n",
              "    <tr>\n",
              "      <th>Recusa ou impossibilidade de medição</th>\n",
              "      <td>265</td>\n",
              "      <td>2</td>\n",
              "    </tr>\n",
              "    <tr>\n",
              "      <th>1.6</th>\n",
              "      <td>186</td>\n",
              "      <td>1</td>\n",
              "    </tr>\n",
              "    <tr>\n",
              "      <th>1.62</th>\n",
              "      <td>153</td>\n",
              "      <td>1</td>\n",
              "    </tr>\n",
              "    <tr>\n",
              "      <th>1.57</th>\n",
              "      <td>146</td>\n",
              "      <td>1</td>\n",
              "    </tr>\n",
              "    <tr>\n",
              "      <th>...</th>\n",
              "      <td>...</td>\n",
              "      <td>...</td>\n",
              "    </tr>\n",
              "    <tr>\n",
              "      <th>1.176</th>\n",
              "      <td>1</td>\n",
              "      <td>0</td>\n",
              "    </tr>\n",
              "    <tr>\n",
              "      <th>0.142</th>\n",
              "      <td>1</td>\n",
              "      <td>0</td>\n",
              "    </tr>\n",
              "    <tr>\n",
              "      <th>1.22</th>\n",
              "      <td>1</td>\n",
              "      <td>0</td>\n",
              "    </tr>\n",
              "    <tr>\n",
              "      <th>0.56</th>\n",
              "      <td>1</td>\n",
              "      <td>0</td>\n",
              "    </tr>\n",
              "    <tr>\n",
              "      <th>1.331</th>\n",
              "      <td>1</td>\n",
              "      <td>0</td>\n",
              "    </tr>\n",
              "  </tbody>\n",
              "</table>\n",
              "<p>784 rows × 2 columns</p>\n",
              "</div>"
            ],
            "text/plain": [
              "                                      Frequência  Proporção (%)\n",
              "Altura (M)                                                     \n",
              "Não informado                                385              2\n",
              "Recusa ou impossibilidade de medição         265              2\n",
              "1.6                                          186              1\n",
              "1.62                                         153              1\n",
              "1.57                                         146              1\n",
              "...                                          ...            ...\n",
              "1.176                                          1              0\n",
              "0.142                                          1              0\n",
              "1.22                                           1              0\n",
              "0.56                                           1              0\n",
              "1.331                                          1              0\n",
              "\n",
              "[784 rows x 2 columns]"
            ]
          },
          "metadata": {
            "tags": []
          },
          "execution_count": 27
        }
      ]
    },
    {
      "cell_type": "code",
      "metadata": {
        "colab": {
          "base_uri": "https://localhost:8080/",
          "height": 446
        },
        "id": "v7qbAy2SbD95",
        "outputId": "163262e7-62bb-497a-c45a-471510dfc7e8"
      },
      "source": [
        "tabela_frequencia_continuo(dados['VB17004'] / 100, 'Altura (M)')"
      ],
      "execution_count": 28,
      "outputs": [
        {
          "output_type": "execute_result",
          "data": {
            "text/html": [
              "<div>\n",
              "<style scoped>\n",
              "    .dataframe tbody tr th:only-of-type {\n",
              "        vertical-align: middle;\n",
              "    }\n",
              "\n",
              "    .dataframe tbody tr th {\n",
              "        vertical-align: top;\n",
              "    }\n",
              "\n",
              "    .dataframe thead th {\n",
              "        text-align: right;\n",
              "    }\n",
              "</style>\n",
              "<table border=\"1\" class=\"dataframe\">\n",
              "  <thead>\n",
              "    <tr style=\"text-align: right;\">\n",
              "      <th></th>\n",
              "      <th>Frequência</th>\n",
              "      <th>Proporção (%)</th>\n",
              "    </tr>\n",
              "    <tr>\n",
              "      <th>Altura (M)</th>\n",
              "      <th></th>\n",
              "      <th></th>\n",
              "    </tr>\n",
              "  </thead>\n",
              "  <tbody>\n",
              "    <tr>\n",
              "      <th>1.600</th>\n",
              "      <td>197</td>\n",
              "      <td>1</td>\n",
              "    </tr>\n",
              "    <tr>\n",
              "      <th>1.620</th>\n",
              "      <td>164</td>\n",
              "      <td>1</td>\n",
              "    </tr>\n",
              "    <tr>\n",
              "      <th>1.570</th>\n",
              "      <td>155</td>\n",
              "      <td>1</td>\n",
              "    </tr>\n",
              "    <tr>\n",
              "      <th>1.550</th>\n",
              "      <td>154</td>\n",
              "      <td>1</td>\n",
              "    </tr>\n",
              "    <tr>\n",
              "      <th>1.610</th>\n",
              "      <td>153</td>\n",
              "      <td>1</td>\n",
              "    </tr>\n",
              "    <tr>\n",
              "      <th>...</th>\n",
              "      <td>...</td>\n",
              "      <td>...</td>\n",
              "    </tr>\n",
              "    <tr>\n",
              "      <th>1.891</th>\n",
              "      <td>1</td>\n",
              "      <td>0</td>\n",
              "    </tr>\n",
              "    <tr>\n",
              "      <th>1.339</th>\n",
              "      <td>1</td>\n",
              "      <td>0</td>\n",
              "    </tr>\n",
              "    <tr>\n",
              "      <th>1.864</th>\n",
              "      <td>1</td>\n",
              "      <td>0</td>\n",
              "    </tr>\n",
              "    <tr>\n",
              "      <th>1.871</th>\n",
              "      <td>1</td>\n",
              "      <td>0</td>\n",
              "    </tr>\n",
              "    <tr>\n",
              "      <th>1.318</th>\n",
              "      <td>1</td>\n",
              "      <td>0</td>\n",
              "    </tr>\n",
              "  </tbody>\n",
              "</table>\n",
              "<p>599 rows × 2 columns</p>\n",
              "</div>"
            ],
            "text/plain": [
              "            Frequência  Proporção (%)\n",
              "Altura (M)                           \n",
              "1.600              197              1\n",
              "1.620              164              1\n",
              "1.570              155              1\n",
              "1.550              154              1\n",
              "1.610              153              1\n",
              "...                ...            ...\n",
              "1.891                1              0\n",
              "1.339                1              0\n",
              "1.864                1              0\n",
              "1.871                1              0\n",
              "1.318                1              0\n",
              "\n",
              "[599 rows x 2 columns]"
            ]
          },
          "metadata": {
            "tags": []
          },
          "execution_count": 28
        }
      ]
    },
    {
      "cell_type": "markdown",
      "metadata": {
        "id": "eARlwCo7cht4"
      },
      "source": [
        "###Peso"
      ]
    },
    {
      "cell_type": "code",
      "metadata": {
        "id": "D7LM6bY9btTH"
      },
      "source": [
        "peso = tabela_frequencia_continuo(dados['VB17003'], 'Peso')"
      ],
      "execution_count": 29,
      "outputs": []
    },
    {
      "cell_type": "code",
      "metadata": {
        "colab": {
          "base_uri": "https://localhost:8080/",
          "height": 446
        },
        "id": "2hnaxcuZcuIF",
        "outputId": "197df51a-052a-41f6-8eac-13ff7a0bb1de"
      },
      "source": [
        "peso"
      ],
      "execution_count": 30,
      "outputs": [
        {
          "output_type": "execute_result",
          "data": {
            "text/html": [
              "<div>\n",
              "<style scoped>\n",
              "    .dataframe tbody tr th:only-of-type {\n",
              "        vertical-align: middle;\n",
              "    }\n",
              "\n",
              "    .dataframe tbody tr th {\n",
              "        vertical-align: top;\n",
              "    }\n",
              "\n",
              "    .dataframe thead th {\n",
              "        text-align: right;\n",
              "    }\n",
              "</style>\n",
              "<table border=\"1\" class=\"dataframe\">\n",
              "  <thead>\n",
              "    <tr style=\"text-align: right;\">\n",
              "      <th></th>\n",
              "      <th>Frequência</th>\n",
              "      <th>Proporção (%)</th>\n",
              "    </tr>\n",
              "    <tr>\n",
              "      <th>Peso</th>\n",
              "      <th></th>\n",
              "      <th></th>\n",
              "    </tr>\n",
              "  </thead>\n",
              "  <tbody>\n",
              "    <tr>\n",
              "      <th>50.0</th>\n",
              "      <td>73</td>\n",
              "      <td>0</td>\n",
              "    </tr>\n",
              "    <tr>\n",
              "      <th>53.5</th>\n",
              "      <td>67</td>\n",
              "      <td>0</td>\n",
              "    </tr>\n",
              "    <tr>\n",
              "      <th>50.2</th>\n",
              "      <td>66</td>\n",
              "      <td>0</td>\n",
              "    </tr>\n",
              "    <tr>\n",
              "      <th>52.5</th>\n",
              "      <td>65</td>\n",
              "      <td>0</td>\n",
              "    </tr>\n",
              "    <tr>\n",
              "      <th>51.9</th>\n",
              "      <td>65</td>\n",
              "      <td>0</td>\n",
              "    </tr>\n",
              "    <tr>\n",
              "      <th>...</th>\n",
              "      <td>...</td>\n",
              "      <td>...</td>\n",
              "    </tr>\n",
              "    <tr>\n",
              "      <th>133.1</th>\n",
              "      <td>1</td>\n",
              "      <td>0</td>\n",
              "    </tr>\n",
              "    <tr>\n",
              "      <th>108.0</th>\n",
              "      <td>1</td>\n",
              "      <td>0</td>\n",
              "    </tr>\n",
              "    <tr>\n",
              "      <th>93.6</th>\n",
              "      <td>1</td>\n",
              "      <td>0</td>\n",
              "    </tr>\n",
              "    <tr>\n",
              "      <th>100.4</th>\n",
              "      <td>1</td>\n",
              "      <td>0</td>\n",
              "    </tr>\n",
              "    <tr>\n",
              "      <th>94.2</th>\n",
              "      <td>1</td>\n",
              "      <td>0</td>\n",
              "    </tr>\n",
              "  </tbody>\n",
              "</table>\n",
              "<p>872 rows × 2 columns</p>\n",
              "</div>"
            ],
            "text/plain": [
              "       Frequência  Proporção (%)\n",
              "Peso                            \n",
              "50.0           73              0\n",
              "53.5           67              0\n",
              "50.2           66              0\n",
              "52.5           65              0\n",
              "51.9           65              0\n",
              "...           ...            ...\n",
              "133.1           1              0\n",
              "108.0           1              0\n",
              "93.6            1              0\n",
              "100.4           1              0\n",
              "94.2            1              0\n",
              "\n",
              "[872 rows x 2 columns]"
            ]
          },
          "metadata": {
            "tags": []
          },
          "execution_count": 30
        }
      ]
    },
    {
      "cell_type": "markdown",
      "metadata": {
        "id": "pRkTU2Noi5ia"
      },
      "source": [
        "#Método cut"
      ]
    },
    {
      "cell_type": "code",
      "metadata": {
        "id": "_z8qjbtOi9bo"
      },
      "source": [
        "dados['imc'] = round(dados['VB17003'] / (dados['VB17004'] / 100) ** 2, 2)"
      ],
      "execution_count": 31,
      "outputs": []
    },
    {
      "cell_type": "code",
      "metadata": {
        "colab": {
          "base_uri": "https://localhost:8080/"
        },
        "id": "r5jOnliwcuyB",
        "outputId": "730ef428-2fbb-4a92-abb3-a6fd64bd539f"
      },
      "source": [
        "dados['imc']"
      ],
      "execution_count": 32,
      "outputs": [
        {
          "output_type": "execute_result",
          "data": {
            "text/plain": [
              "0        15.05\n",
              "1        21.73\n",
              "2        18.50\n",
              "3        23.32\n",
              "4        28.12\n",
              "         ...  \n",
              "16551    20.11\n",
              "16552    17.93\n",
              "16553    23.97\n",
              "16554    19.00\n",
              "16555    23.30\n",
              "Name: imc, Length: 16556, dtype: float64"
            ]
          },
          "metadata": {
            "tags": []
          },
          "execution_count": 32
        }
      ]
    },
    {
      "cell_type": "code",
      "metadata": {
        "id": "w2P_MCrzjU03"
      },
      "source": [
        "classes_imc = [0, 16.99, 18.49, 24.99, 29.99, 34.99, 39.99, 60]\n",
        "labels = ['Muito abaixo do peso', 'Abaixo do peso', 'Peso normal', \n",
        "          'Acima do peso', 'Obesidade I', 'Obesidade II (severa)',\n",
        "          'Obesidade III (móribida)']\n",
        "\n",
        "dados['classificacao_imc'] = pd.cut(dados['imc'],\n",
        "                                    labels=labels,\n",
        "                                    bins=classes_imc,\n",
        "                                    include_lowest=True) "
      ],
      "execution_count": 33,
      "outputs": []
    },
    {
      "cell_type": "code",
      "metadata": {
        "id": "2FDsfaICk9Kd",
        "colab": {
          "base_uri": "https://localhost:8080/",
          "height": 415
        },
        "outputId": "95c02fca-94b9-45ab-a3c0-c7769ebcb7e8"
      },
      "source": [
        "dados[['imc', 'classificacao_imc']]"
      ],
      "execution_count": 34,
      "outputs": [
        {
          "output_type": "execute_result",
          "data": {
            "text/html": [
              "<div>\n",
              "<style scoped>\n",
              "    .dataframe tbody tr th:only-of-type {\n",
              "        vertical-align: middle;\n",
              "    }\n",
              "\n",
              "    .dataframe tbody tr th {\n",
              "        vertical-align: top;\n",
              "    }\n",
              "\n",
              "    .dataframe thead th {\n",
              "        text-align: right;\n",
              "    }\n",
              "</style>\n",
              "<table border=\"1\" class=\"dataframe\">\n",
              "  <thead>\n",
              "    <tr style=\"text-align: right;\">\n",
              "      <th></th>\n",
              "      <th>imc</th>\n",
              "      <th>classificacao_imc</th>\n",
              "    </tr>\n",
              "  </thead>\n",
              "  <tbody>\n",
              "    <tr>\n",
              "      <th>0</th>\n",
              "      <td>15.05</td>\n",
              "      <td>Muito abaixo do peso</td>\n",
              "    </tr>\n",
              "    <tr>\n",
              "      <th>1</th>\n",
              "      <td>21.73</td>\n",
              "      <td>Peso normal</td>\n",
              "    </tr>\n",
              "    <tr>\n",
              "      <th>2</th>\n",
              "      <td>18.50</td>\n",
              "      <td>Peso normal</td>\n",
              "    </tr>\n",
              "    <tr>\n",
              "      <th>3</th>\n",
              "      <td>23.32</td>\n",
              "      <td>Peso normal</td>\n",
              "    </tr>\n",
              "    <tr>\n",
              "      <th>4</th>\n",
              "      <td>28.12</td>\n",
              "      <td>Acima do peso</td>\n",
              "    </tr>\n",
              "    <tr>\n",
              "      <th>...</th>\n",
              "      <td>...</td>\n",
              "      <td>...</td>\n",
              "    </tr>\n",
              "    <tr>\n",
              "      <th>16551</th>\n",
              "      <td>20.11</td>\n",
              "      <td>Peso normal</td>\n",
              "    </tr>\n",
              "    <tr>\n",
              "      <th>16552</th>\n",
              "      <td>17.93</td>\n",
              "      <td>Abaixo do peso</td>\n",
              "    </tr>\n",
              "    <tr>\n",
              "      <th>16553</th>\n",
              "      <td>23.97</td>\n",
              "      <td>Peso normal</td>\n",
              "    </tr>\n",
              "    <tr>\n",
              "      <th>16554</th>\n",
              "      <td>19.00</td>\n",
              "      <td>Peso normal</td>\n",
              "    </tr>\n",
              "    <tr>\n",
              "      <th>16555</th>\n",
              "      <td>23.30</td>\n",
              "      <td>Peso normal</td>\n",
              "    </tr>\n",
              "  </tbody>\n",
              "</table>\n",
              "<p>16556 rows × 2 columns</p>\n",
              "</div>"
            ],
            "text/plain": [
              "         imc     classificacao_imc\n",
              "0      15.05  Muito abaixo do peso\n",
              "1      21.73           Peso normal\n",
              "2      18.50           Peso normal\n",
              "3      23.32           Peso normal\n",
              "4      28.12         Acima do peso\n",
              "...      ...                   ...\n",
              "16551  20.11           Peso normal\n",
              "16552  17.93        Abaixo do peso\n",
              "16553  23.97           Peso normal\n",
              "16554  19.00           Peso normal\n",
              "16555  23.30           Peso normal\n",
              "\n",
              "[16556 rows x 2 columns]"
            ]
          },
          "metadata": {
            "tags": []
          },
          "execution_count": 34
        }
      ]
    },
    {
      "cell_type": "code",
      "metadata": {
        "id": "IJZnv86irn1D"
      },
      "source": [
        "frequencia_imc_classificacao = tabela_frequencia_continuo(dados['classificacao_imc'],\n",
        "                                                 'Classificacao IMC')"
      ],
      "execution_count": 35,
      "outputs": []
    },
    {
      "cell_type": "code",
      "metadata": {
        "colab": {
          "base_uri": "https://localhost:8080/",
          "height": 294
        },
        "id": "kfthenSBsequ",
        "outputId": "28806207-4b15-4dc2-a760-6d68f3ccb9ee"
      },
      "source": [
        "frequencia_imc_classificacao"
      ],
      "execution_count": 36,
      "outputs": [
        {
          "output_type": "execute_result",
          "data": {
            "text/html": [
              "<div>\n",
              "<style scoped>\n",
              "    .dataframe tbody tr th:only-of-type {\n",
              "        vertical-align: middle;\n",
              "    }\n",
              "\n",
              "    .dataframe tbody tr th {\n",
              "        vertical-align: top;\n",
              "    }\n",
              "\n",
              "    .dataframe thead th {\n",
              "        text-align: right;\n",
              "    }\n",
              "</style>\n",
              "<table border=\"1\" class=\"dataframe\">\n",
              "  <thead>\n",
              "    <tr style=\"text-align: right;\">\n",
              "      <th></th>\n",
              "      <th>Frequência</th>\n",
              "      <th>Proporção (%)</th>\n",
              "    </tr>\n",
              "    <tr>\n",
              "      <th>Classificacao IMC</th>\n",
              "      <th></th>\n",
              "      <th></th>\n",
              "    </tr>\n",
              "  </thead>\n",
              "  <tbody>\n",
              "    <tr>\n",
              "      <th>Peso normal</th>\n",
              "      <td>9192</td>\n",
              "      <td>56</td>\n",
              "    </tr>\n",
              "    <tr>\n",
              "      <th>Abaixo do peso</th>\n",
              "      <td>2559</td>\n",
              "      <td>15</td>\n",
              "    </tr>\n",
              "    <tr>\n",
              "      <th>Muito abaixo do peso</th>\n",
              "      <td>2409</td>\n",
              "      <td>15</td>\n",
              "    </tr>\n",
              "    <tr>\n",
              "      <th>Acima do peso</th>\n",
              "      <td>1762</td>\n",
              "      <td>11</td>\n",
              "    </tr>\n",
              "    <tr>\n",
              "      <th>Obesidade I</th>\n",
              "      <td>489</td>\n",
              "      <td>3</td>\n",
              "    </tr>\n",
              "    <tr>\n",
              "      <th>Obesidade II (severa)</th>\n",
              "      <td>103</td>\n",
              "      <td>1</td>\n",
              "    </tr>\n",
              "    <tr>\n",
              "      <th>Obesidade III (móribida)</th>\n",
              "      <td>42</td>\n",
              "      <td>0</td>\n",
              "    </tr>\n",
              "  </tbody>\n",
              "</table>\n",
              "</div>"
            ],
            "text/plain": [
              "                          Frequência  Proporção (%)\n",
              "Classificacao IMC                                  \n",
              "Peso normal                     9192             56\n",
              "Abaixo do peso                  2559             15\n",
              "Muito abaixo do peso            2409             15\n",
              "Acima do peso                   1762             11\n",
              "Obesidade I                      489              3\n",
              "Obesidade II (severa)            103              1\n",
              "Obesidade III (móribida)          42              0"
            ]
          },
          "metadata": {
            "tags": []
          },
          "execution_count": 36
        }
      ]
    },
    {
      "cell_type": "markdown",
      "metadata": {
        "id": "r3T0IlgbN8jw"
      },
      "source": [
        "#Frequência em dados contínuos e pandas crosstab"
      ]
    },
    {
      "cell_type": "markdown",
      "metadata": {
        "id": "kEaPgJ0pNzB2"
      },
      "source": [
        "##Desafio 01 - Criar uma tabela de frequência para o peso seguindo a regra de Sturges."
      ]
    },
    {
      "cell_type": "code",
      "metadata": {
        "id": "opYYnExnQ1zP"
      },
      "source": [
        "tamanho_amostra = len(dados)\n",
        "\n",
        "k = int(1 + ((10/3) * np.log10(tamanho_amostra)))\n",
        "\n",
        "dados['altura_classes'] = pd.cut(x=dados['VB17004'] / 100, bins=k)\n",
        "\n",
        "frequencia_altura = tabela_frequencia_continuo(dados['altura_classes'], \n",
        "                                               'Altura (M)')"
      ],
      "execution_count": 37,
      "outputs": []
    },
    {
      "cell_type": "code",
      "metadata": {
        "colab": {
          "base_uri": "https://localhost:8080/",
          "height": 539
        },
        "id": "s-iWYFlLTijj",
        "outputId": "a779a17e-0987-4184-a608-e198111a1c51"
      },
      "source": [
        "frequencia_altura"
      ],
      "execution_count": 38,
      "outputs": [
        {
          "output_type": "execute_result",
          "data": {
            "text/html": [
              "<div>\n",
              "<style scoped>\n",
              "    .dataframe tbody tr th:only-of-type {\n",
              "        vertical-align: middle;\n",
              "    }\n",
              "\n",
              "    .dataframe tbody tr th {\n",
              "        vertical-align: top;\n",
              "    }\n",
              "\n",
              "    .dataframe thead th {\n",
              "        text-align: right;\n",
              "    }\n",
              "</style>\n",
              "<table border=\"1\" class=\"dataframe\">\n",
              "  <thead>\n",
              "    <tr style=\"text-align: right;\">\n",
              "      <th></th>\n",
              "      <th>Frequência</th>\n",
              "      <th>Proporção (%)</th>\n",
              "    </tr>\n",
              "    <tr>\n",
              "      <th>Altura (M)</th>\n",
              "      <th></th>\n",
              "      <th></th>\n",
              "    </tr>\n",
              "  </thead>\n",
              "  <tbody>\n",
              "    <tr>\n",
              "      <th>(1.573, 1.621]</th>\n",
              "      <td>3110</td>\n",
              "      <td>19</td>\n",
              "    </tr>\n",
              "    <tr>\n",
              "      <th>(1.526, 1.573]</th>\n",
              "      <td>2734</td>\n",
              "      <td>17</td>\n",
              "    </tr>\n",
              "    <tr>\n",
              "      <th>(1.621, 1.668]</th>\n",
              "      <td>2550</td>\n",
              "      <td>15</td>\n",
              "    </tr>\n",
              "    <tr>\n",
              "      <th>(1.668, 1.716]</th>\n",
              "      <td>2063</td>\n",
              "      <td>12</td>\n",
              "    </tr>\n",
              "    <tr>\n",
              "      <th>(1.478, 1.526]</th>\n",
              "      <td>1782</td>\n",
              "      <td>11</td>\n",
              "    </tr>\n",
              "    <tr>\n",
              "      <th>(1.716, 1.763]</th>\n",
              "      <td>1416</td>\n",
              "      <td>9</td>\n",
              "    </tr>\n",
              "    <tr>\n",
              "      <th>(1.431, 1.478]</th>\n",
              "      <td>1012</td>\n",
              "      <td>6</td>\n",
              "    </tr>\n",
              "    <tr>\n",
              "      <th>(1.763, 1.811]</th>\n",
              "      <td>749</td>\n",
              "      <td>5</td>\n",
              "    </tr>\n",
              "    <tr>\n",
              "      <th>(1.383, 1.431]</th>\n",
              "      <td>484</td>\n",
              "      <td>3</td>\n",
              "    </tr>\n",
              "    <tr>\n",
              "      <th>(1.811, 1.858]</th>\n",
              "      <td>300</td>\n",
              "      <td>2</td>\n",
              "    </tr>\n",
              "    <tr>\n",
              "      <th>(1.336, 1.383]</th>\n",
              "      <td>199</td>\n",
              "      <td>1</td>\n",
              "    </tr>\n",
              "    <tr>\n",
              "      <th>(1.858, 1.906]</th>\n",
              "      <td>94</td>\n",
              "      <td>1</td>\n",
              "    </tr>\n",
              "    <tr>\n",
              "      <th>(1.288, 1.336]</th>\n",
              "      <td>47</td>\n",
              "      <td>0</td>\n",
              "    </tr>\n",
              "    <tr>\n",
              "      <th>(1.906, 1.953]</th>\n",
              "      <td>13</td>\n",
              "      <td>0</td>\n",
              "    </tr>\n",
              "    <tr>\n",
              "      <th>(1.24, 1.288]</th>\n",
              "      <td>3</td>\n",
              "      <td>0</td>\n",
              "    </tr>\n",
              "  </tbody>\n",
              "</table>\n",
              "</div>"
            ],
            "text/plain": [
              "                Frequência  Proporção (%)\n",
              "Altura (M)                               \n",
              "(1.573, 1.621]        3110             19\n",
              "(1.526, 1.573]        2734             17\n",
              "(1.621, 1.668]        2550             15\n",
              "(1.668, 1.716]        2063             12\n",
              "(1.478, 1.526]        1782             11\n",
              "(1.716, 1.763]        1416              9\n",
              "(1.431, 1.478]        1012              6\n",
              "(1.763, 1.811]         749              5\n",
              "(1.383, 1.431]         484              3\n",
              "(1.811, 1.858]         300              2\n",
              "(1.336, 1.383]         199              1\n",
              "(1.858, 1.906]          94              1\n",
              "(1.288, 1.336]          47              0\n",
              "(1.906, 1.953]          13              0\n",
              "(1.24, 1.288]            3              0"
            ]
          },
          "metadata": {
            "tags": []
          },
          "execution_count": 38
        }
      ]
    },
    {
      "cell_type": "markdown",
      "metadata": {
        "id": "qlEZrky8N4Og"
      },
      "source": [
        "##Desafio 02 - Criar outros CrossTabs para analisar outras variáveis, além das abordadas em aulas. Pesquisar sobre o parâmetro aggfunc e testar em pelo menos uma tabela criada."
      ]
    },
    {
      "cell_type": "markdown",
      "metadata": {
        "id": "aP4PGoB7a72M"
      },
      "source": [
        "###Constrangimento com o questionário"
      ]
    },
    {
      "cell_type": "code",
      "metadata": {
        "id": "aRDavPWgVxGo"
      },
      "source": [
        "sim_nao = {\n",
        "    1:\t'Sim',\n",
        "    2:\t'Não',\n",
        "    99: 'Não informado'\n",
        "}"
      ],
      "execution_count": 39,
      "outputs": []
    },
    {
      "cell_type": "code",
      "metadata": {
        "id": "5PjEK2ehs4bK"
      },
      "source": [
        "constrangimento = tabela_frequencia(dados['VB16001A08'], \n",
        "                                    'Você achou este questionário constrangedor?',\n",
        "                                    sim_nao) "
      ],
      "execution_count": 40,
      "outputs": []
    },
    {
      "cell_type": "code",
      "metadata": {
        "colab": {
          "base_uri": "https://localhost:8080/",
          "height": 171
        },
        "id": "vYzZ-mZ9WWgb",
        "outputId": "ac7b33dd-ba8e-4808-cb66-b7e23ad42abe"
      },
      "source": [
        "constrangimento"
      ],
      "execution_count": 41,
      "outputs": [
        {
          "output_type": "execute_result",
          "data": {
            "text/html": [
              "<div>\n",
              "<style scoped>\n",
              "    .dataframe tbody tr th:only-of-type {\n",
              "        vertical-align: middle;\n",
              "    }\n",
              "\n",
              "    .dataframe tbody tr th {\n",
              "        vertical-align: top;\n",
              "    }\n",
              "\n",
              "    .dataframe thead th {\n",
              "        text-align: right;\n",
              "    }\n",
              "</style>\n",
              "<table border=\"1\" class=\"dataframe\">\n",
              "  <thead>\n",
              "    <tr style=\"text-align: right;\">\n",
              "      <th></th>\n",
              "      <th>Frequência</th>\n",
              "      <th>Proporção (%)</th>\n",
              "    </tr>\n",
              "    <tr>\n",
              "      <th>Você achou este questionário constrangedor?</th>\n",
              "      <th></th>\n",
              "      <th></th>\n",
              "    </tr>\n",
              "  </thead>\n",
              "  <tbody>\n",
              "    <tr>\n",
              "      <th>Não</th>\n",
              "      <td>16285</td>\n",
              "      <td>98</td>\n",
              "    </tr>\n",
              "    <tr>\n",
              "      <th>Sim</th>\n",
              "      <td>189</td>\n",
              "      <td>1</td>\n",
              "    </tr>\n",
              "    <tr>\n",
              "      <th>Não informado</th>\n",
              "      <td>82</td>\n",
              "      <td>0</td>\n",
              "    </tr>\n",
              "  </tbody>\n",
              "</table>\n",
              "</div>"
            ],
            "text/plain": [
              "                                             Frequência  Proporção (%)\n",
              "Você achou este questionário constrangedor?                           \n",
              "Não                                               16285             98\n",
              "Sim                                                 189              1\n",
              "Não informado                                        82              0"
            ]
          },
          "metadata": {
            "tags": []
          },
          "execution_count": 41
        }
      ]
    },
    {
      "cell_type": "code",
      "metadata": {
        "colab": {
          "base_uri": "https://localhost:8080/",
          "height": 171
        },
        "id": "X_VZnFOpVuqr",
        "outputId": "fb07b32e-3ba9-4265-fae6-40326786ddac"
      },
      "source": [
        "constrangimento_cruzado = round(pd.crosstab(dados['VB16001A08'], dados['VB01001'],\n",
        "                                      normalize='columns') * 100, 0)\n",
        "constrangimento_cruzado.rename(index=sim_nao, inplace=True)\n",
        "constrangimento_cruzado.rename(columns={1: 'Masculino', 2: 'Feminino'}, inplace=True)\n",
        "constrangimento_cruzado"
      ],
      "execution_count": 42,
      "outputs": [
        {
          "output_type": "execute_result",
          "data": {
            "text/html": [
              "<div>\n",
              "<style scoped>\n",
              "    .dataframe tbody tr th:only-of-type {\n",
              "        vertical-align: middle;\n",
              "    }\n",
              "\n",
              "    .dataframe tbody tr th {\n",
              "        vertical-align: top;\n",
              "    }\n",
              "\n",
              "    .dataframe thead th {\n",
              "        text-align: right;\n",
              "    }\n",
              "</style>\n",
              "<table border=\"1\" class=\"dataframe\">\n",
              "  <thead>\n",
              "    <tr style=\"text-align: right;\">\n",
              "      <th>VB01001</th>\n",
              "      <th>Masculino</th>\n",
              "      <th>Feminino</th>\n",
              "    </tr>\n",
              "    <tr>\n",
              "      <th>VB16001A08</th>\n",
              "      <th></th>\n",
              "      <th></th>\n",
              "    </tr>\n",
              "  </thead>\n",
              "  <tbody>\n",
              "    <tr>\n",
              "      <th>Sim</th>\n",
              "      <td>1.0</td>\n",
              "      <td>1.0</td>\n",
              "    </tr>\n",
              "    <tr>\n",
              "      <th>Não</th>\n",
              "      <td>98.0</td>\n",
              "      <td>99.0</td>\n",
              "    </tr>\n",
              "    <tr>\n",
              "      <th>Não informado</th>\n",
              "      <td>1.0</td>\n",
              "      <td>0.0</td>\n",
              "    </tr>\n",
              "  </tbody>\n",
              "</table>\n",
              "</div>"
            ],
            "text/plain": [
              "VB01001        Masculino  Feminino\n",
              "VB16001A08                        \n",
              "Sim                  1.0       1.0\n",
              "Não                 98.0      99.0\n",
              "Não informado        1.0       0.0"
            ]
          },
          "metadata": {
            "tags": []
          },
          "execution_count": 42
        }
      ]
    },
    {
      "cell_type": "code",
      "metadata": {
        "colab": {
          "base_uri": "https://localhost:8080/",
          "height": 171
        },
        "id": "maaQ0k56aTNP",
        "outputId": "94cbef01-e5e0-451f-d616-734cdfbe002c"
      },
      "source": [
        "constrangimento_cruzado = round(pd.crosstab(dados['VB16001A08'], dados['VB01001'],\n",
        "                                      normalize='index') * 100, 0)\n",
        "constrangimento_cruzado.rename(index=sim_nao, inplace=True)\n",
        "constrangimento_cruzado.rename(columns={1: 'Masculino', 2: 'Feminino'}, inplace=True)\n",
        "constrangimento_cruzado"
      ],
      "execution_count": 43,
      "outputs": [
        {
          "output_type": "execute_result",
          "data": {
            "text/html": [
              "<div>\n",
              "<style scoped>\n",
              "    .dataframe tbody tr th:only-of-type {\n",
              "        vertical-align: middle;\n",
              "    }\n",
              "\n",
              "    .dataframe tbody tr th {\n",
              "        vertical-align: top;\n",
              "    }\n",
              "\n",
              "    .dataframe thead th {\n",
              "        text-align: right;\n",
              "    }\n",
              "</style>\n",
              "<table border=\"1\" class=\"dataframe\">\n",
              "  <thead>\n",
              "    <tr style=\"text-align: right;\">\n",
              "      <th>VB01001</th>\n",
              "      <th>Masculino</th>\n",
              "      <th>Feminino</th>\n",
              "    </tr>\n",
              "    <tr>\n",
              "      <th>VB16001A08</th>\n",
              "      <th></th>\n",
              "      <th></th>\n",
              "    </tr>\n",
              "  </thead>\n",
              "  <tbody>\n",
              "    <tr>\n",
              "      <th>Sim</th>\n",
              "      <td>60.0</td>\n",
              "      <td>40.0</td>\n",
              "    </tr>\n",
              "    <tr>\n",
              "      <th>Não</th>\n",
              "      <td>50.0</td>\n",
              "      <td>50.0</td>\n",
              "    </tr>\n",
              "    <tr>\n",
              "      <th>Não informado</th>\n",
              "      <td>67.0</td>\n",
              "      <td>33.0</td>\n",
              "    </tr>\n",
              "  </tbody>\n",
              "</table>\n",
              "</div>"
            ],
            "text/plain": [
              "VB01001        Masculino  Feminino\n",
              "VB16001A08                        \n",
              "Sim                 60.0      40.0\n",
              "Não                 50.0      50.0\n",
              "Não informado       67.0      33.0"
            ]
          },
          "metadata": {
            "tags": []
          },
          "execution_count": 43
        }
      ]
    },
    {
      "cell_type": "markdown",
      "metadata": {
        "id": "oPFj5vVoZkCK"
      },
      "source": [
        "A normalização pode ser feita pela linha, pela coluna ou pela frequência total."
      ]
    },
    {
      "cell_type": "markdown",
      "metadata": {
        "id": "o8Ano4o0anyR"
      },
      "source": [
        "###Perspectiva"
      ]
    },
    {
      "cell_type": "markdown",
      "metadata": {
        "id": "fEPkAy--c6iZ"
      },
      "source": [
        "####Por sexo"
      ]
    },
    {
      "cell_type": "code",
      "metadata": {
        "id": "KzH9CzQtXGff"
      },
      "source": [
        "dic_perspectiva = {\n",
        "    1:\t'Somente continuar estudando',\n",
        "    2:\t'Somente trabalhar',\n",
        "    3:\t'Continuar estudando e trabalhar',\n",
        "    4:\t'Seguir outro plano',\n",
        "    5:\t'Não sei',\n",
        "    99:\t'Não informado'\n",
        "}"
      ],
      "execution_count": 44,
      "outputs": []
    },
    {
      "cell_type": "code",
      "metadata": {
        "colab": {
          "base_uri": "https://localhost:8080/",
          "height": 281
        },
        "id": "lvI7W21va167",
        "outputId": "95f4b9ef-c83a-4d74-df15-14f8eb6bdff0"
      },
      "source": [
        "perspectiva_sexo = round(pd.crosstab(dados['VB01026'], dados['VB01001'], \n",
        "                               normalize='columns', colnames=['Sexo'],\n",
        "                               rownames=['Quando terminar o ciclo/curso que você está frequentando atualmente, você pretende?']) * 100, 0)\n",
        "perspectiva_sexo.rename(index=dic_perspectiva, inplace=True)\n",
        "perspectiva_sexo.rename(columns={1: 'Masculino', 2: 'Feminino'}, inplace=True)\n",
        "perspectiva_sexo"
      ],
      "execution_count": 45,
      "outputs": [
        {
          "output_type": "execute_result",
          "data": {
            "text/html": [
              "<div>\n",
              "<style scoped>\n",
              "    .dataframe tbody tr th:only-of-type {\n",
              "        vertical-align: middle;\n",
              "    }\n",
              "\n",
              "    .dataframe tbody tr th {\n",
              "        vertical-align: top;\n",
              "    }\n",
              "\n",
              "    .dataframe thead th {\n",
              "        text-align: right;\n",
              "    }\n",
              "</style>\n",
              "<table border=\"1\" class=\"dataframe\">\n",
              "  <thead>\n",
              "    <tr style=\"text-align: right;\">\n",
              "      <th>Sexo</th>\n",
              "      <th>Masculino</th>\n",
              "      <th>Feminino</th>\n",
              "    </tr>\n",
              "    <tr>\n",
              "      <th>Quando terminar o ciclo/curso que você está frequentando atualmente, você pretende?</th>\n",
              "      <th></th>\n",
              "      <th></th>\n",
              "    </tr>\n",
              "  </thead>\n",
              "  <tbody>\n",
              "    <tr>\n",
              "      <th>Somente continuar estudando</th>\n",
              "      <td>15.0</td>\n",
              "      <td>15.0</td>\n",
              "    </tr>\n",
              "    <tr>\n",
              "      <th>Somente trabalhar</th>\n",
              "      <td>9.0</td>\n",
              "      <td>5.0</td>\n",
              "    </tr>\n",
              "    <tr>\n",
              "      <th>Continuar estudando e trabalhar</th>\n",
              "      <td>61.0</td>\n",
              "      <td>69.0</td>\n",
              "    </tr>\n",
              "    <tr>\n",
              "      <th>Seguir outro plano</th>\n",
              "      <td>7.0</td>\n",
              "      <td>5.0</td>\n",
              "    </tr>\n",
              "    <tr>\n",
              "      <th>Não sei</th>\n",
              "      <td>8.0</td>\n",
              "      <td>6.0</td>\n",
              "    </tr>\n",
              "    <tr>\n",
              "      <th>Não informado</th>\n",
              "      <td>0.0</td>\n",
              "      <td>0.0</td>\n",
              "    </tr>\n",
              "  </tbody>\n",
              "</table>\n",
              "</div>"
            ],
            "text/plain": [
              "Sexo                                                Masculino  Feminino\n",
              "Quando terminar o ciclo/curso que você está fre...                     \n",
              "Somente continuar estudando                              15.0      15.0\n",
              "Somente trabalhar                                         9.0       5.0\n",
              "Continuar estudando e trabalhar                          61.0      69.0\n",
              "Seguir outro plano                                        7.0       5.0\n",
              "Não sei                                                   8.0       6.0\n",
              "Não informado                                             0.0       0.0"
            ]
          },
          "metadata": {
            "tags": []
          },
          "execution_count": 45
        }
      ]
    },
    {
      "cell_type": "markdown",
      "metadata": {
        "id": "ej52n1wWcL9m"
      },
      "source": [
        "Para maioria de ambos os sexos a perspectiva é continuar estudando e trabalhar ou continuar estudando."
      ]
    },
    {
      "cell_type": "markdown",
      "metadata": {
        "id": "cjFz4m3Dc-ib"
      },
      "source": [
        "####Por Região"
      ]
    },
    {
      "cell_type": "code",
      "metadata": {
        "colab": {
          "base_uri": "https://localhost:8080/",
          "height": 298
        },
        "id": "e9qtuoT2bsot",
        "outputId": "451a5f44-6215-4c5f-b06b-cc73191a527a"
      },
      "source": [
        "perspectiva_regioes = round(pd.crosstab(dados['VB01026'], dados['REGEOGR'], \n",
        "                               normalize='columns', colnames=['Regiões'],\n",
        "                               rownames=['Quando terminar o ciclo/curso que você está frequentando atualmente, você pretende?']) * 100, 0)\n",
        "perspectiva_regioes.rename(index=dic_perspectiva, inplace=True)\n",
        "perspectiva_regioes.rename(columns=dic_regioes, inplace=True)\n",
        "perspectiva_regioes"
      ],
      "execution_count": 46,
      "outputs": [
        {
          "output_type": "execute_result",
          "data": {
            "text/html": [
              "<div>\n",
              "<style scoped>\n",
              "    .dataframe tbody tr th:only-of-type {\n",
              "        vertical-align: middle;\n",
              "    }\n",
              "\n",
              "    .dataframe tbody tr th {\n",
              "        vertical-align: top;\n",
              "    }\n",
              "\n",
              "    .dataframe thead th {\n",
              "        text-align: right;\n",
              "    }\n",
              "</style>\n",
              "<table border=\"1\" class=\"dataframe\">\n",
              "  <thead>\n",
              "    <tr style=\"text-align: right;\">\n",
              "      <th>Regiões</th>\n",
              "      <th>Norte</th>\n",
              "      <th>Nordeste</th>\n",
              "      <th>Sudeste</th>\n",
              "      <th>Sul</th>\n",
              "      <th>Centro-Oeste</th>\n",
              "    </tr>\n",
              "    <tr>\n",
              "      <th>Quando terminar o ciclo/curso que você está frequentando atualmente, você pretende?</th>\n",
              "      <th></th>\n",
              "      <th></th>\n",
              "      <th></th>\n",
              "      <th></th>\n",
              "      <th></th>\n",
              "    </tr>\n",
              "  </thead>\n",
              "  <tbody>\n",
              "    <tr>\n",
              "      <th>Somente continuar estudando</th>\n",
              "      <td>17.0</td>\n",
              "      <td>17.0</td>\n",
              "      <td>13.0</td>\n",
              "      <td>11.0</td>\n",
              "      <td>16.0</td>\n",
              "    </tr>\n",
              "    <tr>\n",
              "      <th>Somente trabalhar</th>\n",
              "      <td>6.0</td>\n",
              "      <td>7.0</td>\n",
              "      <td>8.0</td>\n",
              "      <td>8.0</td>\n",
              "      <td>6.0</td>\n",
              "    </tr>\n",
              "    <tr>\n",
              "      <th>Continuar estudando e trabalhar</th>\n",
              "      <td>62.0</td>\n",
              "      <td>64.0</td>\n",
              "      <td>66.0</td>\n",
              "      <td>68.0</td>\n",
              "      <td>66.0</td>\n",
              "    </tr>\n",
              "    <tr>\n",
              "      <th>Seguir outro plano</th>\n",
              "      <td>7.0</td>\n",
              "      <td>6.0</td>\n",
              "      <td>6.0</td>\n",
              "      <td>5.0</td>\n",
              "      <td>6.0</td>\n",
              "    </tr>\n",
              "    <tr>\n",
              "      <th>Não sei</th>\n",
              "      <td>8.0</td>\n",
              "      <td>7.0</td>\n",
              "      <td>6.0</td>\n",
              "      <td>8.0</td>\n",
              "      <td>7.0</td>\n",
              "    </tr>\n",
              "    <tr>\n",
              "      <th>Não informado</th>\n",
              "      <td>0.0</td>\n",
              "      <td>0.0</td>\n",
              "      <td>0.0</td>\n",
              "      <td>0.0</td>\n",
              "      <td>0.0</td>\n",
              "    </tr>\n",
              "  </tbody>\n",
              "</table>\n",
              "</div>"
            ],
            "text/plain": [
              "Regiões                                             Norte  ...  Centro-Oeste\n",
              "Quando terminar o ciclo/curso que você está fre...         ...              \n",
              "Somente continuar estudando                          17.0  ...          16.0\n",
              "Somente trabalhar                                     6.0  ...           6.0\n",
              "Continuar estudando e trabalhar                      62.0  ...          66.0\n",
              "Seguir outro plano                                    7.0  ...           6.0\n",
              "Não sei                                               8.0  ...           7.0\n",
              "Não informado                                         0.0  ...           0.0\n",
              "\n",
              "[6 rows x 5 columns]"
            ]
          },
          "metadata": {
            "tags": []
          },
          "execution_count": 46
        }
      ]
    },
    {
      "cell_type": "code",
      "metadata": {
        "colab": {
          "base_uri": "https://localhost:8080/",
          "height": 454
        },
        "id": "qsZMIk8qebnE",
        "outputId": "3ccff612-db65-4630-b439-ebeb89592b67"
      },
      "source": [
        "perspectiva_regioes.plot(kind='barh', figsize=(10, 7), fontsize=15)\n",
        "plt.ylabel('')\n",
        "plt.title('Perspectiva por Região - PeNSE (2015)', fontsize=20)\n",
        "plt.show()"
      ],
      "execution_count": 47,
      "outputs": [
        {
          "output_type": "display_data",
          "data": {
            "image/png": "[encoded data removed]",
            "text/plain": [
              "<Figure size 720x504 with 1 Axes>"
            ]
          },
          "metadata": {
            "tags": [],
            "needs_background": "light"
          }
        }
      ]
    },
    {
      "cell_type": "markdown",
      "metadata": {
        "id": "ENZLBlQHaDl4"
      },
      "source": [
        "####Pretensão de escolaridade"
      ]
    },
    {
      "cell_type": "code",
      "metadata": {
        "id": "76_6jdLMaMDK"
      },
      "source": [
        "dic_pretensao_escolaridade = {\n",
        "1:\t'Ensino Fundamental', \n",
        "2:\t'Ensino Médio',\n",
        "3:\t'Ensino Médio Técnico',\n",
        "4:\t'Ensino Superior',\n",
        "5:\t'Pós-graduação',\n",
        "6:\t'Não sei',\n",
        "99:\t'Não informado'}"
      ],
      "execution_count": 54,
      "outputs": []
    },
    {
      "cell_type": "code",
      "metadata": {
        "colab": {
          "base_uri": "https://localhost:8080/",
          "height": 294
        },
        "id": "iavKZPG8ZlHB",
        "outputId": "b6380841-f0d5-41c0-d9d0-abad5dd9f163"
      },
      "source": [
        "pretensao_escolaridade = round(pd.crosstab(dados['VB01025'], dados['VB01001'], normalize='columns',\n",
        "                  rownames=['Qual o grau de escolaridade mais elevado que você pretendo concluir?'],\n",
        "                  colnames=['Sexo']\n",
        "                  ) * 100, 0)\n",
        "\n",
        "pretensao_escolaridade.rename(index=dic_pretensao_escolaridade, inplace=True)\n",
        "pretensao_escolaridade.rename(columns={1: 'Masculino', 2: 'Feminino'}, inplace=True)\n",
        "pretensao_escolaridade"
      ],
      "execution_count": 58,
      "outputs": [
        {
          "output_type": "execute_result",
          "data": {
            "text/html": [
              "<div>\n",
              "<style scoped>\n",
              "    .dataframe tbody tr th:only-of-type {\n",
              "        vertical-align: middle;\n",
              "    }\n",
              "\n",
              "    .dataframe tbody tr th {\n",
              "        vertical-align: top;\n",
              "    }\n",
              "\n",
              "    .dataframe thead th {\n",
              "        text-align: right;\n",
              "    }\n",
              "</style>\n",
              "<table border=\"1\" class=\"dataframe\">\n",
              "  <thead>\n",
              "    <tr style=\"text-align: right;\">\n",
              "      <th>Sexo</th>\n",
              "      <th>Masculino</th>\n",
              "      <th>Feminino</th>\n",
              "    </tr>\n",
              "    <tr>\n",
              "      <th>Qual o grau de escolaridade mais elevado que você pretendo concluir?</th>\n",
              "      <th></th>\n",
              "      <th></th>\n",
              "    </tr>\n",
              "  </thead>\n",
              "  <tbody>\n",
              "    <tr>\n",
              "      <th>Ensino Fundamental</th>\n",
              "      <td>10.0</td>\n",
              "      <td>7.0</td>\n",
              "    </tr>\n",
              "    <tr>\n",
              "      <th>Ensino Médio</th>\n",
              "      <td>11.0</td>\n",
              "      <td>9.0</td>\n",
              "    </tr>\n",
              "    <tr>\n",
              "      <th>Ensino Médio Técnico</th>\n",
              "      <td>5.0</td>\n",
              "      <td>3.0</td>\n",
              "    </tr>\n",
              "    <tr>\n",
              "      <th>Ensino Superior</th>\n",
              "      <td>16.0</td>\n",
              "      <td>15.0</td>\n",
              "    </tr>\n",
              "    <tr>\n",
              "      <th>Pós-graduação</th>\n",
              "      <td>38.0</td>\n",
              "      <td>47.0</td>\n",
              "    </tr>\n",
              "    <tr>\n",
              "      <th>Não sei</th>\n",
              "      <td>21.0</td>\n",
              "      <td>19.0</td>\n",
              "    </tr>\n",
              "    <tr>\n",
              "      <th>Não informado</th>\n",
              "      <td>0.0</td>\n",
              "      <td>0.0</td>\n",
              "    </tr>\n",
              "  </tbody>\n",
              "</table>\n",
              "</div>"
            ],
            "text/plain": [
              "Sexo                                                Masculino  Feminino\n",
              "Qual o grau de escolaridade mais elevado que vo...                     \n",
              "Ensino Fundamental                                       10.0       7.0\n",
              "Ensino Médio                                             11.0       9.0\n",
              "Ensino Médio Técnico                                      5.0       3.0\n",
              "Ensino Superior                                          16.0      15.0\n",
              "Pós-graduação                                            38.0      47.0\n",
              "Não sei                                                  21.0      19.0\n",
              "Não informado                                             0.0       0.0"
            ]
          },
          "metadata": {
            "tags": []
          },
          "execution_count": 58
        }
      ]
    },
    {
      "cell_type": "markdown",
      "metadata": {
        "id": "rIAHmWDsf7zx"
      },
      "source": [
        "####Aggfunc - média da altura"
      ]
    },
    {
      "cell_type": "code",
      "metadata": {
        "id": "iDIMu1Gddhez"
      },
      "source": [
        "dic_idade = {\n",
        "    11:\t'11 anos ou menos',\n",
        "    12:\t'12 anos',\n",
        "    13:\t'13 anos',\n",
        "    14:\t'14 anos',\n",
        "    15:\t'15 anos',\n",
        "    16:\t'16 anos',\n",
        "    17:\t'17 anos',\n",
        "    18:\t'18 anos',\n",
        "    19:\t'19 anos ou mais'\n",
        "}"
      ],
      "execution_count": 59,
      "outputs": []
    },
    {
      "cell_type": "code",
      "metadata": {
        "colab": {
          "base_uri": "https://localhost:8080/",
          "height": 355
        },
        "id": "XzU3aH9lZqPd",
        "outputId": "d4447972-1e90-4749-f250-9b589dc9da1a"
      },
      "source": [
        "media_altura = round(pd.crosstab(dados['VB01003'], dados['VB01001'], \n",
        "                           values=dados['VB17004'], \n",
        "                           rownames=['Qual a sua idade?'], colnames=['Sexo'], \n",
        "                           aggfunc='mean') / 100, 2)\n",
        "\n",
        "media_altura.rename(index=dic_idade, inplace=True)\n",
        "media_altura.rename(columns={1: 'Masculino', 2: 'Feminino'}, inplace=True)\n",
        "media_altura"
      ],
      "execution_count": 63,
      "outputs": [
        {
          "output_type": "execute_result",
          "data": {
            "text/html": [
              "<div>\n",
              "<style scoped>\n",
              "    .dataframe tbody tr th:only-of-type {\n",
              "        vertical-align: middle;\n",
              "    }\n",
              "\n",
              "    .dataframe tbody tr th {\n",
              "        vertical-align: top;\n",
              "    }\n",
              "\n",
              "    .dataframe thead th {\n",
              "        text-align: right;\n",
              "    }\n",
              "</style>\n",
              "<table border=\"1\" class=\"dataframe\">\n",
              "  <thead>\n",
              "    <tr style=\"text-align: right;\">\n",
              "      <th>Sexo</th>\n",
              "      <th>Masculino</th>\n",
              "      <th>Feminino</th>\n",
              "    </tr>\n",
              "    <tr>\n",
              "      <th>Qual a sua idade?</th>\n",
              "      <th></th>\n",
              "      <th></th>\n",
              "    </tr>\n",
              "  </thead>\n",
              "  <tbody>\n",
              "    <tr>\n",
              "      <th>11 anos ou menos</th>\n",
              "      <td>1.48</td>\n",
              "      <td>1.50</td>\n",
              "    </tr>\n",
              "    <tr>\n",
              "      <th>12 anos</th>\n",
              "      <td>1.54</td>\n",
              "      <td>1.55</td>\n",
              "    </tr>\n",
              "    <tr>\n",
              "      <th>13 anos</th>\n",
              "      <td>1.61</td>\n",
              "      <td>1.58</td>\n",
              "    </tr>\n",
              "    <tr>\n",
              "      <th>14 anos</th>\n",
              "      <td>1.66</td>\n",
              "      <td>1.59</td>\n",
              "    </tr>\n",
              "    <tr>\n",
              "      <th>15 anos</th>\n",
              "      <td>1.70</td>\n",
              "      <td>1.61</td>\n",
              "    </tr>\n",
              "    <tr>\n",
              "      <th>16 anos</th>\n",
              "      <td>1.72</td>\n",
              "      <td>1.60</td>\n",
              "    </tr>\n",
              "    <tr>\n",
              "      <th>17 anos</th>\n",
              "      <td>1.74</td>\n",
              "      <td>1.61</td>\n",
              "    </tr>\n",
              "    <tr>\n",
              "      <th>18 anos</th>\n",
              "      <td>1.73</td>\n",
              "      <td>1.59</td>\n",
              "    </tr>\n",
              "    <tr>\n",
              "      <th>19 anos ou mais</th>\n",
              "      <td>1.72</td>\n",
              "      <td>1.59</td>\n",
              "    </tr>\n",
              "  </tbody>\n",
              "</table>\n",
              "</div>"
            ],
            "text/plain": [
              "Sexo               Masculino  Feminino\n",
              "Qual a sua idade?                     \n",
              "11 anos ou menos        1.48      1.50\n",
              "12 anos                 1.54      1.55\n",
              "13 anos                 1.61      1.58\n",
              "14 anos                 1.66      1.59\n",
              "15 anos                 1.70      1.61\n",
              "16 anos                 1.72      1.60\n",
              "17 anos                 1.74      1.61\n",
              "18 anos                 1.73      1.59\n",
              "19 anos ou mais         1.72      1.59"
            ]
          },
          "metadata": {
            "tags": []
          },
          "execution_count": 63
        }
      ]
    },
    {
      "cell_type": "markdown",
      "metadata": {
        "id": "1mobYyNlgFdI"
      },
      "source": [
        "####Cuidado com o peso"
      ]
    },
    {
      "cell_type": "code",
      "metadata": {
        "id": "F6AB7-lUi2n0"
      },
      "source": [
        "dic_cuidado_peso = {\n",
        "1:\t'Não estou fazendo nada',\n",
        "2:\t'Estou tentando perder peso',\n",
        "3:\t'Estou tentando ganhar peso',\n",
        "4:\t'Estou tentando manter o mesmo peso',\n",
        "99:\t'Não informado'}"
      ],
      "execution_count": 66,
      "outputs": []
    },
    {
      "cell_type": "code",
      "metadata": {
        "colab": {
          "base_uri": "https://localhost:8080/",
          "height": 233
        },
        "id": "_8quoPfpeMl0",
        "outputId": "5ce38591-a1b2-485c-8ae5-e340356a1591"
      },
      "source": [
        "cuidado_peso = pd.crosstab(dados['VB11002'], dados['VB01001'], \n",
        "                           values=dados['VB17003'], \n",
        "                           rownames=['O que você está fazendo em relação a seu peso?'], colnames=[''], \n",
        "                           aggfunc='mean')\n",
        "\n",
        "cuidado_peso.rename(index=dic_cuidado_peso, inplace=True)\n",
        "cuidado_peso.rename(columns={1: 'Masculino', 2: 'Feminino'}, inplace=True)\n",
        "cuidado_peso"
      ],
      "execution_count": 68,
      "outputs": [
        {
          "output_type": "execute_result",
          "data": {
            "text/html": [
              "<div>\n",
              "<style scoped>\n",
              "    .dataframe tbody tr th:only-of-type {\n",
              "        vertical-align: middle;\n",
              "    }\n",
              "\n",
              "    .dataframe tbody tr th {\n",
              "        vertical-align: top;\n",
              "    }\n",
              "\n",
              "    .dataframe thead th {\n",
              "        text-align: right;\n",
              "    }\n",
              "</style>\n",
              "<table border=\"1\" class=\"dataframe\">\n",
              "  <thead>\n",
              "    <tr style=\"text-align: right;\">\n",
              "      <th></th>\n",
              "      <th>Masculino</th>\n",
              "      <th>Feminino</th>\n",
              "    </tr>\n",
              "    <tr>\n",
              "      <th>O que você está fazendo em relação a seu peso?</th>\n",
              "      <th></th>\n",
              "      <th></th>\n",
              "    </tr>\n",
              "  </thead>\n",
              "  <tbody>\n",
              "    <tr>\n",
              "      <th>Não estou fazendo nada</th>\n",
              "      <td>54.750124</td>\n",
              "      <td>50.273315</td>\n",
              "    </tr>\n",
              "    <tr>\n",
              "      <th>Estou tentando perder peso</th>\n",
              "      <td>65.585540</td>\n",
              "      <td>60.234523</td>\n",
              "    </tr>\n",
              "    <tr>\n",
              "      <th>Estou tentando ganhar peso</th>\n",
              "      <td>50.734544</td>\n",
              "      <td>44.402672</td>\n",
              "    </tr>\n",
              "    <tr>\n",
              "      <th>Estou tentando manter o mesmo peso</th>\n",
              "      <td>55.515322</td>\n",
              "      <td>50.064812</td>\n",
              "    </tr>\n",
              "    <tr>\n",
              "      <th>Não informado</th>\n",
              "      <td>54.348649</td>\n",
              "      <td>49.438182</td>\n",
              "    </tr>\n",
              "  </tbody>\n",
              "</table>\n",
              "</div>"
            ],
            "text/plain": [
              "                                                Masculino   Feminino\n",
              "O que você está fazendo em relação a seu peso?                      \n",
              "Não estou fazendo nada                          54.750124  50.273315\n",
              "Estou tentando perder peso                      65.585540  60.234523\n",
              "Estou tentando ganhar peso                      50.734544  44.402672\n",
              "Estou tentando manter o mesmo peso              55.515322  50.064812\n",
              "Não informado                                   54.348649  49.438182"
            ]
          },
          "metadata": {
            "tags": []
          },
          "execution_count": 68
        }
      ]
    },
    {
      "cell_type": "code",
      "metadata": {
        "colab": {
          "base_uri": "https://localhost:8080/",
          "height": 503
        },
        "id": "rClWmdTChbe_",
        "outputId": "39be6ff6-6588-47d8-f64d-f13e93e51da8"
      },
      "source": [
        "cuidado_peso.plot(kind='barh', figsize=(10, 8), fontsize=15, grid=True)\n",
        "plt.title('Cuidado com o peso X Peso médio', fontsize=20)\n",
        "plt.ylabel('')\n",
        "plt.show()"
      ],
      "execution_count": 74,
      "outputs": [
        {
          "output_type": "display_data",
          "data": {
            "image/png": "[encoded data removed]",
            "text/plain": [
              "<Figure size 720x576 with 1 Axes>"
            ]
          },
          "metadata": {
            "tags": [],
            "needs_background": "light"
          }
        }
      ]
    },
    {
      "cell_type": "code",
      "metadata": {
        "id": "OLN-afQXrR5a"
      },
      "source": [
        "comeu_fora = {\n",
        "1:\t'Não comi em restaurantes fast food nos últimos 7 dias (0 dia)',\n",
        "2:\t'1 dia nos últimos 7 dias',\n",
        "3:\t'2 dias nos últimos 7 dias',\n",
        "4:\t'3 dias nos últimos 7 dias',\n",
        "5:\t'4 dias nos últimos 7 dias',\n",
        "6:\t'5 dias nos últimos 7 dias',\n",
        "7:\t'6 dias nos últimos 7 dias',\n",
        "8:\t'Todos os dias nos últimos 7 dias',\n",
        "99:\t'Não informado'}"
      ],
      "execution_count": 85,
      "outputs": []
    },
    {
      "cell_type": "code",
      "metadata": {
        "colab": {
          "base_uri": "https://localhost:8080/",
          "height": 494
        },
        "id": "PZwdlUHkkhTy",
        "outputId": "1c9c73d2-3171-4a2c-bf56-cc0e2e21fa08"
      },
      "source": [
        "comeu_fora_imc = round(pd.crosstab(dados['VB02023'], dados['classificacao_imc'],\n",
        "                             normalize='columns',\n",
        "                             rownames=['NOS ÚLTIMOS 7 DIAS, em quantos dias você comeu em restaurantes fast food, tais como lanchonetes, barracas de cachorro quentes, pizzaria etc?']) * 100, 2)\n",
        "comeu_fora_imc.rename(index=comeu_fora, inplace=True)\n",
        "comeu_fora_imc"
      ],
      "execution_count": 92,
      "outputs": [
        {
          "output_type": "execute_result",
          "data": {
            "text/html": [
              "<div>\n",
              "<style scoped>\n",
              "    .dataframe tbody tr th:only-of-type {\n",
              "        vertical-align: middle;\n",
              "    }\n",
              "\n",
              "    .dataframe tbody tr th {\n",
              "        vertical-align: top;\n",
              "    }\n",
              "\n",
              "    .dataframe thead th {\n",
              "        text-align: right;\n",
              "    }\n",
              "</style>\n",
              "<table border=\"1\" class=\"dataframe\">\n",
              "  <thead>\n",
              "    <tr style=\"text-align: right;\">\n",
              "      <th>classificacao_imc</th>\n",
              "      <th>Muito abaixo do peso</th>\n",
              "      <th>Abaixo do peso</th>\n",
              "      <th>Peso normal</th>\n",
              "      <th>Acima do peso</th>\n",
              "      <th>Obesidade I</th>\n",
              "      <th>Obesidade II (severa)</th>\n",
              "      <th>Obesidade III (móribida)</th>\n",
              "    </tr>\n",
              "    <tr>\n",
              "      <th>NOS ÚLTIMOS 7 DIAS, em quantos dias você comeu em restaurantes fast food, tais como lanchonetes, barracas de cachorro quentes, pizzaria etc?</th>\n",
              "      <th></th>\n",
              "      <th></th>\n",
              "      <th></th>\n",
              "      <th></th>\n",
              "      <th></th>\n",
              "      <th></th>\n",
              "      <th></th>\n",
              "    </tr>\n",
              "  </thead>\n",
              "  <tbody>\n",
              "    <tr>\n",
              "      <th>Não comi em restaurantes fast food nos últimos 7 dias (0 dia)</th>\n",
              "      <td>54.55</td>\n",
              "      <td>53.18</td>\n",
              "      <td>50.92</td>\n",
              "      <td>55.33</td>\n",
              "      <td>60.12</td>\n",
              "      <td>63.11</td>\n",
              "      <td>59.52</td>\n",
              "    </tr>\n",
              "    <tr>\n",
              "      <th>1 dia nos últimos 7 dias</th>\n",
              "      <td>20.67</td>\n",
              "      <td>20.01</td>\n",
              "      <td>20.93</td>\n",
              "      <td>20.37</td>\n",
              "      <td>18.81</td>\n",
              "      <td>17.48</td>\n",
              "      <td>11.90</td>\n",
              "    </tr>\n",
              "    <tr>\n",
              "      <th>2 dias nos últimos 7 dias</th>\n",
              "      <td>10.09</td>\n",
              "      <td>10.59</td>\n",
              "      <td>11.71</td>\n",
              "      <td>11.01</td>\n",
              "      <td>10.43</td>\n",
              "      <td>8.74</td>\n",
              "      <td>9.52</td>\n",
              "    </tr>\n",
              "    <tr>\n",
              "      <th>3 dias nos últimos 7 dias</th>\n",
              "      <td>5.06</td>\n",
              "      <td>6.53</td>\n",
              "      <td>6.63</td>\n",
              "      <td>5.56</td>\n",
              "      <td>4.09</td>\n",
              "      <td>5.83</td>\n",
              "      <td>9.52</td>\n",
              "    </tr>\n",
              "    <tr>\n",
              "      <th>4 dias nos últimos 7 dias</th>\n",
              "      <td>3.07</td>\n",
              "      <td>3.44</td>\n",
              "      <td>3.47</td>\n",
              "      <td>2.61</td>\n",
              "      <td>3.07</td>\n",
              "      <td>2.91</td>\n",
              "      <td>4.76</td>\n",
              "    </tr>\n",
              "    <tr>\n",
              "      <th>5 dias nos últimos 7 dias</th>\n",
              "      <td>2.12</td>\n",
              "      <td>2.19</td>\n",
              "      <td>2.20</td>\n",
              "      <td>1.93</td>\n",
              "      <td>1.02</td>\n",
              "      <td>0.00</td>\n",
              "      <td>2.38</td>\n",
              "    </tr>\n",
              "    <tr>\n",
              "      <th>6 dias nos últimos 7 dias</th>\n",
              "      <td>1.45</td>\n",
              "      <td>1.29</td>\n",
              "      <td>1.52</td>\n",
              "      <td>1.19</td>\n",
              "      <td>1.02</td>\n",
              "      <td>0.00</td>\n",
              "      <td>2.38</td>\n",
              "    </tr>\n",
              "    <tr>\n",
              "      <th>Todos os dias nos últimos 7 dias</th>\n",
              "      <td>2.70</td>\n",
              "      <td>2.66</td>\n",
              "      <td>2.39</td>\n",
              "      <td>1.70</td>\n",
              "      <td>1.23</td>\n",
              "      <td>1.94</td>\n",
              "      <td>0.00</td>\n",
              "    </tr>\n",
              "    <tr>\n",
              "      <th>Não informado</th>\n",
              "      <td>0.29</td>\n",
              "      <td>0.12</td>\n",
              "      <td>0.23</td>\n",
              "      <td>0.28</td>\n",
              "      <td>0.20</td>\n",
              "      <td>0.00</td>\n",
              "      <td>0.00</td>\n",
              "    </tr>\n",
              "  </tbody>\n",
              "</table>\n",
              "</div>"
            ],
            "text/plain": [
              "classificacao_imc                                   Muito abaixo do peso  ...  Obesidade III (móribida)\n",
              "NOS ÚLTIMOS 7 DIAS, em quantos dias você comeu ...                        ...                          \n",
              "Não comi em restaurantes fast food nos últimos ...                 54.55  ...                     59.52\n",
              "1 dia nos últimos 7 dias                                           20.67  ...                     11.90\n",
              "2 dias nos últimos 7 dias                                          10.09  ...                      9.52\n",
              "3 dias nos últimos 7 dias                                           5.06  ...                      9.52\n",
              "4 dias nos últimos 7 dias                                           3.07  ...                      4.76\n",
              "5 dias nos últimos 7 dias                                           2.12  ...                      2.38\n",
              "6 dias nos últimos 7 dias                                           1.45  ...                      2.38\n",
              "Todos os dias nos últimos 7 dias                                    2.70  ...                      0.00\n",
              "Não informado                                                       0.29  ...                      0.00\n",
              "\n",
              "[9 rows x 7 columns]"
            ]
          },
          "metadata": {
            "tags": []
          },
          "execution_count": 92
        }
      ]
    },
    {
      "cell_type": "code",
      "metadata": {
        "id": "je-hHctvwhf9"
      },
      "source": [
        "dic_auto_image = {\n",
        "1:\t'Muito satisfeito(a)',\n",
        "2:\t'Satisfeito(a)',\n",
        "3:\t'Indiferente',\n",
        "4:\t'Insatisfeito(a)',\n",
        "5:\t'Muito insatisfeito(a)',\n",
        "99:\t'Não informado'}"
      ],
      "execution_count": 99,
      "outputs": []
    },
    {
      "cell_type": "code",
      "metadata": {
        "colab": {
          "base_uri": "https://localhost:8080/",
          "height": 315
        },
        "id": "wtRrlhzppfJh",
        "outputId": "0fe91dad-5c1c-4272-f97f-8e9ba0cfa208"
      },
      "source": [
        "auto_imagem = round(pd.crosstab(dados['VB11007'], dados['classificacao_imc'], \n",
        "                                normalize='index',\n",
        "                                rownames=['Como você se sente em relação ao seu corpo?'],\n",
        "                                colnames=['IMC']) * 100, 2)\n",
        "auto_imagem.rename(index=dic_auto_image, inplace=True)\n",
        "auto_imagem"
      ],
      "execution_count": 101,
      "outputs": [
        {
          "output_type": "execute_result",
          "data": {
            "text/html": [
              "<div>\n",
              "<style scoped>\n",
              "    .dataframe tbody tr th:only-of-type {\n",
              "        vertical-align: middle;\n",
              "    }\n",
              "\n",
              "    .dataframe tbody tr th {\n",
              "        vertical-align: top;\n",
              "    }\n",
              "\n",
              "    .dataframe thead th {\n",
              "        text-align: right;\n",
              "    }\n",
              "</style>\n",
              "<table border=\"1\" class=\"dataframe\">\n",
              "  <thead>\n",
              "    <tr style=\"text-align: right;\">\n",
              "      <th>IMC</th>\n",
              "      <th>Muito abaixo do peso</th>\n",
              "      <th>Abaixo do peso</th>\n",
              "      <th>Peso normal</th>\n",
              "      <th>Acima do peso</th>\n",
              "      <th>Obesidade I</th>\n",
              "      <th>Obesidade II (severa)</th>\n",
              "      <th>Obesidade III (móribida)</th>\n",
              "    </tr>\n",
              "    <tr>\n",
              "      <th>Como você se sente em relação ao seu corpo?</th>\n",
              "      <th></th>\n",
              "      <th></th>\n",
              "      <th></th>\n",
              "      <th></th>\n",
              "      <th></th>\n",
              "      <th></th>\n",
              "      <th></th>\n",
              "    </tr>\n",
              "  </thead>\n",
              "  <tbody>\n",
              "    <tr>\n",
              "      <th>Muito satisfeito(a)</th>\n",
              "      <td>19.94</td>\n",
              "      <td>18.68</td>\n",
              "      <td>53.47</td>\n",
              "      <td>6.45</td>\n",
              "      <td>1.24</td>\n",
              "      <td>0.13</td>\n",
              "      <td>0.09</td>\n",
              "    </tr>\n",
              "    <tr>\n",
              "      <th>Satisfeito(a)</th>\n",
              "      <td>13.60</td>\n",
              "      <td>15.98</td>\n",
              "      <td>60.07</td>\n",
              "      <td>8.21</td>\n",
              "      <td>1.65</td>\n",
              "      <td>0.39</td>\n",
              "      <td>0.10</td>\n",
              "    </tr>\n",
              "    <tr>\n",
              "      <th>Indiferente</th>\n",
              "      <td>12.51</td>\n",
              "      <td>12.95</td>\n",
              "      <td>52.30</td>\n",
              "      <td>15.05</td>\n",
              "      <td>5.42</td>\n",
              "      <td>1.22</td>\n",
              "      <td>0.55</td>\n",
              "    </tr>\n",
              "    <tr>\n",
              "      <th>Insatisfeito(a)</th>\n",
              "      <td>8.94</td>\n",
              "      <td>10.49</td>\n",
              "      <td>52.41</td>\n",
              "      <td>19.65</td>\n",
              "      <td>6.66</td>\n",
              "      <td>1.33</td>\n",
              "      <td>0.52</td>\n",
              "    </tr>\n",
              "    <tr>\n",
              "      <th>Muito insatisfeito(a)</th>\n",
              "      <td>12.04</td>\n",
              "      <td>11.76</td>\n",
              "      <td>42.44</td>\n",
              "      <td>21.57</td>\n",
              "      <td>8.82</td>\n",
              "      <td>2.24</td>\n",
              "      <td>1.12</td>\n",
              "    </tr>\n",
              "    <tr>\n",
              "      <th>Não informado</th>\n",
              "      <td>16.02</td>\n",
              "      <td>16.57</td>\n",
              "      <td>57.46</td>\n",
              "      <td>7.73</td>\n",
              "      <td>1.10</td>\n",
              "      <td>0.55</td>\n",
              "      <td>0.55</td>\n",
              "    </tr>\n",
              "  </tbody>\n",
              "</table>\n",
              "</div>"
            ],
            "text/plain": [
              "IMC                                          Muito abaixo do peso  ...  Obesidade III (móribida)\n",
              "Como você se sente em relação ao seu corpo?                        ...                          \n",
              "Muito satisfeito(a)                                         19.94  ...                      0.09\n",
              "Satisfeito(a)                                               13.60  ...                      0.10\n",
              "Indiferente                                                 12.51  ...                      0.55\n",
              "Insatisfeito(a)                                              8.94  ...                      0.52\n",
              "Muito insatisfeito(a)                                       12.04  ...                      1.12\n",
              "Não informado                                               16.02  ...                      0.55\n",
              "\n",
              "[6 rows x 7 columns]"
            ]
          },
          "metadata": {
            "tags": []
          },
          "execution_count": 101
        }
      ]
    },
    {
      "cell_type": "code",
      "metadata": {
        "id": "GZvojN1IwKCS"
      },
      "source": [
        ""
      ],
      "execution_count": null,
      "outputs": []
    }
  ]
}